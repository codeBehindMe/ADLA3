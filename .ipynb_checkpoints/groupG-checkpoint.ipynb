{
 "cells": [
  {
   "cell_type": "markdown",
   "metadata": {},
   "source": [
    "# Assessment 3 - A new tool for detecting prostate cancers\n",
    "### Authors: Jeffrey Mills (28083938), \n",
    "\n",
    "**Required Libraries -** The following R libraries are referenced in this notebook\n",
    "* glmnet\n",
    "* ROCR\n",
    "---\n",
    "### Table of Contents\n",
    "\n",
    "[1. Exploratory Data Analysis](#1.-Exploratory-Data-Analysis)\n",
    "\n",
    "[2. EDA Report](#2.-EDA-Report)\n",
    "\n",
    "[3. XGBoost](#3.-XGBoost)\n",
    "\n",
    "[4. Random Forest](#4.-Random-Forest)\n",
    "\n",
    "---"
   ]
  },
  {
   "cell_type": "code",
   "execution_count": 180,
   "metadata": {
    "collapsed": true
   },
   "outputs": [],
   "source": [
    "# disable scientific notation and set to 4 digits\n",
    "options(scipen=999)\n",
    "options(digits=4)\n",
    "# set the default plot size\n",
    "options(repr.plot.width = 6)\n",
    "options(repr.plot.height = 4)\n",
    "seed=123"
   ]
  },
  {
   "cell_type": "code",
   "execution_count": 181,
   "metadata": {
    "collapsed": false
   },
   "outputs": [],
   "source": [
    "# install packages ggplot2 for more fancier plots and graphs\n",
    "# and psych for a more comprehensive stats package\n",
    "# only install if not already installed\n",
    "list.of.packages <- c(\"ggplot2\", \"psych\", \"ROCR\", \"leaps\", \"glmnet\", \"caret\", \"xgboost\", \"Matrix\", \"Ckmeans.1d.dp\", \n",
    "                     \"randomForest\", \"caretEnsemble\", \"MASS\", \"DMwR\", \"ROSE\", \"plyr\")\n",
    "new.packages <- list.of.packages[!(list.of.packages %in% installed.packages()[,\"Package\"])]\n",
    "if(length(new.packages)) install.packages(new.packages, repos=\"http://cran.uk.r-project.org\")"
   ]
  },
  {
   "cell_type": "code",
   "execution_count": 182,
   "metadata": {
    "collapsed": false
   },
   "outputs": [],
   "source": [
    "# import ggplot for some of the more fancier plots if needed\n",
    "library(\"ggplot2\")\n",
    "# import more comprehensive summary stats package\n",
    "library(psych)\n",
    "# import ROCR for easier model performance checking\n",
    "library(\"ROCR\")\n",
    "\n",
    "library(\"caret\")\n",
    "library(\"caretEnsemble\")\n",
    "library(\"MASS\")\n",
    "\n",
    "library(\"xgboost\")\n",
    "library(\"Matrix\")\n",
    "library(\"Ckmeans.1d.dp\")\n",
    "library(\"randomForest\")\n",
    "library(\"DMwR\")\n",
    "library(\"ROSE\")\n",
    "library(\"plyr\")"
   ]
  },
  {
   "cell_type": "code",
   "execution_count": 183,
   "metadata": {
    "collapsed": false
   },
   "outputs": [],
   "source": [
    "# import local utilities.R file\n",
    "source(\"./utilities.r\")"
   ]
  },
  {
   "cell_type": "markdown",
   "metadata": {},
   "source": [
    "## 1. Exploratory Data Analysis"
   ]
  },
  {
   "cell_type": "code",
   "execution_count": 184,
   "metadata": {
    "collapsed": true
   },
   "outputs": [],
   "source": [
    "prostate <- read.csv(\"./prostate.csv\")"
   ]
  },
  {
   "cell_type": "code",
   "execution_count": 185,
   "metadata": {
    "collapsed": false
   },
   "outputs": [],
   "source": [
    "# Before we do anything, dedicate 20% of our data to an unseen Test set.\n",
    "\n",
    "# 20% of the sample size\n",
    "smp_size <- floor(0.8 * nrow(prostate))\n",
    "\n",
    "set.seed(seed)\n",
    "train_ind <- sample(seq_len(nrow(prostate)), size = smp_size)\n",
    "\n",
    "train <- prostate[train_ind, ]\n",
    "test <- prostate[-train_ind, ]"
   ]
  },
  {
   "cell_type": "code",
   "execution_count": 186,
   "metadata": {
    "collapsed": false
   },
   "outputs": [
    {
     "data": {
      "text/html": [
       "<table>\n",
       "<thead><tr><th></th><th scope=col>ID</th><th scope=col>ATT1</th><th scope=col>ATT2</th><th scope=col>ATT3</th><th scope=col>ATT4</th><th scope=col>ATT5</th><th scope=col>ATT6</th><th scope=col>ATT7</th><th scope=col>ATT8</th><th scope=col>ATT9</th><th scope=col>ATT10</th><th scope=col>Result</th></tr></thead>\n",
       "<tbody>\n",
       "\t<tr><th scope=row>863</th><td>863</td><td>  5</td><td>  8</td><td> 10</td><td>  9</td><td>  2</td><td>  2</td><td>  8</td><td>  6</td><td>  2</td><td>  3</td><td>  0</td></tr>\n",
       "\t<tr><th scope=row>2365</th><td>2365</td><td>   4</td><td>   4</td><td>   2</td><td>   4</td><td>   4</td><td>   1</td><td>   3</td><td>   7</td><td>   3</td><td>   9</td><td>   0</td></tr>\n",
       "\t<tr><th scope=row>1227</th><td>1227</td><td>   7</td><td>   4</td><td>   9</td><td>   2</td><td>   4</td><td>   2</td><td>   3</td><td>   9</td><td>   9</td><td>   8</td><td>   0</td></tr>\n",
       "\t<tr><th scope=row>2647</th><td>2647</td><td>   5</td><td>   5</td><td>   7</td><td>   2</td><td>   4</td><td>   1</td><td>   8</td><td>  10</td><td>   1</td><td>   7</td><td>   3</td></tr>\n",
       "\t<tr><th scope=row>2818</th><td>2818</td><td>  10</td><td>   1</td><td>   2</td><td>   5</td><td>   7</td><td>   2</td><td>   8</td><td>   5</td><td>   9</td><td>   5</td><td>   1</td></tr>\n",
       "\t<tr><th scope=row>137</th><td>137</td><td>  8</td><td>  1</td><td>  2</td><td> 10</td><td> 10</td><td>  2</td><td>  2</td><td>  3</td><td>  1</td><td>  5</td><td>  0</td></tr>\n",
       "</tbody>\n",
       "</table>\n"
      ],
      "text/latex": [
       "\\begin{tabular}{r|llllllllllll}\n",
       "  & ID & ATT1 & ATT2 & ATT3 & ATT4 & ATT5 & ATT6 & ATT7 & ATT8 & ATT9 & ATT10 & Result\\\\\n",
       "\\hline\n",
       "\t863 & 863 &   5 &   8 &  10 &   9 &   2 &   2 &   8 &   6 &   2 &   3 &   0\\\\\n",
       "\t2365 & 2365 &    4 &    4 &    2 &    4 &    4 &    1 &    3 &    7 &    3 &    9 &    0\\\\\n",
       "\t1227 & 1227 &    7 &    4 &    9 &    2 &    4 &    2 &    3 &    9 &    9 &    8 &    0\\\\\n",
       "\t2647 & 2647 &    5 &    5 &    7 &    2 &    4 &    1 &    8 &   10 &    1 &    7 &    3\\\\\n",
       "\t2818 & 2818 &   10 &    1 &    2 &    5 &    7 &    2 &    8 &    5 &    9 &    5 &    1\\\\\n",
       "\t137 & 137 &   8 &   1 &   2 &  10 &  10 &   2 &   2 &   3 &   1 &   5 &   0\\\\\n",
       "\\end{tabular}\n"
      ],
      "text/plain": [
       "       ID ATT1 ATT2 ATT3 ATT4 ATT5 ATT6 ATT7 ATT8 ATT9 ATT10 Result\n",
       "863   863    5    8   10    9    2    2    8    6    2     3      0\n",
       "2365 2365    4    4    2    4    4    1    3    7    3     9      0\n",
       "1227 1227    7    4    9    2    4    2    3    9    9     8      0\n",
       "2647 2647    5    5    7    2    4    1    8   10    1     7      3\n",
       "2818 2818   10    1    2    5    7    2    8    5    9     5      1\n",
       "137   137    8    1    2   10   10    2    2    3    1     5      0"
      ]
     },
     "metadata": {},
     "output_type": "display_data"
    }
   ],
   "source": [
    "# Check the head of the dataframe\n",
    "head(train)"
   ]
  },
  {
   "cell_type": "code",
   "execution_count": 187,
   "metadata": {
    "collapsed": false
   },
   "outputs": [
    {
     "name": "stdout",
     "output_type": "stream",
     "text": [
      "'data.frame':\t2400 obs. of  12 variables:\n",
      " $ ID    : int  863 2365 1227 2647 2818 137 1582 2672 1650 1366 ...\n",
      " $ ATT1  : int  5 4 7 5 10 8 7 2 2 5 ...\n",
      " $ ATT2  : int  8 4 4 5 1 1 1 10 1 4 ...\n",
      " $ ATT3  : int  10 2 9 7 2 2 5 5 6 10 ...\n",
      " $ ATT4  : int  9 4 2 2 5 10 4 8 2 7 ...\n",
      " $ ATT5  : int  2 4 4 4 7 10 8 5 8 10 ...\n",
      " $ ATT6  : int  2 1 2 1 2 2 1 4 2 10 ...\n",
      " $ ATT7  : int  8 3 3 8 8 2 9 2 3 3 ...\n",
      " $ ATT8  : int  6 7 9 10 5 3 2 6 4 8 ...\n",
      " $ ATT9  : int  2 3 9 1 9 1 6 1 1 10 ...\n",
      " $ ATT10 : int  3 9 8 7 5 5 7 3 4 2 ...\n",
      " $ Result: int  0 0 0 3 1 0 0 2 2 1 ...\n"
     ]
    }
   ],
   "source": [
    "# Check structure of the datatypes\n",
    "str(train)"
   ]
  },
  {
   "cell_type": "markdown",
   "metadata": {},
   "source": [
    "We can drop the ID column as it adds no benefit to our modelling"
   ]
  },
  {
   "cell_type": "code",
   "execution_count": 188,
   "metadata": {
    "collapsed": false
   },
   "outputs": [],
   "source": [
    "train$ID <- NULL"
   ]
  },
  {
   "cell_type": "markdown",
   "metadata": {},
   "source": [
    "Given that we know the **Result** variable is our target variable which represents one of 4 stages of the cancer (0 for curable, and 1 for tumour stage, 2 for node stage and 3 for incurable cancers) - this should be represented as a factor. "
   ]
  },
  {
   "cell_type": "code",
   "execution_count": 189,
   "metadata": {
    "collapsed": false
   },
   "outputs": [],
   "source": [
    "train$Result <- as.factor(train$Result) "
   ]
  },
  {
   "cell_type": "code",
   "execution_count": 190,
   "metadata": {
    "collapsed": false
   },
   "outputs": [
    {
     "data": {
      "text/html": [
       "2400"
      ],
      "text/latex": [
       "2400"
      ],
      "text/markdown": [
       "2400"
      ],
      "text/plain": [
       "[1] 2400"
      ]
     },
     "metadata": {},
     "output_type": "display_data"
    }
   ],
   "source": [
    "# Let's check for incomplete observations\n",
    "nrow(train[complete.cases(train),])"
   ]
  },
  {
   "cell_type": "code",
   "execution_count": 191,
   "metadata": {
    "collapsed": false
   },
   "outputs": [
    {
     "name": "stdout",
     "output_type": "stream",
     "text": [
      "\n",
      "  0   1   2   3 \n",
      "868 876 495 161 \n"
     ]
    }
   ],
   "source": [
    "# Check the proportions of each factor within the Result variable in our train set\n",
    "print(table(train$Result))"
   ]
  },
  {
   "cell_type": "code",
   "execution_count": 192,
   "metadata": {
    "collapsed": false
   },
   "outputs": [
    {
     "name": "stdout",
     "output_type": "stream",
     "text": [
      "\n",
      "  0   1   2   3 \n",
      "214 204 147  35 \n"
     ]
    }
   ],
   "source": [
    "# Check the proportions of each factor within the Result variable in our test set\n",
    "print(table(test$Result))"
   ]
  },
  {
   "cell_type": "markdown",
   "metadata": {},
   "source": [
    "We have class imbalance. This will need to be addressed when training our models, potentially with some sampling techniques. "
   ]
  },
  {
   "cell_type": "code",
   "execution_count": 193,
   "metadata": {
    "collapsed": false
   },
   "outputs": [
    {
     "data": {
      "text/html": [
       "<table>\n",
       "<thead><tr><th></th><th scope=col>vars</th><th scope=col>n</th><th scope=col>mean</th><th scope=col>sd</th><th scope=col>median</th><th scope=col>trimmed</th><th scope=col>mad</th><th scope=col>min</th><th scope=col>max</th><th scope=col>range</th><th scope=col>skew</th><th scope=col>kurtosis</th><th scope=col>se</th></tr></thead>\n",
       "<tbody>\n",
       "\t<tr><th scope=row>ATT1</th><td>   1.000</td><td>2400.000</td><td>   5.835</td><td>   2.651</td><td>   6.000</td><td>   5.793</td><td>   2.965</td><td>   2.000</td><td>  10.000</td><td>   8.000</td><td>   0.098</td><td>  -1.160</td><td>   0.054</td></tr>\n",
       "\t<tr><th scope=row>ATT2</th><td>   2.000</td><td>2400.000</td><td>   4.510</td><td>   2.736</td><td>   4.000</td><td>   4.327</td><td>   2.965</td><td>   1.000</td><td>  10.000</td><td>   9.000</td><td>   0.401</td><td>  -0.972</td><td>   0.056</td></tr>\n",
       "\t<tr><th scope=row>ATT3</th><td>   3.000</td><td>2400.000</td><td>   5.865</td><td>   2.675</td><td>   6.000</td><td>   5.831</td><td>   2.965</td><td>   2.000</td><td>  10.000</td><td>   8.000</td><td>   0.090</td><td>  -1.189</td><td>   0.055</td></tr>\n",
       "\t<tr><th scope=row>ATT4</th><td>   4.000</td><td>2400.000</td><td>   5.807</td><td>   2.630</td><td>   6.000</td><td>   5.759</td><td>   2.965</td><td>   2.000</td><td>  10.000</td><td>   8.000</td><td>   0.090</td><td>  -1.154</td><td>   0.054</td></tr>\n",
       "\t<tr><th scope=row>ATT5</th><td>   5.000</td><td>2400.000</td><td>   5.767</td><td>   2.631</td><td>   6.000</td><td>   5.708</td><td>   2.965</td><td>   2.000</td><td>  10.000</td><td>   8.000</td><td>   0.111</td><td>  -1.144</td><td>   0.054</td></tr>\n",
       "\t<tr><th scope=row>ATT6</th><td>   6.000</td><td>2400.000</td><td>   4.450</td><td>   2.699</td><td>   4.000</td><td>   4.264</td><td>   2.965</td><td>   1.000</td><td>  10.000</td><td>   9.000</td><td>   0.433</td><td>  -0.947</td><td>   0.055</td></tr>\n",
       "\t<tr><th scope=row>ATT7</th><td>   7.000</td><td>2400.000</td><td>   4.474</td><td>   2.739</td><td>   4.000</td><td>   4.290</td><td>   2.965</td><td>   1.000</td><td>  10.000</td><td>   9.000</td><td>   0.399</td><td>  -1.026</td><td>   0.056</td></tr>\n",
       "\t<tr><th scope=row>ATT8</th><td>   8.000</td><td>2400.000</td><td>   4.499</td><td>   2.729</td><td>   4.000</td><td>   4.317</td><td>   2.965</td><td>   1.000</td><td>  10.000</td><td>   9.000</td><td>   0.386</td><td>  -0.978</td><td>   0.056</td></tr>\n",
       "\t<tr><th scope=row>ATT9</th><td>   9.000</td><td>2400.000</td><td>   4.484</td><td>   2.688</td><td>   4.000</td><td>   4.299</td><td>   2.965</td><td>   1.000</td><td>  10.000</td><td>   9.000</td><td>   0.412</td><td>  -0.918</td><td>   0.055</td></tr>\n",
       "\t<tr><th scope=row>ATT10</th><td>  10.000</td><td>2400.000</td><td>   4.451</td><td>   2.689</td><td>   4.000</td><td>   4.263</td><td>   2.965</td><td>   1.000</td><td>  10.000</td><td>   9.000</td><td>   0.412</td><td>  -0.935</td><td>   0.055</td></tr>\n",
       "\t<tr><th scope=row>Result*</th><td>  11.000</td><td>2400.000</td><td>   1.979</td><td>   0.914</td><td>   2.000</td><td>   1.890</td><td>   1.483</td><td>   1.000</td><td>   4.000</td><td>   3.000</td><td>   0.568</td><td>  -0.603</td><td>   0.019</td></tr>\n",
       "</tbody>\n",
       "</table>\n"
      ],
      "text/latex": [
       "\\begin{tabular}{r|lllllllllllll}\n",
       "  & vars & n & mean & sd & median & trimmed & mad & min & max & range & skew & kurtosis & se\\\\\n",
       "\\hline\n",
       "\tATT1 &    1.000 & 2400.000 &    5.835 &    2.651 &    6.000 &    5.793 &    2.965 &    2.000 &   10.000 &    8.000 &    0.098 &   -1.160 &    0.054\\\\\n",
       "\tATT2 &    2.000 & 2400.000 &    4.510 &    2.736 &    4.000 &    4.327 &    2.965 &    1.000 &   10.000 &    9.000 &    0.401 &   -0.972 &    0.056\\\\\n",
       "\tATT3 &    3.000 & 2400.000 &    5.865 &    2.675 &    6.000 &    5.831 &    2.965 &    2.000 &   10.000 &    8.000 &    0.090 &   -1.189 &    0.055\\\\\n",
       "\tATT4 &    4.000 & 2400.000 &    5.807 &    2.630 &    6.000 &    5.759 &    2.965 &    2.000 &   10.000 &    8.000 &    0.090 &   -1.154 &    0.054\\\\\n",
       "\tATT5 &    5.000 & 2400.000 &    5.767 &    2.631 &    6.000 &    5.708 &    2.965 &    2.000 &   10.000 &    8.000 &    0.111 &   -1.144 &    0.054\\\\\n",
       "\tATT6 &    6.000 & 2400.000 &    4.450 &    2.699 &    4.000 &    4.264 &    2.965 &    1.000 &   10.000 &    9.000 &    0.433 &   -0.947 &    0.055\\\\\n",
       "\tATT7 &    7.000 & 2400.000 &    4.474 &    2.739 &    4.000 &    4.290 &    2.965 &    1.000 &   10.000 &    9.000 &    0.399 &   -1.026 &    0.056\\\\\n",
       "\tATT8 &    8.000 & 2400.000 &    4.499 &    2.729 &    4.000 &    4.317 &    2.965 &    1.000 &   10.000 &    9.000 &    0.386 &   -0.978 &    0.056\\\\\n",
       "\tATT9 &    9.000 & 2400.000 &    4.484 &    2.688 &    4.000 &    4.299 &    2.965 &    1.000 &   10.000 &    9.000 &    0.412 &   -0.918 &    0.055\\\\\n",
       "\tATT10 &   10.000 & 2400.000 &    4.451 &    2.689 &    4.000 &    4.263 &    2.965 &    1.000 &   10.000 &    9.000 &    0.412 &   -0.935 &    0.055\\\\\n",
       "\tResult* &   11.000 & 2400.000 &    1.979 &    0.914 &    2.000 &    1.890 &    1.483 &    1.000 &    4.000 &    3.000 &    0.568 &   -0.603 &    0.019\\\\\n",
       "\\end{tabular}\n"
      ],
      "text/plain": [
       "        vars    n mean   sd median trimmed  mad min max range skew kurtosis\n",
       "ATT1       1 2400 5.84 2.65      6    5.79 2.96   2  10     8 0.10    -1.16\n",
       "ATT2       2 2400 4.51 2.74      4    4.33 2.96   1  10     9 0.40    -0.97\n",
       "ATT3       3 2400 5.87 2.67      6    5.83 2.96   2  10     8 0.09    -1.19\n",
       "ATT4       4 2400 5.81 2.63      6    5.76 2.96   2  10     8 0.09    -1.15\n",
       "ATT5       5 2400 5.77 2.63      6    5.71 2.96   2  10     8 0.11    -1.14\n",
       "ATT6       6 2400 4.45 2.70      4    4.26 2.96   1  10     9 0.43    -0.95\n",
       "ATT7       7 2400 4.47 2.74      4    4.29 2.96   1  10     9 0.40    -1.03\n",
       "ATT8       8 2400 4.50 2.73      4    4.32 2.96   1  10     9 0.39    -0.98\n",
       "ATT9       9 2400 4.48 2.69      4    4.30 2.96   1  10     9 0.41    -0.92\n",
       "ATT10     10 2400 4.45 2.69      4    4.26 2.96   1  10     9 0.41    -0.94\n",
       "Result*   11 2400 1.98 0.91      2    1.89 1.48   1   4     3 0.57    -0.60\n",
       "          se\n",
       "ATT1    0.05\n",
       "ATT2    0.06\n",
       "ATT3    0.06\n",
       "ATT4    0.05\n",
       "ATT5    0.05\n",
       "ATT6    0.06\n",
       "ATT7    0.06\n",
       "ATT8    0.06\n",
       "ATT9    0.06\n",
       "ATT10   0.06\n",
       "Result* 0.02"
      ]
     },
     "metadata": {},
     "output_type": "display_data"
    }
   ],
   "source": [
    "round(describe(train), 3)"
   ]
  },
  {
   "cell_type": "code",
   "execution_count": 194,
   "metadata": {
    "collapsed": false
   },
   "outputs": [
    {
     "data": {
      "image/png": "[encoded data removed]",
      "text/plain": [
       "plot without title"
      ]
     },
     "metadata": {},
     "output_type": "display_data"
    },
    {
     "data": {
      "image/png": "[encoded data removed]",
      "text/plain": [
       "plot without title"
      ]
     },
     "metadata": {},
     "output_type": "display_data"
    },
    {
     "data": {
      "image/png": "[encoded data removed]",
      "text/plain": [
       "plot without title"
      ]
     },
     "metadata": {},
     "output_type": "display_data"
    },
    {
     "data": {
      "image/png": "[encoded data removed]",
      "text/plain": [
       "plot without title"
      ]
     },
     "metadata": {},
     "output_type": "display_data"
    },
    {
     "data": {
      "image/png": "[encoded data removed]",
      "text/plain": [
       "plot without title"
      ]
     },
     "metadata": {},
     "output_type": "display_data"
    },
    {
     "data": {
      "image/png": "[encoded data removed]",
      "text/plain": [
       "plot without title"
      ]
     },
     "metadata": {},
     "output_type": "display_data"
    },
    {
     "data": {
      "image/png": "[encoded data removed]",
      "text/plain": [
       "plot without title"
      ]
     },
     "metadata": {},
     "output_type": "display_data"
    },
    {
     "data": {
      "image/png": "[encoded data removed]",
      "text/plain": [
       "plot without title"
      ]
     },
     "metadata": {},
     "output_type": "display_data"
    },
    {
     "data": {
      "image/png": "[encoded data removed]",
      "text/plain": [
       "plot without title"
      ]
     },
     "metadata": {},
     "output_type": "display_data"
    },
    {
     "data": {
      "image/png": "[encoded data removed]",
      "text/plain": [
       "plot without title"
      ]
     },
     "metadata": {},
     "output_type": "display_data"
    }
   ],
   "source": [
    "oldpar <- par() #this records all the default settings\n",
    "par(mfrow=c(1,2)) # this makes to plots in one row\n",
    "par(mar=c(2.1,4.1,2.1,1.1)) #BLTR\n",
    "options(repr.plot.width=8, repr.plot.height=2.5)\n",
    "for (i in names(train)) {\n",
    "    if (i != \"Result\") {\n",
    "        hist(train[[i]],xlab=NULL,main=NULL)\n",
    "        boxplot(train[[i]])\n",
    "        mtext(i,side=3,line=-2, outer=TRUE)\n",
    "    }\n",
    "}\n",
    "suppressWarnings( par(oldpar)) # Restore settings"
   ]
  },
  {
   "cell_type": "code",
   "execution_count": 195,
   "metadata": {
    "collapsed": false,
    "scrolled": false
   },
   "outputs": [
    {
     "data": {},
     "metadata": {},
     "output_type": "display_data"
    },
    {
     "data": {
      "image/png": "[encoded data removed]",
      "text/plain": [
       "plot without title"
      ]
     },
     "metadata": {},
     "output_type": "display_data"
    }
   ],
   "source": [
    "options(repr.plot.width = 3)\n",
    "options(repr.plot.height = 2)\n",
    "ggplot(train, aes(x = Result, y = ATT1)) + geom_boxplot()\n",
    "#ggplot(train, aes(x = Result, y = ATT2)) + geom_boxplot()\n",
    "#ggplot(train, aes(x = Result, y = ATT3)) + geom_boxplot()\n",
    "#ggplot(train, aes(x = Result, y = ATT4)) + geom_boxplot()\n",
    "#ggplot(train, aes(x = Result, y = ATT5)) + geom_boxplot()\n",
    "#ggplot(train, aes(x = Result, y = ATT6)) + geom_boxplot()\n",
    "#ggplot(train, aes(x = Result, y = ATT7)) + geom_boxplot()\n",
    "#ggplot(train, aes(x = Result, y = ATT8)) + geom_boxplot()\n",
    "#ggplot(train, aes(x = Result, y = ATT9)) + geom_boxplot()\n",
    "#ggplot(train, aes(x = Result, y = ATT10)) + geom_boxplot()\n",
    "options(repr.plot.width = 6)\n",
    "options(repr.plot.height = 4)"
   ]
  },
  {
   "cell_type": "code",
   "execution_count": 196,
   "metadata": {
    "collapsed": false
   },
   "outputs": [
    {
     "data": {},
     "metadata": {},
     "output_type": "display_data"
    },
    {
     "data": {
      "image/png": "[encoded data removed]",
      "text/plain": [
       "plot without title"
      ]
     },
     "metadata": {},
     "output_type": "display_data"
    }
   ],
   "source": [
    "ggplot(aes(x=Result, y=ATT1, color=Result),  #by setting color=color, ggplot automatically draw in different colors\n",
    "       data=train) + geom_point(stat='summary', fun.y=median)"
   ]
  },
  {
   "cell_type": "code",
   "execution_count": 197,
   "metadata": {
    "collapsed": false
   },
   "outputs": [
    {
     "data": {},
     "metadata": {},
     "output_type": "display_data"
    },
    {
     "data": {
      "image/png": "[encoded data removed]",
      "text/plain": [
       "plot without title"
      ]
     },
     "metadata": {},
     "output_type": "display_data"
    }
   ],
   "source": [
    "qplot(ATT1, ATT2, colour=Result, data=train)"
   ]
  },
  {
   "cell_type": "markdown",
   "metadata": {},
   "source": [
    "# 2. EDA Report"
   ]
  },
  {
   "cell_type": "markdown",
   "metadata": {},
   "source": [
    "Perform an EDA, and prepare a summary of your findings. The summary should be less than 300 words. You need to emphasise on the aspects of the EDA that guide you in choosing a particular model or algorithm for your classifier. If you want to include any chart in your notebook, there should be something you have learnt and you are going to use it in your model selection. Please provide a short explanation on what you have learnt just after the cell. In addition, types of variables, the dimension of the data, and any correlation between variables are very important. Also, you might need to look at some distribution of your variables to get some insights."
   ]
  },
  {
   "cell_type": "code",
   "execution_count": null,
   "metadata": {
    "collapsed": true
   },
   "outputs": [],
   "source": []
  },
  {
   "cell_type": "markdown",
   "metadata": {},
   "source": [
    "---\n",
    "# 3. XGBoost"
   ]
  },
  {
   "cell_type": "code",
   "execution_count": 198,
   "metadata": {
    "collapsed": false
   },
   "outputs": [],
   "source": [
    "# perform down sampling to obtain even amount of classes\n",
    "#xg_train <- Udf.Utilities.DownSample(train)\n",
    "xg_train <- Udf.Utilities.UpSample(train)\n",
    "#xg_train <- Udf.Utilities.SmoteSample(train)\n",
    "\n",
    "xg_test <- test"
   ]
  },
  {
   "cell_type": "code",
   "execution_count": 199,
   "metadata": {
    "collapsed": false
   },
   "outputs": [
    {
     "data": {
      "text/plain": [
       "\n",
       "  0   1   2   3 \n",
       "876 876 876 876 "
      ]
     },
     "metadata": {},
     "output_type": "display_data"
    }
   ],
   "source": [
    "# Check the proportions of each factor within the Result variable\n",
    "w <- table(xg_train$Result)\n",
    "w"
   ]
  },
  {
   "cell_type": "code",
   "execution_count": 200,
   "metadata": {
    "collapsed": false
   },
   "outputs": [],
   "source": [
    "# store the actuals for future comparison\n",
    "actual <- test$Result"
   ]
  },
  {
   "cell_type": "code",
   "execution_count": 201,
   "metadata": {
    "collapsed": false
   },
   "outputs": [],
   "source": [
    "# set the Result to a numeric range from 0 - 3\n",
    "xg_train.y <- as.numeric(xg_train$Result)-1\n",
    "xg_test.y <- as.numeric(test$Result)-1"
   ]
  },
  {
   "cell_type": "code",
   "execution_count": 202,
   "metadata": {
    "collapsed": false
   },
   "outputs": [],
   "source": [
    "# convert to matrix for boosting method\n",
    "xg_train <- sparse.model.matrix(Result ~ ., data = xg_train)\n",
    "dtrain <- xgb.DMatrix(data=xg_train, label=xg_train.y)"
   ]
  },
  {
   "cell_type": "code",
   "execution_count": 203,
   "metadata": {
    "collapsed": true
   },
   "outputs": [],
   "source": [
    "xg_test <- sparse.model.matrix(Result ~ ., data = xg_test)\n",
    "dtest <- xgb.DMatrix(data=xg_test, label=xg_test.y)"
   ]
  },
  {
   "cell_type": "code",
   "execution_count": 204,
   "metadata": {
    "collapsed": true
   },
   "outputs": [],
   "source": [
    "watchlist <- list(xg_train=dtrain)"
   ]
  },
  {
   "cell_type": "code",
   "execution_count": 205,
   "metadata": {
    "collapsed": false,
    "scrolled": true
   },
   "outputs": [
    {
     "name": "stdout",
     "output_type": "stream",
     "text": [
      "[0]\ttrain-merror:0.508879+0.012468\ttest-merror:0.624680+0.024307\n",
      "[20]\ttrain-merror:0.176560+0.008523\ttest-merror:0.468025+0.029982\n",
      "[40]\ttrain-merror:0.100583+0.002541\ttest-merror:0.418943+0.031163\n",
      "[60]\ttrain-merror:0.061802+0.002610\ttest-merror:0.406106+0.027163\n",
      "[80]\ttrain-merror:0.036307+0.002331\ttest-merror:0.396708+0.024365\n",
      "[100]\ttrain-merror:0.021911+0.001830\ttest-merror:0.384998+0.024580\n",
      "[120]\ttrain-merror:0.013667+0.001957\ttest-merror:0.381288+0.025276\n",
      "[140]\ttrain-merror:0.007325+0.001342\ttest-merror:0.372162+0.028310\n",
      "[160]\ttrain-merror:0.004027+0.000748\ttest-merror:0.369870+0.031357\n",
      "[180]\ttrain-merror:0.002030+0.000477\ttest-merror:0.369019+0.029462\n",
      "[200]\ttrain-merror:0.001237+0.000484\ttest-merror:0.369307+0.028689\n",
      "[220]\ttrain-merror:0.000634+0.000473\ttest-merror:0.369020+0.025303\n",
      "[240]\ttrain-merror:0.000190+0.000401\ttest-merror:0.368169+0.024413\n",
      "[260]\ttrain-merror:0.000000+0.000000\ttest-merror:0.367882+0.024541\n",
      "[280]\ttrain-merror:0.000000+0.000000\ttest-merror:0.366731+0.021838\n",
      "[300]\ttrain-merror:0.000000+0.000000\ttest-merror:0.363602+0.023643\n",
      "[320]\ttrain-merror:0.000000+0.000000\ttest-merror:0.364737+0.018533\n",
      "[340]\ttrain-merror:0.000000+0.000000\ttest-merror:0.365025+0.023518\n",
      "[360]\ttrain-merror:0.000000+0.000000\ttest-merror:0.364730+0.023701\n",
      "[380]\ttrain-merror:0.000000+0.000000\ttest-merror:0.367016+0.022210\n",
      "[400]\ttrain-merror:0.000000+0.000000\ttest-merror:0.366732+0.020324\n",
      "[420]\ttrain-merror:0.000000+0.000000\ttest-merror:0.365306+0.020592\n",
      "[440]\ttrain-merror:0.000000+0.000000\ttest-merror:0.367872+0.022163\n",
      "[460]\ttrain-merror:0.000000+0.000000\ttest-merror:0.368727+0.021374\n",
      "[480]\ttrain-merror:0.000000+0.000000\ttest-merror:0.368439+0.019813\n"
     ]
    }
   ],
   "source": [
    "# cross validate to select optimal value for number of rounds\n",
    "set.seed(seed)\n",
    "n_rounds.cv <- 500\n",
    "params <- list(booster = \"gbtree\", objective = \"multi:softmax\",\n",
    "               num_class = 4, eval_metric = 'merror',\n",
    "               max_depth = 6, eta = 0.1,\n",
    "               colsample_bytree = 0.9, subsample = 0.9)\n",
    "\n",
    "bst.cv <- xgb.cv(params, dtrain, n_rounds.cv, nfold = 10, metrics = {'merror'},\n",
    "                 print.every.n = 20, prediction = TRUE)"
   ]
  },
  {
   "cell_type": "code",
   "execution_count": 206,
   "metadata": {
    "collapsed": false
   },
   "outputs": [
    {
     "data": {
      "text/html": [
       "306"
      ],
      "text/latex": [
       "306"
      ],
      "text/markdown": [
       "306"
      ],
      "text/plain": [
       "[1] 306"
      ]
     },
     "metadata": {},
     "output_type": "display_data"
    }
   ],
   "source": [
    "n_rounds.train <- which.min(bst.cv$dt[, test.merror.mean])\n",
    "n_rounds.train"
   ]
  },
  {
   "cell_type": "code",
   "execution_count": 207,
   "metadata": {
    "collapsed": false,
    "scrolled": true
   },
   "outputs": [
    {
     "name": "stdout",
     "output_type": "stream",
     "text": [
      "[0]\txg_train-merror:0.481735\n",
      "[1]\txg_train-merror:0.431221\n",
      "[2]\txg_train-merror:0.384132\n",
      "[3]\txg_train-merror:0.363870\n",
      "[4]\txg_train-merror:0.333048\n",
      "[5]\txg_train-merror:0.309075\n",
      "[6]\txg_train-merror:0.301941\n",
      "[7]\txg_train-merror:0.283390\n",
      "[8]\txg_train-merror:0.272260\n",
      "[9]\txg_train-merror:0.261701\n",
      "[10]\txg_train-merror:0.253995\n",
      "[11]\txg_train-merror:0.251142\n",
      "[12]\txg_train-merror:0.242295\n",
      "[13]\txg_train-merror:0.227740\n",
      "[14]\txg_train-merror:0.218893\n",
      "[15]\txg_train-merror:0.213756\n",
      "[16]\txg_train-merror:0.204053\n",
      "[17]\txg_train-merror:0.196062\n",
      "[18]\txg_train-merror:0.192922\n",
      "[19]\txg_train-merror:0.194064\n",
      "[20]\txg_train-merror:0.183505\n",
      "[21]\txg_train-merror:0.178368\n",
      "[22]\txg_train-merror:0.175799\n",
      "[23]\txg_train-merror:0.167808\n",
      "[24]\txg_train-merror:0.160674\n",
      "[25]\txg_train-merror:0.162671\n",
      "[26]\txg_train-merror:0.154110\n",
      "[27]\txg_train-merror:0.150685\n",
      "[28]\txg_train-merror:0.145263\n",
      "[29]\txg_train-merror:0.144121\n",
      "[30]\txg_train-merror:0.141838\n",
      "[31]\txg_train-merror:0.138128\n",
      "[32]\txg_train-merror:0.136986\n",
      "[33]\txg_train-merror:0.131564\n",
      "[34]\txg_train-merror:0.131564\n",
      "[35]\txg_train-merror:0.129281\n",
      "[36]\txg_train-merror:0.125285\n",
      "[37]\txg_train-merror:0.120719\n",
      "[38]\txg_train-merror:0.120719\n",
      "[39]\txg_train-merror:0.117009\n",
      "[40]\txg_train-merror:0.111872\n",
      "[41]\txg_train-merror:0.109589\n",
      "[42]\txg_train-merror:0.109018\n",
      "[43]\txg_train-merror:0.103881\n",
      "[44]\txg_train-merror:0.103311\n",
      "[45]\txg_train-merror:0.099600\n",
      "[46]\txg_train-merror:0.096461\n",
      "[47]\txg_train-merror:0.091895\n",
      "[48]\txg_train-merror:0.089612\n",
      "[49]\txg_train-merror:0.088185\n",
      "[50]\txg_train-merror:0.083619\n",
      "[51]\txg_train-merror:0.083048\n",
      "[52]\txg_train-merror:0.079909\n",
      "[53]\txg_train-merror:0.078482\n",
      "[54]\txg_train-merror:0.073630\n",
      "[55]\txg_train-merror:0.073916\n",
      "[56]\txg_train-merror:0.074486\n",
      "[57]\txg_train-merror:0.071632\n",
      "[58]\txg_train-merror:0.069635\n",
      "[59]\txg_train-merror:0.069635\n",
      "[60]\txg_train-merror:0.067637\n",
      "[61]\txg_train-merror:0.066210\n",
      "[62]\txg_train-merror:0.064783\n",
      "[63]\txg_train-merror:0.062215\n",
      "[64]\txg_train-merror:0.059646\n",
      "[65]\txg_train-merror:0.058790\n",
      "[66]\txg_train-merror:0.054509\n",
      "[67]\txg_train-merror:0.053938\n",
      "[68]\txg_train-merror:0.053368\n",
      "[69]\txg_train-merror:0.051370\n",
      "[70]\txg_train-merror:0.050799\n",
      "[71]\txg_train-merror:0.049372\n",
      "[72]\txg_train-merror:0.048231\n",
      "[73]\txg_train-merror:0.048516\n",
      "[74]\txg_train-merror:0.047374\n",
      "[75]\txg_train-merror:0.044806\n",
      "[76]\txg_train-merror:0.045377\n",
      "[77]\txg_train-merror:0.043094\n",
      "[78]\txg_train-merror:0.041381\n",
      "[79]\txg_train-merror:0.041381\n",
      "[80]\txg_train-merror:0.039384\n",
      "[81]\txg_train-merror:0.037957\n",
      "[82]\txg_train-merror:0.035959\n",
      "[83]\txg_train-merror:0.036244\n",
      "[84]\txg_train-merror:0.035103\n",
      "[85]\txg_train-merror:0.034817\n",
      "[86]\txg_train-merror:0.033676\n",
      "[87]\txg_train-merror:0.033105\n",
      "[88]\txg_train-merror:0.032820\n",
      "[89]\txg_train-merror:0.031107\n",
      "[90]\txg_train-merror:0.030251\n",
      "[91]\txg_train-merror:0.029110\n",
      "[92]\txg_train-merror:0.028824\n",
      "[93]\txg_train-merror:0.029395\n",
      "[94]\txg_train-merror:0.029395\n",
      "[95]\txg_train-merror:0.027683\n",
      "[96]\txg_train-merror:0.027683\n",
      "[97]\txg_train-merror:0.027397\n",
      "[98]\txg_train-merror:0.026256\n",
      "[99]\txg_train-merror:0.026541\n",
      "[100]\txg_train-merror:0.025400\n",
      "[101]\txg_train-merror:0.024829\n",
      "[102]\txg_train-merror:0.024543\n",
      "[103]\txg_train-merror:0.024543\n",
      "[104]\txg_train-merror:0.023973\n",
      "[105]\txg_train-merror:0.022831\n",
      "[106]\txg_train-merror:0.021689\n",
      "[107]\txg_train-merror:0.021119\n",
      "[108]\txg_train-merror:0.020833\n",
      "[109]\txg_train-merror:0.019406\n",
      "[110]\txg_train-merror:0.019977\n",
      "[111]\txg_train-merror:0.019977\n",
      "[112]\txg_train-merror:0.019692\n",
      "[113]\txg_train-merror:0.018836\n",
      "[114]\txg_train-merror:0.017979\n",
      "[115]\txg_train-merror:0.017979\n",
      "[116]\txg_train-merror:0.016553\n",
      "[117]\txg_train-merror:0.014840\n",
      "[118]\txg_train-merror:0.014555\n",
      "[119]\txg_train-merror:0.014555\n",
      "[120]\txg_train-merror:0.013984\n",
      "[121]\txg_train-merror:0.014555\n",
      "[122]\txg_train-merror:0.013984\n",
      "[123]\txg_train-merror:0.013413\n",
      "[124]\txg_train-merror:0.013699\n",
      "[125]\txg_train-merror:0.013128\n",
      "[126]\txg_train-merror:0.012842\n",
      "[127]\txg_train-merror:0.012557\n",
      "[128]\txg_train-merror:0.011986\n",
      "[129]\txg_train-merror:0.011986\n",
      "[130]\txg_train-merror:0.012272\n",
      "[131]\txg_train-merror:0.010845\n",
      "[132]\txg_train-merror:0.010845\n",
      "[133]\txg_train-merror:0.010845\n",
      "[134]\txg_train-merror:0.010559\n",
      "[135]\txg_train-merror:0.010845\n",
      "[136]\txg_train-merror:0.011130\n",
      "[137]\txg_train-merror:0.010274\n",
      "[138]\txg_train-merror:0.009703\n",
      "[139]\txg_train-merror:0.009418\n",
      "[140]\txg_train-merror:0.009989\n",
      "[141]\txg_train-merror:0.009989\n",
      "[142]\txg_train-merror:0.009989\n",
      "[143]\txg_train-merror:0.009418\n",
      "[144]\txg_train-merror:0.009703\n",
      "[145]\txg_train-merror:0.009418\n",
      "[146]\txg_train-merror:0.008276\n",
      "[147]\txg_train-merror:0.008276\n",
      "[148]\txg_train-merror:0.007705\n",
      "[149]\txg_train-merror:0.007705\n",
      "[150]\txg_train-merror:0.008276\n",
      "[151]\txg_train-merror:0.007705\n",
      "[152]\txg_train-merror:0.007705\n",
      "[153]\txg_train-merror:0.007135\n",
      "[154]\txg_train-merror:0.006849\n",
      "[155]\txg_train-merror:0.005137\n",
      "[156]\txg_train-merror:0.005422\n",
      "[157]\txg_train-merror:0.005137\n",
      "[158]\txg_train-merror:0.005422\n",
      "[159]\txg_train-merror:0.005137\n",
      "[160]\txg_train-merror:0.005137\n",
      "[161]\txg_train-merror:0.005137\n",
      "[162]\txg_train-merror:0.005137\n",
      "[163]\txg_train-merror:0.004852\n",
      "[164]\txg_train-merror:0.003995\n",
      "[165]\txg_train-merror:0.003710\n",
      "[166]\txg_train-merror:0.003710\n",
      "[167]\txg_train-merror:0.003425\n",
      "[168]\txg_train-merror:0.003425\n",
      "[169]\txg_train-merror:0.003139\n",
      "[170]\txg_train-merror:0.003425\n",
      "[171]\txg_train-merror:0.003139\n",
      "[172]\txg_train-merror:0.002854\n",
      "[173]\txg_train-merror:0.002854\n",
      "[174]\txg_train-merror:0.002854\n",
      "[175]\txg_train-merror:0.003139\n",
      "[176]\txg_train-merror:0.002854\n",
      "[177]\txg_train-merror:0.002854\n",
      "[178]\txg_train-merror:0.002854\n",
      "[179]\txg_train-merror:0.002568\n",
      "[180]\txg_train-merror:0.002568\n",
      "[181]\txg_train-merror:0.002568\n",
      "[182]\txg_train-merror:0.002568\n",
      "[183]\txg_train-merror:0.002568\n",
      "[184]\txg_train-merror:0.002568\n",
      "[185]\txg_train-merror:0.002568\n",
      "[186]\txg_train-merror:0.002568\n",
      "[187]\txg_train-merror:0.002568\n",
      "[188]\txg_train-merror:0.002568\n",
      "[189]\txg_train-merror:0.002568\n",
      "[190]\txg_train-merror:0.002283\n",
      "[191]\txg_train-merror:0.002283\n",
      "[192]\txg_train-merror:0.002283\n",
      "[193]\txg_train-merror:0.002283\n",
      "[194]\txg_train-merror:0.002283\n",
      "[195]\txg_train-merror:0.001998\n",
      "[196]\txg_train-merror:0.001998\n",
      "[197]\txg_train-merror:0.001998\n",
      "[198]\txg_train-merror:0.001998\n",
      "[199]\txg_train-merror:0.001998\n",
      "[200]\txg_train-merror:0.001998\n",
      "[201]\txg_train-merror:0.001998\n",
      "[202]\txg_train-merror:0.001998\n",
      "[203]\txg_train-merror:0.001998\n",
      "[204]\txg_train-merror:0.001998\n",
      "[205]\txg_train-merror:0.001998\n",
      "[206]\txg_train-merror:0.001998\n",
      "[207]\txg_train-merror:0.001712\n",
      "[208]\txg_train-merror:0.001427\n",
      "[209]\txg_train-merror:0.001427\n",
      "[210]\txg_train-merror:0.001427\n",
      "[211]\txg_train-merror:0.001142\n",
      "[212]\txg_train-merror:0.001142\n",
      "[213]\txg_train-merror:0.001142\n",
      "[214]\txg_train-merror:0.001142\n",
      "[215]\txg_train-merror:0.001142\n",
      "[216]\txg_train-merror:0.001142\n",
      "[217]\txg_train-merror:0.001142\n",
      "[218]\txg_train-merror:0.000856\n",
      "[219]\txg_train-merror:0.000856\n",
      "[220]\txg_train-merror:0.000856\n",
      "[221]\txg_train-merror:0.000571\n",
      "[222]\txg_train-merror:0.000571\n",
      "[223]\txg_train-merror:0.000571\n",
      "[224]\txg_train-merror:0.000856\n",
      "[225]\txg_train-merror:0.000571\n",
      "[226]\txg_train-merror:0.000856\n",
      "[227]\txg_train-merror:0.000856\n",
      "[228]\txg_train-merror:0.000856\n",
      "[229]\txg_train-merror:0.000856\n",
      "[230]\txg_train-merror:0.000856\n",
      "[231]\txg_train-merror:0.000571\n",
      "[232]\txg_train-merror:0.000856\n",
      "[233]\txg_train-merror:0.000856\n",
      "[234]\txg_train-merror:0.000856\n",
      "[235]\txg_train-merror:0.000571\n",
      "[236]\txg_train-merror:0.000571\n",
      "[237]\txg_train-merror:0.000571\n",
      "[238]\txg_train-merror:0.000571\n",
      "[239]\txg_train-merror:0.000571\n",
      "[240]\txg_train-merror:0.000571\n",
      "[241]\txg_train-merror:0.000285\n",
      "[242]\txg_train-merror:0.000285\n",
      "[243]\txg_train-merror:0.000285\n",
      "[244]\txg_train-merror:0.000285\n",
      "[245]\txg_train-merror:0.000285\n",
      "[246]\txg_train-merror:0.000000\n",
      "[247]\txg_train-merror:0.000285\n",
      "[248]\txg_train-merror:0.000285\n",
      "[249]\txg_train-merror:0.000285\n",
      "[250]\txg_train-merror:0.000285\n",
      "[251]\txg_train-merror:0.000000\n",
      "[252]\txg_train-merror:0.000000\n",
      "[253]\txg_train-merror:0.000000\n",
      "[254]\txg_train-merror:0.000000\n",
      "[255]\txg_train-merror:0.000000\n",
      "[256]\txg_train-merror:0.000000\n",
      "[257]\txg_train-merror:0.000000\n",
      "[258]\txg_train-merror:0.000000\n",
      "[259]\txg_train-merror:0.000000\n",
      "[260]\txg_train-merror:0.000285\n",
      "[261]\txg_train-merror:0.000285\n",
      "[262]\txg_train-merror:0.000000\n",
      "[263]\txg_train-merror:0.000000\n",
      "[264]\txg_train-merror:0.000000\n",
      "[265]\txg_train-merror:0.000000\n",
      "[266]\txg_train-merror:0.000000\n",
      "[267]\txg_train-merror:0.000000\n",
      "[268]\txg_train-merror:0.000000\n",
      "[269]\txg_train-merror:0.000000\n",
      "[270]\txg_train-merror:0.000000\n",
      "[271]\txg_train-merror:0.000000\n",
      "[272]\txg_train-merror:0.000000\n",
      "[273]\txg_train-merror:0.000000\n",
      "[274]\txg_train-merror:0.000000\n",
      "[275]\txg_train-merror:0.000000\n",
      "[276]\txg_train-merror:0.000000\n",
      "[277]\txg_train-merror:0.000000\n",
      "[278]\txg_train-merror:0.000000\n",
      "[279]\txg_train-merror:0.000000\n",
      "[280]\txg_train-merror:0.000000\n",
      "[281]\txg_train-merror:0.000000\n",
      "[282]\txg_train-merror:0.000000\n",
      "[283]\txg_train-merror:0.000000\n",
      "[284]\txg_train-merror:0.000000\n",
      "[285]\txg_train-merror:0.000000\n",
      "[286]\txg_train-merror:0.000000\n",
      "[287]\txg_train-merror:0.000000\n",
      "[288]\txg_train-merror:0.000000\n",
      "[289]\txg_train-merror:0.000000\n",
      "[290]\txg_train-merror:0.000000\n",
      "[291]\txg_train-merror:0.000000\n",
      "[292]\txg_train-merror:0.000000\n",
      "[293]\txg_train-merror:0.000000\n",
      "[294]\txg_train-merror:0.000000\n",
      "[295]\txg_train-merror:0.000000\n",
      "[296]\txg_train-merror:0.000000\n",
      "[297]\txg_train-merror:0.000000\n",
      "[298]\txg_train-merror:0.000000\n",
      "[299]\txg_train-merror:0.000000\n",
      "[300]\txg_train-merror:0.000000\n",
      "[301]\txg_train-merror:0.000000\n",
      "[302]\txg_train-merror:0.000000\n",
      "[303]\txg_train-merror:0.000000\n",
      "[304]\txg_train-merror:0.000000\n",
      "[305]\txg_train-merror:0.000000\n"
     ]
    }
   ],
   "source": [
    "# create the model\n",
    "bst <- xgb.train(   params              = params, \n",
    "                    data                = dtrain, \n",
    "                    nrounds             = n_rounds.train, \n",
    "                    verbose             = 1,\n",
    "                    watchlist           = watchlist,\n",
    "                    maximize            = FALSE\n",
    ")"
   ]
  },
  {
   "cell_type": "code",
   "execution_count": 208,
   "metadata": {
    "collapsed": true
   },
   "outputs": [],
   "source": [
    "# generate predictions from model\n",
    "pred <- predict(bst, xg_test);"
   ]
  },
  {
   "cell_type": "code",
   "execution_count": 209,
   "metadata": {
    "collapsed": false
   },
   "outputs": [
    {
     "data": {
      "text/plain": [
       "Confusion Matrix and Statistics\n",
       "\n",
       "          Reference\n",
       "Prediction  0  1  2  3\n",
       "         0 87 74 53 14\n",
       "         1 96 96 65 15\n",
       "         2 26 26 19  6\n",
       "         3  5  8 10  0\n",
       "\n",
       "Overall Statistics\n",
       "                                        \n",
       "               Accuracy : 0.337         \n",
       "                 95% CI : (0.299, 0.376)\n",
       "    No Information Rate : 0.357         \n",
       "    P-Value [Acc > NIR] : 0.857         \n",
       "                                        \n",
       "                  Kappa : 0.02          \n",
       " Mcnemar's Test P-Value : 0.00000254    \n",
       "\n",
       "Statistics by Class:\n",
       "\n",
       "                     Class: 0 Class: 1 Class: 2 Class: 3\n",
       "Sensitivity             0.407    0.471   0.1293   0.0000\n",
       "Specificity             0.635    0.556   0.8720   0.9593\n",
       "Pos Pred Value          0.382    0.353   0.2468   0.0000\n",
       "Neg Pred Value          0.659    0.671   0.7553   0.9393\n",
       "Prevalence              0.357    0.340   0.2450   0.0583\n",
       "Detection Rate          0.145    0.160   0.0317   0.0000\n",
       "Detection Prevalence    0.380    0.453   0.1283   0.0383\n",
       "Balanced Accuracy       0.521    0.513   0.5006   0.4796"
      ]
     },
     "metadata": {},
     "output_type": "display_data"
    }
   ],
   "source": [
    "confusionMatrix(pred, actual)"
   ]
  },
  {
   "cell_type": "code",
   "execution_count": 210,
   "metadata": {
    "collapsed": false
   },
   "outputs": [
    {
     "data": {
      "text/html": [
       "<table>\n",
       "<thead><tr><th></th><th scope=col>Feature</th><th scope=col>Gain</th><th scope=col>Cover</th><th scope=col>Frequence</th></tr></thead>\n",
       "<tbody>\n",
       "\t<tr><th scope=row>1</th><td>ATT1              </td><td>0.10390966550576  </td><td>0.0981755346404982</td><td>0.101203491675419 </td></tr>\n",
       "\t<tr><th scope=row>2</th><td>ATT8             </td><td>0.102791930874813</td><td>0.099764665068689</td><td>0.104337046538455</td></tr>\n",
       "\t<tr><th scope=row>3</th><td>ATT6             </td><td>0.102218151576762</td><td>0.100768030999155</td><td>0.100377059623629</td></tr>\n",
       "\t<tr><th scope=row>4</th><td>ATT9             </td><td>0.101283366999252</td><td>0.119313919615232</td><td>0.102408705084279</td></tr>\n",
       "\t<tr><th scope=row>5</th><td>ATT3              </td><td>0.100779416609292 </td><td>0.0879046412291317</td><td>0.0962276820302681</td></tr>\n",
       "\t<tr><th scope=row>6</th><td>ATT4              </td><td>0.100654424779475 </td><td>0.0885402422921847</td><td>0.0981904581532687</td></tr>\n",
       "</tbody>\n",
       "</table>\n"
      ],
      "text/latex": [
       "\\begin{tabular}{r|llll}\n",
       "  & Feature & Gain & Cover & Frequence\\\\\n",
       "\\hline\n",
       "\t1 & ATT1               & 0.10390966550576   & 0.0981755346404982 & 0.101203491675419 \\\\\n",
       "\t2 & ATT8              & 0.102791930874813 & 0.099764665068689 & 0.104337046538455\\\\\n",
       "\t3 & ATT6              & 0.102218151576762 & 0.100768030999155 & 0.100377059623629\\\\\n",
       "\t4 & ATT9              & 0.101283366999252 & 0.119313919615232 & 0.102408705084279\\\\\n",
       "\t5 & ATT3               & 0.100779416609292  & 0.0879046412291317 & 0.0962276820302681\\\\\n",
       "\t6 & ATT4               & 0.100654424779475  & 0.0885402422921847 & 0.0981904581532687\\\\\n",
       "\\end{tabular}\n"
      ],
      "text/plain": [
       "  Feature   Gain   Cover Frequence\n",
       "1    ATT1 0.1039 0.09818   0.10120\n",
       "2    ATT8 0.1028 0.09976   0.10434\n",
       "3    ATT6 0.1022 0.10077   0.10038\n",
       "4    ATT9 0.1013 0.11931   0.10241\n",
       "5    ATT3 0.1008 0.08790   0.09623\n",
       "6    ATT4 0.1007 0.08854   0.09819"
      ]
     },
     "metadata": {},
     "output_type": "display_data"
    }
   ],
   "source": [
    "feature.importance <- xgb.importance(dimnames(xg_train)[[2]], model = bst)\n",
    "head(feature.importance)"
   ]
  },
  {
   "cell_type": "code",
   "execution_count": 211,
   "metadata": {
    "collapsed": false
   },
   "outputs": [
    {
     "data": {},
     "metadata": {},
     "output_type": "display_data"
    },
    {
     "data": {
      "image/png": "[encoded data removed]",
      "text/plain": [
       "plot without title"
      ]
     },
     "metadata": {},
     "output_type": "display_data"
    }
   ],
   "source": [
    "xgb.plot.importance(feature.importance)"
   ]
  },
  {
   "cell_type": "markdown",
   "metadata": {},
   "source": [
    "## Cross Validate further parameters for XGBoost using GridSearch"
   ]
  },
  {
   "cell_type": "code",
   "execution_count": 213,
   "metadata": {
    "collapsed": true
   },
   "outputs": [],
   "source": [
    "xgbGrid <- expand.grid(\n",
    "    nrounds = c(100, 300, 500),\n",
    "    max_depth = c(1, 3, 5),\n",
    "    eta = c(0.001, 0.01, 0.1),\n",
    "    gamma = c(0, 1),\n",
    "    colsample_bytree = c(1, 0.9, 0.8),\n",
    "    min_child_weight = c(1, 2, 3)\n",
    ")"
   ]
  },
  {
   "cell_type": "code",
   "execution_count": 214,
   "metadata": {
    "collapsed": false
   },
   "outputs": [],
   "source": [
    "xgbTrControl <- trainControl(\n",
    "    method = \"repeatedcv\",\n",
    "    number = 5,\n",
    "    repeats = 2,\n",
    "    verboseIter = FALSE,\n",
    "    returnData = FALSE,\n",
    "    allowParallel = TRUE\n",
    ")"
   ]
  },
  {
   "cell_type": "code",
   "execution_count": 215,
   "metadata": {
    "collapsed": false
   },
   "outputs": [],
   "source": [
    "xg_train <- Udf.Utilities.UpSample(train)\n",
    "xg_train$Result <- as.numeric(xg_train$Result)-1\n",
    "for(i in c(1:ncol(xg_train))) {\n",
    "    xg_train[,i] <- as.numeric(xg_train[,i])\n",
    "}"
   ]
  },
  {
   "cell_type": "code",
   "execution_count": 228,
   "metadata": {
    "collapsed": false
   },
   "outputs": [
    {
     "data": {
      "text/html": [
       "\"\n",
       "xgbTrain &lt;- train(\n",
       "    x = as.matrix(xg_train[, ! names(xg_train) %in% c('Result')]), \n",
       "    y = xg_train$Result,\n",
       "    objective = 'multi:softmax',\n",
       "    trControl = xgbTrControl,\n",
       "    tuneGrid = xgbGrid,\n",
       "    method = 'xgbTree',\n",
       "    num_class = 4,\n",
       "    eval_metric = 'merror'\n",
       ")\n",
       "\""
      ],
      "text/latex": [
       "\"\n",
       "xgbTrain <- train(\n",
       "    x = as.matrix(xg\\_train{[}, ! names(xg\\_train) \\%in\\% c('Result'){]}), \n",
       "    y = xg\\_train\\$Result,\n",
       "    objective = 'multi:softmax',\n",
       "    trControl = xgbTrControl,\n",
       "    tuneGrid = xgbGrid,\n",
       "    method = 'xgbTree',\n",
       "    num\\_class = 4,\n",
       "    eval\\_metric = 'merror'\n",
       ")\n",
       "\""
      ],
      "text/markdown": [
       "\"\n",
       "xgbTrain &lt;- train(\n",
       "    x = as.matrix(xg_train[, ! names(xg_train) %in% c('Result')]), \n",
       "    y = xg_train$Result,\n",
       "    objective = 'multi:softmax',\n",
       "    trControl = xgbTrControl,\n",
       "    tuneGrid = xgbGrid,\n",
       "    method = 'xgbTree',\n",
       "    num_class = 4,\n",
       "    eval_metric = 'merror'\n",
       ")\n",
       "\""
      ],
      "text/plain": [
       "[1] \"\\nxgbTrain <- train(\\n    x = as.matrix(xg_train[, ! names(xg_train) %in% c('Result')]), \\n    y = xg_train$Result,\\n    objective = 'multi:softmax',\\n    trControl = xgbTrControl,\\n    tuneGrid = xgbGrid,\\n    method = 'xgbTree',\\n    num_class = 4,\\n    eval_metric = 'merror'\\n)\\n\""
      ]
     },
     "metadata": {},
     "output_type": "display_data"
    }
   ],
   "source": [
    "set.seed(seed)\n",
    "\n",
    "# This is computationaly expensive - takes about an hour\n",
    "\"\n",
    "xgbTrain <- train(\n",
    "    x = as.matrix(xg_train[, ! names(xg_train) %in% c('Result')]), \n",
    "    y = xg_train$Result,\n",
    "    objective = 'multi:softmax',\n",
    "    trControl = xgbTrControl,\n",
    "    tuneGrid = xgbGrid,\n",
    "    method = 'xgbTree',\n",
    "    num_class = 4,\n",
    "    eval_metric = 'merror'\n",
    ")\n",
    "\""
   ]
  },
  {
   "cell_type": "code",
   "execution_count": 217,
   "metadata": {
    "collapsed": false
   },
   "outputs": [
    {
     "data": {
      "text/html": [
       "<table>\n",
       "<thead><tr><th></th><th scope=col>eta</th><th scope=col>max_depth</th><th scope=col>gamma</th><th scope=col>colsample_bytree</th><th scope=col>min_child_weight</th><th scope=col>nrounds</th><th scope=col>RMSE</th><th scope=col>Rsquared</th><th scope=col>RMSESD</th><th scope=col>RsquaredSD</th></tr></thead>\n",
       "<tbody>\n",
       "\t<tr><th scope=row>453</th><td>  0.10000</td><td>  5.00000</td><td>  0.00000</td><td>  1.00000</td><td>  1.00000</td><td>500.00000</td><td>  0.86904</td><td>  0.49347</td><td>  0.02318</td><td>  0.02404</td></tr>\n",
       "\t<tr><th scope=row>435</th><td>  0.10000</td><td>  5.00000</td><td>  0.00000</td><td>  0.80000</td><td>  1.00000</td><td>500.00000</td><td>  0.87472</td><td>  0.48725</td><td>  0.02141</td><td>  0.02130</td></tr>\n",
       "\t<tr><th scope=row>444</th><td>  0.10000</td><td>  5.00000</td><td>  0.00000</td><td>  0.90000</td><td>  1.00000</td><td>500.00000</td><td>  0.87515</td><td>  0.48591</td><td>  0.02974</td><td>  0.02866</td></tr>\n",
       "\t<tr><th scope=row>447</th><td>  0.10000</td><td>  5.00000</td><td>  0.00000</td><td>  0.90000</td><td>  2.00000</td><td>500.00000</td><td>  0.87788</td><td>  0.48436</td><td>  0.02259</td><td>  0.02233</td></tr>\n",
       "\t<tr><th scope=row>456</th><td>  0.10000</td><td>  5.00000</td><td>  0.00000</td><td>  1.00000</td><td>  2.00000</td><td>500.00000</td><td>  0.88201</td><td>  0.48026</td><td>  0.03646</td><td>  0.03249</td></tr>\n",
       "</tbody>\n",
       "</table>\n"
      ],
      "text/latex": [
       "\\begin{tabular}{r|llllllllll}\n",
       "  & eta & max\\_depth & gamma & colsample\\_bytree & min\\_child\\_weight & nrounds & RMSE & Rsquared & RMSESD & RsquaredSD\\\\\n",
       "\\hline\n",
       "\t453 &   0.10000 &   5.00000 &   0.00000 &   1.00000 &   1.00000 & 500.00000 &   0.86904 &   0.49347 &   0.02318 &   0.02404\\\\\n",
       "\t435 &   0.10000 &   5.00000 &   0.00000 &   0.80000 &   1.00000 & 500.00000 &   0.87472 &   0.48725 &   0.02141 &   0.02130\\\\\n",
       "\t444 &   0.10000 &   5.00000 &   0.00000 &   0.90000 &   1.00000 & 500.00000 &   0.87515 &   0.48591 &   0.02974 &   0.02866\\\\\n",
       "\t447 &   0.10000 &   5.00000 &   0.00000 &   0.90000 &   2.00000 & 500.00000 &   0.87788 &   0.48436 &   0.02259 &   0.02233\\\\\n",
       "\t456 &   0.10000 &   5.00000 &   0.00000 &   1.00000 &   2.00000 & 500.00000 &   0.88201 &   0.48026 &   0.03646 &   0.03249\\\\\n",
       "\\end{tabular}\n"
      ],
      "text/plain": [
       "    eta max_depth gamma colsample_bytree min_child_weight nrounds   RMSE\n",
       "453 0.1         5     0              1.0                1     500 0.8690\n",
       "435 0.1         5     0              0.8                1     500 0.8747\n",
       "444 0.1         5     0              0.9                1     500 0.8751\n",
       "447 0.1         5     0              0.9                2     500 0.8779\n",
       "456 0.1         5     0              1.0                2     500 0.8820\n",
       "    Rsquared  RMSESD RsquaredSD\n",
       "453   0.4935 0.02318    0.02404\n",
       "435   0.4872 0.02141    0.02130\n",
       "444   0.4859 0.02974    0.02866\n",
       "447   0.4844 0.02259    0.02233\n",
       "456   0.4803 0.03646    0.03249"
      ]
     },
     "metadata": {},
     "output_type": "display_data"
    }
   ],
   "source": [
    "# get the top model and its results\n",
    "head(xgbTrain$results[with(xgbTrain$results, order(RMSE)), ], 5)"
   ]
  },
  {
   "cell_type": "code",
   "execution_count": 218,
   "metadata": {
    "collapsed": false
   },
   "outputs": [
    {
     "name": "stdout",
     "output_type": "stream",
     "text": [
      "[0]\txg_train-merror:0.556221\n",
      "[1]\txg_train-merror:0.497717\n",
      "[2]\txg_train-merror:0.467180\n",
      "[3]\txg_train-merror:0.440068\n",
      "[4]\txg_train-merror:0.414098\n",
      "[5]\txg_train-merror:0.410103\n",
      "[6]\txg_train-merror:0.392409\n",
      "[7]\txg_train-merror:0.379852\n",
      "[8]\txg_train-merror:0.368436\n",
      "[9]\txg_train-merror:0.362158\n",
      "[10]\txg_train-merror:0.359018\n",
      "[11]\txg_train-merror:0.346176\n",
      "[12]\txg_train-merror:0.338470\n",
      "[13]\txg_train-merror:0.335331\n",
      "[14]\txg_train-merror:0.335046\n",
      "[15]\txg_train-merror:0.328482\n",
      "[16]\txg_train-merror:0.323630\n",
      "[17]\txg_train-merror:0.315639\n",
      "[18]\txg_train-merror:0.303653\n",
      "[19]\txg_train-merror:0.297089\n",
      "[20]\txg_train-merror:0.295377\n",
      "[21]\txg_train-merror:0.288813\n",
      "[22]\txg_train-merror:0.283961\n",
      "[23]\txg_train-merror:0.281963\n",
      "[24]\txg_train-merror:0.279395\n",
      "[25]\txg_train-merror:0.273973\n",
      "[26]\txg_train-merror:0.271690\n",
      "[27]\txg_train-merror:0.260845\n",
      "[28]\txg_train-merror:0.258276\n",
      "[29]\txg_train-merror:0.254281\n",
      "[30]\txg_train-merror:0.252568\n",
      "[31]\txg_train-merror:0.248573\n",
      "[32]\txg_train-merror:0.245148\n",
      "[33]\txg_train-merror:0.235731\n",
      "[34]\txg_train-merror:0.231450\n",
      "[35]\txg_train-merror:0.233162\n",
      "[36]\txg_train-merror:0.232021\n",
      "[37]\txg_train-merror:0.229452\n",
      "[38]\txg_train-merror:0.229737\n",
      "[39]\txg_train-merror:0.226027\n",
      "[40]\txg_train-merror:0.223744\n",
      "[41]\txg_train-merror:0.223744\n",
      "[42]\txg_train-merror:0.219749\n",
      "[43]\txg_train-merror:0.212900\n",
      "[44]\txg_train-merror:0.212043\n",
      "[45]\txg_train-merror:0.208048\n",
      "[46]\txg_train-merror:0.201199\n",
      "[47]\txg_train-merror:0.198916\n",
      "[48]\txg_train-merror:0.194349\n",
      "[49]\txg_train-merror:0.191781\n",
      "[50]\txg_train-merror:0.188642\n",
      "[51]\txg_train-merror:0.186358\n",
      "[52]\txg_train-merror:0.182648\n",
      "[53]\txg_train-merror:0.176941\n",
      "[54]\txg_train-merror:0.177511\n",
      "[55]\txg_train-merror:0.174372\n",
      "[56]\txg_train-merror:0.170947\n",
      "[57]\txg_train-merror:0.165240\n",
      "[58]\txg_train-merror:0.167808\n",
      "[59]\txg_train-merror:0.163242\n",
      "[60]\txg_train-merror:0.160674\n",
      "[61]\txg_train-merror:0.160103\n",
      "[62]\txg_train-merror:0.155822\n",
      "[63]\txg_train-merror:0.156963\n",
      "[64]\txg_train-merror:0.154395\n",
      "[65]\txg_train-merror:0.155537\n",
      "[66]\txg_train-merror:0.150685\n",
      "[67]\txg_train-merror:0.151256\n",
      "[68]\txg_train-merror:0.148973\n",
      "[69]\txg_train-merror:0.147831\n",
      "[70]\txg_train-merror:0.144406\n",
      "[71]\txg_train-merror:0.141553\n",
      "[72]\txg_train-merror:0.139555\n",
      "[73]\txg_train-merror:0.136701\n",
      "[74]\txg_train-merror:0.133847\n",
      "[75]\txg_train-merror:0.132420\n",
      "[76]\txg_train-merror:0.130708\n",
      "[77]\txg_train-merror:0.129281\n",
      "[78]\txg_train-merror:0.127854\n",
      "[79]\txg_train-merror:0.127854\n",
      "[80]\txg_train-merror:0.126712\n",
      "[81]\txg_train-merror:0.126427\n",
      "[82]\txg_train-merror:0.127854\n",
      "[83]\txg_train-merror:0.126998\n",
      "[84]\txg_train-merror:0.123573\n",
      "[85]\txg_train-merror:0.125000\n",
      "[86]\txg_train-merror:0.123002\n",
      "[87]\txg_train-merror:0.120148\n",
      "[88]\txg_train-merror:0.118721\n",
      "[89]\txg_train-merror:0.117295\n",
      "[90]\txg_train-merror:0.116153\n",
      "[91]\txg_train-merror:0.113870\n",
      "[92]\txg_train-merror:0.112728\n",
      "[93]\txg_train-merror:0.110160\n",
      "[94]\txg_train-merror:0.108162\n",
      "[95]\txg_train-merror:0.106164\n",
      "[96]\txg_train-merror:0.103881\n",
      "[97]\txg_train-merror:0.101598\n",
      "[98]\txg_train-merror:0.101313\n",
      "[99]\txg_train-merror:0.098744\n",
      "[100]\txg_train-merror:0.097317\n",
      "[101]\txg_train-merror:0.097032\n",
      "[102]\txg_train-merror:0.095890\n",
      "[103]\txg_train-merror:0.095034\n",
      "[104]\txg_train-merror:0.094463\n",
      "[105]\txg_train-merror:0.093607\n",
      "[106]\txg_train-merror:0.093322\n",
      "[107]\txg_train-merror:0.091610\n",
      "[108]\txg_train-merror:0.090183\n",
      "[109]\txg_train-merror:0.088185\n",
      "[110]\txg_train-merror:0.085331\n",
      "[111]\txg_train-merror:0.085616\n",
      "[112]\txg_train-merror:0.085331\n",
      "[113]\txg_train-merror:0.084475\n",
      "[114]\txg_train-merror:0.083333\n",
      "[115]\txg_train-merror:0.083333\n",
      "[116]\txg_train-merror:0.081336\n",
      "[117]\txg_train-merror:0.080765\n",
      "[118]\txg_train-merror:0.079338\n",
      "[119]\txg_train-merror:0.081336\n",
      "[120]\txg_train-merror:0.079623\n",
      "[121]\txg_train-merror:0.079338\n",
      "[122]\txg_train-merror:0.077626\n",
      "[123]\txg_train-merror:0.076769\n",
      "[124]\txg_train-merror:0.075057\n",
      "[125]\txg_train-merror:0.075342\n",
      "[126]\txg_train-merror:0.071918\n",
      "[127]\txg_train-merror:0.072203\n",
      "[128]\txg_train-merror:0.072774\n",
      "[129]\txg_train-merror:0.072203\n",
      "[130]\txg_train-merror:0.070491\n",
      "[131]\txg_train-merror:0.069920\n",
      "[132]\txg_train-merror:0.070205\n",
      "[133]\txg_train-merror:0.069349\n",
      "[134]\txg_train-merror:0.068779\n",
      "[135]\txg_train-merror:0.068779\n",
      "[136]\txg_train-merror:0.065925\n",
      "[137]\txg_train-merror:0.065068\n",
      "[138]\txg_train-merror:0.064498\n",
      "[139]\txg_train-merror:0.062785\n",
      "[140]\txg_train-merror:0.061929\n",
      "[141]\txg_train-merror:0.060788\n",
      "[142]\txg_train-merror:0.059646\n",
      "[143]\txg_train-merror:0.059361\n",
      "[144]\txg_train-merror:0.058790\n",
      "[145]\txg_train-merror:0.057934\n",
      "[146]\txg_train-merror:0.058505\n",
      "[147]\txg_train-merror:0.058219\n",
      "[148]\txg_train-merror:0.058219\n",
      "[149]\txg_train-merror:0.057934\n",
      "[150]\txg_train-merror:0.057934\n",
      "[151]\txg_train-merror:0.056221\n",
      "[152]\txg_train-merror:0.056507\n",
      "[153]\txg_train-merror:0.057363\n",
      "[154]\txg_train-merror:0.055936\n",
      "[155]\txg_train-merror:0.054509\n",
      "[156]\txg_train-merror:0.055936\n",
      "[157]\txg_train-merror:0.053653\n",
      "[158]\txg_train-merror:0.054224\n",
      "[159]\txg_train-merror:0.053938\n",
      "[160]\txg_train-merror:0.052511\n",
      "[161]\txg_train-merror:0.051655\n",
      "[162]\txg_train-merror:0.052226\n",
      "[163]\txg_train-merror:0.051370\n",
      "[164]\txg_train-merror:0.049943\n",
      "[165]\txg_train-merror:0.049087\n",
      "[166]\txg_train-merror:0.049087\n",
      "[167]\txg_train-merror:0.048801\n",
      "[168]\txg_train-merror:0.047945\n",
      "[169]\txg_train-merror:0.047374\n",
      "[170]\txg_train-merror:0.047945\n",
      "[171]\txg_train-merror:0.047660\n",
      "[172]\txg_train-merror:0.047660\n",
      "[173]\txg_train-merror:0.046804\n",
      "[174]\txg_train-merror:0.045662\n",
      "[175]\txg_train-merror:0.045091\n",
      "[176]\txg_train-merror:0.044806\n",
      "[177]\txg_train-merror:0.043094\n",
      "[178]\txg_train-merror:0.042523\n",
      "[179]\txg_train-merror:0.043094\n",
      "[180]\txg_train-merror:0.042808\n",
      "[181]\txg_train-merror:0.042237\n",
      "[182]\txg_train-merror:0.040525\n",
      "[183]\txg_train-merror:0.039669\n",
      "[184]\txg_train-merror:0.039384\n",
      "[185]\txg_train-merror:0.039384\n",
      "[186]\txg_train-merror:0.039384\n",
      "[187]\txg_train-merror:0.039098\n",
      "[188]\txg_train-merror:0.037957\n",
      "[189]\txg_train-merror:0.036815\n",
      "[190]\txg_train-merror:0.037100\n",
      "[191]\txg_train-merror:0.037100\n",
      "[192]\txg_train-merror:0.036530\n",
      "[193]\txg_train-merror:0.036530\n",
      "[194]\txg_train-merror:0.036815\n",
      "[195]\txg_train-merror:0.036244\n",
      "[196]\txg_train-merror:0.035103\n",
      "[197]\txg_train-merror:0.034532\n",
      "[198]\txg_train-merror:0.034532\n",
      "[199]\txg_train-merror:0.034817\n",
      "[200]\txg_train-merror:0.034247\n",
      "[201]\txg_train-merror:0.033390\n",
      "[202]\txg_train-merror:0.033676\n",
      "[203]\txg_train-merror:0.032249\n",
      "[204]\txg_train-merror:0.031393\n",
      "[205]\txg_train-merror:0.031678\n",
      "[206]\txg_train-merror:0.031678\n",
      "[207]\txg_train-merror:0.031107\n",
      "[208]\txg_train-merror:0.030537\n",
      "[209]\txg_train-merror:0.028253\n",
      "[210]\txg_train-merror:0.028253\n",
      "[211]\txg_train-merror:0.027397\n",
      "[212]\txg_train-merror:0.026826\n",
      "[213]\txg_train-merror:0.028253\n",
      "[214]\txg_train-merror:0.028253\n",
      "[215]\txg_train-merror:0.027683\n",
      "[216]\txg_train-merror:0.026256\n",
      "[217]\txg_train-merror:0.026256\n",
      "[218]\txg_train-merror:0.026256\n",
      "[219]\txg_train-merror:0.025970\n",
      "[220]\txg_train-merror:0.026256\n",
      "[221]\txg_train-merror:0.025970\n",
      "[222]\txg_train-merror:0.025114\n",
      "[223]\txg_train-merror:0.024829\n",
      "[224]\txg_train-merror:0.024258\n",
      "[225]\txg_train-merror:0.023973\n",
      "[226]\txg_train-merror:0.023402\n",
      "[227]\txg_train-merror:0.023116\n",
      "[228]\txg_train-merror:0.023116\n",
      "[229]\txg_train-merror:0.023116\n",
      "[230]\txg_train-merror:0.022546\n",
      "[231]\txg_train-merror:0.023402\n",
      "[232]\txg_train-merror:0.023402\n",
      "[233]\txg_train-merror:0.023402\n",
      "[234]\txg_train-merror:0.022546\n",
      "[235]\txg_train-merror:0.022260\n",
      "[236]\txg_train-merror:0.022260\n",
      "[237]\txg_train-merror:0.022260\n",
      "[238]\txg_train-merror:0.022260\n",
      "[239]\txg_train-merror:0.021689\n",
      "[240]\txg_train-merror:0.021404\n",
      "[241]\txg_train-merror:0.021404\n",
      "[242]\txg_train-merror:0.021404\n",
      "[243]\txg_train-merror:0.021404\n",
      "[244]\txg_train-merror:0.020833\n",
      "[245]\txg_train-merror:0.020548\n",
      "[246]\txg_train-merror:0.019692\n",
      "[247]\txg_train-merror:0.019121\n",
      "[248]\txg_train-merror:0.018550\n",
      "[249]\txg_train-merror:0.018836\n",
      "[250]\txg_train-merror:0.017409\n",
      "[251]\txg_train-merror:0.017694\n",
      "[252]\txg_train-merror:0.017123\n",
      "[253]\txg_train-merror:0.015982\n",
      "[254]\txg_train-merror:0.014840\n",
      "[255]\txg_train-merror:0.015126\n",
      "[256]\txg_train-merror:0.014840\n",
      "[257]\txg_train-merror:0.014840\n",
      "[258]\txg_train-merror:0.014840\n",
      "[259]\txg_train-merror:0.014555\n",
      "[260]\txg_train-merror:0.014840\n",
      "[261]\txg_train-merror:0.014269\n",
      "[262]\txg_train-merror:0.013984\n",
      "[263]\txg_train-merror:0.013699\n",
      "[264]\txg_train-merror:0.013699\n",
      "[265]\txg_train-merror:0.013699\n",
      "[266]\txg_train-merror:0.012842\n",
      "[267]\txg_train-merror:0.012842\n",
      "[268]\txg_train-merror:0.012557\n",
      "[269]\txg_train-merror:0.012557\n",
      "[270]\txg_train-merror:0.011986\n",
      "[271]\txg_train-merror:0.011986\n",
      "[272]\txg_train-merror:0.011986\n",
      "[273]\txg_train-merror:0.011986\n",
      "[274]\txg_train-merror:0.011701\n",
      "[275]\txg_train-merror:0.011701\n",
      "[276]\txg_train-merror:0.011416\n",
      "[277]\txg_train-merror:0.011416\n",
      "[278]\txg_train-merror:0.010845\n",
      "[279]\txg_train-merror:0.010559\n",
      "[280]\txg_train-merror:0.009989\n",
      "[281]\txg_train-merror:0.009989\n",
      "[282]\txg_train-merror:0.009418\n",
      "[283]\txg_train-merror:0.009132\n",
      "[284]\txg_train-merror:0.009132\n",
      "[285]\txg_train-merror:0.009132\n",
      "[286]\txg_train-merror:0.009132\n",
      "[287]\txg_train-merror:0.008847\n",
      "[288]\txg_train-merror:0.008562\n",
      "[289]\txg_train-merror:0.008562\n",
      "[290]\txg_train-merror:0.008562\n",
      "[291]\txg_train-merror:0.008562\n",
      "[292]\txg_train-merror:0.008562\n",
      "[293]\txg_train-merror:0.008276\n",
      "[294]\txg_train-merror:0.008276\n",
      "[295]\txg_train-merror:0.007991\n",
      "[296]\txg_train-merror:0.007991\n",
      "[297]\txg_train-merror:0.007991\n",
      "[298]\txg_train-merror:0.008276\n",
      "[299]\txg_train-merror:0.007705\n",
      "[300]\txg_train-merror:0.007135\n",
      "[301]\txg_train-merror:0.007420\n",
      "[302]\txg_train-merror:0.007420\n",
      "[303]\txg_train-merror:0.007135\n",
      "[304]\txg_train-merror:0.007135\n",
      "[305]\txg_train-merror:0.006849\n"
     ]
    }
   ],
   "source": [
    "# Alter the params based on the best performing set of params abvove\n",
    "params <- list(booster = \"gbtree\", objective = \"multi:softmax\",\n",
    "               num_class = 4, eval_metric = 'merror',\n",
    "               max_depth = 5, eta = 0.1,\n",
    "               colsample_bytree = 1, subsample = 0.9,\n",
    "               gamma = 0, min_child_weight = 1)"
   ]
  },
  {
   "cell_type": "code",
   "execution_count": 221,
   "metadata": {
    "collapsed": false
   },
   "outputs": [
    {
     "name": "stdout",
     "output_type": "stream",
     "text": [
      "[0]\ttrain-merror:0.544806+0.009477\ttest-merror:0.631576+0.023790\n",
      "[20]\ttrain-merror:0.286276+0.011618\ttest-merror:0.502849+0.020008\n",
      "[40]\ttrain-merror:0.205131+0.007171\ttest-merror:0.470029+0.020167\n",
      "[60]\ttrain-merror:0.147419+0.005281\ttest-merror:0.443201+0.018421\n",
      "[80]\ttrain-merror:0.112633+0.003977\ttest-merror:0.433800+0.018688\n",
      "[100]\ttrain-merror:0.086251+0.004441\ttest-merror:0.419822+0.025273\n",
      "[120]\ttrain-merror:0.066432+0.003434\ttest-merror:0.408693+0.024941\n",
      "[140]\ttrain-merror:0.051719+0.003224\ttest-merror:0.404983+0.020098\n",
      "[160]\ttrain-merror:0.039511+0.002767\ttest-merror:0.399562+0.018868\n",
      "[180]\ttrain-merror:0.030473+0.002881\ttest-merror:0.394987+0.018015\n",
      "[200]\ttrain-merror:0.023560+0.001465\ttest-merror:0.385577+0.022492\n",
      "[220]\ttrain-merror:0.017948+0.001190\ttest-merror:0.382151+0.024049\n",
      "[240]\ttrain-merror:0.013001+0.001465\ttest-merror:0.377873+0.024012\n",
      "[260]\ttrain-merror:0.009703+0.000936\ttest-merror:0.372733+0.022339\n",
      "[280]\ttrain-merror:0.006913+0.000955\ttest-merror:0.371312+0.024727\n",
      "[300]\ttrain-merror:0.005105+0.001019\ttest-merror:0.369028+0.023873\n",
      "[320]\ttrain-merror:0.003583+0.000806\ttest-merror:0.369594+0.023766\n",
      "[340]\ttrain-merror:0.002378+0.000455\ttest-merror:0.366737+0.022667\n",
      "[360]\ttrain-merror:0.001553+0.000624\ttest-merror:0.368160+0.022831\n",
      "[380]\ttrain-merror:0.001078+0.000477\ttest-merror:0.369018+0.022222\n",
      "[400]\ttrain-merror:0.000634+0.000334\ttest-merror:0.365881+0.023961\n",
      "[420]\ttrain-merror:0.000349+0.000234\ttest-merror:0.367881+0.025242\n",
      "[440]\ttrain-merror:0.000127+0.000164\ttest-merror:0.366171+0.023891\n",
      "[460]\ttrain-merror:0.000032+0.000100\ttest-merror:0.365599+0.024261\n",
      "[480]\ttrain-merror:0.000000+0.000000\ttest-merror:0.364745+0.024786\n"
     ]
    }
   ],
   "source": [
    "bst.cv <- xgb.cv(params, dtrain, n_rounds.cv, nfold = 10, metrics = {'merror'},\n",
    "                 print.every.n = 20, prediction = TRUE)"
   ]
  },
  {
   "cell_type": "code",
   "execution_count": 222,
   "metadata": {
    "collapsed": false
   },
   "outputs": [
    {
     "data": {
      "text/html": [
       "458"
      ],
      "text/latex": [
       "458"
      ],
      "text/markdown": [
       "458"
      ],
      "text/plain": [
       "[1] 458"
      ]
     },
     "metadata": {},
     "output_type": "display_data"
    }
   ],
   "source": [
    "n_rounds.train <- which.min(bst.cv$dt[, test.merror.mean])\n",
    "n_rounds.train"
   ]
  },
  {
   "cell_type": "code",
   "execution_count": 223,
   "metadata": {
    "collapsed": false
   },
   "outputs": [
    {
     "name": "stdout",
     "output_type": "stream",
     "text": [
      "[0]\txg_train-merror:0.564783\n",
      "[1]\txg_train-merror:0.498002\n",
      "[2]\txg_train-merror:0.468607\n",
      "[3]\txg_train-merror:0.442922\n",
      "[4]\txg_train-merror:0.428082\n",
      "[5]\txg_train-merror:0.419521\n",
      "[6]\txg_train-merror:0.403824\n",
      "[7]\txg_train-merror:0.390126\n",
      "[8]\txg_train-merror:0.389555\n",
      "[9]\txg_train-merror:0.382135\n",
      "[10]\txg_train-merror:0.362158\n",
      "[11]\txg_train-merror:0.356164\n",
      "[12]\txg_train-merror:0.351598\n",
      "[13]\txg_train-merror:0.341039\n",
      "[14]\txg_train-merror:0.333333\n",
      "[15]\txg_train-merror:0.329623\n",
      "[16]\txg_train-merror:0.325913\n",
      "[17]\txg_train-merror:0.320491\n",
      "[18]\txg_train-merror:0.306221\n",
      "[19]\txg_train-merror:0.305080\n",
      "[20]\txg_train-merror:0.302797\n",
      "[21]\txg_train-merror:0.297945\n",
      "[22]\txg_train-merror:0.287100\n",
      "[23]\txg_train-merror:0.285103\n",
      "[24]\txg_train-merror:0.273687\n",
      "[25]\txg_train-merror:0.275114\n",
      "[26]\txg_train-merror:0.272546\n",
      "[27]\txg_train-merror:0.268550\n",
      "[28]\txg_train-merror:0.260845\n",
      "[29]\txg_train-merror:0.251142\n",
      "[30]\txg_train-merror:0.249715\n",
      "[31]\txg_train-merror:0.247432\n",
      "[32]\txg_train-merror:0.242009\n",
      "[33]\txg_train-merror:0.237443\n",
      "[34]\txg_train-merror:0.232877\n",
      "[35]\txg_train-merror:0.228310\n",
      "[36]\txg_train-merror:0.228596\n",
      "[37]\txg_train-merror:0.225457\n",
      "[38]\txg_train-merror:0.224600\n",
      "[39]\txg_train-merror:0.220605\n",
      "[40]\txg_train-merror:0.216610\n",
      "[41]\txg_train-merror:0.210902\n",
      "[42]\txg_train-merror:0.208619\n",
      "[43]\txg_train-merror:0.206050\n",
      "[44]\txg_train-merror:0.197774\n",
      "[45]\txg_train-merror:0.198345\n",
      "[46]\txg_train-merror:0.197774\n",
      "[47]\txg_train-merror:0.199201\n",
      "[48]\txg_train-merror:0.194064\n",
      "[49]\txg_train-merror:0.190068\n",
      "[50]\txg_train-merror:0.184361\n",
      "[51]\txg_train-merror:0.185217\n",
      "[52]\txg_train-merror:0.177797\n",
      "[53]\txg_train-merror:0.176655\n",
      "[54]\txg_train-merror:0.174087\n",
      "[55]\txg_train-merror:0.172374\n",
      "[56]\txg_train-merror:0.167523\n",
      "[57]\txg_train-merror:0.164954\n",
      "[58]\txg_train-merror:0.162671\n",
      "[59]\txg_train-merror:0.161815\n",
      "[60]\txg_train-merror:0.161530\n",
      "[61]\txg_train-merror:0.155251\n",
      "[62]\txg_train-merror:0.152683\n",
      "[63]\txg_train-merror:0.151826\n",
      "[64]\txg_train-merror:0.150685\n",
      "[65]\txg_train-merror:0.148402\n",
      "[66]\txg_train-merror:0.145263\n",
      "[67]\txg_train-merror:0.142123\n",
      "[68]\txg_train-merror:0.141267\n",
      "[69]\txg_train-merror:0.140982\n",
      "[70]\txg_train-merror:0.136986\n",
      "[71]\txg_train-merror:0.137842\n",
      "[72]\txg_train-merror:0.135274\n",
      "[73]\txg_train-merror:0.134418\n",
      "[74]\txg_train-merror:0.133562\n",
      "[75]\txg_train-merror:0.130422\n",
      "[76]\txg_train-merror:0.127568\n",
      "[77]\txg_train-merror:0.124144\n",
      "[78]\txg_train-merror:0.121575\n",
      "[79]\txg_train-merror:0.119578\n",
      "[80]\txg_train-merror:0.119578\n",
      "[81]\txg_train-merror:0.118721\n",
      "[82]\txg_train-merror:0.117295\n",
      "[83]\txg_train-merror:0.114441\n",
      "[84]\txg_train-merror:0.113584\n",
      "[85]\txg_train-merror:0.113014\n",
      "[86]\txg_train-merror:0.111587\n",
      "[87]\txg_train-merror:0.110731\n",
      "[88]\txg_train-merror:0.108733\n",
      "[89]\txg_train-merror:0.108162\n",
      "[90]\txg_train-merror:0.104737\n",
      "[91]\txg_train-merror:0.104737\n",
      "[92]\txg_train-merror:0.103311\n",
      "[93]\txg_train-merror:0.102169\n",
      "[94]\txg_train-merror:0.099886\n",
      "[95]\txg_train-merror:0.097888\n",
      "[96]\txg_train-merror:0.096461\n",
      "[97]\txg_train-merror:0.096747\n",
      "[98]\txg_train-merror:0.093037\n",
      "[99]\txg_train-merror:0.092466\n",
      "[100]\txg_train-merror:0.091039\n",
      "[101]\txg_train-merror:0.086758\n",
      "[102]\txg_train-merror:0.086473\n",
      "[103]\txg_train-merror:0.086187\n",
      "[104]\txg_train-merror:0.083048\n",
      "[105]\txg_train-merror:0.081906\n",
      "[106]\txg_train-merror:0.082192\n",
      "[107]\txg_train-merror:0.081621\n",
      "[108]\txg_train-merror:0.080765\n",
      "[109]\txg_train-merror:0.080194\n",
      "[110]\txg_train-merror:0.077626\n",
      "[111]\txg_train-merror:0.077911\n",
      "[112]\txg_train-merror:0.076484\n",
      "[113]\txg_train-merror:0.075628\n",
      "[114]\txg_train-merror:0.072203\n",
      "[115]\txg_train-merror:0.073345\n",
      "[116]\txg_train-merror:0.073345\n",
      "[117]\txg_train-merror:0.072203\n",
      "[118]\txg_train-merror:0.071632\n",
      "[119]\txg_train-merror:0.069635\n",
      "[120]\txg_train-merror:0.068493\n",
      "[121]\txg_train-merror:0.068208\n",
      "[122]\txg_train-merror:0.068208\n",
      "[123]\txg_train-merror:0.068208\n",
      "[124]\txg_train-merror:0.067922\n",
      "[125]\txg_train-merror:0.065354\n",
      "[126]\txg_train-merror:0.063927\n",
      "[127]\txg_train-merror:0.063356\n",
      "[128]\txg_train-merror:0.063642\n",
      "[129]\txg_train-merror:0.064212\n",
      "[130]\txg_train-merror:0.063071\n",
      "[131]\txg_train-merror:0.062785\n",
      "[132]\txg_train-merror:0.063642\n",
      "[133]\txg_train-merror:0.061073\n",
      "[134]\txg_train-merror:0.059646\n",
      "[135]\txg_train-merror:0.058790\n",
      "[136]\txg_train-merror:0.059646\n",
      "[137]\txg_train-merror:0.058505\n",
      "[138]\txg_train-merror:0.057648\n",
      "[139]\txg_train-merror:0.058505\n",
      "[140]\txg_train-merror:0.058219\n",
      "[141]\txg_train-merror:0.058219\n",
      "[142]\txg_train-merror:0.058219\n",
      "[143]\txg_train-merror:0.055651\n",
      "[144]\txg_train-merror:0.055080\n",
      "[145]\txg_train-merror:0.054795\n",
      "[146]\txg_train-merror:0.054224\n",
      "[147]\txg_train-merror:0.053938\n",
      "[148]\txg_train-merror:0.054509\n",
      "[149]\txg_train-merror:0.053938\n",
      "[150]\txg_train-merror:0.053082\n",
      "[151]\txg_train-merror:0.052226\n",
      "[152]\txg_train-merror:0.050514\n",
      "[153]\txg_train-merror:0.050514\n",
      "[154]\txg_train-merror:0.049372\n",
      "[155]\txg_train-merror:0.047945\n",
      "[156]\txg_train-merror:0.047945\n",
      "[157]\txg_train-merror:0.047089\n",
      "[158]\txg_train-merror:0.046518\n",
      "[159]\txg_train-merror:0.045377\n",
      "[160]\txg_train-merror:0.045662\n",
      "[161]\txg_train-merror:0.045947\n",
      "[162]\txg_train-merror:0.045662\n",
      "[163]\txg_train-merror:0.045947\n",
      "[164]\txg_train-merror:0.044806\n",
      "[165]\txg_train-merror:0.044521\n",
      "[166]\txg_train-merror:0.043094\n",
      "[167]\txg_train-merror:0.042523\n",
      "[168]\txg_train-merror:0.041381\n",
      "[169]\txg_train-merror:0.041667\n",
      "[170]\txg_train-merror:0.041667\n",
      "[171]\txg_train-merror:0.042237\n",
      "[172]\txg_train-merror:0.040811\n",
      "[173]\txg_train-merror:0.040811\n",
      "[174]\txg_train-merror:0.039669\n",
      "[175]\txg_train-merror:0.038242\n",
      "[176]\txg_train-merror:0.038242\n",
      "[177]\txg_train-merror:0.039098\n",
      "[178]\txg_train-merror:0.038242\n",
      "[179]\txg_train-merror:0.037671\n",
      "[180]\txg_train-merror:0.037100\n",
      "[181]\txg_train-merror:0.036530\n",
      "[182]\txg_train-merror:0.035674\n",
      "[183]\txg_train-merror:0.035103\n",
      "[184]\txg_train-merror:0.034532\n",
      "[185]\txg_train-merror:0.033961\n",
      "[186]\txg_train-merror:0.033676\n",
      "[187]\txg_train-merror:0.033390\n",
      "[188]\txg_train-merror:0.032534\n",
      "[189]\txg_train-merror:0.032534\n",
      "[190]\txg_train-merror:0.031107\n",
      "[191]\txg_train-merror:0.031678\n",
      "[192]\txg_train-merror:0.030822\n",
      "[193]\txg_train-merror:0.030537\n",
      "[194]\txg_train-merror:0.029966\n",
      "[195]\txg_train-merror:0.029680\n",
      "[196]\txg_train-merror:0.029680\n",
      "[197]\txg_train-merror:0.028539\n",
      "[198]\txg_train-merror:0.028824\n",
      "[199]\txg_train-merror:0.028824\n",
      "[200]\txg_train-merror:0.028253\n",
      "[201]\txg_train-merror:0.029110\n",
      "[202]\txg_train-merror:0.028253\n",
      "[203]\txg_train-merror:0.028539\n",
      "[204]\txg_train-merror:0.025970\n",
      "[205]\txg_train-merror:0.026541\n",
      "[206]\txg_train-merror:0.027112\n",
      "[207]\txg_train-merror:0.025970\n",
      "[208]\txg_train-merror:0.025400\n",
      "[209]\txg_train-merror:0.025685\n",
      "[210]\txg_train-merror:0.025970\n",
      "[211]\txg_train-merror:0.025400\n",
      "[212]\txg_train-merror:0.025400\n",
      "[213]\txg_train-merror:0.024829\n",
      "[214]\txg_train-merror:0.024543\n",
      "[215]\txg_train-merror:0.023687\n",
      "[216]\txg_train-merror:0.022831\n",
      "[217]\txg_train-merror:0.022260\n",
      "[218]\txg_train-merror:0.022831\n",
      "[219]\txg_train-merror:0.021975\n",
      "[220]\txg_train-merror:0.022260\n",
      "[221]\txg_train-merror:0.021975\n",
      "[222]\txg_train-merror:0.021404\n",
      "[223]\txg_train-merror:0.021119\n",
      "[224]\txg_train-merror:0.020548\n",
      "[225]\txg_train-merror:0.020263\n",
      "[226]\txg_train-merror:0.020548\n",
      "[227]\txg_train-merror:0.019121\n",
      "[228]\txg_train-merror:0.019977\n",
      "[229]\txg_train-merror:0.020263\n",
      "[230]\txg_train-merror:0.019977\n",
      "[231]\txg_train-merror:0.019121\n",
      "[232]\txg_train-merror:0.018836\n",
      "[233]\txg_train-merror:0.018836\n",
      "[234]\txg_train-merror:0.019121\n",
      "[235]\txg_train-merror:0.018836\n",
      "[236]\txg_train-merror:0.018265\n",
      "[237]\txg_train-merror:0.017694\n",
      "[238]\txg_train-merror:0.017694\n",
      "[239]\txg_train-merror:0.017694\n",
      "[240]\txg_train-merror:0.017123\n",
      "[241]\txg_train-merror:0.017409\n",
      "[242]\txg_train-merror:0.017694\n",
      "[243]\txg_train-merror:0.017123\n",
      "[244]\txg_train-merror:0.016838\n",
      "[245]\txg_train-merror:0.017123\n",
      "[246]\txg_train-merror:0.016838\n",
      "[247]\txg_train-merror:0.016553\n",
      "[248]\txg_train-merror:0.016267\n",
      "[249]\txg_train-merror:0.015982\n",
      "[250]\txg_train-merror:0.015411\n",
      "[251]\txg_train-merror:0.015126\n",
      "[252]\txg_train-merror:0.014840\n",
      "[253]\txg_train-merror:0.013984\n",
      "[254]\txg_train-merror:0.014269\n",
      "[255]\txg_train-merror:0.013699\n",
      "[256]\txg_train-merror:0.013413\n",
      "[257]\txg_train-merror:0.013699\n",
      "[258]\txg_train-merror:0.013413\n",
      "[259]\txg_train-merror:0.013699\n",
      "[260]\txg_train-merror:0.013413\n",
      "[261]\txg_train-merror:0.013699\n",
      "[262]\txg_train-merror:0.013128\n",
      "[263]\txg_train-merror:0.013413\n",
      "[264]\txg_train-merror:0.013413\n",
      "[265]\txg_train-merror:0.013413\n",
      "[266]\txg_train-merror:0.012842\n",
      "[267]\txg_train-merror:0.012557\n",
      "[268]\txg_train-merror:0.012557\n",
      "[269]\txg_train-merror:0.012557\n",
      "[270]\txg_train-merror:0.012557\n",
      "[271]\txg_train-merror:0.012557\n",
      "[272]\txg_train-merror:0.012272\n",
      "[273]\txg_train-merror:0.011986\n",
      "[274]\txg_train-merror:0.011701\n",
      "[275]\txg_train-merror:0.011701\n",
      "[276]\txg_train-merror:0.011130\n",
      "[277]\txg_train-merror:0.011130\n",
      "[278]\txg_train-merror:0.010845\n",
      "[279]\txg_train-merror:0.010845\n",
      "[280]\txg_train-merror:0.010559\n",
      "[281]\txg_train-merror:0.010274\n",
      "[282]\txg_train-merror:0.009989\n",
      "[283]\txg_train-merror:0.009703\n",
      "[284]\txg_train-merror:0.009703\n",
      "[285]\txg_train-merror:0.009703\n",
      "[286]\txg_train-merror:0.009703\n",
      "[287]\txg_train-merror:0.009703\n",
      "[288]\txg_train-merror:0.009989\n",
      "[289]\txg_train-merror:0.009703\n",
      "[290]\txg_train-merror:0.009989\n",
      "[291]\txg_train-merror:0.009132\n",
      "[292]\txg_train-merror:0.009418\n",
      "[293]\txg_train-merror:0.008847\n",
      "[294]\txg_train-merror:0.008562\n",
      "[295]\txg_train-merror:0.008562\n",
      "[296]\txg_train-merror:0.007991\n",
      "[297]\txg_train-merror:0.008562\n",
      "[298]\txg_train-merror:0.008562\n",
      "[299]\txg_train-merror:0.008276\n",
      "[300]\txg_train-merror:0.008276\n",
      "[301]\txg_train-merror:0.007991\n",
      "[302]\txg_train-merror:0.007420\n",
      "[303]\txg_train-merror:0.007420\n",
      "[304]\txg_train-merror:0.007420\n",
      "[305]\txg_train-merror:0.007135\n",
      "[306]\txg_train-merror:0.007135\n",
      "[307]\txg_train-merror:0.007420\n",
      "[308]\txg_train-merror:0.007705\n",
      "[309]\txg_train-merror:0.007705\n",
      "[310]\txg_train-merror:0.007135\n",
      "[311]\txg_train-merror:0.006849\n",
      "[312]\txg_train-merror:0.006564\n",
      "[313]\txg_train-merror:0.006279\n",
      "[314]\txg_train-merror:0.006279\n",
      "[315]\txg_train-merror:0.005993\n",
      "[316]\txg_train-merror:0.006279\n",
      "[317]\txg_train-merror:0.005993\n",
      "[318]\txg_train-merror:0.005993\n",
      "[319]\txg_train-merror:0.005422\n",
      "[320]\txg_train-merror:0.005137\n",
      "[321]\txg_train-merror:0.005137\n",
      "[322]\txg_train-merror:0.004852\n",
      "[323]\txg_train-merror:0.004852\n",
      "[324]\txg_train-merror:0.004852\n",
      "[325]\txg_train-merror:0.004852\n",
      "[326]\txg_train-merror:0.004566\n",
      "[327]\txg_train-merror:0.004281\n",
      "[328]\txg_train-merror:0.004566\n",
      "[329]\txg_train-merror:0.004566\n",
      "[330]\txg_train-merror:0.004281\n",
      "[331]\txg_train-merror:0.004281\n",
      "[332]\txg_train-merror:0.004281\n",
      "[333]\txg_train-merror:0.004566\n",
      "[334]\txg_train-merror:0.004281\n",
      "[335]\txg_train-merror:0.003995\n",
      "[336]\txg_train-merror:0.003710\n",
      "[337]\txg_train-merror:0.003710\n",
      "[338]\txg_train-merror:0.003425\n",
      "[339]\txg_train-merror:0.003425\n",
      "[340]\txg_train-merror:0.003139\n",
      "[341]\txg_train-merror:0.003425\n",
      "[342]\txg_train-merror:0.003425\n",
      "[343]\txg_train-merror:0.002854\n",
      "[344]\txg_train-merror:0.002854\n",
      "[345]\txg_train-merror:0.003139\n",
      "[346]\txg_train-merror:0.003139\n",
      "[347]\txg_train-merror:0.002854\n",
      "[348]\txg_train-merror:0.002854\n",
      "[349]\txg_train-merror:0.002854\n",
      "[350]\txg_train-merror:0.003139\n",
      "[351]\txg_train-merror:0.003139\n",
      "[352]\txg_train-merror:0.003139\n",
      "[353]\txg_train-merror:0.003139\n",
      "[354]\txg_train-merror:0.002854\n",
      "[355]\txg_train-merror:0.002854\n",
      "[356]\txg_train-merror:0.002854\n",
      "[357]\txg_train-merror:0.003139\n",
      "[358]\txg_train-merror:0.003139\n",
      "[359]\txg_train-merror:0.003139\n",
      "[360]\txg_train-merror:0.002568\n",
      "[361]\txg_train-merror:0.002568\n",
      "[362]\txg_train-merror:0.002568\n",
      "[363]\txg_train-merror:0.002568\n",
      "[364]\txg_train-merror:0.002568\n",
      "[365]\txg_train-merror:0.002568\n",
      "[366]\txg_train-merror:0.002568\n",
      "[367]\txg_train-merror:0.002568\n",
      "[368]\txg_train-merror:0.002568\n",
      "[369]\txg_train-merror:0.002568\n",
      "[370]\txg_train-merror:0.002568\n",
      "[371]\txg_train-merror:0.002568\n",
      "[372]\txg_train-merror:0.002568\n",
      "[373]\txg_train-merror:0.002568\n",
      "[374]\txg_train-merror:0.002283\n",
      "[375]\txg_train-merror:0.002283\n",
      "[376]\txg_train-merror:0.002283\n",
      "[377]\txg_train-merror:0.001998\n",
      "[378]\txg_train-merror:0.002283\n",
      "[379]\txg_train-merror:0.002283\n",
      "[380]\txg_train-merror:0.002283\n",
      "[381]\txg_train-merror:0.002283\n",
      "[382]\txg_train-merror:0.002283\n",
      "[383]\txg_train-merror:0.002283\n",
      "[384]\txg_train-merror:0.002283\n",
      "[385]\txg_train-merror:0.002283\n",
      "[386]\txg_train-merror:0.002283\n",
      "[387]\txg_train-merror:0.002283\n",
      "[388]\txg_train-merror:0.002283\n",
      "[389]\txg_train-merror:0.001998\n",
      "[390]\txg_train-merror:0.001998\n",
      "[391]\txg_train-merror:0.001998\n",
      "[392]\txg_train-merror:0.001998\n",
      "[393]\txg_train-merror:0.001712\n",
      "[394]\txg_train-merror:0.001427\n",
      "[395]\txg_train-merror:0.001427\n",
      "[396]\txg_train-merror:0.001427\n",
      "[397]\txg_train-merror:0.001427\n",
      "[398]\txg_train-merror:0.001427\n",
      "[399]\txg_train-merror:0.001427\n",
      "[400]\txg_train-merror:0.001142\n",
      "[401]\txg_train-merror:0.001142\n",
      "[402]\txg_train-merror:0.001142\n",
      "[403]\txg_train-merror:0.001142\n",
      "[404]\txg_train-merror:0.001142\n",
      "[405]\txg_train-merror:0.001142\n",
      "[406]\txg_train-merror:0.000856\n",
      "[407]\txg_train-merror:0.000856\n",
      "[408]\txg_train-merror:0.000856\n",
      "[409]\txg_train-merror:0.000856\n",
      "[410]\txg_train-merror:0.000856\n",
      "[411]\txg_train-merror:0.000856\n",
      "[412]\txg_train-merror:0.000856\n",
      "[413]\txg_train-merror:0.000856\n",
      "[414]\txg_train-merror:0.000856\n",
      "[415]\txg_train-merror:0.000856\n",
      "[416]\txg_train-merror:0.000856\n",
      "[417]\txg_train-merror:0.000856\n",
      "[418]\txg_train-merror:0.000856\n",
      "[419]\txg_train-merror:0.000856\n",
      "[420]\txg_train-merror:0.000856\n",
      "[421]\txg_train-merror:0.000856\n",
      "[422]\txg_train-merror:0.000856\n",
      "[423]\txg_train-merror:0.000856\n",
      "[424]\txg_train-merror:0.000856\n",
      "[425]\txg_train-merror:0.000856\n",
      "[426]\txg_train-merror:0.000856\n",
      "[427]\txg_train-merror:0.000856\n",
      "[428]\txg_train-merror:0.000856\n",
      "[429]\txg_train-merror:0.000856\n",
      "[430]\txg_train-merror:0.000856\n",
      "[431]\txg_train-merror:0.000856\n",
      "[432]\txg_train-merror:0.000856\n",
      "[433]\txg_train-merror:0.000856\n",
      "[434]\txg_train-merror:0.000856\n",
      "[435]\txg_train-merror:0.000856\n",
      "[436]\txg_train-merror:0.000856\n",
      "[437]\txg_train-merror:0.000856\n",
      "[438]\txg_train-merror:0.000856\n",
      "[439]\txg_train-merror:0.000856\n",
      "[440]\txg_train-merror:0.000856\n",
      "[441]\txg_train-merror:0.000856\n",
      "[442]\txg_train-merror:0.000856\n",
      "[443]\txg_train-merror:0.000856\n",
      "[444]\txg_train-merror:0.000856\n",
      "[445]\txg_train-merror:0.000856\n",
      "[446]\txg_train-merror:0.000856\n",
      "[447]\txg_train-merror:0.000856\n",
      "[448]\txg_train-merror:0.000856\n",
      "[449]\txg_train-merror:0.000856\n",
      "[450]\txg_train-merror:0.000856\n",
      "[451]\txg_train-merror:0.000856\n",
      "[452]\txg_train-merror:0.000571\n",
      "[453]\txg_train-merror:0.000571\n",
      "[454]\txg_train-merror:0.000571\n",
      "[455]\txg_train-merror:0.000571\n",
      "[456]\txg_train-merror:0.000571\n",
      "[457]\txg_train-merror:0.000571\n"
     ]
    }
   ],
   "source": [
    "# create the model\n",
    "bst <- xgb.train(   params              = params, \n",
    "                    data                = dtrain, \n",
    "                    nrounds             = n_rounds.train, \n",
    "                    verbose             = 1,\n",
    "                    watchlist           = watchlist,\n",
    "                    maximize            = FALSE\n",
    ")"
   ]
  },
  {
   "cell_type": "code",
   "execution_count": 224,
   "metadata": {
    "collapsed": false
   },
   "outputs": [],
   "source": [
    "# generate predictions from model\n",
    "pred <- predict(bst, xg_test);"
   ]
  },
  {
   "cell_type": "code",
   "execution_count": 225,
   "metadata": {
    "collapsed": false
   },
   "outputs": [
    {
     "data": {
      "text/plain": [
       "Confusion Matrix and Statistics\n",
       "\n",
       "          Reference\n",
       "Prediction  0  1  2  3\n",
       "         0 81 70 51 11\n",
       "         1 96 94 61 17\n",
       "         2 31 33 29  7\n",
       "         3  6  7  6  0\n",
       "\n",
       "Overall Statistics\n",
       "                                        \n",
       "               Accuracy : 0.34          \n",
       "                 95% CI : (0.302, 0.379)\n",
       "    No Information Rate : 0.357         \n",
       "    P-Value [Acc > NIR] : 0.814354      \n",
       "                                        \n",
       "                  Kappa : 0.028         \n",
       " Mcnemar's Test P-Value : 0.000795      \n",
       "\n",
       "Statistics by Class:\n",
       "\n",
       "                     Class: 0 Class: 1 Class: 2 Class: 3\n",
       "Sensitivity             0.379    0.461   0.1973   0.0000\n",
       "Specificity             0.658    0.561   0.8433   0.9664\n",
       "Pos Pred Value          0.380    0.351   0.2900   0.0000\n",
       "Neg Pred Value          0.656    0.669   0.7640   0.9398\n",
       "Prevalence              0.357    0.340   0.2450   0.0583\n",
       "Detection Rate          0.135    0.157   0.0483   0.0000\n",
       "Detection Prevalence    0.355    0.447   0.1667   0.0317\n",
       "Balanced Accuracy       0.518    0.511   0.5203   0.4832"
      ]
     },
     "metadata": {},
     "output_type": "display_data"
    }
   ],
   "source": [
    "confusionMatrix(pred, actual)"
   ]
  },
  {
   "cell_type": "markdown",
   "metadata": {},
   "source": [
    "### Log Transform, scale and centre all features"
   ]
  },
  {
   "cell_type": "code",
   "execution_count": 259,
   "metadata": {
    "collapsed": false
   },
   "outputs": [],
   "source": [
    "xg_train <- Udf.Utilities.UpSample(train)\n",
    "\n",
    "xg_train$Result <- as.numeric(xg_train$Result)-1\n",
    "for(i in c(1:ncol(xg_train))) {\n",
    "    xg_train[,i] <- as.numeric(log(xg_train[,i]))    \n",
    "    xg_train[,i] <- scale(xg_train[,i], scale=TRUE, center=TRUE)\n",
    "}\n",
    "\n",
    "xg_train$Result <- xg_train.y"
   ]
  },
  {
   "cell_type": "code",
   "execution_count": 261,
   "metadata": {
    "collapsed": false
   },
   "outputs": [
    {
     "data": {
      "text/html": [
       "<table>\n",
       "<thead><tr><th></th><th scope=col>ATT1</th><th scope=col>ATT2</th><th scope=col>ATT3</th><th scope=col>ATT4</th><th scope=col>ATT5</th><th scope=col>ATT6</th><th scope=col>ATT7</th><th scope=col>ATT8</th><th scope=col>ATT9</th><th scope=col>ATT10</th><th scope=col>Result</th></tr></thead>\n",
       "<tbody>\n",
       "\t<tr><th scope=row>1</th><td>-0.04351</td><td> 1.10751</td><td> 1.23078</td><td> 1.07948</td><td>-1.73079</td><td>-0.82143</td><td> 1.12564</td><td> 0.71554</td><td>-0.79613</td><td>-0.20901</td><td> 0.00000</td></tr>\n",
       "\t<tr><th scope=row>2</th><td>-0.4565</td><td> 0.1765</td><td>-1.7368</td><td>-0.4646</td><td>-0.4359</td><td>-1.7960</td><td>-0.1893</td><td> 0.9215</td><td>-0.2330</td><td> 1.2753</td><td> 0.0000</td></tr>\n",
       "\t<tr><th scope=row>3</th><td> 0.5793</td><td> 0.1765</td><td> 1.0365</td><td>-1.7844</td><td>-0.4359</td><td>-0.8214</td><td>-0.1893</td><td> 1.2572</td><td> 1.2928</td><td> 1.1162</td><td> 0.0000</td></tr>\n",
       "\t<tr><th scope=row>4</th><td> 0.8264</td><td>-1.6855</td><td>-1.7368</td><td> 1.2801</td><td> 1.2759</td><td>-0.8214</td><td>-0.7328</td><td>-0.2104</td><td>-1.7588</td><td> 0.4812</td><td> 0.0000</td></tr>\n",
       "\t<tr><th scope=row>5</th><td> 0.57927</td><td>-1.68549</td><td>-0.04727</td><td>-0.46457</td><td> 0.85902</td><td>-1.79604</td><td> 1.28354</td><td>-0.75198</td><td> 0.72965</td><td> 0.93575</td><td> 0.00000</td></tr>\n",
       "\t<tr><th scope=row>6</th><td> 0.8264</td><td> 0.4762</td><td> 0.8193</td><td> 0.6010</td><td>-0.4359</td><td> 0.9400</td><td>-0.7328</td><td>-0.7520</td><td> 1.1292</td><td>-0.2090</td><td> 0.0000</td></tr>\n",
       "</tbody>\n",
       "</table>\n"
      ],
      "text/latex": [
       "\\begin{tabular}{r|lllllllllll}\n",
       "  & ATT1 & ATT2 & ATT3 & ATT4 & ATT5 & ATT6 & ATT7 & ATT8 & ATT9 & ATT10 & Result\\\\\n",
       "\\hline\n",
       "\t1 & -0.04351 &  1.10751 &  1.23078 &  1.07948 & -1.73079 & -0.82143 &  1.12564 &  0.71554 & -0.79613 & -0.20901 &  0.00000\\\\\n",
       "\t2 & -0.4565 &  0.1765 & -1.7368 & -0.4646 & -0.4359 & -1.7960 & -0.1893 &  0.9215 & -0.2330 &  1.2753 &  0.0000\\\\\n",
       "\t3 &  0.5793 &  0.1765 &  1.0365 & -1.7844 & -0.4359 & -0.8214 & -0.1893 &  1.2572 &  1.2928 &  1.1162 &  0.0000\\\\\n",
       "\t4 &  0.8264 & -1.6855 & -1.7368 &  1.2801 &  1.2759 & -0.8214 & -0.7328 & -0.2104 & -1.7588 &  0.4812 &  0.0000\\\\\n",
       "\t5 &  0.57927 & -1.68549 & -0.04727 & -0.46457 &  0.85902 & -1.79604 &  1.28354 & -0.75198 &  0.72965 &  0.93575 &  0.00000\\\\\n",
       "\t6 &  0.8264 &  0.4762 &  0.8193 &  0.6010 & -0.4359 &  0.9400 & -0.7328 & -0.7520 &  1.1292 & -0.2090 &  0.0000\\\\\n",
       "\\end{tabular}\n"
      ],
      "text/plain": [
       "      ATT1    ATT2     ATT3    ATT4    ATT5    ATT6    ATT7    ATT8    ATT9\n",
       "1 -0.04351  1.1075  1.23078  1.0795 -1.7308 -0.8214  1.1256  0.7155 -0.7961\n",
       "2 -0.45652  0.1765 -1.73676 -0.4646 -0.4359 -1.7960 -0.1893  0.9215 -0.2330\n",
       "3  0.57927  0.1765  1.03651 -1.7844 -0.4359 -0.8214 -0.1893  1.2572  1.2928\n",
       "4  0.82643 -1.6855 -1.73676  1.2801  1.2759 -0.8214 -0.7328 -0.2104 -1.7588\n",
       "5  0.57927 -1.6855 -0.04727 -0.4646  0.8590 -1.7960  1.2835 -0.7520  0.7297\n",
       "6  0.82643  0.4762  0.81934  0.6010 -0.4359  0.9400 -0.7328 -0.7520  1.1292\n",
       "    ATT10 Result\n",
       "1 -0.2090      0\n",
       "2  1.2753      0\n",
       "3  1.1162      0\n",
       "4  0.4812      0\n",
       "5  0.9358      0\n",
       "6 -0.2090      0"
      ]
     },
     "metadata": {},
     "output_type": "display_data"
    }
   ],
   "source": [
    "head(xg_train)"
   ]
  },
  {
   "cell_type": "code",
   "execution_count": 262,
   "metadata": {
    "collapsed": false
   },
   "outputs": [],
   "source": [
    "xg_train <- sparse.model.matrix(Result ~ ., data = xg_train)\n",
    "dtrain <- xgb.DMatrix(data=xg_train, label=xg_train.y)"
   ]
  },
  {
   "cell_type": "code",
   "execution_count": 266,
   "metadata": {
    "collapsed": false
   },
   "outputs": [
    {
     "name": "stdout",
     "output_type": "stream",
     "text": [
      "[0]\txg_train-merror:0.750285\n",
      "[1]\txg_train-merror:0.752283\n",
      "[2]\txg_train-merror:0.746861\n",
      "[3]\txg_train-merror:0.749429\n",
      "[4]\txg_train-merror:0.746575\n",
      "[5]\txg_train-merror:0.751427\n",
      "[6]\txg_train-merror:0.750571\n",
      "[7]\txg_train-merror:0.750571\n",
      "[8]\txg_train-merror:0.750856\n",
      "[9]\txg_train-merror:0.750856\n",
      "[10]\txg_train-merror:0.749144\n",
      "[11]\txg_train-merror:0.748573\n",
      "[12]\txg_train-merror:0.748573\n",
      "[13]\txg_train-merror:0.749144\n",
      "[14]\txg_train-merror:0.750000\n",
      "[15]\txg_train-merror:0.750000\n",
      "[16]\txg_train-merror:0.748573\n",
      "[17]\txg_train-merror:0.749144\n",
      "[18]\txg_train-merror:0.747717\n",
      "[19]\txg_train-merror:0.748002\n",
      "[20]\txg_train-merror:0.748858\n",
      "[21]\txg_train-merror:0.750571\n",
      "[22]\txg_train-merror:0.750285\n",
      "[23]\txg_train-merror:0.750000\n",
      "[24]\txg_train-merror:0.750000\n",
      "[25]\txg_train-merror:0.749144\n",
      "[26]\txg_train-merror:0.749715\n",
      "[27]\txg_train-merror:0.748858\n",
      "[28]\txg_train-merror:0.749429\n",
      "[29]\txg_train-merror:0.750000\n",
      "[30]\txg_train-merror:0.749429\n",
      "[31]\txg_train-merror:0.751142\n",
      "[32]\txg_train-merror:0.750856\n",
      "[33]\txg_train-merror:0.750856\n",
      "[34]\txg_train-merror:0.750856\n",
      "[35]\txg_train-merror:0.750856\n",
      "[36]\txg_train-merror:0.750856\n",
      "[37]\txg_train-merror:0.750856\n",
      "[38]\txg_train-merror:0.750856\n",
      "[39]\txg_train-merror:0.750856\n",
      "[40]\txg_train-merror:0.750000\n",
      "[41]\txg_train-merror:0.750000\n",
      "[42]\txg_train-merror:0.749715\n",
      "[43]\txg_train-merror:0.749429\n",
      "[44]\txg_train-merror:0.749429\n",
      "[45]\txg_train-merror:0.749429\n",
      "[46]\txg_train-merror:0.748858\n",
      "[47]\txg_train-merror:0.749144\n",
      "[48]\txg_train-merror:0.749144\n",
      "[49]\txg_train-merror:0.749429\n",
      "[50]\txg_train-merror:0.749715\n",
      "[51]\txg_train-merror:0.749144\n",
      "[52]\txg_train-merror:0.749144\n",
      "[53]\txg_train-merror:0.748573\n",
      "[54]\txg_train-merror:0.748858\n",
      "[55]\txg_train-merror:0.748858\n",
      "[56]\txg_train-merror:0.748858\n",
      "[57]\txg_train-merror:0.749429\n",
      "[58]\txg_train-merror:0.748858\n",
      "[59]\txg_train-merror:0.748858\n",
      "[60]\txg_train-merror:0.748858\n",
      "[61]\txg_train-merror:0.749429\n",
      "[62]\txg_train-merror:0.748858\n",
      "[63]\txg_train-merror:0.748858\n",
      "[64]\txg_train-merror:0.748858\n",
      "[65]\txg_train-merror:0.748858\n",
      "[66]\txg_train-merror:0.748858\n",
      "[67]\txg_train-merror:0.749715\n",
      "[68]\txg_train-merror:0.749715\n",
      "[69]\txg_train-merror:0.749715\n",
      "[70]\txg_train-merror:0.749715\n",
      "[71]\txg_train-merror:0.749715\n",
      "[72]\txg_train-merror:0.750856\n",
      "[73]\txg_train-merror:0.750856\n",
      "[74]\txg_train-merror:0.750856\n",
      "[75]\txg_train-merror:0.750856\n",
      "[76]\txg_train-merror:0.750856\n",
      "[77]\txg_train-merror:0.750856\n",
      "[78]\txg_train-merror:0.750856\n",
      "[79]\txg_train-merror:0.750856\n",
      "[80]\txg_train-merror:0.750856\n",
      "[81]\txg_train-merror:0.750856\n",
      "[82]\txg_train-merror:0.750856\n",
      "[83]\txg_train-merror:0.750856\n",
      "[84]\txg_train-merror:0.750856\n",
      "[85]\txg_train-merror:0.750856\n",
      "[86]\txg_train-merror:0.750856\n",
      "[87]\txg_train-merror:0.750856\n",
      "[88]\txg_train-merror:0.750856\n",
      "[89]\txg_train-merror:0.750856\n",
      "[90]\txg_train-merror:0.750856\n",
      "[91]\txg_train-merror:0.750856\n",
      "[92]\txg_train-merror:0.750856\n",
      "[93]\txg_train-merror:0.750856\n",
      "[94]\txg_train-merror:0.750856\n",
      "[95]\txg_train-merror:0.750856\n",
      "[96]\txg_train-merror:0.750856\n",
      "[97]\txg_train-merror:0.750856\n",
      "[98]\txg_train-merror:0.750856\n",
      "[99]\txg_train-merror:0.750856\n",
      "[100]\txg_train-merror:0.750856\n",
      "[101]\txg_train-merror:0.750856\n",
      "[102]\txg_train-merror:0.750856\n",
      "[103]\txg_train-merror:0.750856\n",
      "[104]\txg_train-merror:0.750856\n",
      "[105]\txg_train-merror:0.750856\n",
      "[106]\txg_train-merror:0.750856\n",
      "[107]\txg_train-merror:0.750856\n",
      "[108]\txg_train-merror:0.750856\n",
      "[109]\txg_train-merror:0.750856\n",
      "[110]\txg_train-merror:0.750856\n",
      "[111]\txg_train-merror:0.750856\n",
      "[112]\txg_train-merror:0.750856\n",
      "[113]\txg_train-merror:0.750571\n",
      "[114]\txg_train-merror:0.750571\n",
      "[115]\txg_train-merror:0.751427\n",
      "[116]\txg_train-merror:0.751998\n",
      "[117]\txg_train-merror:0.751998\n",
      "[118]\txg_train-merror:0.752283\n",
      "[119]\txg_train-merror:0.751998\n",
      "[120]\txg_train-merror:0.751998\n",
      "[121]\txg_train-merror:0.752283\n",
      "[122]\txg_train-merror:0.751998\n",
      "[123]\txg_train-merror:0.751712\n",
      "[124]\txg_train-merror:0.750856\n",
      "[125]\txg_train-merror:0.750856\n",
      "[126]\txg_train-merror:0.750856\n",
      "[127]\txg_train-merror:0.750856\n",
      "[128]\txg_train-merror:0.751142\n",
      "[129]\txg_train-merror:0.751142\n",
      "[130]\txg_train-merror:0.750856\n",
      "[131]\txg_train-merror:0.750856\n",
      "[132]\txg_train-merror:0.750856\n",
      "[133]\txg_train-merror:0.750856\n",
      "[134]\txg_train-merror:0.750856\n",
      "[135]\txg_train-merror:0.750856\n",
      "[136]\txg_train-merror:0.750856\n",
      "[137]\txg_train-merror:0.750856\n",
      "[138]\txg_train-merror:0.750856\n",
      "[139]\txg_train-merror:0.750856\n",
      "[140]\txg_train-merror:0.750856\n",
      "[141]\txg_train-merror:0.750856\n",
      "[142]\txg_train-merror:0.750856\n",
      "[143]\txg_train-merror:0.750856\n",
      "[144]\txg_train-merror:0.750856\n",
      "[145]\txg_train-merror:0.750856\n",
      "[146]\txg_train-merror:0.750856\n",
      "[147]\txg_train-merror:0.750856\n",
      "[148]\txg_train-merror:0.750856\n",
      "[149]\txg_train-merror:0.750856\n",
      "[150]\txg_train-merror:0.750856\n",
      "[151]\txg_train-merror:0.750856\n",
      "[152]\txg_train-merror:0.750856\n",
      "[153]\txg_train-merror:0.750856\n",
      "[154]\txg_train-merror:0.750856\n",
      "[155]\txg_train-merror:0.750856\n",
      "[156]\txg_train-merror:0.750856\n",
      "[157]\txg_train-merror:0.751427\n",
      "[158]\txg_train-merror:0.751142\n",
      "[159]\txg_train-merror:0.751427\n",
      "[160]\txg_train-merror:0.751427\n",
      "[161]\txg_train-merror:0.751427\n",
      "[162]\txg_train-merror:0.751427\n",
      "[163]\txg_train-merror:0.752283\n",
      "[164]\txg_train-merror:0.752283\n",
      "[165]\txg_train-merror:0.752568\n",
      "[166]\txg_train-merror:0.753425\n",
      "[167]\txg_train-merror:0.753425\n",
      "[168]\txg_train-merror:0.753425\n",
      "[169]\txg_train-merror:0.753139\n",
      "[170]\txg_train-merror:0.753139\n",
      "[171]\txg_train-merror:0.753139\n",
      "[172]\txg_train-merror:0.753139\n",
      "[173]\txg_train-merror:0.753139\n",
      "[174]\txg_train-merror:0.753139\n",
      "[175]\txg_train-merror:0.753139\n",
      "[176]\txg_train-merror:0.753139\n",
      "[177]\txg_train-merror:0.753139\n",
      "[178]\txg_train-merror:0.753139\n",
      "[179]\txg_train-merror:0.753139\n",
      "[180]\txg_train-merror:0.753139\n",
      "[181]\txg_train-merror:0.753139\n",
      "[182]\txg_train-merror:0.753139\n",
      "[183]\txg_train-merror:0.753139\n",
      "[184]\txg_train-merror:0.753139\n",
      "[185]\txg_train-merror:0.752283\n",
      "[186]\txg_train-merror:0.753139\n",
      "[187]\txg_train-merror:0.753139\n",
      "[188]\txg_train-merror:0.753139\n",
      "[189]\txg_train-merror:0.752283\n",
      "[190]\txg_train-merror:0.752283\n",
      "[191]\txg_train-merror:0.753139\n",
      "[192]\txg_train-merror:0.753139\n",
      "[193]\txg_train-merror:0.752283\n",
      "[194]\txg_train-merror:0.752283\n",
      "[195]\txg_train-merror:0.753139\n",
      "[196]\txg_train-merror:0.753139\n",
      "[197]\txg_train-merror:0.753139\n",
      "[198]\txg_train-merror:0.753139\n",
      "[199]\txg_train-merror:0.753139\n",
      "[200]\txg_train-merror:0.753139\n",
      "[201]\txg_train-merror:0.753139\n",
      "[202]\txg_train-merror:0.753139\n",
      "[203]\txg_train-merror:0.753139\n",
      "[204]\txg_train-merror:0.753139\n",
      "[205]\txg_train-merror:0.753139\n",
      "[206]\txg_train-merror:0.753139\n",
      "[207]\txg_train-merror:0.753139\n",
      "[208]\txg_train-merror:0.753139\n",
      "[209]\txg_train-merror:0.753139\n",
      "[210]\txg_train-merror:0.753139\n",
      "[211]\txg_train-merror:0.753139\n",
      "[212]\txg_train-merror:0.753139\n",
      "[213]\txg_train-merror:0.753139\n",
      "[214]\txg_train-merror:0.753139\n",
      "[215]\txg_train-merror:0.753139\n",
      "[216]\txg_train-merror:0.753139\n",
      "[217]\txg_train-merror:0.753139\n",
      "[218]\txg_train-merror:0.753139\n",
      "[219]\txg_train-merror:0.753139\n",
      "[220]\txg_train-merror:0.753139\n",
      "[221]\txg_train-merror:0.753139\n",
      "[222]\txg_train-merror:0.753139\n",
      "[223]\txg_train-merror:0.752568\n",
      "[224]\txg_train-merror:0.752568\n",
      "[225]\txg_train-merror:0.752568\n",
      "[226]\txg_train-merror:0.752568\n",
      "[227]\txg_train-merror:0.752568\n",
      "[228]\txg_train-merror:0.752568\n",
      "[229]\txg_train-merror:0.752568\n",
      "[230]\txg_train-merror:0.751998\n",
      "[231]\txg_train-merror:0.751998\n",
      "[232]\txg_train-merror:0.752283\n",
      "[233]\txg_train-merror:0.751998\n",
      "[234]\txg_train-merror:0.751998\n",
      "[235]\txg_train-merror:0.752568\n",
      "[236]\txg_train-merror:0.752568\n",
      "[237]\txg_train-merror:0.752568\n",
      "[238]\txg_train-merror:0.751998\n",
      "[239]\txg_train-merror:0.751998\n",
      "[240]\txg_train-merror:0.751998\n",
      "[241]\txg_train-merror:0.751998\n",
      "[242]\txg_train-merror:0.753139\n",
      "[243]\txg_train-merror:0.753139\n",
      "[244]\txg_train-merror:0.753139\n",
      "[245]\txg_train-merror:0.752568\n",
      "[246]\txg_train-merror:0.753139\n",
      "[247]\txg_train-merror:0.753139\n",
      "[248]\txg_train-merror:0.753139\n",
      "[249]\txg_train-merror:0.752568\n",
      "[250]\txg_train-merror:0.753139\n",
      "[251]\txg_train-merror:0.753139\n",
      "[252]\txg_train-merror:0.753139\n",
      "[253]\txg_train-merror:0.753139\n",
      "[254]\txg_train-merror:0.753139\n",
      "[255]\txg_train-merror:0.753139\n",
      "[256]\txg_train-merror:0.753139\n",
      "[257]\txg_train-merror:0.753139\n",
      "[258]\txg_train-merror:0.753139\n",
      "[259]\txg_train-merror:0.753139\n",
      "[260]\txg_train-merror:0.753139\n",
      "[261]\txg_train-merror:0.753139\n",
      "[262]\txg_train-merror:0.753139\n",
      "[263]\txg_train-merror:0.753139\n",
      "[264]\txg_train-merror:0.753139\n",
      "[265]\txg_train-merror:0.753139\n",
      "[266]\txg_train-merror:0.753139\n",
      "[267]\txg_train-merror:0.753139\n",
      "[268]\txg_train-merror:0.753139\n",
      "[269]\txg_train-merror:0.753139\n",
      "[270]\txg_train-merror:0.752283\n",
      "[271]\txg_train-merror:0.752283\n",
      "[272]\txg_train-merror:0.752283\n",
      "[273]\txg_train-merror:0.752283\n",
      "[274]\txg_train-merror:0.753139\n",
      "[275]\txg_train-merror:0.753139\n",
      "[276]\txg_train-merror:0.752283\n",
      "[277]\txg_train-merror:0.752283\n",
      "[278]\txg_train-merror:0.752283\n",
      "[279]\txg_train-merror:0.752283\n",
      "[280]\txg_train-merror:0.752283\n",
      "[281]\txg_train-merror:0.752283\n",
      "[282]\txg_train-merror:0.752283\n",
      "[283]\txg_train-merror:0.752283\n",
      "[284]\txg_train-merror:0.752283\n",
      "[285]\txg_train-merror:0.752283\n",
      "[286]\txg_train-merror:0.752283\n",
      "[287]\txg_train-merror:0.753139\n",
      "[288]\txg_train-merror:0.753139\n",
      "[289]\txg_train-merror:0.753139\n",
      "[290]\txg_train-merror:0.753139\n",
      "[291]\txg_train-merror:0.753139\n",
      "[292]\txg_train-merror:0.754566\n",
      "[293]\txg_train-merror:0.754566\n",
      "[294]\txg_train-merror:0.753995\n",
      "[295]\txg_train-merror:0.755422\n",
      "[296]\txg_train-merror:0.753995\n",
      "[297]\txg_train-merror:0.753995\n",
      "[298]\txg_train-merror:0.753995\n",
      "[299]\txg_train-merror:0.755422\n",
      "[300]\txg_train-merror:0.753995\n",
      "[301]\txg_train-merror:0.755422\n",
      "[302]\txg_train-merror:0.755422\n",
      "[303]\txg_train-merror:0.755422\n",
      "[304]\txg_train-merror:0.755422\n",
      "[305]\txg_train-merror:0.755422\n",
      "[306]\txg_train-merror:0.755422\n",
      "[307]\txg_train-merror:0.755422\n",
      "[308]\txg_train-merror:0.755422\n",
      "[309]\txg_train-merror:0.755422\n",
      "[310]\txg_train-merror:0.755422\n",
      "[311]\txg_train-merror:0.755422\n",
      "[312]\txg_train-merror:0.755422\n",
      "[313]\txg_train-merror:0.755422\n",
      "[314]\txg_train-merror:0.755993\n",
      "[315]\txg_train-merror:0.755422\n",
      "[316]\txg_train-merror:0.755422\n",
      "[317]\txg_train-merror:0.755422\n",
      "[318]\txg_train-merror:0.755422\n",
      "[319]\txg_train-merror:0.755993\n",
      "[320]\txg_train-merror:0.755993\n",
      "[321]\txg_train-merror:0.755993\n",
      "[322]\txg_train-merror:0.755422\n",
      "[323]\txg_train-merror:0.755422\n",
      "[324]\txg_train-merror:0.755422\n",
      "[325]\txg_train-merror:0.755422\n",
      "[326]\txg_train-merror:0.755993\n",
      "[327]\txg_train-merror:0.755993\n",
      "[328]\txg_train-merror:0.755993\n",
      "[329]\txg_train-merror:0.755993\n",
      "[330]\txg_train-merror:0.755993\n",
      "[331]\txg_train-merror:0.755993\n",
      "[332]\txg_train-merror:0.755993\n",
      "[333]\txg_train-merror:0.755993\n",
      "[334]\txg_train-merror:0.755993\n",
      "[335]\txg_train-merror:0.755993\n",
      "[336]\txg_train-merror:0.755993\n",
      "[337]\txg_train-merror:0.755993\n",
      "[338]\txg_train-merror:0.755993\n",
      "[339]\txg_train-merror:0.755993\n",
      "[340]\txg_train-merror:0.755993\n",
      "[341]\txg_train-merror:0.755993\n",
      "[342]\txg_train-merror:0.755993\n",
      "[343]\txg_train-merror:0.755993\n",
      "[344]\txg_train-merror:0.755993\n",
      "[345]\txg_train-merror:0.755993\n",
      "[346]\txg_train-merror:0.755993\n",
      "[347]\txg_train-merror:0.755422\n",
      "[348]\txg_train-merror:0.755422\n",
      "[349]\txg_train-merror:0.755422\n",
      "[350]\txg_train-merror:0.755422\n",
      "[351]\txg_train-merror:0.755422\n",
      "[352]\txg_train-merror:0.755422\n",
      "[353]\txg_train-merror:0.755422\n",
      "[354]\txg_train-merror:0.755422\n",
      "[355]\txg_train-merror:0.755422\n",
      "[356]\txg_train-merror:0.755422\n",
      "[357]\txg_train-merror:0.755422\n",
      "[358]\txg_train-merror:0.755993\n",
      "[359]\txg_train-merror:0.755993\n",
      "[360]\txg_train-merror:0.755993\n",
      "[361]\txg_train-merror:0.755993\n",
      "[362]\txg_train-merror:0.755993\n",
      "[363]\txg_train-merror:0.755993\n",
      "[364]\txg_train-merror:0.755422\n",
      "[365]\txg_train-merror:0.754566\n",
      "[366]\txg_train-merror:0.754566\n",
      "[367]\txg_train-merror:0.754566\n",
      "[368]\txg_train-merror:0.754566\n",
      "[369]\txg_train-merror:0.754566\n",
      "[370]\txg_train-merror:0.754566\n",
      "[371]\txg_train-merror:0.754566\n",
      "[372]\txg_train-merror:0.754566\n",
      "[373]\txg_train-merror:0.754566\n",
      "[374]\txg_train-merror:0.754566\n",
      "[375]\txg_train-merror:0.754566\n",
      "[376]\txg_train-merror:0.754566\n",
      "[377]\txg_train-merror:0.754566\n",
      "[378]\txg_train-merror:0.754566\n",
      "[379]\txg_train-merror:0.754566\n",
      "[380]\txg_train-merror:0.754566\n",
      "[381]\txg_train-merror:0.754566\n",
      "[382]\txg_train-merror:0.754566\n",
      "[383]\txg_train-merror:0.754566\n",
      "[384]\txg_train-merror:0.754566\n",
      "[385]\txg_train-merror:0.754566\n",
      "[386]\txg_train-merror:0.754566\n",
      "[387]\txg_train-merror:0.754566\n",
      "[388]\txg_train-merror:0.754566\n",
      "[389]\txg_train-merror:0.754566\n",
      "[390]\txg_train-merror:0.754566\n",
      "[391]\txg_train-merror:0.754566\n",
      "[392]\txg_train-merror:0.754566\n",
      "[393]\txg_train-merror:0.754566\n",
      "[394]\txg_train-merror:0.754566\n",
      "[395]\txg_train-merror:0.754566\n",
      "[396]\txg_train-merror:0.754566\n",
      "[397]\txg_train-merror:0.754566\n",
      "[398]\txg_train-merror:0.754566\n",
      "[399]\txg_train-merror:0.754566\n",
      "[400]\txg_train-merror:0.754566\n",
      "[401]\txg_train-merror:0.754566\n",
      "[402]\txg_train-merror:0.754566\n",
      "[403]\txg_train-merror:0.754566\n",
      "[404]\txg_train-merror:0.754566\n",
      "[405]\txg_train-merror:0.754566\n",
      "[406]\txg_train-merror:0.754566\n",
      "[407]\txg_train-merror:0.754566\n",
      "[408]\txg_train-merror:0.754566\n",
      "[409]\txg_train-merror:0.754566\n",
      "[410]\txg_train-merror:0.754566\n",
      "[411]\txg_train-merror:0.754566\n",
      "[412]\txg_train-merror:0.754566\n",
      "[413]\txg_train-merror:0.754566\n",
      "[414]\txg_train-merror:0.754566\n",
      "[415]\txg_train-merror:0.754566\n",
      "[416]\txg_train-merror:0.754566\n",
      "[417]\txg_train-merror:0.754566\n",
      "[418]\txg_train-merror:0.754566\n",
      "[419]\txg_train-merror:0.754566\n",
      "[420]\txg_train-merror:0.754566\n",
      "[421]\txg_train-merror:0.754566\n",
      "[422]\txg_train-merror:0.754566\n",
      "[423]\txg_train-merror:0.754566\n",
      "[424]\txg_train-merror:0.754566\n",
      "[425]\txg_train-merror:0.754566\n",
      "[426]\txg_train-merror:0.755137\n",
      "[427]\txg_train-merror:0.754566\n",
      "[428]\txg_train-merror:0.754566\n",
      "[429]\txg_train-merror:0.754566\n",
      "[430]\txg_train-merror:0.754566\n",
      "[431]\txg_train-merror:0.754566\n",
      "[432]\txg_train-merror:0.754566\n",
      "[433]\txg_train-merror:0.754566\n",
      "[434]\txg_train-merror:0.754566\n",
      "[435]\txg_train-merror:0.755137\n",
      "[436]\txg_train-merror:0.755137\n",
      "[437]\txg_train-merror:0.755137\n",
      "[438]\txg_train-merror:0.755137\n",
      "[439]\txg_train-merror:0.755137\n",
      "[440]\txg_train-merror:0.755137\n",
      "[441]\txg_train-merror:0.755137\n",
      "[442]\txg_train-merror:0.755137\n",
      "[443]\txg_train-merror:0.755137\n",
      "[444]\txg_train-merror:0.755137\n",
      "[445]\txg_train-merror:0.755137\n",
      "[446]\txg_train-merror:0.755137\n",
      "[447]\txg_train-merror:0.755137\n",
      "[448]\txg_train-merror:0.755137\n",
      "[449]\txg_train-merror:0.755137\n",
      "[450]\txg_train-merror:0.755137\n",
      "[451]\txg_train-merror:0.755137\n",
      "[452]\txg_train-merror:0.754852\n",
      "[453]\txg_train-merror:0.754852\n",
      "[454]\txg_train-merror:0.754852\n",
      "[455]\txg_train-merror:0.755137\n",
      "[456]\txg_train-merror:0.755137\n",
      "[457]\txg_train-merror:0.754852\n",
      "[0]\ttrain-merror:0.560154+0.005533\ttest-merror:0.648148+0.032014\n",
      "[20]\ttrain-merror:0.283073+0.010657\ttest-merror:0.508292+0.031884\n",
      "[40]\ttrain-merror:0.204179+0.008972\ttest-merror:0.473455+0.029396\n",
      "[60]\ttrain-merror:0.151160+0.007728\ttest-merror:0.454332+0.032599\n",
      "[80]\ttrain-merror:0.113140+0.004822\ttest-merror:0.438062+0.035526\n",
      "[100]\ttrain-merror:0.086853+0.004523\ttest-merror:0.422085+0.035459\n",
      "[120]\ttrain-merror:0.065988+0.004304\ttest-merror:0.408665+0.034517\n",
      "[140]\ttrain-merror:0.050323+0.002954\ttest-merror:0.404387+0.030962\n",
      "[160]\ttrain-merror:0.038464+0.003724\ttest-merror:0.395535+0.031782\n",
      "[180]\ttrain-merror:0.029173+0.002613\ttest-merror:0.387539+0.030509\n",
      "[200]\ttrain-merror:0.022292+0.001976\ttest-merror:0.385832+0.028381\n",
      "[220]\ttrain-merror:0.016996+0.002161\ttest-merror:0.382122+0.028460\n",
      "[240]\ttrain-merror:0.012462+0.001079\ttest-merror:0.378414+0.030833\n",
      "[260]\ttrain-merror:0.009291+0.000686\ttest-merror:0.376131+0.031010\n",
      "[280]\ttrain-merror:0.006405+0.000729\ttest-merror:0.369279+0.025679\n",
      "[300]\ttrain-merror:0.004598+0.000751\ttest-merror:0.369849+0.028024\n",
      "[320]\ttrain-merror:0.003393+0.000599\ttest-merror:0.368707+0.023039\n",
      "[340]\ttrain-merror:0.002346+0.000835\ttest-merror:0.368710+0.026890\n",
      "[360]\ttrain-merror:0.001585+0.000616\ttest-merror:0.366430+0.026539\n",
      "[380]\ttrain-merror:0.000919+0.000506\ttest-merror:0.365576+0.026278\n",
      "[400]\ttrain-merror:0.000729+0.000560\ttest-merror:0.364150+0.026261\n",
      "[420]\ttrain-merror:0.000380+0.000291\ttest-merror:0.363582+0.023847\n",
      "[440]\ttrain-merror:0.000222+0.000261\ttest-merror:0.362724+0.027298\n",
      "[460]\ttrain-merror:0.000095+0.000214\ttest-merror:0.363008+0.021958\n",
      "[480]\ttrain-merror:0.000032+0.000100\ttest-merror:0.363866+0.022121\n"
     ]
    },
    {
     "data": {
      "text/html": [
       "426"
      ],
      "text/latex": [
       "426"
      ],
      "text/markdown": [
       "426"
      ],
      "text/plain": [
       "[1] 426"
      ]
     },
     "metadata": {},
     "output_type": "display_data"
    }
   ],
   "source": [
    "# create the model\n",
    "bst <- xgb.train(   params              = params, \n",
    "                    data                = dtrain, \n",
    "                    nrounds             = n_rounds.train, \n",
    "                    verbose             = 1,\n",
    "                    watchlist           = watchlist,\n",
    "                    maximize            = FALSE\n",
    ")\n",
    "\n",
    "bst.cv <- xgb.cv(params, dtrain, n_rounds.cv, nfold = 10, metrics = {'merror'},\n",
    "                 print.every.n = 20, prediction = TRUE)\n",
    "\n",
    "n_rounds.train <- which.min(bst.cv$dt[, test.merror.mean])\n",
    "n_rounds.train"
   ]
  },
  {
   "cell_type": "code",
   "execution_count": 267,
   "metadata": {
    "collapsed": false
   },
   "outputs": [
    {
     "name": "stdout",
     "output_type": "stream",
     "text": [
      "[0]\txg_train-merror:0.748288\n",
      "[1]\txg_train-merror:0.750285\n",
      "[2]\txg_train-merror:0.749715\n",
      "[3]\txg_train-merror:0.750285\n",
      "[4]\txg_train-merror:0.750571\n",
      "[5]\txg_train-merror:0.750000\n",
      "[6]\txg_train-merror:0.749715\n",
      "[7]\txg_train-merror:0.749715\n",
      "[8]\txg_train-merror:0.749429\n",
      "[9]\txg_train-merror:0.751712\n",
      "[10]\txg_train-merror:0.750856\n",
      "[11]\txg_train-merror:0.751712\n",
      "[12]\txg_train-merror:0.750856\n",
      "[13]\txg_train-merror:0.751712\n",
      "[14]\txg_train-merror:0.751142\n",
      "[15]\txg_train-merror:0.751998\n",
      "[16]\txg_train-merror:0.751998\n",
      "[17]\txg_train-merror:0.750856\n",
      "[18]\txg_train-merror:0.751712\n",
      "[19]\txg_train-merror:0.751712\n",
      "[20]\txg_train-merror:0.751712\n",
      "[21]\txg_train-merror:0.751712\n",
      "[22]\txg_train-merror:0.752854\n",
      "[23]\txg_train-merror:0.751712\n",
      "[24]\txg_train-merror:0.751712\n",
      "[25]\txg_train-merror:0.751712\n",
      "[26]\txg_train-merror:0.751712\n",
      "[27]\txg_train-merror:0.751427\n",
      "[28]\txg_train-merror:0.751427\n",
      "[29]\txg_train-merror:0.751142\n",
      "[30]\txg_train-merror:0.751142\n",
      "[31]\txg_train-merror:0.751142\n",
      "[32]\txg_train-merror:0.751427\n",
      "[33]\txg_train-merror:0.751427\n",
      "[34]\txg_train-merror:0.751427\n",
      "[35]\txg_train-merror:0.751427\n",
      "[36]\txg_train-merror:0.751712\n",
      "[37]\txg_train-merror:0.751712\n",
      "[38]\txg_train-merror:0.751427\n",
      "[39]\txg_train-merror:0.751142\n",
      "[40]\txg_train-merror:0.751427\n",
      "[41]\txg_train-merror:0.751427\n",
      "[42]\txg_train-merror:0.751427\n",
      "[43]\txg_train-merror:0.751142\n",
      "[44]\txg_train-merror:0.751427\n",
      "[45]\txg_train-merror:0.751427\n",
      "[46]\txg_train-merror:0.750571\n",
      "[47]\txg_train-merror:0.751427\n",
      "[48]\txg_train-merror:0.750571\n",
      "[49]\txg_train-merror:0.750571\n",
      "[50]\txg_train-merror:0.750571\n",
      "[51]\txg_train-merror:0.750571\n",
      "[52]\txg_train-merror:0.750571\n",
      "[53]\txg_train-merror:0.751427\n",
      "[54]\txg_train-merror:0.749429\n",
      "[55]\txg_train-merror:0.750856\n",
      "[56]\txg_train-merror:0.750856\n",
      "[57]\txg_train-merror:0.750856\n",
      "[58]\txg_train-merror:0.751142\n",
      "[59]\txg_train-merror:0.750571\n",
      "[60]\txg_train-merror:0.751142\n",
      "[61]\txg_train-merror:0.751142\n",
      "[62]\txg_train-merror:0.750571\n",
      "[63]\txg_train-merror:0.750856\n",
      "[64]\txg_train-merror:0.750856\n",
      "[65]\txg_train-merror:0.750856\n",
      "[66]\txg_train-merror:0.750285\n",
      "[67]\txg_train-merror:0.751142\n",
      "[68]\txg_train-merror:0.751142\n",
      "[69]\txg_train-merror:0.751142\n",
      "[70]\txg_train-merror:0.751998\n",
      "[71]\txg_train-merror:0.752283\n",
      "[72]\txg_train-merror:0.752283\n",
      "[73]\txg_train-merror:0.752283\n",
      "[74]\txg_train-merror:0.751998\n",
      "[75]\txg_train-merror:0.751427\n",
      "[76]\txg_train-merror:0.752283\n",
      "[77]\txg_train-merror:0.752283\n",
      "[78]\txg_train-merror:0.752283\n",
      "[79]\txg_train-merror:0.752283\n",
      "[80]\txg_train-merror:0.751998\n",
      "[81]\txg_train-merror:0.752283\n",
      "[82]\txg_train-merror:0.751998\n",
      "[83]\txg_train-merror:0.751998\n",
      "[84]\txg_train-merror:0.751142\n",
      "[85]\txg_train-merror:0.751142\n",
      "[86]\txg_train-merror:0.751142\n",
      "[87]\txg_train-merror:0.751142\n",
      "[88]\txg_train-merror:0.750856\n",
      "[89]\txg_train-merror:0.750856\n",
      "[90]\txg_train-merror:0.750000\n",
      "[91]\txg_train-merror:0.750856\n",
      "[92]\txg_train-merror:0.750856\n",
      "[93]\txg_train-merror:0.750571\n",
      "[94]\txg_train-merror:0.751142\n",
      "[95]\txg_train-merror:0.751142\n",
      "[96]\txg_train-merror:0.750285\n",
      "[97]\txg_train-merror:0.751142\n",
      "[98]\txg_train-merror:0.751142\n",
      "[99]\txg_train-merror:0.750000\n",
      "[100]\txg_train-merror:0.751142\n",
      "[101]\txg_train-merror:0.751142\n",
      "[102]\txg_train-merror:0.751142\n",
      "[103]\txg_train-merror:0.751142\n",
      "[104]\txg_train-merror:0.750856\n",
      "[105]\txg_train-merror:0.751142\n",
      "[106]\txg_train-merror:0.751142\n",
      "[107]\txg_train-merror:0.751142\n",
      "[108]\txg_train-merror:0.751712\n",
      "[109]\txg_train-merror:0.751142\n",
      "[110]\txg_train-merror:0.751142\n",
      "[111]\txg_train-merror:0.751142\n",
      "[112]\txg_train-merror:0.751712\n",
      "[113]\txg_train-merror:0.751712\n",
      "[114]\txg_train-merror:0.751712\n",
      "[115]\txg_train-merror:0.751998\n",
      "[116]\txg_train-merror:0.751998\n",
      "[117]\txg_train-merror:0.751998\n",
      "[118]\txg_train-merror:0.751998\n",
      "[119]\txg_train-merror:0.751998\n",
      "[120]\txg_train-merror:0.751998\n",
      "[121]\txg_train-merror:0.751998\n",
      "[122]\txg_train-merror:0.751998\n",
      "[123]\txg_train-merror:0.751998\n",
      "[124]\txg_train-merror:0.751998\n",
      "[125]\txg_train-merror:0.751998\n",
      "[126]\txg_train-merror:0.751998\n",
      "[127]\txg_train-merror:0.751998\n",
      "[128]\txg_train-merror:0.751712\n",
      "[129]\txg_train-merror:0.751712\n",
      "[130]\txg_train-merror:0.751712\n",
      "[131]\txg_train-merror:0.751427\n",
      "[132]\txg_train-merror:0.751427\n",
      "[133]\txg_train-merror:0.751712\n",
      "[134]\txg_train-merror:0.751712\n",
      "[135]\txg_train-merror:0.751712\n",
      "[136]\txg_train-merror:0.751712\n",
      "[137]\txg_train-merror:0.751998\n",
      "[138]\txg_train-merror:0.751712\n",
      "[139]\txg_train-merror:0.751712\n",
      "[140]\txg_train-merror:0.751712\n",
      "[141]\txg_train-merror:0.751712\n",
      "[142]\txg_train-merror:0.751712\n",
      "[143]\txg_train-merror:0.751712\n",
      "[144]\txg_train-merror:0.751142\n",
      "[145]\txg_train-merror:0.751142\n",
      "[146]\txg_train-merror:0.751142\n",
      "[147]\txg_train-merror:0.751712\n",
      "[148]\txg_train-merror:0.751142\n",
      "[149]\txg_train-merror:0.751142\n",
      "[150]\txg_train-merror:0.751142\n",
      "[151]\txg_train-merror:0.751142\n",
      "[152]\txg_train-merror:0.750856\n",
      "[153]\txg_train-merror:0.751142\n",
      "[154]\txg_train-merror:0.751712\n",
      "[155]\txg_train-merror:0.751712\n",
      "[156]\txg_train-merror:0.751712\n",
      "[157]\txg_train-merror:0.750856\n",
      "[158]\txg_train-merror:0.750856\n",
      "[159]\txg_train-merror:0.750571\n",
      "[160]\txg_train-merror:0.750856\n",
      "[161]\txg_train-merror:0.750571\n",
      "[162]\txg_train-merror:0.751142\n",
      "[163]\txg_train-merror:0.751142\n",
      "[164]\txg_train-merror:0.751712\n",
      "[165]\txg_train-merror:0.751712\n",
      "[166]\txg_train-merror:0.751712\n",
      "[167]\txg_train-merror:0.751712\n",
      "[168]\txg_train-merror:0.751712\n",
      "[169]\txg_train-merror:0.751712\n",
      "[170]\txg_train-merror:0.750856\n",
      "[171]\txg_train-merror:0.751712\n",
      "[172]\txg_train-merror:0.751427\n",
      "[173]\txg_train-merror:0.751712\n",
      "[174]\txg_train-merror:0.751712\n",
      "[175]\txg_train-merror:0.751712\n",
      "[176]\txg_train-merror:0.751712\n",
      "[177]\txg_train-merror:0.751712\n",
      "[178]\txg_train-merror:0.751712\n",
      "[179]\txg_train-merror:0.751712\n",
      "[180]\txg_train-merror:0.751712\n",
      "[181]\txg_train-merror:0.751712\n",
      "[182]\txg_train-merror:0.751712\n",
      "[183]\txg_train-merror:0.751712\n",
      "[184]\txg_train-merror:0.750856\n",
      "[185]\txg_train-merror:0.750856\n",
      "[186]\txg_train-merror:0.750856\n",
      "[187]\txg_train-merror:0.750856\n",
      "[188]\txg_train-merror:0.750856\n",
      "[189]\txg_train-merror:0.750856\n",
      "[190]\txg_train-merror:0.750856\n",
      "[191]\txg_train-merror:0.750856\n",
      "[192]\txg_train-merror:0.750571\n",
      "[193]\txg_train-merror:0.750571\n",
      "[194]\txg_train-merror:0.750856\n",
      "[195]\txg_train-merror:0.750856\n",
      "[196]\txg_train-merror:0.750856\n",
      "[197]\txg_train-merror:0.750571\n",
      "[198]\txg_train-merror:0.750571\n",
      "[199]\txg_train-merror:0.750571\n",
      "[200]\txg_train-merror:0.750856\n",
      "[201]\txg_train-merror:0.750571\n",
      "[202]\txg_train-merror:0.750571\n",
      "[203]\txg_train-merror:0.750571\n",
      "[204]\txg_train-merror:0.750571\n",
      "[205]\txg_train-merror:0.750571\n",
      "[206]\txg_train-merror:0.750571\n",
      "[207]\txg_train-merror:0.750571\n",
      "[208]\txg_train-merror:0.750571\n",
      "[209]\txg_train-merror:0.750571\n",
      "[210]\txg_train-merror:0.750571\n",
      "[211]\txg_train-merror:0.750571\n",
      "[212]\txg_train-merror:0.749144\n",
      "[213]\txg_train-merror:0.750571\n",
      "[214]\txg_train-merror:0.750571\n",
      "[215]\txg_train-merror:0.750571\n",
      "[216]\txg_train-merror:0.750571\n",
      "[217]\txg_train-merror:0.751142\n",
      "[218]\txg_train-merror:0.750571\n",
      "[219]\txg_train-merror:0.750571\n",
      "[220]\txg_train-merror:0.750571\n",
      "[221]\txg_train-merror:0.751142\n",
      "[222]\txg_train-merror:0.751142\n",
      "[223]\txg_train-merror:0.751142\n",
      "[224]\txg_train-merror:0.751142\n",
      "[225]\txg_train-merror:0.750285\n",
      "[226]\txg_train-merror:0.750285\n",
      "[227]\txg_train-merror:0.749715\n",
      "[228]\txg_train-merror:0.750571\n",
      "[229]\txg_train-merror:0.750571\n",
      "[230]\txg_train-merror:0.750571\n",
      "[231]\txg_train-merror:0.750571\n",
      "[232]\txg_train-merror:0.750571\n",
      "[233]\txg_train-merror:0.750285\n",
      "[234]\txg_train-merror:0.750571\n",
      "[235]\txg_train-merror:0.750285\n",
      "[236]\txg_train-merror:0.750571\n",
      "[237]\txg_train-merror:0.750571\n",
      "[238]\txg_train-merror:0.750571\n",
      "[239]\txg_train-merror:0.750571\n",
      "[240]\txg_train-merror:0.749715\n",
      "[241]\txg_train-merror:0.749715\n",
      "[242]\txg_train-merror:0.749715\n",
      "[243]\txg_train-merror:0.750571\n",
      "[244]\txg_train-merror:0.750571\n",
      "[245]\txg_train-merror:0.750571\n",
      "[246]\txg_train-merror:0.750571\n",
      "[247]\txg_train-merror:0.750571\n",
      "[248]\txg_train-merror:0.750571\n",
      "[249]\txg_train-merror:0.750571\n",
      "[250]\txg_train-merror:0.750571\n",
      "[251]\txg_train-merror:0.750571\n",
      "[252]\txg_train-merror:0.750571\n",
      "[253]\txg_train-merror:0.750571\n",
      "[254]\txg_train-merror:0.750285\n",
      "[255]\txg_train-merror:0.750285\n",
      "[256]\txg_train-merror:0.750285\n",
      "[257]\txg_train-merror:0.750285\n",
      "[258]\txg_train-merror:0.750285\n",
      "[259]\txg_train-merror:0.750285\n",
      "[260]\txg_train-merror:0.750285\n",
      "[261]\txg_train-merror:0.750285\n",
      "[262]\txg_train-merror:0.750285\n",
      "[263]\txg_train-merror:0.750285\n",
      "[264]\txg_train-merror:0.750285\n",
      "[265]\txg_train-merror:0.750285\n",
      "[266]\txg_train-merror:0.750285\n",
      "[267]\txg_train-merror:0.750285\n",
      "[268]\txg_train-merror:0.750285\n",
      "[269]\txg_train-merror:0.750285\n",
      "[270]\txg_train-merror:0.750285\n",
      "[271]\txg_train-merror:0.750285\n",
      "[272]\txg_train-merror:0.750285\n",
      "[273]\txg_train-merror:0.750285\n",
      "[274]\txg_train-merror:0.750285\n",
      "[275]\txg_train-merror:0.750285\n",
      "[276]\txg_train-merror:0.750285\n",
      "[277]\txg_train-merror:0.750285\n",
      "[278]\txg_train-merror:0.750285\n",
      "[279]\txg_train-merror:0.750285\n",
      "[280]\txg_train-merror:0.750285\n",
      "[281]\txg_train-merror:0.750285\n",
      "[282]\txg_train-merror:0.750285\n",
      "[283]\txg_train-merror:0.750285\n",
      "[284]\txg_train-merror:0.750285\n",
      "[285]\txg_train-merror:0.750571\n",
      "[286]\txg_train-merror:0.750571\n",
      "[287]\txg_train-merror:0.750571\n",
      "[288]\txg_train-merror:0.750571\n",
      "[289]\txg_train-merror:0.750571\n",
      "[290]\txg_train-merror:0.750856\n",
      "[291]\txg_train-merror:0.750856\n",
      "[292]\txg_train-merror:0.750856\n",
      "[293]\txg_train-merror:0.750856\n",
      "[294]\txg_train-merror:0.750856\n",
      "[295]\txg_train-merror:0.750856\n",
      "[296]\txg_train-merror:0.751142\n",
      "[297]\txg_train-merror:0.750571\n",
      "[298]\txg_train-merror:0.750571\n",
      "[299]\txg_train-merror:0.750571\n",
      "[300]\txg_train-merror:0.750571\n",
      "[301]\txg_train-merror:0.750571\n",
      "[302]\txg_train-merror:0.750571\n",
      "[303]\txg_train-merror:0.750571\n",
      "[304]\txg_train-merror:0.751142\n",
      "[305]\txg_train-merror:0.750571\n",
      "[306]\txg_train-merror:0.750856\n",
      "[307]\txg_train-merror:0.750856\n",
      "[308]\txg_train-merror:0.750856\n",
      "[309]\txg_train-merror:0.750856\n",
      "[310]\txg_train-merror:0.750856\n",
      "[311]\txg_train-merror:0.750856\n",
      "[312]\txg_train-merror:0.750856\n",
      "[313]\txg_train-merror:0.750856\n",
      "[314]\txg_train-merror:0.750856\n",
      "[315]\txg_train-merror:0.750856\n",
      "[316]\txg_train-merror:0.750856\n",
      "[317]\txg_train-merror:0.750856\n",
      "[318]\txg_train-merror:0.749715\n",
      "[319]\txg_train-merror:0.750000\n",
      "[320]\txg_train-merror:0.750000\n",
      "[321]\txg_train-merror:0.749715\n",
      "[322]\txg_train-merror:0.749715\n",
      "[323]\txg_train-merror:0.749715\n",
      "[324]\txg_train-merror:0.749715\n",
      "[325]\txg_train-merror:0.750000\n",
      "[326]\txg_train-merror:0.749715\n",
      "[327]\txg_train-merror:0.750571\n",
      "[328]\txg_train-merror:0.750571\n",
      "[329]\txg_train-merror:0.750571\n",
      "[330]\txg_train-merror:0.750856\n",
      "[331]\txg_train-merror:0.750000\n",
      "[332]\txg_train-merror:0.750000\n",
      "[333]\txg_train-merror:0.750000\n",
      "[334]\txg_train-merror:0.750000\n",
      "[335]\txg_train-merror:0.750000\n",
      "[336]\txg_train-merror:0.750856\n",
      "[337]\txg_train-merror:0.750571\n",
      "[338]\txg_train-merror:0.749715\n",
      "[339]\txg_train-merror:0.750571\n",
      "[340]\txg_train-merror:0.749715\n",
      "[341]\txg_train-merror:0.749715\n",
      "[342]\txg_train-merror:0.749715\n",
      "[343]\txg_train-merror:0.749715\n",
      "[344]\txg_train-merror:0.750285\n",
      "[345]\txg_train-merror:0.750285\n",
      "[346]\txg_train-merror:0.750285\n",
      "[347]\txg_train-merror:0.750285\n",
      "[348]\txg_train-merror:0.750285\n",
      "[349]\txg_train-merror:0.750285\n",
      "[350]\txg_train-merror:0.750285\n",
      "[351]\txg_train-merror:0.750285\n",
      "[352]\txg_train-merror:0.750285\n",
      "[353]\txg_train-merror:0.749715\n",
      "[354]\txg_train-merror:0.749715\n",
      "[355]\txg_train-merror:0.749715\n",
      "[356]\txg_train-merror:0.749715\n",
      "[357]\txg_train-merror:0.749715\n",
      "[358]\txg_train-merror:0.749715\n",
      "[359]\txg_train-merror:0.749715\n",
      "[360]\txg_train-merror:0.749715\n",
      "[361]\txg_train-merror:0.749715\n",
      "[362]\txg_train-merror:0.749715\n",
      "[363]\txg_train-merror:0.749715\n",
      "[364]\txg_train-merror:0.749715\n",
      "[365]\txg_train-merror:0.749715\n",
      "[366]\txg_train-merror:0.749715\n",
      "[367]\txg_train-merror:0.749715\n",
      "[368]\txg_train-merror:0.749715\n",
      "[369]\txg_train-merror:0.749715\n",
      "[370]\txg_train-merror:0.749715\n",
      "[371]\txg_train-merror:0.750000\n",
      "[372]\txg_train-merror:0.749715\n",
      "[373]\txg_train-merror:0.750000\n",
      "[374]\txg_train-merror:0.750000\n",
      "[375]\txg_train-merror:0.750856\n",
      "[376]\txg_train-merror:0.750856\n",
      "[377]\txg_train-merror:0.750856\n",
      "[378]\txg_train-merror:0.750856\n",
      "[379]\txg_train-merror:0.751712\n",
      "[380]\txg_train-merror:0.750856\n",
      "[381]\txg_train-merror:0.751427\n",
      "[382]\txg_train-merror:0.751712\n",
      "[383]\txg_train-merror:0.751712\n",
      "[384]\txg_train-merror:0.751712\n",
      "[385]\txg_train-merror:0.751712\n",
      "[386]\txg_train-merror:0.751712\n",
      "[387]\txg_train-merror:0.751427\n",
      "[388]\txg_train-merror:0.751427\n",
      "[389]\txg_train-merror:0.751427\n",
      "[390]\txg_train-merror:0.751427\n",
      "[391]\txg_train-merror:0.751427\n",
      "[392]\txg_train-merror:0.751712\n",
      "[393]\txg_train-merror:0.751712\n",
      "[394]\txg_train-merror:0.751712\n",
      "[395]\txg_train-merror:0.750856\n",
      "[396]\txg_train-merror:0.750856\n",
      "[397]\txg_train-merror:0.750856\n",
      "[398]\txg_train-merror:0.750856\n",
      "[399]\txg_train-merror:0.750856\n",
      "[400]\txg_train-merror:0.750571\n",
      "[401]\txg_train-merror:0.750571\n",
      "[402]\txg_train-merror:0.750856\n",
      "[403]\txg_train-merror:0.749715\n",
      "[404]\txg_train-merror:0.750571\n",
      "[405]\txg_train-merror:0.749715\n",
      "[406]\txg_train-merror:0.749715\n",
      "[407]\txg_train-merror:0.749715\n",
      "[408]\txg_train-merror:0.749715\n",
      "[409]\txg_train-merror:0.749715\n",
      "[410]\txg_train-merror:0.749715\n",
      "[411]\txg_train-merror:0.749715\n",
      "[412]\txg_train-merror:0.749715\n",
      "[413]\txg_train-merror:0.749715\n",
      "[414]\txg_train-merror:0.749715\n",
      "[415]\txg_train-merror:0.749715\n",
      "[416]\txg_train-merror:0.749715\n",
      "[417]\txg_train-merror:0.749715\n",
      "[418]\txg_train-merror:0.749715\n",
      "[419]\txg_train-merror:0.749715\n",
      "[420]\txg_train-merror:0.749715\n",
      "[421]\txg_train-merror:0.749715\n",
      "[422]\txg_train-merror:0.749715\n",
      "[423]\txg_train-merror:0.750571\n",
      "[424]\txg_train-merror:0.750571\n",
      "[425]\txg_train-merror:0.749715\n"
     ]
    }
   ],
   "source": [
    "# create the model\n",
    "bst <- xgb.train(   params              = params, \n",
    "                    data                = dtrain, \n",
    "                    nrounds             = n_rounds.train, \n",
    "                    verbose             = 1,\n",
    "                    watchlist           = watchlist,\n",
    "                    maximize            = FALSE\n",
    ")"
   ]
  },
  {
   "cell_type": "code",
   "execution_count": 268,
   "metadata": {
    "collapsed": true
   },
   "outputs": [],
   "source": [
    "# generate predictions from model\n",
    "pred <- predict(bst, xg_test);"
   ]
  },
  {
   "cell_type": "code",
   "execution_count": 269,
   "metadata": {
    "collapsed": false
   },
   "outputs": [
    {
     "name": "stderr",
     "output_type": "stream",
     "text": [
      "Warning message in confusionMatrix.default(pred, actual):\n",
      "\"Levels are not in the same order for reference and data. Refactoring data to match.\""
     ]
    },
    {
     "data": {
      "text/plain": [
       "Confusion Matrix and Statistics\n",
       "\n",
       "          Reference\n",
       "Prediction   0   1   2   3\n",
       "         0   0   0   0   0\n",
       "         1 214 204 147  35\n",
       "         2   0   0   0   0\n",
       "         3   0   0   0   0\n",
       "\n",
       "Overall Statistics\n",
       "                                        \n",
       "               Accuracy : 0.34          \n",
       "                 95% CI : (0.302, 0.379)\n",
       "    No Information Rate : 0.357         \n",
       "    P-Value [Acc > NIR] : 0.814         \n",
       "                                        \n",
       "                  Kappa : 0             \n",
       " Mcnemar's Test P-Value : NA            \n",
       "\n",
       "Statistics by Class:\n",
       "\n",
       "                     Class: 0 Class: 1 Class: 2 Class: 3\n",
       "Sensitivity             0.000     1.00    0.000   0.0000\n",
       "Specificity             1.000     0.00    1.000   1.0000\n",
       "Pos Pred Value            NaN     0.34      NaN      NaN\n",
       "Neg Pred Value          0.643      NaN    0.755   0.9417\n",
       "Prevalence              0.357     0.34    0.245   0.0583\n",
       "Detection Rate          0.000     0.34    0.000   0.0000\n",
       "Detection Prevalence    0.000     1.00    0.000   0.0000\n",
       "Balanced Accuracy       0.500     0.50    0.500   0.5000"
      ]
     },
     "metadata": {},
     "output_type": "display_data"
    }
   ],
   "source": [
    "confusionMatrix(pred, actual)"
   ]
  },
  {
   "cell_type": "markdown",
   "metadata": {},
   "source": [
    "# 4. Random Forest"
   ]
  },
  {
   "cell_type": "code",
   "execution_count": 297,
   "metadata": {
    "collapsed": false
   },
   "outputs": [],
   "source": [
    "rforest_train <- Udf.Utilities.UpSample(train)"
   ]
  },
  {
   "cell_type": "code",
   "execution_count": 319,
   "metadata": {
    "collapsed": false,
    "scrolled": true
   },
   "outputs": [
    {
     "name": "stdout",
     "output_type": "stream",
     "text": [
      "mtry = 3  OOB error = 34.08% \n",
      "Searching left ...\n",
      "mtry = 2 \tOOB error = 33.62% \n",
      "0.0134 0.00001 \n",
      "Searching right ...\n",
      "mtry = 4 \tOOB error = 34.33% \n",
      "-0.02122 0.00001 \n"
     ]
    },
    {
     "data": {
      "image/png": "[encoded data removed]",
      "text/plain": [
       "plot without title"
      ]
     },
     "metadata": {},
     "output_type": "display_data"
    }
   ],
   "source": [
    "# cross validate the mtry parameter\n",
    "bestmtry <- tuneRF(rforest_train[,1:10], rforest_train$Result, stepFactor=1.5, improve=1e-5, ntree=10000)"
   ]
  },
  {
   "cell_type": "code",
   "execution_count": 323,
   "metadata": {
    "collapsed": false
   },
   "outputs": [
    {
     "data": {
      "text/plain": [
       "\n",
       "Call:\n",
       " randomForest(formula = Result ~ ., data = rforest_train, ntree = 10000,      mtry = 2) \n",
       "               Type of random forest: classification\n",
       "                     Number of trees: 10000\n",
       "No. of variables tried at each split: 2\n",
       "\n",
       "        OOB estimate of  error rate: 34.33%\n",
       "Confusion matrix:\n",
       "    0   1   2   3 class.error\n",
       "0 396 399  74   7      0.5479\n",
       "1 404 374  87  11      0.5731\n",
       "2  96 121 655   4      0.2523\n",
       "3   0   0   0 876      0.0000"
      ]
     },
     "metadata": {},
     "output_type": "display_data"
    }
   ],
   "source": [
    "rforest <- randomForest(Result ~., data = rforest_train, ntree=10000, mtry=2)\n",
    "rforest"
   ]
  },
  {
   "cell_type": "code",
   "execution_count": 324,
   "metadata": {
    "collapsed": true
   },
   "outputs": [],
   "source": [
    "pred <- predict(rforest, test)"
   ]
  },
  {
   "cell_type": "code",
   "execution_count": 325,
   "metadata": {
    "collapsed": false
   },
   "outputs": [
    {
     "data": {
      "text/plain": [
       "Confusion Matrix and Statistics\n",
       "\n",
       "          Reference\n",
       "Prediction  0  1  2  3\n",
       "         0 96 94 71 18\n",
       "         1 95 89 62 17\n",
       "         2 21 19 14  0\n",
       "         3  2  2  0  0\n",
       "\n",
       "Overall Statistics\n",
       "                                        \n",
       "               Accuracy : 0.332         \n",
       "                 95% CI : (0.294, 0.371)\n",
       "    No Information Rate : 0.357         \n",
       "    P-Value [Acc > NIR] : 0.907         \n",
       "                                        \n",
       "                  Kappa : -0.009        \n",
       " Mcnemar's Test P-Value : NA            \n",
       "\n",
       "Statistics by Class:\n",
       "\n",
       "                     Class: 0 Class: 1 Class: 2 Class: 3\n",
       "Sensitivity             0.449    0.436   0.0952  0.00000\n",
       "Specificity             0.526    0.561   0.9117  0.99292\n",
       "Pos Pred Value          0.344    0.338   0.2593  0.00000\n",
       "Neg Pred Value          0.632    0.659   0.7564  0.94128\n",
       "Prevalence              0.357    0.340   0.2450  0.05833\n",
       "Detection Rate          0.160    0.148   0.0233  0.00000\n",
       "Detection Prevalence    0.465    0.438   0.0900  0.00667\n",
       "Balanced Accuracy       0.487    0.498   0.5035  0.49646"
      ]
     },
     "metadata": {},
     "output_type": "display_data"
    }
   ],
   "source": [
    "confusionMatrix(pred, actual)"
   ]
  },
  {
   "cell_type": "code",
   "execution_count": 326,
   "metadata": {
    "collapsed": false
   },
   "outputs": [
    {
     "name": "stdout",
     "output_type": "stream",
     "text": [
      "      MeanDecreaseGini\n",
      "ATT1             252.6\n",
      "ATT2             265.1\n",
      "ATT3             252.3\n",
      "ATT4             255.7\n",
      "ATT5             251.2\n",
      "ATT6             258.3\n",
      "ATT7             254.9\n",
      "ATT8             263.0\n",
      "ATT9             259.6\n",
      "ATT10            264.6\n"
     ]
    }
   ],
   "source": [
    "print(importance(rforest,type = 2))"
   ]
  },
  {
   "cell_type": "code",
   "execution_count": 327,
   "metadata": {
    "collapsed": false
   },
   "outputs": [
    {
     "data": {
      "image/png": "[encoded data removed]",
      "text/plain": [
       "Plot with title \"rforest\""
      ]
     },
     "metadata": {},
     "output_type": "display_data"
    }
   ],
   "source": [
    "options(repr.plot.width = 6)\n",
    "options(repr.plot.height = 4)\n",
    "varImpPlot(rforest)"
   ]
  },
  {
   "cell_type": "markdown",
   "metadata": {},
   "source": [
    "## Cross Validation for Random Forest feature selection "
   ]
  },
  {
   "cell_type": "code",
   "execution_count": 328,
   "metadata": {
    "collapsed": false
   },
   "outputs": [
    {
     "data": {
      "image/png": "[encoded data removed]",
      "text/plain": [
       "plot without title"
      ]
     },
     "metadata": {},
     "output_type": "display_data"
    }
   ],
   "source": [
    "x <- train\n",
    "x$Result <- NULL\n",
    "y <- train$Result\n",
    "\n",
    "rf.cv <- rfcv(x, y, cv.fold=10, step=0.9)\n",
    "\n",
    "with(rf.cv, plot(n.var, error.cv))"
   ]
  },
  {
   "cell_type": "markdown",
   "metadata": {},
   "source": [
    "Ok, this is telling us that a 7 feature model is performing the best. Let's try retrain the model without the lowest importance features and rerun the predictions"
   ]
  },
  {
   "cell_type": "code",
   "execution_count": 330,
   "metadata": {
    "collapsed": false
   },
   "outputs": [],
   "source": [
    "rforest <- randomForest(Result ~ . - ATT5, data = rforest_train, mtry=2, ntree=10000)"
   ]
  },
  {
   "cell_type": "code",
   "execution_count": 315,
   "metadata": {
    "collapsed": false
   },
   "outputs": [
    {
     "data": {
      "text/plain": [
       "\n",
       "Call:\n",
       " randomForest(formula = Result ~ . - ATT5 - ATT7 - ATT3, data = rforest_train,      mtry = 4, ntree = 1000) \n",
       "               Type of random forest: classification\n",
       "                     Number of trees: 1000\n",
       "No. of variables tried at each split: 4\n",
       "\n",
       "        OOB estimate of  error rate: 33.82%\n",
       "Confusion matrix:\n",
       "    0   1   2   3 class.error\n",
       "0 386 331 133  26      0.5594\n",
       "1 344 382 126  24      0.5639\n",
       "2  87 105 675   9      0.2295\n",
       "3   0   0   0 876      0.0000"
      ]
     },
     "metadata": {},
     "output_type": "display_data"
    }
   ],
   "source": [
    "rforest"
   ]
  },
  {
   "cell_type": "code",
   "execution_count": 316,
   "metadata": {
    "collapsed": false
   },
   "outputs": [
    {
     "name": "stdout",
     "output_type": "stream",
     "text": [
      "      MeanDecreaseGini\n",
      "ATT1             366.3\n",
      "ATT2             390.3\n",
      "ATT4             363.6\n",
      "ATT6             372.4\n",
      "ATT8             382.9\n",
      "ATT9             348.8\n",
      "ATT10            394.9\n"
     ]
    }
   ],
   "source": [
    "print(importance(rforest,type = 2))"
   ]
  },
  {
   "cell_type": "code",
   "execution_count": 317,
   "metadata": {
    "collapsed": true
   },
   "outputs": [],
   "source": [
    "pred <- predict(rforest, test)"
   ]
  },
  {
   "cell_type": "code",
   "execution_count": 318,
   "metadata": {
    "collapsed": false
   },
   "outputs": [
    {
     "data": {
      "text/plain": [
       "Confusion Matrix and Statistics\n",
       "\n",
       "          Reference\n",
       "Prediction  0  1  2  3\n",
       "         0 81 92 57 17\n",
       "         1 94 77 57 17\n",
       "         2 31 29 26  0\n",
       "         3  8  6  7  1\n",
       "\n",
       "Overall Statistics\n",
       "                                        \n",
       "               Accuracy : 0.308         \n",
       "                 95% CI : (0.272, 0.347)\n",
       "    No Information Rate : 0.357         \n",
       "    P-Value [Acc > NIR] : 0.994         \n",
       "                                        \n",
       "                  Kappa : -0.022        \n",
       " Mcnemar's Test P-Value : 0.0000142     \n",
       "\n",
       "Statistics by Class:\n",
       "\n",
       "                     Class: 0 Class: 1 Class: 2 Class: 3\n",
       "Sensitivity             0.379    0.377   0.1769  0.02857\n",
       "Specificity             0.570    0.576   0.8675  0.96283\n",
       "Pos Pred Value          0.328    0.314   0.3023  0.04545\n",
       "Neg Pred Value          0.623    0.642   0.7646  0.94118\n",
       "Prevalence              0.357    0.340   0.2450  0.05833\n",
       "Detection Rate          0.135    0.128   0.0433  0.00167\n",
       "Detection Prevalence    0.412    0.408   0.1433  0.03667\n",
       "Balanced Accuracy       0.474    0.477   0.5222  0.49570"
      ]
     },
     "metadata": {},
     "output_type": "display_data"
    }
   ],
   "source": [
    "confusionMatrix(pred, actual)"
   ]
  },
  {
   "cell_type": "code",
   "execution_count": null,
   "metadata": {
    "collapsed": true
   },
   "outputs": [],
   "source": []
  }
 ],
 "metadata": {
  "anaconda-cloud": {},
  "kernelspec": {
   "display_name": "Python 3",
   "language": "python",
   "name": "python3"
  },
  "language_info": {
   "codemirror_mode": {
    "name": "ipython",
    "version": 3
   },
   "file_extension": ".py",
   "mimetype": "text/x-python",
   "name": "python",
   "nbconvert_exporter": "python",
   "pygments_lexer": "ipython3",
   "version": "3.5.1"
  }
 },
 "nbformat": 4,
 "nbformat_minor": 0
}
