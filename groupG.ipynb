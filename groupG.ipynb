{
 "cells": [
  {
   "cell_type": "markdown",
   "metadata": {},
   "source": [
    "# Assessment 3 - A new tool for detecting prostate cancers\n",
    "### Authors: Jeffrey Mills (28083938), \n",
    "\n",
    "**Required Libraries -** The following R libraries are referenced in this notebook\n",
    "* glmnet\n",
    "* ROCR\n",
    "---\n",
    "### Table of Contents\n",
    "\n",
    "[1. Exploratory Data Analysis](#1.-Exploratory-Data-Analysis)\n",
    "\n",
    "[2. EDA Report](#2.-EDA-Report)\n",
    "\n",
    "---"
   ]
  },
  {
   "cell_type": "code",
   "execution_count": 7,
   "metadata": {
    "collapsed": true
   },
   "outputs": [],
   "source": [
    "# disable scientific notation and set to 4 digits\n",
    "options(scipen=999)\n",
    "options(digits=4)\n",
    "# set the default plot size\n",
    "options(repr.plot.width = 6)\n",
    "options(repr.plot.height = 4)"
   ]
  },
  {
   "cell_type": "code",
   "execution_count": 8,
   "metadata": {
    "collapsed": true
   },
   "outputs": [],
   "source": [
    "# install packages ggplot2 for more fancier plots and graphs\n",
    "# and psych for a more comprehensive stats package\n",
    "# only install if not already installed\n",
    "list.of.packages <- c(\"ggplot2\", \"psych\", \"ROCR\", \"leaps\", \"glmnet\", \"caret\")\n",
    "new.packages <- list.of.packages[!(list.of.packages %in% installed.packages()[,\"Package\"])]\n",
    "if(length(new.packages)) install.packages(new.packages, repos=\"http://cran.uk.r-project.org\")"
   ]
  },
  {
   "cell_type": "code",
   "execution_count": 9,
   "metadata": {
    "collapsed": false
   },
   "outputs": [],
   "source": [
    "# import ggplot for some of the more fancier plots if needed\n",
    "library(\"ggplot2\")\n",
    "# import more comprehensive summary stats package\n",
    "library(psych)\n",
    "# import ROCR for easier model performance checking\n",
    "library(\"ROCR\")\n",
    "\n",
    "library(\"caret\")"
   ]
  },
  {
   "cell_type": "code",
   "execution_count": 22,
   "metadata": {
    "collapsed": false
   },
   "outputs": [],
   "source": [
    "# import local utilities.R file\n",
    "source(\"./utilities.r\")"
   ]
  },
  {
   "cell_type": "markdown",
   "metadata": {},
   "source": [
    "## 1. Exploratory Data Analysis"
   ]
  },
  {
   "cell_type": "code",
   "execution_count": 10,
   "metadata": {
    "collapsed": true
   },
   "outputs": [],
   "source": [
    "prostate <- read.csv(\"./prostate.csv\")"
   ]
  },
  {
   "cell_type": "code",
   "execution_count": 11,
   "metadata": {
    "collapsed": false
   },
   "outputs": [],
   "source": [
    "# Before we do anything, dedicate 20% of our data to an unseen Test set.\n",
    "\n",
    "# 20% of the sample size\n",
    "smp_size <- floor(0.8 * nrow(prostate))\n",
    "\n",
    "# set the seed to make our partition reproductible\n",
    "set.seed(123)\n",
    "train_ind <- sample(seq_len(nrow(prostate)), size = smp_size)\n",
    "\n",
    "train <- prostate[train_ind, ]\n",
    "test <- prostate[-train_ind, ]"
   ]
  },
  {
   "cell_type": "code",
   "execution_count": 12,
   "metadata": {
    "collapsed": false
   },
   "outputs": [
    {
     "data": {
      "text/html": [
       "<table>\n",
       "<thead><tr><th></th><th scope=col>ID</th><th scope=col>ATT1</th><th scope=col>ATT2</th><th scope=col>ATT3</th><th scope=col>ATT4</th><th scope=col>ATT5</th><th scope=col>ATT6</th><th scope=col>ATT7</th><th scope=col>ATT8</th><th scope=col>ATT9</th><th scope=col>ATT10</th><th scope=col>Result</th></tr></thead>\n",
       "<tbody>\n",
       "\t<tr><th scope=row>863</th><td>863</td><td>  5</td><td>  8</td><td> 10</td><td>  9</td><td>  2</td><td>  2</td><td>  8</td><td>  6</td><td>  2</td><td>  3</td><td>  0</td></tr>\n",
       "\t<tr><th scope=row>2365</th><td>2365</td><td>   4</td><td>   4</td><td>   2</td><td>   4</td><td>   4</td><td>   1</td><td>   3</td><td>   7</td><td>   3</td><td>   9</td><td>   0</td></tr>\n",
       "\t<tr><th scope=row>1227</th><td>1227</td><td>   7</td><td>   4</td><td>   9</td><td>   2</td><td>   4</td><td>   2</td><td>   3</td><td>   9</td><td>   9</td><td>   8</td><td>   0</td></tr>\n",
       "\t<tr><th scope=row>2647</th><td>2647</td><td>   5</td><td>   5</td><td>   7</td><td>   2</td><td>   4</td><td>   1</td><td>   8</td><td>  10</td><td>   1</td><td>   7</td><td>   3</td></tr>\n",
       "\t<tr><th scope=row>2818</th><td>2818</td><td>  10</td><td>   1</td><td>   2</td><td>   5</td><td>   7</td><td>   2</td><td>   8</td><td>   5</td><td>   9</td><td>   5</td><td>   1</td></tr>\n",
       "\t<tr><th scope=row>137</th><td>137</td><td>  8</td><td>  1</td><td>  2</td><td> 10</td><td> 10</td><td>  2</td><td>  2</td><td>  3</td><td>  1</td><td>  5</td><td>  0</td></tr>\n",
       "</tbody>\n",
       "</table>\n"
      ],
      "text/latex": [
       "\\begin{tabular}{r|llllllllllll}\n",
       "  & ID & ATT1 & ATT2 & ATT3 & ATT4 & ATT5 & ATT6 & ATT7 & ATT8 & ATT9 & ATT10 & Result\\\\\n",
       "\\hline\n",
       "\t863 & 863 &   5 &   8 &  10 &   9 &   2 &   2 &   8 &   6 &   2 &   3 &   0\\\\\n",
       "\t2365 & 2365 &    4 &    4 &    2 &    4 &    4 &    1 &    3 &    7 &    3 &    9 &    0\\\\\n",
       "\t1227 & 1227 &    7 &    4 &    9 &    2 &    4 &    2 &    3 &    9 &    9 &    8 &    0\\\\\n",
       "\t2647 & 2647 &    5 &    5 &    7 &    2 &    4 &    1 &    8 &   10 &    1 &    7 &    3\\\\\n",
       "\t2818 & 2818 &   10 &    1 &    2 &    5 &    7 &    2 &    8 &    5 &    9 &    5 &    1\\\\\n",
       "\t137 & 137 &   8 &   1 &   2 &  10 &  10 &   2 &   2 &   3 &   1 &   5 &   0\\\\\n",
       "\\end{tabular}\n"
      ],
      "text/plain": [
       "       ID ATT1 ATT2 ATT3 ATT4 ATT5 ATT6 ATT7 ATT8 ATT9 ATT10 Result\n",
       "863   863    5    8   10    9    2    2    8    6    2     3      0\n",
       "2365 2365    4    4    2    4    4    1    3    7    3     9      0\n",
       "1227 1227    7    4    9    2    4    2    3    9    9     8      0\n",
       "2647 2647    5    5    7    2    4    1    8   10    1     7      3\n",
       "2818 2818   10    1    2    5    7    2    8    5    9     5      1\n",
       "137   137    8    1    2   10   10    2    2    3    1     5      0"
      ]
     },
     "metadata": {},
     "output_type": "display_data"
    }
   ],
   "source": [
    "# Check the head of the dataframe\n",
    "head(train)"
   ]
  },
  {
   "cell_type": "code",
   "execution_count": 13,
   "metadata": {
    "collapsed": false
   },
   "outputs": [
    {
     "name": "stdout",
     "output_type": "stream",
     "text": [
      "'data.frame':\t2400 obs. of  12 variables:\n",
      " $ ID    : int  863 2365 1227 2647 2818 137 1582 2672 1650 1366 ...\n",
      " $ ATT1  : int  5 4 7 5 10 8 7 2 2 5 ...\n",
      " $ ATT2  : int  8 4 4 5 1 1 1 10 1 4 ...\n",
      " $ ATT3  : int  10 2 9 7 2 2 5 5 6 10 ...\n",
      " $ ATT4  : int  9 4 2 2 5 10 4 8 2 7 ...\n",
      " $ ATT5  : int  2 4 4 4 7 10 8 5 8 10 ...\n",
      " $ ATT6  : int  2 1 2 1 2 2 1 4 2 10 ...\n",
      " $ ATT7  : int  8 3 3 8 8 2 9 2 3 3 ...\n",
      " $ ATT8  : int  6 7 9 10 5 3 2 6 4 8 ...\n",
      " $ ATT9  : int  2 3 9 1 9 1 6 1 1 10 ...\n",
      " $ ATT10 : int  3 9 8 7 5 5 7 3 4 2 ...\n",
      " $ Result: int  0 0 0 3 1 0 0 2 2 1 ...\n"
     ]
    }
   ],
   "source": [
    "# Check structure of the datatypes\n",
    "str(train)"
   ]
  },
  {
   "cell_type": "markdown",
   "metadata": {},
   "source": [
    "Given that we know the **Result** variable is our target variable which represents one of 4 stages of the cancer (0 for curable, and 1 for tumour stage, 2 for node stage and 3 for incurable cancers) - this should be represented as a factor. "
   ]
  },
  {
   "cell_type": "code",
   "execution_count": 14,
   "metadata": {
    "collapsed": true
   },
   "outputs": [],
   "source": [
    "train$Result <- as.factor(train$Result) "
   ]
  },
  {
   "cell_type": "code",
   "execution_count": 15,
   "metadata": {
    "collapsed": false
   },
   "outputs": [
    {
     "data": {
      "text/html": [
       "2400"
      ],
      "text/latex": [
       "2400"
      ],
      "text/markdown": [
       "2400"
      ],
      "text/plain": [
       "[1] 2400"
      ]
     },
     "metadata": {},
     "output_type": "display_data"
    }
   ],
   "source": [
    "# Let's check for incomplete observations\n",
    "nrow(train[complete.cases(train),])"
   ]
  },
  {
   "cell_type": "code",
   "execution_count": 16,
   "metadata": {
    "collapsed": false
   },
   "outputs": [
    {
     "data": {
      "text/plain": [
       "\n",
       "  0   1   2   3 \n",
       "868 876 495 161 "
      ]
     },
     "metadata": {},
     "output_type": "display_data"
    }
   ],
   "source": [
    "# Check the proportions of each factor within the Result variable\n",
    "w = table(train$Result)\n",
    "w"
   ]
  },
  {
   "cell_type": "code",
   "execution_count": 17,
   "metadata": {
    "collapsed": false
   },
   "outputs": [
    {
     "data": {
      "text/html": [
       "<table>\n",
       "<thead><tr><th></th><th scope=col>vars</th><th scope=col>n</th><th scope=col>mean</th><th scope=col>sd</th><th scope=col>median</th><th scope=col>trimmed</th><th scope=col>mad</th><th scope=col>min</th><th scope=col>max</th><th scope=col>range</th><th scope=col>skew</th><th scope=col>kurtosis</th><th scope=col>se</th></tr></thead>\n",
       "<tbody>\n",
       "\t<tr><th scope=row>ID</th><td>   1.000</td><td>2400.000</td><td>1518.159</td><td> 866.749</td><td>1530.500</td><td>1522.436</td><td>1114.915</td><td>   2.000</td><td>2999.000</td><td>2997.000</td><td>  -0.034</td><td>  -1.203</td><td>  17.692</td></tr>\n",
       "\t<tr><th scope=row>ATT1</th><td>   2.000</td><td>2400.000</td><td>   5.835</td><td>   2.651</td><td>   6.000</td><td>   5.793</td><td>   2.965</td><td>   2.000</td><td>  10.000</td><td>   8.000</td><td>   0.098</td><td>  -1.160</td><td>   0.054</td></tr>\n",
       "\t<tr><th scope=row>ATT2</th><td>   3.000</td><td>2400.000</td><td>   4.510</td><td>   2.736</td><td>   4.000</td><td>   4.327</td><td>   2.965</td><td>   1.000</td><td>  10.000</td><td>   9.000</td><td>   0.401</td><td>  -0.972</td><td>   0.056</td></tr>\n",
       "\t<tr><th scope=row>ATT3</th><td>   4.000</td><td>2400.000</td><td>   5.865</td><td>   2.675</td><td>   6.000</td><td>   5.831</td><td>   2.965</td><td>   2.000</td><td>  10.000</td><td>   8.000</td><td>   0.090</td><td>  -1.189</td><td>   0.055</td></tr>\n",
       "\t<tr><th scope=row>ATT4</th><td>   5.000</td><td>2400.000</td><td>   5.807</td><td>   2.630</td><td>   6.000</td><td>   5.759</td><td>   2.965</td><td>   2.000</td><td>  10.000</td><td>   8.000</td><td>   0.090</td><td>  -1.154</td><td>   0.054</td></tr>\n",
       "\t<tr><th scope=row>ATT5</th><td>   6.000</td><td>2400.000</td><td>   5.767</td><td>   2.631</td><td>   6.000</td><td>   5.708</td><td>   2.965</td><td>   2.000</td><td>  10.000</td><td>   8.000</td><td>   0.111</td><td>  -1.144</td><td>   0.054</td></tr>\n",
       "\t<tr><th scope=row>ATT6</th><td>   7.000</td><td>2400.000</td><td>   4.450</td><td>   2.699</td><td>   4.000</td><td>   4.264</td><td>   2.965</td><td>   1.000</td><td>  10.000</td><td>   9.000</td><td>   0.433</td><td>  -0.947</td><td>   0.055</td></tr>\n",
       "\t<tr><th scope=row>ATT7</th><td>   8.000</td><td>2400.000</td><td>   4.474</td><td>   2.739</td><td>   4.000</td><td>   4.290</td><td>   2.965</td><td>   1.000</td><td>  10.000</td><td>   9.000</td><td>   0.399</td><td>  -1.026</td><td>   0.056</td></tr>\n",
       "\t<tr><th scope=row>ATT8</th><td>   9.000</td><td>2400.000</td><td>   4.499</td><td>   2.729</td><td>   4.000</td><td>   4.317</td><td>   2.965</td><td>   1.000</td><td>  10.000</td><td>   9.000</td><td>   0.386</td><td>  -0.978</td><td>   0.056</td></tr>\n",
       "\t<tr><th scope=row>ATT9</th><td>  10.000</td><td>2400.000</td><td>   4.484</td><td>   2.688</td><td>   4.000</td><td>   4.299</td><td>   2.965</td><td>   1.000</td><td>  10.000</td><td>   9.000</td><td>   0.412</td><td>  -0.918</td><td>   0.055</td></tr>\n",
       "\t<tr><th scope=row>ATT10</th><td>  11.000</td><td>2400.000</td><td>   4.451</td><td>   2.689</td><td>   4.000</td><td>   4.263</td><td>   2.965</td><td>   1.000</td><td>  10.000</td><td>   9.000</td><td>   0.412</td><td>  -0.935</td><td>   0.055</td></tr>\n",
       "\t<tr><th scope=row>Result*</th><td>  12.000</td><td>2400.000</td><td>   1.979</td><td>   0.914</td><td>   2.000</td><td>   1.890</td><td>   1.483</td><td>   1.000</td><td>   4.000</td><td>   3.000</td><td>   0.568</td><td>  -0.603</td><td>   0.019</td></tr>\n",
       "</tbody>\n",
       "</table>\n"
      ],
      "text/latex": [
       "\\begin{tabular}{r|lllllllllllll}\n",
       "  & vars & n & mean & sd & median & trimmed & mad & min & max & range & skew & kurtosis & se\\\\\n",
       "\\hline\n",
       "\tID &    1.000 & 2400.000 & 1518.159 &  866.749 & 1530.500 & 1522.436 & 1114.915 &    2.000 & 2999.000 & 2997.000 &   -0.034 &   -1.203 &   17.692\\\\\n",
       "\tATT1 &    2.000 & 2400.000 &    5.835 &    2.651 &    6.000 &    5.793 &    2.965 &    2.000 &   10.000 &    8.000 &    0.098 &   -1.160 &    0.054\\\\\n",
       "\tATT2 &    3.000 & 2400.000 &    4.510 &    2.736 &    4.000 &    4.327 &    2.965 &    1.000 &   10.000 &    9.000 &    0.401 &   -0.972 &    0.056\\\\\n",
       "\tATT3 &    4.000 & 2400.000 &    5.865 &    2.675 &    6.000 &    5.831 &    2.965 &    2.000 &   10.000 &    8.000 &    0.090 &   -1.189 &    0.055\\\\\n",
       "\tATT4 &    5.000 & 2400.000 &    5.807 &    2.630 &    6.000 &    5.759 &    2.965 &    2.000 &   10.000 &    8.000 &    0.090 &   -1.154 &    0.054\\\\\n",
       "\tATT5 &    6.000 & 2400.000 &    5.767 &    2.631 &    6.000 &    5.708 &    2.965 &    2.000 &   10.000 &    8.000 &    0.111 &   -1.144 &    0.054\\\\\n",
       "\tATT6 &    7.000 & 2400.000 &    4.450 &    2.699 &    4.000 &    4.264 &    2.965 &    1.000 &   10.000 &    9.000 &    0.433 &   -0.947 &    0.055\\\\\n",
       "\tATT7 &    8.000 & 2400.000 &    4.474 &    2.739 &    4.000 &    4.290 &    2.965 &    1.000 &   10.000 &    9.000 &    0.399 &   -1.026 &    0.056\\\\\n",
       "\tATT8 &    9.000 & 2400.000 &    4.499 &    2.729 &    4.000 &    4.317 &    2.965 &    1.000 &   10.000 &    9.000 &    0.386 &   -0.978 &    0.056\\\\\n",
       "\tATT9 &   10.000 & 2400.000 &    4.484 &    2.688 &    4.000 &    4.299 &    2.965 &    1.000 &   10.000 &    9.000 &    0.412 &   -0.918 &    0.055\\\\\n",
       "\tATT10 &   11.000 & 2400.000 &    4.451 &    2.689 &    4.000 &    4.263 &    2.965 &    1.000 &   10.000 &    9.000 &    0.412 &   -0.935 &    0.055\\\\\n",
       "\tResult* &   12.000 & 2400.000 &    1.979 &    0.914 &    2.000 &    1.890 &    1.483 &    1.000 &    4.000 &    3.000 &    0.568 &   -0.603 &    0.019\\\\\n",
       "\\end{tabular}\n"
      ],
      "text/plain": [
       "        vars    n    mean     sd median trimmed     mad min  max range  skew\n",
       "ID         1 2400 1518.16 866.75   1530 1522.44 1114.91   2 2999  2997 -0.03\n",
       "ATT1       2 2400    5.84   2.65      6    5.79    2.96   2   10     8  0.10\n",
       "ATT2       3 2400    4.51   2.74      4    4.33    2.96   1   10     9  0.40\n",
       "ATT3       4 2400    5.87   2.67      6    5.83    2.96   2   10     8  0.09\n",
       "ATT4       5 2400    5.81   2.63      6    5.76    2.96   2   10     8  0.09\n",
       "ATT5       6 2400    5.77   2.63      6    5.71    2.96   2   10     8  0.11\n",
       "ATT6       7 2400    4.45   2.70      4    4.26    2.96   1   10     9  0.43\n",
       "ATT7       8 2400    4.47   2.74      4    4.29    2.96   1   10     9  0.40\n",
       "ATT8       9 2400    4.50   2.73      4    4.32    2.96   1   10     9  0.39\n",
       "ATT9      10 2400    4.48   2.69      4    4.30    2.96   1   10     9  0.41\n",
       "ATT10     11 2400    4.45   2.69      4    4.26    2.96   1   10     9  0.41\n",
       "Result*   12 2400    1.98   0.91      2    1.89    1.48   1    4     3  0.57\n",
       "        kurtosis    se\n",
       "ID         -1.20 17.69\n",
       "ATT1       -1.16  0.05\n",
       "ATT2       -0.97  0.06\n",
       "ATT3       -1.19  0.06\n",
       "ATT4       -1.15  0.05\n",
       "ATT5       -1.14  0.05\n",
       "ATT6       -0.95  0.06\n",
       "ATT7       -1.03  0.06\n",
       "ATT8       -0.98  0.06\n",
       "ATT9       -0.92  0.06\n",
       "ATT10      -0.94  0.06\n",
       "Result*    -0.60  0.02"
      ]
     },
     "metadata": {},
     "output_type": "display_data"
    }
   ],
   "source": [
    "round(describe(train), 3)"
   ]
  },
  {
   "cell_type": "code",
   "execution_count": 18,
   "metadata": {
    "collapsed": false
   },
   "outputs": [
    {
     "data": {
      "image/png": "[encoded data removed]",
      "text/plain": [
       "Plot with title \"Histogram of train$ATT1\""
      ]
     },
     "metadata": {},
     "output_type": "display_data"
    }
   ],
   "source": [
    "hist(train$ATT1)"
   ]
  },
  {
   "cell_type": "code",
   "execution_count": 19,
   "metadata": {
    "collapsed": false,
    "scrolled": false
   },
   "outputs": [
    {
     "data": {},
     "metadata": {},
     "output_type": "display_data"
    },
    {
     "data": {},
     "metadata": {},
     "output_type": "display_data"
    },
    {
     "data": {
      "image/png": "[encoded data removed]",
      "text/plain": [
       "plot without title"
      ]
     },
     "metadata": {},
     "output_type": "display_data"
    },
    {
     "data": {},
     "metadata": {},
     "output_type": "display_data"
    },
    {
     "data": {
      "image/png": "[encoded data removed]",
      "text/plain": [
       "plot without title"
      ]
     },
     "metadata": {},
     "output_type": "display_data"
    },
    {
     "data": {},
     "metadata": {},
     "output_type": "display_data"
    },
    {
     "data": {
      "image/png": "[encoded data removed]",
      "text/plain": [
       "plot without title"
      ]
     },
     "metadata": {},
     "output_type": "display_data"
    },
    {
     "data": {},
     "metadata": {},
     "output_type": "display_data"
    },
    {
     "data": {
      "image/png": "[encoded data removed]",
      "text/plain": [
       "plot without title"
      ]
     },
     "metadata": {},
     "output_type": "display_data"
    },
    {
     "data": {},
     "metadata": {},
     "output_type": "display_data"
    },
    {
     "data": {
      "image/png": "[encoded data removed]",
      "text/plain": [
       "plot without title"
      ]
     },
     "metadata": {},
     "output_type": "display_data"
    },
    {
     "data": {},
     "metadata": {},
     "output_type": "display_data"
    },
    {
     "data": {
      "image/png": "[encoded data removed]",
      "text/plain": [
       "plot without title"
      ]
     },
     "metadata": {},
     "output_type": "display_data"
    },
    {
     "data": {},
     "metadata": {},
     "output_type": "display_data"
    },
    {
     "data": {
      "image/png": "[encoded data removed]",
      "text/plain": [
       "plot without title"
      ]
     },
     "metadata": {},
     "output_type": "display_data"
    },
    {
     "data": {},
     "metadata": {},
     "output_type": "display_data"
    },
    {
     "data": {
      "image/png": "[encoded data removed]",
      "text/plain": [
       "plot without title"
      ]
     },
     "metadata": {},
     "output_type": "display_data"
    },
    {
     "data": {},
     "metadata": {},
     "output_type": "display_data"
    },
    {
     "data": {
      "image/png": "[encoded data removed]",
      "text/plain": [
       "plot without title"
      ]
     },
     "metadata": {},
     "output_type": "display_data"
    },
    {
     "data": {
      "image/png": "[encoded data removed]",
      "text/plain": [
       "plot without title"
      ]
     },
     "metadata": {},
     "output_type": "display_data"
    }
   ],
   "source": [
    "options(repr.plot.width = 3)\n",
    "options(repr.plot.height = 2)\n",
    "ggplot(train, aes(x = Result, y = ATT1)) + geom_boxplot()\n",
    "ggplot(train, aes(x = Result, y = ATT2)) + geom_boxplot()\n",
    "ggplot(train, aes(x = Result, y = ATT3)) + geom_boxplot()\n",
    "ggplot(train, aes(x = Result, y = ATT4)) + geom_boxplot()\n",
    "ggplot(train, aes(x = Result, y = ATT5)) + geom_boxplot()\n",
    "ggplot(train, aes(x = Result, y = ATT6)) + geom_boxplot()\n",
    "ggplot(train, aes(x = Result, y = ATT7)) + geom_boxplot()\n",
    "ggplot(train, aes(x = Result, y = ATT8)) + geom_boxplot()\n",
    "ggplot(train, aes(x = Result, y = ATT9)) + geom_boxplot()\n",
    "ggplot(train, aes(x = Result, y = ATT10)) + geom_boxplot()\n",
    "options(repr.plot.width = 6)\n",
    "options(repr.plot.height = 4)"
   ]
  },
  {
   "cell_type": "code",
   "execution_count": 20,
   "metadata": {
    "collapsed": false
   },
   "outputs": [
    {
     "data": {},
     "metadata": {},
     "output_type": "display_data"
    },
    {
     "data": {
      "image/png": "[encoded data removed]",
      "text/plain": [
       "plot without title"
      ]
     },
     "metadata": {},
     "output_type": "display_data"
    }
   ],
   "source": [
    "ggplot(aes(x=ATT5, y=ATT2, color=Result),  #by setting color=color, ggplot automatically draw in different colors\n",
    "       data=train) + geom_point(stat='summary', fun.y=median)"
   ]
  },
  {
   "cell_type": "markdown",
   "metadata": {},
   "source": [
    "## 2. EDA Report"
   ]
  },
  {
   "cell_type": "markdown",
   "metadata": {},
   "source": [
    "Perform an EDA, and prepare a summary of your findings. The summary should be less than 300 words. You need to emphasise on the aspects of the EDA that guide you in choosing a particular model or algorithm for your classifier. If you want to include any chart in your notebook, there should be something you have learnt and you are going to use it in your model selection. Please provide a short explanation on what you have learnt just after the cell. In addition, types of variables, the dimension of the data, and any correlation between variables are very important. Also, you might need to look at some distribution of your variables to get some insights."
   ]
  },
  {
   "cell_type": "code",
   "execution_count": null,
   "metadata": {
    "collapsed": true
   },
   "outputs": [],
   "source": []
  },
  {
   "cell_type": "code",
   "execution_count": null,
   "metadata": {
    "collapsed": true
   },
   "outputs": [],
   "source": []
  },
  {
   "cell_type": "code",
   "execution_count": null,
   "metadata": {
    "collapsed": true
   },
   "outputs": [],
   "source": []
  },
  {
   "cell_type": "markdown",
   "metadata": {},
   "source": [
    "## 3. XGBoost"
   ]
  },
  {
   "cell_type": "code",
   "execution_count": null,
   "metadata": {
    "collapsed": true
   },
   "outputs": [],
   "source": []
  }
 ],
 "metadata": {
  "anaconda-cloud": {},
  "kernelspec": {
   "display_name": "R",
   "language": "R",
   "name": "ir"
  },
  "language_info": {
   "codemirror_mode": "r",
   "file_extension": ".r",
   "mimetype": "text/x-r-source",
   "name": "R",
   "pygments_lexer": "r",
   "version": "3.3.1"
  }
 },
 "nbformat": 4,
 "nbformat_minor": 0
}
