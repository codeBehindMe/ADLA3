{
 "cells": [
  {
   "cell_type": "markdown",
   "metadata": {},
   "source": [
    "# Assessment 3 - A new tool for detecting prostate cancers\n",
    "### Authors: Jeffrey Mills (28083938), \n",
    "\n",
    "**Required Libraries -** The following R libraries are referenced in this notebook\n",
    "* glmnet\n",
    "* ROCR\n",
    "---\n",
    "### Table of Contents\n",
    "\n",
    "[1. Exploratory Data Analysis](#1.-Exploratory-Data-Analysis)\n",
    "\n",
    "[2. EDA Report](#2.-EDA-Report)\n",
    "\n",
    "[3. XGBoost](#3.-XGBoost)\n",
    "\n",
    "[4. Random Forest](#4.-Random-Forest)\n",
    "\n",
    "[5. Deep Learning](#5.-Deep-Learning)\n",
    "\n",
    "---"
   ]
  },
  {
   "cell_type": "code",
   "execution_count": 1,
   "metadata": {
    "collapsed": true
   },
   "outputs": [],
   "source": [
    "# disable scientific notation and set to 4 digits\n",
    "options(scipen=999)\n",
    "options(digits=4)\n",
    "# set the default plot size\n",
    "options(repr.plot.width = 6)\n",
    "options(repr.plot.height = 4)\n",
    "seed=123"
   ]
  },
  {
   "cell_type": "code",
   "execution_count": 284,
   "metadata": {
    "collapsed": false
   },
   "outputs": [
    {
     "name": "stderr",
     "output_type": "stream",
     "text": [
      "Warning message:\n",
      "\"package 'knn' is not available (for R version 3.3.1)\""
     ]
    }
   ],
   "source": [
    "# install packages ggplot2 for more fancier plots and graphs\n",
    "# and psych for a more comprehensive stats package\n",
    "# only install if not already installed\n",
    "list.of.packages <- c(\"ggplot2\", \"psych\", \"ROCR\", \"leaps\", \"glmnet\", \"caret\", \"xgboost\", \"Matrix\", \"Ckmeans.1d.dp\", \n",
    "                     \"randomForest\", \"caretEnsemble\", \"MASS\", \"DMwR\", \"ROSE\", \"plyr\", \"h2o\", \"gbm\")\n",
    "new.packages <- list.of.packages[!(list.of.packages %in% installed.packages()[,\"Package\"])]\n",
    "if(length(new.packages)) install.packages(new.packages, repos=\"http://cran.uk.r-project.org\")"
   ]
  },
  {
   "cell_type": "code",
   "execution_count": 283,
   "metadata": {
    "collapsed": false
   },
   "outputs": [
    {
     "ename": "ERROR",
     "evalue": "Error in library(\"knn\"): there is no package called 'knn'\n",
     "output_type": "error",
     "traceback": [
      "Error in library(\"knn\"): there is no package called 'knn'\nTraceback:\n",
      "1. library(\"knn\")",
      "2. stop(txt, domain = NA)"
     ]
    }
   ],
   "source": [
    "# import ggplot for some of the more fancier plots if needed\n",
    "library(\"ggplot2\")\n",
    "# import more comprehensive summary stats package\n",
    "library(psych)\n",
    "# import ROCR for easier model performance checking\n",
    "library(\"ROCR\")\n",
    "\n",
    "library(\"caret\")\n",
    "library(\"caretEnsemble\")\n",
    "library(\"MASS\")\n",
    "\n",
    "library(\"xgboost\")\n",
    "library(\"Matrix\")\n",
    "library(\"Ckmeans.1d.dp\")\n",
    "library(\"randomForest\")\n",
    "library(\"DMwR\")\n",
    "library(\"ROSE\")\n",
    "library(\"plyr\")\n",
    "require(h2o)\n",
    "library(\"gbm\")\n"
   ]
  },
  {
   "cell_type": "code",
   "execution_count": 8,
   "metadata": {
    "collapsed": false
   },
   "outputs": [],
   "source": [
    "# import local utilities.R file\n",
    "source(\"./utilities.r\")"
   ]
  },
  {
   "cell_type": "markdown",
   "metadata": {},
   "source": [
    "## 1. Exploratory Data Analysis"
   ]
  },
  {
   "cell_type": "code",
   "execution_count": 126,
   "metadata": {
    "collapsed": true
   },
   "outputs": [],
   "source": [
    "prostate <- read.csv(\"./prostate.csv\")"
   ]
  },
  {
   "cell_type": "code",
   "execution_count": null,
   "metadata": {
    "collapsed": false
   },
   "outputs": [],
   "source": []
  },
  {
   "cell_type": "code",
   "execution_count": 6,
   "metadata": {
    "collapsed": false
   },
   "outputs": [
    {
     "data": {
      "text/html": [
       "<table>\n",
       "<thead><tr><th></th><th scope=col>ID</th><th scope=col>ATT1</th><th scope=col>ATT2</th><th scope=col>ATT3</th><th scope=col>ATT4</th><th scope=col>ATT5</th><th scope=col>ATT6</th><th scope=col>ATT7</th><th scope=col>ATT8</th><th scope=col>ATT9</th><th scope=col>ATT10</th><th scope=col>Result</th></tr></thead>\n",
       "<tbody>\n",
       "\t<tr><th scope=row>1</th><td>1</td><td>2</td><td>4</td><td>2</td><td>6</td><td>5</td><td>7</td><td>1</td><td>2</td><td>6</td><td>8</td><td>0</td></tr>\n",
       "\t<tr><th scope=row>2</th><td> 2</td><td> 5</td><td> 8</td><td>10</td><td> 2</td><td> 2</td><td> 1</td><td> 1</td><td> 5</td><td> 6</td><td> 1</td><td> 1</td></tr>\n",
       "\t<tr><th scope=row>3</th><td>3</td><td>3</td><td>7</td><td>7</td><td>9</td><td>2</td><td>5</td><td>2</td><td>7</td><td>1</td><td>1</td><td>1</td></tr>\n",
       "\t<tr><th scope=row>4</th><td>4</td><td>5</td><td>4</td><td>5</td><td>9</td><td>4</td><td>8</td><td>4</td><td>6</td><td>7</td><td>2</td><td>0</td></tr>\n",
       "\t<tr><th scope=row>5</th><td>5</td><td>5</td><td>5</td><td>4</td><td>2</td><td>8</td><td>5</td><td>3</td><td>1</td><td>7</td><td>1</td><td>2</td></tr>\n",
       "\t<tr><th scope=row>6</th><td> 6</td><td> 4</td><td> 7</td><td> 5</td><td> 4</td><td> 2</td><td> 4</td><td>10</td><td> 3</td><td> 9</td><td> 5</td><td> 0</td></tr>\n",
       "</tbody>\n",
       "</table>\n"
      ],
      "text/latex": [
       "\\begin{tabular}{r|llllllllllll}\n",
       "  & ID & ATT1 & ATT2 & ATT3 & ATT4 & ATT5 & ATT6 & ATT7 & ATT8 & ATT9 & ATT10 & Result\\\\\n",
       "\\hline\n",
       "\t1 & 1 & 2 & 4 & 2 & 6 & 5 & 7 & 1 & 2 & 6 & 8 & 0\\\\\n",
       "\t2 &  2 &  5 &  8 & 10 &  2 &  2 &  1 &  1 &  5 &  6 &  1 &  1\\\\\n",
       "\t3 & 3 & 3 & 7 & 7 & 9 & 2 & 5 & 2 & 7 & 1 & 1 & 1\\\\\n",
       "\t4 & 4 & 5 & 4 & 5 & 9 & 4 & 8 & 4 & 6 & 7 & 2 & 0\\\\\n",
       "\t5 & 5 & 5 & 5 & 4 & 2 & 8 & 5 & 3 & 1 & 7 & 1 & 2\\\\\n",
       "\t6 &  6 &  4 &  7 &  5 &  4 &  2 &  4 & 10 &  3 &  9 &  5 &  0\\\\\n",
       "\\end{tabular}\n"
      ],
      "text/plain": [
       "  ID ATT1 ATT2 ATT3 ATT4 ATT5 ATT6 ATT7 ATT8 ATT9 ATT10 Result\n",
       "1  1    2    4    2    6    5    7    1    2    6     8      0\n",
       "2  2    5    8   10    2    2    1    1    5    6     1      1\n",
       "3  3    3    7    7    9    2    5    2    7    1     1      1\n",
       "4  4    5    4    5    9    4    8    4    6    7     2      0\n",
       "5  5    5    5    4    2    8    5    3    1    7     1      2\n",
       "6  6    4    7    5    4    2    4   10    3    9     5      0"
      ]
     },
     "metadata": {},
     "output_type": "display_data"
    }
   ],
   "source": [
    "# Check the head of the dataframe\n",
    "head(prostate)"
   ]
  },
  {
   "cell_type": "code",
   "execution_count": 127,
   "metadata": {
    "collapsed": false
   },
   "outputs": [
    {
     "name": "stdout",
     "output_type": "stream",
     "text": [
      "'data.frame':\t3000 obs. of  12 variables:\n",
      " $ ID    : int  1 2 3 4 5 6 7 8 9 10 ...\n",
      " $ ATT1  : int  2 5 3 5 5 4 2 10 4 2 ...\n",
      " $ ATT2  : int  4 8 7 4 5 7 1 5 9 1 ...\n",
      " $ ATT3  : int  2 10 7 5 4 5 5 4 4 2 ...\n",
      " $ ATT4  : int  6 2 9 9 2 4 7 8 2 10 ...\n",
      " $ ATT5  : int  5 2 2 4 8 2 10 4 6 10 ...\n",
      " $ ATT6  : int  7 1 5 8 5 4 3 7 6 2 ...\n",
      " $ ATT7  : int  1 1 2 4 3 10 7 3 8 2 ...\n",
      " $ ATT8  : int  2 5 7 6 1 3 1 6 8 5 ...\n",
      " $ ATT9  : int  6 6 1 7 7 9 10 7 4 1 ...\n",
      " $ ATT10 : int  8 1 1 2 1 5 7 3 3 3 ...\n",
      " $ Result: int  0 1 1 0 2 0 0 3 0 3 ...\n"
     ]
    }
   ],
   "source": [
    "# Check structure of the datatypes\n",
    "str(prostate)"
   ]
  },
  {
   "cell_type": "markdown",
   "metadata": {},
   "source": [
    "We can drop the ID column as it adds no benefit to our modelling"
   ]
  },
  {
   "cell_type": "code",
   "execution_count": 128,
   "metadata": {
    "collapsed": false
   },
   "outputs": [],
   "source": [
    "prostate$ID <- NULL"
   ]
  },
  {
   "cell_type": "markdown",
   "metadata": {},
   "source": [
    "Given that we know the **Result** variable is our target variable which represents one of 4 stages of the cancer (0 for curable, and 1 for tumour stage, 2 for node stage and 3 for incurable cancers) - this should be represented as a factor. "
   ]
  },
  {
   "cell_type": "code",
   "execution_count": 129,
   "metadata": {
    "collapsed": false
   },
   "outputs": [],
   "source": [
    "prostate$Result <- as.factor(prostate$Result) "
   ]
  },
  {
   "cell_type": "code",
   "execution_count": 33,
   "metadata": {
    "collapsed": false
   },
   "outputs": [
    {
     "data": {
      "text/html": [
       "3000"
      ],
      "text/latex": [
       "3000"
      ],
      "text/markdown": [
       "3000"
      ],
      "text/plain": [
       "[1] 3000"
      ]
     },
     "metadata": {},
     "output_type": "display_data"
    }
   ],
   "source": [
    "# Let's check for incomplete observations\n",
    "nrow(prostate[complete.cases(prostate),])"
   ]
  },
  {
   "cell_type": "code",
   "execution_count": 120,
   "metadata": {
    "collapsed": false
   },
   "outputs": [
    {
     "name": "stdout",
     "output_type": "stream",
     "text": [
      "\n",
      "   0    1    2    3 \n",
      "1082 1080  642  196 \n"
     ]
    }
   ],
   "source": [
    "# Check the proportions of each factor within the Result variable in our train set\n",
    "print(table(prostate$Result))"
   ]
  },
  {
   "cell_type": "markdown",
   "metadata": {},
   "source": [
    "We have class imbalance. This will need to be addressed when training our models, potentially with some sampling techniques. "
   ]
  },
  {
   "cell_type": "code",
   "execution_count": 12,
   "metadata": {
    "collapsed": false
   },
   "outputs": [
    {
     "data": {
      "text/html": [
       "<table>\n",
       "<thead><tr><th></th><th scope=col>vars</th><th scope=col>n</th><th scope=col>mean</th><th scope=col>sd</th><th scope=col>median</th><th scope=col>trimmed</th><th scope=col>mad</th><th scope=col>min</th><th scope=col>max</th><th scope=col>range</th><th scope=col>skew</th><th scope=col>kurtosis</th><th scope=col>se</th></tr></thead>\n",
       "<tbody>\n",
       "\t<tr><th scope=row>ATT1</th><td>   1.000</td><td>3000.000</td><td>   5.815</td><td>   2.661</td><td>   6.000</td><td>   5.769</td><td>   2.965</td><td>   2.000</td><td>  10.000</td><td>   8.000</td><td>   0.097</td><td>  -1.177</td><td>   0.049</td></tr>\n",
       "\t<tr><th scope=row>ATT2</th><td>   2.000</td><td>3000.000</td><td>   4.501</td><td>   2.748</td><td>   4.000</td><td>   4.315</td><td>   2.965</td><td>   1.000</td><td>  10.000</td><td>   9.000</td><td>   0.402</td><td>  -0.980</td><td>   0.050</td></tr>\n",
       "\t<tr><th scope=row>ATT3</th><td>   3.000</td><td>3000.000</td><td>   5.830</td><td>   2.655</td><td>   6.000</td><td>   5.788</td><td>   2.965</td><td>   2.000</td><td>  10.000</td><td>   8.000</td><td>   0.099</td><td>  -1.173</td><td>   0.048</td></tr>\n",
       "\t<tr><th scope=row>ATT4</th><td>   4.000</td><td>3000.000</td><td>   5.829</td><td>   2.634</td><td>   6.000</td><td>   5.786</td><td>   2.965</td><td>   2.000</td><td>  10.000</td><td>   8.000</td><td>   0.083</td><td>  -1.165</td><td>   0.048</td></tr>\n",
       "\t<tr><th scope=row>ATT5</th><td>   5.000</td><td>3000.000</td><td>   5.755</td><td>   2.622</td><td>   6.000</td><td>   5.694</td><td>   2.965</td><td>   2.000</td><td>  10.000</td><td>   8.000</td><td>   0.129</td><td>  -1.129</td><td>   0.048</td></tr>\n",
       "\t<tr><th scope=row>ATT6</th><td>   6.000</td><td>3000.000</td><td>   4.431</td><td>   2.694</td><td>   4.000</td><td>   4.240</td><td>   2.965</td><td>   1.000</td><td>  10.000</td><td>   9.000</td><td>   0.446</td><td>  -0.930</td><td>   0.049</td></tr>\n",
       "\t<tr><th scope=row>ATT7</th><td>   7.000</td><td>3000.000</td><td>   4.479</td><td>   2.741</td><td>   4.000</td><td>   4.297</td><td>   2.965</td><td>   1.000</td><td>  10.000</td><td>   9.000</td><td>   0.393</td><td>  -1.035</td><td>   0.050</td></tr>\n",
       "\t<tr><th scope=row>ATT8</th><td>   8.000</td><td>3000.000</td><td>   4.478</td><td>   2.720</td><td>   4.000</td><td>   4.292</td><td>   2.965</td><td>   1.000</td><td>  10.000</td><td>   9.000</td><td>   0.398</td><td>  -0.962</td><td>   0.050</td></tr>\n",
       "\t<tr><th scope=row>ATT9</th><td>   9.000</td><td>3000.000</td><td>   4.446</td><td>   2.678</td><td>   4.000</td><td>   4.254</td><td>   2.965</td><td>   1.000</td><td>  10.000</td><td>   9.000</td><td>   0.428</td><td>  -0.901</td><td>   0.049</td></tr>\n",
       "\t<tr><th scope=row>ATT10</th><td>  10.000</td><td>3000.000</td><td>   4.459</td><td>   2.698</td><td>   4.000</td><td>   4.271</td><td>   2.965</td><td>   1.000</td><td>  10.000</td><td>   9.000</td><td>   0.409</td><td>  -0.940</td><td>   0.049</td></tr>\n",
       "\t<tr><th scope=row>Result*</th><td>  11.000</td><td>3000.000</td><td>   1.984</td><td>   0.914</td><td>   2.000</td><td>   1.898</td><td>   1.483</td><td>   1.000</td><td>   4.000</td><td>   3.000</td><td>   0.544</td><td>  -0.646</td><td>   0.017</td></tr>\n",
       "</tbody>\n",
       "</table>\n"
      ],
      "text/latex": [
       "\\begin{tabular}{r|lllllllllllll}\n",
       "  & vars & n & mean & sd & median & trimmed & mad & min & max & range & skew & kurtosis & se\\\\\n",
       "\\hline\n",
       "\tATT1 &    1.000 & 3000.000 &    5.815 &    2.661 &    6.000 &    5.769 &    2.965 &    2.000 &   10.000 &    8.000 &    0.097 &   -1.177 &    0.049\\\\\n",
       "\tATT2 &    2.000 & 3000.000 &    4.501 &    2.748 &    4.000 &    4.315 &    2.965 &    1.000 &   10.000 &    9.000 &    0.402 &   -0.980 &    0.050\\\\\n",
       "\tATT3 &    3.000 & 3000.000 &    5.830 &    2.655 &    6.000 &    5.788 &    2.965 &    2.000 &   10.000 &    8.000 &    0.099 &   -1.173 &    0.048\\\\\n",
       "\tATT4 &    4.000 & 3000.000 &    5.829 &    2.634 &    6.000 &    5.786 &    2.965 &    2.000 &   10.000 &    8.000 &    0.083 &   -1.165 &    0.048\\\\\n",
       "\tATT5 &    5.000 & 3000.000 &    5.755 &    2.622 &    6.000 &    5.694 &    2.965 &    2.000 &   10.000 &    8.000 &    0.129 &   -1.129 &    0.048\\\\\n",
       "\tATT6 &    6.000 & 3000.000 &    4.431 &    2.694 &    4.000 &    4.240 &    2.965 &    1.000 &   10.000 &    9.000 &    0.446 &   -0.930 &    0.049\\\\\n",
       "\tATT7 &    7.000 & 3000.000 &    4.479 &    2.741 &    4.000 &    4.297 &    2.965 &    1.000 &   10.000 &    9.000 &    0.393 &   -1.035 &    0.050\\\\\n",
       "\tATT8 &    8.000 & 3000.000 &    4.478 &    2.720 &    4.000 &    4.292 &    2.965 &    1.000 &   10.000 &    9.000 &    0.398 &   -0.962 &    0.050\\\\\n",
       "\tATT9 &    9.000 & 3000.000 &    4.446 &    2.678 &    4.000 &    4.254 &    2.965 &    1.000 &   10.000 &    9.000 &    0.428 &   -0.901 &    0.049\\\\\n",
       "\tATT10 &   10.000 & 3000.000 &    4.459 &    2.698 &    4.000 &    4.271 &    2.965 &    1.000 &   10.000 &    9.000 &    0.409 &   -0.940 &    0.049\\\\\n",
       "\tResult* &   11.000 & 3000.000 &    1.984 &    0.914 &    2.000 &    1.898 &    1.483 &    1.000 &    4.000 &    3.000 &    0.544 &   -0.646 &    0.017\\\\\n",
       "\\end{tabular}\n"
      ],
      "text/plain": [
       "        vars    n mean   sd median trimmed  mad min max range skew kurtosis\n",
       "ATT1       1 3000 5.82 2.66      6    5.77 2.96   2  10     8 0.10    -1.18\n",
       "ATT2       2 3000 4.50 2.75      4    4.32 2.96   1  10     9 0.40    -0.98\n",
       "ATT3       3 3000 5.83 2.65      6    5.79 2.96   2  10     8 0.10    -1.17\n",
       "ATT4       4 3000 5.83 2.63      6    5.79 2.96   2  10     8 0.08    -1.17\n",
       "ATT5       5 3000 5.75 2.62      6    5.69 2.96   2  10     8 0.13    -1.13\n",
       "ATT6       6 3000 4.43 2.69      4    4.24 2.96   1  10     9 0.45    -0.93\n",
       "ATT7       7 3000 4.48 2.74      4    4.30 2.96   1  10     9 0.39    -1.03\n",
       "ATT8       8 3000 4.48 2.72      4    4.29 2.96   1  10     9 0.40    -0.96\n",
       "ATT9       9 3000 4.45 2.68      4    4.25 2.96   1  10     9 0.43    -0.90\n",
       "ATT10     10 3000 4.46 2.70      4    4.27 2.96   1  10     9 0.41    -0.94\n",
       "Result*   11 3000 1.98 0.91      2    1.90 1.48   1   4     3 0.54    -0.65\n",
       "          se\n",
       "ATT1    0.05\n",
       "ATT2    0.05\n",
       "ATT3    0.05\n",
       "ATT4    0.05\n",
       "ATT5    0.05\n",
       "ATT6    0.05\n",
       "ATT7    0.05\n",
       "ATT8    0.05\n",
       "ATT9    0.05\n",
       "ATT10   0.05\n",
       "Result* 0.02"
      ]
     },
     "metadata": {},
     "output_type": "display_data"
    }
   ],
   "source": [
    "round(describe(prostate), 3)"
   ]
  },
  {
   "cell_type": "code",
   "execution_count": 13,
   "metadata": {
    "collapsed": false
   },
   "outputs": [
    {
     "data": {
      "image/png": "[encoded data removed]",
      "text/plain": [
       "plot without title"
      ]
     },
     "metadata": {},
     "output_type": "display_data"
    },
    {
     "data": {
      "image/png": "[encoded data removed]",
      "text/plain": [
       "plot without title"
      ]
     },
     "metadata": {},
     "output_type": "display_data"
    },
    {
     "data": {
      "image/png": "[encoded data removed]",
      "text/plain": [
       "plot without title"
      ]
     },
     "metadata": {},
     "output_type": "display_data"
    },
    {
     "data": {
      "image/png": "[encoded data removed]",
      "text/plain": [
       "plot without title"
      ]
     },
     "metadata": {},
     "output_type": "display_data"
    },
    {
     "data": {
      "image/png": "[encoded data removed]",
      "text/plain": [
       "plot without title"
      ]
     },
     "metadata": {},
     "output_type": "display_data"
    },
    {
     "data": {
      "image/png": "[encoded data removed]",
      "text/plain": [
       "plot without title"
      ]
     },
     "metadata": {},
     "output_type": "display_data"
    },
    {
     "data": {
      "image/png": "[encoded data removed]",
      "text/plain": [
       "plot without title"
      ]
     },
     "metadata": {},
     "output_type": "display_data"
    },
    {
     "data": {
      "image/png": "[encoded data removed]",
      "text/plain": [
       "plot without title"
      ]
     },
     "metadata": {},
     "output_type": "display_data"
    },
    {
     "data": {
      "image/png": "[encoded data removed]",
      "text/plain": [
       "plot without title"
      ]
     },
     "metadata": {},
     "output_type": "display_data"
    },
    {
     "data": {
      "image/png": "[encoded data removed]",
      "text/plain": [
       "plot without title"
      ]
     },
     "metadata": {},
     "output_type": "display_data"
    }
   ],
   "source": [
    "oldpar <- par() #this records all the default settings\n",
    "par(mfrow=c(1,2)) # this makes to plots in one row\n",
    "par(mar=c(2.1,4.1,2.1,1.1)) #BLTR\n",
    "options(repr.plot.width=8, repr.plot.height=2.5)\n",
    "for (i in names(prostate)) {\n",
    "    if (i != \"Result\") {\n",
    "        hist(prostate[[i]],xlab=NULL,main=NULL)\n",
    "        boxplot(prostate[[i]])\n",
    "        mtext(i,side=3,line=-2, outer=TRUE)\n",
    "    }\n",
    "}\n",
    "suppressWarnings( par(oldpar)) # Restore settings"
   ]
  },
  {
   "cell_type": "code",
   "execution_count": 14,
   "metadata": {
    "collapsed": false,
    "scrolled": false
   },
   "outputs": [
    {
     "data": {},
     "metadata": {},
     "output_type": "display_data"
    },
    {
     "data": {},
     "metadata": {},
     "output_type": "display_data"
    },
    {
     "data": {
      "image/png": "[encoded data removed]",
      "text/plain": [
       "plot without title"
      ]
     },
     "metadata": {},
     "output_type": "display_data"
    },
    {
     "data": {
      "image/png": "[encoded data removed]",
      "text/plain": [
       "plot without title"
      ]
     },
     "metadata": {},
     "output_type": "display_data"
    }
   ],
   "source": [
    "options(repr.plot.width = 3)\n",
    "options(repr.plot.height = 2)\n",
    "ggplot(prostate, aes(x = Result, y = ATT1)) + geom_boxplot()\n",
    "#ggplot(prostate, aes(x = Result, y = ATT2)) + geom_boxplot()\n",
    "#ggplot(prostate, aes(x = Result, y = ATT3)) + geom_boxplot()\n",
    "#ggplot(prostate, aes(x = Result, y = ATT4)) + geom_boxplot()\n",
    "#ggplot(prostate, aes(x = Result, y = ATT5)) + geom_boxplot()\n",
    "#ggplot(prostate, aes(x = Result, y = ATT6)) + geom_boxplot()\n",
    "#ggplot(prostate, aes(x = Result, y = ATT7)) + geom_boxplot()\n",
    "#ggplot(prostate, aes(x = Result, y = ATT8)) + geom_boxplot()\n",
    "#ggplot(prostate, aes(x = Result, y = ATT9)) + geom_boxplot()\n",
    "ggplot(prostate, aes(x = Result, y = ATT10)) + geom_boxplot()\n",
    "options(repr.plot.width = 6)\n",
    "options(repr.plot.height = 4)"
   ]
  },
  {
   "cell_type": "code",
   "execution_count": 15,
   "metadata": {
    "collapsed": false
   },
   "outputs": [
    {
     "data": {},
     "metadata": {},
     "output_type": "display_data"
    },
    {
     "data": {
      "image/png": "[encoded data removed]",
      "text/plain": [
       "plot without title"
      ]
     },
     "metadata": {},
     "output_type": "display_data"
    }
   ],
   "source": [
    "ggplot(aes(x=ATT1, y=ATT2, color=Result),  #by setting color=color, ggplot automatically draw in different colors\n",
    "       data=prostate) + geom_point(stat='summary', fun.y=median)"
   ]
  },
  {
   "cell_type": "code",
   "execution_count": 16,
   "metadata": {
    "collapsed": false
   },
   "outputs": [
    {
     "data": {},
     "metadata": {},
     "output_type": "display_data"
    },
    {
     "data": {
      "image/png": "[encoded data removed]",
      "text/plain": [
       "plot without title"
      ]
     },
     "metadata": {},
     "output_type": "display_data"
    }
   ],
   "source": [
    "qplot(ATT1, ATT2, colour=Result, data=prostate)"
   ]
  },
  {
   "cell_type": "code",
   "execution_count": 17,
   "metadata": {
    "collapsed": false
   },
   "outputs": [
    {
     "data": {},
     "metadata": {},
     "output_type": "display_data"
    },
    {
     "data": {},
     "metadata": {},
     "output_type": "display_data"
    },
    {
     "data": {
      "image/png": "[encoded data removed]",
      "text/plain": [
       "plot without title"
      ]
     },
     "metadata": {},
     "output_type": "display_data"
    },
    {
     "data": {},
     "metadata": {},
     "output_type": "display_data"
    },
    {
     "data": {
      "image/png": "[encoded data removed]",
      "text/plain": [
       "plot without title"
      ]
     },
     "metadata": {},
     "output_type": "display_data"
    },
    {
     "data": {
      "image/png": "[encoded data removed]",
      "text/plain": [
       "plot without title"
      ]
     },
     "metadata": {},
     "output_type": "display_data"
    }
   ],
   "source": [
    "Udf.Utilities.Jitter(prostate,\"ATT1\",\"ATT2\",\"Result\")\n",
    "Udf.Utilities.Jitter(prostate, \"ATT2\", \"ATT3\", \"Result\")\n",
    "Udf.Utilities.Jitter(prostate, \"ATT3\", \"ATT4\", \"Result\")"
   ]
  },
  {
   "cell_type": "code",
   "execution_count": 125,
   "metadata": {
    "collapsed": false
   },
   "outputs": [
    {
     "data": {
      "text/html": [
       "<table>\n",
       "<thead><tr><th></th><th scope=col>ATT1</th><th scope=col>ATT2</th><th scope=col>ATT3</th><th scope=col>ATT4</th><th scope=col>ATT5</th><th scope=col>ATT6</th><th scope=col>ATT7</th><th scope=col>ATT8</th><th scope=col>ATT9</th><th scope=col>ATT10</th><th scope=col>Result</th></tr></thead>\n",
       "<tbody>\n",
       "\t<tr><th scope=row>1</th><td>2</td><td>4</td><td>2</td><td>6</td><td>5</td><td>7</td><td>1</td><td>2</td><td>6</td><td>8</td><td>1</td></tr>\n",
       "\t<tr><th scope=row>2</th><td>5 </td><td>8 </td><td>10</td><td>2 </td><td>2 </td><td>1 </td><td>1 </td><td>5 </td><td>6 </td><td>1 </td><td>2 </td></tr>\n",
       "\t<tr><th scope=row>3</th><td>3</td><td>7</td><td>7</td><td>9</td><td>2</td><td>5</td><td>2</td><td>7</td><td>1</td><td>1</td><td>2</td></tr>\n",
       "\t<tr><th scope=row>4</th><td>5</td><td>4</td><td>5</td><td>9</td><td>4</td><td>8</td><td>4</td><td>6</td><td>7</td><td>2</td><td>1</td></tr>\n",
       "\t<tr><th scope=row>5</th><td>5</td><td>5</td><td>4</td><td>2</td><td>8</td><td>5</td><td>3</td><td>1</td><td>7</td><td>1</td><td>3</td></tr>\n",
       "\t<tr><th scope=row>6</th><td>4 </td><td>7 </td><td>5 </td><td>4 </td><td>2 </td><td>4 </td><td>10</td><td>3 </td><td>9 </td><td>5 </td><td>1 </td></tr>\n",
       "</tbody>\n",
       "</table>\n"
      ],
      "text/latex": [
       "\\begin{tabular}{r|lllllllllll}\n",
       "  & ATT1 & ATT2 & ATT3 & ATT4 & ATT5 & ATT6 & ATT7 & ATT8 & ATT9 & ATT10 & Result\\\\\n",
       "\\hline\n",
       "\t1 & 2 & 4 & 2 & 6 & 5 & 7 & 1 & 2 & 6 & 8 & 1\\\\\n",
       "\t2 & 5  & 8  & 10 & 2  & 2  & 1  & 1  & 5  & 6  & 1  & 2 \\\\\n",
       "\t3 & 3 & 7 & 7 & 9 & 2 & 5 & 2 & 7 & 1 & 1 & 2\\\\\n",
       "\t4 & 5 & 4 & 5 & 9 & 4 & 8 & 4 & 6 & 7 & 2 & 1\\\\\n",
       "\t5 & 5 & 5 & 4 & 2 & 8 & 5 & 3 & 1 & 7 & 1 & 3\\\\\n",
       "\t6 & 4  & 7  & 5  & 4  & 2  & 4  & 10 & 3  & 9  & 5  & 1 \\\\\n",
       "\\end{tabular}\n"
      ],
      "text/plain": [
       "  ATT1 ATT2 ATT3 ATT4 ATT5 ATT6 ATT7 ATT8 ATT9 ATT10 Result\n",
       "1    2    4    2    6    5    7    1    2    6     8      1\n",
       "2    5    8   10    2    2    1    1    5    6     1      2\n",
       "3    3    7    7    9    2    5    2    7    1     1      2\n",
       "4    5    4    5    9    4    8    4    6    7     2      1\n",
       "5    5    5    4    2    8    5    3    1    7     1      3\n",
       "6    4    7    5    4    2    4   10    3    9     5      1"
      ]
     },
     "metadata": {},
     "output_type": "display_data"
    }
   ],
   "source": [
    "head(prostate)"
   ]
  },
  {
   "cell_type": "code",
   "execution_count": 133,
   "metadata": {
    "collapsed": false
   },
   "outputs": [
    {
     "data": {
      "text/html": [
       "<dl class=dl-horizontal>\n",
       "\t<dt>ATT1</dt>\n",
       "\t\t<dd>0.00865190745133651</dd>\n",
       "\t<dt>ATT2</dt>\n",
       "\t\t<dd>-0.00383961791503946</dd>\n",
       "\t<dt>ATT3</dt>\n",
       "\t\t<dd>0.000254906298457295</dd>\n",
       "\t<dt>ATT4</dt>\n",
       "\t\t<dd>-0.0100007463493493</dd>\n",
       "\t<dt>ATT5</dt>\n",
       "\t\t<dd>-0.00205284465856162</dd>\n",
       "\t<dt>ATT6</dt>\n",
       "\t\t<dd>0.00063463468914256</dd>\n",
       "\t<dt>ATT7</dt>\n",
       "\t\t<dd>-0.0352599714066862</dd>\n",
       "\t<dt>ATT8</dt>\n",
       "\t\t<dd>-0.0380930253754055</dd>\n",
       "\t<dt>ATT9</dt>\n",
       "\t\t<dd>-0.0215928911951695</dd>\n",
       "\t<dt>ATT10</dt>\n",
       "\t\t<dd>0.00770912074609794</dd>\n",
       "\t<dt>Result</dt>\n",
       "\t\t<dd>1</dd>\n",
       "</dl>\n"
      ],
      "text/latex": [
       "\\begin{description*}\n",
       "\\item[ATT1] 0.00865190745133651\n",
       "\\item[ATT2] -0.00383961791503946\n",
       "\\item[ATT3] 0.000254906298457295\n",
       "\\item[ATT4] -0.0100007463493493\n",
       "\\item[ATT5] -0.00205284465856162\n",
       "\\item[ATT6] 0.00063463468914256\n",
       "\\item[ATT7] -0.0352599714066862\n",
       "\\item[ATT8] -0.0380930253754055\n",
       "\\item[ATT9] -0.0215928911951695\n",
       "\\item[ATT10] 0.00770912074609794\n",
       "\\item[Result] 1\n",
       "\\end{description*}\n"
      ],
      "text/markdown": [
       "ATT1\n",
       ":   0.00865190745133651ATT2\n",
       ":   -0.00383961791503946ATT3\n",
       ":   0.000254906298457295ATT4\n",
       ":   -0.0100007463493493ATT5\n",
       ":   -0.00205284465856162ATT6\n",
       ":   0.00063463468914256ATT7\n",
       ":   -0.0352599714066862ATT8\n",
       ":   -0.0380930253754055ATT9\n",
       ":   -0.0215928911951695ATT10\n",
       ":   0.00770912074609794Result\n",
       ":   1\n",
       "\n"
      ],
      "text/plain": [
       "      ATT1       ATT2       ATT3       ATT4       ATT5       ATT6       ATT7 \n",
       " 0.0086519 -0.0038396  0.0002549 -0.0100007 -0.0020528  0.0006346 -0.0352600 \n",
       "      ATT8       ATT9      ATT10     Result \n",
       "-0.0380930 -0.0215929  0.0077091  1.0000000 "
      ]
     },
     "metadata": {},
     "output_type": "display_data"
    }
   ],
   "source": [
    "# drop Result back to numeric temporarily to see correclations\n",
    "prostate$Result <- as.numeric(prostate$Result)-1 \n",
    "\n",
    "# show each of the correlations with price\n",
    "cor(prostate[sapply(prostate, is.numeric)])[,'Result']\n",
    "\n",
    "prostate$Result <- as.factor(prostate$Result) "
   ]
  },
  {
   "cell_type": "markdown",
   "metadata": {},
   "source": [
    "All showing very weak correlations with the target variable - Result. This will make life interesting "
   ]
  },
  {
   "cell_type": "markdown",
   "metadata": {},
   "source": [
    "---\n",
    "# 2. EDA Report"
   ]
  },
  {
   "cell_type": "markdown",
   "metadata": {},
   "source": [
    "Perform an EDA, and prepare a summary of your findings. The summary should be less than 300 words. You need to emphasise on the aspects of the EDA that guide you in choosing a particular model or algorithm for your classifier. If you want to include any chart in your notebook, there should be something you have learnt and you are going to use it in your model selection. Please provide a short explanation on what you have learnt just after the cell. In addition, types of variables, the dimension of the data, and any correlation between variables are very important. Also, you might need to look at some distribution of your variables to get some insights."
   ]
  },
  {
   "cell_type": "markdown",
   "metadata": {
    "collapsed": true
   },
   "source": [
    "### Train/Test split\n",
    "Before we do anything, dedicate 20% of our data to an unseen Test set."
   ]
  },
  {
   "cell_type": "code",
   "execution_count": 134,
   "metadata": {
    "collapsed": true
   },
   "outputs": [],
   "source": [
    "# 20% of the sample size\n",
    "smp_size <- floor(0.8 * nrow(prostate))\n",
    "\n",
    "set.seed(seed)\n",
    "train_ind <- sample(seq_len(nrow(prostate)), size = smp_size)\n",
    "\n",
    "train <- prostate[train_ind, ]\n",
    "test <- prostate[-train_ind, ]"
   ]
  },
  {
   "cell_type": "markdown",
   "metadata": {},
   "source": [
    "---\n",
    "# 3. XGBoost"
   ]
  },
  {
   "cell_type": "code",
   "execution_count": 137,
   "metadata": {
    "collapsed": false
   },
   "outputs": [],
   "source": [
    "# create an upsample of training to obtain an even split of classes\n",
    "# note that other sampling methods (down, SMOTE) were tried with less success\n",
    "xg_train <- Udf.Utilities.UpSample(train)\n",
    "\n",
    "xg_test <- test"
   ]
  },
  {
   "cell_type": "code",
   "execution_count": 138,
   "metadata": {
    "collapsed": false
   },
   "outputs": [
    {
     "data": {
      "text/plain": [
       "\n",
       "  0   1   2   3 \n",
       "876 876 876 876 "
      ]
     },
     "metadata": {},
     "output_type": "display_data"
    }
   ],
   "source": [
    "# Check the proportions of each factor within the Result variable\n",
    "w <- table(xg_train$Result)\n",
    "w"
   ]
  },
  {
   "cell_type": "code",
   "execution_count": 139,
   "metadata": {
    "collapsed": false
   },
   "outputs": [],
   "source": [
    "# set the target for XGBoost to a numeric range from 0 - 3\n",
    "xg_train.y <- as.numeric(xg_train$Result)-1\n",
    "xg_test.y <- as.numeric(test$Result)-1"
   ]
  },
  {
   "cell_type": "code",
   "execution_count": 140,
   "metadata": {
    "collapsed": false
   },
   "outputs": [],
   "source": [
    "# store the actuals for future comparison\n",
    "actual <- xg_test.y"
   ]
  },
  {
   "cell_type": "code",
   "execution_count": 141,
   "metadata": {
    "collapsed": false
   },
   "outputs": [],
   "source": [
    "# convert to matrix for boosting method\n",
    "xg_train <- sparse.model.matrix(Result ~ ., data = xg_train)\n",
    "dtrain <- xgb.DMatrix(data=xg_train, label=xg_train.y)"
   ]
  },
  {
   "cell_type": "code",
   "execution_count": 142,
   "metadata": {
    "collapsed": true
   },
   "outputs": [],
   "source": [
    "xg_test <- sparse.model.matrix(Result ~ ., data = xg_test)\n",
    "dtest <- xgb.DMatrix(data=xg_test, label=xg_test.y)"
   ]
  },
  {
   "cell_type": "code",
   "execution_count": 143,
   "metadata": {
    "collapsed": true
   },
   "outputs": [],
   "source": [
    "watchlist <- list(xg_train=dtrain)"
   ]
  },
  {
   "cell_type": "code",
   "execution_count": 145,
   "metadata": {
    "collapsed": true
   },
   "outputs": [],
   "source": [
    "# set default params to be used if we don't have the compute power to perform this gridsearch\n",
    "nrounds <- 500\n",
    "max_depth <- 6\n",
    "eta <- 0.1\n",
    "colsample_bytree <- 0.9\n",
    "subsample <- 0.9\n",
    "gamma <- 0\n",
    "min_child_weight <- 1"
   ]
  },
  {
   "cell_type": "code",
   "execution_count": 146,
   "metadata": {
    "collapsed": true
   },
   "outputs": [],
   "source": [
    "# cross validate to select optimal value for number of rounds\n",
    "set.seed(seed)\n",
    "n_rounds.cv <- 1000\n",
    "params <- list(booster = \"gbtree\", objective = \"multi:softmax\",\n",
    "               num_class = 4, eval_metric = 'merror',\n",
    "               max_depth = max_depth, eta = eta,\n",
    "               colsample_bytree = colsample_bytree, subsample = subsample, min_child_weight = min_child_weight)"
   ]
  },
  {
   "cell_type": "code",
   "execution_count": 70,
   "metadata": {
    "collapsed": false,
    "scrolled": true
   },
   "outputs": [
    {
     "name": "stdout",
     "output_type": "stream",
     "text": [
      "[0]\ttrain-merror:0.508879+0.012468\ttest-merror:0.624680+0.024307\n",
      "[20]\ttrain-merror:0.176560+0.008523\ttest-merror:0.468025+0.029982\n",
      "[40]\ttrain-merror:0.100583+0.002541\ttest-merror:0.418943+0.031163\n",
      "[60]\ttrain-merror:0.061802+0.002610\ttest-merror:0.406106+0.027163\n",
      "[80]\ttrain-merror:0.036307+0.002331\ttest-merror:0.396708+0.024365\n",
      "[100]\ttrain-merror:0.021911+0.001830\ttest-merror:0.384998+0.024580\n",
      "[120]\ttrain-merror:0.013667+0.001957\ttest-merror:0.381288+0.025276\n",
      "[140]\ttrain-merror:0.007325+0.001342\ttest-merror:0.372162+0.028310\n",
      "[160]\ttrain-merror:0.004027+0.000748\ttest-merror:0.369870+0.031357\n",
      "[180]\ttrain-merror:0.002030+0.000477\ttest-merror:0.369019+0.029462\n",
      "[200]\ttrain-merror:0.001237+0.000484\ttest-merror:0.369307+0.028689\n",
      "[220]\ttrain-merror:0.000634+0.000473\ttest-merror:0.369020+0.025303\n",
      "[240]\ttrain-merror:0.000190+0.000401\ttest-merror:0.368169+0.024413\n",
      "[260]\ttrain-merror:0.000000+0.000000\ttest-merror:0.367882+0.024541\n",
      "[280]\ttrain-merror:0.000000+0.000000\ttest-merror:0.366731+0.021838\n",
      "[300]\ttrain-merror:0.000000+0.000000\ttest-merror:0.363602+0.023643\n",
      "[320]\ttrain-merror:0.000000+0.000000\ttest-merror:0.364737+0.018533\n",
      "[340]\ttrain-merror:0.000000+0.000000\ttest-merror:0.365025+0.023518\n",
      "[360]\ttrain-merror:0.000000+0.000000\ttest-merror:0.364730+0.023701\n",
      "[380]\ttrain-merror:0.000000+0.000000\ttest-merror:0.367016+0.022210\n",
      "[400]\ttrain-merror:0.000000+0.000000\ttest-merror:0.366732+0.020324\n",
      "[420]\ttrain-merror:0.000000+0.000000\ttest-merror:0.365306+0.020592\n",
      "[440]\ttrain-merror:0.000000+0.000000\ttest-merror:0.367872+0.022163\n",
      "[460]\ttrain-merror:0.000000+0.000000\ttest-merror:0.368727+0.021374\n",
      "[480]\ttrain-merror:0.000000+0.000000\ttest-merror:0.368439+0.019813\n",
      "[500]\ttrain-merror:0.000000+0.000000\ttest-merror:0.367581+0.018269\n",
      "[520]\ttrain-merror:0.000000+0.000000\ttest-merror:0.366150+0.019505\n",
      "[540]\ttrain-merror:0.000000+0.000000\ttest-merror:0.365860+0.021117\n",
      "[560]\ttrain-merror:0.000000+0.000000\ttest-merror:0.366440+0.021813\n",
      "[580]\ttrain-merror:0.000000+0.000000\ttest-merror:0.365866+0.021527\n",
      "[600]\ttrain-merror:0.000000+0.000000\ttest-merror:0.368722+0.022213\n",
      "[620]\ttrain-merror:0.000000+0.000000\ttest-merror:0.367865+0.022991\n",
      "[640]\ttrain-merror:0.000000+0.000000\ttest-merror:0.368433+0.022248\n",
      "[660]\ttrain-merror:0.000000+0.000000\ttest-merror:0.367299+0.022740\n",
      "[680]\ttrain-merror:0.000000+0.000000\ttest-merror:0.367300+0.021083\n",
      "[700]\ttrain-merror:0.000000+0.000000\ttest-merror:0.367869+0.022896\n",
      "[720]\ttrain-merror:0.000000+0.000000\ttest-merror:0.367868+0.022958\n",
      "[740]\ttrain-merror:0.000000+0.000000\ttest-merror:0.367579+0.023567\n",
      "[760]\ttrain-merror:0.000000+0.000000\ttest-merror:0.367010+0.024032\n",
      "[780]\ttrain-merror:0.000000+0.000000\ttest-merror:0.366437+0.023319\n",
      "[800]\ttrain-merror:0.000000+0.000000\ttest-merror:0.367011+0.022989\n",
      "[820]\ttrain-merror:0.000000+0.000000\ttest-merror:0.365584+0.023880\n",
      "[840]\ttrain-merror:0.000000+0.000000\ttest-merror:0.365867+0.023539\n",
      "[860]\ttrain-merror:0.000000+0.000000\ttest-merror:0.365864+0.024055\n",
      "[880]\ttrain-merror:0.000000+0.000000\ttest-merror:0.367006+0.022245\n",
      "[900]\ttrain-merror:0.000000+0.000000\ttest-merror:0.365011+0.022049\n",
      "[920]\ttrain-merror:0.000000+0.000000\ttest-merror:0.365294+0.022678\n",
      "[940]\ttrain-merror:0.000000+0.000000\ttest-merror:0.364727+0.023833\n",
      "[960]\ttrain-merror:0.000000+0.000000\ttest-merror:0.365293+0.022301\n",
      "[980]\ttrain-merror:0.000000+0.000000\ttest-merror:0.363582+0.023557\n"
     ]
    }
   ],
   "source": [
    "bst.cv <- xgb.cv(params, dtrain, n_rounds.cv, nfold = 10, metrics = {'merror'},\n",
    "                 print.every.n = 20, prediction = TRUE)"
   ]
  },
  {
   "cell_type": "code",
   "execution_count": 147,
   "metadata": {
    "collapsed": false
   },
   "outputs": [
    {
     "data": {
      "text/html": [
       "759"
      ],
      "text/latex": [
       "759"
      ],
      "text/markdown": [
       "759"
      ],
      "text/plain": [
       "[1] 759"
      ]
     },
     "metadata": {},
     "output_type": "display_data"
    }
   ],
   "source": [
    "n_rounds.train <- which.min(bst.cv$dt[, test.merror.mean])\n",
    "n_rounds.train"
   ]
  },
  {
   "cell_type": "code",
   "execution_count": 148,
   "metadata": {
    "collapsed": false
   },
   "outputs": [
    {
     "name": "stdout",
     "output_type": "stream",
     "text": [
      "[0]\txg_train-merror:0.490011\n",
      "[1]\txg_train-merror:0.413813\n",
      "[2]\txg_train-merror:0.374144\n",
      "[3]\txg_train-merror:0.340183\n",
      "[4]\txg_train-merror:0.321062\n",
      "[5]\txg_train-merror:0.292808\n",
      "[6]\txg_train-merror:0.285388\n",
      "[7]\txg_train-merror:0.278539\n",
      "[8]\txg_train-merror:0.268836\n",
      "[9]\txg_train-merror:0.258276\n",
      "[10]\txg_train-merror:0.245434\n",
      "[11]\txg_train-merror:0.238014\n",
      "[12]\txg_train-merror:0.235445\n",
      "[13]\txg_train-merror:0.227169\n",
      "[14]\txg_train-merror:0.221747\n",
      "[15]\txg_train-merror:0.214897\n",
      "[16]\txg_train-merror:0.207477\n",
      "[17]\txg_train-merror:0.195205\n",
      "[18]\txg_train-merror:0.186073\n",
      "[19]\txg_train-merror:0.188927\n",
      "[20]\txg_train-merror:0.182934\n",
      "[21]\txg_train-merror:0.179509\n",
      "[22]\txg_train-merror:0.173231\n",
      "[23]\txg_train-merror:0.167237\n",
      "[24]\txg_train-merror:0.165525\n",
      "[25]\txg_train-merror:0.158105\n",
      "[26]\txg_train-merror:0.157249\n",
      "[27]\txg_train-merror:0.153253\n",
      "[28]\txg_train-merror:0.149258\n",
      "[29]\txg_train-merror:0.141267\n",
      "[30]\txg_train-merror:0.135845\n",
      "[31]\txg_train-merror:0.130422\n",
      "[32]\txg_train-merror:0.131564\n",
      "[33]\txg_train-merror:0.127568\n",
      "[34]\txg_train-merror:0.123573\n",
      "[35]\txg_train-merror:0.122146\n",
      "[36]\txg_train-merror:0.113299\n",
      "[37]\txg_train-merror:0.111587\n",
      "[38]\txg_train-merror:0.107877\n",
      "[39]\txg_train-merror:0.104737\n",
      "[40]\txg_train-merror:0.101313\n",
      "[41]\txg_train-merror:0.097317\n",
      "[42]\txg_train-merror:0.093322\n",
      "[43]\txg_train-merror:0.093607\n",
      "[44]\txg_train-merror:0.090468\n",
      "[45]\txg_train-merror:0.088185\n",
      "[46]\txg_train-merror:0.086473\n",
      "[47]\txg_train-merror:0.085616\n",
      "[48]\txg_train-merror:0.084189\n",
      "[49]\txg_train-merror:0.084189\n",
      "[50]\txg_train-merror:0.078482\n",
      "[51]\txg_train-merror:0.078482\n",
      "[52]\txg_train-merror:0.075913\n",
      "[53]\txg_train-merror:0.075342\n",
      "[54]\txg_train-merror:0.074486\n",
      "[55]\txg_train-merror:0.071632\n",
      "[56]\txg_train-merror:0.070205\n",
      "[57]\txg_train-merror:0.068208\n",
      "[58]\txg_train-merror:0.067066\n",
      "[59]\txg_train-merror:0.065354\n",
      "[60]\txg_train-merror:0.062500\n",
      "[61]\txg_train-merror:0.062785\n",
      "[62]\txg_train-merror:0.059646\n",
      "[63]\txg_train-merror:0.059075\n",
      "[64]\txg_train-merror:0.057934\n",
      "[65]\txg_train-merror:0.056792\n",
      "[66]\txg_train-merror:0.054509\n",
      "[67]\txg_train-merror:0.054509\n",
      "[68]\txg_train-merror:0.053653\n",
      "[69]\txg_train-merror:0.052226\n",
      "[70]\txg_train-merror:0.051655\n",
      "[71]\txg_train-merror:0.049658\n",
      "[72]\txg_train-merror:0.048801\n",
      "[73]\txg_train-merror:0.047660\n",
      "[74]\txg_train-merror:0.047945\n",
      "[75]\txg_train-merror:0.046804\n",
      "[76]\txg_train-merror:0.046804\n",
      "[77]\txg_train-merror:0.045377\n",
      "[78]\txg_train-merror:0.045377\n",
      "[79]\txg_train-merror:0.045091\n",
      "[80]\txg_train-merror:0.042237\n",
      "[81]\txg_train-merror:0.042237\n",
      "[82]\txg_train-merror:0.041381\n",
      "[83]\txg_train-merror:0.042237\n",
      "[84]\txg_train-merror:0.040811\n",
      "[85]\txg_train-merror:0.039954\n",
      "[86]\txg_train-merror:0.038813\n",
      "[87]\txg_train-merror:0.038242\n",
      "[88]\txg_train-merror:0.039098\n",
      "[89]\txg_train-merror:0.037671\n",
      "[90]\txg_train-merror:0.037386\n",
      "[91]\txg_train-merror:0.033676\n",
      "[92]\txg_train-merror:0.033105\n",
      "[93]\txg_train-merror:0.032249\n",
      "[94]\txg_train-merror:0.031678\n",
      "[95]\txg_train-merror:0.031393\n",
      "[96]\txg_train-merror:0.030822\n",
      "[97]\txg_train-merror:0.031678\n",
      "[98]\txg_train-merror:0.030251\n",
      "[99]\txg_train-merror:0.029395\n",
      "[100]\txg_train-merror:0.028824\n",
      "[101]\txg_train-merror:0.028539\n",
      "[102]\txg_train-merror:0.028253\n",
      "[103]\txg_train-merror:0.027683\n",
      "[104]\txg_train-merror:0.027968\n",
      "[105]\txg_train-merror:0.026826\n",
      "[106]\txg_train-merror:0.025685\n",
      "[107]\txg_train-merror:0.025685\n",
      "[108]\txg_train-merror:0.025970\n",
      "[109]\txg_train-merror:0.024543\n",
      "[110]\txg_train-merror:0.023687\n",
      "[111]\txg_train-merror:0.023402\n",
      "[112]\txg_train-merror:0.023116\n",
      "[113]\txg_train-merror:0.021975\n",
      "[114]\txg_train-merror:0.021404\n",
      "[115]\txg_train-merror:0.020833\n",
      "[116]\txg_train-merror:0.021119\n",
      "[117]\txg_train-merror:0.019977\n",
      "[118]\txg_train-merror:0.019406\n",
      "[119]\txg_train-merror:0.017979\n",
      "[120]\txg_train-merror:0.017979\n",
      "[121]\txg_train-merror:0.016838\n",
      "[122]\txg_train-merror:0.017123\n",
      "[123]\txg_train-merror:0.015126\n",
      "[124]\txg_train-merror:0.014269\n",
      "[125]\txg_train-merror:0.013984\n",
      "[126]\txg_train-merror:0.012842\n",
      "[127]\txg_train-merror:0.013699\n",
      "[128]\txg_train-merror:0.013984\n",
      "[129]\txg_train-merror:0.012557\n",
      "[130]\txg_train-merror:0.012272\n",
      "[131]\txg_train-merror:0.011986\n",
      "[132]\txg_train-merror:0.011130\n",
      "[133]\txg_train-merror:0.011130\n",
      "[134]\txg_train-merror:0.011986\n",
      "[135]\txg_train-merror:0.011416\n",
      "[136]\txg_train-merror:0.010845\n",
      "[137]\txg_train-merror:0.010845\n",
      "[138]\txg_train-merror:0.010559\n",
      "[139]\txg_train-merror:0.009989\n",
      "[140]\txg_train-merror:0.009989\n",
      "[141]\txg_train-merror:0.009132\n",
      "[142]\txg_train-merror:0.008847\n",
      "[143]\txg_train-merror:0.008562\n",
      "[144]\txg_train-merror:0.007991\n",
      "[145]\txg_train-merror:0.007991\n",
      "[146]\txg_train-merror:0.007420\n",
      "[147]\txg_train-merror:0.007705\n",
      "[148]\txg_train-merror:0.007991\n",
      "[149]\txg_train-merror:0.007705\n",
      "[150]\txg_train-merror:0.007705\n",
      "[151]\txg_train-merror:0.007705\n",
      "[152]\txg_train-merror:0.007705\n",
      "[153]\txg_train-merror:0.007705\n",
      "[154]\txg_train-merror:0.007705\n",
      "[155]\txg_train-merror:0.006564\n",
      "[156]\txg_train-merror:0.006279\n",
      "[157]\txg_train-merror:0.005708\n",
      "[158]\txg_train-merror:0.005993\n",
      "[159]\txg_train-merror:0.006279\n",
      "[160]\txg_train-merror:0.005993\n",
      "[161]\txg_train-merror:0.005422\n",
      "[162]\txg_train-merror:0.005137\n",
      "[163]\txg_train-merror:0.004852\n",
      "[164]\txg_train-merror:0.004852\n",
      "[165]\txg_train-merror:0.004566\n",
      "[166]\txg_train-merror:0.004566\n",
      "[167]\txg_train-merror:0.004281\n",
      "[168]\txg_train-merror:0.004281\n",
      "[169]\txg_train-merror:0.003995\n",
      "[170]\txg_train-merror:0.003995\n",
      "[171]\txg_train-merror:0.003995\n",
      "[172]\txg_train-merror:0.003995\n",
      "[173]\txg_train-merror:0.003995\n",
      "[174]\txg_train-merror:0.003710\n",
      "[175]\txg_train-merror:0.003710\n",
      "[176]\txg_train-merror:0.003710\n",
      "[177]\txg_train-merror:0.003710\n",
      "[178]\txg_train-merror:0.003425\n",
      "[179]\txg_train-merror:0.003139\n",
      "[180]\txg_train-merror:0.003139\n",
      "[181]\txg_train-merror:0.002854\n",
      "[182]\txg_train-merror:0.002568\n",
      "[183]\txg_train-merror:0.002568\n",
      "[184]\txg_train-merror:0.002568\n",
      "[185]\txg_train-merror:0.002568\n",
      "[186]\txg_train-merror:0.002568\n",
      "[187]\txg_train-merror:0.002283\n",
      "[188]\txg_train-merror:0.002283\n",
      "[189]\txg_train-merror:0.001998\n",
      "[190]\txg_train-merror:0.002283\n",
      "[191]\txg_train-merror:0.001712\n",
      "[192]\txg_train-merror:0.001712\n",
      "[193]\txg_train-merror:0.001712\n",
      "[194]\txg_train-merror:0.001998\n",
      "[195]\txg_train-merror:0.001712\n",
      "[196]\txg_train-merror:0.001712\n",
      "[197]\txg_train-merror:0.001712\n",
      "[198]\txg_train-merror:0.001712\n",
      "[199]\txg_train-merror:0.001712\n",
      "[200]\txg_train-merror:0.001427\n",
      "[201]\txg_train-merror:0.001427\n",
      "[202]\txg_train-merror:0.001427\n",
      "[203]\txg_train-merror:0.001142\n",
      "[204]\txg_train-merror:0.001142\n",
      "[205]\txg_train-merror:0.000856\n",
      "[206]\txg_train-merror:0.000856\n",
      "[207]\txg_train-merror:0.000856\n",
      "[208]\txg_train-merror:0.000856\n",
      "[209]\txg_train-merror:0.000856\n",
      "[210]\txg_train-merror:0.000856\n",
      "[211]\txg_train-merror:0.000856\n",
      "[212]\txg_train-merror:0.000571\n",
      "[213]\txg_train-merror:0.000571\n",
      "[214]\txg_train-merror:0.000571\n",
      "[215]\txg_train-merror:0.000571\n",
      "[216]\txg_train-merror:0.000571\n",
      "[217]\txg_train-merror:0.000571\n",
      "[218]\txg_train-merror:0.000571\n",
      "[219]\txg_train-merror:0.000571\n",
      "[220]\txg_train-merror:0.000571\n",
      "[221]\txg_train-merror:0.000571\n",
      "[222]\txg_train-merror:0.000571\n",
      "[223]\txg_train-merror:0.000571\n",
      "[224]\txg_train-merror:0.000571\n",
      "[225]\txg_train-merror:0.000571\n",
      "[226]\txg_train-merror:0.000571\n",
      "[227]\txg_train-merror:0.000571\n",
      "[228]\txg_train-merror:0.000285\n",
      "[229]\txg_train-merror:0.000571\n",
      "[230]\txg_train-merror:0.000285\n",
      "[231]\txg_train-merror:0.000285\n",
      "[232]\txg_train-merror:0.000285\n",
      "[233]\txg_train-merror:0.000285\n",
      "[234]\txg_train-merror:0.000285\n",
      "[235]\txg_train-merror:0.000285\n",
      "[236]\txg_train-merror:0.000285\n",
      "[237]\txg_train-merror:0.000285\n",
      "[238]\txg_train-merror:0.000285\n",
      "[239]\txg_train-merror:0.000285\n",
      "[240]\txg_train-merror:0.000285\n",
      "[241]\txg_train-merror:0.000285\n",
      "[242]\txg_train-merror:0.000285\n",
      "[243]\txg_train-merror:0.000285\n",
      "[244]\txg_train-merror:0.000285\n",
      "[245]\txg_train-merror:0.000285\n",
      "[246]\txg_train-merror:0.000285\n",
      "[247]\txg_train-merror:0.000285\n",
      "[248]\txg_train-merror:0.000285\n",
      "[249]\txg_train-merror:0.000285\n",
      "[250]\txg_train-merror:0.000285\n",
      "[251]\txg_train-merror:0.000285\n",
      "[252]\txg_train-merror:0.000285\n",
      "[253]\txg_train-merror:0.000285\n",
      "[254]\txg_train-merror:0.000285\n",
      "[255]\txg_train-merror:0.000285\n",
      "[256]\txg_train-merror:0.000285\n",
      "[257]\txg_train-merror:0.000285\n",
      "[258]\txg_train-merror:0.000285\n",
      "[259]\txg_train-merror:0.000285\n",
      "[260]\txg_train-merror:0.000285\n",
      "[261]\txg_train-merror:0.000285\n",
      "[262]\txg_train-merror:0.000285\n",
      "[263]\txg_train-merror:0.000285\n",
      "[264]\txg_train-merror:0.000285\n",
      "[265]\txg_train-merror:0.000285\n",
      "[266]\txg_train-merror:0.000285\n",
      "[267]\txg_train-merror:0.000285\n",
      "[268]\txg_train-merror:0.000285\n",
      "[269]\txg_train-merror:0.000285\n",
      "[270]\txg_train-merror:0.000285\n",
      "[271]\txg_train-merror:0.000000\n",
      "[272]\txg_train-merror:0.000000\n",
      "[273]\txg_train-merror:0.000000\n",
      "[274]\txg_train-merror:0.000000\n",
      "[275]\txg_train-merror:0.000000\n",
      "[276]\txg_train-merror:0.000000\n",
      "[277]\txg_train-merror:0.000000\n",
      "[278]\txg_train-merror:0.000000\n",
      "[279]\txg_train-merror:0.000000\n",
      "[280]\txg_train-merror:0.000000\n",
      "[281]\txg_train-merror:0.000000\n",
      "[282]\txg_train-merror:0.000000\n",
      "[283]\txg_train-merror:0.000000\n",
      "[284]\txg_train-merror:0.000000\n",
      "[285]\txg_train-merror:0.000000\n",
      "[286]\txg_train-merror:0.000000\n",
      "[287]\txg_train-merror:0.000000\n",
      "[288]\txg_train-merror:0.000000\n",
      "[289]\txg_train-merror:0.000000\n",
      "[290]\txg_train-merror:0.000000\n",
      "[291]\txg_train-merror:0.000000\n",
      "[292]\txg_train-merror:0.000000\n",
      "[293]\txg_train-merror:0.000000\n",
      "[294]\txg_train-merror:0.000000\n",
      "[295]\txg_train-merror:0.000000\n",
      "[296]\txg_train-merror:0.000000\n",
      "[297]\txg_train-merror:0.000000\n",
      "[298]\txg_train-merror:0.000000\n",
      "[299]\txg_train-merror:0.000000\n",
      "[300]\txg_train-merror:0.000000\n",
      "[301]\txg_train-merror:0.000000\n",
      "[302]\txg_train-merror:0.000000\n",
      "[303]\txg_train-merror:0.000000\n",
      "[304]\txg_train-merror:0.000000\n",
      "[305]\txg_train-merror:0.000000\n",
      "[306]\txg_train-merror:0.000000\n",
      "[307]\txg_train-merror:0.000000\n",
      "[308]\txg_train-merror:0.000000\n",
      "[309]\txg_train-merror:0.000000\n",
      "[310]\txg_train-merror:0.000000\n",
      "[311]\txg_train-merror:0.000000\n",
      "[312]\txg_train-merror:0.000000\n",
      "[313]\txg_train-merror:0.000000\n",
      "[314]\txg_train-merror:0.000000\n",
      "[315]\txg_train-merror:0.000000\n",
      "[316]\txg_train-merror:0.000000\n",
      "[317]\txg_train-merror:0.000000\n",
      "[318]\txg_train-merror:0.000000\n",
      "[319]\txg_train-merror:0.000000\n",
      "[320]\txg_train-merror:0.000000\n",
      "[321]\txg_train-merror:0.000000\n",
      "[322]\txg_train-merror:0.000000\n",
      "[323]\txg_train-merror:0.000000\n",
      "[324]\txg_train-merror:0.000000\n",
      "[325]\txg_train-merror:0.000000\n",
      "[326]\txg_train-merror:0.000000\n",
      "[327]\txg_train-merror:0.000000\n",
      "[328]\txg_train-merror:0.000000\n",
      "[329]\txg_train-merror:0.000000\n",
      "[330]\txg_train-merror:0.000000\n",
      "[331]\txg_train-merror:0.000000\n",
      "[332]\txg_train-merror:0.000000\n",
      "[333]\txg_train-merror:0.000000\n",
      "[334]\txg_train-merror:0.000000\n",
      "[335]\txg_train-merror:0.000000\n",
      "[336]\txg_train-merror:0.000000\n",
      "[337]\txg_train-merror:0.000000\n",
      "[338]\txg_train-merror:0.000000\n",
      "[339]\txg_train-merror:0.000000\n",
      "[340]\txg_train-merror:0.000000\n",
      "[341]\txg_train-merror:0.000000\n",
      "[342]\txg_train-merror:0.000000\n",
      "[343]\txg_train-merror:0.000000\n",
      "[344]\txg_train-merror:0.000000\n",
      "[345]\txg_train-merror:0.000000\n",
      "[346]\txg_train-merror:0.000000\n",
      "[347]\txg_train-merror:0.000000\n",
      "[348]\txg_train-merror:0.000000\n",
      "[349]\txg_train-merror:0.000000\n",
      "[350]\txg_train-merror:0.000000\n",
      "[351]\txg_train-merror:0.000000\n",
      "[352]\txg_train-merror:0.000000\n",
      "[353]\txg_train-merror:0.000000\n",
      "[354]\txg_train-merror:0.000000\n",
      "[355]\txg_train-merror:0.000000\n",
      "[356]\txg_train-merror:0.000000\n",
      "[357]\txg_train-merror:0.000000\n",
      "[358]\txg_train-merror:0.000000\n",
      "[359]\txg_train-merror:0.000000\n",
      "[360]\txg_train-merror:0.000000\n",
      "[361]\txg_train-merror:0.000000\n",
      "[362]\txg_train-merror:0.000000\n",
      "[363]\txg_train-merror:0.000000\n",
      "[364]\txg_train-merror:0.000000\n",
      "[365]\txg_train-merror:0.000000\n",
      "[366]\txg_train-merror:0.000000\n",
      "[367]\txg_train-merror:0.000000\n",
      "[368]\txg_train-merror:0.000000\n",
      "[369]\txg_train-merror:0.000000\n",
      "[370]\txg_train-merror:0.000000\n",
      "[371]\txg_train-merror:0.000000\n",
      "[372]\txg_train-merror:0.000000\n",
      "[373]\txg_train-merror:0.000000\n",
      "[374]\txg_train-merror:0.000000\n",
      "[375]\txg_train-merror:0.000000\n",
      "[376]\txg_train-merror:0.000000\n",
      "[377]\txg_train-merror:0.000000\n",
      "[378]\txg_train-merror:0.000000\n",
      "[379]\txg_train-merror:0.000000\n",
      "[380]\txg_train-merror:0.000000\n",
      "[381]\txg_train-merror:0.000000\n",
      "[382]\txg_train-merror:0.000000\n",
      "[383]\txg_train-merror:0.000000\n",
      "[384]\txg_train-merror:0.000000\n",
      "[385]\txg_train-merror:0.000000\n",
      "[386]\txg_train-merror:0.000000\n",
      "[387]\txg_train-merror:0.000000\n",
      "[388]\txg_train-merror:0.000000\n",
      "[389]\txg_train-merror:0.000000\n",
      "[390]\txg_train-merror:0.000000\n",
      "[391]\txg_train-merror:0.000000\n",
      "[392]\txg_train-merror:0.000000\n",
      "[393]\txg_train-merror:0.000000\n",
      "[394]\txg_train-merror:0.000000\n",
      "[395]\txg_train-merror:0.000000\n",
      "[396]\txg_train-merror:0.000000\n",
      "[397]\txg_train-merror:0.000000\n",
      "[398]\txg_train-merror:0.000000\n",
      "[399]\txg_train-merror:0.000000\n",
      "[400]\txg_train-merror:0.000000\n",
      "[401]\txg_train-merror:0.000000\n",
      "[402]\txg_train-merror:0.000000\n",
      "[403]\txg_train-merror:0.000000\n",
      "[404]\txg_train-merror:0.000000\n",
      "[405]\txg_train-merror:0.000000\n",
      "[406]\txg_train-merror:0.000000\n",
      "[407]\txg_train-merror:0.000000\n",
      "[408]\txg_train-merror:0.000000\n",
      "[409]\txg_train-merror:0.000000\n",
      "[410]\txg_train-merror:0.000000\n",
      "[411]\txg_train-merror:0.000000\n",
      "[412]\txg_train-merror:0.000000\n",
      "[413]\txg_train-merror:0.000000\n",
      "[414]\txg_train-merror:0.000000\n",
      "[415]\txg_train-merror:0.000000\n",
      "[416]\txg_train-merror:0.000000\n",
      "[417]\txg_train-merror:0.000000\n",
      "[418]\txg_train-merror:0.000000\n",
      "[419]\txg_train-merror:0.000000\n",
      "[420]\txg_train-merror:0.000000\n",
      "[421]\txg_train-merror:0.000000\n",
      "[422]\txg_train-merror:0.000000\n",
      "[423]\txg_train-merror:0.000000\n",
      "[424]\txg_train-merror:0.000000\n",
      "[425]\txg_train-merror:0.000000\n",
      "[426]\txg_train-merror:0.000000\n",
      "[427]\txg_train-merror:0.000000\n",
      "[428]\txg_train-merror:0.000000\n",
      "[429]\txg_train-merror:0.000000\n",
      "[430]\txg_train-merror:0.000000\n",
      "[431]\txg_train-merror:0.000000\n",
      "[432]\txg_train-merror:0.000000\n",
      "[433]\txg_train-merror:0.000000\n",
      "[434]\txg_train-merror:0.000000\n",
      "[435]\txg_train-merror:0.000000\n",
      "[436]\txg_train-merror:0.000000\n",
      "[437]\txg_train-merror:0.000000\n",
      "[438]\txg_train-merror:0.000000\n",
      "[439]\txg_train-merror:0.000000\n",
      "[440]\txg_train-merror:0.000000\n",
      "[441]\txg_train-merror:0.000000\n",
      "[442]\txg_train-merror:0.000000\n",
      "[443]\txg_train-merror:0.000000\n",
      "[444]\txg_train-merror:0.000000\n",
      "[445]\txg_train-merror:0.000000\n",
      "[446]\txg_train-merror:0.000000\n",
      "[447]\txg_train-merror:0.000000\n",
      "[448]\txg_train-merror:0.000000\n",
      "[449]\txg_train-merror:0.000000\n",
      "[450]\txg_train-merror:0.000000\n",
      "[451]\txg_train-merror:0.000000\n",
      "[452]\txg_train-merror:0.000000\n",
      "[453]\txg_train-merror:0.000000\n",
      "[454]\txg_train-merror:0.000000\n",
      "[455]\txg_train-merror:0.000000\n",
      "[456]\txg_train-merror:0.000000\n",
      "[457]\txg_train-merror:0.000000\n",
      "[458]\txg_train-merror:0.000000\n",
      "[459]\txg_train-merror:0.000000\n",
      "[460]\txg_train-merror:0.000000\n",
      "[461]\txg_train-merror:0.000000\n",
      "[462]\txg_train-merror:0.000000\n",
      "[463]\txg_train-merror:0.000000\n",
      "[464]\txg_train-merror:0.000000\n",
      "[465]\txg_train-merror:0.000000\n",
      "[466]\txg_train-merror:0.000000\n",
      "[467]\txg_train-merror:0.000000\n",
      "[468]\txg_train-merror:0.000000\n",
      "[469]\txg_train-merror:0.000000\n",
      "[470]\txg_train-merror:0.000000\n",
      "[471]\txg_train-merror:0.000000\n",
      "[472]\txg_train-merror:0.000000\n",
      "[473]\txg_train-merror:0.000000\n",
      "[474]\txg_train-merror:0.000000\n",
      "[475]\txg_train-merror:0.000000\n",
      "[476]\txg_train-merror:0.000000\n",
      "[477]\txg_train-merror:0.000000\n",
      "[478]\txg_train-merror:0.000000\n",
      "[479]\txg_train-merror:0.000000\n",
      "[480]\txg_train-merror:0.000000\n",
      "[481]\txg_train-merror:0.000000\n",
      "[482]\txg_train-merror:0.000000\n",
      "[483]\txg_train-merror:0.000000\n",
      "[484]\txg_train-merror:0.000000\n",
      "[485]\txg_train-merror:0.000000\n",
      "[486]\txg_train-merror:0.000000\n",
      "[487]\txg_train-merror:0.000000\n",
      "[488]\txg_train-merror:0.000000\n",
      "[489]\txg_train-merror:0.000000\n",
      "[490]\txg_train-merror:0.000000\n",
      "[491]\txg_train-merror:0.000000\n",
      "[492]\txg_train-merror:0.000000\n",
      "[493]\txg_train-merror:0.000000\n",
      "[494]\txg_train-merror:0.000000\n",
      "[495]\txg_train-merror:0.000000\n",
      "[496]\txg_train-merror:0.000000\n",
      "[497]\txg_train-merror:0.000000\n",
      "[498]\txg_train-merror:0.000000\n",
      "[499]\txg_train-merror:0.000000\n",
      "[500]\txg_train-merror:0.000000\n",
      "[501]\txg_train-merror:0.000000\n",
      "[502]\txg_train-merror:0.000000\n",
      "[503]\txg_train-merror:0.000000\n",
      "[504]\txg_train-merror:0.000000\n",
      "[505]\txg_train-merror:0.000000\n",
      "[506]\txg_train-merror:0.000000\n",
      "[507]\txg_train-merror:0.000000\n",
      "[508]\txg_train-merror:0.000000\n",
      "[509]\txg_train-merror:0.000000\n",
      "[510]\txg_train-merror:0.000000\n",
      "[511]\txg_train-merror:0.000000\n",
      "[512]\txg_train-merror:0.000000\n",
      "[513]\txg_train-merror:0.000000\n",
      "[514]\txg_train-merror:0.000000\n",
      "[515]\txg_train-merror:0.000000\n",
      "[516]\txg_train-merror:0.000000\n",
      "[517]\txg_train-merror:0.000000\n",
      "[518]\txg_train-merror:0.000000\n",
      "[519]\txg_train-merror:0.000000\n",
      "[520]\txg_train-merror:0.000000\n",
      "[521]\txg_train-merror:0.000000\n",
      "[522]\txg_train-merror:0.000000\n",
      "[523]\txg_train-merror:0.000000\n",
      "[524]\txg_train-merror:0.000000\n",
      "[525]\txg_train-merror:0.000000\n",
      "[526]\txg_train-merror:0.000000\n",
      "[527]\txg_train-merror:0.000000\n",
      "[528]\txg_train-merror:0.000000\n",
      "[529]\txg_train-merror:0.000000\n",
      "[530]\txg_train-merror:0.000000\n",
      "[531]\txg_train-merror:0.000000\n",
      "[532]\txg_train-merror:0.000000\n",
      "[533]\txg_train-merror:0.000000\n",
      "[534]\txg_train-merror:0.000000\n",
      "[535]\txg_train-merror:0.000000\n",
      "[536]\txg_train-merror:0.000000\n",
      "[537]\txg_train-merror:0.000000\n",
      "[538]\txg_train-merror:0.000000\n",
      "[539]\txg_train-merror:0.000000\n",
      "[540]\txg_train-merror:0.000000\n",
      "[541]\txg_train-merror:0.000000\n",
      "[542]\txg_train-merror:0.000000\n",
      "[543]\txg_train-merror:0.000000\n",
      "[544]\txg_train-merror:0.000000\n",
      "[545]\txg_train-merror:0.000000\n",
      "[546]\txg_train-merror:0.000000\n",
      "[547]\txg_train-merror:0.000000\n",
      "[548]\txg_train-merror:0.000000\n",
      "[549]\txg_train-merror:0.000000\n",
      "[550]\txg_train-merror:0.000000\n",
      "[551]\txg_train-merror:0.000000\n",
      "[552]\txg_train-merror:0.000000\n",
      "[553]\txg_train-merror:0.000000\n",
      "[554]\txg_train-merror:0.000000\n",
      "[555]\txg_train-merror:0.000000\n",
      "[556]\txg_train-merror:0.000000\n",
      "[557]\txg_train-merror:0.000000\n",
      "[558]\txg_train-merror:0.000000\n",
      "[559]\txg_train-merror:0.000000\n",
      "[560]\txg_train-merror:0.000000\n",
      "[561]\txg_train-merror:0.000000\n",
      "[562]\txg_train-merror:0.000000\n",
      "[563]\txg_train-merror:0.000000\n",
      "[564]\txg_train-merror:0.000000\n",
      "[565]\txg_train-merror:0.000000\n",
      "[566]\txg_train-merror:0.000000\n",
      "[567]\txg_train-merror:0.000000\n",
      "[568]\txg_train-merror:0.000000\n",
      "[569]\txg_train-merror:0.000000\n",
      "[570]\txg_train-merror:0.000000\n",
      "[571]\txg_train-merror:0.000000\n",
      "[572]\txg_train-merror:0.000000\n",
      "[573]\txg_train-merror:0.000000\n",
      "[574]\txg_train-merror:0.000000\n",
      "[575]\txg_train-merror:0.000000\n",
      "[576]\txg_train-merror:0.000000\n",
      "[577]\txg_train-merror:0.000000\n",
      "[578]\txg_train-merror:0.000000\n",
      "[579]\txg_train-merror:0.000000\n",
      "[580]\txg_train-merror:0.000000\n",
      "[581]\txg_train-merror:0.000000\n",
      "[582]\txg_train-merror:0.000000\n",
      "[583]\txg_train-merror:0.000000\n",
      "[584]\txg_train-merror:0.000000\n",
      "[585]\txg_train-merror:0.000000\n",
      "[586]\txg_train-merror:0.000000\n",
      "[587]\txg_train-merror:0.000000\n",
      "[588]\txg_train-merror:0.000000\n",
      "[589]\txg_train-merror:0.000000\n",
      "[590]\txg_train-merror:0.000000\n",
      "[591]\txg_train-merror:0.000000\n",
      "[592]\txg_train-merror:0.000000\n",
      "[593]\txg_train-merror:0.000000\n",
      "[594]\txg_train-merror:0.000000\n",
      "[595]\txg_train-merror:0.000000\n",
      "[596]\txg_train-merror:0.000000\n",
      "[597]\txg_train-merror:0.000000\n",
      "[598]\txg_train-merror:0.000000\n",
      "[599]\txg_train-merror:0.000000\n",
      "[600]\txg_train-merror:0.000000\n",
      "[601]\txg_train-merror:0.000000\n",
      "[602]\txg_train-merror:0.000000\n",
      "[603]\txg_train-merror:0.000000\n",
      "[604]\txg_train-merror:0.000000\n",
      "[605]\txg_train-merror:0.000000\n",
      "[606]\txg_train-merror:0.000000\n",
      "[607]\txg_train-merror:0.000000\n",
      "[608]\txg_train-merror:0.000000\n",
      "[609]\txg_train-merror:0.000000\n",
      "[610]\txg_train-merror:0.000000\n",
      "[611]\txg_train-merror:0.000000\n",
      "[612]\txg_train-merror:0.000000\n",
      "[613]\txg_train-merror:0.000000\n",
      "[614]\txg_train-merror:0.000000\n",
      "[615]\txg_train-merror:0.000000\n",
      "[616]\txg_train-merror:0.000000\n",
      "[617]\txg_train-merror:0.000000\n",
      "[618]\txg_train-merror:0.000000\n",
      "[619]\txg_train-merror:0.000000\n",
      "[620]\txg_train-merror:0.000000\n",
      "[621]\txg_train-merror:0.000000\n",
      "[622]\txg_train-merror:0.000000\n",
      "[623]\txg_train-merror:0.000000\n",
      "[624]\txg_train-merror:0.000000\n",
      "[625]\txg_train-merror:0.000000\n",
      "[626]\txg_train-merror:0.000000\n",
      "[627]\txg_train-merror:0.000000\n",
      "[628]\txg_train-merror:0.000000\n",
      "[629]\txg_train-merror:0.000000\n",
      "[630]\txg_train-merror:0.000000\n",
      "[631]\txg_train-merror:0.000000\n",
      "[632]\txg_train-merror:0.000000\n",
      "[633]\txg_train-merror:0.000000\n",
      "[634]\txg_train-merror:0.000000\n",
      "[635]\txg_train-merror:0.000000\n",
      "[636]\txg_train-merror:0.000000\n",
      "[637]\txg_train-merror:0.000000\n",
      "[638]\txg_train-merror:0.000000\n",
      "[639]\txg_train-merror:0.000000\n",
      "[640]\txg_train-merror:0.000000\n",
      "[641]\txg_train-merror:0.000000\n",
      "[642]\txg_train-merror:0.000000\n",
      "[643]\txg_train-merror:0.000000\n",
      "[644]\txg_train-merror:0.000000\n",
      "[645]\txg_train-merror:0.000000\n",
      "[646]\txg_train-merror:0.000000\n",
      "[647]\txg_train-merror:0.000000\n",
      "[648]\txg_train-merror:0.000000\n",
      "[649]\txg_train-merror:0.000000\n",
      "[650]\txg_train-merror:0.000000\n",
      "[651]\txg_train-merror:0.000000\n",
      "[652]\txg_train-merror:0.000000\n",
      "[653]\txg_train-merror:0.000000\n",
      "[654]\txg_train-merror:0.000000\n",
      "[655]\txg_train-merror:0.000000\n",
      "[656]\txg_train-merror:0.000000\n",
      "[657]\txg_train-merror:0.000000\n",
      "[658]\txg_train-merror:0.000000\n",
      "[659]\txg_train-merror:0.000000\n",
      "[660]\txg_train-merror:0.000000\n",
      "[661]\txg_train-merror:0.000000\n",
      "[662]\txg_train-merror:0.000000\n",
      "[663]\txg_train-merror:0.000000\n",
      "[664]\txg_train-merror:0.000000\n",
      "[665]\txg_train-merror:0.000000\n",
      "[666]\txg_train-merror:0.000000\n",
      "[667]\txg_train-merror:0.000000\n",
      "[668]\txg_train-merror:0.000000\n",
      "[669]\txg_train-merror:0.000000\n",
      "[670]\txg_train-merror:0.000000\n",
      "[671]\txg_train-merror:0.000000\n",
      "[672]\txg_train-merror:0.000000\n",
      "[673]\txg_train-merror:0.000000\n",
      "[674]\txg_train-merror:0.000000\n",
      "[675]\txg_train-merror:0.000000\n",
      "[676]\txg_train-merror:0.000000\n",
      "[677]\txg_train-merror:0.000000\n",
      "[678]\txg_train-merror:0.000000\n",
      "[679]\txg_train-merror:0.000000\n",
      "[680]\txg_train-merror:0.000000\n",
      "[681]\txg_train-merror:0.000000\n",
      "[682]\txg_train-merror:0.000000\n",
      "[683]\txg_train-merror:0.000000\n",
      "[684]\txg_train-merror:0.000000\n",
      "[685]\txg_train-merror:0.000000\n",
      "[686]\txg_train-merror:0.000000\n",
      "[687]\txg_train-merror:0.000000\n",
      "[688]\txg_train-merror:0.000000\n",
      "[689]\txg_train-merror:0.000000\n",
      "[690]\txg_train-merror:0.000000\n",
      "[691]\txg_train-merror:0.000000\n",
      "[692]\txg_train-merror:0.000000\n",
      "[693]\txg_train-merror:0.000000\n",
      "[694]\txg_train-merror:0.000000\n",
      "[695]\txg_train-merror:0.000000\n",
      "[696]\txg_train-merror:0.000000\n",
      "[697]\txg_train-merror:0.000000\n",
      "[698]\txg_train-merror:0.000000\n",
      "[699]\txg_train-merror:0.000000\n",
      "[700]\txg_train-merror:0.000000\n",
      "[701]\txg_train-merror:0.000000\n",
      "[702]\txg_train-merror:0.000000\n",
      "[703]\txg_train-merror:0.000000\n",
      "[704]\txg_train-merror:0.000000\n",
      "[705]\txg_train-merror:0.000000\n",
      "[706]\txg_train-merror:0.000000\n",
      "[707]\txg_train-merror:0.000000\n",
      "[708]\txg_train-merror:0.000000\n",
      "[709]\txg_train-merror:0.000000\n",
      "[710]\txg_train-merror:0.000000\n",
      "[711]\txg_train-merror:0.000000\n",
      "[712]\txg_train-merror:0.000000\n",
      "[713]\txg_train-merror:0.000000\n",
      "[714]\txg_train-merror:0.000000\n",
      "[715]\txg_train-merror:0.000000\n",
      "[716]\txg_train-merror:0.000000\n",
      "[717]\txg_train-merror:0.000000\n",
      "[718]\txg_train-merror:0.000000\n",
      "[719]\txg_train-merror:0.000000\n",
      "[720]\txg_train-merror:0.000000\n",
      "[721]\txg_train-merror:0.000000\n",
      "[722]\txg_train-merror:0.000000\n",
      "[723]\txg_train-merror:0.000000\n",
      "[724]\txg_train-merror:0.000000\n",
      "[725]\txg_train-merror:0.000000\n",
      "[726]\txg_train-merror:0.000000\n",
      "[727]\txg_train-merror:0.000000\n",
      "[728]\txg_train-merror:0.000000\n",
      "[729]\txg_train-merror:0.000000\n",
      "[730]\txg_train-merror:0.000000\n",
      "[731]\txg_train-merror:0.000000\n",
      "[732]\txg_train-merror:0.000000\n",
      "[733]\txg_train-merror:0.000000\n",
      "[734]\txg_train-merror:0.000000\n",
      "[735]\txg_train-merror:0.000000\n",
      "[736]\txg_train-merror:0.000000\n",
      "[737]\txg_train-merror:0.000000\n",
      "[738]\txg_train-merror:0.000000\n",
      "[739]\txg_train-merror:0.000000\n",
      "[740]\txg_train-merror:0.000000\n",
      "[741]\txg_train-merror:0.000000\n",
      "[742]\txg_train-merror:0.000000\n",
      "[743]\txg_train-merror:0.000000\n",
      "[744]\txg_train-merror:0.000000\n",
      "[745]\txg_train-merror:0.000000\n",
      "[746]\txg_train-merror:0.000000\n",
      "[747]\txg_train-merror:0.000000\n",
      "[748]\txg_train-merror:0.000000\n",
      "[749]\txg_train-merror:0.000000\n",
      "[750]\txg_train-merror:0.000000\n",
      "[751]\txg_train-merror:0.000000\n",
      "[752]\txg_train-merror:0.000000\n",
      "[753]\txg_train-merror:0.000000\n",
      "[754]\txg_train-merror:0.000000\n",
      "[755]\txg_train-merror:0.000000\n",
      "[756]\txg_train-merror:0.000000\n",
      "[757]\txg_train-merror:0.000000\n",
      "[758]\txg_train-merror:0.000000\n"
     ]
    }
   ],
   "source": [
    "# create the model\n",
    "bst <- xgb.train(   params              = params, \n",
    "                    data                = dtrain, \n",
    "                    nrounds             = n_rounds.train, \n",
    "                    verbose             = 1,\n",
    "                    watchlist           = watchlist,\n",
    "                    maximize            = FALSE\n",
    ")"
   ]
  },
  {
   "cell_type": "code",
   "execution_count": 73,
   "metadata": {
    "collapsed": true
   },
   "outputs": [],
   "source": [
    "# generate predictions from model\n",
    "pred <- predict(bst, xg_test);"
   ]
  },
  {
   "cell_type": "code",
   "execution_count": 74,
   "metadata": {
    "collapsed": false
   },
   "outputs": [
    {
     "data": {
      "text/plain": [
       "Confusion Matrix and Statistics\n",
       "\n",
       "          Reference\n",
       "Prediction  0  1  2  3\n",
       "         0 87 83 60 15\n",
       "         1 82 78 60 18\n",
       "         2 40 38 21  2\n",
       "         3  5  5  6  0\n",
       "\n",
       "Overall Statistics\n",
       "                                        \n",
       "               Accuracy : 0.31          \n",
       "                 95% CI : (0.273, 0.349)\n",
       "    No Information Rate : 0.357         \n",
       "    P-Value [Acc > NIR] : 0.992882      \n",
       "                                        \n",
       "                  Kappa : -0.02         \n",
       " Mcnemar's Test P-Value : 0.000704      \n",
       "\n",
       "Statistics by Class:\n",
       "\n",
       "                     Class: 0 Class: 1 Class: 2 Class: 3\n",
       "Sensitivity             0.407    0.382    0.143   0.0000\n",
       "Specificity             0.591    0.596    0.823   0.9717\n",
       "Pos Pred Value          0.355    0.328    0.208   0.0000\n",
       "Neg Pred Value          0.642    0.652    0.747   0.9401\n",
       "Prevalence              0.357    0.340    0.245   0.0583\n",
       "Detection Rate          0.145    0.130    0.035   0.0000\n",
       "Detection Prevalence    0.408    0.397    0.168   0.0267\n",
       "Balanced Accuracy       0.499    0.489    0.483   0.4858"
      ]
     },
     "metadata": {},
     "output_type": "display_data"
    }
   ],
   "source": [
    "confusionMatrix(pred, actual)"
   ]
  },
  {
   "cell_type": "code",
   "execution_count": 75,
   "metadata": {
    "collapsed": false
   },
   "outputs": [
    {
     "data": {
      "text/html": [
       "<table>\n",
       "<thead><tr><th></th><th scope=col>Feature</th><th scope=col>Gain</th><th scope=col>Cover</th><th scope=col>Frequence</th></tr></thead>\n",
       "<tbody>\n",
       "\t<tr><th scope=row>1</th><td>ATT3              </td><td>0.104013392229815 </td><td>0.0884387812879234</td><td>0.100707140393239 </td></tr>\n",
       "\t<tr><th scope=row>2</th><td>ATT9             </td><td>0.102409110367457</td><td>0.116503945866794</td><td>0.103535701966195</td></tr>\n",
       "\t<tr><th scope=row>3</th><td>ATT4              </td><td>0.102311142280264 </td><td>0.0900530928434779</td><td>0.0998620213866851</td></tr>\n",
       "\t<tr><th scope=row>4</th><td>ATT6             </td><td>0.101093972495696</td><td>0.101818313112935</td><td>0.100793377026561</td></tr>\n",
       "\t<tr><th scope=row>5</th><td>ATT10            </td><td>0.100559832080534</td><td>0.106793830794048</td><td>0.100758882373232</td></tr>\n",
       "\t<tr><th scope=row>6</th><td>ATT2              </td><td>0.0995691186445694</td><td>0.10838137342493  </td><td>0.100569161779924 </td></tr>\n",
       "</tbody>\n",
       "</table>\n"
      ],
      "text/latex": [
       "\\begin{tabular}{r|llll}\n",
       "  & Feature & Gain & Cover & Frequence\\\\\n",
       "\\hline\n",
       "\t1 & ATT3               & 0.104013392229815  & 0.0884387812879234 & 0.100707140393239 \\\\\n",
       "\t2 & ATT9              & 0.102409110367457 & 0.116503945866794 & 0.103535701966195\\\\\n",
       "\t3 & ATT4               & 0.102311142280264  & 0.0900530928434779 & 0.0998620213866851\\\\\n",
       "\t4 & ATT6              & 0.101093972495696 & 0.101818313112935 & 0.100793377026561\\\\\n",
       "\t5 & ATT10             & 0.100559832080534 & 0.106793830794048 & 0.100758882373232\\\\\n",
       "\t6 & ATT2               & 0.0995691186445694 & 0.10838137342493   & 0.100569161779924 \\\\\n",
       "\\end{tabular}\n"
      ],
      "text/plain": [
       "  Feature    Gain   Cover Frequence\n",
       "1    ATT3 0.10401 0.08844   0.10071\n",
       "2    ATT9 0.10241 0.11650   0.10354\n",
       "3    ATT4 0.10231 0.09005   0.09986\n",
       "4    ATT6 0.10109 0.10182   0.10079\n",
       "5   ATT10 0.10056 0.10679   0.10076\n",
       "6    ATT2 0.09957 0.10838   0.10057"
      ]
     },
     "metadata": {},
     "output_type": "display_data"
    }
   ],
   "source": [
    "feature.importance <- xgb.importance(dimnames(xg_train)[[2]], model = bst)\n",
    "head(feature.importance)"
   ]
  },
  {
   "cell_type": "code",
   "execution_count": 77,
   "metadata": {
    "collapsed": false
   },
   "outputs": [
    {
     "data": {},
     "metadata": {},
     "output_type": "display_data"
    },
    {
     "data": {
      "image/png": "[encoded data removed]",
      "text/plain": [
       "plot without title"
      ]
     },
     "metadata": {},
     "output_type": "display_data"
    }
   ],
   "source": [
    "xgb.plot.importance(feature.importance)"
   ]
  },
  {
   "cell_type": "markdown",
   "metadata": {},
   "source": [
    "## Cross Validate further parameters for XGBoost using GridSearch"
   ]
  },
  {
   "cell_type": "code",
   "execution_count": 78,
   "metadata": {
    "collapsed": true
   },
   "outputs": [],
   "source": []
  },
  {
   "cell_type": "code",
   "execution_count": 79,
   "metadata": {
    "collapsed": true
   },
   "outputs": [],
   "source": [
    "xgbGrid <- expand.grid(\n",
    "    nrounds = c(100, 300, 500, 1000),\n",
    "    max_depth = c(1, 3, 5, 7),\n",
    "    eta = c(0.001, 0.01, 0.1),\n",
    "    gamma = c(0, 1),\n",
    "    colsample_bytree = c(1, 0.9, 0.8),\n",
    "    min_child_weight = c(1, 2, 3),\n",
    "    subsample = c(1, 0.9, 0.8)\n",
    ")"
   ]
  },
  {
   "cell_type": "code",
   "execution_count": 80,
   "metadata": {
    "collapsed": false
   },
   "outputs": [],
   "source": [
    "xgbTrControl <- trainControl(\n",
    "    method = \"repeatedcv\",\n",
    "    number = 5,\n",
    "    repeats = 2,\n",
    "    verboseIter = FALSE,\n",
    "    returnData = FALSE,\n",
    "    allowParallel = TRUE\n",
    ")"
   ]
  },
  {
   "cell_type": "code",
   "execution_count": 81,
   "metadata": {
    "collapsed": false
   },
   "outputs": [],
   "source": [
    "xg_train <- Udf.Utilities.UpSample(train)\n",
    "xg_train$Result <- as.numeric(xg_train$Result)-1\n",
    "for(i in c(1:ncol(xg_train))) {\n",
    "    xg_train[,i] <- as.numeric(xg_train[,i])\n",
    "}"
   ]
  },
  {
   "cell_type": "code",
   "execution_count": 97,
   "metadata": {
    "collapsed": false
   },
   "outputs": [
    {
     "data": {
      "text/html": [
       "\"\n",
       "xgbTrain &lt;- train(\n",
       "    x = as.matrix(xg_train[, ! names(xg_train) %in% c('Result')]), \n",
       "    y = xg_train$Result,\n",
       "    objective = 'multi:softmax',\n",
       "    trControl = xgbTrControl,\n",
       "    tuneGrid = xgbGrid,\n",
       "    method = 'xgbTree',\n",
       "    num_class = 4,\n",
       "    eval_metric = 'merror'\n",
       ")\n",
       "\""
      ],
      "text/latex": [
       "\"\n",
       "xgbTrain <- train(\n",
       "    x = as.matrix(xg\\_train{[}, ! names(xg\\_train) \\%in\\% c('Result'){]}), \n",
       "    y = xg\\_train\\$Result,\n",
       "    objective = 'multi:softmax',\n",
       "    trControl = xgbTrControl,\n",
       "    tuneGrid = xgbGrid,\n",
       "    method = 'xgbTree',\n",
       "    num\\_class = 4,\n",
       "    eval\\_metric = 'merror'\n",
       ")\n",
       "\""
      ],
      "text/markdown": [
       "\"\n",
       "xgbTrain &lt;- train(\n",
       "    x = as.matrix(xg_train[, ! names(xg_train) %in% c('Result')]), \n",
       "    y = xg_train$Result,\n",
       "    objective = 'multi:softmax',\n",
       "    trControl = xgbTrControl,\n",
       "    tuneGrid = xgbGrid,\n",
       "    method = 'xgbTree',\n",
       "    num_class = 4,\n",
       "    eval_metric = 'merror'\n",
       ")\n",
       "\""
      ],
      "text/plain": [
       "[1] \"\\nxgbTrain <- train(\\n    x = as.matrix(xg_train[, ! names(xg_train) %in% c('Result')]), \\n    y = xg_train$Result,\\n    objective = 'multi:softmax',\\n    trControl = xgbTrControl,\\n    tuneGrid = xgbGrid,\\n    method = 'xgbTree',\\n    num_class = 4,\\n    eval_metric = 'merror'\\n)\\n\""
      ]
     },
     "metadata": {},
     "output_type": "display_data"
    }
   ],
   "source": [
    "set.seed(seed)\n",
    "\n",
    "# This is computationaly expensive - takes about an hour\n",
    "\"\n",
    "xgbTrain <- train(\n",
    "    x = as.matrix(xg_train[, ! names(xg_train) %in% c('Result')]), \n",
    "    y = xg_train$Result,\n",
    "    objective = 'multi:softmax',\n",
    "    trControl = xgbTrControl,\n",
    "    tuneGrid = xgbGrid,\n",
    "    method = 'xgbTree',\n",
    "    num_class = 4,\n",
    "    eval_metric = 'merror'\n",
    ")\n",
    "\""
   ]
  },
  {
   "cell_type": "code",
   "execution_count": 76,
   "metadata": {
    "collapsed": true
   },
   "outputs": [],
   "source": [
    "# get the top model and its results\n",
    "#head(xgbTrain$results[with(xgbTrain$results, order(RMSE)), ], 5)\n",
    "\n",
    "#    eta max_depth gamma colsample_bytree min_child_weight subsample nrounds   RMSE Rsquared  RMSESD RsquaredSD\n",
    "#291 0.1         7     1              0.9                1       0.9    1000 0.8798   0.4809 0.06850    0.06617\n",
    "#303 0.1         7     1              0.9                3       0.9    1000 0.8872   0.4755 0.05355    0.05192\n",
    "#297 0.1         7     1              0.9                2       0.9    1000 0.8894   0.4725 0.05044    0.04991\n",
    "#290 0.1         7     1              0.9                1       0.9     500 0.8931   0.4684 0.08039    0.07727\n",
    "#308 0.1         7     1              1.0                1       0.9     500 0.8965   0.4639 0.09140    0.08873"
   ]
  },
  {
   "cell_type": "code",
   "execution_count": 96,
   "metadata": {
    "collapsed": false
   },
   "outputs": [],
   "source": [
    "nrounds <- 1000\n",
    "max_depth <- 7\n",
    "eta <- 0.1\n",
    "colsample_bytree <- 0.9\n",
    "subsample <- 0.9\n",
    "gamma <- 1\n",
    "min_child_weight <- 1"
   ]
  },
  {
   "cell_type": "code",
   "execution_count": 97,
   "metadata": {
    "collapsed": false
   },
   "outputs": [],
   "source": [
    "# Alter the params based on the best performing set of params abvove\n",
    "params <- list(booster = \"gbtree\", objective = \"multi:softmax\",\n",
    "               num_class = 4, eval_metric = 'merror',\n",
    "               max_depth = max_depth, eta = eta,\n",
    "               colsample_bytree = colsample_bytree, subsample = subsample,\n",
    "               gamma = gamma, min_child_weight = min_child_weight)"
   ]
  },
  {
   "cell_type": "code",
   "execution_count": 98,
   "metadata": {
    "collapsed": false,
    "scrolled": true
   },
   "outputs": [
    {
     "name": "stdout",
     "output_type": "stream",
     "text": [
      "[0]\ttrain-merror:0.426434+0.016330\ttest-merror:0.565343+0.034453\n",
      "[20]\ttrain-merror:0.099885+0.006610\ttest-merror:0.414662+0.021840\n",
      "[40]\ttrain-merror:0.048991+0.003526\ttest-merror:0.396966+0.021885\n",
      "[60]\ttrain-merror:0.027492+0.002271\ttest-merror:0.388994+0.025789\n",
      "[80]\ttrain-merror:0.018043+0.001646\ttest-merror:0.386425+0.020517\n",
      "[100]\ttrain-merror:0.012493+0.001788\ttest-merror:0.378144+0.020487\n",
      "[120]\ttrain-merror:0.009481+0.002115\ttest-merror:0.381569+0.022932\n",
      "[140]\ttrain-merror:0.008117+0.001651\ttest-merror:0.376993+0.025118\n",
      "[160]\ttrain-merror:0.006754+0.001119\ttest-merror:0.378144+0.021260\n",
      "[180]\ttrain-merror:0.005835+0.000672\ttest-merror:0.377002+0.022930\n",
      "[200]\ttrain-merror:0.005137+0.000714\ttest-merror:0.375856+0.026370\n",
      "[220]\ttrain-merror:0.004503+0.000714\ttest-merror:0.374146+0.022770\n",
      "[240]\ttrain-merror:0.004154+0.000851\ttest-merror:0.373862+0.023589\n",
      "[260]\ttrain-merror:0.003900+0.000579\ttest-merror:0.374148+0.025777\n",
      "[280]\ttrain-merror:0.003520+0.000548\ttest-merror:0.373575+0.024606\n",
      "[300]\ttrain-merror:0.003329+0.000603\ttest-merror:0.372151+0.024379\n",
      "[320]\ttrain-merror:0.003139+0.000724\ttest-merror:0.372437+0.023260\n",
      "[340]\ttrain-merror:0.003076+0.000733\ttest-merror:0.374150+0.024110\n",
      "[360]\ttrain-merror:0.002949+0.000560\ttest-merror:0.371294+0.025038\n",
      "[380]\ttrain-merror:0.002759+0.000618\ttest-merror:0.371578+0.024022\n",
      "[400]\ttrain-merror:0.002473+0.000613\ttest-merror:0.372433+0.022630\n",
      "[420]\ttrain-merror:0.002220+0.000598\ttest-merror:0.370150+0.023597\n",
      "[440]\ttrain-merror:0.002315+0.000635\ttest-merror:0.370432+0.021737\n",
      "[460]\ttrain-merror:0.002188+0.000660\ttest-merror:0.369861+0.020560\n",
      "[480]\ttrain-merror:0.002029+0.000655\ttest-merror:0.369861+0.022658\n",
      "[500]\ttrain-merror:0.001998+0.000635\ttest-merror:0.369008+0.022628\n",
      "[520]\ttrain-merror:0.001871+0.000588\ttest-merror:0.369867+0.023420\n",
      "[540]\ttrain-merror:0.001808+0.000653\ttest-merror:0.370720+0.023534\n",
      "[560]\ttrain-merror:0.001776+0.000620\ttest-merror:0.370436+0.025043\n",
      "[580]\ttrain-merror:0.001712+0.000477\ttest-merror:0.370148+0.026598\n",
      "[600]\ttrain-merror:0.001585+0.000634\ttest-merror:0.368150+0.026142\n",
      "[620]\ttrain-merror:0.001554+0.000588\ttest-merror:0.368148+0.026315\n",
      "[640]\ttrain-merror:0.001585+0.000579\ttest-merror:0.368435+0.025664\n",
      "[660]\ttrain-merror:0.001554+0.000588\ttest-merror:0.368434+0.026383\n",
      "[680]\ttrain-merror:0.001554+0.000607\ttest-merror:0.368434+0.025363\n",
      "[700]\ttrain-merror:0.001459+0.000543\ttest-merror:0.366149+0.025852\n",
      "[720]\ttrain-merror:0.001427+0.000603\ttest-merror:0.367288+0.025916\n",
      "[740]\ttrain-merror:0.001427+0.000544\ttest-merror:0.367005+0.026398\n",
      "[760]\ttrain-merror:0.001395+0.000543\ttest-merror:0.366148+0.026377\n",
      "[780]\ttrain-merror:0.001332+0.000595\ttest-merror:0.366718+0.026720\n",
      "[800]\ttrain-merror:0.001300+0.000607\ttest-merror:0.367286+0.026532\n",
      "[820]\ttrain-merror:0.001268+0.000496\ttest-merror:0.367570+0.026771\n",
      "[840]\ttrain-merror:0.001237+0.000435\ttest-merror:0.368141+0.027587\n",
      "[860]\ttrain-merror:0.001205+0.000444\ttest-merror:0.368140+0.026334\n",
      "[880]\ttrain-merror:0.001141+0.000522\ttest-merror:0.368140+0.026709\n",
      "[900]\ttrain-merror:0.001078+0.000522\ttest-merror:0.367854+0.026947\n",
      "[920]\ttrain-merror:0.001141+0.000522\ttest-merror:0.368711+0.027407\n",
      "[940]\ttrain-merror:0.001078+0.000522\ttest-merror:0.368429+0.026643\n",
      "[960]\ttrain-merror:0.001110+0.000479\ttest-merror:0.368143+0.026477\n",
      "[980]\ttrain-merror:0.001110+0.000479\ttest-merror:0.368713+0.025600\n"
     ]
    }
   ],
   "source": [
    "bst.cv <- xgb.cv(params, dtrain, n_rounds.cv, nfold = 10, metrics = {'merror'},\n",
    "                 print.every.n = 20, prediction = TRUE)"
   ]
  },
  {
   "cell_type": "code",
   "execution_count": 99,
   "metadata": {
    "collapsed": false
   },
   "outputs": [
    {
     "data": {
      "text/html": [
       "759"
      ],
      "text/latex": [
       "759"
      ],
      "text/markdown": [
       "759"
      ],
      "text/plain": [
       "[1] 759"
      ]
     },
     "metadata": {},
     "output_type": "display_data"
    }
   ],
   "source": [
    "n_rounds.train <- which.min(bst.cv$dt[, test.merror.mean])\n",
    "n_rounds.train"
   ]
  },
  {
   "cell_type": "code",
   "execution_count": 100,
   "metadata": {
    "collapsed": false
   },
   "outputs": [
    {
     "name": "stdout",
     "output_type": "stream",
     "text": [
      "[0]\txg_train-merror:0.443779\n",
      "[1]\txg_train-merror:0.343322\n",
      "[2]\txg_train-merror:0.303653\n",
      "[3]\txg_train-merror:0.276256\n",
      "[4]\txg_train-merror:0.248573\n",
      "[5]\txg_train-merror:0.225742\n",
      "[6]\txg_train-merror:0.203482\n",
      "[7]\txg_train-merror:0.194635\n",
      "[8]\txg_train-merror:0.182934\n",
      "[9]\txg_train-merror:0.175228\n",
      "[10]\txg_train-merror:0.159532\n",
      "[11]\txg_train-merror:0.152112\n",
      "[12]\txg_train-merror:0.143265\n",
      "[13]\txg_train-merror:0.136701\n",
      "[14]\txg_train-merror:0.136701\n",
      "[15]\txg_train-merror:0.128710\n",
      "[16]\txg_train-merror:0.122717\n",
      "[17]\txg_train-merror:0.118151\n",
      "[18]\txg_train-merror:0.111872\n",
      "[19]\txg_train-merror:0.104452\n",
      "[20]\txg_train-merror:0.100457\n",
      "[21]\txg_train-merror:0.094178\n",
      "[22]\txg_train-merror:0.091324\n",
      "[23]\txg_train-merror:0.089897\n",
      "[24]\txg_train-merror:0.089326\n",
      "[25]\txg_train-merror:0.082477\n",
      "[26]\txg_train-merror:0.079909\n",
      "[27]\txg_train-merror:0.075057\n",
      "[28]\txg_train-merror:0.071347\n",
      "[29]\txg_train-merror:0.070776\n",
      "[30]\txg_train-merror:0.067637\n",
      "[31]\txg_train-merror:0.065639\n",
      "[32]\txg_train-merror:0.064498\n",
      "[33]\txg_train-merror:0.059932\n",
      "[34]\txg_train-merror:0.059361\n",
      "[35]\txg_train-merror:0.058219\n",
      "[36]\txg_train-merror:0.057934\n",
      "[37]\txg_train-merror:0.055080\n",
      "[38]\txg_train-merror:0.052511\n",
      "[39]\txg_train-merror:0.052226\n",
      "[40]\txg_train-merror:0.051655\n",
      "[41]\txg_train-merror:0.051941\n",
      "[42]\txg_train-merror:0.050228\n",
      "[43]\txg_train-merror:0.050799\n",
      "[44]\txg_train-merror:0.047945\n",
      "[45]\txg_train-merror:0.046233\n",
      "[46]\txg_train-merror:0.046233\n",
      "[47]\txg_train-merror:0.044235\n",
      "[48]\txg_train-merror:0.042523\n",
      "[49]\txg_train-merror:0.041381\n",
      "[50]\txg_train-merror:0.039669\n",
      "[51]\txg_train-merror:0.040525\n",
      "[52]\txg_train-merror:0.039098\n",
      "[53]\txg_train-merror:0.038242\n",
      "[54]\txg_train-merror:0.038242\n",
      "[55]\txg_train-merror:0.037386\n",
      "[56]\txg_train-merror:0.035674\n",
      "[57]\txg_train-merror:0.034532\n",
      "[58]\txg_train-merror:0.034532\n",
      "[59]\txg_train-merror:0.033390\n",
      "[60]\txg_train-merror:0.031107\n",
      "[61]\txg_train-merror:0.030537\n",
      "[62]\txg_train-merror:0.030822\n",
      "[63]\txg_train-merror:0.030537\n",
      "[64]\txg_train-merror:0.029680\n",
      "[65]\txg_train-merror:0.029395\n",
      "[66]\txg_train-merror:0.029395\n",
      "[67]\txg_train-merror:0.027683\n",
      "[68]\txg_train-merror:0.026256\n",
      "[69]\txg_train-merror:0.026541\n",
      "[70]\txg_train-merror:0.025400\n",
      "[71]\txg_train-merror:0.024829\n",
      "[72]\txg_train-merror:0.024543\n",
      "[73]\txg_train-merror:0.023973\n",
      "[74]\txg_train-merror:0.023973\n",
      "[75]\txg_train-merror:0.021975\n",
      "[76]\txg_train-merror:0.021689\n",
      "[77]\txg_train-merror:0.021689\n",
      "[78]\txg_train-merror:0.021404\n",
      "[79]\txg_train-merror:0.021404\n",
      "[80]\txg_train-merror:0.021119\n",
      "[81]\txg_train-merror:0.020548\n",
      "[82]\txg_train-merror:0.019692\n",
      "[83]\txg_train-merror:0.019977\n",
      "[84]\txg_train-merror:0.018836\n",
      "[85]\txg_train-merror:0.017979\n",
      "[86]\txg_train-merror:0.017694\n",
      "[87]\txg_train-merror:0.017694\n",
      "[88]\txg_train-merror:0.016553\n",
      "[89]\txg_train-merror:0.016553\n",
      "[90]\txg_train-merror:0.016553\n",
      "[91]\txg_train-merror:0.015982\n",
      "[92]\txg_train-merror:0.015982\n",
      "[93]\txg_train-merror:0.015411\n",
      "[94]\txg_train-merror:0.014840\n",
      "[95]\txg_train-merror:0.015126\n",
      "[96]\txg_train-merror:0.014269\n",
      "[97]\txg_train-merror:0.014555\n",
      "[98]\txg_train-merror:0.013984\n",
      "[99]\txg_train-merror:0.014269\n",
      "[100]\txg_train-merror:0.014840\n",
      "[101]\txg_train-merror:0.014555\n",
      "[102]\txg_train-merror:0.014840\n",
      "[103]\txg_train-merror:0.013984\n",
      "[104]\txg_train-merror:0.014269\n",
      "[105]\txg_train-merror:0.013128\n",
      "[106]\txg_train-merror:0.013413\n",
      "[107]\txg_train-merror:0.013699\n",
      "[108]\txg_train-merror:0.013699\n",
      "[109]\txg_train-merror:0.012557\n",
      "[110]\txg_train-merror:0.012557\n",
      "[111]\txg_train-merror:0.012842\n",
      "[112]\txg_train-merror:0.011416\n",
      "[113]\txg_train-merror:0.011986\n",
      "[114]\txg_train-merror:0.011986\n",
      "[115]\txg_train-merror:0.010845\n",
      "[116]\txg_train-merror:0.011130\n",
      "[117]\txg_train-merror:0.011130\n",
      "[118]\txg_train-merror:0.010845\n",
      "[119]\txg_train-merror:0.010845\n",
      "[120]\txg_train-merror:0.010559\n",
      "[121]\txg_train-merror:0.010559\n",
      "[122]\txg_train-merror:0.010559\n",
      "[123]\txg_train-merror:0.010559\n",
      "[124]\txg_train-merror:0.010559\n",
      "[125]\txg_train-merror:0.010845\n",
      "[126]\txg_train-merror:0.010845\n",
      "[127]\txg_train-merror:0.010559\n",
      "[128]\txg_train-merror:0.009989\n",
      "[129]\txg_train-merror:0.009989\n",
      "[130]\txg_train-merror:0.009989\n",
      "[131]\txg_train-merror:0.010274\n",
      "[132]\txg_train-merror:0.010274\n",
      "[133]\txg_train-merror:0.009989\n",
      "[134]\txg_train-merror:0.010274\n",
      "[135]\txg_train-merror:0.009989\n",
      "[136]\txg_train-merror:0.009989\n",
      "[137]\txg_train-merror:0.009989\n",
      "[138]\txg_train-merror:0.009703\n",
      "[139]\txg_train-merror:0.009703\n",
      "[140]\txg_train-merror:0.009989\n",
      "[141]\txg_train-merror:0.009703\n",
      "[142]\txg_train-merror:0.009703\n",
      "[143]\txg_train-merror:0.009418\n",
      "[144]\txg_train-merror:0.009132\n",
      "[145]\txg_train-merror:0.009418\n",
      "[146]\txg_train-merror:0.009418\n",
      "[147]\txg_train-merror:0.009418\n",
      "[148]\txg_train-merror:0.009132\n",
      "[149]\txg_train-merror:0.008847\n",
      "[150]\txg_train-merror:0.009418\n",
      "[151]\txg_train-merror:0.009418\n",
      "[152]\txg_train-merror:0.009132\n",
      "[153]\txg_train-merror:0.008847\n",
      "[154]\txg_train-merror:0.008847\n",
      "[155]\txg_train-merror:0.008276\n",
      "[156]\txg_train-merror:0.007705\n",
      "[157]\txg_train-merror:0.007705\n",
      "[158]\txg_train-merror:0.007420\n",
      "[159]\txg_train-merror:0.007420\n",
      "[160]\txg_train-merror:0.007420\n",
      "[161]\txg_train-merror:0.007705\n",
      "[162]\txg_train-merror:0.007420\n",
      "[163]\txg_train-merror:0.007420\n",
      "[164]\txg_train-merror:0.007420\n",
      "[165]\txg_train-merror:0.007135\n",
      "[166]\txg_train-merror:0.006564\n",
      "[167]\txg_train-merror:0.006564\n",
      "[168]\txg_train-merror:0.006279\n",
      "[169]\txg_train-merror:0.006279\n",
      "[170]\txg_train-merror:0.005993\n",
      "[171]\txg_train-merror:0.005993\n",
      "[172]\txg_train-merror:0.005708\n",
      "[173]\txg_train-merror:0.005708\n",
      "[174]\txg_train-merror:0.005422\n",
      "[175]\txg_train-merror:0.005422\n",
      "[176]\txg_train-merror:0.005422\n",
      "[177]\txg_train-merror:0.004852\n",
      "[178]\txg_train-merror:0.005137\n",
      "[179]\txg_train-merror:0.005708\n",
      "[180]\txg_train-merror:0.006279\n",
      "[181]\txg_train-merror:0.005993\n",
      "[182]\txg_train-merror:0.005708\n",
      "[183]\txg_train-merror:0.005708\n",
      "[184]\txg_train-merror:0.005708\n",
      "[185]\txg_train-merror:0.005422\n",
      "[186]\txg_train-merror:0.006279\n",
      "[187]\txg_train-merror:0.006279\n",
      "[188]\txg_train-merror:0.005993\n",
      "[189]\txg_train-merror:0.005422\n",
      "[190]\txg_train-merror:0.005708\n",
      "[191]\txg_train-merror:0.005708\n",
      "[192]\txg_train-merror:0.005422\n",
      "[193]\txg_train-merror:0.005137\n",
      "[194]\txg_train-merror:0.005137\n",
      "[195]\txg_train-merror:0.004566\n",
      "[196]\txg_train-merror:0.005137\n",
      "[197]\txg_train-merror:0.004852\n",
      "[198]\txg_train-merror:0.004852\n",
      "[199]\txg_train-merror:0.004852\n",
      "[200]\txg_train-merror:0.004852\n",
      "[201]\txg_train-merror:0.004852\n",
      "[202]\txg_train-merror:0.004852\n",
      "[203]\txg_train-merror:0.004852\n",
      "[204]\txg_train-merror:0.004852\n",
      "[205]\txg_train-merror:0.004852\n",
      "[206]\txg_train-merror:0.004852\n",
      "[207]\txg_train-merror:0.004852\n",
      "[208]\txg_train-merror:0.005137\n",
      "[209]\txg_train-merror:0.005137\n",
      "[210]\txg_train-merror:0.005137\n",
      "[211]\txg_train-merror:0.004852\n",
      "[212]\txg_train-merror:0.004852\n",
      "[213]\txg_train-merror:0.004852\n",
      "[214]\txg_train-merror:0.004852\n",
      "[215]\txg_train-merror:0.004852\n",
      "[216]\txg_train-merror:0.004852\n",
      "[217]\txg_train-merror:0.004852\n",
      "[218]\txg_train-merror:0.004852\n",
      "[219]\txg_train-merror:0.004852\n",
      "[220]\txg_train-merror:0.004566\n",
      "[221]\txg_train-merror:0.004566\n",
      "[222]\txg_train-merror:0.004281\n",
      "[223]\txg_train-merror:0.004281\n",
      "[224]\txg_train-merror:0.003995\n",
      "[225]\txg_train-merror:0.003995\n",
      "[226]\txg_train-merror:0.003710\n",
      "[227]\txg_train-merror:0.003995\n",
      "[228]\txg_train-merror:0.003995\n",
      "[229]\txg_train-merror:0.003710\n",
      "[230]\txg_train-merror:0.003995\n",
      "[231]\txg_train-merror:0.003995\n",
      "[232]\txg_train-merror:0.003710\n",
      "[233]\txg_train-merror:0.003995\n",
      "[234]\txg_train-merror:0.003995\n",
      "[235]\txg_train-merror:0.003995\n",
      "[236]\txg_train-merror:0.003995\n",
      "[237]\txg_train-merror:0.003995\n",
      "[238]\txg_train-merror:0.003995\n",
      "[239]\txg_train-merror:0.003995\n",
      "[240]\txg_train-merror:0.003710\n",
      "[241]\txg_train-merror:0.003710\n",
      "[242]\txg_train-merror:0.003710\n",
      "[243]\txg_train-merror:0.003710\n",
      "[244]\txg_train-merror:0.003425\n",
      "[245]\txg_train-merror:0.003425\n",
      "[246]\txg_train-merror:0.003425\n",
      "[247]\txg_train-merror:0.003425\n",
      "[248]\txg_train-merror:0.003425\n",
      "[249]\txg_train-merror:0.003425\n",
      "[250]\txg_train-merror:0.003425\n",
      "[251]\txg_train-merror:0.003425\n",
      "[252]\txg_train-merror:0.003425\n",
      "[253]\txg_train-merror:0.003425\n",
      "[254]\txg_train-merror:0.003425\n",
      "[255]\txg_train-merror:0.003710\n",
      "[256]\txg_train-merror:0.003139\n",
      "[257]\txg_train-merror:0.003425\n",
      "[258]\txg_train-merror:0.003139\n",
      "[259]\txg_train-merror:0.003139\n",
      "[260]\txg_train-merror:0.003425\n",
      "[261]\txg_train-merror:0.003425\n",
      "[262]\txg_train-merror:0.003425\n",
      "[263]\txg_train-merror:0.003425\n",
      "[264]\txg_train-merror:0.003139\n",
      "[265]\txg_train-merror:0.003139\n",
      "[266]\txg_train-merror:0.003139\n",
      "[267]\txg_train-merror:0.003139\n",
      "[268]\txg_train-merror:0.003139\n",
      "[269]\txg_train-merror:0.003139\n",
      "[270]\txg_train-merror:0.003139\n",
      "[271]\txg_train-merror:0.003139\n",
      "[272]\txg_train-merror:0.003139\n",
      "[273]\txg_train-merror:0.003139\n",
      "[274]\txg_train-merror:0.003139\n",
      "[275]\txg_train-merror:0.003139\n",
      "[276]\txg_train-merror:0.003139\n",
      "[277]\txg_train-merror:0.003139\n",
      "[278]\txg_train-merror:0.003139\n",
      "[279]\txg_train-merror:0.003139\n",
      "[280]\txg_train-merror:0.002854\n",
      "[281]\txg_train-merror:0.002854\n",
      "[282]\txg_train-merror:0.002854\n",
      "[283]\txg_train-merror:0.002854\n",
      "[284]\txg_train-merror:0.002854\n",
      "[285]\txg_train-merror:0.002854\n",
      "[286]\txg_train-merror:0.002854\n",
      "[287]\txg_train-merror:0.002854\n",
      "[288]\txg_train-merror:0.002854\n",
      "[289]\txg_train-merror:0.002854\n",
      "[290]\txg_train-merror:0.002854\n",
      "[291]\txg_train-merror:0.003139\n",
      "[292]\txg_train-merror:0.003139\n",
      "[293]\txg_train-merror:0.003139\n",
      "[294]\txg_train-merror:0.003139\n",
      "[295]\txg_train-merror:0.003139\n",
      "[296]\txg_train-merror:0.003139\n",
      "[297]\txg_train-merror:0.003139\n",
      "[298]\txg_train-merror:0.003139\n",
      "[299]\txg_train-merror:0.003139\n",
      "[300]\txg_train-merror:0.003139\n",
      "[301]\txg_train-merror:0.003139\n",
      "[302]\txg_train-merror:0.003139\n",
      "[303]\txg_train-merror:0.003139\n",
      "[304]\txg_train-merror:0.003139\n",
      "[305]\txg_train-merror:0.003139\n",
      "[306]\txg_train-merror:0.003139\n",
      "[307]\txg_train-merror:0.003139\n",
      "[308]\txg_train-merror:0.003139\n",
      "[309]\txg_train-merror:0.003139\n",
      "[310]\txg_train-merror:0.003139\n",
      "[311]\txg_train-merror:0.003139\n",
      "[312]\txg_train-merror:0.003139\n",
      "[313]\txg_train-merror:0.003139\n",
      "[314]\txg_train-merror:0.003425\n",
      "[315]\txg_train-merror:0.003139\n",
      "[316]\txg_train-merror:0.003139\n",
      "[317]\txg_train-merror:0.003139\n",
      "[318]\txg_train-merror:0.003139\n",
      "[319]\txg_train-merror:0.003139\n",
      "[320]\txg_train-merror:0.002854\n",
      "[321]\txg_train-merror:0.002854\n",
      "[322]\txg_train-merror:0.002854\n",
      "[323]\txg_train-merror:0.002854\n",
      "[324]\txg_train-merror:0.002568\n",
      "[325]\txg_train-merror:0.002568\n",
      "[326]\txg_train-merror:0.002568\n",
      "[327]\txg_train-merror:0.002854\n",
      "[328]\txg_train-merror:0.002854\n",
      "[329]\txg_train-merror:0.002283\n",
      "[330]\txg_train-merror:0.002283\n",
      "[331]\txg_train-merror:0.002283\n",
      "[332]\txg_train-merror:0.002283\n",
      "[333]\txg_train-merror:0.002283\n",
      "[334]\txg_train-merror:0.002283\n",
      "[335]\txg_train-merror:0.002568\n",
      "[336]\txg_train-merror:0.002568\n",
      "[337]\txg_train-merror:0.002283\n",
      "[338]\txg_train-merror:0.002283\n",
      "[339]\txg_train-merror:0.002283\n",
      "[340]\txg_train-merror:0.002283\n",
      "[341]\txg_train-merror:0.002283\n",
      "[342]\txg_train-merror:0.002283\n",
      "[343]\txg_train-merror:0.002283\n",
      "[344]\txg_train-merror:0.002283\n",
      "[345]\txg_train-merror:0.002283\n",
      "[346]\txg_train-merror:0.002283\n",
      "[347]\txg_train-merror:0.002283\n",
      "[348]\txg_train-merror:0.002283\n",
      "[349]\txg_train-merror:0.002283\n",
      "[350]\txg_train-merror:0.002283\n",
      "[351]\txg_train-merror:0.002283\n",
      "[352]\txg_train-merror:0.002283\n",
      "[353]\txg_train-merror:0.001998\n",
      "[354]\txg_train-merror:0.001998\n",
      "[355]\txg_train-merror:0.002283\n",
      "[356]\txg_train-merror:0.002283\n",
      "[357]\txg_train-merror:0.001998\n",
      "[358]\txg_train-merror:0.001998\n",
      "[359]\txg_train-merror:0.001998\n",
      "[360]\txg_train-merror:0.001998\n",
      "[361]\txg_train-merror:0.001998\n",
      "[362]\txg_train-merror:0.001998\n",
      "[363]\txg_train-merror:0.001998\n",
      "[364]\txg_train-merror:0.001998\n",
      "[365]\txg_train-merror:0.002283\n",
      "[366]\txg_train-merror:0.002283\n",
      "[367]\txg_train-merror:0.002283\n",
      "[368]\txg_train-merror:0.002283\n",
      "[369]\txg_train-merror:0.002283\n",
      "[370]\txg_train-merror:0.001998\n",
      "[371]\txg_train-merror:0.001712\n",
      "[372]\txg_train-merror:0.001712\n",
      "[373]\txg_train-merror:0.001712\n",
      "[374]\txg_train-merror:0.001712\n",
      "[375]\txg_train-merror:0.001712\n",
      "[376]\txg_train-merror:0.001712\n",
      "[377]\txg_train-merror:0.001712\n",
      "[378]\txg_train-merror:0.001712\n",
      "[379]\txg_train-merror:0.001712\n",
      "[380]\txg_train-merror:0.001712\n",
      "[381]\txg_train-merror:0.001712\n",
      "[382]\txg_train-merror:0.001712\n",
      "[383]\txg_train-merror:0.001712\n",
      "[384]\txg_train-merror:0.001712\n",
      "[385]\txg_train-merror:0.001998\n",
      "[386]\txg_train-merror:0.001998\n",
      "[387]\txg_train-merror:0.001998\n",
      "[388]\txg_train-merror:0.001998\n",
      "[389]\txg_train-merror:0.001998\n",
      "[390]\txg_train-merror:0.001998\n",
      "[391]\txg_train-merror:0.001998\n",
      "[392]\txg_train-merror:0.001998\n",
      "[393]\txg_train-merror:0.001998\n",
      "[394]\txg_train-merror:0.001998\n",
      "[395]\txg_train-merror:0.001998\n",
      "[396]\txg_train-merror:0.001998\n",
      "[397]\txg_train-merror:0.001998\n",
      "[398]\txg_train-merror:0.001998\n",
      "[399]\txg_train-merror:0.001998\n",
      "[400]\txg_train-merror:0.001998\n",
      "[401]\txg_train-merror:0.001998\n",
      "[402]\txg_train-merror:0.001998\n",
      "[403]\txg_train-merror:0.001998\n",
      "[404]\txg_train-merror:0.001998\n",
      "[405]\txg_train-merror:0.001998\n",
      "[406]\txg_train-merror:0.001998\n",
      "[407]\txg_train-merror:0.001998\n",
      "[408]\txg_train-merror:0.001712\n",
      "[409]\txg_train-merror:0.001712\n",
      "[410]\txg_train-merror:0.001712\n",
      "[411]\txg_train-merror:0.001712\n",
      "[412]\txg_train-merror:0.001712\n",
      "[413]\txg_train-merror:0.001712\n",
      "[414]\txg_train-merror:0.001712\n",
      "[415]\txg_train-merror:0.001712\n",
      "[416]\txg_train-merror:0.001712\n",
      "[417]\txg_train-merror:0.001712\n",
      "[418]\txg_train-merror:0.001712\n",
      "[419]\txg_train-merror:0.001712\n",
      "[420]\txg_train-merror:0.001712\n",
      "[421]\txg_train-merror:0.001712\n",
      "[422]\txg_train-merror:0.001712\n",
      "[423]\txg_train-merror:0.001712\n",
      "[424]\txg_train-merror:0.001712\n",
      "[425]\txg_train-merror:0.001712\n",
      "[426]\txg_train-merror:0.001712\n",
      "[427]\txg_train-merror:0.001712\n",
      "[428]\txg_train-merror:0.001712\n",
      "[429]\txg_train-merror:0.001712\n",
      "[430]\txg_train-merror:0.001712\n",
      "[431]\txg_train-merror:0.001712\n",
      "[432]\txg_train-merror:0.001712\n",
      "[433]\txg_train-merror:0.001712\n",
      "[434]\txg_train-merror:0.001712\n",
      "[435]\txg_train-merror:0.001712\n",
      "[436]\txg_train-merror:0.001712\n",
      "[437]\txg_train-merror:0.001712\n",
      "[438]\txg_train-merror:0.001998\n",
      "[439]\txg_train-merror:0.001998\n",
      "[440]\txg_train-merror:0.001998\n",
      "[441]\txg_train-merror:0.001998\n",
      "[442]\txg_train-merror:0.001998\n",
      "[443]\txg_train-merror:0.001998\n",
      "[444]\txg_train-merror:0.001998\n",
      "[445]\txg_train-merror:0.001998\n",
      "[446]\txg_train-merror:0.001998\n",
      "[447]\txg_train-merror:0.001712\n",
      "[448]\txg_train-merror:0.001712\n",
      "[449]\txg_train-merror:0.001998\n",
      "[450]\txg_train-merror:0.001712\n",
      "[451]\txg_train-merror:0.001998\n",
      "[452]\txg_train-merror:0.001998\n",
      "[453]\txg_train-merror:0.001712\n",
      "[454]\txg_train-merror:0.001712\n",
      "[455]\txg_train-merror:0.001712\n",
      "[456]\txg_train-merror:0.001712\n",
      "[457]\txg_train-merror:0.001712\n",
      "[458]\txg_train-merror:0.001712\n",
      "[459]\txg_train-merror:0.001712\n",
      "[460]\txg_train-merror:0.001712\n",
      "[461]\txg_train-merror:0.001712\n",
      "[462]\txg_train-merror:0.001712\n",
      "[463]\txg_train-merror:0.001712\n",
      "[464]\txg_train-merror:0.001712\n",
      "[465]\txg_train-merror:0.001712\n",
      "[466]\txg_train-merror:0.001712\n",
      "[467]\txg_train-merror:0.001998\n",
      "[468]\txg_train-merror:0.001998\n",
      "[469]\txg_train-merror:0.001998\n",
      "[470]\txg_train-merror:0.001998\n",
      "[471]\txg_train-merror:0.001998\n",
      "[472]\txg_train-merror:0.001998\n",
      "[473]\txg_train-merror:0.001998\n",
      "[474]\txg_train-merror:0.001712\n",
      "[475]\txg_train-merror:0.001712\n",
      "[476]\txg_train-merror:0.001712\n",
      "[477]\txg_train-merror:0.001712\n",
      "[478]\txg_train-merror:0.001712\n",
      "[479]\txg_train-merror:0.001712\n",
      "[480]\txg_train-merror:0.001712\n",
      "[481]\txg_train-merror:0.001712\n",
      "[482]\txg_train-merror:0.001712\n",
      "[483]\txg_train-merror:0.001712\n",
      "[484]\txg_train-merror:0.001712\n",
      "[485]\txg_train-merror:0.001712\n",
      "[486]\txg_train-merror:0.001712\n",
      "[487]\txg_train-merror:0.001712\n",
      "[488]\txg_train-merror:0.001712\n",
      "[489]\txg_train-merror:0.001712\n",
      "[490]\txg_train-merror:0.001712\n",
      "[491]\txg_train-merror:0.001712\n",
      "[492]\txg_train-merror:0.001712\n",
      "[493]\txg_train-merror:0.001712\n",
      "[494]\txg_train-merror:0.001712\n",
      "[495]\txg_train-merror:0.001712\n",
      "[496]\txg_train-merror:0.001712\n",
      "[497]\txg_train-merror:0.001712\n",
      "[498]\txg_train-merror:0.001712\n",
      "[499]\txg_train-merror:0.001712\n",
      "[500]\txg_train-merror:0.001712\n",
      "[501]\txg_train-merror:0.001712\n",
      "[502]\txg_train-merror:0.001712\n",
      "[503]\txg_train-merror:0.001712\n",
      "[504]\txg_train-merror:0.001712\n",
      "[505]\txg_train-merror:0.001712\n",
      "[506]\txg_train-merror:0.001712\n",
      "[507]\txg_train-merror:0.001427\n",
      "[508]\txg_train-merror:0.001427\n",
      "[509]\txg_train-merror:0.001427\n",
      "[510]\txg_train-merror:0.001427\n",
      "[511]\txg_train-merror:0.001427\n",
      "[512]\txg_train-merror:0.001427\n",
      "[513]\txg_train-merror:0.001427\n",
      "[514]\txg_train-merror:0.001427\n",
      "[515]\txg_train-merror:0.001427\n",
      "[516]\txg_train-merror:0.001427\n",
      "[517]\txg_train-merror:0.001427\n",
      "[518]\txg_train-merror:0.001427\n",
      "[519]\txg_train-merror:0.001427\n",
      "[520]\txg_train-merror:0.001427\n",
      "[521]\txg_train-merror:0.001427\n",
      "[522]\txg_train-merror:0.001427\n",
      "[523]\txg_train-merror:0.001427\n",
      "[524]\txg_train-merror:0.001427\n",
      "[525]\txg_train-merror:0.001427\n",
      "[526]\txg_train-merror:0.001427\n",
      "[527]\txg_train-merror:0.001427\n",
      "[528]\txg_train-merror:0.001427\n",
      "[529]\txg_train-merror:0.001427\n",
      "[530]\txg_train-merror:0.001427\n",
      "[531]\txg_train-merror:0.001427\n",
      "[532]\txg_train-merror:0.001427\n",
      "[533]\txg_train-merror:0.001427\n",
      "[534]\txg_train-merror:0.001427\n",
      "[535]\txg_train-merror:0.001427\n",
      "[536]\txg_train-merror:0.001427\n",
      "[537]\txg_train-merror:0.001427\n",
      "[538]\txg_train-merror:0.001427\n",
      "[539]\txg_train-merror:0.001427\n",
      "[540]\txg_train-merror:0.001427\n",
      "[541]\txg_train-merror:0.001427\n",
      "[542]\txg_train-merror:0.001427\n",
      "[543]\txg_train-merror:0.001427\n",
      "[544]\txg_train-merror:0.001427\n",
      "[545]\txg_train-merror:0.001427\n",
      "[546]\txg_train-merror:0.001712\n",
      "[547]\txg_train-merror:0.001712\n",
      "[548]\txg_train-merror:0.001712\n",
      "[549]\txg_train-merror:0.001712\n",
      "[550]\txg_train-merror:0.001712\n",
      "[551]\txg_train-merror:0.001712\n",
      "[552]\txg_train-merror:0.001427\n",
      "[553]\txg_train-merror:0.001427\n",
      "[554]\txg_train-merror:0.001427\n",
      "[555]\txg_train-merror:0.001427\n",
      "[556]\txg_train-merror:0.001427\n",
      "[557]\txg_train-merror:0.001427\n",
      "[558]\txg_train-merror:0.001427\n",
      "[559]\txg_train-merror:0.001427\n",
      "[560]\txg_train-merror:0.001712\n",
      "[561]\txg_train-merror:0.001712\n",
      "[562]\txg_train-merror:0.001712\n",
      "[563]\txg_train-merror:0.001712\n",
      "[564]\txg_train-merror:0.001712\n",
      "[565]\txg_train-merror:0.001712\n",
      "[566]\txg_train-merror:0.001712\n",
      "[567]\txg_train-merror:0.001712\n",
      "[568]\txg_train-merror:0.001712\n",
      "[569]\txg_train-merror:0.001712\n",
      "[570]\txg_train-merror:0.001712\n",
      "[571]\txg_train-merror:0.001712\n",
      "[572]\txg_train-merror:0.001712\n",
      "[573]\txg_train-merror:0.001427\n",
      "[574]\txg_train-merror:0.001427\n",
      "[575]\txg_train-merror:0.001712\n",
      "[576]\txg_train-merror:0.001427\n",
      "[577]\txg_train-merror:0.001427\n",
      "[578]\txg_train-merror:0.001427\n",
      "[579]\txg_train-merror:0.001712\n",
      "[580]\txg_train-merror:0.001712\n",
      "[581]\txg_train-merror:0.001712\n",
      "[582]\txg_train-merror:0.001712\n",
      "[583]\txg_train-merror:0.001712\n",
      "[584]\txg_train-merror:0.001427\n",
      "[585]\txg_train-merror:0.001427\n",
      "[586]\txg_train-merror:0.001427\n",
      "[587]\txg_train-merror:0.001427\n",
      "[588]\txg_train-merror:0.001427\n",
      "[589]\txg_train-merror:0.001712\n",
      "[590]\txg_train-merror:0.001712\n",
      "[591]\txg_train-merror:0.001712\n",
      "[592]\txg_train-merror:0.001712\n",
      "[593]\txg_train-merror:0.001712\n",
      "[594]\txg_train-merror:0.001712\n",
      "[595]\txg_train-merror:0.001712\n",
      "[596]\txg_train-merror:0.001712\n",
      "[597]\txg_train-merror:0.001712\n",
      "[598]\txg_train-merror:0.001712\n",
      "[599]\txg_train-merror:0.001712\n",
      "[600]\txg_train-merror:0.001712\n",
      "[601]\txg_train-merror:0.001712\n",
      "[602]\txg_train-merror:0.001712\n",
      "[603]\txg_train-merror:0.001712\n",
      "[604]\txg_train-merror:0.001712\n",
      "[605]\txg_train-merror:0.001427\n",
      "[606]\txg_train-merror:0.001427\n",
      "[607]\txg_train-merror:0.001427\n",
      "[608]\txg_train-merror:0.001427\n",
      "[609]\txg_train-merror:0.001427\n",
      "[610]\txg_train-merror:0.001427\n",
      "[611]\txg_train-merror:0.001142\n",
      "[612]\txg_train-merror:0.001427\n",
      "[613]\txg_train-merror:0.001427\n",
      "[614]\txg_train-merror:0.001142\n",
      "[615]\txg_train-merror:0.001142\n",
      "[616]\txg_train-merror:0.001142\n",
      "[617]\txg_train-merror:0.001427\n",
      "[618]\txg_train-merror:0.001427\n",
      "[619]\txg_train-merror:0.001427\n",
      "[620]\txg_train-merror:0.001427\n",
      "[621]\txg_train-merror:0.001427\n",
      "[622]\txg_train-merror:0.001427\n",
      "[623]\txg_train-merror:0.001427\n",
      "[624]\txg_train-merror:0.001427\n",
      "[625]\txg_train-merror:0.001142\n",
      "[626]\txg_train-merror:0.001427\n",
      "[627]\txg_train-merror:0.001142\n",
      "[628]\txg_train-merror:0.001427\n",
      "[629]\txg_train-merror:0.001427\n",
      "[630]\txg_train-merror:0.001142\n",
      "[631]\txg_train-merror:0.001142\n",
      "[632]\txg_train-merror:0.001142\n",
      "[633]\txg_train-merror:0.001142\n",
      "[634]\txg_train-merror:0.001142\n",
      "[635]\txg_train-merror:0.001142\n",
      "[636]\txg_train-merror:0.001142\n",
      "[637]\txg_train-merror:0.001142\n",
      "[638]\txg_train-merror:0.001142\n",
      "[639]\txg_train-merror:0.001142\n",
      "[640]\txg_train-merror:0.001142\n",
      "[641]\txg_train-merror:0.001142\n",
      "[642]\txg_train-merror:0.001142\n",
      "[643]\txg_train-merror:0.001142\n",
      "[644]\txg_train-merror:0.001142\n",
      "[645]\txg_train-merror:0.001142\n",
      "[646]\txg_train-merror:0.001142\n",
      "[647]\txg_train-merror:0.001142\n",
      "[648]\txg_train-merror:0.001142\n",
      "[649]\txg_train-merror:0.001142\n",
      "[650]\txg_train-merror:0.001142\n",
      "[651]\txg_train-merror:0.001142\n",
      "[652]\txg_train-merror:0.001142\n",
      "[653]\txg_train-merror:0.001142\n",
      "[654]\txg_train-merror:0.001427\n",
      "[655]\txg_train-merror:0.001427\n",
      "[656]\txg_train-merror:0.001427\n",
      "[657]\txg_train-merror:0.001427\n",
      "[658]\txg_train-merror:0.001427\n",
      "[659]\txg_train-merror:0.001427\n",
      "[660]\txg_train-merror:0.001427\n",
      "[661]\txg_train-merror:0.001427\n",
      "[662]\txg_train-merror:0.001427\n",
      "[663]\txg_train-merror:0.001427\n",
      "[664]\txg_train-merror:0.001427\n",
      "[665]\txg_train-merror:0.001427\n",
      "[666]\txg_train-merror:0.001427\n",
      "[667]\txg_train-merror:0.001427\n",
      "[668]\txg_train-merror:0.001427\n",
      "[669]\txg_train-merror:0.001427\n",
      "[670]\txg_train-merror:0.001427\n",
      "[671]\txg_train-merror:0.001427\n",
      "[672]\txg_train-merror:0.001427\n",
      "[673]\txg_train-merror:0.001427\n",
      "[674]\txg_train-merror:0.001427\n",
      "[675]\txg_train-merror:0.001427\n",
      "[676]\txg_train-merror:0.001427\n",
      "[677]\txg_train-merror:0.001427\n",
      "[678]\txg_train-merror:0.001427\n",
      "[679]\txg_train-merror:0.001427\n",
      "[680]\txg_train-merror:0.001427\n",
      "[681]\txg_train-merror:0.001427\n",
      "[682]\txg_train-merror:0.001427\n",
      "[683]\txg_train-merror:0.001427\n",
      "[684]\txg_train-merror:0.001427\n",
      "[685]\txg_train-merror:0.001427\n",
      "[686]\txg_train-merror:0.001427\n",
      "[687]\txg_train-merror:0.001427\n",
      "[688]\txg_train-merror:0.001427\n",
      "[689]\txg_train-merror:0.001427\n",
      "[690]\txg_train-merror:0.001427\n",
      "[691]\txg_train-merror:0.001427\n",
      "[692]\txg_train-merror:0.001427\n",
      "[693]\txg_train-merror:0.001427\n",
      "[694]\txg_train-merror:0.001427\n",
      "[695]\txg_train-merror:0.001427\n",
      "[696]\txg_train-merror:0.001427\n",
      "[697]\txg_train-merror:0.001427\n",
      "[698]\txg_train-merror:0.001427\n",
      "[699]\txg_train-merror:0.001427\n",
      "[700]\txg_train-merror:0.001427\n",
      "[701]\txg_train-merror:0.001427\n",
      "[702]\txg_train-merror:0.001427\n",
      "[703]\txg_train-merror:0.001427\n",
      "[704]\txg_train-merror:0.001427\n",
      "[705]\txg_train-merror:0.001427\n",
      "[706]\txg_train-merror:0.001427\n",
      "[707]\txg_train-merror:0.001427\n",
      "[708]\txg_train-merror:0.001427\n",
      "[709]\txg_train-merror:0.001427\n",
      "[710]\txg_train-merror:0.001427\n",
      "[711]\txg_train-merror:0.001427\n",
      "[712]\txg_train-merror:0.001427\n",
      "[713]\txg_train-merror:0.001427\n",
      "[714]\txg_train-merror:0.001427\n",
      "[715]\txg_train-merror:0.001427\n",
      "[716]\txg_train-merror:0.001427\n",
      "[717]\txg_train-merror:0.001427\n",
      "[718]\txg_train-merror:0.001427\n",
      "[719]\txg_train-merror:0.001427\n",
      "[720]\txg_train-merror:0.001427\n",
      "[721]\txg_train-merror:0.001427\n",
      "[722]\txg_train-merror:0.001142\n",
      "[723]\txg_train-merror:0.001142\n",
      "[724]\txg_train-merror:0.001142\n",
      "[725]\txg_train-merror:0.001142\n",
      "[726]\txg_train-merror:0.001142\n",
      "[727]\txg_train-merror:0.001142\n",
      "[728]\txg_train-merror:0.001142\n",
      "[729]\txg_train-merror:0.001142\n",
      "[730]\txg_train-merror:0.001142\n",
      "[731]\txg_train-merror:0.001142\n",
      "[732]\txg_train-merror:0.001142\n",
      "[733]\txg_train-merror:0.001142\n",
      "[734]\txg_train-merror:0.001142\n",
      "[735]\txg_train-merror:0.001142\n",
      "[736]\txg_train-merror:0.001142\n",
      "[737]\txg_train-merror:0.001142\n",
      "[738]\txg_train-merror:0.001142\n",
      "[739]\txg_train-merror:0.001142\n",
      "[740]\txg_train-merror:0.001142\n",
      "[741]\txg_train-merror:0.001142\n",
      "[742]\txg_train-merror:0.001142\n",
      "[743]\txg_train-merror:0.001142\n",
      "[744]\txg_train-merror:0.001142\n",
      "[745]\txg_train-merror:0.001142\n",
      "[746]\txg_train-merror:0.001142\n",
      "[747]\txg_train-merror:0.001142\n",
      "[748]\txg_train-merror:0.001142\n",
      "[749]\txg_train-merror:0.001142\n",
      "[750]\txg_train-merror:0.001142\n",
      "[751]\txg_train-merror:0.001142\n",
      "[752]\txg_train-merror:0.001142\n",
      "[753]\txg_train-merror:0.001142\n",
      "[754]\txg_train-merror:0.001142\n",
      "[755]\txg_train-merror:0.001142\n",
      "[756]\txg_train-merror:0.001142\n",
      "[757]\txg_train-merror:0.001142\n",
      "[758]\txg_train-merror:0.001142\n"
     ]
    }
   ],
   "source": [
    "# create the model\n",
    "bst <- xgb.train(   params              = params, \n",
    "                    data                = dtrain, \n",
    "                    nrounds             = n_rounds.train, \n",
    "                    verbose             = 1,\n",
    "                    watchlist           = watchlist,\n",
    "                    maximize            = FALSE\n",
    ")"
   ]
  },
  {
   "cell_type": "code",
   "execution_count": 101,
   "metadata": {
    "collapsed": false
   },
   "outputs": [],
   "source": [
    "# generate predictions from model\n",
    "pred <- predict(bst, xg_test);"
   ]
  },
  {
   "cell_type": "code",
   "execution_count": 102,
   "metadata": {
    "collapsed": false
   },
   "outputs": [
    {
     "data": {
      "text/plain": [
       "Confusion Matrix and Statistics\n",
       "\n",
       "          Reference\n",
       "Prediction  0  1  2  3\n",
       "         0 90 78 56 18\n",
       "         1 81 78 61 14\n",
       "         2 37 40 27  2\n",
       "         3  6  8  3  1\n",
       "\n",
       "Overall Statistics\n",
       "                                        \n",
       "               Accuracy : 0.327         \n",
       "                 95% CI : (0.289, 0.366)\n",
       "    No Information Rate : 0.357         \n",
       "    P-Value [Acc > NIR] : 0.943         \n",
       "                                        \n",
       "                  Kappa : 0.008         \n",
       " Mcnemar's Test P-Value : 0.013         \n",
       "\n",
       "Statistics by Class:\n",
       "\n",
       "                     Class: 0 Class: 1 Class: 2 Class: 3\n",
       "Sensitivity             0.421    0.382    0.184  0.02857\n",
       "Specificity             0.606    0.606    0.826  0.96991\n",
       "Pos Pred Value          0.372    0.333    0.255  0.05556\n",
       "Neg Pred Value          0.654    0.656    0.757  0.94158\n",
       "Prevalence              0.357    0.340    0.245  0.05833\n",
       "Detection Rate          0.150    0.130    0.045  0.00167\n",
       "Detection Prevalence    0.403    0.390    0.177  0.03000\n",
       "Balanced Accuracy       0.513    0.494    0.505  0.49924"
      ]
     },
     "metadata": {},
     "output_type": "display_data"
    }
   ],
   "source": [
    "confusionMatrix(pred, actual)"
   ]
  },
  {
   "cell_type": "markdown",
   "metadata": {},
   "source": [
    "### Why/when to use Gradient Boosted Trees\n",
    "\n",
    "We chose \n",
    "\n",
    "There are two main reasons why you would use Random Forests over Gradient Boosted Decision Trees, and they are both pretty related:\n",
    "\n",
    "RF are much easier to tune than GBM\n",
    "RF are harder to overfit than GBM\n",
    "Related to (1), RF basically has only one hyperparameter to set: the number of features to randomly select at each node. However there is a rule-of-thumb to use the square root of the number of total features which works pretty well in most cases[1]. On the other hand, GBMs have several hyperparameters that include the number of trees, the depth (or number of leaves), and the shrinkage (or learning rate).\n",
    "\n",
    "And, regarding (2), while it is not true that RF do not overfit (as opposed as many are led to believe by Breiman's strong assertions[2]), it is true that they are more robust to overfitting and require less tuning to avoid it.\n",
    "\n",
    "In some sense, RF is a tree ensemble that is more \"plug'n'play\" than GBM. However, it is generally true that a well-tuned GBM can outperform a RF.\n",
    "\n",
    "Also, as Tianqi Chen mentioned, RF has traditionally been easier to parallelism. However, that is not a good reason anymore given there are efficient ways to do it with GBMs also\n",
    "\n",
    "Practically, in almost all the cases, if you have to choose one method. Boosted Trees (GBM) is usually be preferred than RF if you tune the parameter carefully.  \n",
    "\n",
    "The major reason is in terms of training objective, Boosted Trees(GBM) tries to add new trees that compliments the already built ones.  This normally gives you better accuracy with less trees.\n",
    "\n",
    "This being said, the ideas of subsampling and bagging in RF is important. They can readily be incorporated into boosted tree training. This will indeed help the performance usually.\n",
    "\n",
    "There is a historical reason such that RF is easier to parallelize. This can also be done for boosted trees, though less trivial. Boosted Trees can be distributed and very fast.   We did it in dmlc/xgboost  and it works pretty well.\n",
    "\n",
    "One last advantage of boosted trees are about modeling, because boosted trees are derived by optimizing a objective function, basically it can be used to solve almost all objective you can write gradient out. This including things like ranking, poission regression, which RF is harder to achieve. We have a tutorial describing this perspective Introduction to Boosted Trees\n",
    "\n",
    "\n",
    "Algorithmic difference is; Random Forests are trained with random sample of data (even more randomized cases available like feature randomization) and it trusts randomization to have better generalization performance on out of train set.\n",
    "On the other spectrum, Gradient Boosted Trees algorithm additionally tries to find optimal linear combination of trees (assume final model is the weighted sum of predictions of individual trees) in relation to given train data. This extra tuning might be deemed as the difference. Note that, there are many variations of those algorithms as well. \n",
    "\n",
    "At the practical side; owing to this tuning stage, Gradient Boosted Trees are more susceptible to jiggling data. This final stage makes GBT more likely to overfit therefore if the test cases are inclined to be so verbose compared to train cases this algorithm starts lacking. On the contrary, Random Forests are better to strain on overfitting although it is lacking on the other way around. \n",
    "\n",
    "So the best choice depends to the case your have as always.\n",
    "\n",
    "Dimensiality - Boosted trees are the method of choice in low (< 100) dimension settings. Random forests are the better choice in high-dimension settings.\n",
    "\n",
    "Ideally, at the end of the project we would like to be able to convey how the prediction model is working under the hood to doctors who use it. They will be able to bring domain expertise to the problem if they can see how the model is working. This is one benefit of using a Tree based model. This is reduced somewhat as we bring in aspects such as Boosting and Random Forests, however.\n",
    "\n",
    "After using the method, we were unable to improve the predictive accuracy much beyond 34%. Much of this was due to not having the compute power to effectively tune the hyperparameters. Given we were very unsure about our data, we needed to tune heavily, especially since we were seeing many cases of train error rates much lower than test. Avoiding over-fitting proved to be the demise of this method.\n"
   ]
  },
  {
   "cell_type": "markdown",
   "metadata": {},
   "source": [
    "# 4. Random Forest\n",
    "\n",
    "Given that our EDA failed to show up any strong correlations between variables, we are a little unsure if there are any strong predictors (relatively) in the dataset. We need to ensure that our tree gives a fair consideration to all of the features to ensure we don't head towards a local minima. This is where the Random Forst approach will come in. The method takes random samples of predictors at each split and only one is chosen from this set. So we can have decisions where the most optimal/important feature is not included for consideration. "
   ]
  },
  {
   "cell_type": "code",
   "execution_count": 370,
   "metadata": {
    "collapsed": false
   },
   "outputs": [],
   "source": [
    "# create an upsample of training to obtain an even split of classes\n",
    "set.seed(seed)\n",
    "rforest_train <- Udf.Utilities.UpSample(train)"
   ]
  },
  {
   "cell_type": "code",
   "execution_count": null,
   "metadata": {
    "collapsed": false
   },
   "outputs": [],
   "source": [
    "control <- trainControl(method=\"repeatedcv\", number=10, repeats=3)\n",
    "seed <- seed\n",
    "metric <- \"Accuracy\"\n",
    "set.seed(seed)\n",
    "#mtry <- sqrt(ncol(x))\n",
    "tunegrid <- expand.grid(.mtry=c(2, 3, 4))\n",
    "rf_default <- train(Result ~., data=rforest_train, method=\"rf\", metric=metric, tuneGrid=tunegrid, trControl=control)\n",
    "print(rf_default)"
   ]
  },
  {
   "cell_type": "code",
   "execution_count": 361,
   "metadata": {
    "collapsed": false
   },
   "outputs": [
    {
     "data": {},
     "metadata": {},
     "output_type": "display_data"
    },
    {
     "data": {
      "image/png": "[encoded data removed]",
      "text/plain": [
       "plot without title"
      ]
     },
     "metadata": {},
     "output_type": "display_data"
    }
   ],
   "source": [
    "plot(rf_default)"
   ]
  },
  {
   "cell_type": "code",
   "execution_count": 363,
   "metadata": {
    "collapsed": false
   },
   "outputs": [],
   "source": [
    "pred_rf <- predict(rf_default, test)"
   ]
  },
  {
   "cell_type": "code",
   "execution_count": 364,
   "metadata": {
    "collapsed": false
   },
   "outputs": [
    {
     "data": {
      "text/plain": [
       "Confusion Matrix and Statistics\n",
       "\n",
       "          Reference\n",
       "Prediction   0   1   2   3\n",
       "         0  88  78  65  17\n",
       "         1 100 100  69  17\n",
       "         2  24  23  13   1\n",
       "         3   2   3   0   0\n",
       "\n",
       "Overall Statistics\n",
       "                                         \n",
       "               Accuracy : 0.335          \n",
       "                 95% CI : (0.297, 0.374) \n",
       "    No Information Rate : 0.357          \n",
       "    P-Value [Acc > NIR] : 0.875          \n",
       "                                         \n",
       "                  Kappa : 0              \n",
       " Mcnemar's Test P-Value : 0.0000000000015\n",
       "\n",
       "Statistics by Class:\n",
       "\n",
       "                     Class: 0 Class: 1 Class: 2 Class: 3\n",
       "Sensitivity             0.411    0.490   0.0884  0.00000\n",
       "Specificity             0.585    0.530   0.8940  0.99115\n",
       "Pos Pred Value          0.355    0.350   0.2131  0.00000\n",
       "Neg Pred Value          0.642    0.669   0.7514  0.94118\n",
       "Prevalence              0.357    0.340   0.2450  0.05833\n",
       "Detection Rate          0.147    0.167   0.0217  0.00000\n",
       "Detection Prevalence    0.413    0.477   0.1017  0.00833\n",
       "Balanced Accuracy       0.498    0.510   0.4912  0.49558"
      ]
     },
     "metadata": {},
     "output_type": "display_data"
    }
   ],
   "source": [
    "confusionMatrix(pred_rf, actual)"
   ]
  },
  {
   "cell_type": "code",
   "execution_count": 368,
   "metadata": {
    "collapsed": false
   },
   "outputs": [
    {
     "name": "stdout",
     "output_type": "stream",
     "text": [
      "      MeanDecreaseGini\n",
      "ATT1             252.7\n",
      "ATT2             265.7\n",
      "ATT3             255.7\n",
      "ATT4             253.6\n",
      "ATT5             249.9\n",
      "ATT6             257.5\n",
      "ATT7             257.5\n",
      "ATT8             263.8\n",
      "ATT9             256.6\n",
      "ATT10            262.7\n"
     ]
    }
   ],
   "source": [
    "print(importance(rf_default$finalModel,type = 2))"
   ]
  },
  {
   "cell_type": "code",
   "execution_count": 369,
   "metadata": {
    "collapsed": false
   },
   "outputs": [
    {
     "data": {
      "image/png": "[encoded data removed]",
      "text/plain": [
       "Plot with title \"rf_default$finalModel\""
      ]
     },
     "metadata": {},
     "output_type": "display_data"
    }
   ],
   "source": [
    "options(repr.plot.width = 6)\n",
    "options(repr.plot.height = 4)\n",
    "varImpPlot(rf_default$finalModel)"
   ]
  },
  {
   "cell_type": "markdown",
   "metadata": {},
   "source": [
    "## Cross Validation for Random Forest feature selection "
   ]
  },
  {
   "cell_type": "code",
   "execution_count": 273,
   "metadata": {
    "collapsed": false
   },
   "outputs": [
    {
     "data": {
      "image/png": "[encoded data removed]",
      "text/plain": [
       "plot without title"
      ]
     },
     "metadata": {},
     "output_type": "display_data"
    }
   ],
   "source": [
    "x <- train\n",
    "x$Result <- NULL\n",
    "y <- train$Result\n",
    "\n",
    "rf.cv <- rfcv(x, y, cv.fold=10, step=0.9)\n",
    "\n",
    "set.seed(seed)\n",
    "with(rf.cv, plot(n.var, error.cv))"
   ]
  },
  {
   "cell_type": "markdown",
   "metadata": {},
   "source": [
    "Ok, this is telling us that a model with all features may not be best. Let's try retrain the model without the lowest importance features and rerun the predictions"
   ]
  },
  {
   "cell_type": "code",
   "execution_count": 263,
   "metadata": {
    "collapsed": false
   },
   "outputs": [
    {
     "data": {
      "text/plain": [
       "\n",
       "Call:\n",
       " randomForest(formula = Result ~ . - ATT1, data = rforest_train,      mtry = 4, ntree = 10000, sampsize = 1000) \n",
       "               Type of random forest: classification\n",
       "                     Number of trees: 10000\n",
       "No. of variables tried at each split: 4\n",
       "\n",
       "        OOB estimate of  error rate: 36.76%\n",
       "Confusion matrix:\n",
       "    0   1   2   3 class.error\n",
       "0 336 303 168  69    0.616438\n",
       "1 304 323 183  66    0.631279\n",
       "2  73  96 683  24    0.220320\n",
       "3   2   0   0 874    0.002283"
      ]
     },
     "metadata": {},
     "output_type": "display_data"
    }
   ],
   "source": [
    "rforest <- randomForest(Result ~ . - ATT1, data = rforest_train, mtry=4, ntree=10000, sampsize=1000)\n",
    "rforest"
   ]
  },
  {
   "cell_type": "code",
   "execution_count": 270,
   "metadata": {
    "collapsed": true
   },
   "outputs": [],
   "source": [
    "rforest <- randomForest(Result ~ ATT2+ATT4+ATT6+ATT8+ATT9+ATT10, data = rforest_train, mtry=4, ntree=10000, sampsize=1000)"
   ]
  },
  {
   "cell_type": "code",
   "execution_count": 328,
   "metadata": {
    "collapsed": false
   },
   "outputs": [
    {
     "data": {
      "image/png": "[encoded data removed]",
      "text/plain": [
       "Plot with title \"rforest\""
      ]
     },
     "metadata": {},
     "output_type": "display_data"
    }
   ],
   "source": [
    "plot(rforest)"
   ]
  },
  {
   "cell_type": "code",
   "execution_count": 264,
   "metadata": {
    "collapsed": false
   },
   "outputs": [
    {
     "name": "stdout",
     "output_type": "stream",
     "text": [
      "      MeanDecreaseGini\n",
      "ATT2             84.69\n",
      "ATT3             80.60\n",
      "ATT4             82.40\n",
      "ATT5             80.17\n",
      "ATT6             83.62\n",
      "ATT7             82.56\n",
      "ATT8             85.57\n",
      "ATT9             84.04\n",
      "ATT10            84.96\n"
     ]
    }
   ],
   "source": [
    "print(importance(rforest,type = 2))"
   ]
  },
  {
   "cell_type": "code",
   "execution_count": 271,
   "metadata": {
    "collapsed": true
   },
   "outputs": [],
   "source": [
    "pred_rforest <- predict(rforest, test)"
   ]
  },
  {
   "cell_type": "code",
   "execution_count": 272,
   "metadata": {
    "collapsed": false
   },
   "outputs": [
    {
     "data": {
      "text/plain": [
       "Confusion Matrix and Statistics\n",
       "\n",
       "          Reference\n",
       "Prediction  0  1  2  3\n",
       "         0 71 66 51 13\n",
       "         1 73 63 48 13\n",
       "         2 46 55 32  6\n",
       "         3 24 20 16  3\n",
       "\n",
       "Overall Statistics\n",
       "                                       \n",
       "               Accuracy : 0.282        \n",
       "                 95% CI : (0.246, 0.32)\n",
       "    No Information Rate : 0.357        \n",
       "    P-Value [Acc > NIR] : 1.000        \n",
       "                                       \n",
       "                  Kappa : -0.017       \n",
       " Mcnemar's Test P-Value : 0.109        \n",
       "\n",
       "Statistics by Class:\n",
       "\n",
       "                     Class: 0 Class: 1 Class: 2 Class: 3\n",
       "Sensitivity             0.332    0.309   0.2177   0.0857\n",
       "Specificity             0.663    0.662   0.7638   0.8938\n",
       "Pos Pred Value          0.353    0.320   0.2302   0.0476\n",
       "Neg Pred Value          0.642    0.650   0.7505   0.9404\n",
       "Prevalence              0.357    0.340   0.2450   0.0583\n",
       "Detection Rate          0.118    0.105   0.0533   0.0050\n",
       "Detection Prevalence    0.335    0.328   0.2317   0.1050\n",
       "Balanced Accuracy       0.497    0.485   0.4907   0.4898"
      ]
     },
     "metadata": {},
     "output_type": "display_data"
    }
   ],
   "source": [
    "confusionMatrix(pred_rforest, actual)"
   ]
  },
  {
   "cell_type": "markdown",
   "metadata": {
    "collapsed": true
   },
   "source": [
    "# 5. Deep Learning"
   ]
  },
  {
   "cell_type": "code",
   "execution_count": 11,
   "metadata": {
    "collapsed": false
   },
   "outputs": [],
   "source": [
    "obj_ <- Udf.Utilities.PrepareTraining(prostate)\n",
    "tr_ <- obj_$training\n",
    "ts_ <- obj_$testing"
   ]
  },
  {
   "cell_type": "code",
   "execution_count": null,
   "metadata": {
    "collapsed": true
   },
   "outputs": [],
   "source": [
    "h2o.init(nthreads = -1)"
   ]
  },
  {
   "cell_type": "code",
   "execution_count": null,
   "metadata": {
    "collapsed": true
   },
   "outputs": [],
   "source": [
    "# What are these for?\n",
    "tr_ <- read.csv(\"trFE.csv\")\n",
    "ts_ <- read.csv(\"tsFE.csv\")\n",
    "tr_$Result <- as.factor(tr_$Result)\n",
    "ts_$Result <- as.factor(ts_$Result)"
   ]
  },
  {
   "cell_type": "code",
   "execution_count": null,
   "metadata": {
    "collapsed": true
   },
   "outputs": [],
   "source": []
  },
  {
   "cell_type": "markdown",
   "metadata": {},
   "source": [
    "# 6. Turbo Boost"
   ]
  },
  {
   "cell_type": "code",
   "execution_count": 167,
   "metadata": {
    "collapsed": true
   },
   "outputs": [],
   "source": [
    "# Make training and test sets\n",
    "#obj_ <- Udf.Utilities.PrepareTraining(prostate)\n",
    "tr_ <- train#obj_$training\n",
    "ts_ <- test#obj_$testing\n",
    "actual <- ts_$Result"
   ]
  },
  {
   "cell_type": "code",
   "execution_count": 168,
   "metadata": {
    "collapsed": false
   },
   "outputs": [],
   "source": [
    "# PCA\n",
    "pc_ <- Udf.Utilities.Prcomp(tr_[,-ncol(tr_)],nComps = 2)\n",
    "\n",
    "pcObj_ <- pc_$prcompObj # Get object \n",
    "\n",
    "tr_ <- cbind(tr_,pc_$components) # bind to features."
   ]
  },
  {
   "cell_type": "code",
   "execution_count": 169,
   "metadata": {
    "collapsed": false
   },
   "outputs": [],
   "source": [
    "# do the same to the test set\n",
    "pc_ts <- Udf.Utilities.Prcomp(ts_[,-ncol(ts_)],nComps = 2)\n",
    "\n",
    "pcObj_ts<- pc_ts$prcompObj # Get object \n",
    "\n",
    "ts_ <- cbind(ts_,pc_ts$components) # bind to features."
   ]
  },
  {
   "cell_type": "code",
   "execution_count": 53,
   "metadata": {
    "collapsed": false,
    "scrolled": true
   },
   "outputs": [],
   "source": [
    "# Control method\n",
    "ctrl_ <- trainControl(method = \"cv\", number = 5, sampling = \"up\")\n",
    "mdl.xgb <- train(Result ~ . , data = tr_, method = \"xgbTree\", trControl = ctrl_)"
   ]
  },
  {
   "cell_type": "code",
   "execution_count": 173,
   "metadata": {
    "collapsed": false
   },
   "outputs": [],
   "source": [
    "pred_xgb_prcomp <- predict(mdl.xgb, ts_)"
   ]
  },
  {
   "cell_type": "code",
   "execution_count": 174,
   "metadata": {
    "collapsed": false
   },
   "outputs": [
    {
     "data": {
      "text/plain": [
       "Confusion Matrix and Statistics\n",
       "\n",
       "          Reference\n",
       "Prediction  0  1  2  3\n",
       "         0 80 74 45 15\n",
       "         1 71 89 36  8\n",
       "         2 50 61 26 10\n",
       "         3 15 12  6  2\n",
       "\n",
       "Overall Statistics\n",
       "                                        \n",
       "               Accuracy : 0.328         \n",
       "                 95% CI : (0.291, 0.368)\n",
       "    No Information Rate : 0.393         \n",
       "    P-Value [Acc > NIR] : 1.000         \n",
       "                                        \n",
       "                  Kappa : 0.024         \n",
       " Mcnemar's Test P-Value : 0.199         \n",
       "\n",
       "Statistics by Class:\n",
       "\n",
       "                     Class: 0 Class: 1 Class: 2 Class: 3\n",
       "Sensitivity             0.370    0.377   0.2301  0.05714\n",
       "Specificity             0.651    0.684   0.7515  0.94159\n",
       "Pos Pred Value          0.374    0.436   0.1769  0.05714\n",
       "Neg Pred Value          0.648    0.629   0.8079  0.94159\n",
       "Prevalence              0.360    0.393   0.1883  0.05833\n",
       "Detection Rate          0.133    0.148   0.0433  0.00333\n",
       "Detection Prevalence    0.357    0.340   0.2450  0.05833\n",
       "Balanced Accuracy       0.511    0.531   0.4908  0.49937"
      ]
     },
     "metadata": {},
     "output_type": "display_data"
    }
   ],
   "source": [
    "confusionMatrix(actual, pred_xgb_prcomp)"
   ]
  },
  {
   "cell_type": "code",
   "execution_count": 60,
   "metadata": {
    "collapsed": false
   },
   "outputs": [
    {
     "name": "stdout",
     "output_type": "stream",
     "text": [
      "Iter   TrainDeviance   ValidDeviance   StepSize   Improve\n",
      "     1        1.3863             nan     0.1000    0.0006\n",
      "     2        1.3843             nan     0.1000   -0.0011\n",
      "     3        1.3829             nan     0.1000    0.0010\n",
      "     4        1.3814             nan     0.1000   -0.0004\n",
      "     5        1.3799             nan     0.1000   -0.0001\n",
      "     6        1.3785             nan     0.1000   -0.0004\n",
      "     7        1.3773             nan     0.1000   -0.0002\n",
      "     8        1.3760             nan     0.1000   -0.0009\n",
      "     9        1.3748             nan     0.1000   -0.0001\n",
      "    10        1.3739             nan     0.1000    0.0001\n",
      "    20        1.3650             nan     0.1000   -0.0007\n",
      "    40        1.3519             nan     0.1000   -0.0010\n",
      "    60        1.3435             nan     0.1000   -0.0012\n",
      "    80        1.3368             nan     0.1000   -0.0011\n",
      "   100        1.3311             nan     0.1000   -0.0016\n",
      "   120        1.3264             nan     0.1000   -0.0016\n",
      "   140        1.3227             nan     0.1000   -0.0010\n",
      "   150        1.3209             nan     0.1000   -0.0023\n",
      "\n",
      "Iter   TrainDeviance   ValidDeviance   StepSize   Improve\n",
      "     1        1.3863             nan     0.1000   -0.0003\n",
      "     2        1.3834             nan     0.1000    0.0026\n",
      "     3        1.3797             nan     0.1000    0.0007\n",
      "     4        1.3764             nan     0.1000    0.0016\n",
      "     5        1.3727             nan     0.1000   -0.0008\n",
      "     6        1.3700             nan     0.1000    0.0012\n",
      "     7        1.3661             nan     0.1000    0.0010\n",
      "     8        1.3632             nan     0.1000    0.0001\n",
      "     9        1.3606             nan     0.1000    0.0020\n",
      "    10        1.3575             nan     0.1000    0.0003\n",
      "    20        1.3334             nan     0.1000   -0.0001\n",
      "    40        1.2949             nan     0.1000   -0.0001\n",
      "    60        1.2642             nan     0.1000   -0.0005\n",
      "    80        1.2367             nan     0.1000   -0.0011\n",
      "   100        1.2132             nan     0.1000   -0.0013\n",
      "   120        1.1898             nan     0.1000   -0.0026\n",
      "   140        1.1680             nan     0.1000   -0.0013\n",
      "   150        1.1581             nan     0.1000   -0.0029\n",
      "\n",
      "Iter   TrainDeviance   ValidDeviance   StepSize   Improve\n",
      "     1        1.3863             nan     0.1000    0.0049\n",
      "     2        1.3787             nan     0.1000    0.0030\n",
      "     3        1.3725             nan     0.1000    0.0036\n",
      "     4        1.3665             nan     0.1000    0.0014\n",
      "     5        1.3616             nan     0.1000    0.0022\n",
      "     6        1.3563             nan     0.1000    0.0019\n",
      "     7        1.3510             nan     0.1000    0.0018\n",
      "     8        1.3467             nan     0.1000    0.0027\n",
      "     9        1.3415             nan     0.1000    0.0025\n",
      "    10        1.3363             nan     0.1000    0.0004\n",
      "    20        1.2974             nan     0.1000   -0.0014\n",
      "    40        1.2341             nan     0.1000   -0.0010\n",
      "    60        1.1815             nan     0.1000   -0.0009\n",
      "    80        1.1344             nan     0.1000   -0.0003\n",
      "   100        1.0954             nan     0.1000   -0.0008\n",
      "   120        1.0568             nan     0.1000   -0.0031\n",
      "   140        1.0251             nan     0.1000   -0.0025\n",
      "   150        1.0091             nan     0.1000   -0.0029\n",
      "\n",
      "Iter   TrainDeviance   ValidDeviance   StepSize   Improve\n",
      "     1        1.3863             nan     0.1000    0.0006\n",
      "     2        1.3846             nan     0.1000   -0.0001\n",
      "     3        1.3832             nan     0.1000    0.0003\n",
      "     4        1.3815             nan     0.1000    0.0003\n",
      "     5        1.3799             nan     0.1000   -0.0001\n",
      "     6        1.3782             nan     0.1000   -0.0009\n",
      "     7        1.3772             nan     0.1000    0.0003\n",
      "     8        1.3757             nan     0.1000   -0.0001\n",
      "     9        1.3746             nan     0.1000   -0.0005\n",
      "    10        1.3737             nan     0.1000   -0.0005\n",
      "    20        1.3650             nan     0.1000   -0.0019\n",
      "    40        1.3537             nan     0.1000   -0.0008\n",
      "    60        1.3441             nan     0.1000   -0.0014\n",
      "    80        1.3371             nan     0.1000   -0.0012\n",
      "   100        1.3315             nan     0.1000   -0.0011\n",
      "   120        1.3263             nan     0.1000   -0.0017\n",
      "   140        1.3222             nan     0.1000   -0.0011\n",
      "   150        1.3198             nan     0.1000   -0.0027\n",
      "\n",
      "Iter   TrainDeviance   ValidDeviance   StepSize   Improve\n",
      "     1        1.3863             nan     0.1000    0.0024\n",
      "     2        1.3818             nan     0.1000    0.0007\n",
      "     3        1.3786             nan     0.1000    0.0004\n",
      "     4        1.3746             nan     0.1000    0.0020\n",
      "     5        1.3708             nan     0.1000    0.0007\n",
      "     6        1.3677             nan     0.1000   -0.0001\n",
      "     7        1.3643             nan     0.1000    0.0007\n",
      "     8        1.3619             nan     0.1000    0.0009\n",
      "     9        1.3593             nan     0.1000    0.0010\n",
      "    10        1.3571             nan     0.1000   -0.0002\n",
      "    20        1.3317             nan     0.1000    0.0020\n",
      "    40        1.2890             nan     0.1000   -0.0019\n",
      "    60        1.2536             nan     0.1000   -0.0010\n",
      "    80        1.2242             nan     0.1000   -0.0012\n",
      "   100        1.1985             nan     0.1000   -0.0017\n",
      "   120        1.1759             nan     0.1000   -0.0011\n",
      "   140        1.1532             nan     0.1000   -0.0026\n",
      "   150        1.1433             nan     0.1000   -0.0003\n",
      "\n",
      "Iter   TrainDeviance   ValidDeviance   StepSize   Improve\n",
      "     1        1.3863             nan     0.1000    0.0041\n",
      "     2        1.3804             nan     0.1000    0.0040\n",
      "     3        1.3733             nan     0.1000    0.0034\n",
      "     4        1.3678             nan     0.1000    0.0040\n",
      "     5        1.3615             nan     0.1000    0.0008\n",
      "     6        1.3568             nan     0.1000    0.0030\n",
      "     7        1.3509             nan     0.1000    0.0034\n",
      "     8        1.3456             nan     0.1000    0.0027\n",
      "     9        1.3402             nan     0.1000   -0.0011\n",
      "    10        1.3360             nan     0.1000    0.0012\n",
      "    20        1.2941             nan     0.1000    0.0041\n",
      "    40        1.2235             nan     0.1000   -0.0014\n",
      "    60        1.1688             nan     0.1000   -0.0013\n",
      "    80        1.1233             nan     0.1000   -0.0021\n",
      "   100        1.0806             nan     0.1000   -0.0030\n",
      "   120        1.0426             nan     0.1000   -0.0019\n",
      "   140        1.0073             nan     0.1000   -0.0038\n",
      "   150        0.9929             nan     0.1000   -0.0018\n",
      "\n",
      "Iter   TrainDeviance   ValidDeviance   StepSize   Improve\n",
      "     1        1.3863             nan     0.1000   -0.0018\n",
      "     2        1.3847             nan     0.1000    0.0020\n",
      "     3        1.3828             nan     0.1000    0.0012\n",
      "     4        1.3809             nan     0.1000    0.0003\n",
      "     5        1.3790             nan     0.1000    0.0001\n",
      "     6        1.3776             nan     0.1000   -0.0002\n",
      "     7        1.3760             nan     0.1000   -0.0012\n",
      "     8        1.3749             nan     0.1000   -0.0003\n",
      "     9        1.3734             nan     0.1000    0.0006\n",
      "    10        1.3720             nan     0.1000   -0.0006\n",
      "    20        1.3606             nan     0.1000   -0.0005\n",
      "    40        1.3457             nan     0.1000   -0.0018\n",
      "    60        1.3376             nan     0.1000   -0.0009\n",
      "    80        1.3293             nan     0.1000   -0.0017\n",
      "   100        1.3233             nan     0.1000   -0.0020\n",
      "   120        1.3179             nan     0.1000   -0.0019\n",
      "   140        1.3130             nan     0.1000   -0.0018\n",
      "   150        1.3113             nan     0.1000   -0.0022\n",
      "\n",
      "Iter   TrainDeviance   ValidDeviance   StepSize   Improve\n",
      "     1        1.3863             nan     0.1000    0.0040\n",
      "     2        1.3809             nan     0.1000    0.0024\n",
      "     3        1.3765             nan     0.1000    0.0008\n",
      "     4        1.3728             nan     0.1000    0.0029\n",
      "     5        1.3695             nan     0.1000   -0.0004\n",
      "     6        1.3658             nan     0.1000    0.0020\n",
      "     7        1.3624             nan     0.1000   -0.0019\n",
      "     8        1.3596             nan     0.1000   -0.0014\n",
      "     9        1.3569             nan     0.1000    0.0020\n",
      "    10        1.3540             nan     0.1000   -0.0000\n",
      "    20        1.3264             nan     0.1000   -0.0008\n",
      "    40        1.2847             nan     0.1000   -0.0008\n",
      "    60        1.2523             nan     0.1000   -0.0015\n",
      "    80        1.2243             nan     0.1000   -0.0032\n",
      "   100        1.2006             nan     0.1000    0.0010\n",
      "   120        1.1758             nan     0.1000   -0.0033\n",
      "   140        1.1524             nan     0.1000   -0.0024\n",
      "   150        1.1431             nan     0.1000   -0.0017\n",
      "\n",
      "Iter   TrainDeviance   ValidDeviance   StepSize   Improve\n",
      "     1        1.3863             nan     0.1000    0.0048\n",
      "     2        1.3792             nan     0.1000    0.0029\n",
      "     3        1.3736             nan     0.1000    0.0049\n",
      "     4        1.3677             nan     0.1000    0.0013\n",
      "     5        1.3633             nan     0.1000    0.0003\n",
      "     6        1.3591             nan     0.1000    0.0030\n",
      "     7        1.3535             nan     0.1000    0.0030\n",
      "     8        1.3484             nan     0.1000    0.0020\n",
      "     9        1.3440             nan     0.1000    0.0026\n",
      "    10        1.3389             nan     0.1000    0.0019\n",
      "    20        1.2987             nan     0.1000   -0.0010\n",
      "    40        1.2355             nan     0.1000   -0.0017\n",
      "    60        1.1819             nan     0.1000    0.0004\n",
      "    80        1.1350             nan     0.1000   -0.0006\n",
      "   100        1.0909             nan     0.1000   -0.0025\n",
      "   120        1.0539             nan     0.1000   -0.0022\n",
      "   140        1.0174             nan     0.1000   -0.0020\n",
      "   150        1.0004             nan     0.1000   -0.0028\n",
      "\n",
      "Iter   TrainDeviance   ValidDeviance   StepSize   Improve\n",
      "     1        1.3863             nan     0.1000    0.0003\n",
      "     2        1.3847             nan     0.1000    0.0006\n",
      "     3        1.3834             nan     0.1000   -0.0002\n",
      "     4        1.3822             nan     0.1000    0.0003\n",
      "     5        1.3808             nan     0.1000   -0.0003\n",
      "     6        1.3797             nan     0.1000   -0.0021\n",
      "     7        1.3787             nan     0.1000   -0.0007\n",
      "     8        1.3779             nan     0.1000   -0.0016\n",
      "     9        1.3768             nan     0.1000   -0.0007\n",
      "    10        1.3758             nan     0.1000   -0.0012\n",
      "    20        1.3684             nan     0.1000   -0.0009\n",
      "    40        1.3588             nan     0.1000   -0.0008\n",
      "    60        1.3513             nan     0.1000   -0.0016\n",
      "    80        1.3452             nan     0.1000   -0.0016\n",
      "   100        1.3411             nan     0.1000   -0.0015\n",
      "   120        1.3371             nan     0.1000   -0.0014\n",
      "   140        1.3340             nan     0.1000   -0.0023\n",
      "   150        1.3325             nan     0.1000   -0.0028\n",
      "\n",
      "Iter   TrainDeviance   ValidDeviance   StepSize   Improve\n",
      "     1        1.3863             nan     0.1000    0.0020\n",
      "     2        1.3816             nan     0.1000    0.0006\n",
      "     3        1.3785             nan     0.1000    0.0010\n",
      "     4        1.3741             nan     0.1000    0.0023\n",
      "     5        1.3695             nan     0.1000    0.0008\n",
      "     6        1.3659             nan     0.1000   -0.0005\n",
      "     7        1.3633             nan     0.1000   -0.0004\n",
      "     8        1.3606             nan     0.1000    0.0014\n",
      "     9        1.3574             nan     0.1000   -0.0014\n",
      "    10        1.3546             nan     0.1000   -0.0009\n",
      "    20        1.3289             nan     0.1000    0.0004\n",
      "    40        1.2900             nan     0.1000    0.0015\n",
      "    60        1.2567             nan     0.1000   -0.0003\n",
      "    80        1.2293             nan     0.1000   -0.0017\n",
      "   100        1.2034             nan     0.1000   -0.0031\n",
      "   120        1.1823             nan     0.1000   -0.0028\n",
      "   140        1.1637             nan     0.1000   -0.0025\n",
      "   150        1.1543             nan     0.1000   -0.0024\n",
      "\n",
      "Iter   TrainDeviance   ValidDeviance   StepSize   Improve\n",
      "     1        1.3863             nan     0.1000    0.0059\n",
      "     2        1.3800             nan     0.1000    0.0051\n",
      "     3        1.3732             nan     0.1000    0.0020\n",
      "     4        1.3674             nan     0.1000    0.0025\n",
      "     5        1.3616             nan     0.1000    0.0022\n",
      "     6        1.3566             nan     0.1000    0.0018\n",
      "     7        1.3521             nan     0.1000    0.0031\n",
      "     8        1.3469             nan     0.1000    0.0022\n",
      "     9        1.3425             nan     0.1000    0.0008\n",
      "    10        1.3378             nan     0.1000    0.0018\n",
      "    20        1.2986             nan     0.1000    0.0015\n",
      "    40        1.2361             nan     0.1000    0.0006\n",
      "    60        1.1847             nan     0.1000   -0.0015\n",
      "    80        1.1388             nan     0.1000   -0.0009\n",
      "   100        1.0961             nan     0.1000   -0.0021\n",
      "   120        1.0590             nan     0.1000   -0.0022\n",
      "   140        1.0261             nan     0.1000   -0.0011\n",
      "   150        1.0111             nan     0.1000   -0.0024\n",
      "\n",
      "Iter   TrainDeviance   ValidDeviance   StepSize   Improve\n",
      "     1        1.3863             nan     0.1000   -0.0003\n",
      "     2        1.3847             nan     0.1000    0.0007\n",
      "     3        1.3830             nan     0.1000    0.0002\n",
      "     4        1.3812             nan     0.1000    0.0000\n",
      "     5        1.3798             nan     0.1000   -0.0007\n",
      "     6        1.3782             nan     0.1000   -0.0004\n",
      "     7        1.3770             nan     0.1000   -0.0002\n",
      "     8        1.3758             nan     0.1000   -0.0006\n",
      "     9        1.3744             nan     0.1000    0.0007\n",
      "    10        1.3730             nan     0.1000   -0.0006\n",
      "    20        1.3635             nan     0.1000   -0.0015\n",
      "    40        1.3490             nan     0.1000   -0.0010\n",
      "    60        1.3402             nan     0.1000   -0.0008\n",
      "    80        1.3329             nan     0.1000   -0.0019\n",
      "   100        1.3265             nan     0.1000   -0.0011\n",
      "   120        1.3214             nan     0.1000   -0.0017\n",
      "   140        1.3174             nan     0.1000   -0.0017\n",
      "   150        1.3157             nan     0.1000   -0.0020\n",
      "\n",
      "Iter   TrainDeviance   ValidDeviance   StepSize   Improve\n",
      "     1        1.3863             nan     0.1000    0.0022\n",
      "     2        1.3824             nan     0.1000    0.0021\n",
      "     3        1.3790             nan     0.1000   -0.0005\n",
      "     4        1.3763             nan     0.1000    0.0008\n",
      "     5        1.3729             nan     0.1000    0.0014\n",
      "     6        1.3697             nan     0.1000    0.0016\n",
      "     7        1.3666             nan     0.1000    0.0006\n",
      "     8        1.3632             nan     0.1000    0.0025\n",
      "     9        1.3595             nan     0.1000   -0.0005\n",
      "    10        1.3566             nan     0.1000    0.0010\n",
      "    20        1.3332             nan     0.1000    0.0023\n",
      "    40        1.2874             nan     0.1000    0.0002\n",
      "    60        1.2503             nan     0.1000   -0.0020\n",
      "    80        1.2213             nan     0.1000   -0.0024\n",
      "   100        1.1948             nan     0.1000   -0.0018\n",
      "   120        1.1698             nan     0.1000   -0.0009\n",
      "   140        1.1483             nan     0.1000   -0.0014\n",
      "   150        1.1387             nan     0.1000   -0.0030\n",
      "\n",
      "Iter   TrainDeviance   ValidDeviance   StepSize   Improve\n",
      "     1        1.3863             nan     0.1000    0.0028\n",
      "     2        1.3806             nan     0.1000    0.0015\n",
      "     3        1.3752             nan     0.1000    0.0016\n",
      "     4        1.3705             nan     0.1000   -0.0000\n",
      "     5        1.3662             nan     0.1000   -0.0002\n",
      "     6        1.3621             nan     0.1000    0.0020\n",
      "     7        1.3560             nan     0.1000    0.0031\n",
      "     8        1.3506             nan     0.1000    0.0040\n",
      "     9        1.3444             nan     0.1000    0.0009\n",
      "    10        1.3401             nan     0.1000    0.0028\n",
      "    20        1.2996             nan     0.1000    0.0010\n",
      "    40        1.2327             nan     0.1000   -0.0002\n",
      "    60        1.1763             nan     0.1000   -0.0018\n",
      "    80        1.1278             nan     0.1000   -0.0015\n",
      "   100        1.0849             nan     0.1000   -0.0021\n",
      "   120        1.0465             nan     0.1000   -0.0024\n",
      "   140        1.0131             nan     0.1000   -0.0013\n",
      "   150        0.9966             nan     0.1000   -0.0020\n",
      "\n",
      "Iter   TrainDeviance   ValidDeviance   StepSize   Improve\n",
      "     1        1.3863             nan     0.1000    0.0029\n",
      "     2        1.3807             nan     0.1000    0.0025\n",
      "     3        1.3763             nan     0.1000    0.0041\n",
      "     4        1.3718             nan     0.1000    0.0008\n",
      "     5        1.3672             nan     0.1000    0.0026\n",
      "     6        1.3628             nan     0.1000    0.0018\n",
      "     7        1.3587             nan     0.1000    0.0010\n",
      "     8        1.3548             nan     0.1000   -0.0001\n",
      "     9        1.3509             nan     0.1000    0.0005\n",
      "    10        1.3462             nan     0.1000    0.0001\n",
      "    20        1.3140             nan     0.1000    0.0011\n",
      "    40        1.2578             nan     0.1000   -0.0004\n",
      "    60        1.2115             nan     0.1000   -0.0014\n",
      "    80        1.1730             nan     0.1000   -0.0015\n",
      "   100        1.1372             nan     0.1000   -0.0008\n",
      "   120        1.1058             nan     0.1000   -0.0016\n",
      "   140        1.0780             nan     0.1000   -0.0009\n",
      "   150        1.0641             nan     0.1000   -0.0014\n",
      "\n"
     ]
    }
   ],
   "source": [
    "mdl.gbm <- train(Result ~ . , data = tr_,method = \"gbm\", trControl = ctrl_)\n",
    "pred_gbm <- predict(mdl.gbm, ts_)"
   ]
  },
  {
   "cell_type": "code",
   "execution_count": 61,
   "metadata": {
    "collapsed": false
   },
   "outputs": [
    {
     "data": {
      "text/plain": [
       "Confusion Matrix and Statistics\n",
       "\n",
       "          Reference\n",
       "Prediction  0  1  2  3\n",
       "         0 69 57 52 36\n",
       "         1 62 55 57 30\n",
       "         2 32 40 41 34\n",
       "         3 16  6  4  9\n",
       "\n",
       "Overall Statistics\n",
       "                                        \n",
       "               Accuracy : 0.29          \n",
       "                 95% CI : (0.254, 0.328)\n",
       "    No Information Rate : 0.298         \n",
       "    P-Value [Acc > NIR] : 0.687         \n",
       "                                        \n",
       "                  Kappa : 0.028         \n",
       " Mcnemar's Test P-Value : 0.000000000398\n",
       "\n",
       "Statistics by Class:\n",
       "\n",
       "                     Class: 0 Class: 1 Class: 2 Class: 3\n",
       "Sensitivity             0.385   0.3481   0.2662   0.0826\n",
       "Specificity             0.656   0.6629   0.7623   0.9470\n",
       "Pos Pred Value          0.322   0.2696   0.2789   0.2571\n",
       "Neg Pred Value          0.715   0.7399   0.7506   0.8230\n",
       "Prevalence              0.298   0.2633   0.2567   0.1817\n",
       "Detection Rate          0.115   0.0917   0.0683   0.0150\n",
       "Detection Prevalence    0.357   0.3400   0.2450   0.0583\n",
       "Balanced Accuracy       0.521   0.5055   0.5143   0.5148"
      ]
     },
     "metadata": {},
     "output_type": "display_data"
    }
   ],
   "source": [
    "confusionMatrix(actual, pred_gbm)"
   ]
  },
  {
   "cell_type": "markdown",
   "metadata": {},
   "source": [
    "---\n",
    "# 7. KNN Classification"
   ]
  },
  {
   "cell_type": "code",
   "execution_count": 347,
   "metadata": {
    "collapsed": true
   },
   "outputs": [],
   "source": [
    "knn_train <- train"
   ]
  },
  {
   "cell_type": "code",
   "execution_count": 348,
   "metadata": {
    "collapsed": false
   },
   "outputs": [],
   "source": [
    "set.seed(seed)\n",
    "ctrl <- trainControl(method=\"repeatedcv\",repeats = 5)\n",
    "knnFit <- train(Result ~ ., \n",
    "                data = knn_train, \n",
    "                method = \"knn\", \n",
    "                trControl = ctrl, \n",
    "                preProcess = c(\"center\",\"scale\"),\n",
    "                tuneLength = 20)"
   ]
  },
  {
   "cell_type": "code",
   "execution_count": 349,
   "metadata": {
    "collapsed": false,
    "scrolled": true
   },
   "outputs": [
    {
     "data": {
      "text/plain": [
       "k-Nearest Neighbors \n",
       "\n",
       "2400 samples\n",
       "  10 predictor\n",
       "   4 classes: '0', '1', '2', '3' \n",
       "\n",
       "Pre-processing: centered (10), scaled (10) \n",
       "Resampling: Cross-Validated (10 fold, repeated 5 times) \n",
       "Summary of sample sizes: 2158, 2162, 2161, 2161, 2160, 2160, ... \n",
       "Resampling results across tuning parameters:\n",
       "\n",
       "  k   Accuracy  Kappa     \n",
       "   5  0.3327     0.0031361\n",
       "   7  0.3398     0.0052320\n",
       "   9  0.3456     0.0067162\n",
       "  11  0.3454    -0.0001731\n",
       "  13  0.3512     0.0059354\n",
       "  15  0.3529     0.0050043\n",
       "  17  0.3526     0.0021470\n",
       "  19  0.3519    -0.0011296\n",
       "  21  0.3497    -0.0065015\n",
       "  23  0.3519    -0.0044468\n",
       "  25  0.3467    -0.0140404\n",
       "  27  0.3473    -0.0147368\n",
       "  29  0.3413    -0.0244012\n",
       "  31  0.3466    -0.0170929\n",
       "  33  0.3448    -0.0208928\n",
       "  35  0.3495    -0.0144542\n",
       "  37  0.3500    -0.0144856\n",
       "  39  0.3491    -0.0164655\n",
       "  41  0.3541    -0.0095169\n",
       "  43  0.3521    -0.0132306\n",
       "\n",
       "Accuracy was used to select the optimal model using  the largest value.\n",
       "The final value used for the model was k = 41. "
      ]
     },
     "metadata": {},
     "output_type": "display_data"
    }
   ],
   "source": [
    "knnFit"
   ]
  },
  {
   "cell_type": "code",
   "execution_count": 350,
   "metadata": {
    "collapsed": false
   },
   "outputs": [
    {
     "data": {},
     "metadata": {},
     "output_type": "display_data"
    },
    {
     "data": {
      "image/png": "[encoded data removed]",
      "text/plain": [
       "plot without title"
      ]
     },
     "metadata": {},
     "output_type": "display_data"
    }
   ],
   "source": [
    "#Plotting yields Number of Neighbours Vs accuracy (based on repeated cross validation)\n",
    "plot(knnFit)"
   ]
  },
  {
   "cell_type": "code",
   "execution_count": 351,
   "metadata": {
    "collapsed": true
   },
   "outputs": [],
   "source": [
    "pred_knn <- predict(knnFit,newdata = test )"
   ]
  },
  {
   "cell_type": "code",
   "execution_count": 352,
   "metadata": {
    "collapsed": false
   },
   "outputs": [
    {
     "data": {
      "text/plain": [
       "Confusion Matrix and Statistics\n",
       "\n",
       "          Reference\n",
       "Prediction   0   1   2   3\n",
       "         0 101 109   4   0\n",
       "         1  91 110   3   0\n",
       "         2  77  66   4   0\n",
       "         3  21  13   1   0\n",
       "\n",
       "Overall Statistics\n",
       "                                             \n",
       "               Accuracy : 0.358              \n",
       "                 95% CI : (0.32, 0.398)      \n",
       "    No Information Rate : 0.497              \n",
       "    P-Value [Acc > NIR] : 1                  \n",
       "                                             \n",
       "                  Kappa : 0.019              \n",
       " Mcnemar's Test P-Value : <0.0000000000000002\n",
       "\n",
       "Statistics by Class:\n",
       "\n",
       "                     Class: 0 Class: 1 Class: 2 Class: 3\n",
       "Sensitivity             0.348    0.369  0.33333       NA\n",
       "Specificity             0.635    0.689  0.75680   0.9417\n",
       "Pos Pred Value          0.472    0.539  0.02721       NA\n",
       "Neg Pred Value          0.510    0.525  0.98234       NA\n",
       "Prevalence              0.483    0.497  0.02000   0.0000\n",
       "Detection Rate          0.168    0.183  0.00667   0.0000\n",
       "Detection Prevalence    0.357    0.340  0.24500   0.0583\n",
       "Balanced Accuracy       0.492    0.529  0.54507       NA"
      ]
     },
     "metadata": {},
     "output_type": "display_data"
    }
   ],
   "source": [
    "confusionMatrix(actual, pred_knn )"
   ]
  },
  {
   "cell_type": "markdown",
   "metadata": {
    "collapsed": true
   },
   "source": [
    "---\n",
    "# X. Ensemble the Predictions"
   ]
  },
  {
   "cell_type": "code",
   "execution_count": 320,
   "metadata": {
    "collapsed": false
   },
   "outputs": [],
   "source": [
    "# create a dataframe to store each of the predictions from each of the models we want to ensemble\n",
    "preds_df <- data.frame(matrix(ncol = 0, nrow =600))"
   ]
  },
  {
   "cell_type": "code",
   "execution_count": 321,
   "metadata": {
    "collapsed": false
   },
   "outputs": [],
   "source": [
    "preds_df$pred_xgb <- pred_xgb\n",
    "preds_df$pred_rforest <- pred_rforest\n",
    "preds_df$pred_xgb_prcomp <- pred_xgb_prcomp\n",
    "preds_df$pred_knn <- pred_knn"
   ]
  },
  {
   "cell_type": "code",
   "execution_count": 322,
   "metadata": {
    "collapsed": false
   },
   "outputs": [
    {
     "data": {
      "text/html": [
       "<table>\n",
       "<thead><tr><th></th><th scope=col>pred_xgb</th><th scope=col>pred_rforest</th><th scope=col>pred_xgb_prcomp</th><th scope=col>pred_knn</th></tr></thead>\n",
       "<tbody>\n",
       "\t<tr><th scope=row>1</th><td>1</td><td>3</td><td>1</td><td>1</td></tr>\n",
       "\t<tr><th scope=row>2</th><td>1</td><td>1</td><td>1</td><td>1</td></tr>\n",
       "\t<tr><th scope=row>3</th><td>0</td><td>0</td><td>0</td><td>0</td></tr>\n",
       "\t<tr><th scope=row>4</th><td>0</td><td>1</td><td>0</td><td>1</td></tr>\n",
       "\t<tr><th scope=row>5</th><td>1</td><td>2</td><td>1</td><td>0</td></tr>\n",
       "\t<tr><th scope=row>6</th><td>0</td><td>3</td><td>0</td><td>0</td></tr>\n",
       "</tbody>\n",
       "</table>\n"
      ],
      "text/latex": [
       "\\begin{tabular}{r|llll}\n",
       "  & pred\\_xgb & pred\\_rforest & pred\\_xgb\\_prcomp & pred\\_knn\\\\\n",
       "\\hline\n",
       "\t1 & 1 & 3 & 1 & 1\\\\\n",
       "\t2 & 1 & 1 & 1 & 1\\\\\n",
       "\t3 & 0 & 0 & 0 & 0\\\\\n",
       "\t4 & 0 & 1 & 0 & 1\\\\\n",
       "\t5 & 1 & 2 & 1 & 0\\\\\n",
       "\t6 & 0 & 3 & 0 & 0\\\\\n",
       "\\end{tabular}\n"
      ],
      "text/plain": [
       "  pred_xgb pred_rforest pred_xgb_prcomp pred_knn\n",
       "1        1            3               1        1\n",
       "2        1            1               1        1\n",
       "3        0            0               0        0\n",
       "4        0            1               0        1\n",
       "5        1            2               1        0\n",
       "6        0            3               0        0"
      ]
     },
     "metadata": {},
     "output_type": "display_data"
    }
   ],
   "source": [
    "head(preds_df)"
   ]
  },
  {
   "cell_type": "code",
   "execution_count": 323,
   "metadata": {
    "collapsed": false
   },
   "outputs": [
    {
     "data": {
      "text/plain": [
       "\n",
       "  0   1   2   3 \n",
       "216 236 113  35 "
      ]
     },
     "metadata": {},
     "output_type": "display_data"
    }
   ],
   "source": [
    "table(preds_df$pred_xgb)"
   ]
  },
  {
   "cell_type": "code",
   "execution_count": 324,
   "metadata": {
    "collapsed": false
   },
   "outputs": [],
   "source": [
    "preds_df <- Udf.Utilities.MajorityVotePredictions(preds_df)"
   ]
  },
  {
   "cell_type": "code",
   "execution_count": 325,
   "metadata": {
    "collapsed": false
   },
   "outputs": [
    {
     "data": {
      "text/html": [
       "<table>\n",
       "<thead><tr><th></th><th scope=col>pred_xgb</th><th scope=col>pred_rforest</th><th scope=col>pred_xgb_prcomp</th><th scope=col>pred_knn</th><th scope=col>majority_pred</th></tr></thead>\n",
       "<tbody>\n",
       "\t<tr><th scope=row>1</th><td>1</td><td>3</td><td>1</td><td>1</td><td>1</td></tr>\n",
       "\t<tr><th scope=row>2</th><td>1</td><td>1</td><td>1</td><td>1</td><td>1</td></tr>\n",
       "\t<tr><th scope=row>3</th><td>0</td><td>0</td><td>0</td><td>0</td><td>0</td></tr>\n",
       "\t<tr><th scope=row>4</th><td>0</td><td>1</td><td>0</td><td>1</td><td>0</td></tr>\n",
       "\t<tr><th scope=row>5</th><td>1</td><td>2</td><td>1</td><td>0</td><td>1</td></tr>\n",
       "\t<tr><th scope=row>6</th><td>0</td><td>3</td><td>0</td><td>0</td><td>0</td></tr>\n",
       "</tbody>\n",
       "</table>\n"
      ],
      "text/latex": [
       "\\begin{tabular}{r|lllll}\n",
       "  & pred\\_xgb & pred\\_rforest & pred\\_xgb\\_prcomp & pred\\_knn & majority\\_pred\\\\\n",
       "\\hline\n",
       "\t1 & 1 & 3 & 1 & 1 & 1\\\\\n",
       "\t2 & 1 & 1 & 1 & 1 & 1\\\\\n",
       "\t3 & 0 & 0 & 0 & 0 & 0\\\\\n",
       "\t4 & 0 & 1 & 0 & 1 & 0\\\\\n",
       "\t5 & 1 & 2 & 1 & 0 & 1\\\\\n",
       "\t6 & 0 & 3 & 0 & 0 & 0\\\\\n",
       "\\end{tabular}\n"
      ],
      "text/plain": [
       "  pred_xgb pred_rforest pred_xgb_prcomp pred_knn majority_pred\n",
       "1        1            3               1        1             1\n",
       "2        1            1               1        1             1\n",
       "3        0            0               0        0             0\n",
       "4        0            1               0        1             0\n",
       "5        1            2               1        0             1\n",
       "6        0            3               0        0             0"
      ]
     },
     "metadata": {},
     "output_type": "display_data"
    }
   ],
   "source": [
    "head(preds_df)"
   ]
  },
  {
   "cell_type": "code",
   "execution_count": 326,
   "metadata": {
    "collapsed": false
   },
   "outputs": [
    {
     "data": {
      "text/plain": [
       "Confusion Matrix and Statistics\n",
       "\n",
       "          Reference\n",
       "Prediction  0  1  2  3\n",
       "         0 80 74 45 15\n",
       "         1 71 89 36  8\n",
       "         2 50 61 26 10\n",
       "         3 15 12  6  2\n",
       "\n",
       "Overall Statistics\n",
       "                                        \n",
       "               Accuracy : 0.328         \n",
       "                 95% CI : (0.291, 0.368)\n",
       "    No Information Rate : 0.393         \n",
       "    P-Value [Acc > NIR] : 1.000         \n",
       "                                        \n",
       "                  Kappa : 0.024         \n",
       " Mcnemar's Test P-Value : 0.199         \n",
       "\n",
       "Statistics by Class:\n",
       "\n",
       "                     Class: 0 Class: 1 Class: 2 Class: 3\n",
       "Sensitivity             0.370    0.377   0.2301  0.05714\n",
       "Specificity             0.651    0.684   0.7515  0.94159\n",
       "Pos Pred Value          0.374    0.436   0.1769  0.05714\n",
       "Neg Pred Value          0.648    0.629   0.8079  0.94159\n",
       "Prevalence              0.360    0.393   0.1883  0.05833\n",
       "Detection Rate          0.133    0.148   0.0433  0.00333\n",
       "Detection Prevalence    0.357    0.340   0.2450  0.05833\n",
       "Balanced Accuracy       0.511    0.531   0.4908  0.49937"
      ]
     },
     "metadata": {},
     "output_type": "display_data"
    }
   ],
   "source": [
    "confusionMatrix(actual, preds_df$majority_pred)"
   ]
  },
  {
   "cell_type": "markdown",
   "metadata": {},
   "source": [
    "---\n",
    "# X. Summary Report"
   ]
  },
  {
   "cell_type": "code",
   "execution_count": null,
   "metadata": {
    "collapsed": true
   },
   "outputs": [],
   "source": []
  }
 ],
 "metadata": {
  "anaconda-cloud": {},
  "kernelspec": {
   "display_name": "R",
   "language": "R",
   "name": "ir"
  },
  "language_info": {
   "codemirror_mode": "r",
   "file_extension": ".r",
   "mimetype": "text/x-r-source",
   "name": "R",
   "pygments_lexer": "r",
   "version": "3.3.1"
  }
 },
 "nbformat": 4,
 "nbformat_minor": 0
}
