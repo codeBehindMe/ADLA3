{
 "cells": [
  {
   "cell_type": "markdown",
   "metadata": {},
   "source": [
    "# Assessment 3 - A new tool for detecting prostate cancers\n",
    "### Authors: Jeffrey Mills (28083938), \n",
    "\n",
    "**Required Libraries -** The following R libraries are referenced in this notebook\n",
    "* glmnet\n",
    "* ROCR\n",
    "---\n",
    "### Table of Contents\n",
    "\n",
    "[1. Exploratory Data Analysis](#1.-Exploratory-Data-Analysis)\n",
    "\n",
    "[2. EDA Report](#2.-EDA-Report)\n",
    "\n",
    "---"
   ]
  },
  {
   "cell_type": "code",
   "execution_count": 465,
   "metadata": {
    "collapsed": true
   },
   "outputs": [],
   "source": [
    "# disable scientific notation and set to 4 digits\n",
    "options(scipen=999)\n",
    "options(digits=4)\n",
    "# set the default plot size\n",
    "options(repr.plot.width = 6)\n",
    "options(repr.plot.height = 4)"
   ]
  },
  {
   "cell_type": "code",
   "execution_count": 466,
   "metadata": {
    "collapsed": false
   },
   "outputs": [],
   "source": [
    "# install packages ggplot2 for more fancier plots and graphs\n",
    "# and psych for a more comprehensive stats package\n",
    "# only install if not already installed\n",
    "list.of.packages <- c(\"ggplot2\", \"psych\", \"ROCR\", \"leaps\", \"glmnet\", \"caret\", \"xgboost\", \"Matrix\", \"Ckmeans.1d.dp\")\n",
    "new.packages <- list.of.packages[!(list.of.packages %in% installed.packages()[,\"Package\"])]\n",
    "if(length(new.packages)) install.packages(new.packages, repos=\"http://cran.uk.r-project.org\")"
   ]
  },
  {
   "cell_type": "code",
   "execution_count": 467,
   "metadata": {
    "collapsed": false
   },
   "outputs": [],
   "source": [
    "# import ggplot for some of the more fancier plots if needed\n",
    "library(\"ggplot2\")\n",
    "# import more comprehensive summary stats package\n",
    "library(psych)\n",
    "# import ROCR for easier model performance checking\n",
    "library(\"ROCR\")\n",
    "\n",
    "library(\"caret\")\n",
    "\n",
    "library(\"xgboost\")\n",
    "library(\"Matrix\")\n",
    "library(\"Ckmeans.1d.dp\")"
   ]
  },
  {
   "cell_type": "code",
   "execution_count": 468,
   "metadata": {
    "collapsed": false
   },
   "outputs": [],
   "source": [
    "# import local utilities.R file\n",
    "source(\"./utilities.r\")"
   ]
  },
  {
   "cell_type": "markdown",
   "metadata": {},
   "source": [
    "## 1. Exploratory Data Analysis"
   ]
  },
  {
   "cell_type": "code",
   "execution_count": 469,
   "metadata": {
    "collapsed": true
   },
   "outputs": [],
   "source": [
    "prostate <- read.csv(\"./prostate.csv\")"
   ]
  },
  {
   "cell_type": "code",
   "execution_count": 470,
   "metadata": {
    "collapsed": false
   },
   "outputs": [],
   "source": [
    "# Before we do anything, dedicate 20% of our data to an unseen Test set.\n",
    "\n",
    "# 20% of the sample size\n",
    "smp_size <- floor(0.8 * nrow(prostate))\n",
    "\n",
    "# set the seed to make our partition reproductible\n",
    "set.seed(123)\n",
    "train_ind <- sample(seq_len(nrow(prostate)), size = smp_size)\n",
    "\n",
    "train <- prostate[train_ind, ]\n",
    "test <- prostate[-train_ind, ]"
   ]
  },
  {
   "cell_type": "code",
   "execution_count": 471,
   "metadata": {
    "collapsed": false
   },
   "outputs": [
    {
     "data": {
      "text/html": [
       "<table>\n",
       "<thead><tr><th></th><th scope=col>ID</th><th scope=col>ATT1</th><th scope=col>ATT2</th><th scope=col>ATT3</th><th scope=col>ATT4</th><th scope=col>ATT5</th><th scope=col>ATT6</th><th scope=col>ATT7</th><th scope=col>ATT8</th><th scope=col>ATT9</th><th scope=col>ATT10</th><th scope=col>Result</th></tr></thead>\n",
       "<tbody>\n",
       "\t<tr><th scope=row>863</th><td>863</td><td>  5</td><td>  8</td><td> 10</td><td>  9</td><td>  2</td><td>  2</td><td>  8</td><td>  6</td><td>  2</td><td>  3</td><td>  0</td></tr>\n",
       "\t<tr><th scope=row>2365</th><td>2365</td><td>   4</td><td>   4</td><td>   2</td><td>   4</td><td>   4</td><td>   1</td><td>   3</td><td>   7</td><td>   3</td><td>   9</td><td>   0</td></tr>\n",
       "\t<tr><th scope=row>1227</th><td>1227</td><td>   7</td><td>   4</td><td>   9</td><td>   2</td><td>   4</td><td>   2</td><td>   3</td><td>   9</td><td>   9</td><td>   8</td><td>   0</td></tr>\n",
       "\t<tr><th scope=row>2647</th><td>2647</td><td>   5</td><td>   5</td><td>   7</td><td>   2</td><td>   4</td><td>   1</td><td>   8</td><td>  10</td><td>   1</td><td>   7</td><td>   3</td></tr>\n",
       "\t<tr><th scope=row>2818</th><td>2818</td><td>  10</td><td>   1</td><td>   2</td><td>   5</td><td>   7</td><td>   2</td><td>   8</td><td>   5</td><td>   9</td><td>   5</td><td>   1</td></tr>\n",
       "\t<tr><th scope=row>137</th><td>137</td><td>  8</td><td>  1</td><td>  2</td><td> 10</td><td> 10</td><td>  2</td><td>  2</td><td>  3</td><td>  1</td><td>  5</td><td>  0</td></tr>\n",
       "</tbody>\n",
       "</table>\n"
      ],
      "text/latex": [
       "\\begin{tabular}{r|llllllllllll}\n",
       "  & ID & ATT1 & ATT2 & ATT3 & ATT4 & ATT5 & ATT6 & ATT7 & ATT8 & ATT9 & ATT10 & Result\\\\\n",
       "\\hline\n",
       "\t863 & 863 &   5 &   8 &  10 &   9 &   2 &   2 &   8 &   6 &   2 &   3 &   0\\\\\n",
       "\t2365 & 2365 &    4 &    4 &    2 &    4 &    4 &    1 &    3 &    7 &    3 &    9 &    0\\\\\n",
       "\t1227 & 1227 &    7 &    4 &    9 &    2 &    4 &    2 &    3 &    9 &    9 &    8 &    0\\\\\n",
       "\t2647 & 2647 &    5 &    5 &    7 &    2 &    4 &    1 &    8 &   10 &    1 &    7 &    3\\\\\n",
       "\t2818 & 2818 &   10 &    1 &    2 &    5 &    7 &    2 &    8 &    5 &    9 &    5 &    1\\\\\n",
       "\t137 & 137 &   8 &   1 &   2 &  10 &  10 &   2 &   2 &   3 &   1 &   5 &   0\\\\\n",
       "\\end{tabular}\n"
      ],
      "text/plain": [
       "       ID ATT1 ATT2 ATT3 ATT4 ATT5 ATT6 ATT7 ATT8 ATT9 ATT10 Result\n",
       "863   863    5    8   10    9    2    2    8    6    2     3      0\n",
       "2365 2365    4    4    2    4    4    1    3    7    3     9      0\n",
       "1227 1227    7    4    9    2    4    2    3    9    9     8      0\n",
       "2647 2647    5    5    7    2    4    1    8   10    1     7      3\n",
       "2818 2818   10    1    2    5    7    2    8    5    9     5      1\n",
       "137   137    8    1    2   10   10    2    2    3    1     5      0"
      ]
     },
     "metadata": {},
     "output_type": "display_data"
    }
   ],
   "source": [
    "# Check the head of the dataframe\n",
    "head(train)"
   ]
  },
  {
   "cell_type": "code",
   "execution_count": 472,
   "metadata": {
    "collapsed": false
   },
   "outputs": [
    {
     "name": "stdout",
     "output_type": "stream",
     "text": [
      "'data.frame':\t2400 obs. of  12 variables:\n",
      " $ ID    : int  863 2365 1227 2647 2818 137 1582 2672 1650 1366 ...\n",
      " $ ATT1  : int  5 4 7 5 10 8 7 2 2 5 ...\n",
      " $ ATT2  : int  8 4 4 5 1 1 1 10 1 4 ...\n",
      " $ ATT3  : int  10 2 9 7 2 2 5 5 6 10 ...\n",
      " $ ATT4  : int  9 4 2 2 5 10 4 8 2 7 ...\n",
      " $ ATT5  : int  2 4 4 4 7 10 8 5 8 10 ...\n",
      " $ ATT6  : int  2 1 2 1 2 2 1 4 2 10 ...\n",
      " $ ATT7  : int  8 3 3 8 8 2 9 2 3 3 ...\n",
      " $ ATT8  : int  6 7 9 10 5 3 2 6 4 8 ...\n",
      " $ ATT9  : int  2 3 9 1 9 1 6 1 1 10 ...\n",
      " $ ATT10 : int  3 9 8 7 5 5 7 3 4 2 ...\n",
      " $ Result: int  0 0 0 3 1 0 0 2 2 1 ...\n"
     ]
    }
   ],
   "source": [
    "# Check structure of the datatypes\n",
    "str(train)"
   ]
  },
  {
   "cell_type": "markdown",
   "metadata": {},
   "source": [
    "We can drop the ID column as it adds no benefit to our modelling"
   ]
  },
  {
   "cell_type": "code",
   "execution_count": 473,
   "metadata": {
    "collapsed": false
   },
   "outputs": [],
   "source": [
    "train$ID <- NULL"
   ]
  },
  {
   "cell_type": "markdown",
   "metadata": {},
   "source": [
    "Given that we know the **Result** variable is our target variable which represents one of 4 stages of the cancer (0 for curable, and 1 for tumour stage, 2 for node stage and 3 for incurable cancers) - this should be represented as a factor. "
   ]
  },
  {
   "cell_type": "code",
   "execution_count": 474,
   "metadata": {
    "collapsed": false
   },
   "outputs": [],
   "source": [
    "train$Result <- as.factor(train$Result) "
   ]
  },
  {
   "cell_type": "code",
   "execution_count": 475,
   "metadata": {
    "collapsed": false
   },
   "outputs": [
    {
     "data": {
      "text/html": [
       "2400"
      ],
      "text/latex": [
       "2400"
      ],
      "text/markdown": [
       "2400"
      ],
      "text/plain": [
       "[1] 2400"
      ]
     },
     "metadata": {},
     "output_type": "display_data"
    }
   ],
   "source": [
    "# Let's check for incomplete observations\n",
    "nrow(train[complete.cases(train),])"
   ]
  },
  {
   "cell_type": "code",
   "execution_count": 476,
   "metadata": {
    "collapsed": false
   },
   "outputs": [
    {
     "data": {
      "text/plain": [
       "\n",
       "  0   1   2   3 \n",
       "868 876 495 161 "
      ]
     },
     "metadata": {},
     "output_type": "display_data"
    }
   ],
   "source": [
    "# Check the proportions of each factor within the Result variable\n",
    "w <- table(train$Result)\n",
    "w"
   ]
  },
  {
   "cell_type": "code",
   "execution_count": 477,
   "metadata": {
    "collapsed": false
   },
   "outputs": [
    {
     "data": {
      "text/html": [
       "<table>\n",
       "<thead><tr><th></th><th scope=col>vars</th><th scope=col>n</th><th scope=col>mean</th><th scope=col>sd</th><th scope=col>median</th><th scope=col>trimmed</th><th scope=col>mad</th><th scope=col>min</th><th scope=col>max</th><th scope=col>range</th><th scope=col>skew</th><th scope=col>kurtosis</th><th scope=col>se</th></tr></thead>\n",
       "<tbody>\n",
       "\t<tr><th scope=row>ATT1</th><td>   1.000</td><td>2400.000</td><td>   5.835</td><td>   2.651</td><td>   6.000</td><td>   5.793</td><td>   2.965</td><td>   2.000</td><td>  10.000</td><td>   8.000</td><td>   0.098</td><td>  -1.160</td><td>   0.054</td></tr>\n",
       "\t<tr><th scope=row>ATT2</th><td>   2.000</td><td>2400.000</td><td>   4.510</td><td>   2.736</td><td>   4.000</td><td>   4.327</td><td>   2.965</td><td>   1.000</td><td>  10.000</td><td>   9.000</td><td>   0.401</td><td>  -0.972</td><td>   0.056</td></tr>\n",
       "\t<tr><th scope=row>ATT3</th><td>   3.000</td><td>2400.000</td><td>   5.865</td><td>   2.675</td><td>   6.000</td><td>   5.831</td><td>   2.965</td><td>   2.000</td><td>  10.000</td><td>   8.000</td><td>   0.090</td><td>  -1.189</td><td>   0.055</td></tr>\n",
       "\t<tr><th scope=row>ATT4</th><td>   4.000</td><td>2400.000</td><td>   5.807</td><td>   2.630</td><td>   6.000</td><td>   5.759</td><td>   2.965</td><td>   2.000</td><td>  10.000</td><td>   8.000</td><td>   0.090</td><td>  -1.154</td><td>   0.054</td></tr>\n",
       "\t<tr><th scope=row>ATT5</th><td>   5.000</td><td>2400.000</td><td>   5.767</td><td>   2.631</td><td>   6.000</td><td>   5.708</td><td>   2.965</td><td>   2.000</td><td>  10.000</td><td>   8.000</td><td>   0.111</td><td>  -1.144</td><td>   0.054</td></tr>\n",
       "\t<tr><th scope=row>ATT6</th><td>   6.000</td><td>2400.000</td><td>   4.450</td><td>   2.699</td><td>   4.000</td><td>   4.264</td><td>   2.965</td><td>   1.000</td><td>  10.000</td><td>   9.000</td><td>   0.433</td><td>  -0.947</td><td>   0.055</td></tr>\n",
       "\t<tr><th scope=row>ATT7</th><td>   7.000</td><td>2400.000</td><td>   4.474</td><td>   2.739</td><td>   4.000</td><td>   4.290</td><td>   2.965</td><td>   1.000</td><td>  10.000</td><td>   9.000</td><td>   0.399</td><td>  -1.026</td><td>   0.056</td></tr>\n",
       "\t<tr><th scope=row>ATT8</th><td>   8.000</td><td>2400.000</td><td>   4.499</td><td>   2.729</td><td>   4.000</td><td>   4.317</td><td>   2.965</td><td>   1.000</td><td>  10.000</td><td>   9.000</td><td>   0.386</td><td>  -0.978</td><td>   0.056</td></tr>\n",
       "\t<tr><th scope=row>ATT9</th><td>   9.000</td><td>2400.000</td><td>   4.484</td><td>   2.688</td><td>   4.000</td><td>   4.299</td><td>   2.965</td><td>   1.000</td><td>  10.000</td><td>   9.000</td><td>   0.412</td><td>  -0.918</td><td>   0.055</td></tr>\n",
       "\t<tr><th scope=row>ATT10</th><td>  10.000</td><td>2400.000</td><td>   4.451</td><td>   2.689</td><td>   4.000</td><td>   4.263</td><td>   2.965</td><td>   1.000</td><td>  10.000</td><td>   9.000</td><td>   0.412</td><td>  -0.935</td><td>   0.055</td></tr>\n",
       "\t<tr><th scope=row>Result*</th><td>  11.000</td><td>2400.000</td><td>   1.979</td><td>   0.914</td><td>   2.000</td><td>   1.890</td><td>   1.483</td><td>   1.000</td><td>   4.000</td><td>   3.000</td><td>   0.568</td><td>  -0.603</td><td>   0.019</td></tr>\n",
       "</tbody>\n",
       "</table>\n"
      ],
      "text/latex": [
       "\\begin{tabular}{r|lllllllllllll}\n",
       "  & vars & n & mean & sd & median & trimmed & mad & min & max & range & skew & kurtosis & se\\\\\n",
       "\\hline\n",
       "\tATT1 &    1.000 & 2400.000 &    5.835 &    2.651 &    6.000 &    5.793 &    2.965 &    2.000 &   10.000 &    8.000 &    0.098 &   -1.160 &    0.054\\\\\n",
       "\tATT2 &    2.000 & 2400.000 &    4.510 &    2.736 &    4.000 &    4.327 &    2.965 &    1.000 &   10.000 &    9.000 &    0.401 &   -0.972 &    0.056\\\\\n",
       "\tATT3 &    3.000 & 2400.000 &    5.865 &    2.675 &    6.000 &    5.831 &    2.965 &    2.000 &   10.000 &    8.000 &    0.090 &   -1.189 &    0.055\\\\\n",
       "\tATT4 &    4.000 & 2400.000 &    5.807 &    2.630 &    6.000 &    5.759 &    2.965 &    2.000 &   10.000 &    8.000 &    0.090 &   -1.154 &    0.054\\\\\n",
       "\tATT5 &    5.000 & 2400.000 &    5.767 &    2.631 &    6.000 &    5.708 &    2.965 &    2.000 &   10.000 &    8.000 &    0.111 &   -1.144 &    0.054\\\\\n",
       "\tATT6 &    6.000 & 2400.000 &    4.450 &    2.699 &    4.000 &    4.264 &    2.965 &    1.000 &   10.000 &    9.000 &    0.433 &   -0.947 &    0.055\\\\\n",
       "\tATT7 &    7.000 & 2400.000 &    4.474 &    2.739 &    4.000 &    4.290 &    2.965 &    1.000 &   10.000 &    9.000 &    0.399 &   -1.026 &    0.056\\\\\n",
       "\tATT8 &    8.000 & 2400.000 &    4.499 &    2.729 &    4.000 &    4.317 &    2.965 &    1.000 &   10.000 &    9.000 &    0.386 &   -0.978 &    0.056\\\\\n",
       "\tATT9 &    9.000 & 2400.000 &    4.484 &    2.688 &    4.000 &    4.299 &    2.965 &    1.000 &   10.000 &    9.000 &    0.412 &   -0.918 &    0.055\\\\\n",
       "\tATT10 &   10.000 & 2400.000 &    4.451 &    2.689 &    4.000 &    4.263 &    2.965 &    1.000 &   10.000 &    9.000 &    0.412 &   -0.935 &    0.055\\\\\n",
       "\tResult* &   11.000 & 2400.000 &    1.979 &    0.914 &    2.000 &    1.890 &    1.483 &    1.000 &    4.000 &    3.000 &    0.568 &   -0.603 &    0.019\\\\\n",
       "\\end{tabular}\n"
      ],
      "text/plain": [
       "        vars    n mean   sd median trimmed  mad min max range skew kurtosis\n",
       "ATT1       1 2400 5.84 2.65      6    5.79 2.96   2  10     8 0.10    -1.16\n",
       "ATT2       2 2400 4.51 2.74      4    4.33 2.96   1  10     9 0.40    -0.97\n",
       "ATT3       3 2400 5.87 2.67      6    5.83 2.96   2  10     8 0.09    -1.19\n",
       "ATT4       4 2400 5.81 2.63      6    5.76 2.96   2  10     8 0.09    -1.15\n",
       "ATT5       5 2400 5.77 2.63      6    5.71 2.96   2  10     8 0.11    -1.14\n",
       "ATT6       6 2400 4.45 2.70      4    4.26 2.96   1  10     9 0.43    -0.95\n",
       "ATT7       7 2400 4.47 2.74      4    4.29 2.96   1  10     9 0.40    -1.03\n",
       "ATT8       8 2400 4.50 2.73      4    4.32 2.96   1  10     9 0.39    -0.98\n",
       "ATT9       9 2400 4.48 2.69      4    4.30 2.96   1  10     9 0.41    -0.92\n",
       "ATT10     10 2400 4.45 2.69      4    4.26 2.96   1  10     9 0.41    -0.94\n",
       "Result*   11 2400 1.98 0.91      2    1.89 1.48   1   4     3 0.57    -0.60\n",
       "          se\n",
       "ATT1    0.05\n",
       "ATT2    0.06\n",
       "ATT3    0.06\n",
       "ATT4    0.05\n",
       "ATT5    0.05\n",
       "ATT6    0.06\n",
       "ATT7    0.06\n",
       "ATT8    0.06\n",
       "ATT9    0.06\n",
       "ATT10   0.06\n",
       "Result* 0.02"
      ]
     },
     "metadata": {},
     "output_type": "display_data"
    }
   ],
   "source": [
    "round(describe(train), 3)"
   ]
  },
  {
   "cell_type": "code",
   "execution_count": 478,
   "metadata": {
    "collapsed": false
   },
   "outputs": [
    {
     "data": {
      "image/png": "[encoded data removed]",
      "text/plain": [
       "plot without title"
      ]
     },
     "metadata": {},
     "output_type": "display_data"
    },
    {
     "data": {
      "image/png": "[encoded data removed]",
      "text/plain": [
       "plot without title"
      ]
     },
     "metadata": {},
     "output_type": "display_data"
    },
    {
     "data": {
      "image/png": "[encoded data removed]",
      "text/plain": [
       "plot without title"
      ]
     },
     "metadata": {},
     "output_type": "display_data"
    },
    {
     "data": {
      "image/png": "[encoded data removed]",
      "text/plain": [
       "plot without title"
      ]
     },
     "metadata": {},
     "output_type": "display_data"
    },
    {
     "data": {
      "image/png": "[encoded data removed]",
      "text/plain": [
       "plot without title"
      ]
     },
     "metadata": {},
     "output_type": "display_data"
    },
    {
     "data": {
      "image/png": "[encoded data removed]",
      "text/plain": [
       "plot without title"
      ]
     },
     "metadata": {},
     "output_type": "display_data"
    },
    {
     "data": {
      "image/png": "[encoded data removed]",
      "text/plain": [
       "plot without title"
      ]
     },
     "metadata": {},
     "output_type": "display_data"
    },
    {
     "data": {
      "image/png": "[encoded data removed]",
      "text/plain": [
       "plot without title"
      ]
     },
     "metadata": {},
     "output_type": "display_data"
    },
    {
     "ename": "ERROR",
     "evalue": "Error in hist.default(train[[i]], xlab = NULL, main = NULL): 'x' must be numeric\n",
     "output_type": "error",
     "traceback": [
      "Error in hist.default(train[[i]], xlab = NULL, main = NULL): 'x' must be numeric\nTraceback:\n",
      "1. hist(train[[i]], xlab = NULL, main = NULL)   # at line 7 of file <text>",
      "2. hist.default(train[[i]], xlab = NULL, main = NULL)",
      "3. stop(\"'x' must be numeric\")"
     ]
    },
    {
     "data": {
      "image/png": "[encoded data removed]",
      "text/plain": [
       "plot without title"
      ]
     },
     "metadata": {},
     "output_type": "display_data"
    },
    {
     "data": {
      "image/png": "[encoded data removed]",
      "text/plain": [
       "plot without title"
      ]
     },
     "metadata": {},
     "output_type": "display_data"
    }
   ],
   "source": [
    "oldpar <- par() #this records all the default settings\n",
    "par(mfrow=c(1,2)) # this makes to plots in one row\n",
    "par(mar=c(2.1,4.1,2.1,1.1)) #BLTR\n",
    "options(repr.plot.width=8, repr.plot.height=2.5)\n",
    "for (i in names(train)) {\n",
    "    if (i != \"quality\") {\n",
    "        hist(train[[i]],xlab=NULL,main=NULL)\n",
    "        boxplot(train[[i]])\n",
    "        mtext(i,side=3,line=-2, outer=TRUE)\n",
    "    }\n",
    "}\n",
    "suppressWarnings( par(oldpar)) # Restore settings"
   ]
  },
  {
   "cell_type": "code",
   "execution_count": null,
   "metadata": {
    "collapsed": false,
    "scrolled": false
   },
   "outputs": [],
   "source": [
    "options(repr.plot.width = 3)\n",
    "options(repr.plot.height = 2)\n",
    "ggplot(train, aes(x = Result, y = ATT1)) + geom_boxplot()\n",
    "ggplot(train, aes(x = Result, y = ATT2)) + geom_boxplot()\n",
    "ggplot(train, aes(x = Result, y = ATT3)) + geom_boxplot()\n",
    "ggplot(train, aes(x = Result, y = ATT4)) + geom_boxplot()\n",
    "ggplot(train, aes(x = Result, y = ATT5)) + geom_boxplot()\n",
    "ggplot(train, aes(x = Result, y = ATT6)) + geom_boxplot()\n",
    "ggplot(train, aes(x = Result, y = ATT7)) + geom_boxplot()\n",
    "ggplot(train, aes(x = Result, y = ATT8)) + geom_boxplot()\n",
    "ggplot(train, aes(x = Result, y = ATT9)) + geom_boxplot()\n",
    "ggplot(train, aes(x = Result, y = ATT10)) + geom_boxplot()\n",
    "options(repr.plot.width = 6)\n",
    "options(repr.plot.height = 4)"
   ]
  },
  {
   "cell_type": "code",
   "execution_count": null,
   "metadata": {
    "collapsed": false
   },
   "outputs": [],
   "source": [
    "ggplot(aes(x=ATT5, y=ATT2, color=Result),  #by setting color=color, ggplot automatically draw in different colors\n",
    "       data=train) + geom_point(stat='summary', fun.y=median)"
   ]
  },
  {
   "cell_type": "markdown",
   "metadata": {},
   "source": [
    "## 2. EDA Report"
   ]
  },
  {
   "cell_type": "markdown",
   "metadata": {},
   "source": [
    "Perform an EDA, and prepare a summary of your findings. The summary should be less than 300 words. You need to emphasise on the aspects of the EDA that guide you in choosing a particular model or algorithm for your classifier. If you want to include any chart in your notebook, there should be something you have learnt and you are going to use it in your model selection. Please provide a short explanation on what you have learnt just after the cell. In addition, types of variables, the dimension of the data, and any correlation between variables are very important. Also, you might need to look at some distribution of your variables to get some insights."
   ]
  },
  {
   "cell_type": "code",
   "execution_count": null,
   "metadata": {
    "collapsed": true
   },
   "outputs": [],
   "source": []
  },
  {
   "cell_type": "code",
   "execution_count": null,
   "metadata": {
    "collapsed": true
   },
   "outputs": [],
   "source": []
  },
  {
   "cell_type": "code",
   "execution_count": null,
   "metadata": {
    "collapsed": true
   },
   "outputs": [],
   "source": []
  },
  {
   "cell_type": "markdown",
   "metadata": {},
   "source": [
    "## 3. XGBoost"
   ]
  },
  {
   "cell_type": "code",
   "execution_count": 490,
   "metadata": {
    "collapsed": false
   },
   "outputs": [],
   "source": [
    "# perform down sampling to obtain even amount of classes\n",
    "xg_train <- Udf.Utilities.UpSample(train)\n",
    "xg_test <- test"
   ]
  },
  {
   "cell_type": "code",
   "execution_count": 491,
   "metadata": {
    "collapsed": false
   },
   "outputs": [
    {
     "data": {
      "text/plain": [
       "\n",
       "  0   1   2   3 \n",
       "876 876 876 876 "
      ]
     },
     "metadata": {},
     "output_type": "display_data"
    }
   ],
   "source": [
    "# Check the proportions of each factor within the Result variable\n",
    "w <- table(xg_train$Result)\n",
    "w"
   ]
  },
  {
   "cell_type": "code",
   "execution_count": 492,
   "metadata": {
    "collapsed": false
   },
   "outputs": [],
   "source": [
    "# store the actuals for future comparison\n",
    "actual <- test$Result"
   ]
  },
  {
   "cell_type": "code",
   "execution_count": 493,
   "metadata": {
    "collapsed": false
   },
   "outputs": [],
   "source": [
    "# set the Result to a numeric range from 0 - 3\n",
    "xg_train.y <- as.numeric(xg_train$Result)-1\n",
    "xg_test.y <- as.numeric(test$Result)-1"
   ]
  },
  {
   "cell_type": "code",
   "execution_count": 494,
   "metadata": {
    "collapsed": false
   },
   "outputs": [],
   "source": [
    "# convert to matrix for boosting method\n",
    "xg_train <- sparse.model.matrix(Result ~ ., data = xg_train)\n",
    "dtrain <- xgb.DMatrix(data=xg_train, label=xg_train.y)"
   ]
  },
  {
   "cell_type": "code",
   "execution_count": 495,
   "metadata": {
    "collapsed": true
   },
   "outputs": [],
   "source": [
    "xg_test <- sparse.model.matrix(Result ~ ., data = xg_test)\n",
    "dtest <- xgb.DMatrix(data=xg_test, label=xg_test.y)"
   ]
  },
  {
   "cell_type": "code",
   "execution_count": 496,
   "metadata": {
    "collapsed": false
   },
   "outputs": [
    {
     "name": "stdout",
     "output_type": "stream",
     "text": [
      "[0]\ttrain-merror:0.488362+0.012162\ttest-merror:0.605866+0.021437\n",
      "[20]\ttrain-merror:0.171646+0.008200\ttest-merror:0.454660+0.019618\n",
      "[40]\ttrain-merror:0.101280+0.005373\ttest-merror:0.424674+0.017310\n",
      "[60]\ttrain-merror:0.061802+0.004674\ttest-merror:0.402711+0.020407\n",
      "[80]\ttrain-merror:0.038496+0.003929\ttest-merror:0.385304+0.020115\n",
      "[100]\ttrain-merror:0.022038+0.001826\ttest-merror:0.382162+0.022435\n",
      "[120]\ttrain-merror:0.012620+0.001365\ttest-merror:0.376458+0.020832\n",
      "[140]\ttrain-merror:0.007103+0.001617\ttest-merror:0.371029+0.017578\n",
      "[160]\ttrain-merror:0.003995+0.000993\ttest-merror:0.367041+0.017106\n",
      "[180]\ttrain-merror:0.002252+0.000676\ttest-merror:0.366189+0.022518\n",
      "[200]\ttrain-merror:0.001364+0.000819\ttest-merror:0.362756+0.018848\n",
      "[220]\ttrain-merror:0.000571+0.000417\ttest-merror:0.364765+0.018823\n",
      "[240]\ttrain-merror:0.000190+0.000306\ttest-merror:0.365053+0.019148\n",
      "[260]\ttrain-merror:0.000063+0.000134\ttest-merror:0.361338+0.021556\n",
      "[280]\ttrain-merror:0.000000+0.000000\ttest-merror:0.363331+0.019115\n",
      "[300]\ttrain-merror:0.000000+0.000000\ttest-merror:0.364189+0.021607\n",
      "[320]\ttrain-merror:0.000000+0.000000\ttest-merror:0.361903+0.019980\n",
      "[340]\ttrain-merror:0.000000+0.000000\ttest-merror:0.361907+0.020713\n",
      "[360]\ttrain-merror:0.000000+0.000000\ttest-merror:0.360768+0.021261\n",
      "[380]\ttrain-merror:0.000000+0.000000\ttest-merror:0.358770+0.020465\n",
      "[400]\ttrain-merror:0.000000+0.000000\ttest-merror:0.360483+0.021387\n",
      "[420]\ttrain-merror:0.000000+0.000000\ttest-merror:0.359626+0.021236\n",
      "[440]\ttrain-merror:0.000000+0.000000\ttest-merror:0.359631+0.021673\n",
      "[460]\ttrain-merror:0.000000+0.000000\ttest-merror:0.356779+0.021196\n",
      "[480]\ttrain-merror:0.000000+0.000000\ttest-merror:0.356206+0.019681\n"
     ]
    }
   ],
   "source": [
    "# cross validate to select optimal value for number of rounds\n",
    "n_rounds.cv <- 500\n",
    "params <- list(booster = \"gbtree\", objective = \"multi:softmax\",\n",
    "               num_class = 4, eval_metric = 'merror',\n",
    "               max_depth = 6, eta = 0.1,\n",
    "               colsample_bytree = 0.9, subsample = 0.9)\n",
    "\n",
    "bst.cv <- xgb.cv(params, dtrain, n_rounds.cv, nfold = 10, metrics = {'merror'},\n",
    "                 print.every.n = 20, prediction = TRUE)"
   ]
  },
  {
   "cell_type": "code",
   "execution_count": 486,
   "metadata": {
    "collapsed": false
   },
   "outputs": [
    {
     "data": {
      "text/html": [
       "177"
      ],
      "text/latex": [
       "177"
      ],
      "text/markdown": [
       "177"
      ],
      "text/plain": [
       "[1] 177"
      ]
     },
     "metadata": {},
     "output_type": "display_data"
    }
   ],
   "source": [
    "n_rounds.train <- which.min(bst.cv$dt[, test.merror.mean])\n",
    "n_rounds.train"
   ]
  },
  {
   "cell_type": "code",
   "execution_count": 497,
   "metadata": {
    "collapsed": false,
    "scrolled": true
   },
   "outputs": [
    {
     "name": "stdout",
     "output_type": "stream",
     "text": [
      "[0]\txgbTrain-merror:0.251553\n",
      "[1]\txgbTrain-merror:0.178571\n",
      "[2]\txgbTrain-merror:0.133540\n",
      "[3]\txgbTrain-merror:0.085404\n",
      "[4]\txgbTrain-merror:0.065217\n",
      "[5]\txgbTrain-merror:0.055901\n",
      "[6]\txgbTrain-merror:0.048137\n",
      "[7]\txgbTrain-merror:0.038820\n",
      "[8]\txgbTrain-merror:0.032609\n",
      "[9]\txgbTrain-merror:0.018634\n",
      "[10]\txgbTrain-merror:0.015528\n",
      "[11]\txgbTrain-merror:0.017081\n",
      "[12]\txgbTrain-merror:0.015528\n",
      "[13]\txgbTrain-merror:0.013975\n",
      "[14]\txgbTrain-merror:0.010870\n",
      "[15]\txgbTrain-merror:0.007764\n",
      "[16]\txgbTrain-merror:0.007764\n",
      "[17]\txgbTrain-merror:0.004658\n",
      "[18]\txgbTrain-merror:0.004658\n",
      "[19]\txgbTrain-merror:0.003106\n",
      "[20]\txgbTrain-merror:0.001553\n",
      "[21]\txgbTrain-merror:0.001553\n",
      "[22]\txgbTrain-merror:0.000000\n",
      "[23]\txgbTrain-merror:0.001553\n",
      "[24]\txgbTrain-merror:0.000000\n",
      "[25]\txgbTrain-merror:0.001553\n",
      "[26]\txgbTrain-merror:0.000000\n",
      "[27]\txgbTrain-merror:0.000000\n",
      "[28]\txgbTrain-merror:0.000000\n",
      "[29]\txgbTrain-merror:0.000000\n",
      "[30]\txgbTrain-merror:0.000000\n",
      "[31]\txgbTrain-merror:0.000000\n",
      "[32]\txgbTrain-merror:0.000000\n",
      "[33]\txgbTrain-merror:0.000000\n",
      "[34]\txgbTrain-merror:0.000000\n",
      "[35]\txgbTrain-merror:0.000000\n",
      "[36]\txgbTrain-merror:0.000000\n",
      "[37]\txgbTrain-merror:0.000000\n",
      "[38]\txgbTrain-merror:0.000000\n",
      "[39]\txgbTrain-merror:0.000000\n",
      "[40]\txgbTrain-merror:0.000000\n",
      "[41]\txgbTrain-merror:0.000000\n",
      "[42]\txgbTrain-merror:0.000000\n",
      "[43]\txgbTrain-merror:0.000000\n",
      "[44]\txgbTrain-merror:0.000000\n",
      "[45]\txgbTrain-merror:0.000000\n",
      "[46]\txgbTrain-merror:0.000000\n",
      "[47]\txgbTrain-merror:0.000000\n",
      "[48]\txgbTrain-merror:0.000000\n",
      "[49]\txgbTrain-merror:0.000000\n",
      "[50]\txgbTrain-merror:0.000000\n",
      "[51]\txgbTrain-merror:0.000000\n",
      "[52]\txgbTrain-merror:0.000000\n",
      "[53]\txgbTrain-merror:0.000000\n",
      "[54]\txgbTrain-merror:0.000000\n",
      "[55]\txgbTrain-merror:0.000000\n",
      "[56]\txgbTrain-merror:0.000000\n",
      "[57]\txgbTrain-merror:0.000000\n",
      "[58]\txgbTrain-merror:0.000000\n",
      "[59]\txgbTrain-merror:0.000000\n",
      "[60]\txgbTrain-merror:0.000000\n",
      "[61]\txgbTrain-merror:0.000000\n",
      "[62]\txgbTrain-merror:0.000000\n",
      "[63]\txgbTrain-merror:0.000000\n",
      "[64]\txgbTrain-merror:0.000000\n",
      "[65]\txgbTrain-merror:0.000000\n",
      "[66]\txgbTrain-merror:0.000000\n",
      "[67]\txgbTrain-merror:0.000000\n",
      "[68]\txgbTrain-merror:0.000000\n",
      "[69]\txgbTrain-merror:0.000000\n",
      "[70]\txgbTrain-merror:0.000000\n",
      "[71]\txgbTrain-merror:0.000000\n",
      "[72]\txgbTrain-merror:0.000000\n",
      "[73]\txgbTrain-merror:0.000000\n",
      "[74]\txgbTrain-merror:0.000000\n",
      "[75]\txgbTrain-merror:0.000000\n",
      "[76]\txgbTrain-merror:0.000000\n",
      "[77]\txgbTrain-merror:0.000000\n",
      "[78]\txgbTrain-merror:0.000000\n",
      "[79]\txgbTrain-merror:0.000000\n",
      "[80]\txgbTrain-merror:0.000000\n",
      "[81]\txgbTrain-merror:0.000000\n",
      "[82]\txgbTrain-merror:0.000000\n",
      "[83]\txgbTrain-merror:0.000000\n",
      "[84]\txgbTrain-merror:0.000000\n",
      "[85]\txgbTrain-merror:0.000000\n",
      "[86]\txgbTrain-merror:0.000000\n",
      "[87]\txgbTrain-merror:0.000000\n",
      "[88]\txgbTrain-merror:0.000000\n",
      "[89]\txgbTrain-merror:0.000000\n",
      "[90]\txgbTrain-merror:0.000000\n",
      "[91]\txgbTrain-merror:0.000000\n",
      "[92]\txgbTrain-merror:0.000000\n",
      "[93]\txgbTrain-merror:0.000000\n",
      "[94]\txgbTrain-merror:0.000000\n",
      "[95]\txgbTrain-merror:0.000000\n",
      "[96]\txgbTrain-merror:0.000000\n",
      "[97]\txgbTrain-merror:0.000000\n",
      "[98]\txgbTrain-merror:0.000000\n",
      "[99]\txgbTrain-merror:0.000000\n",
      "[100]\txgbTrain-merror:0.000000\n",
      "[101]\txgbTrain-merror:0.000000\n",
      "[102]\txgbTrain-merror:0.000000\n",
      "[103]\txgbTrain-merror:0.000000\n",
      "[104]\txgbTrain-merror:0.000000\n",
      "[105]\txgbTrain-merror:0.000000\n",
      "[106]\txgbTrain-merror:0.000000\n",
      "[107]\txgbTrain-merror:0.000000\n",
      "[108]\txgbTrain-merror:0.000000\n",
      "[109]\txgbTrain-merror:0.000000\n",
      "[110]\txgbTrain-merror:0.000000\n",
      "[111]\txgbTrain-merror:0.000000\n",
      "[112]\txgbTrain-merror:0.000000\n",
      "[113]\txgbTrain-merror:0.000000\n",
      "[114]\txgbTrain-merror:0.000000\n",
      "[115]\txgbTrain-merror:0.000000\n",
      "[116]\txgbTrain-merror:0.000000\n",
      "[117]\txgbTrain-merror:0.000000\n",
      "[118]\txgbTrain-merror:0.000000\n",
      "[119]\txgbTrain-merror:0.000000\n",
      "[120]\txgbTrain-merror:0.000000\n",
      "[121]\txgbTrain-merror:0.000000\n",
      "[122]\txgbTrain-merror:0.000000\n",
      "[123]\txgbTrain-merror:0.000000\n",
      "[124]\txgbTrain-merror:0.000000\n",
      "[125]\txgbTrain-merror:0.000000\n",
      "[126]\txgbTrain-merror:0.000000\n",
      "[127]\txgbTrain-merror:0.000000\n",
      "[128]\txgbTrain-merror:0.000000\n",
      "[129]\txgbTrain-merror:0.000000\n",
      "[130]\txgbTrain-merror:0.000000\n",
      "[131]\txgbTrain-merror:0.000000\n",
      "[132]\txgbTrain-merror:0.000000\n",
      "[133]\txgbTrain-merror:0.000000\n",
      "[134]\txgbTrain-merror:0.000000\n",
      "[135]\txgbTrain-merror:0.000000\n",
      "[136]\txgbTrain-merror:0.000000\n",
      "[137]\txgbTrain-merror:0.000000\n",
      "[138]\txgbTrain-merror:0.000000\n",
      "[139]\txgbTrain-merror:0.000000\n",
      "[140]\txgbTrain-merror:0.000000\n",
      "[141]\txgbTrain-merror:0.000000\n",
      "[142]\txgbTrain-merror:0.000000\n",
      "[143]\txgbTrain-merror:0.000000\n",
      "[144]\txgbTrain-merror:0.000000\n",
      "[145]\txgbTrain-merror:0.000000\n",
      "[146]\txgbTrain-merror:0.000000\n",
      "[147]\txgbTrain-merror:0.000000\n",
      "[148]\txgbTrain-merror:0.000000\n",
      "[149]\txgbTrain-merror:0.000000\n",
      "[150]\txgbTrain-merror:0.000000\n",
      "[151]\txgbTrain-merror:0.000000\n",
      "[152]\txgbTrain-merror:0.000000\n",
      "[153]\txgbTrain-merror:0.000000\n",
      "[154]\txgbTrain-merror:0.000000\n",
      "[155]\txgbTrain-merror:0.000000\n",
      "[156]\txgbTrain-merror:0.000000\n",
      "[157]\txgbTrain-merror:0.000000\n",
      "[158]\txgbTrain-merror:0.000000\n",
      "[159]\txgbTrain-merror:0.000000\n",
      "[160]\txgbTrain-merror:0.000000\n",
      "[161]\txgbTrain-merror:0.000000\n",
      "[162]\txgbTrain-merror:0.000000\n",
      "[163]\txgbTrain-merror:0.000000\n",
      "[164]\txgbTrain-merror:0.000000\n",
      "[165]\txgbTrain-merror:0.000000\n",
      "[166]\txgbTrain-merror:0.000000\n",
      "[167]\txgbTrain-merror:0.000000\n",
      "[168]\txgbTrain-merror:0.000000\n",
      "[169]\txgbTrain-merror:0.000000\n",
      "[170]\txgbTrain-merror:0.000000\n",
      "[171]\txgbTrain-merror:0.000000\n",
      "[172]\txgbTrain-merror:0.000000\n",
      "[173]\txgbTrain-merror:0.000000\n",
      "[174]\txgbTrain-merror:0.000000\n",
      "[175]\txgbTrain-merror:0.000000\n",
      "[176]\txgbTrain-merror:0.000000\n"
     ]
    }
   ],
   "source": [
    "# create the model\n",
    "bst <- xgb.train(   params              = param, \n",
    "                    data                = dtrain, \n",
    "                    nrounds             = n_rounds.train, \n",
    "                    verbose             = 1,\n",
    "                    watchlist           = watchlist,\n",
    "                    maximize            = FALSE\n",
    ")"
   ]
  },
  {
   "cell_type": "code",
   "execution_count": 498,
   "metadata": {
    "collapsed": true
   },
   "outputs": [],
   "source": [
    "# generate predictions from model\n",
    "pred <- predict(bst, xg_test);"
   ]
  },
  {
   "cell_type": "code",
   "execution_count": 500,
   "metadata": {
    "collapsed": false
   },
   "outputs": [
    {
     "data": {
      "text/plain": [
       "Confusion Matrix and Statistics\n",
       "\n",
       "          Reference\n",
       "Prediction   0   1   2   3\n",
       "         0  89  84  59  15\n",
       "         1 102  97  66  18\n",
       "         2  20  20  19   2\n",
       "         3   3   3   3   0\n",
       "\n",
       "Overall Statistics\n",
       "                                          \n",
       "               Accuracy : 0.342           \n",
       "                 95% CI : (0.304, 0.381)  \n",
       "    No Information Rate : 0.357           \n",
       "    P-Value [Acc > NIR] : 0.791           \n",
       "                                          \n",
       "                  Kappa : 0.013           \n",
       " Mcnemar's Test P-Value : 0.00000000000542\n",
       "\n",
       "Statistics by Class:\n",
       "\n",
       "                     Class: 0 Class: 1 Class: 2 Class: 3\n",
       "Sensitivity             0.416    0.475   0.1293   0.0000\n",
       "Specificity             0.591    0.530   0.9073   0.9841\n",
       "Pos Pred Value          0.360    0.343   0.3115   0.0000\n",
       "Neg Pred Value          0.646    0.662   0.7625   0.9408\n",
       "Prevalence              0.357    0.340   0.2450   0.0583\n",
       "Detection Rate          0.148    0.162   0.0317   0.0000\n",
       "Detection Prevalence    0.412    0.472   0.1017   0.0150\n",
       "Balanced Accuracy       0.503    0.503   0.5183   0.4920"
      ]
     },
     "metadata": {},
     "output_type": "display_data"
    }
   ],
   "source": [
    "confusionMatrix(pred, actual)"
   ]
  },
  {
   "cell_type": "code",
   "execution_count": null,
   "metadata": {
    "collapsed": false
   },
   "outputs": [],
   "source": [
    "feature.importance <- xgb.importance(dimnames(xg_train)[[2]], model = bst)\n",
    "head(feature.importance)"
   ]
  },
  {
   "cell_type": "code",
   "execution_count": 464,
   "metadata": {
    "collapsed": false
   },
   "outputs": [
    {
     "data": {},
     "metadata": {},
     "output_type": "display_data"
    },
    {
     "data": {
      "image/png": "[encoded data removed]",
      "text/plain": [
       "plot without title"
      ]
     },
     "metadata": {},
     "output_type": "display_data"
    }
   ],
   "source": [
    "xgb.plot.importance(feature.importance)"
   ]
  },
  {
   "cell_type": "code",
   "execution_count": null,
   "metadata": {
    "collapsed": true
   },
   "outputs": [],
   "source": []
  }
 ],
 "metadata": {
  "anaconda-cloud": {},
  "kernelspec": {
   "display_name": "R",
   "language": "R",
   "name": "ir"
  },
  "language_info": {
   "codemirror_mode": "r",
   "file_extension": ".r",
   "mimetype": "text/x-r-source",
   "name": "R",
   "pygments_lexer": "r",
   "version": "3.3.1"
  }
 },
 "nbformat": 4,
 "nbformat_minor": 0
}
