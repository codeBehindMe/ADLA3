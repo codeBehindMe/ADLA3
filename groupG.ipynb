{
 "cells": [
  {
   "cell_type": "markdown",
   "metadata": {},
   "source": [
    "# Assessment 3 - A new tool for detecting prostate cancers\n",
    "### Authors: Jeffrey Mills (28083938), Aruna Tillekeratne (), Peter Tadich\t()\n",
    "\n",
    "---\n",
    "### Table of Contents\n",
    "\n",
    "[1. Exploratory Data Analysis](#1.-Exploratory-Data-Analysis)\n",
    "\n",
    "[2. EDA Report](#2.-EDA-Report)\n",
    "\n",
    "[3. XGBoost](#3.-XGBoost)\n",
    "\n",
    "[4. Random Forest](#4.-Random-Forest)\n",
    "\n",
    "[5. Deep Learning](#5.-Deep-Learning)\n",
    "\n",
    "[6. Turbo Boost](#6.-Turbo-Boost)\n",
    "\n",
    "[7. KNN Classification](#7.-KNN-Classification)\n",
    "\n",
    "[8. Support Vector Machine](#8.-Support-Vector-Machine)\n",
    "\n",
    "[9. Classification Trees](#9.-Classification-Trees)\n",
    "\n",
    "[10. Rule-based Models](#10.-Rule-based-Models)\n",
    "\n",
    "[11. Flexible Discriminant Analysis](#11.-Flexible-Discriminant-Analysis)\n",
    "\n",
    "[12. Deep Learning](#12.-Deep-Learning)\n",
    "\n",
    "\n",
    "Ensemble Predictors\n",
    "Summary Report\n",
    "\n",
    "[References](#References)\n",
    "\n",
    "---"
   ]
  },
  {
   "cell_type": "code",
   "execution_count": 103,
   "metadata": {
    "collapsed": false
   },
   "outputs": [
    {
     "data": {
      "text/plain": [
       "R version 3.3.1 (2016-06-21)\n",
       "Platform: x86_64-w64-mingw32/x64 (64-bit)\n",
       "Running under: Windows 8.1 x64 (build 9600)\n",
       "\n",
       "locale:\n",
       "[1] LC_COLLATE=English_Australia.1252  LC_CTYPE=English_Australia.1252   \n",
       "[3] LC_MONETARY=English_Australia.1252 LC_NUMERIC=C                      \n",
       "[5] LC_TIME=English_Australia.1252    \n",
       "\n",
       "attached base packages:\n",
       " [1] parallel  splines   grid      stats     graphics  grDevices utils    \n",
       " [8] datasets  methods   base     \n",
       "\n",
       "other attached packages:\n",
       " [1] h2o_3.10.0.8          statmod_1.4.27        sqldf_0.4-10         \n",
       " [4] gsubfn_0.6-6          proto_1.0.0           RSQLite_1.1          \n",
       " [7] pROC_1.8              doParallel_1.0.10     iterators_1.0.8      \n",
       "[10] foreach_1.4.3         kernlab_0.9-25        earth_4.4.7          \n",
       "[13] plotmo_3.3.2          TeachingDemos_2.10    plotrix_3.6-3        \n",
       "[16] mda_0.4-9             class_7.3-14          C50_0.1.0-24         \n",
       "[19] moments_0.14          tabplot_1.3           ffbase_0.12.3        \n",
       "[22] ff_2.2-13             bit_1.1-12            colorspace_1.2-6     \n",
       "[25] gbm_2.1.1             survival_2.40-1       plyr_1.8.4           \n",
       "[28] ROSE_0.0-3            DMwR_0.4.1            randomForest_4.6-12  \n",
       "[31] Ckmeans.1d.dp_3.4.6-4 Matrix_1.2-6          xgboost_0.4-4        \n",
       "[34] MASS_7.3-45           caretEnsemble_2.0.0   caret_6.0-73         \n",
       "[37] lattice_0.20-33       ROCR_1.0-7            gplots_3.0.1         \n",
       "[40] psych_1.6.9           ggplot2_2.2.0        \n",
       "\n",
       "loaded via a namespace (and not attached):\n",
       " [1] nlme_3.1-128       bitops_1.0-6       pbkrtest_0.4-6     xts_0.9-7         \n",
       " [5] repr_0.7           tools_3.3.1        R6_2.1.2           rpart_4.1-10      \n",
       " [9] KernSmooth_2.23-15 DBI_0.5-1          lazyeval_0.2.0     mgcv_1.8-16       \n",
       "[13] nnet_7.3-12        gridExtra_2.2.1    mnormt_1.5-5       compiler_3.3.1    \n",
       "[17] chron_2.3-47       quantreg_5.26      SparseM_1.7        caTools_1.17.1    \n",
       "[21] scales_0.4.1       pbapply_1.3-1      pbdZMQ_0.2-3       stringr_1.0.0     \n",
       "[25] digest_0.6.9       foreign_0.8-66     minqa_1.2.4        lme4_1.1-12       \n",
       "[29] TTR_0.23-1         quantmod_0.4-5     zoo_1.7-13         jsonlite_0.9.22   \n",
       "[33] gtools_3.5.0       ModelMetrics_1.1.0 car_2.1-2          RCurl_1.95-4.8    \n",
       "[37] magrittr_1.5       Formula_1.2-1      Rcpp_0.12.8        IRkernel_0.7      \n",
       "[41] munsell_0.4.3      abind_1.4-5        partykit_1.1-1     stringi_1.1.1     \n",
       "[45] gdata_2.17.0       crayon_1.3.1       IRdisplay_0.4.3    uuid_0.1-2        \n",
       "[49] reshape2_1.4.1     codetools_0.2-14   stats4_3.3.1       fastmatch_1.0-4   \n",
       "[53] evaluate_0.9       data.table_1.9.6   nloptr_1.0.4       MatrixModels_0.4-1\n",
       "[57] gtable_0.2.0       assertthat_0.1     e1071_1.6-7        tibble_1.0        \n",
       "[61] memoise_1.0.0     "
      ]
     },
     "metadata": {},
     "output_type": "display_data"
    }
   ],
   "source": [
    "sessionInfo()"
   ]
  },
  {
   "cell_type": "code",
   "execution_count": 104,
   "metadata": {
    "collapsed": true
   },
   "outputs": [],
   "source": [
    "# disable scientific notation and set to 4 digits\n",
    "options(scipen=999)\n",
    "options(digits=4)\n",
    "# set the default plot size\n",
    "options(repr.plot.width = 6)\n",
    "options(repr.plot.height = 4)\n",
    "seed=123"
   ]
  },
  {
   "cell_type": "code",
   "execution_count": null,
   "metadata": {
    "collapsed": false
   },
   "outputs": [],
   "source": []
  },
  {
   "cell_type": "code",
   "execution_count": 105,
   "metadata": {
    "collapsed": false,
    "scrolled": true
   },
   "outputs": [],
   "source": [
    "# only install if not already installed\n",
    "list.of.packages <- c(\"ggplot2\", \"psych\", \"ROCR\", \"leaps\", \"glmnet\", \"caret\", \"caretEnsemble\", \"xgboost\", \"Matrix\", \n",
    "                      \"Ckmeans.1d.dp\", \"randomForest\", \"MASS\", \"DMwR\", \"ROSE\", \"plyr\", \"h2o\", \"gbm\", \"colorspace\", \"tabplot\",\n",
    "                    \"ffbase\", \"moments\", \"C50\", \"mda\", \"earth\", \"kernlab\", \"doParallel\", \"pROC\", \"sqldf\", \"RSQLite\",\n",
    "                    \"gsubfn\", \"proto\")\n",
    "new.packages <- list.of.packages[!(list.of.packages %in% installed.packages()[,\"Package\"])]\n",
    "if(length(new.packages)) install.packages(new.packages, repos=\"http://cran.uk.r-project.org\", dependencies = TRUE)"
   ]
  },
  {
   "cell_type": "code",
   "execution_count": 106,
   "metadata": {
    "collapsed": false
   },
   "outputs": [],
   "source": [
    "# import ggplot for some of the more fancier plots if needed\n",
    "library(\"ggplot2\")\n",
    "# import more comprehensive summary stats package\n",
    "library(psych)\n",
    "# import ROCR for easier model performance checking\n",
    "library(\"ROCR\")\n",
    "\n",
    "library(\"caret\")\n",
    "library(\"caretEnsemble\")\n",
    "library(\"MASS\")\n",
    "\n",
    "library(\"xgboost\")\n",
    "library(\"Matrix\")\n",
    "library(\"Ckmeans.1d.dp\")\n",
    "library(\"randomForest\")\n",
    "library(\"DMwR\")\n",
    "library(\"ROSE\")\n",
    "library(\"plyr\")\n",
    "library(\"gbm\")\n",
    "library(\"colorspace\")\n",
    "library(\"tabplot\")\n",
    "\n",
    "\n",
    "library(\"moments\")\n",
    "library(\"C50\")\n",
    "library(\"mda\")\n",
    "library(\"earth\")\n",
    "library(\"kernlab\")\n",
    "library(\"doParallel\")\n",
    "library(\"pROC\")\n",
    "library(\"RSQLite\")\n",
    "library(\"sqldf\")\n",
    "\n",
    "library(\"ggplot2\")\n",
    "library(\"caret\")\n",
    "require(\"RSQLite\")\n",
    "require(\"sqldf\")\n",
    "library(\"gsubfn\")\n",
    "library(\"proto\")\n",
    "\n",
    "require(\"h2o\")\n",
    "require(\"ggplot2\")\n"
   ]
  },
  {
   "cell_type": "code",
   "execution_count": 233,
   "metadata": {
    "collapsed": false
   },
   "outputs": [],
   "source": [
    "# import local utilities.R file\n",
    "source(\"./utilities.r\")"
   ]
  },
  {
   "cell_type": "markdown",
   "metadata": {},
   "source": [
    "## 1. Exploratory Data Analysis"
   ]
  },
  {
   "cell_type": "code",
   "execution_count": 234,
   "metadata": {
    "collapsed": true
   },
   "outputs": [],
   "source": [
    "prostate <- read.csv(\"./prostate.csv\")"
   ]
  },
  {
   "cell_type": "code",
   "execution_count": null,
   "metadata": {
    "collapsed": false
   },
   "outputs": [],
   "source": []
  },
  {
   "cell_type": "code",
   "execution_count": 235,
   "metadata": {
    "collapsed": false
   },
   "outputs": [
    {
     "data": {
      "text/html": [
       "<table>\n",
       "<thead><tr><th></th><th scope=col>ID</th><th scope=col>ATT1</th><th scope=col>ATT2</th><th scope=col>ATT3</th><th scope=col>ATT4</th><th scope=col>ATT5</th><th scope=col>ATT6</th><th scope=col>ATT7</th><th scope=col>ATT8</th><th scope=col>ATT9</th><th scope=col>ATT10</th><th scope=col>Result</th></tr></thead>\n",
       "<tbody>\n",
       "\t<tr><th scope=row>1</th><td>1</td><td>2</td><td>4</td><td>2</td><td>6</td><td>5</td><td>7</td><td>1</td><td>2</td><td>6</td><td>8</td><td>0</td></tr>\n",
       "\t<tr><th scope=row>2</th><td> 2</td><td> 5</td><td> 8</td><td>10</td><td> 2</td><td> 2</td><td> 1</td><td> 1</td><td> 5</td><td> 6</td><td> 1</td><td> 1</td></tr>\n",
       "\t<tr><th scope=row>3</th><td>3</td><td>3</td><td>7</td><td>7</td><td>9</td><td>2</td><td>5</td><td>2</td><td>7</td><td>1</td><td>1</td><td>1</td></tr>\n",
       "\t<tr><th scope=row>4</th><td>4</td><td>5</td><td>4</td><td>5</td><td>9</td><td>4</td><td>8</td><td>4</td><td>6</td><td>7</td><td>2</td><td>0</td></tr>\n",
       "\t<tr><th scope=row>5</th><td>5</td><td>5</td><td>5</td><td>4</td><td>2</td><td>8</td><td>5</td><td>3</td><td>1</td><td>7</td><td>1</td><td>2</td></tr>\n",
       "\t<tr><th scope=row>6</th><td> 6</td><td> 4</td><td> 7</td><td> 5</td><td> 4</td><td> 2</td><td> 4</td><td>10</td><td> 3</td><td> 9</td><td> 5</td><td> 0</td></tr>\n",
       "</tbody>\n",
       "</table>\n"
      ],
      "text/latex": [
       "\\begin{tabular}{r|llllllllllll}\n",
       "  & ID & ATT1 & ATT2 & ATT3 & ATT4 & ATT5 & ATT6 & ATT7 & ATT8 & ATT9 & ATT10 & Result\\\\\n",
       "\\hline\n",
       "\t1 & 1 & 2 & 4 & 2 & 6 & 5 & 7 & 1 & 2 & 6 & 8 & 0\\\\\n",
       "\t2 &  2 &  5 &  8 & 10 &  2 &  2 &  1 &  1 &  5 &  6 &  1 &  1\\\\\n",
       "\t3 & 3 & 3 & 7 & 7 & 9 & 2 & 5 & 2 & 7 & 1 & 1 & 1\\\\\n",
       "\t4 & 4 & 5 & 4 & 5 & 9 & 4 & 8 & 4 & 6 & 7 & 2 & 0\\\\\n",
       "\t5 & 5 & 5 & 5 & 4 & 2 & 8 & 5 & 3 & 1 & 7 & 1 & 2\\\\\n",
       "\t6 &  6 &  4 &  7 &  5 &  4 &  2 &  4 & 10 &  3 &  9 &  5 &  0\\\\\n",
       "\\end{tabular}\n"
      ],
      "text/plain": [
       "  ID ATT1 ATT2 ATT3 ATT4 ATT5 ATT6 ATT7 ATT8 ATT9 ATT10 Result\n",
       "1  1    2    4    2    6    5    7    1    2    6     8      0\n",
       "2  2    5    8   10    2    2    1    1    5    6     1      1\n",
       "3  3    3    7    7    9    2    5    2    7    1     1      1\n",
       "4  4    5    4    5    9    4    8    4    6    7     2      0\n",
       "5  5    5    5    4    2    8    5    3    1    7     1      2\n",
       "6  6    4    7    5    4    2    4   10    3    9     5      0"
      ]
     },
     "metadata": {},
     "output_type": "display_data"
    }
   ],
   "source": [
    "# Check the head of the dataframe\n",
    "head(prostate)"
   ]
  },
  {
   "cell_type": "code",
   "execution_count": 236,
   "metadata": {
    "collapsed": false
   },
   "outputs": [
    {
     "name": "stdout",
     "output_type": "stream",
     "text": [
      "'data.frame':\t3000 obs. of  12 variables:\n",
      " $ ID    : int  1 2 3 4 5 6 7 8 9 10 ...\n",
      " $ ATT1  : int  2 5 3 5 5 4 2 10 4 2 ...\n",
      " $ ATT2  : int  4 8 7 4 5 7 1 5 9 1 ...\n",
      " $ ATT3  : int  2 10 7 5 4 5 5 4 4 2 ...\n",
      " $ ATT4  : int  6 2 9 9 2 4 7 8 2 10 ...\n",
      " $ ATT5  : int  5 2 2 4 8 2 10 4 6 10 ...\n",
      " $ ATT6  : int  7 1 5 8 5 4 3 7 6 2 ...\n",
      " $ ATT7  : int  1 1 2 4 3 10 7 3 8 2 ...\n",
      " $ ATT8  : int  2 5 7 6 1 3 1 6 8 5 ...\n",
      " $ ATT9  : int  6 6 1 7 7 9 10 7 4 1 ...\n",
      " $ ATT10 : int  8 1 1 2 1 5 7 3 3 3 ...\n",
      " $ Result: int  0 1 1 0 2 0 0 3 0 3 ...\n"
     ]
    }
   ],
   "source": [
    "# Check structure of the datatypes\n",
    "str(prostate)"
   ]
  },
  {
   "cell_type": "markdown",
   "metadata": {},
   "source": [
    "We can drop the ID column as it adds no benefit to our modelling"
   ]
  },
  {
   "cell_type": "code",
   "execution_count": 237,
   "metadata": {
    "collapsed": false
   },
   "outputs": [],
   "source": [
    "prostate$ID <- NULL"
   ]
  },
  {
   "cell_type": "markdown",
   "metadata": {},
   "source": [
    "Given that we know the **Result** variable is our target variable which represents one of 4 stages of the cancer (0 for curable, and 1 for tumour stage, 2 for node stage and 3 for incurable cancers) - this should be represented as a factor. "
   ]
  },
  {
   "cell_type": "code",
   "execution_count": 238,
   "metadata": {
    "collapsed": false
   },
   "outputs": [],
   "source": [
    "prostate$Result <- as.factor(prostate$Result) "
   ]
  },
  {
   "cell_type": "code",
   "execution_count": 239,
   "metadata": {
    "collapsed": false
   },
   "outputs": [
    {
     "data": {
      "text/html": [
       "3000"
      ],
      "text/latex": [
       "3000"
      ],
      "text/markdown": [
       "3000"
      ],
      "text/plain": [
       "[1] 3000"
      ]
     },
     "metadata": {},
     "output_type": "display_data"
    }
   ],
   "source": [
    "# Let's check for incomplete observations\n",
    "nrow(prostate[complete.cases(prostate),])"
   ]
  },
  {
   "cell_type": "code",
   "execution_count": 240,
   "metadata": {
    "collapsed": false
   },
   "outputs": [
    {
     "name": "stdout",
     "output_type": "stream",
     "text": [
      "\n",
      "   0    1    2    3 \n",
      "1082 1080  642  196 \n"
     ]
    }
   ],
   "source": [
    "# Check the proportions of each factor within the Result variable in our train set\n",
    "print(table(prostate$Result))"
   ]
  },
  {
   "cell_type": "markdown",
   "metadata": {},
   "source": [
    "We have class imbalance. This will need to be addressed when training our models, potentially with some sampling techniques. "
   ]
  },
  {
   "cell_type": "code",
   "execution_count": 115,
   "metadata": {
    "collapsed": false
   },
   "outputs": [
    {
     "data": {
      "text/html": [
       "<table>\n",
       "<thead><tr><th></th><th scope=col>vars</th><th scope=col>n</th><th scope=col>mean</th><th scope=col>sd</th><th scope=col>median</th><th scope=col>trimmed</th><th scope=col>mad</th><th scope=col>min</th><th scope=col>max</th><th scope=col>range</th><th scope=col>skew</th><th scope=col>kurtosis</th><th scope=col>se</th></tr></thead>\n",
       "<tbody>\n",
       "\t<tr><th scope=row>ATT1</th><td>   1.000</td><td>3000.000</td><td>   5.815</td><td>   2.661</td><td>   6.000</td><td>   5.769</td><td>   2.965</td><td>   2.000</td><td>  10.000</td><td>   8.000</td><td>   0.097</td><td>  -1.177</td><td>   0.049</td></tr>\n",
       "\t<tr><th scope=row>ATT2</th><td>   2.000</td><td>3000.000</td><td>   4.501</td><td>   2.748</td><td>   4.000</td><td>   4.315</td><td>   2.965</td><td>   1.000</td><td>  10.000</td><td>   9.000</td><td>   0.402</td><td>  -0.980</td><td>   0.050</td></tr>\n",
       "\t<tr><th scope=row>ATT3</th><td>   3.000</td><td>3000.000</td><td>   5.830</td><td>   2.655</td><td>   6.000</td><td>   5.788</td><td>   2.965</td><td>   2.000</td><td>  10.000</td><td>   8.000</td><td>   0.099</td><td>  -1.173</td><td>   0.048</td></tr>\n",
       "\t<tr><th scope=row>ATT4</th><td>   4.000</td><td>3000.000</td><td>   5.829</td><td>   2.634</td><td>   6.000</td><td>   5.786</td><td>   2.965</td><td>   2.000</td><td>  10.000</td><td>   8.000</td><td>   0.083</td><td>  -1.165</td><td>   0.048</td></tr>\n",
       "\t<tr><th scope=row>ATT5</th><td>   5.000</td><td>3000.000</td><td>   5.755</td><td>   2.622</td><td>   6.000</td><td>   5.694</td><td>   2.965</td><td>   2.000</td><td>  10.000</td><td>   8.000</td><td>   0.129</td><td>  -1.129</td><td>   0.048</td></tr>\n",
       "\t<tr><th scope=row>ATT6</th><td>   6.000</td><td>3000.000</td><td>   4.431</td><td>   2.694</td><td>   4.000</td><td>   4.240</td><td>   2.965</td><td>   1.000</td><td>  10.000</td><td>   9.000</td><td>   0.446</td><td>  -0.930</td><td>   0.049</td></tr>\n",
       "\t<tr><th scope=row>ATT7</th><td>   7.000</td><td>3000.000</td><td>   4.479</td><td>   2.741</td><td>   4.000</td><td>   4.297</td><td>   2.965</td><td>   1.000</td><td>  10.000</td><td>   9.000</td><td>   0.393</td><td>  -1.035</td><td>   0.050</td></tr>\n",
       "\t<tr><th scope=row>ATT8</th><td>   8.000</td><td>3000.000</td><td>   4.478</td><td>   2.720</td><td>   4.000</td><td>   4.292</td><td>   2.965</td><td>   1.000</td><td>  10.000</td><td>   9.000</td><td>   0.398</td><td>  -0.962</td><td>   0.050</td></tr>\n",
       "\t<tr><th scope=row>ATT9</th><td>   9.000</td><td>3000.000</td><td>   4.446</td><td>   2.678</td><td>   4.000</td><td>   4.254</td><td>   2.965</td><td>   1.000</td><td>  10.000</td><td>   9.000</td><td>   0.428</td><td>  -0.901</td><td>   0.049</td></tr>\n",
       "\t<tr><th scope=row>ATT10</th><td>  10.000</td><td>3000.000</td><td>   4.459</td><td>   2.698</td><td>   4.000</td><td>   4.271</td><td>   2.965</td><td>   1.000</td><td>  10.000</td><td>   9.000</td><td>   0.409</td><td>  -0.940</td><td>   0.049</td></tr>\n",
       "\t<tr><th scope=row>Result*</th><td>  11.000</td><td>3000.000</td><td>   1.984</td><td>   0.914</td><td>   2.000</td><td>   1.898</td><td>   1.483</td><td>   1.000</td><td>   4.000</td><td>   3.000</td><td>   0.544</td><td>  -0.646</td><td>   0.017</td></tr>\n",
       "</tbody>\n",
       "</table>\n"
      ],
      "text/latex": [
       "\\begin{tabular}{r|lllllllllllll}\n",
       "  & vars & n & mean & sd & median & trimmed & mad & min & max & range & skew & kurtosis & se\\\\\n",
       "\\hline\n",
       "\tATT1 &    1.000 & 3000.000 &    5.815 &    2.661 &    6.000 &    5.769 &    2.965 &    2.000 &   10.000 &    8.000 &    0.097 &   -1.177 &    0.049\\\\\n",
       "\tATT2 &    2.000 & 3000.000 &    4.501 &    2.748 &    4.000 &    4.315 &    2.965 &    1.000 &   10.000 &    9.000 &    0.402 &   -0.980 &    0.050\\\\\n",
       "\tATT3 &    3.000 & 3000.000 &    5.830 &    2.655 &    6.000 &    5.788 &    2.965 &    2.000 &   10.000 &    8.000 &    0.099 &   -1.173 &    0.048\\\\\n",
       "\tATT4 &    4.000 & 3000.000 &    5.829 &    2.634 &    6.000 &    5.786 &    2.965 &    2.000 &   10.000 &    8.000 &    0.083 &   -1.165 &    0.048\\\\\n",
       "\tATT5 &    5.000 & 3000.000 &    5.755 &    2.622 &    6.000 &    5.694 &    2.965 &    2.000 &   10.000 &    8.000 &    0.129 &   -1.129 &    0.048\\\\\n",
       "\tATT6 &    6.000 & 3000.000 &    4.431 &    2.694 &    4.000 &    4.240 &    2.965 &    1.000 &   10.000 &    9.000 &    0.446 &   -0.930 &    0.049\\\\\n",
       "\tATT7 &    7.000 & 3000.000 &    4.479 &    2.741 &    4.000 &    4.297 &    2.965 &    1.000 &   10.000 &    9.000 &    0.393 &   -1.035 &    0.050\\\\\n",
       "\tATT8 &    8.000 & 3000.000 &    4.478 &    2.720 &    4.000 &    4.292 &    2.965 &    1.000 &   10.000 &    9.000 &    0.398 &   -0.962 &    0.050\\\\\n",
       "\tATT9 &    9.000 & 3000.000 &    4.446 &    2.678 &    4.000 &    4.254 &    2.965 &    1.000 &   10.000 &    9.000 &    0.428 &   -0.901 &    0.049\\\\\n",
       "\tATT10 &   10.000 & 3000.000 &    4.459 &    2.698 &    4.000 &    4.271 &    2.965 &    1.000 &   10.000 &    9.000 &    0.409 &   -0.940 &    0.049\\\\\n",
       "\tResult* &   11.000 & 3000.000 &    1.984 &    0.914 &    2.000 &    1.898 &    1.483 &    1.000 &    4.000 &    3.000 &    0.544 &   -0.646 &    0.017\\\\\n",
       "\\end{tabular}\n"
      ],
      "text/plain": [
       "        vars    n mean   sd median trimmed  mad min max range skew kurtosis\n",
       "ATT1       1 3000 5.82 2.66      6    5.77 2.96   2  10     8 0.10    -1.18\n",
       "ATT2       2 3000 4.50 2.75      4    4.32 2.96   1  10     9 0.40    -0.98\n",
       "ATT3       3 3000 5.83 2.65      6    5.79 2.96   2  10     8 0.10    -1.17\n",
       "ATT4       4 3000 5.83 2.63      6    5.79 2.96   2  10     8 0.08    -1.17\n",
       "ATT5       5 3000 5.75 2.62      6    5.69 2.96   2  10     8 0.13    -1.13\n",
       "ATT6       6 3000 4.43 2.69      4    4.24 2.96   1  10     9 0.45    -0.93\n",
       "ATT7       7 3000 4.48 2.74      4    4.30 2.96   1  10     9 0.39    -1.03\n",
       "ATT8       8 3000 4.48 2.72      4    4.29 2.96   1  10     9 0.40    -0.96\n",
       "ATT9       9 3000 4.45 2.68      4    4.25 2.96   1  10     9 0.43    -0.90\n",
       "ATT10     10 3000 4.46 2.70      4    4.27 2.96   1  10     9 0.41    -0.94\n",
       "Result*   11 3000 1.98 0.91      2    1.90 1.48   1   4     3 0.54    -0.65\n",
       "          se\n",
       "ATT1    0.05\n",
       "ATT2    0.05\n",
       "ATT3    0.05\n",
       "ATT4    0.05\n",
       "ATT5    0.05\n",
       "ATT6    0.05\n",
       "ATT7    0.05\n",
       "ATT8    0.05\n",
       "ATT9    0.05\n",
       "ATT10   0.05\n",
       "Result* 0.02"
      ]
     },
     "metadata": {},
     "output_type": "display_data"
    }
   ],
   "source": [
    "round(describe(prostate), 3)"
   ]
  },
  {
   "cell_type": "markdown",
   "metadata": {},
   "source": [
    "No major signs of skewness in the predictor variables. That will help"
   ]
  },
  {
   "cell_type": "code",
   "execution_count": 116,
   "metadata": {
    "collapsed": false
   },
   "outputs": [
    {
     "data": {
      "image/png": "[encoded data removed]",
      "text/plain": [
       "plot without title"
      ]
     },
     "metadata": {},
     "output_type": "display_data"
    },
    {
     "data": {
      "image/png": "[encoded data removed]",
      "text/plain": [
       "plot without title"
      ]
     },
     "metadata": {},
     "output_type": "display_data"
    },
    {
     "data": {
      "image/png": "[encoded data removed]",
      "text/plain": [
       "plot without title"
      ]
     },
     "metadata": {},
     "output_type": "display_data"
    },
    {
     "data": {
      "image/png": "[encoded data removed]",
      "text/plain": [
       "plot without title"
      ]
     },
     "metadata": {},
     "output_type": "display_data"
    },
    {
     "data": {
      "image/png": "[encoded data removed]",
      "text/plain": [
       "plot without title"
      ]
     },
     "metadata": {},
     "output_type": "display_data"
    },
    {
     "data": {
      "image/png": "[encoded data removed]",
      "text/plain": [
       "plot without title"
      ]
     },
     "metadata": {},
     "output_type": "display_data"
    },
    {
     "data": {
      "image/png": "[encoded data removed]",
      "text/plain": [
       "plot without title"
      ]
     },
     "metadata": {},
     "output_type": "display_data"
    },
    {
     "data": {
      "image/png": "[encoded data removed]",
      "text/plain": [
       "plot without title"
      ]
     },
     "metadata": {},
     "output_type": "display_data"
    },
    {
     "data": {
      "image/png": "[encoded data removed]",
      "text/plain": [
       "plot without title"
      ]
     },
     "metadata": {},
     "output_type": "display_data"
    },
    {
     "data": {
      "image/png": "[encoded data removed]",
      "text/plain": [
       "plot without title"
      ]
     },
     "metadata": {},
     "output_type": "display_data"
    }
   ],
   "source": [
    "oldpar <- par() #this records all the default settings\n",
    "par(mfrow=c(1,2)) # this makes to plots in one row\n",
    "par(mar=c(2.1,4.1,2.1,1.1)) #BLTR\n",
    "options(repr.plot.width=8, repr.plot.height=2.5)\n",
    "for (i in names(prostate)) {\n",
    "    if (i != \"Result\") {\n",
    "        hist(prostate[[i]],xlab=NULL,main=NULL)\n",
    "        boxplot(prostate[[i]])\n",
    "        mtext(i,side=3,line=-2, outer=TRUE)\n",
    "    }\n",
    "}\n",
    "suppressWarnings( par(oldpar)) # Restore settings"
   ]
  },
  {
   "cell_type": "markdown",
   "metadata": {},
   "source": [
    "### Let's show the distributions of each feature based on the class of the Result"
   ]
  },
  {
   "cell_type": "code",
   "execution_count": 117,
   "metadata": {
    "collapsed": false,
    "scrolled": false
   },
   "outputs": [
    {
     "data": {},
     "metadata": {},
     "output_type": "display_data"
    },
    {
     "data": {},
     "metadata": {},
     "output_type": "display_data"
    },
    {
     "data": {
      "image/png": "[encoded data removed]",
      "text/plain": [
       "plot without title"
      ]
     },
     "metadata": {},
     "output_type": "display_data"
    },
    {
     "data": {},
     "metadata": {},
     "output_type": "display_data"
    },
    {
     "data": {
      "image/png": "[encoded data removed]",
      "text/plain": [
       "plot without title"
      ]
     },
     "metadata": {},
     "output_type": "display_data"
    },
    {
     "data": {},
     "metadata": {},
     "output_type": "display_data"
    },
    {
     "data": {
      "image/png": "[encoded data removed]",
      "text/plain": [
       "plot without title"
      ]
     },
     "metadata": {},
     "output_type": "display_data"
    },
    {
     "data": {},
     "metadata": {},
     "output_type": "display_data"
    },
    {
     "data": {
      "image/png": "[encoded data removed]",
      "text/plain": [
       "plot without title"
      ]
     },
     "metadata": {},
     "output_type": "display_data"
    },
    {
     "data": {},
     "metadata": {},
     "output_type": "display_data"
    },
    {
     "data": {
      "image/png": "[encoded data removed]",
      "text/plain": [
       "plot without title"
      ]
     },
     "metadata": {},
     "output_type": "display_data"
    },
    {
     "data": {},
     "metadata": {},
     "output_type": "display_data"
    },
    {
     "data": {
      "image/png": "[encoded data removed]",
      "text/plain": [
       "plot without title"
      ]
     },
     "metadata": {},
     "output_type": "display_data"
    },
    {
     "data": {},
     "metadata": {},
     "output_type": "display_data"
    },
    {
     "data": {
      "image/png": "[encoded data removed]",
      "text/plain": [
       "plot without title"
      ]
     },
     "metadata": {},
     "output_type": "display_data"
    },
    {
     "data": {},
     "metadata": {},
     "output_type": "display_data"
    },
    {
     "data": {
      "image/png": "[encoded data removed]",
      "text/plain": [
       "plot without title"
      ]
     },
     "metadata": {},
     "output_type": "display_data"
    },
    {
     "data": {},
     "metadata": {},
     "output_type": "display_data"
    },
    {
     "data": {
      "image/png": "[encoded data removed]",
      "text/plain": [
       "plot without title"
      ]
     },
     "metadata": {},
     "output_type": "display_data"
    },
    {
     "data": {
      "image/png": "[encoded data removed]",
      "text/plain": [
       "plot without title"
      ]
     },
     "metadata": {},
     "output_type": "display_data"
    }
   ],
   "source": [
    "options(repr.plot.width = 3)\n",
    "options(repr.plot.height = 2)\n",
    "par(mfrow = c(2,2));\n",
    "ggplot(prostate, aes(x = Result, y = ATT1)) + geom_boxplot()\n",
    "ggplot(prostate, aes(x = Result, y = ATT2)) + geom_boxplot()\n",
    "ggplot(prostate, aes(x = Result, y = ATT3)) + geom_boxplot()\n",
    "ggplot(prostate, aes(x = Result, y = ATT4)) + geom_boxplot()\n",
    "ggplot(prostate, aes(x = Result, y = ATT5)) + geom_boxplot()\n",
    "ggplot(prostate, aes(x = Result, y = ATT6)) + geom_boxplot()\n",
    "ggplot(prostate, aes(x = Result, y = ATT7)) + geom_boxplot()\n",
    "ggplot(prostate, aes(x = Result, y = ATT8)) + geom_boxplot()\n",
    "ggplot(prostate, aes(x = Result, y = ATT9)) + geom_boxplot()\n",
    "ggplot(prostate, aes(x = Result, y = ATT10)) + geom_boxplot()\n",
    "options(repr.plot.width = 6)\n",
    "options(repr.plot.height = 4)"
   ]
  },
  {
   "cell_type": "markdown",
   "metadata": {},
   "source": [
    "### Can we see any trends in classification between predictor variables?"
   ]
  },
  {
   "cell_type": "code",
   "execution_count": 118,
   "metadata": {
    "collapsed": false
   },
   "outputs": [
    {
     "data": {},
     "metadata": {},
     "output_type": "display_data"
    },
    {
     "data": {
      "image/png": "[encoded data removed]",
      "text/plain": [
       "plot without title"
      ]
     },
     "metadata": {},
     "output_type": "display_data"
    }
   ],
   "source": [
    "qplot(ATT1, ATT2, colour=Result, data=prostate)"
   ]
  },
  {
   "cell_type": "code",
   "execution_count": 119,
   "metadata": {
    "collapsed": false
   },
   "outputs": [
    {
     "data": {},
     "metadata": {},
     "output_type": "display_data"
    },
    {
     "data": {},
     "metadata": {},
     "output_type": "display_data"
    },
    {
     "data": {
      "image/png": "[encoded data removed]",
      "text/plain": [
       "plot without title"
      ]
     },
     "metadata": {},
     "output_type": "display_data"
    },
    {
     "data": {},
     "metadata": {},
     "output_type": "display_data"
    },
    {
     "data": {
      "image/png": "[encoded data removed]",
      "text/plain": [
       "plot without title"
      ]
     },
     "metadata": {},
     "output_type": "display_data"
    },
    {
     "data": {
      "image/png": "[encoded data removed]",
      "text/plain": [
       "plot without title"
      ]
     },
     "metadata": {},
     "output_type": "display_data"
    }
   ],
   "source": [
    "Udf.Utilities.Jitter(prostate,\"ATT1\",\"ATT2\",\"Result\")\n",
    "Udf.Utilities.Jitter(prostate, \"ATT2\", \"ATT3\", \"Result\")\n",
    "Udf.Utilities.Jitter(prostate, \"ATT3\", \"ATT4\", \"Result\")"
   ]
  },
  {
   "cell_type": "code",
   "execution_count": 20,
   "metadata": {
    "collapsed": false
   },
   "outputs": [
    {
     "data": {
      "image/png": "[encoded data removed]",
      "text/plain": [
       "plot without title"
      ]
     },
     "metadata": {},
     "output_type": "display_data"
    }
   ],
   "source": [
    "labels <- prostate[,11]\n",
    "result_col <- rev(rainbow_hcl(4))[as.numeric(labels)]\n",
    "\n",
    "# Plot a SPLOM:\n",
    "# just show the first 50 records and the first 5 columns so we can visualise what is going on\n",
    "pairs(prostate[1:50,1:5], col = result_col,\n",
    "      lower.panel = NULL,\n",
    "       cex.labels=2, pch=19, cex = 1.2)\n",
    "\n",
    "# Add a legend\n",
    "par(xpd = TRUE)\n",
    "legend(x = 0.05, y = 0.4, cex = 2,\n",
    "   legend = as.character(levels(labels)),\n",
    "    fill = unique(result_col))\n",
    "par(xpd = NA)"
   ]
  },
  {
   "cell_type": "code",
   "execution_count": 21,
   "metadata": {
    "collapsed": false
   },
   "outputs": [
    {
     "data": {
      "image/png": "[encoded data removed]",
      "text/plain": [
       "plot without title"
      ]
     },
     "metadata": {},
     "output_type": "display_data"
    }
   ],
   "source": [
    "# now do the last 5 columns\n",
    "pairs(prostate[1:50,5:9], col = result_col,\n",
    "      lower.panel = NULL,\n",
    "       cex.labels=2, pch=19, cex = 1.2)\n",
    "\n",
    "# Add a legend\n",
    "par(xpd = TRUE)\n",
    "legend(x = 0.05, y = 0.4, cex = 2,\n",
    "   legend = as.character(levels(labels)),\n",
    "    fill = unique(result_col))\n",
    "par(xpd = NA)"
   ]
  },
  {
   "cell_type": "markdown",
   "metadata": {},
   "source": [
    "While Scatterplot matrices are not so good for looking at discrete variables - it still gives us an idea of how difficult this classification exercise will be"
   ]
  },
  {
   "cell_type": "markdown",
   "metadata": {},
   "source": [
    "No visualisations so far have given any indication of signification relationships between the predictor variables and the resulting class of prostate cancer"
   ]
  },
  {
   "cell_type": "code",
   "execution_count": 22,
   "metadata": {
    "collapsed": false
   },
   "outputs": [
    {
     "data": {
      "image/png": "[encoded data removed]",
      "text/plain": [
       "plot without title"
      ]
     },
     "metadata": {},
     "output_type": "display_data"
    },
    {
     "data": {
      "image/png": "[encoded data removed]",
      "text/plain": [
       "plot without title"
      ]
     },
     "metadata": {},
     "output_type": "display_data"
    }
   ],
   "source": [
    "tableplot(prostate) # gives you the unsorted image below\n",
    "tableplot(prostate, sortCol=\"Result\") # gives you a sorted image according to class"
   ]
  },
  {
   "cell_type": "markdown",
   "metadata": {},
   "source": [
    "Nothing standing out here either..."
   ]
  },
  {
   "cell_type": "code",
   "execution_count": null,
   "metadata": {
    "collapsed": false
   },
   "outputs": [],
   "source": [
    "# Look for some near zero variance predictors from the original dataset.\n",
    "nzv <- caret::nearZeroVar(prostate[,- c(1,ncol(prostate))],saveMetrics = TRUE)\n",
    "nzv"
   ]
  },
  {
   "cell_type": "markdown",
   "metadata": {},
   "source": [
    "We can see that we don't really have any zero variance predictors. Also all the features seem to have only about 30% unique data points out of the entire data set. The most frequent to the second most frequent value also seems to be spread across the feature space from around 1.2 to 1.1. <br />\n",
    "This shows that the data is quite spread out. Unlikely that the features themselves would do anything.<br />"
   ]
  },
  {
   "cell_type": "markdown",
   "metadata": {},
   "source": [
    "### Let's check the stacked bar plots\n",
    "Per predictor (ignoring variable 'ID') bin the predictor value (in bins 1 to 10 in increments of 1), then normalize to create a stacked bar plot. Do this per response class."
   ]
  },
  {
   "cell_type": "code",
   "execution_count": null,
   "metadata": {
    "collapsed": true
   },
   "outputs": [],
   "source": [
    "# Based on the training dataset get the number of observations per class.\n",
    "n0 <- dim(prostateDatasetTrain[prostateDatasetTrain[['Result']] == 0,])[1];\n",
    "n1 <- dim(prostateDatasetTrain[prostateDatasetTrain[['Result']] == 1,])[1];\n",
    "n2 <- dim(prostateDatasetTrain[prostateDatasetTrain[['Result']] == 2,])[1];\n",
    "n3 <- dim(prostateDatasetTrain[prostateDatasetTrain[['Result']] == 3,])[1];"
   ]
  },
  {
   "cell_type": "code",
   "execution_count": null,
   "metadata": {
    "collapsed": true
   },
   "outputs": [],
   "source": [
    "# Create empty matrices, 1 for each response class.\n",
    "data <- rep(0,100);\n",
    "class0 <- matrix(data, ncol=10, nrow=10);\n",
    "class1 <- matrix(data, ncol=10, nrow=10);\n",
    "class2 <- matrix(data, ncol=10, nrow=10);\n",
    "class3 <- matrix(data, ncol=10, nrow=10);"
   ]
  },
  {
   "cell_type": "code",
   "execution_count": null,
   "metadata": {
    "collapsed": true
   },
   "outputs": [],
   "source": [
    "predictorNames <- names(subset(prostateDatasetTrain, select = -c(Result, ID)));\n",
    "\n",
    "for(i in 0:3){ # For each class.\n",
    "    df <- prostateDatasetTrain[prostateDatasetTrain[['Result']] == i, c(-1,-12)];\n",
    "    cnt <- 1;\n",
    "    for(attributeName in predictorNames){ # For each predictor.\n",
    "        #cat('Attribute name: ', attributeName, '\\n');\n",
    "        freqTable <- table(df[[attributeName]]);\n",
    "        tableNames <- names(freqTable);\n",
    "        for(colName in tableNames){\n",
    "            #cat('   - Column name: ', as.numeric(colName), '[', freqTable[[colName]], ']','\\n');\n",
    "            if(i == 0){\n",
    "                class0[as.numeric(colName), cnt] <- freqTable[[colName]];\n",
    "            }\n",
    "            if(i == 1){\n",
    "                class1[as.numeric(colName), cnt] <- freqTable[[colName]];\n",
    "            }\n",
    "            if(i == 2){\n",
    "                class2[as.numeric(colName), cnt] <- freqTable[[colName]];\n",
    "            }\n",
    "            if(i == 3){\n",
    "                class3[as.numeric(colName), cnt] <- freqTable[[colName]];\n",
    "            }\n",
    "        }\n",
    "        cnt <- cnt + 1;\n",
    "    }\n",
    "}"
   ]
  },
  {
   "cell_type": "code",
   "execution_count": null,
   "metadata": {
    "collapsed": true
   },
   "outputs": [],
   "source": [
    "class0_cnt <- dim(prostateDatasetTrain[prostateDatasetTrain[['Result']] == 0, ])[1];\n",
    "class1_cnt <- dim(prostateDatasetTrain[prostateDatasetTrain[['Result']] == 1, ])[1];\n",
    "class2_cnt <- dim(prostateDatasetTrain[prostateDatasetTrain[['Result']] == 2, ])[1];\n",
    "class3_cnt <- dim(prostateDatasetTrain[prostateDatasetTrain[['Result']] == 3, ])[1];"
   ]
  },
  {
   "cell_type": "code",
   "execution_count": null,
   "metadata": {
    "collapsed": true
   },
   "outputs": [],
   "source": [
    "# Normalize.\n",
    "class0 <- class0/class0_cnt;\n",
    "class1 <- class1/class1_cnt;\n",
    "class2 <- class2/class2_cnt;\n",
    "class3 <- class3/class3_cnt;"
   ]
  },
  {
   "cell_type": "code",
   "execution_count": null,
   "metadata": {
    "collapsed": true
   },
   "outputs": [],
   "source": [
    "par(mfrow = c(2,2));\n",
    "barplot(class0, main = 'Class 0', xlab = 'ATT1 (left) to ATT10 (right).', ylab = 'Normalized predictor freq.');\n",
    "barplot(class1, main = 'Class 1', xlab = 'ATT1 (left) to ATT10 (right).', ylab = 'Normalized predictor freq.');\n",
    "barplot(class2, main = 'Class 2', xlab = 'ATT1 (left) to ATT10 (right).', ylab = 'Normalized predictor freq.');\n",
    "barplot(class3, main = 'Class 3', xlab = 'ATT1 (left) to ATT10 (right).', ylab = 'Normalized predictor freq.');"
   ]
  },
  {
   "cell_type": "markdown",
   "metadata": {},
   "source": [
    "#### NOTE: Darkest shading equates to predictor value of 1. Lightest shading equates to predictor value of 10. \n",
    "The frequency of attribute value (normalized) per response class is shown in the above stacked bar plots. It is noted that within class bar plots there is visually noticeable difference between predictors however across response class per predictor there is visually little difference. The exception to this is response class 3, predictor 'ATT8' has a higher proportion of values at '1' than the other response classes."
   ]
  },
  {
   "cell_type": "code",
   "execution_count": null,
   "metadata": {
    "collapsed": true
   },
   "outputs": [],
   "source": [
    "par(mfrow = c(2,2));\n",
    "barplot(matrix(c(class0[,1],class1[,1],class2[,1],class3[,1]), ncol=4, nrow=10), main = 'ATT1', xlab = 'Class 0 (left) to Class 3 (right).', ylab = 'Normalized predictor freq.');\n",
    "barplot(matrix(c(class0[,2],class1[,2],class2[,2],class3[,2]), ncol=4, nrow=10), main = 'ATT2', xlab = 'Class 0 (left) to Class 3 (right).', ylab = 'Normalized predictor freq.');\n",
    "barplot(matrix(c(class0[,3],class1[,3],class2[,3],class3[,3]), ncol=4, nrow=10), main = 'ATT3', xlab = 'Class 0 (left) to Class 3 (right).', ylab = 'Normalized predictor freq.');\n",
    "barplot(matrix(c(class0[,4],class1[,4],class2[,4],class3[,4]), ncol=4, nrow=10), main = 'ATT4', xlab = 'Class 0 (left) to Class 3 (right).', ylab = 'Normalized predictor freq.');"
   ]
  },
  {
   "cell_type": "code",
   "execution_count": null,
   "metadata": {
    "collapsed": true
   },
   "outputs": [],
   "source": [
    "par(mfrow = c(2,2));\n",
    "barplot(matrix(c(class0[,5],class1[,5],class2[,5],class3[,5]), ncol=4, nrow=10), main = 'ATT5', xlab = 'Class 0 (left) to Class 3 (right).', ylab = 'Normalized predictor freq.');\n",
    "barplot(matrix(c(class0[,6],class1[,6],class2[,6],class3[,6]), ncol=4, nrow=10), main = 'ATT6', xlab = 'Class 0 (left) to Class 3 (right).', ylab = 'Normalized predictor freq.');\n",
    "barplot(matrix(c(class0[,7],class1[,7],class2[,7],class3[,7]), ncol=4, nrow=10), main = 'ATT7', xlab = 'Class 0 (left) to Class 3 (right).', ylab = 'Normalized predictor freq.');\n",
    "barplot(matrix(c(class0[,8],class1[,8],class2[,8],class3[,8]), ncol=4, nrow=10), main = 'ATT8', xlab = 'Class 0 (left) to Class 3 (right).', ylab = 'Normalized predictor freq.');"
   ]
  },
  {
   "cell_type": "code",
   "execution_count": null,
   "metadata": {
    "collapsed": true
   },
   "outputs": [],
   "source": [
    "par(mfrow = c(2,2));\n",
    "barplot(matrix(c(class0[,9],class1[,9],class2[,9],class3[,9]), ncol=4, nrow=10), main = 'ATT9', xlab = 'Class 0 (left) to Class 3 (right).', ylab = 'Normalized predictor freq.');\n",
    "barplot(matrix(c(class0[,10],class1[,10],class2[,10],class3[,10]), ncol=4, nrow=10), main = 'ATT10', xlab = 'Class 0 (left) to Class 3 (right).', ylab = 'Normalized predictor freq.');"
   ]
  },
  {
   "cell_type": "markdown",
   "metadata": {},
   "source": [
    "The above stacked bar plots are normalized frequencies of predictor values across response class 0 to class 3. Visually there is no noticeable across class differences (within predictor), each response class visually appears to have the same normalized proportion of the predictor values. The noticeable exception is predictor 'ATT8'. Shown in predictor 'ATT8' stacked bar plot the normalized proportions of the lower predictor values (1, 2) are increasing from response class 0 to response class 3."
   ]
  },
  {
   "cell_type": "markdown",
   "metadata": {},
   "source": [
    "---\n",
    "# 2. EDA Report"
   ]
  },
  {
   "cell_type": "markdown",
   "metadata": {},
   "source": [
    "- No univariate outliers were identified using Tukey's test or the Hampel identifier.\n",
    "- The bar graph of response variable 'Result' versus response class shows the distribution is unbalanced.\n",
    "- All histograms have a general trend of decreasing frequency (count) per increase in the independent variable.\n",
    "- 'ATT1' and 'ATT3' show the same boxplot across classes. This was also picked up in summary statistics. This suggests that these two predictors maybe non-informative.\n",
    "- The correlation data shows there is little relationship between predictors as all off diagonal cells have strengths less than absolute 0.1."
   ]
  },
  {
   "cell_type": "markdown",
   "metadata": {},
   "source": [
    "When investigating stacked bar plots of normalized frequencies of predictor values across response class 0 to class 3 the only noticeable exception was predictor 'ATT8'. The stacked bar plot of the normalized proportions of the predictor value for predictor 'ATT8' increases from response class 0 to response class 3 at the lower predictor values (1, 2)."
   ]
  },
  {
   "cell_type": "markdown",
   "metadata": {},
   "source": [
    "### Dealing with class imbalance\n",
    "One of the first things that was highlighted with this dataset is the class imbalance in the Result variable. There is a low representation of the 4th class, which could pose some issues for our classification methods, and possibly lead to the creation of a model that is \"cheating\" by simply disregarding the infrequent class to maximise prediction accuracy. This could be a problem if the actual test set used does not have the same imbalance of classes present, so our approach was to keep this firmly in mind and attempt to try various sampling methods for each model. Up-sampling seemed to prove the most effective since it resulted in more data to work with, as apposed to down-sampling which would leave us data-poor."
   ]
  },
  {
   "cell_type": "markdown",
   "metadata": {
    "collapsed": true
   },
   "source": [
    "## Train/Test split\n",
    "Before we do anything, dedicate 20% of our data to an unseen Test set."
   ]
  },
  {
   "cell_type": "code",
   "execution_count": 241,
   "metadata": {
    "collapsed": true
   },
   "outputs": [],
   "source": [
    "# 20% of the sample size\n",
    "smp_size <- floor(0.8 * nrow(prostate))\n",
    "\n",
    "set.seed(seed)\n",
    "train_ind <- sample(seq_len(nrow(prostate)), size = smp_size)\n",
    "\n",
    "train <- prostate[train_ind, ]\n",
    "test <- prostate[-train_ind, ]"
   ]
  },
  {
   "cell_type": "code",
   "execution_count": 242,
   "metadata": {
    "collapsed": true
   },
   "outputs": [],
   "source": [
    "actual <-  as.numeric(test$Result)-1"
   ]
  },
  {
   "cell_type": "code",
   "execution_count": 243,
   "metadata": {
    "collapsed": false
   },
   "outputs": [],
   "source": [
    "actual_factor <- actual\n",
    "actual_factor[actual_factor==0] <- \"curable\"\n",
    "actual_factor[actual_factor==1] <- \"tumour\"\n",
    "actual_factor[actual_factor==2] <- \"node\"\n",
    "actual_factor[actual_factor==3] <- \"incurable\""
   ]
  },
  {
   "cell_type": "markdown",
   "metadata": {},
   "source": [
    "---\n",
    "# 3. XGBoost"
   ]
  },
  {
   "cell_type": "code",
   "execution_count": 317,
   "metadata": {
    "collapsed": false
   },
   "outputs": [],
   "source": [
    "# create an upsample of training to obtain an even split of classes\n",
    "# note that other sampling methods (down, SMOTE) were tried with less success\n",
    "xg_train <- Udf.Utilities.UpSample(train)\n",
    "\n",
    "xg_test <- test"
   ]
  },
  {
   "cell_type": "code",
   "execution_count": 318,
   "metadata": {
    "collapsed": false
   },
   "outputs": [
    {
     "data": {
      "text/plain": [
       "\n",
       "  0   1   2   3 \n",
       "876 876 876 876 "
      ]
     },
     "metadata": {},
     "output_type": "display_data"
    }
   ],
   "source": [
    "# Check the proportions of each factor within the Result variable\n",
    "w <- table(xg_train$Result)\n",
    "w"
   ]
  },
  {
   "cell_type": "code",
   "execution_count": 319,
   "metadata": {
    "collapsed": false
   },
   "outputs": [],
   "source": [
    "# set the target for XGBoost to a numeric range from 0 - 3\n",
    "xg_train.y <- as.numeric(xg_train$Result)-1\n",
    "xg_test.y <- as.numeric(test$Result)-1"
   ]
  },
  {
   "cell_type": "code",
   "execution_count": 320,
   "metadata": {
    "collapsed": false
   },
   "outputs": [],
   "source": [
    "# store the actuals for future comparison\n",
    "#actual <- xg_test.y"
   ]
  },
  {
   "cell_type": "code",
   "execution_count": 321,
   "metadata": {
    "collapsed": false
   },
   "outputs": [],
   "source": [
    "# convert to matrix for boosting method\n",
    "xg_train <- sparse.model.matrix(Result ~ ., data = xg_train)\n",
    "dtrain <- xgb.DMatrix(data=xg_train, label=xg_train.y)"
   ]
  },
  {
   "cell_type": "code",
   "execution_count": 322,
   "metadata": {
    "collapsed": false
   },
   "outputs": [],
   "source": [
    "xg_test <- sparse.model.matrix(Result ~ ., data = xg_test)\n",
    "dtest <- xgb.DMatrix(data=xg_test, label=xg_test.y)"
   ]
  },
  {
   "cell_type": "code",
   "execution_count": 323,
   "metadata": {
    "collapsed": true
   },
   "outputs": [],
   "source": [
    "watchlist <- list(xg_train=dtrain)"
   ]
  },
  {
   "cell_type": "code",
   "execution_count": 324,
   "metadata": {
    "collapsed": true
   },
   "outputs": [],
   "source": [
    "# set default params to be used if we don't have the compute power to perform this gridsearch\n",
    "nrounds <- 500\n",
    "max_depth <- 6\n",
    "eta <- 0.1\n",
    "colsample_bytree <- 0.9\n",
    "subsample <- 0.9\n",
    "gamma <- 0\n",
    "min_child_weight <- 1"
   ]
  },
  {
   "cell_type": "code",
   "execution_count": 325,
   "metadata": {
    "collapsed": true
   },
   "outputs": [],
   "source": [
    "# cross validate to select optimal value for number of rounds\n",
    "set.seed(seed)\n",
    "n_rounds.cv <- 1000\n",
    "params <- list(booster = \"gbtree\", objective = \"multi:softmax\",\n",
    "               num_class = 4, eval_metric = 'merror',\n",
    "               max_depth = max_depth, eta = eta,\n",
    "               colsample_bytree = colsample_bytree, subsample = subsample, min_child_weight = min_child_weight)"
   ]
  },
  {
   "cell_type": "code",
   "execution_count": 326,
   "metadata": {
    "collapsed": false,
    "scrolled": true
   },
   "outputs": [
    {
     "name": "stdout",
     "output_type": "stream",
     "text": [
      "[0]\ttrain-merror:0.508879+0.012468\ttest-merror:0.624680+0.024307\n",
      "[20]\ttrain-merror:0.176560+0.008523\ttest-merror:0.468025+0.029982\n",
      "[40]\ttrain-merror:0.100583+0.002541\ttest-merror:0.418943+0.031163\n",
      "[60]\ttrain-merror:0.061802+0.002610\ttest-merror:0.406106+0.027163\n",
      "[80]\ttrain-merror:0.036307+0.002331\ttest-merror:0.396708+0.024365\n",
      "[100]\ttrain-merror:0.021911+0.001830\ttest-merror:0.384998+0.024580\n",
      "[120]\ttrain-merror:0.013667+0.001957\ttest-merror:0.381288+0.025276\n",
      "[140]\ttrain-merror:0.007325+0.001342\ttest-merror:0.372162+0.028310\n",
      "[160]\ttrain-merror:0.004027+0.000748\ttest-merror:0.369870+0.031357\n",
      "[180]\ttrain-merror:0.002030+0.000477\ttest-merror:0.369019+0.029462\n",
      "[200]\ttrain-merror:0.001237+0.000484\ttest-merror:0.369307+0.028689\n",
      "[220]\ttrain-merror:0.000634+0.000473\ttest-merror:0.369020+0.025303\n",
      "[240]\ttrain-merror:0.000190+0.000401\ttest-merror:0.368169+0.024413\n",
      "[260]\ttrain-merror:0.000000+0.000000\ttest-merror:0.367882+0.024541\n",
      "[280]\ttrain-merror:0.000000+0.000000\ttest-merror:0.366731+0.021838\n",
      "[300]\ttrain-merror:0.000000+0.000000\ttest-merror:0.363602+0.023643\n",
      "[320]\ttrain-merror:0.000000+0.000000\ttest-merror:0.364737+0.018533\n",
      "[340]\ttrain-merror:0.000000+0.000000\ttest-merror:0.365025+0.023518\n",
      "[360]\ttrain-merror:0.000000+0.000000\ttest-merror:0.364730+0.023701\n",
      "[380]\ttrain-merror:0.000000+0.000000\ttest-merror:0.367016+0.022210\n",
      "[400]\ttrain-merror:0.000000+0.000000\ttest-merror:0.366732+0.020324\n",
      "[420]\ttrain-merror:0.000000+0.000000\ttest-merror:0.365306+0.020592\n",
      "[440]\ttrain-merror:0.000000+0.000000\ttest-merror:0.367872+0.022163\n",
      "[460]\ttrain-merror:0.000000+0.000000\ttest-merror:0.368727+0.021374\n",
      "[480]\ttrain-merror:0.000000+0.000000\ttest-merror:0.368439+0.019813\n",
      "[500]\ttrain-merror:0.000000+0.000000\ttest-merror:0.367581+0.018269\n",
      "[520]\ttrain-merror:0.000000+0.000000\ttest-merror:0.366150+0.019505\n",
      "[540]\ttrain-merror:0.000000+0.000000\ttest-merror:0.365860+0.021117\n",
      "[560]\ttrain-merror:0.000000+0.000000\ttest-merror:0.366440+0.021813\n",
      "[580]\ttrain-merror:0.000000+0.000000\ttest-merror:0.365866+0.021527\n",
      "[600]\ttrain-merror:0.000000+0.000000\ttest-merror:0.368722+0.022213\n",
      "[620]\ttrain-merror:0.000000+0.000000\ttest-merror:0.367865+0.022991\n",
      "[640]\ttrain-merror:0.000000+0.000000\ttest-merror:0.368433+0.022248\n",
      "[660]\ttrain-merror:0.000000+0.000000\ttest-merror:0.367299+0.022740\n",
      "[680]\ttrain-merror:0.000000+0.000000\ttest-merror:0.367300+0.021083\n",
      "[700]\ttrain-merror:0.000000+0.000000\ttest-merror:0.367869+0.022896\n",
      "[720]\ttrain-merror:0.000000+0.000000\ttest-merror:0.367868+0.022958\n",
      "[740]\ttrain-merror:0.000000+0.000000\ttest-merror:0.367579+0.023567\n",
      "[760]\ttrain-merror:0.000000+0.000000\ttest-merror:0.367010+0.024032\n",
      "[780]\ttrain-merror:0.000000+0.000000\ttest-merror:0.366437+0.023319\n",
      "[800]\ttrain-merror:0.000000+0.000000\ttest-merror:0.367011+0.022989\n",
      "[820]\ttrain-merror:0.000000+0.000000\ttest-merror:0.365584+0.023880\n",
      "[840]\ttrain-merror:0.000000+0.000000\ttest-merror:0.365867+0.023539\n",
      "[860]\ttrain-merror:0.000000+0.000000\ttest-merror:0.365864+0.024055\n",
      "[880]\ttrain-merror:0.000000+0.000000\ttest-merror:0.367006+0.022245\n",
      "[900]\ttrain-merror:0.000000+0.000000\ttest-merror:0.365011+0.022049\n",
      "[920]\ttrain-merror:0.000000+0.000000\ttest-merror:0.365294+0.022678\n",
      "[940]\ttrain-merror:0.000000+0.000000\ttest-merror:0.364727+0.023833\n",
      "[960]\ttrain-merror:0.000000+0.000000\ttest-merror:0.365293+0.022301\n",
      "[980]\ttrain-merror:0.000000+0.000000\ttest-merror:0.363582+0.023557\n"
     ]
    }
   ],
   "source": [
    "bst.cv <- xgb.cv(params, dtrain, n_rounds.cv, nfold = 10, metrics = {'merror'},\n",
    "                 print.every.n = 20, prediction = TRUE)"
   ]
  },
  {
   "cell_type": "code",
   "execution_count": 327,
   "metadata": {
    "collapsed": false
   },
   "outputs": [
    {
     "data": {
      "text/html": [
       "306"
      ],
      "text/latex": [
       "306"
      ],
      "text/markdown": [
       "306"
      ],
      "text/plain": [
       "[1] 306"
      ]
     },
     "metadata": {},
     "output_type": "display_data"
    }
   ],
   "source": [
    "n_rounds.train <- which.min(bst.cv$dt[, test.merror.mean])\n",
    "n_rounds.train"
   ]
  },
  {
   "cell_type": "code",
   "execution_count": 328,
   "metadata": {
    "collapsed": false
   },
   "outputs": [
    {
     "name": "stdout",
     "output_type": "stream",
     "text": [
      "[0]\txg_train-merror:0.501712\n",
      "[1]\txg_train-merror:0.408961\n",
      "[2]\txg_train-merror:0.368721\n",
      "[3]\txg_train-merror:0.327911\n",
      "[4]\txg_train-merror:0.316210\n",
      "[5]\txg_train-merror:0.291381\n",
      "[6]\txg_train-merror:0.277397\n",
      "[7]\txg_train-merror:0.275114\n",
      "[8]\txg_train-merror:0.261986\n",
      "[9]\txg_train-merror:0.261701\n",
      "[10]\txg_train-merror:0.247717\n",
      "[11]\txg_train-merror:0.235160\n",
      "[12]\txg_train-merror:0.221747\n",
      "[13]\txg_train-merror:0.216039\n",
      "[14]\txg_train-merror:0.216039\n",
      "[15]\txg_train-merror:0.209475\n",
      "[16]\txg_train-merror:0.202340\n",
      "[17]\txg_train-merror:0.196347\n",
      "[18]\txg_train-merror:0.190354\n",
      "[19]\txg_train-merror:0.185502\n",
      "[20]\txg_train-merror:0.182078\n",
      "[21]\txg_train-merror:0.177511\n",
      "[22]\txg_train-merror:0.171518\n",
      "[23]\txg_train-merror:0.164954\n",
      "[24]\txg_train-merror:0.162671\n",
      "[25]\txg_train-merror:0.152683\n",
      "[26]\txg_train-merror:0.145263\n",
      "[27]\txg_train-merror:0.143836\n",
      "[28]\txg_train-merror:0.137557\n",
      "[29]\txg_train-merror:0.133562\n",
      "[30]\txg_train-merror:0.132135\n",
      "[31]\txg_train-merror:0.129281\n",
      "[32]\txg_train-merror:0.121861\n",
      "[33]\txg_train-merror:0.119863\n",
      "[34]\txg_train-merror:0.115011\n",
      "[35]\txg_train-merror:0.113014\n",
      "[36]\txg_train-merror:0.113299\n",
      "[37]\txg_train-merror:0.110445\n",
      "[38]\txg_train-merror:0.111301\n",
      "[39]\txg_train-merror:0.111016\n",
      "[40]\txg_train-merror:0.103025\n",
      "[41]\txg_train-merror:0.104167\n",
      "[42]\txg_train-merror:0.100742\n",
      "[43]\txg_train-merror:0.099315\n",
      "[44]\txg_train-merror:0.093893\n",
      "[45]\txg_train-merror:0.093322\n",
      "[46]\txg_train-merror:0.089897\n",
      "[47]\txg_train-merror:0.086187\n",
      "[48]\txg_train-merror:0.084189\n",
      "[49]\txg_train-merror:0.083048\n",
      "[50]\txg_train-merror:0.081336\n",
      "[51]\txg_train-merror:0.077340\n",
      "[52]\txg_train-merror:0.076769\n",
      "[53]\txg_train-merror:0.078196\n",
      "[54]\txg_train-merror:0.075913\n",
      "[55]\txg_train-merror:0.075913\n",
      "[56]\txg_train-merror:0.071632\n",
      "[57]\txg_train-merror:0.072203\n",
      "[58]\txg_train-merror:0.071347\n",
      "[59]\txg_train-merror:0.067922\n",
      "[60]\txg_train-merror:0.066210\n",
      "[61]\txg_train-merror:0.067066\n",
      "[62]\txg_train-merror:0.065068\n",
      "[63]\txg_train-merror:0.062500\n",
      "[64]\txg_train-merror:0.060502\n",
      "[65]\txg_train-merror:0.061929\n",
      "[66]\txg_train-merror:0.059361\n",
      "[67]\txg_train-merror:0.058219\n",
      "[68]\txg_train-merror:0.058790\n",
      "[69]\txg_train-merror:0.058219\n",
      "[70]\txg_train-merror:0.054795\n",
      "[71]\txg_train-merror:0.053082\n",
      "[72]\txg_train-merror:0.052511\n",
      "[73]\txg_train-merror:0.052797\n",
      "[74]\txg_train-merror:0.049658\n",
      "[75]\txg_train-merror:0.048516\n",
      "[76]\txg_train-merror:0.049372\n",
      "[77]\txg_train-merror:0.047945\n",
      "[78]\txg_train-merror:0.046233\n",
      "[79]\txg_train-merror:0.046804\n",
      "[80]\txg_train-merror:0.046804\n",
      "[81]\txg_train-merror:0.045377\n",
      "[82]\txg_train-merror:0.043379\n",
      "[83]\txg_train-merror:0.041667\n",
      "[84]\txg_train-merror:0.039098\n",
      "[85]\txg_train-merror:0.039384\n",
      "[86]\txg_train-merror:0.039669\n",
      "[87]\txg_train-merror:0.038527\n",
      "[88]\txg_train-merror:0.037957\n",
      "[89]\txg_train-merror:0.036815\n",
      "[90]\txg_train-merror:0.036244\n",
      "[91]\txg_train-merror:0.035388\n",
      "[92]\txg_train-merror:0.034532\n",
      "[93]\txg_train-merror:0.033676\n",
      "[94]\txg_train-merror:0.033105\n",
      "[95]\txg_train-merror:0.031393\n",
      "[96]\txg_train-merror:0.031963\n",
      "[97]\txg_train-merror:0.031393\n",
      "[98]\txg_train-merror:0.030251\n",
      "[99]\txg_train-merror:0.029395\n",
      "[100]\txg_train-merror:0.028539\n",
      "[101]\txg_train-merror:0.029110\n",
      "[102]\txg_train-merror:0.027968\n",
      "[103]\txg_train-merror:0.027397\n",
      "[104]\txg_train-merror:0.026826\n",
      "[105]\txg_train-merror:0.026541\n",
      "[106]\txg_train-merror:0.025685\n",
      "[107]\txg_train-merror:0.025400\n",
      "[108]\txg_train-merror:0.025400\n",
      "[109]\txg_train-merror:0.024543\n",
      "[110]\txg_train-merror:0.024543\n",
      "[111]\txg_train-merror:0.023687\n",
      "[112]\txg_train-merror:0.022831\n",
      "[113]\txg_train-merror:0.022260\n",
      "[114]\txg_train-merror:0.021119\n",
      "[115]\txg_train-merror:0.021119\n",
      "[116]\txg_train-merror:0.020548\n",
      "[117]\txg_train-merror:0.019406\n",
      "[118]\txg_train-merror:0.018550\n",
      "[119]\txg_train-merror:0.017979\n",
      "[120]\txg_train-merror:0.017979\n",
      "[121]\txg_train-merror:0.016838\n",
      "[122]\txg_train-merror:0.015411\n",
      "[123]\txg_train-merror:0.016267\n",
      "[124]\txg_train-merror:0.015126\n",
      "[125]\txg_train-merror:0.014269\n",
      "[126]\txg_train-merror:0.013699\n",
      "[127]\txg_train-merror:0.012842\n",
      "[128]\txg_train-merror:0.012557\n",
      "[129]\txg_train-merror:0.011701\n",
      "[130]\txg_train-merror:0.011701\n",
      "[131]\txg_train-merror:0.011416\n",
      "[132]\txg_train-merror:0.010845\n",
      "[133]\txg_train-merror:0.010274\n",
      "[134]\txg_train-merror:0.010845\n",
      "[135]\txg_train-merror:0.010559\n",
      "[136]\txg_train-merror:0.010274\n",
      "[137]\txg_train-merror:0.009132\n",
      "[138]\txg_train-merror:0.010845\n",
      "[139]\txg_train-merror:0.009703\n",
      "[140]\txg_train-merror:0.009418\n",
      "[141]\txg_train-merror:0.008562\n",
      "[142]\txg_train-merror:0.008847\n",
      "[143]\txg_train-merror:0.007991\n",
      "[144]\txg_train-merror:0.008562\n",
      "[145]\txg_train-merror:0.007705\n",
      "[146]\txg_train-merror:0.007705\n",
      "[147]\txg_train-merror:0.007705\n",
      "[148]\txg_train-merror:0.007135\n",
      "[149]\txg_train-merror:0.006564\n",
      "[150]\txg_train-merror:0.006279\n",
      "[151]\txg_train-merror:0.006279\n",
      "[152]\txg_train-merror:0.006279\n",
      "[153]\txg_train-merror:0.006564\n",
      "[154]\txg_train-merror:0.005993\n",
      "[155]\txg_train-merror:0.006564\n",
      "[156]\txg_train-merror:0.006279\n",
      "[157]\txg_train-merror:0.005993\n",
      "[158]\txg_train-merror:0.005708\n",
      "[159]\txg_train-merror:0.006279\n",
      "[160]\txg_train-merror:0.006279\n",
      "[161]\txg_train-merror:0.005993\n",
      "[162]\txg_train-merror:0.005708\n",
      "[163]\txg_train-merror:0.005422\n",
      "[164]\txg_train-merror:0.005422\n",
      "[165]\txg_train-merror:0.005708\n",
      "[166]\txg_train-merror:0.005137\n",
      "[167]\txg_train-merror:0.004852\n",
      "[168]\txg_train-merror:0.004852\n",
      "[169]\txg_train-merror:0.004566\n",
      "[170]\txg_train-merror:0.004852\n",
      "[171]\txg_train-merror:0.004566\n",
      "[172]\txg_train-merror:0.004281\n",
      "[173]\txg_train-merror:0.003995\n",
      "[174]\txg_train-merror:0.003995\n",
      "[175]\txg_train-merror:0.003710\n",
      "[176]\txg_train-merror:0.003710\n",
      "[177]\txg_train-merror:0.003710\n",
      "[178]\txg_train-merror:0.003139\n",
      "[179]\txg_train-merror:0.003425\n",
      "[180]\txg_train-merror:0.003425\n",
      "[181]\txg_train-merror:0.003710\n",
      "[182]\txg_train-merror:0.003710\n",
      "[183]\txg_train-merror:0.003139\n",
      "[184]\txg_train-merror:0.003425\n",
      "[185]\txg_train-merror:0.003139\n",
      "[186]\txg_train-merror:0.003425\n",
      "[187]\txg_train-merror:0.003139\n",
      "[188]\txg_train-merror:0.003139\n",
      "[189]\txg_train-merror:0.003139\n",
      "[190]\txg_train-merror:0.002854\n",
      "[191]\txg_train-merror:0.002854\n",
      "[192]\txg_train-merror:0.002568\n",
      "[193]\txg_train-merror:0.002568\n",
      "[194]\txg_train-merror:0.001998\n",
      "[195]\txg_train-merror:0.002283\n",
      "[196]\txg_train-merror:0.001712\n",
      "[197]\txg_train-merror:0.001712\n",
      "[198]\txg_train-merror:0.001712\n",
      "[199]\txg_train-merror:0.001712\n",
      "[200]\txg_train-merror:0.001712\n",
      "[201]\txg_train-merror:0.001712\n",
      "[202]\txg_train-merror:0.001712\n",
      "[203]\txg_train-merror:0.001712\n",
      "[204]\txg_train-merror:0.001712\n",
      "[205]\txg_train-merror:0.001712\n",
      "[206]\txg_train-merror:0.001712\n",
      "[207]\txg_train-merror:0.001712\n",
      "[208]\txg_train-merror:0.001712\n",
      "[209]\txg_train-merror:0.001427\n",
      "[210]\txg_train-merror:0.001427\n",
      "[211]\txg_train-merror:0.001427\n",
      "[212]\txg_train-merror:0.001712\n",
      "[213]\txg_train-merror:0.001427\n",
      "[214]\txg_train-merror:0.001427\n",
      "[215]\txg_train-merror:0.001427\n",
      "[216]\txg_train-merror:0.001427\n",
      "[217]\txg_train-merror:0.001427\n",
      "[218]\txg_train-merror:0.001427\n",
      "[219]\txg_train-merror:0.001427\n",
      "[220]\txg_train-merror:0.001427\n",
      "[221]\txg_train-merror:0.001427\n",
      "[222]\txg_train-merror:0.001427\n",
      "[223]\txg_train-merror:0.001427\n",
      "[224]\txg_train-merror:0.001427\n",
      "[225]\txg_train-merror:0.001427\n",
      "[226]\txg_train-merror:0.001427\n",
      "[227]\txg_train-merror:0.001427\n",
      "[228]\txg_train-merror:0.001427\n",
      "[229]\txg_train-merror:0.001427\n",
      "[230]\txg_train-merror:0.001427\n",
      "[231]\txg_train-merror:0.001142\n",
      "[232]\txg_train-merror:0.001142\n",
      "[233]\txg_train-merror:0.001142\n",
      "[234]\txg_train-merror:0.001427\n",
      "[235]\txg_train-merror:0.001427\n",
      "[236]\txg_train-merror:0.001142\n",
      "[237]\txg_train-merror:0.000856\n",
      "[238]\txg_train-merror:0.000856\n",
      "[239]\txg_train-merror:0.000856\n",
      "[240]\txg_train-merror:0.000571\n",
      "[241]\txg_train-merror:0.000856\n",
      "[242]\txg_train-merror:0.000571\n",
      "[243]\txg_train-merror:0.000571\n",
      "[244]\txg_train-merror:0.000571\n",
      "[245]\txg_train-merror:0.000571\n",
      "[246]\txg_train-merror:0.000285\n",
      "[247]\txg_train-merror:0.000285\n",
      "[248]\txg_train-merror:0.000285\n",
      "[249]\txg_train-merror:0.000285\n",
      "[250]\txg_train-merror:0.000285\n",
      "[251]\txg_train-merror:0.000000\n",
      "[252]\txg_train-merror:0.000000\n",
      "[253]\txg_train-merror:0.000000\n",
      "[254]\txg_train-merror:0.000000\n",
      "[255]\txg_train-merror:0.000000\n",
      "[256]\txg_train-merror:0.000000\n",
      "[257]\txg_train-merror:0.000000\n",
      "[258]\txg_train-merror:0.000000\n",
      "[259]\txg_train-merror:0.000000\n",
      "[260]\txg_train-merror:0.000000\n",
      "[261]\txg_train-merror:0.000000\n",
      "[262]\txg_train-merror:0.000000\n",
      "[263]\txg_train-merror:0.000285\n",
      "[264]\txg_train-merror:0.000285\n",
      "[265]\txg_train-merror:0.000285\n",
      "[266]\txg_train-merror:0.000285\n",
      "[267]\txg_train-merror:0.000000\n",
      "[268]\txg_train-merror:0.000285\n",
      "[269]\txg_train-merror:0.000000\n",
      "[270]\txg_train-merror:0.000000\n",
      "[271]\txg_train-merror:0.000000\n",
      "[272]\txg_train-merror:0.000000\n",
      "[273]\txg_train-merror:0.000000\n",
      "[274]\txg_train-merror:0.000000\n",
      "[275]\txg_train-merror:0.000000\n",
      "[276]\txg_train-merror:0.000000\n",
      "[277]\txg_train-merror:0.000000\n",
      "[278]\txg_train-merror:0.000000\n",
      "[279]\txg_train-merror:0.000000\n",
      "[280]\txg_train-merror:0.000000\n",
      "[281]\txg_train-merror:0.000000\n",
      "[282]\txg_train-merror:0.000000\n",
      "[283]\txg_train-merror:0.000000\n",
      "[284]\txg_train-merror:0.000000\n",
      "[285]\txg_train-merror:0.000000\n",
      "[286]\txg_train-merror:0.000000\n",
      "[287]\txg_train-merror:0.000000\n",
      "[288]\txg_train-merror:0.000000\n",
      "[289]\txg_train-merror:0.000000\n",
      "[290]\txg_train-merror:0.000000\n",
      "[291]\txg_train-merror:0.000000\n",
      "[292]\txg_train-merror:0.000000\n",
      "[293]\txg_train-merror:0.000000\n",
      "[294]\txg_train-merror:0.000000\n",
      "[295]\txg_train-merror:0.000000\n",
      "[296]\txg_train-merror:0.000000\n",
      "[297]\txg_train-merror:0.000000\n",
      "[298]\txg_train-merror:0.000000\n",
      "[299]\txg_train-merror:0.000000\n",
      "[300]\txg_train-merror:0.000000\n",
      "[301]\txg_train-merror:0.000000\n",
      "[302]\txg_train-merror:0.000000\n",
      "[303]\txg_train-merror:0.000000\n",
      "[304]\txg_train-merror:0.000000\n",
      "[305]\txg_train-merror:0.000000\n"
     ]
    }
   ],
   "source": [
    "# create the model\n",
    "bst <- xgb.train(   params              = params, \n",
    "                    data                = dtrain, \n",
    "                    nrounds             = n_rounds.train, \n",
    "                    verbose             = 1,\n",
    "                    watchlist           = watchlist,\n",
    "                    maximize            = FALSE\n",
    ")"
   ]
  },
  {
   "cell_type": "code",
   "execution_count": 330,
   "metadata": {
    "collapsed": true
   },
   "outputs": [],
   "source": [
    "# generate predictions from model\n",
    "pred_xgb <- predict(bst, xg_test);"
   ]
  },
  {
   "cell_type": "code",
   "execution_count": 331,
   "metadata": {
    "collapsed": false
   },
   "outputs": [
    {
     "data": {
      "text/plain": [
       "Confusion Matrix and Statistics\n",
       "\n",
       "          Reference\n",
       "Prediction  0  1  2  3\n",
       "         0 87 83 60 15\n",
       "         1 82 78 60 18\n",
       "         2 40 38 21  2\n",
       "         3  5  5  6  0\n",
       "\n",
       "Overall Statistics\n",
       "                                        \n",
       "               Accuracy : 0.31          \n",
       "                 95% CI : (0.273, 0.349)\n",
       "    No Information Rate : 0.357         \n",
       "    P-Value [Acc > NIR] : 0.992882      \n",
       "                                        \n",
       "                  Kappa : -0.02         \n",
       " Mcnemar's Test P-Value : 0.000704      \n",
       "\n",
       "Statistics by Class:\n",
       "\n",
       "                     Class: 0 Class: 1 Class: 2 Class: 3\n",
       "Sensitivity             0.407    0.382    0.143   0.0000\n",
       "Specificity             0.591    0.596    0.823   0.9717\n",
       "Pos Pred Value          0.355    0.328    0.208   0.0000\n",
       "Neg Pred Value          0.642    0.652    0.747   0.9401\n",
       "Prevalence              0.357    0.340    0.245   0.0583\n",
       "Detection Rate          0.145    0.130    0.035   0.0000\n",
       "Detection Prevalence    0.408    0.397    0.168   0.0267\n",
       "Balanced Accuracy       0.499    0.489    0.483   0.4858"
      ]
     },
     "metadata": {},
     "output_type": "display_data"
    }
   ],
   "source": [
    "confusionMatrix(pred_xgb, actual)"
   ]
  },
  {
   "cell_type": "code",
   "execution_count": 332,
   "metadata": {
    "collapsed": false
   },
   "outputs": [
    {
     "data": {
      "text/html": [
       "<table>\n",
       "<thead><tr><th></th><th scope=col>Feature</th><th scope=col>Gain</th><th scope=col>Cover</th><th scope=col>Frequence</th></tr></thead>\n",
       "<tbody>\n",
       "\t<tr><th scope=row>1</th><td>ATT3              </td><td>0.104013392229815 </td><td>0.0884387812879234</td><td>0.100707140393239 </td></tr>\n",
       "\t<tr><th scope=row>2</th><td>ATT9             </td><td>0.102409110367457</td><td>0.116503945866794</td><td>0.103535701966195</td></tr>\n",
       "\t<tr><th scope=row>3</th><td>ATT4              </td><td>0.102311142280264 </td><td>0.0900530928434779</td><td>0.0998620213866851</td></tr>\n",
       "\t<tr><th scope=row>4</th><td>ATT6             </td><td>0.101093972495696</td><td>0.101818313112935</td><td>0.100793377026561</td></tr>\n",
       "\t<tr><th scope=row>5</th><td>ATT10            </td><td>0.100559832080534</td><td>0.106793830794048</td><td>0.100758882373232</td></tr>\n",
       "\t<tr><th scope=row>6</th><td>ATT2              </td><td>0.0995691186445694</td><td>0.10838137342493  </td><td>0.100569161779924 </td></tr>\n",
       "</tbody>\n",
       "</table>\n"
      ],
      "text/latex": [
       "\\begin{tabular}{r|llll}\n",
       "  & Feature & Gain & Cover & Frequence\\\\\n",
       "\\hline\n",
       "\t1 & ATT3               & 0.104013392229815  & 0.0884387812879234 & 0.100707140393239 \\\\\n",
       "\t2 & ATT9              & 0.102409110367457 & 0.116503945866794 & 0.103535701966195\\\\\n",
       "\t3 & ATT4               & 0.102311142280264  & 0.0900530928434779 & 0.0998620213866851\\\\\n",
       "\t4 & ATT6              & 0.101093972495696 & 0.101818313112935 & 0.100793377026561\\\\\n",
       "\t5 & ATT10             & 0.100559832080534 & 0.106793830794048 & 0.100758882373232\\\\\n",
       "\t6 & ATT2               & 0.0995691186445694 & 0.10838137342493   & 0.100569161779924 \\\\\n",
       "\\end{tabular}\n"
      ],
      "text/plain": [
       "  Feature    Gain   Cover Frequence\n",
       "1    ATT3 0.10401 0.08844   0.10071\n",
       "2    ATT9 0.10241 0.11650   0.10354\n",
       "3    ATT4 0.10231 0.09005   0.09986\n",
       "4    ATT6 0.10109 0.10182   0.10079\n",
       "5   ATT10 0.10056 0.10679   0.10076\n",
       "6    ATT2 0.09957 0.10838   0.10057"
      ]
     },
     "metadata": {},
     "output_type": "display_data"
    }
   ],
   "source": [
    "feature.importance <- xgb.importance(dimnames(xg_train)[[2]], model = bst)\n",
    "head(feature.importance)"
   ]
  },
  {
   "cell_type": "code",
   "execution_count": 333,
   "metadata": {
    "collapsed": false
   },
   "outputs": [
    {
     "data": {},
     "metadata": {},
     "output_type": "display_data"
    },
    {
     "data": {
      "image/png": "[encoded data removed]",
      "text/plain": [
       "plot without title"
      ]
     },
     "metadata": {},
     "output_type": "display_data"
    }
   ],
   "source": [
    "xgb.plot.importance(feature.importance)"
   ]
  },
  {
   "cell_type": "markdown",
   "metadata": {},
   "source": [
    "## Cross Validate further parameters for XGBoost using GridSearch"
   ]
  },
  {
   "cell_type": "code",
   "execution_count": 334,
   "metadata": {
    "collapsed": true
   },
   "outputs": [],
   "source": [
    "xgbGrid <- expand.grid(\n",
    "    nrounds = c(100, 300, 500, 1000),\n",
    "    max_depth = c(1, 3, 5, 7),\n",
    "    eta = c(0.001, 0.01, 0.1),\n",
    "    gamma = c(0, 1),\n",
    "    colsample_bytree = c(1, 0.9, 0.8),\n",
    "    min_child_weight = c(1, 2, 3),\n",
    "    subsample = c(1, 0.9, 0.8)\n",
    ")"
   ]
  },
  {
   "cell_type": "code",
   "execution_count": 335,
   "metadata": {
    "collapsed": false
   },
   "outputs": [],
   "source": [
    "xgbTrControl <- trainControl(\n",
    "    method = \"repeatedcv\",\n",
    "    number = 5,\n",
    "    repeats = 2,\n",
    "    verboseIter = FALSE,\n",
    "    returnData = FALSE,\n",
    "    allowParallel = TRUE\n",
    ")"
   ]
  },
  {
   "cell_type": "code",
   "execution_count": 336,
   "metadata": {
    "collapsed": false
   },
   "outputs": [],
   "source": [
    "xg_train <- Udf.Utilities.UpSample(train)\n",
    "xg_train$Result <- as.numeric(xg_train$Result)-1\n",
    "for(i in c(1:ncol(xg_train))) {\n",
    "    xg_train[,i] <- as.numeric(xg_train[,i])\n",
    "}"
   ]
  },
  {
   "cell_type": "code",
   "execution_count": 337,
   "metadata": {
    "collapsed": false
   },
   "outputs": [],
   "source": [
    "set.seed(seed)\n",
    "\n",
    "# This is computationaly expensive - takes about an hour\n",
    "if(FALSE){\n",
    "    xgbTrain <- train(\n",
    "        x = as.matrix(xg_train[, ! names(xg_train) %in% c('Result')]), \n",
    "        y = xg_train$Result,\n",
    "        objective = 'multi:softmax',\n",
    "        trControl = xgbTrControl,\n",
    "        tuneGrid = xgbGrid,\n",
    "        method = 'xgbTree',\n",
    "        num_class = 4,\n",
    "        eval_metric = 'merror'\n",
    "    )\n",
    "}"
   ]
  },
  {
   "cell_type": "code",
   "execution_count": 467,
   "metadata": {
    "collapsed": true
   },
   "outputs": [],
   "source": [
    "#    eta max_depth gamma colsample_bytree min_child_weight subsample nrounds   RMSE Rsquared  RMSESD RsquaredSD\n",
    "#91  0.10         7     0              0.9                1       0.9     500 0.8699   0.4890 0.06079    0.06009\n",
    "#92  0.10         7     0              0.9                1       0.9    1000 0.8716   0.4888 0.03330    0.03463\n",
    "#39  0.01         7     0              0.9                1       0.9    5000 0.8744   0.4849 0.07411    0.07273\n",
    "#42  0.01         7     0              0.9                2       0.9    5000 0.8748   0.4857 0.06031    0.05941\n",
    "#102 0.10         7     1              0.9                1       0.9    5000 0.8762   0.4858 0.03332    0.03191"
   ]
  },
  {
   "cell_type": "markdown",
   "metadata": {},
   "source": [
    "The results of the tuning process were a little suprising, I didn't expect the max-depth of the trees to be so deep, especially considering we only have 10 features to play with. I thought this might lead to overfitting, but apparently not."
   ]
  },
  {
   "cell_type": "code",
   "execution_count": 468,
   "metadata": {
    "collapsed": false
   },
   "outputs": [],
   "source": [
    "nrounds <- 500\n",
    "max_depth <- 7\n",
    "eta <- 0.1\n",
    "colsample_bytree <- 0.9\n",
    "subsample <- 0.9\n",
    "gamma <- 0\n",
    "min_child_weight <- 1"
   ]
  },
  {
   "cell_type": "code",
   "execution_count": 469,
   "metadata": {
    "collapsed": false
   },
   "outputs": [],
   "source": [
    "# Alter the params based on the best performing set of params abvove\n",
    "params <- list(booster = \"gbtree\", objective = \"multi:softmax\",\n",
    "               num_class = 4, eval_metric = 'merror',\n",
    "               max_depth = max_depth, eta = eta,\n",
    "               colsample_bytree = colsample_bytree, subsample = subsample,\n",
    "               gamma = gamma, min_child_weight = min_child_weight)"
   ]
  },
  {
   "cell_type": "code",
   "execution_count": 341,
   "metadata": {
    "collapsed": false,
    "scrolled": true
   },
   "outputs": [
    {
     "name": "stdout",
     "output_type": "stream",
     "text": [
      "[0]\ttrain-merror:0.432996+0.014986\ttest-merror:0.580206+0.025382\n",
      "[20]\ttrain-merror:0.086251+0.004525\ttest-merror:0.425523+0.019752\n",
      "[40]\ttrain-merror:0.035610+0.002237\ttest-merror:0.395839+0.023937\n",
      "[60]\ttrain-merror:0.014967+0.001113\ttest-merror:0.380974+0.027215\n",
      "[80]\ttrain-merror:0.006025+0.001495\ttest-merror:0.377847+0.022059\n",
      "[100]\ttrain-merror:0.001934+0.000460\ttest-merror:0.366425+0.021308\n",
      "[120]\ttrain-merror:0.000698+0.000328\ttest-merror:0.364147+0.015419\n",
      "[140]\ttrain-merror:0.000254+0.000250\ttest-merror:0.362161+0.017983\n",
      "[160]\ttrain-merror:0.000000+0.000000\ttest-merror:0.362164+0.018406\n",
      "[180]\ttrain-merror:0.000000+0.000000\ttest-merror:0.358165+0.017872\n",
      "[200]\ttrain-merror:0.000000+0.000000\ttest-merror:0.358162+0.020775\n",
      "[220]\ttrain-merror:0.000000+0.000000\ttest-merror:0.361022+0.019295\n",
      "[240]\ttrain-merror:0.000000+0.000000\ttest-merror:0.359025+0.020951\n",
      "[260]\ttrain-merror:0.000000+0.000000\ttest-merror:0.357597+0.017982\n",
      "[280]\ttrain-merror:0.000000+0.000000\ttest-merror:0.358457+0.016925\n",
      "[300]\ttrain-merror:0.000000+0.000000\ttest-merror:0.358744+0.018200\n",
      "[320]\ttrain-merror:0.000000+0.000000\ttest-merror:0.359035+0.018545\n",
      "[340]\ttrain-merror:0.000000+0.000000\ttest-merror:0.359032+0.017315\n",
      "[360]\ttrain-merror:0.000000+0.000000\ttest-merror:0.361028+0.018939\n",
      "[380]\ttrain-merror:0.000000+0.000000\ttest-merror:0.360170+0.018365\n",
      "[400]\ttrain-merror:0.000000+0.000000\ttest-merror:0.360168+0.018358\n",
      "[420]\ttrain-merror:0.000000+0.000000\ttest-merror:0.360745+0.016448\n",
      "[440]\ttrain-merror:0.000000+0.000000\ttest-merror:0.361029+0.017619\n",
      "[460]\ttrain-merror:0.000000+0.000000\ttest-merror:0.361603+0.016157\n",
      "[480]\ttrain-merror:0.000000+0.000000\ttest-merror:0.360174+0.017424\n"
     ]
    }
   ],
   "source": [
    "bst.cv <- xgb.cv(params, dtrain, nrounds, nfold = 10, metrics = {'merror'},\n",
    "                 print.every.n = 20, prediction = TRUE)"
   ]
  },
  {
   "cell_type": "code",
   "execution_count": 342,
   "metadata": {
    "collapsed": false
   },
   "outputs": [
    {
     "data": {
      "text/html": [
       "259"
      ],
      "text/latex": [
       "259"
      ],
      "text/markdown": [
       "259"
      ],
      "text/plain": [
       "[1] 259"
      ]
     },
     "metadata": {},
     "output_type": "display_data"
    }
   ],
   "source": [
    "n_rounds.train <- which.min(bst.cv$dt[, test.merror.mean])\n",
    "n_rounds.train"
   ]
  },
  {
   "cell_type": "code",
   "execution_count": 343,
   "metadata": {
    "collapsed": false,
    "scrolled": true
   },
   "outputs": [
    {
     "name": "stdout",
     "output_type": "stream",
     "text": [
      "[0]\txg_train-merror:0.405251\n",
      "[1]\txg_train-merror:0.329909\n",
      "[2]\txg_train-merror:0.283676\n",
      "[3]\txg_train-merror:0.257705\n",
      "[4]\txg_train-merror:0.242865\n",
      "[5]\txg_train-merror:0.215753\n",
      "[6]\txg_train-merror:0.204623\n",
      "[7]\txg_train-merror:0.188642\n",
      "[8]\txg_train-merror:0.175514\n",
      "[9]\txg_train-merror:0.167808\n",
      "[10]\txg_train-merror:0.160959\n",
      "[11]\txg_train-merror:0.147260\n",
      "[12]\txg_train-merror:0.134989\n",
      "[13]\txg_train-merror:0.126712\n",
      "[14]\txg_train-merror:0.119007\n",
      "[15]\txg_train-merror:0.112158\n",
      "[16]\txg_train-merror:0.105879\n",
      "[17]\txg_train-merror:0.103596\n",
      "[18]\txg_train-merror:0.094749\n",
      "[19]\txg_train-merror:0.089041\n",
      "[20]\txg_train-merror:0.087043\n",
      "[21]\txg_train-merror:0.086758\n",
      "[22]\txg_train-merror:0.079053\n",
      "[23]\txg_train-merror:0.076769\n",
      "[24]\txg_train-merror:0.073630\n",
      "[25]\txg_train-merror:0.072774\n",
      "[26]\txg_train-merror:0.071062\n",
      "[27]\txg_train-merror:0.067637\n",
      "[28]\txg_train-merror:0.061929\n",
      "[29]\txg_train-merror:0.059361\n",
      "[30]\txg_train-merror:0.058790\n",
      "[31]\txg_train-merror:0.057078\n",
      "[32]\txg_train-merror:0.055080\n",
      "[33]\txg_train-merror:0.051655\n",
      "[34]\txg_train-merror:0.050228\n",
      "[35]\txg_train-merror:0.048801\n",
      "[36]\txg_train-merror:0.048231\n",
      "[37]\txg_train-merror:0.047660\n",
      "[38]\txg_train-merror:0.045947\n",
      "[39]\txg_train-merror:0.044806\n",
      "[40]\txg_train-merror:0.043379\n",
      "[41]\txg_train-merror:0.041381\n",
      "[42]\txg_train-merror:0.039384\n",
      "[43]\txg_train-merror:0.039098\n",
      "[44]\txg_train-merror:0.036815\n",
      "[45]\txg_train-merror:0.034817\n",
      "[46]\txg_train-merror:0.033105\n",
      "[47]\txg_train-merror:0.032534\n",
      "[48]\txg_train-merror:0.031678\n",
      "[49]\txg_train-merror:0.030251\n",
      "[50]\txg_train-merror:0.029110\n",
      "[51]\txg_train-merror:0.029395\n",
      "[52]\txg_train-merror:0.027683\n",
      "[53]\txg_train-merror:0.027112\n",
      "[54]\txg_train-merror:0.025114\n",
      "[55]\txg_train-merror:0.024258\n",
      "[56]\txg_train-merror:0.024543\n",
      "[57]\txg_train-merror:0.023402\n",
      "[58]\txg_train-merror:0.021404\n",
      "[59]\txg_train-merror:0.019977\n",
      "[60]\txg_train-merror:0.018265\n",
      "[61]\txg_train-merror:0.018550\n",
      "[62]\txg_train-merror:0.018550\n",
      "[63]\txg_train-merror:0.018550\n",
      "[64]\txg_train-merror:0.016838\n",
      "[65]\txg_train-merror:0.017123\n",
      "[66]\txg_train-merror:0.015126\n",
      "[67]\txg_train-merror:0.015982\n",
      "[68]\txg_train-merror:0.015411\n",
      "[69]\txg_train-merror:0.014840\n",
      "[70]\txg_train-merror:0.013413\n",
      "[71]\txg_train-merror:0.013128\n",
      "[72]\txg_train-merror:0.012557\n",
      "[73]\txg_train-merror:0.012557\n",
      "[74]\txg_train-merror:0.011701\n",
      "[75]\txg_train-merror:0.009989\n",
      "[76]\txg_train-merror:0.010845\n",
      "[77]\txg_train-merror:0.009989\n",
      "[78]\txg_train-merror:0.009703\n",
      "[79]\txg_train-merror:0.008276\n",
      "[80]\txg_train-merror:0.007991\n",
      "[81]\txg_train-merror:0.007420\n",
      "[82]\txg_train-merror:0.008276\n",
      "[83]\txg_train-merror:0.007991\n",
      "[84]\txg_train-merror:0.006279\n",
      "[85]\txg_train-merror:0.006849\n",
      "[86]\txg_train-merror:0.005993\n",
      "[87]\txg_train-merror:0.005137\n",
      "[88]\txg_train-merror:0.005993\n",
      "[89]\txg_train-merror:0.005422\n",
      "[90]\txg_train-merror:0.005137\n",
      "[91]\txg_train-merror:0.003995\n",
      "[92]\txg_train-merror:0.004281\n",
      "[93]\txg_train-merror:0.003710\n",
      "[94]\txg_train-merror:0.003995\n",
      "[95]\txg_train-merror:0.003139\n",
      "[96]\txg_train-merror:0.003139\n",
      "[97]\txg_train-merror:0.003425\n",
      "[98]\txg_train-merror:0.003139\n",
      "[99]\txg_train-merror:0.003425\n",
      "[100]\txg_train-merror:0.003139\n",
      "[101]\txg_train-merror:0.003139\n",
      "[102]\txg_train-merror:0.002568\n",
      "[103]\txg_train-merror:0.002854\n",
      "[104]\txg_train-merror:0.002568\n",
      "[105]\txg_train-merror:0.002568\n",
      "[106]\txg_train-merror:0.002568\n",
      "[107]\txg_train-merror:0.002568\n",
      "[108]\txg_train-merror:0.002568\n",
      "[109]\txg_train-merror:0.002283\n",
      "[110]\txg_train-merror:0.002283\n",
      "[111]\txg_train-merror:0.002283\n",
      "[112]\txg_train-merror:0.002283\n",
      "[113]\txg_train-merror:0.001712\n",
      "[114]\txg_train-merror:0.001998\n",
      "[115]\txg_train-merror:0.001998\n",
      "[116]\txg_train-merror:0.001712\n",
      "[117]\txg_train-merror:0.001142\n",
      "[118]\txg_train-merror:0.001142\n",
      "[119]\txg_train-merror:0.000856\n",
      "[120]\txg_train-merror:0.000856\n",
      "[121]\txg_train-merror:0.000856\n",
      "[122]\txg_train-merror:0.000856\n",
      "[123]\txg_train-merror:0.000571\n",
      "[124]\txg_train-merror:0.000571\n",
      "[125]\txg_train-merror:0.000571\n",
      "[126]\txg_train-merror:0.000571\n",
      "[127]\txg_train-merror:0.000571\n",
      "[128]\txg_train-merror:0.000571\n",
      "[129]\txg_train-merror:0.000571\n",
      "[130]\txg_train-merror:0.000571\n",
      "[131]\txg_train-merror:0.000571\n",
      "[132]\txg_train-merror:0.000285\n",
      "[133]\txg_train-merror:0.000285\n",
      "[134]\txg_train-merror:0.000285\n",
      "[135]\txg_train-merror:0.000285\n",
      "[136]\txg_train-merror:0.000285\n",
      "[137]\txg_train-merror:0.000285\n",
      "[138]\txg_train-merror:0.000285\n",
      "[139]\txg_train-merror:0.000285\n",
      "[140]\txg_train-merror:0.000285\n",
      "[141]\txg_train-merror:0.000000\n",
      "[142]\txg_train-merror:0.000000\n",
      "[143]\txg_train-merror:0.000000\n",
      "[144]\txg_train-merror:0.000000\n",
      "[145]\txg_train-merror:0.000000\n",
      "[146]\txg_train-merror:0.000000\n",
      "[147]\txg_train-merror:0.000000\n",
      "[148]\txg_train-merror:0.000000\n",
      "[149]\txg_train-merror:0.000000\n",
      "[150]\txg_train-merror:0.000000\n",
      "[151]\txg_train-merror:0.000000\n",
      "[152]\txg_train-merror:0.000000\n",
      "[153]\txg_train-merror:0.000000\n",
      "[154]\txg_train-merror:0.000000\n",
      "[155]\txg_train-merror:0.000000\n",
      "[156]\txg_train-merror:0.000000\n",
      "[157]\txg_train-merror:0.000000\n",
      "[158]\txg_train-merror:0.000000\n",
      "[159]\txg_train-merror:0.000000\n",
      "[160]\txg_train-merror:0.000000\n",
      "[161]\txg_train-merror:0.000000\n",
      "[162]\txg_train-merror:0.000000\n",
      "[163]\txg_train-merror:0.000000\n",
      "[164]\txg_train-merror:0.000000\n",
      "[165]\txg_train-merror:0.000000\n",
      "[166]\txg_train-merror:0.000000\n",
      "[167]\txg_train-merror:0.000000\n",
      "[168]\txg_train-merror:0.000000\n",
      "[169]\txg_train-merror:0.000000\n",
      "[170]\txg_train-merror:0.000000\n",
      "[171]\txg_train-merror:0.000000\n",
      "[172]\txg_train-merror:0.000000\n",
      "[173]\txg_train-merror:0.000000\n",
      "[174]\txg_train-merror:0.000000\n",
      "[175]\txg_train-merror:0.000000\n",
      "[176]\txg_train-merror:0.000000\n",
      "[177]\txg_train-merror:0.000000\n",
      "[178]\txg_train-merror:0.000000\n",
      "[179]\txg_train-merror:0.000000\n",
      "[180]\txg_train-merror:0.000000\n",
      "[181]\txg_train-merror:0.000000\n",
      "[182]\txg_train-merror:0.000000\n",
      "[183]\txg_train-merror:0.000000\n",
      "[184]\txg_train-merror:0.000000\n",
      "[185]\txg_train-merror:0.000000\n",
      "[186]\txg_train-merror:0.000000\n",
      "[187]\txg_train-merror:0.000000\n",
      "[188]\txg_train-merror:0.000000\n",
      "[189]\txg_train-merror:0.000000\n",
      "[190]\txg_train-merror:0.000000\n",
      "[191]\txg_train-merror:0.000000\n",
      "[192]\txg_train-merror:0.000000\n",
      "[193]\txg_train-merror:0.000000\n",
      "[194]\txg_train-merror:0.000000\n",
      "[195]\txg_train-merror:0.000000\n",
      "[196]\txg_train-merror:0.000000\n",
      "[197]\txg_train-merror:0.000000\n",
      "[198]\txg_train-merror:0.000000\n",
      "[199]\txg_train-merror:0.000000\n",
      "[200]\txg_train-merror:0.000000\n",
      "[201]\txg_train-merror:0.000000\n",
      "[202]\txg_train-merror:0.000000\n",
      "[203]\txg_train-merror:0.000000\n",
      "[204]\txg_train-merror:0.000000\n",
      "[205]\txg_train-merror:0.000000\n",
      "[206]\txg_train-merror:0.000000\n",
      "[207]\txg_train-merror:0.000000\n",
      "[208]\txg_train-merror:0.000000\n",
      "[209]\txg_train-merror:0.000000\n",
      "[210]\txg_train-merror:0.000000\n",
      "[211]\txg_train-merror:0.000000\n",
      "[212]\txg_train-merror:0.000000\n",
      "[213]\txg_train-merror:0.000000\n",
      "[214]\txg_train-merror:0.000000\n",
      "[215]\txg_train-merror:0.000000\n",
      "[216]\txg_train-merror:0.000000\n",
      "[217]\txg_train-merror:0.000000\n",
      "[218]\txg_train-merror:0.000000\n",
      "[219]\txg_train-merror:0.000000\n",
      "[220]\txg_train-merror:0.000000\n",
      "[221]\txg_train-merror:0.000000\n",
      "[222]\txg_train-merror:0.000000\n",
      "[223]\txg_train-merror:0.000000\n",
      "[224]\txg_train-merror:0.000000\n",
      "[225]\txg_train-merror:0.000000\n",
      "[226]\txg_train-merror:0.000000\n",
      "[227]\txg_train-merror:0.000000\n",
      "[228]\txg_train-merror:0.000000\n",
      "[229]\txg_train-merror:0.000000\n",
      "[230]\txg_train-merror:0.000000\n",
      "[231]\txg_train-merror:0.000000\n",
      "[232]\txg_train-merror:0.000000\n",
      "[233]\txg_train-merror:0.000000\n",
      "[234]\txg_train-merror:0.000000\n",
      "[235]\txg_train-merror:0.000000\n",
      "[236]\txg_train-merror:0.000000\n",
      "[237]\txg_train-merror:0.000000\n",
      "[238]\txg_train-merror:0.000000\n",
      "[239]\txg_train-merror:0.000000\n",
      "[240]\txg_train-merror:0.000000\n",
      "[241]\txg_train-merror:0.000000\n",
      "[242]\txg_train-merror:0.000000\n",
      "[243]\txg_train-merror:0.000000\n",
      "[244]\txg_train-merror:0.000000\n",
      "[245]\txg_train-merror:0.000000\n",
      "[246]\txg_train-merror:0.000000\n",
      "[247]\txg_train-merror:0.000000\n",
      "[248]\txg_train-merror:0.000000\n",
      "[249]\txg_train-merror:0.000000\n",
      "[250]\txg_train-merror:0.000000\n",
      "[251]\txg_train-merror:0.000000\n",
      "[252]\txg_train-merror:0.000000\n",
      "[253]\txg_train-merror:0.000000\n",
      "[254]\txg_train-merror:0.000000\n",
      "[255]\txg_train-merror:0.000000\n",
      "[256]\txg_train-merror:0.000000\n",
      "[257]\txg_train-merror:0.000000\n",
      "[258]\txg_train-merror:0.000000\n"
     ]
    }
   ],
   "source": [
    "# create the model\n",
    "bst <- xgb.train(   params              = params, \n",
    "                    data                = dtrain, \n",
    "                    nrounds             = n_rounds.train, \n",
    "                    verbose             = 1,\n",
    "                    watchlist           = watchlist,\n",
    "                    maximize            = FALSE\n",
    ")"
   ]
  },
  {
   "cell_type": "code",
   "execution_count": 344,
   "metadata": {
    "collapsed": false
   },
   "outputs": [],
   "source": [
    "# generate predictions from model\n",
    "pred_xgb_tune <- predict(bst, xg_test);"
   ]
  },
  {
   "cell_type": "code",
   "execution_count": 345,
   "metadata": {
    "collapsed": false
   },
   "outputs": [
    {
     "data": {
      "text/plain": [
       "Confusion Matrix and Statistics\n",
       "\n",
       "          Reference\n",
       "Prediction  0  1  2  3\n",
       "         0 91 79 61 16\n",
       "         1 85 86 62 16\n",
       "         2 34 33 21  2\n",
       "         3  4  6  3  1\n",
       "\n",
       "Overall Statistics\n",
       "                                        \n",
       "               Accuracy : 0.332         \n",
       "                 95% CI : (0.294, 0.371)\n",
       "    No Information Rate : 0.357         \n",
       "    P-Value [Acc > NIR] : 0.907         \n",
       "                                        \n",
       "                  Kappa : 0.008         \n",
       " Mcnemar's Test P-Value : 0.0000696     \n",
       "\n",
       "Statistics by Class:\n",
       "\n",
       "                     Class: 0 Class: 1 Class: 2 Class: 3\n",
       "Sensitivity             0.425    0.422    0.143  0.02857\n",
       "Specificity             0.596    0.588    0.848  0.97699\n",
       "Pos Pred Value          0.368    0.345    0.233  0.07143\n",
       "Neg Pred Value          0.652    0.664    0.753  0.94198\n",
       "Prevalence              0.357    0.340    0.245  0.05833\n",
       "Detection Rate          0.152    0.143    0.035  0.00167\n",
       "Detection Prevalence    0.412    0.415    0.150  0.02333\n",
       "Balanced Accuracy       0.511    0.505    0.495  0.50278"
      ]
     },
     "metadata": {},
     "output_type": "display_data"
    }
   ],
   "source": [
    "confusionMatrix(pred_xgb_tune, actual)"
   ]
  },
  {
   "cell_type": "markdown",
   "metadata": {},
   "source": [
    "Accuracy was improved with tuning"
   ]
  },
  {
   "cell_type": "markdown",
   "metadata": {},
   "source": [
    "# 4. Random Forest\n",
    "(Jeffrey Mills)\n",
    "\n",
    "Given that our EDA failed to show up any strong correlations between variables, we are a little unsure if there are any strong predictors (relatively) in the dataset. We need to ensure that our tree gives a fair consideration to all of the features to ensure we don't head towards a local minima. This is where the Random Forst approach will come in. The method takes random samples of predictors at each split and only one is chosen from this set. So we can have decisions where the most optimal/important feature is not included for consideration. "
   ]
  },
  {
   "cell_type": "code",
   "execution_count": 346,
   "metadata": {
    "collapsed": false
   },
   "outputs": [],
   "source": [
    "# set the train set\n",
    "rforest_train <- train"
   ]
  },
  {
   "cell_type": "code",
   "execution_count": 347,
   "metadata": {
    "collapsed": false
   },
   "outputs": [],
   "source": [
    "# perform up-sampling using caret\n",
    "control <- trainControl(method=\"repeatedcv\", number=10, repeats=3, sampling = \"up\")\n",
    "metric <- \"Accuracy\"\n",
    "set.seed(seed)\n",
    "tunegrid <- expand.grid(.mtry=c(2, 3, 4))\n",
    "rf_default <- train(Result ~., data=rforest_train, \n",
    "                    method=\"rf\", metric=metric, tuneGrid=tunegrid, trControl=control, ntree=1000)\n",
    "#print(rf_default)"
   ]
  },
  {
   "cell_type": "code",
   "execution_count": 348,
   "metadata": {
    "collapsed": false
   },
   "outputs": [
    {
     "data": {},
     "metadata": {},
     "output_type": "display_data"
    },
    {
     "data": {
      "image/png": "[encoded data removed]",
      "text/plain": [
       "plot without title"
      ]
     },
     "metadata": {},
     "output_type": "display_data"
    }
   ],
   "source": [
    "plot(rf_default)"
   ]
  },
  {
   "cell_type": "code",
   "execution_count": 349,
   "metadata": {
    "collapsed": false
   },
   "outputs": [],
   "source": [
    "pred_rf <- predict(rf_default, test)"
   ]
  },
  {
   "cell_type": "code",
   "execution_count": 350,
   "metadata": {
    "collapsed": false
   },
   "outputs": [
    {
     "data": {
      "text/plain": [
       "Confusion Matrix and Statistics\n",
       "\n",
       "          Reference\n",
       "Prediction  0  1  2  3\n",
       "         0 92 91 66 17\n",
       "         1 95 89 66 17\n",
       "         2 25 23 14  1\n",
       "         3  2  1  1  0\n",
       "\n",
       "Overall Statistics\n",
       "                                          \n",
       "               Accuracy : 0.325           \n",
       "                 95% CI : (0.288, 0.364)  \n",
       "    No Information Rate : 0.357           \n",
       "    P-Value [Acc > NIR] : 0.953           \n",
       "                                          \n",
       "                  Kappa : -0.016          \n",
       " Mcnemar's Test P-Value : 0.00000000000358\n",
       "\n",
       "Statistics by Class:\n",
       "\n",
       "                     Class: 0 Class: 1 Class: 2 Class: 3\n",
       "Sensitivity             0.430    0.436   0.0952  0.00000\n",
       "Specificity             0.549    0.551   0.8918  0.99292\n",
       "Pos Pred Value          0.346    0.333   0.2222  0.00000\n",
       "Neg Pred Value          0.635    0.655   0.7523  0.94128\n",
       "Prevalence              0.357    0.340   0.2450  0.05833\n",
       "Detection Rate          0.153    0.148   0.0233  0.00000\n",
       "Detection Prevalence    0.443    0.445   0.1050  0.00667\n",
       "Balanced Accuracy       0.490    0.493   0.4935  0.49646"
      ]
     },
     "metadata": {},
     "output_type": "display_data"
    }
   ],
   "source": [
    "confusionMatrix(pred_rf, actual)"
   ]
  },
  {
   "cell_type": "code",
   "execution_count": 351,
   "metadata": {
    "collapsed": false
   },
   "outputs": [
    {
     "name": "stdout",
     "output_type": "stream",
     "text": [
      "      MeanDecreaseGini\n",
      "ATT1             249.3\n",
      "ATT2             266.5\n",
      "ATT3             254.7\n",
      "ATT4             257.4\n",
      "ATT5             248.5\n",
      "ATT6             261.7\n",
      "ATT7             257.3\n",
      "ATT8             260.3\n",
      "ATT9             263.2\n",
      "ATT10            259.2\n"
     ]
    }
   ],
   "source": [
    "print(importance(rf_default$finalModel,type = 2))"
   ]
  },
  {
   "cell_type": "code",
   "execution_count": 352,
   "metadata": {
    "collapsed": false
   },
   "outputs": [
    {
     "data": {
      "image/png": "[encoded data removed]",
      "text/plain": [
       "Plot with title \"rf_default$finalModel\""
      ]
     },
     "metadata": {},
     "output_type": "display_data"
    }
   ],
   "source": [
    "options(repr.plot.width = 6)\n",
    "options(repr.plot.height = 4)\n",
    "varImpPlot(rf_default$finalModel)"
   ]
  },
  {
   "cell_type": "markdown",
   "metadata": {},
   "source": [
    "## Cross Validation for Random Forest feature selection "
   ]
  },
  {
   "cell_type": "code",
   "execution_count": 353,
   "metadata": {
    "collapsed": false
   },
   "outputs": [
    {
     "data": {
      "image/png": "[encoded data removed]",
      "text/plain": [
       "plot without title"
      ]
     },
     "metadata": {},
     "output_type": "display_data"
    }
   ],
   "source": [
    "x <- train\n",
    "x$Result <- NULL\n",
    "y <- train$Result\n",
    "\n",
    "rf.cv <- rfcv(x, y, cv.fold=10, step=0.9)\n",
    "\n",
    "set.seed(seed)\n",
    "with(rf.cv, plot(n.var, error.cv))"
   ]
  },
  {
   "cell_type": "markdown",
   "metadata": {},
   "source": [
    "Ok, this is telling us that a model with all features may not be best. Let's try retrain the model without the lowest importance features and rerun the predictions"
   ]
  },
  {
   "cell_type": "code",
   "execution_count": 354,
   "metadata": {
    "collapsed": false
   },
   "outputs": [
    {
     "data": {
      "text/plain": [
       "\n",
       "Call:\n",
       " randomForest(formula = Result ~ . - ATT1 - ATT3 - ATT5, data = rforest_train,      mtry = 4, ntree = 10000, sampsize = 1000) \n",
       "               Type of random forest: classification\n",
       "                     Number of trees: 10000\n",
       "No. of variables tried at each split: 4\n",
       "\n",
       "        OOB estimate of  error rate: 63.08%\n",
       "Confusion matrix:\n",
       "    0   1  2 3 class.error\n",
       "0 408 414 46 0      0.5300\n",
       "1 387 443 46 0      0.4943\n",
       "2 206 254 35 0      0.9293\n",
       "3  68  84  9 0      1.0000"
      ]
     },
     "metadata": {},
     "output_type": "display_data"
    }
   ],
   "source": [
    "rforest <- randomForest(Result ~ . - ATT1 - ATT3 - ATT5, data = rforest_train, mtry=4, ntree=10000, sampsize=1000)\n",
    "rforest"
   ]
  },
  {
   "cell_type": "code",
   "execution_count": 355,
   "metadata": {
    "collapsed": true
   },
   "outputs": [],
   "source": [
    "pred_rf <- predict(rforest, test)"
   ]
  },
  {
   "cell_type": "code",
   "execution_count": 356,
   "metadata": {
    "collapsed": false
   },
   "outputs": [
    {
     "data": {
      "text/plain": [
       "Confusion Matrix and Statistics\n",
       "\n",
       "          Reference\n",
       "Prediction   0   1   2   3\n",
       "         0 102  88  71  14\n",
       "         1 102 100  68  21\n",
       "         2  10  16   8   0\n",
       "         3   0   0   0   0\n",
       "\n",
       "Overall Statistics\n",
       "                                       \n",
       "               Accuracy : 0.35         \n",
       "                 95% CI : (0.312, 0.39)\n",
       "    No Information Rate : 0.357        \n",
       "    P-Value [Acc > NIR] : 0.648        \n",
       "                                       \n",
       "                  Kappa : 0.012        \n",
       " Mcnemar's Test P-Value : NA           \n",
       "\n",
       "Statistics by Class:\n",
       "\n",
       "                     Class: 0 Class: 1 Class: 2 Class: 3\n",
       "Sensitivity             0.477    0.490   0.0544   0.0000\n",
       "Specificity             0.552    0.518   0.9426   1.0000\n",
       "Pos Pred Value          0.371    0.344   0.2353      NaN\n",
       "Neg Pred Value          0.655    0.663   0.7544   0.9417\n",
       "Prevalence              0.357    0.340   0.2450   0.0583\n",
       "Detection Rate          0.170    0.167   0.0133   0.0000\n",
       "Detection Prevalence    0.458    0.485   0.0567   0.0000\n",
       "Balanced Accuracy       0.514    0.504   0.4985   0.5000"
      ]
     },
     "metadata": {},
     "output_type": "display_data"
    }
   ],
   "source": [
    "confusionMatrix(pred_rf, actual)"
   ]
  },
  {
   "cell_type": "markdown",
   "metadata": {},
   "source": [
    "### Gradient Boosted Trees vs. RandomForest discussion\n",
    "\n",
    "We have chosen two variants on the Decision Tree paradigm for a our first models. While Gradient Boosted trees and Random Forests are based on the same concept, their behaviours were shown to be quite different.\n",
    "\n",
    "Given the less 'random' nature of Boosting, more effort is required to tune the many parameters to ensure there is no overfitting - whilst RandomForests are pretty good in this area out of the box. The only parameter to tune is really the number of features that are randomly selected from at each step in the tree creation. After tuning we saw that the relatively low number of 2 was selected - the default is the square root of the number of predictors, so 3 or 4 in our case.\n",
    "\n",
    "Both options gave us the ability to see feature importance and agreed that ATT1 and ATT5 were not very significant. Dropping these improved the RandomForest accuracy.\n",
    "\n",
    "Both models performed faily well, but XGBoost took a lot more effort to get to this accuracy. The best choice for this project is a little subjective (even after we've run both):\n",
    "\n",
    "Dimensiality - Boosted trees are the method of choice in low (< 100) dimension settings. Random forests are the better choice in high-dimension settings.\n",
    "\n",
    "Ideally, at the end of the project we would like to be able to convey how the prediction model is working under the hood to doctors who use it. They will be able to bring domain expertise to the problem if they can see how the model is working. This is one benefit of using a Tree based model. This is reduced somewhat as we bring in aspects such as Boosting and Random Forests, however.\n",
    "\n",
    "After using the method, we were unable to improve the predictive accuracy much beyond 34%. Much of this was due to not having the compute power to effectively tune the hyperparameters. Given we were very unsure about our data, we needed to tune heavily, especially since we were seeing many cases of train error rates much lower than test. Avoiding over-fitting proved to be the demise of this method."
   ]
  },
  {
   "cell_type": "markdown",
   "metadata": {},
   "source": [
    "---\n",
    "# 6. Turbo Boost\n",
    "(Aruna Tillekeratne)"
   ]
  },
  {
   "cell_type": "code",
   "execution_count": 357,
   "metadata": {
    "collapsed": true
   },
   "outputs": [],
   "source": [
    "# Set training and test sets\n",
    "tr_ <- train\n",
    "ts_ <- test\n",
    "actual <- ts_$Result"
   ]
  },
  {
   "cell_type": "code",
   "execution_count": 358,
   "metadata": {
    "collapsed": false
   },
   "outputs": [],
   "source": [
    "# PCA\n",
    "pc_ <- Udf.Utilities.Prcomp(tr_[,-ncol(tr_)],nComps = 2)\n",
    "\n",
    "pcObj_ <- pc_$prcompObj # Get object \n",
    "\n",
    "tr_ <- cbind(tr_,pc_$components) # bind to features."
   ]
  },
  {
   "cell_type": "code",
   "execution_count": 359,
   "metadata": {
    "collapsed": false
   },
   "outputs": [],
   "source": [
    "# do the same to the test set\n",
    "pc_ts <- Udf.Utilities.Prcomp(ts_[,-ncol(ts_)],nComps = 2)\n",
    "\n",
    "pcObj_ts<- pc_ts$prcompObj # Get object \n",
    "\n",
    "ts_ <- cbind(ts_,pc_ts$components) # bind to features."
   ]
  },
  {
   "cell_type": "code",
   "execution_count": 360,
   "metadata": {
    "collapsed": false,
    "scrolled": true
   },
   "outputs": [],
   "source": [
    "# Control method\n",
    "ctrl_ <- trainControl(method = \"cv\", number = 5, sampling = \"up\")\n",
    "mdl.xgb <- train(Result ~ . , data = tr_, method = \"xgbTree\", trControl = ctrl_)"
   ]
  },
  {
   "cell_type": "code",
   "execution_count": 361,
   "metadata": {
    "collapsed": false
   },
   "outputs": [],
   "source": [
    "pred_xgb_prcomp <- predict(mdl.xgb, ts_)"
   ]
  },
  {
   "cell_type": "code",
   "execution_count": 362,
   "metadata": {
    "collapsed": false
   },
   "outputs": [
    {
     "data": {
      "text/plain": [
       "Confusion Matrix and Statistics\n",
       "\n",
       "          Reference\n",
       "Prediction  0  1  2  3\n",
       "         0 72 63 50 29\n",
       "         1 75 62 50 17\n",
       "         2 53 49 32 13\n",
       "         3 16  8  7  4\n",
       "\n",
       "Overall Statistics\n",
       "                                        \n",
       "               Accuracy : 0.283         \n",
       "                 95% CI : (0.248, 0.321)\n",
       "    No Information Rate : 0.36          \n",
       "    P-Value [Acc > NIR] : 1.000         \n",
       "                                        \n",
       "                  Kappa : -0.016        \n",
       " Mcnemar's Test P-Value : 0.127         \n",
       "\n",
       "Statistics by Class:\n",
       "\n",
       "                     Class: 0 Class: 1 Class: 2 Class: 3\n",
       "Sensitivity             0.333    0.341   0.2302  0.06349\n",
       "Specificity             0.630    0.660   0.7505  0.94227\n",
       "Pos Pred Value          0.336    0.304   0.2177  0.11429\n",
       "Neg Pred Value          0.627    0.697   0.7638  0.89558\n",
       "Prevalence              0.360    0.303   0.2317  0.10500\n",
       "Detection Rate          0.120    0.103   0.0533  0.00667\n",
       "Detection Prevalence    0.357    0.340   0.2450  0.05833\n",
       "Balanced Accuracy       0.482    0.500   0.4904  0.50288"
      ]
     },
     "metadata": {},
     "output_type": "display_data"
    }
   ],
   "source": [
    "confusionMatrix(actual, pred_xgb_prcomp)"
   ]
  },
  {
   "cell_type": "code",
   "execution_count": 363,
   "metadata": {
    "collapsed": false
   },
   "outputs": [
    {
     "name": "stdout",
     "output_type": "stream",
     "text": [
      "Iter   TrainDeviance   ValidDeviance   StepSize   Improve\n",
      "     1        1.3863             nan     0.1000    0.0050\n",
      "     2        1.3805             nan     0.1000    0.0038\n",
      "     3        1.3752             nan     0.1000    0.0003\n",
      "     4        1.3706             nan     0.1000   -0.0006\n",
      "     5        1.3667             nan     0.1000    0.0049\n",
      "     6        1.3614             nan     0.1000    0.0027\n",
      "     7        1.3569             nan     0.1000    0.0015\n",
      "     8        1.3520             nan     0.1000    0.0023\n",
      "     9        1.3473             nan     0.1000   -0.0009\n",
      "    10        1.3433             nan     0.1000    0.0025\n",
      "    20        1.3016             nan     0.1000   -0.0004\n",
      "    40        1.2379             nan     0.1000    0.0002\n",
      "    60        1.1844             nan     0.1000   -0.0032\n",
      "    80        1.1378             nan     0.1000   -0.0022\n",
      "   100        1.0957             nan     0.1000   -0.0016\n",
      "   120        1.0583             nan     0.1000   -0.0008\n",
      "   140        1.0228             nan     0.1000   -0.0011\n",
      "   150        1.0090             nan     0.1000   -0.0005\n",
      "\n"
     ]
    }
   ],
   "source": [
    "mdl.gbm <- train(Result ~ . , data = tr_,method = \"gbm\", trControl = ctrl_)\n",
    "pred_gbm <- predict(mdl.gbm, ts_)"
   ]
  },
  {
   "cell_type": "code",
   "execution_count": 364,
   "metadata": {
    "collapsed": false
   },
   "outputs": [
    {
     "data": {
      "text/plain": [
       "Confusion Matrix and Statistics\n",
       "\n",
       "          Reference\n",
       "Prediction  0  1  2  3\n",
       "         0 67 61 53 33\n",
       "         1 60 65 56 23\n",
       "         2 43 51 35 18\n",
       "         3 10 11  8  6\n",
       "\n",
       "Overall Statistics\n",
       "                                        \n",
       "               Accuracy : 0.288         \n",
       "                 95% CI : (0.252, 0.326)\n",
       "    No Information Rate : 0.313         \n",
       "    P-Value [Acc > NIR] : 0.91454       \n",
       "                                        \n",
       "                  Kappa : 0.007         \n",
       " Mcnemar's Test P-Value : 0.00139       \n",
       "\n",
       "Statistics by Class:\n",
       "\n",
       "                     Class: 0 Class: 1 Class: 2 Class: 3\n",
       "Sensitivity             0.372    0.346   0.2303   0.0750\n",
       "Specificity             0.650    0.663   0.7500   0.9442\n",
       "Pos Pred Value          0.313    0.319   0.2381   0.1714\n",
       "Neg Pred Value          0.707    0.689   0.7417   0.8690\n",
       "Prevalence              0.300    0.313   0.2533   0.1333\n",
       "Detection Rate          0.112    0.108   0.0583   0.0100\n",
       "Detection Prevalence    0.357    0.340   0.2450   0.0583\n",
       "Balanced Accuracy       0.511    0.504   0.4901   0.5096"
      ]
     },
     "metadata": {},
     "output_type": "display_data"
    }
   ],
   "source": [
    "confusionMatrix(actual, pred_gbm)"
   ]
  },
  {
   "cell_type": "markdown",
   "metadata": {},
   "source": [
    "---\n",
    "# 7. KNN Classification\n",
    "(Jeffrey Mills)"
   ]
  },
  {
   "cell_type": "code",
   "execution_count": 365,
   "metadata": {
    "collapsed": true
   },
   "outputs": [],
   "source": [
    "# set the training set\n",
    "knn_train <- train"
   ]
  },
  {
   "cell_type": "code",
   "execution_count": 366,
   "metadata": {
    "collapsed": false
   },
   "outputs": [],
   "source": [
    "set.seed(seed)\n",
    "# create the trainControl for cross-validation\n",
    "ctrl <- trainControl(method=\"repeatedcv\",repeats = 5)\n",
    "# create the model. Cross validation is on the K parameter\n",
    "knnFit <- train(Result ~ ., \n",
    "                data = knn_train, \n",
    "                method = \"knn\", \n",
    "                trControl = ctrl, \n",
    "                preProcess = c(\"center\",\"scale\"),\n",
    "                tuneLength = 20)"
   ]
  },
  {
   "cell_type": "code",
   "execution_count": 367,
   "metadata": {
    "collapsed": false,
    "scrolled": true
   },
   "outputs": [
    {
     "data": {
      "text/plain": [
       "k-Nearest Neighbors \n",
       "\n",
       "2400 samples\n",
       "  10 predictor\n",
       "   4 classes: '0', '1', '2', '3' \n",
       "\n",
       "Pre-processing: centered (10), scaled (10) \n",
       "Resampling: Cross-Validated (10 fold, repeated 5 times) \n",
       "Summary of sample sizes: 2158, 2162, 2161, 2161, 2160, 2160, ... \n",
       "Resampling results across tuning parameters:\n",
       "\n",
       "  k   Accuracy  Kappa     \n",
       "   5  0.3327     0.0031361\n",
       "   7  0.3398     0.0052320\n",
       "   9  0.3456     0.0067162\n",
       "  11  0.3454    -0.0001731\n",
       "  13  0.3512     0.0059354\n",
       "  15  0.3529     0.0050043\n",
       "  17  0.3526     0.0021470\n",
       "  19  0.3519    -0.0011296\n",
       "  21  0.3497    -0.0065015\n",
       "  23  0.3519    -0.0044468\n",
       "  25  0.3467    -0.0140404\n",
       "  27  0.3473    -0.0147368\n",
       "  29  0.3413    -0.0244012\n",
       "  31  0.3466    -0.0170929\n",
       "  33  0.3448    -0.0208928\n",
       "  35  0.3495    -0.0144542\n",
       "  37  0.3500    -0.0144856\n",
       "  39  0.3491    -0.0164655\n",
       "  41  0.3541    -0.0095169\n",
       "  43  0.3521    -0.0132306\n",
       "\n",
       "Accuracy was used to select the optimal model using  the largest value.\n",
       "The final value used for the model was k = 41. "
      ]
     },
     "metadata": {},
     "output_type": "display_data"
    }
   ],
   "source": [
    "knnFit"
   ]
  },
  {
   "cell_type": "code",
   "execution_count": 368,
   "metadata": {
    "collapsed": false
   },
   "outputs": [
    {
     "data": {},
     "metadata": {},
     "output_type": "display_data"
    },
    {
     "data": {
      "image/png": "[encoded data removed]",
      "text/plain": [
       "plot without title"
      ]
     },
     "metadata": {},
     "output_type": "display_data"
    }
   ],
   "source": [
    "#Plotting yields Number of Neighbours Vs accuracy (based on repeated cross validation)\n",
    "plot(knnFit)"
   ]
  },
  {
   "cell_type": "markdown",
   "metadata": {},
   "source": [
    "An interesting plot. I'm not 100% sure we are out of a local minimum, but that's Ok for now, let's check the result"
   ]
  },
  {
   "cell_type": "code",
   "execution_count": 369,
   "metadata": {
    "collapsed": true
   },
   "outputs": [],
   "source": [
    "pred_knn <- predict(knnFit,newdata = test )"
   ]
  },
  {
   "cell_type": "code",
   "execution_count": 370,
   "metadata": {
    "collapsed": false
   },
   "outputs": [
    {
     "data": {
      "text/plain": [
       "Confusion Matrix and Statistics\n",
       "\n",
       "          Reference\n",
       "Prediction   0   1   2   3\n",
       "         0 101 109   4   0\n",
       "         1  91 110   3   0\n",
       "         2  77  66   4   0\n",
       "         3  21  13   1   0\n",
       "\n",
       "Overall Statistics\n",
       "                                             \n",
       "               Accuracy : 0.358              \n",
       "                 95% CI : (0.32, 0.398)      \n",
       "    No Information Rate : 0.497              \n",
       "    P-Value [Acc > NIR] : 1                  \n",
       "                                             \n",
       "                  Kappa : 0.019              \n",
       " Mcnemar's Test P-Value : <0.0000000000000002\n",
       "\n",
       "Statistics by Class:\n",
       "\n",
       "                     Class: 0 Class: 1 Class: 2 Class: 3\n",
       "Sensitivity             0.348    0.369  0.33333       NA\n",
       "Specificity             0.635    0.689  0.75680   0.9417\n",
       "Pos Pred Value          0.472    0.539  0.02721       NA\n",
       "Neg Pred Value          0.510    0.525  0.98234       NA\n",
       "Prevalence              0.483    0.497  0.02000   0.0000\n",
       "Detection Rate          0.168    0.183  0.00667   0.0000\n",
       "Detection Prevalence    0.357    0.340  0.24500   0.0583\n",
       "Balanced Accuracy       0.492    0.529  0.54507       NA"
      ]
     },
     "metadata": {},
     "output_type": "display_data"
    }
   ],
   "source": [
    "confusionMatrix(actual, pred_knn )"
   ]
  },
  {
   "cell_type": "markdown",
   "metadata": {},
   "source": [
    "Accuracy of 35.8% is very good out of the box - I'm a little concerned with how poorly it did on Class 3, however -  we may need to look at up-sampling"
   ]
  },
  {
   "cell_type": "markdown",
   "metadata": {},
   "source": [
    "---\n",
    "# 8. Support Vector Machine\n",
    "(Peter Tadich)"
   ]
  },
  {
   "cell_type": "code",
   "execution_count": 432,
   "metadata": {
    "collapsed": false
   },
   "outputs": [],
   "source": [
    "prostateDatasetTrain_modified <- train\n",
    "prostateDatasetTest_modified<- test"
   ]
  },
  {
   "cell_type": "markdown",
   "metadata": {},
   "source": [
    "#### Response variable to factor."
   ]
  },
  {
   "cell_type": "code",
   "execution_count": 433,
   "metadata": {
    "collapsed": false
   },
   "outputs": [],
   "source": [
    "# Encode response 'Result' as a factor variable to perform classification.\n",
    "prostateDatasetTrain_modified[['Result']] <- as.factor(prostateDatasetTrain_modified[['Result']]);\n",
    "# Do the same for the test set.\n",
    "prostateDatasetTest_modified[['Result']] <- as.factor(prostateDatasetTest_modified[['Result']]);"
   ]
  },
  {
   "cell_type": "markdown",
   "metadata": {},
   "source": [
    "#### Predictor matrix"
   ]
  },
  {
   "cell_type": "code",
   "execution_count": 434,
   "metadata": {
    "collapsed": false
   },
   "outputs": [],
   "source": [
    "# All predictors to a matrix.\n",
    "x <- data.matrix(subset(prostateDatasetTrain_modified, select = -c(Result)));"
   ]
  },
  {
   "cell_type": "code",
   "execution_count": 435,
   "metadata": {
    "collapsed": false
   },
   "outputs": [
    {
     "data": {
      "text/html": [
       "<table>\n",
       "<thead><tr><th></th><th scope=col>ATT1</th><th scope=col>ATT2</th><th scope=col>ATT3</th><th scope=col>ATT4</th><th scope=col>ATT5</th><th scope=col>ATT6</th><th scope=col>ATT7</th><th scope=col>ATT8</th><th scope=col>ATT9</th><th scope=col>ATT10</th></tr></thead>\n",
       "<tbody>\n",
       "\t<tr><th scope=row>863</th><td> 5</td><td> 8</td><td>10</td><td> 9</td><td> 2</td><td> 2</td><td> 8</td><td> 6</td><td> 2</td><td> 3</td></tr>\n",
       "\t<tr><th scope=row>2365</th><td>4</td><td>4</td><td>2</td><td>4</td><td>4</td><td>1</td><td>3</td><td>7</td><td>3</td><td>9</td></tr>\n",
       "\t<tr><th scope=row>1227</th><td>7</td><td>4</td><td>9</td><td>2</td><td>4</td><td>2</td><td>3</td><td>9</td><td>9</td><td>8</td></tr>\n",
       "\t<tr><th scope=row>2647</th><td> 5</td><td> 5</td><td> 7</td><td> 2</td><td> 4</td><td> 1</td><td> 8</td><td>10</td><td> 1</td><td> 7</td></tr>\n",
       "\t<tr><th scope=row>2818</th><td>10</td><td> 1</td><td> 2</td><td> 5</td><td> 7</td><td> 2</td><td> 8</td><td> 5</td><td> 9</td><td> 5</td></tr>\n",
       "</tbody>\n",
       "</table>\n"
      ],
      "text/latex": [
       "\\begin{tabular}{r|llllllllll}\n",
       "  & ATT1 & ATT2 & ATT3 & ATT4 & ATT5 & ATT6 & ATT7 & ATT8 & ATT9 & ATT10\\\\\n",
       "\\hline\n",
       "\t863 &  5 &  8 & 10 &  9 &  2 &  2 &  8 &  6 &  2 &  3\\\\\n",
       "\t2365 & 4 & 4 & 2 & 4 & 4 & 1 & 3 & 7 & 3 & 9\\\\\n",
       "\t1227 & 7 & 4 & 9 & 2 & 4 & 2 & 3 & 9 & 9 & 8\\\\\n",
       "\t2647 &  5 &  5 &  7 &  2 &  4 &  1 &  8 & 10 &  1 &  7\\\\\n",
       "\t2818 & 10 &  1 &  2 &  5 &  7 &  2 &  8 &  5 &  9 &  5\\\\\n",
       "\\end{tabular}\n"
      ],
      "text/markdown": [
       "1. 5\n",
       "2. 4\n",
       "3. 7\n",
       "4. 5\n",
       "5. 10\n",
       "6. 8\n",
       "7. 4\n",
       "8. 4\n",
       "9. 5\n",
       "10. 1\n",
       "11. 10\n",
       "12. 2\n",
       "13. 9\n",
       "14. 7\n",
       "15. 2\n",
       "16. 9\n",
       "17. 4\n",
       "18. 2\n",
       "19. 2\n",
       "20. 5\n",
       "21. 2\n",
       "22. 4\n",
       "23. 4\n",
       "24. 4\n",
       "25. 7\n",
       "26. 2\n",
       "27. 1\n",
       "28. 2\n",
       "29. 1\n",
       "30. 2\n",
       "31. 8\n",
       "32. 3\n",
       "33. 3\n",
       "34. 8\n",
       "35. 8\n",
       "36. 6\n",
       "37. 7\n",
       "38. 9\n",
       "39. 10\n",
       "40. 5\n",
       "41. 2\n",
       "42. 3\n",
       "43. 9\n",
       "44. 1\n",
       "45. 9\n",
       "46. 3\n",
       "47. 9\n",
       "48. 8\n",
       "49. 7\n",
       "50. 5\n",
       "\n",
       "\n"
      ],
      "text/plain": [
       "     ATT1 ATT2 ATT3 ATT4 ATT5 ATT6 ATT7 ATT8 ATT9 ATT10\n",
       "863     5    8   10    9    2    2    8    6    2     3\n",
       "2365    4    4    2    4    4    1    3    7    3     9\n",
       "1227    7    4    9    2    4    2    3    9    9     8\n",
       "2647    5    5    7    2    4    1    8   10    1     7\n",
       "2818   10    1    2    5    7    2    8    5    9     5"
      ]
     },
     "metadata": {},
     "output_type": "display_data"
    }
   ],
   "source": [
    "x[1:5,];"
   ]
  },
  {
   "cell_type": "code",
   "execution_count": 436,
   "metadata": {
    "collapsed": true
   },
   "outputs": [],
   "source": [
    "# Do the same for the test set.\n",
    "x_test <- data.matrix(subset(prostateDatasetTest_modified, select = -c(Result)));"
   ]
  },
  {
   "cell_type": "code",
   "execution_count": 437,
   "metadata": {
    "collapsed": false
   },
   "outputs": [
    {
     "data": {
      "text/html": [
       "<table>\n",
       "<thead><tr><th></th><th scope=col>ATT1</th><th scope=col>ATT2</th><th scope=col>ATT3</th><th scope=col>ATT4</th><th scope=col>ATT5</th><th scope=col>ATT6</th><th scope=col>ATT7</th><th scope=col>ATT8</th><th scope=col>ATT9</th><th scope=col>ATT10</th></tr></thead>\n",
       "<tbody>\n",
       "\t<tr><th scope=row>1</th><td>2</td><td>4</td><td>2</td><td>6</td><td>5</td><td>7</td><td>1</td><td>2</td><td>6</td><td>8</td></tr>\n",
       "\t<tr><th scope=row>11</th><td>10</td><td> 3</td><td> 7</td><td> 9</td><td> 9</td><td> 5</td><td> 2</td><td> 3</td><td> 2</td><td> 6</td></tr>\n",
       "\t<tr><th scope=row>12</th><td> 8</td><td> 2</td><td> 4</td><td> 2</td><td> 2</td><td> 2</td><td> 4</td><td> 8</td><td> 6</td><td>10</td></tr>\n",
       "\t<tr><th scope=row>13</th><td> 7</td><td> 2</td><td>10</td><td> 7</td><td>10</td><td> 1</td><td> 3</td><td> 6</td><td> 2</td><td> 1</td></tr>\n",
       "\t<tr><th scope=row>14</th><td> 9</td><td>10</td><td> 9</td><td> 3</td><td> 4</td><td> 6</td><td> 9</td><td> 6</td><td> 4</td><td> 2</td></tr>\n",
       "</tbody>\n",
       "</table>\n"
      ],
      "text/latex": [
       "\\begin{tabular}{r|llllllllll}\n",
       "  & ATT1 & ATT2 & ATT3 & ATT4 & ATT5 & ATT6 & ATT7 & ATT8 & ATT9 & ATT10\\\\\n",
       "\\hline\n",
       "\t1 & 2 & 4 & 2 & 6 & 5 & 7 & 1 & 2 & 6 & 8\\\\\n",
       "\t11 & 10 &  3 &  7 &  9 &  9 &  5 &  2 &  3 &  2 &  6\\\\\n",
       "\t12 &  8 &  2 &  4 &  2 &  2 &  2 &  4 &  8 &  6 & 10\\\\\n",
       "\t13 &  7 &  2 & 10 &  7 & 10 &  1 &  3 &  6 &  2 &  1\\\\\n",
       "\t14 &  9 & 10 &  9 &  3 &  4 &  6 &  9 &  6 &  4 &  2\\\\\n",
       "\\end{tabular}\n"
      ],
      "text/markdown": [
       "1. 2\n",
       "2. 10\n",
       "3. 8\n",
       "4. 7\n",
       "5. 9\n",
       "6. 4\n",
       "7. 3\n",
       "8. 2\n",
       "9. 2\n",
       "10. 10\n",
       "11. 2\n",
       "12. 7\n",
       "13. 4\n",
       "14. 10\n",
       "15. 9\n",
       "16. 6\n",
       "17. 9\n",
       "18. 2\n",
       "19. 7\n",
       "20. 3\n",
       "21. 5\n",
       "22. 9\n",
       "23. 2\n",
       "24. 10\n",
       "25. 4\n",
       "26. 7\n",
       "27. 5\n",
       "28. 2\n",
       "29. 1\n",
       "30. 6\n",
       "31. 1\n",
       "32. 2\n",
       "33. 4\n",
       "34. 3\n",
       "35. 9\n",
       "36. 2\n",
       "37. 3\n",
       "38. 8\n",
       "39. 6\n",
       "40. 6\n",
       "41. 6\n",
       "42. 2\n",
       "43. 6\n",
       "44. 2\n",
       "45. 4\n",
       "46. 8\n",
       "47. 6\n",
       "48. 10\n",
       "49. 1\n",
       "50. 2\n",
       "\n",
       "\n"
      ],
      "text/plain": [
       "   ATT1 ATT2 ATT3 ATT4 ATT5 ATT6 ATT7 ATT8 ATT9 ATT10\n",
       "1     2    4    2    6    5    7    1    2    6     8\n",
       "11   10    3    7    9    9    5    2    3    2     6\n",
       "12    8    2    4    2    2    2    4    8    6    10\n",
       "13    7    2   10    7   10    1    3    6    2     1\n",
       "14    9   10    9    3    4    6    9    6    4     2"
      ]
     },
     "metadata": {},
     "output_type": "display_data"
    }
   ],
   "source": [
    "x_test[1:5,];"
   ]
  },
  {
   "cell_type": "markdown",
   "metadata": {},
   "source": [
    "#### Response vector"
   ]
  },
  {
   "cell_type": "code",
   "execution_count": 438,
   "metadata": {
    "collapsed": true
   },
   "outputs": [],
   "source": [
    "# Response vector.\n",
    "y <- prostateDatasetTrain_modified[['Result']];"
   ]
  },
  {
   "cell_type": "code",
   "execution_count": 439,
   "metadata": {
    "collapsed": true
   },
   "outputs": [],
   "source": [
    "# Do the same for the test set.\n",
    "y_test <- prostateDatasetTest_modified[['Result']];"
   ]
  },
  {
   "cell_type": "markdown",
   "metadata": {},
   "source": [
    "#### Dealing with class imbalance"
   ]
  },
  {
   "cell_type": "code",
   "execution_count": 440,
   "metadata": {
    "collapsed": true
   },
   "outputs": [],
   "source": [
    "# Down-sampling.\n",
    "#xy <- downSample(x, y, list = FALSE, yname = 'Result');\n",
    "\n",
    "# Up-sampling.\n",
    "set.seed(seed)\n",
    "xy <- upSample(x, y, list = FALSE, yname = 'Result');"
   ]
  },
  {
   "cell_type": "code",
   "execution_count": 441,
   "metadata": {
    "collapsed": false
   },
   "outputs": [
    {
     "data": {
      "text/plain": [
       "\n",
       "  0   1   2   3 \n",
       "876 876 876 876 "
      ]
     },
     "metadata": {},
     "output_type": "display_data"
    }
   ],
   "source": [
    "# The classes are now balanced.\n",
    "table(xy$Result);"
   ]
  },
  {
   "cell_type": "code",
   "execution_count": 442,
   "metadata": {
    "collapsed": true
   },
   "outputs": [],
   "source": [
    "# Randomize the classes as the classes are now blocks. First class takes rows 1 to n, second class n+1 to m etc...\n",
    "indices <- sample(1:dim(xy)[1], dim(xy)[1], replace=FALSE);\n",
    "if(length(unique(indices)) != dim(xy)[1]){\n",
    "    cat('Warning: non-unique indices created.');\n",
    "}"
   ]
  },
  {
   "cell_type": "code",
   "execution_count": 443,
   "metadata": {
    "collapsed": false
   },
   "outputs": [
    {
     "data": {
      "text/html": [
       "<table>\n",
       "<thead><tr><th></th><th scope=col>ATT1</th><th scope=col>ATT2</th><th scope=col>ATT3</th><th scope=col>ATT4</th><th scope=col>ATT5</th><th scope=col>ATT6</th><th scope=col>ATT7</th><th scope=col>ATT8</th><th scope=col>ATT9</th><th scope=col>ATT10</th><th scope=col>Result</th></tr></thead>\n",
       "<tbody>\n",
       "\t<tr><th scope=row>1</th><td>6</td><td>5</td><td>2</td><td>4</td><td>2</td><td>8</td><td>2</td><td>4</td><td>3</td><td>7</td><td>3</td></tr>\n",
       "\t<tr><th scope=row>2</th><td>4</td><td>9</td><td>8</td><td>9</td><td>2</td><td>2</td><td>4</td><td>8</td><td>1</td><td>7</td><td>2</td></tr>\n",
       "\t<tr><th scope=row>3</th><td>5</td><td>5</td><td>9</td><td>2</td><td>6</td><td>5</td><td>1</td><td>9</td><td>3</td><td>1</td><td>2</td></tr>\n",
       "\t<tr><th scope=row>4</th><td>7</td><td>6</td><td>4</td><td>4</td><td>9</td><td>6</td><td>8</td><td>9</td><td>3</td><td>1</td><td>3</td></tr>\n",
       "\t<tr><th scope=row>5</th><td>10</td><td>5 </td><td>4 </td><td>8 </td><td>4 </td><td>7 </td><td>3 </td><td>6 </td><td>7 </td><td>3 </td><td>3 </td></tr>\n",
       "</tbody>\n",
       "</table>\n"
      ],
      "text/latex": [
       "\\begin{tabular}{r|lllllllllll}\n",
       "  & ATT1 & ATT2 & ATT3 & ATT4 & ATT5 & ATT6 & ATT7 & ATT8 & ATT9 & ATT10 & Result\\\\\n",
       "\\hline\n",
       "\t1 & 6 & 5 & 2 & 4 & 2 & 8 & 2 & 4 & 3 & 7 & 3\\\\\n",
       "\t2 & 4 & 9 & 8 & 9 & 2 & 2 & 4 & 8 & 1 & 7 & 2\\\\\n",
       "\t3 & 5 & 5 & 9 & 2 & 6 & 5 & 1 & 9 & 3 & 1 & 2\\\\\n",
       "\t4 & 7 & 6 & 4 & 4 & 9 & 6 & 8 & 9 & 3 & 1 & 3\\\\\n",
       "\t5 & 10 & 5  & 4  & 8  & 4  & 7  & 3  & 6  & 7  & 3  & 3 \\\\\n",
       "\\end{tabular}\n"
      ],
      "text/plain": [
       "  ATT1 ATT2 ATT3 ATT4 ATT5 ATT6 ATT7 ATT8 ATT9 ATT10 Result\n",
       "1    6    5    2    4    2    8    2    4    3     7      3\n",
       "2    4    9    8    9    2    2    4    8    1     7      2\n",
       "3    5    5    9    2    6    5    1    9    3     1      2\n",
       "4    7    6    4    4    9    6    8    9    3     1      3\n",
       "5   10    5    4    8    4    7    3    6    7     3      3"
      ]
     },
     "metadata": {},
     "output_type": "display_data"
    }
   ],
   "source": [
    "xy <- data.frame(xy)[indices, ];\n",
    "rownames(xy) <- NULL;\n",
    "head(xy, 5);"
   ]
  },
  {
   "cell_type": "code",
   "execution_count": 444,
   "metadata": {
    "collapsed": false
   },
   "outputs": [
    {
     "name": "stdout",
     "output_type": "stream",
     "text": [
      "Number of samples:  3504"
     ]
    }
   ],
   "source": [
    "cat('Number of samples: ', dim(xy)[1]);"
   ]
  },
  {
   "cell_type": "markdown",
   "metadata": {},
   "source": [
    "#### Create predictor matrix, response vector"
   ]
  },
  {
   "cell_type": "code",
   "execution_count": 445,
   "metadata": {
    "collapsed": true
   },
   "outputs": [],
   "source": [
    "# Predictor matrix - all predictors to a matrix.\n",
    "x <- data.matrix(subset(xy, select = -c(Result)));"
   ]
  },
  {
   "cell_type": "code",
   "execution_count": 446,
   "metadata": {
    "collapsed": true
   },
   "outputs": [],
   "source": [
    "# Response vector.\n",
    "y <- xy[['Result']];"
   ]
  },
  {
   "cell_type": "markdown",
   "metadata": {},
   "source": [
    "#### Setup dataframe for recursive feature elimination"
   ]
  },
  {
   "cell_type": "code",
   "execution_count": 447,
   "metadata": {
    "collapsed": true
   },
   "outputs": [],
   "source": [
    "# Create the 'predictor' vectors.\n",
    "predictors <- subset(xy, select = -c(Result)); # Drop 'Result'"
   ]
  },
  {
   "cell_type": "code",
   "execution_count": 448,
   "metadata": {
    "collapsed": true
   },
   "outputs": [],
   "source": [
    "# Create the 'response' vector.\n",
    "response <- xy$Result;"
   ]
  },
  {
   "cell_type": "code",
   "execution_count": 449,
   "metadata": {
    "collapsed": true
   },
   "outputs": [],
   "source": [
    "# Combine the 'response' with the 'predictors'.\n",
    "adData <- predictors;\n",
    "adData$Result <- response;"
   ]
  },
  {
   "cell_type": "markdown",
   "metadata": {},
   "source": [
    "### SVM setup"
   ]
  },
  {
   "cell_type": "code",
   "execution_count": 450,
   "metadata": {
    "collapsed": true
   },
   "outputs": [],
   "source": [
    "# Create a split vector to be used to create a training set and a test set.\n",
    "set.seed(658);\n",
    "split <- createDataPartition(response, p = .8, list = FALSE);\n",
    "\n",
    "# Now create 'training' and 'test' datasets.\n",
    "training <- adData[ split, ];\n",
    "testing  <- adData[-split, ];\n",
    "\n",
    "# Get the 'predictor' names.\n",
    "predVars <- names(adData)[!(names(adData) %in% c(\"Result\"))];\n",
    "\n",
    "# Create the cross-validation files as a list to use with different functions.\n",
    "set.seed(294);\n",
    "index <- createMultiFolds(training$Result, times = 5);\n",
    "\n",
    "## The candidate set of the number of predictors to evaluate\n",
    "varSeq <- seq(9,length(predVars),1);"
   ]
  },
  {
   "cell_type": "code",
   "execution_count": 451,
   "metadata": {
    "collapsed": true
   },
   "outputs": [],
   "source": [
    "rank <- function (object, x, y) \n",
    "{\n",
    "    cat('rank\\n')\n",
    "    cat('Model type: ', object$modelType, '\\n')\n",
    "    vimp <- varImp(object, scale = FALSE)$importance\n",
    "    cat('vimp colnames: ', colnames(vimp), '\\n')\n",
    "    cat('levels (before): ', levels(y), '\\n')\n",
    "    # Rename by name: change \"0\" to \"X0\"\n",
    "    levels(y)[levels(y)==\"0\"] <- \"X0\"\n",
    "    levels(y)[levels(y)==\"1\"] <- \"X1\"\n",
    "    levels(y)[levels(y)==\"2\"] <- \"X2\"\n",
    "    levels(y)[levels(y)==\"3\"] <- \"X3\"\n",
    "    cat('levels (after): ', levels(y), '\\n')\n",
    "    if (object$modelType == \"Regression\") {\n",
    "        vimp <- vimp[order(vimp[, 1], decreasing = TRUE), , drop = FALSE]\n",
    "    }\n",
    "    else {\n",
    "        if (all(levels(y) %in% colnames(vimp))) {\n",
    "            avImp <- apply(vimp[, levels(y), drop = TRUE], 1, \n",
    "                mean)\n",
    "            vimp$Overall <- avImp\n",
    "        }\n",
    "    }\n",
    "    vimp$var <- rownames(vimp)\n",
    "    cat(dim(vimp), '\\n')\n",
    "    vimp\n",
    "}"
   ]
  },
  {
   "cell_type": "code",
   "execution_count": 452,
   "metadata": {
    "collapsed": true
   },
   "outputs": [],
   "source": [
    "selectSize <- function (x, metric, maximize) \n",
    "    {\n",
    "        cat('selectSize\\n')\n",
    "        cat(dim(x), '\\n')\n",
    "        cat(names(x), '\\n')\n",
    "        cat(metric, '\\n');\n",
    "        best <- if (maximize) \n",
    "            which.max(x[, metric])\n",
    "        else which.min(x[, metric])\n",
    "        cat('Optimal number of predictors: ', min(x[best, \"Variables\"]), '\\n')\n",
    "        min(x[best, \"Variables\"])\n",
    "    }"
   ]
  },
  {
   "cell_type": "code",
   "execution_count": 453,
   "metadata": {
    "collapsed": true
   },
   "outputs": [],
   "source": [
    "selectVar <- function (y, size) \n",
    "{\n",
    "    cat('selectVar:\\n')\n",
    "    cat(dim(y), '\\n')\n",
    "    cat(names(y), '\\n')\n",
    "    cat('size: ', size, '\\n')\n",
    "    finalImp <- ddply(y[, c(\"Overall\", \"var\")], .(var), function(x) mean(x$Overall, \n",
    "        na.rm = TRUE))\n",
    "    names(finalImp)[2] <- \"Overall\"\n",
    "    finalImp <- finalImp[order(finalImp$Overall, decreasing = TRUE), ]\n",
    "    as.character(finalImp$var[1:size])\n",
    "}"
   ]
  },
  {
   "cell_type": "code",
   "execution_count": 454,
   "metadata": {
    "collapsed": true
   },
   "outputs": [],
   "source": [
    "ctrl <- rfeControl(method = \"repeatedcv\",\n",
    "    repeats = 5,\n",
    "    saveDetails = TRUE,\n",
    "    index = index,\n",
    "    returnResamp = \"final\",\n",
    "    verbose = TRUE,\n",
    "    allowParallel = TRUE);\n",
    "\n",
    "# 'caretFuncs' list allows for a model to be tuned at each iteration of feature seleciton.\n",
    "ctrl$functions <- caretFuncs;\n",
    "# These summary functions are used to evaluate the models.\n",
    "ctrl$functions$summary <- multiClassSummary;"
   ]
  },
  {
   "cell_type": "code",
   "execution_count": 455,
   "metadata": {
    "collapsed": false
   },
   "outputs": [],
   "source": [
    "ctrl$functions$rank <- rank;\n",
    "ctrl$functions$selectSize <- selectSize;\n",
    "ctrl$functions$selectVar <- selectVar;\n",
    "# IMPORTANT: To list the 'functions' execute 'ctrl$functions'.\n",
    "#ctrl$functions;"
   ]
  },
  {
   "cell_type": "code",
   "execution_count": 456,
   "metadata": {
    "collapsed": true
   },
   "outputs": [],
   "source": [
    "# Run model tuning sequentially.\n",
    "cvCtrl <- trainControl(method = \"repeatedcv\",\n",
    "    verboseIter = FALSE,\n",
    "    classProbs = FALSE,\n",
    "    allowParallel = TRUE,\n",
    "    summaryFunction = multiClassSummary);"
   ]
  },
  {
   "cell_type": "code",
   "execution_count": 458,
   "metadata": {
    "collapsed": true
   },
   "outputs": [],
   "source": [
    "# Setup tuning parameters.\n",
    "set.seed(seed);\n",
    "SVM_MODEL = 'svmPoly';\n",
    "if(SVM_MODEL == 'svmRadial'){ # svmRadial\n",
    "    sigmaRangeFull <- sigest(array(unlist(training), dim = dim(training)));\n",
    "    svmRGridFull <- expand.grid(sigma = as.vector(sigmaRangeFull)[1], C = 2^(-3:3));\n",
    "} else { # svmPoly\n",
    "    #svmRGridFull <- expand.grid(scale = 2^(-1:1), degree = c(3), C = 2^(-3:3));\n",
    "    svmRGridFull <- expand.grid(scale = c(1.0, 10.0, 100.0), degree = 1, C = c(0.03125, 0.0625, 0.125));\n",
    "}"
   ]
  },
  {
   "cell_type": "code",
   "execution_count": 459,
   "metadata": {
    "collapsed": false
   },
   "outputs": [],
   "source": [
    "# Run recursive feature elimination to do feature selection on svm model. \n",
    "# This method can take up to an hour - so don't run :)\n",
    "if(FALSE){\n",
    "\n",
    "    # Do parallel computation.\n",
    "    cores <- 4;\n",
    "    registerDoParallel(cores=cores); # Parallel computation.\n",
    "\n",
    "    ### Do search - start.\n",
    "    # Recursive feature elimiation.\n",
    "    set.seed(321);\n",
    "    svmRFE <- rfe(\n",
    "        training[, predVars], # predictor variables\n",
    "        training$Result, # response variable\n",
    "        sizes = varSeq,\n",
    "        metric = 'Accuracy',\n",
    "        rfeControl = ctrl,\n",
    "        method = 'svmPoly', # Or 'svmRadial' (but must change 'tuneGrid').\n",
    "        #tuneGrid = svmRGridFull,\n",
    "        tuneGrid = expand.grid(scale = c(10.0), degree = 1, C = c(0.0625)), # NOTE: degree = 1\n",
    "        preProc = c('center', 'scale'),\n",
    "        fit = TRUE,\n",
    "        trControl = cvCtrl);\n",
    "    ### Do search - end.\n",
    "\n",
    "    # Shut down parallel computation.\n",
    "    stopImplicitCluster();\n",
    "    \n",
    "}"
   ]
  },
  {
   "cell_type": "code",
   "execution_count": 460,
   "metadata": {
    "collapsed": false
   },
   "outputs": [],
   "source": [
    "# Variable names that were picked in the final model.\n",
    "#namesPicked <- predictors(svmRFE);\n",
    "#namesPicked;\n",
    "\n",
    "# Order of importance:\n",
    "# 'ATT4' 'ATT9' 'ATT3' 'ATT10' 'ATT2' 'ATT1' 'ATT6' 'ATT7' 'ATT5' 'ATT8'"
   ]
  },
  {
   "cell_type": "code",
   "execution_count": 461,
   "metadata": {
    "collapsed": false
   },
   "outputs": [],
   "source": [
    "#svmRFE;"
   ]
  },
  {
   "cell_type": "code",
   "execution_count": 462,
   "metadata": {
    "collapsed": false
   },
   "outputs": [],
   "source": [
    "#pred_svm <- predict(svmRFE, prostateDatasetTest_modified[, predVars])"
   ]
  },
  {
   "cell_type": "code",
   "execution_count": 463,
   "metadata": {
    "collapsed": false
   },
   "outputs": [],
   "source": [
    "#confusionMatrix(actual, pred_svm)\n",
    "\n",
    "#Confusion Matrix and Statistics\n",
    "\n",
    "#            Reference\n",
    "#Prediction  0  1  2  3\n",
    "#         0 61 20 59 74\n",
    "#         1 61 18 52 73\n",
    "#         2 44 22 27 54\n",
    "#         3  9  6  8 12\n",
    "\n",
    "#Overall Statistics\n",
    "                                             \n",
    "#               Accuracy : 0.197              \n",
    "#                 95% CI : (0.166, 0.231)     \n",
    "#    No Information Rate : 0.355              \n",
    "#    P-Value [Acc > NIR] : 1                  \n",
    "                                             \n",
    "#                  Kappa : -0.032             \n",
    "# Mcnemar's Test P-Value : <0.0000000000000002\n",
    "\n",
    "#Statistics by Class:\n",
    "\n",
    "#                     Class: 0 Class: 1 Class: 2 Class: 3\n",
    "#Sensitivity             0.349   0.2727    0.185   0.0563\n",
    "#Specificity             0.640   0.6517    0.736   0.9406\n",
    "#Pos Pred Value          0.285   0.0882    0.184   0.3429\n",
    "#Neg Pred Value          0.705   0.8788    0.737   0.6442\n",
    "#Prevalence              0.292   0.1100    0.243   0.3550\n",
    "#Detection Rate          0.102   0.0300    0.045   0.0200\n",
    "#Detection Prevalence    0.357   0.3400    0.245   0.0583\n",
    "#Balanced Accuracy       0.494   0.4622    0.460   0.4985"
   ]
  },
  {
   "cell_type": "markdown",
   "metadata": {},
   "source": [
    "#### SVM model fit"
   ]
  },
  {
   "cell_type": "code",
   "execution_count": 464,
   "metadata": {
    "collapsed": false
   },
   "outputs": [
    {
     "data": {
      "text/html": [
       "<ol class=list-inline>\n",
       "\t<li>\"ATT1\"</li>\n",
       "\t<li>\"ATT2\"</li>\n",
       "\t<li>\"ATT4\"</li>\n",
       "\t<li>\"ATT6\"</li>\n",
       "\t<li>\"ATT7\"</li>\n",
       "\t<li>\"ATT9\"</li>\n",
       "\t<li>\"ATT10\"</li>\n",
       "</ol>\n"
      ],
      "text/latex": [
       "\\begin{enumerate*}\n",
       "\\item \"ATT1\"\n",
       "\\item \"ATT2\"\n",
       "\\item \"ATT4\"\n",
       "\\item \"ATT6\"\n",
       "\\item \"ATT7\"\n",
       "\\item \"ATT9\"\n",
       "\\item \"ATT10\"\n",
       "\\end{enumerate*}\n"
      ],
      "text/markdown": [
       "1. \"ATT1\"\n",
       "2. \"ATT2\"\n",
       "3. \"ATT4\"\n",
       "4. \"ATT6\"\n",
       "5. \"ATT7\"\n",
       "6. \"ATT9\"\n",
       "7. \"ATT10\"\n",
       "\n",
       "\n"
      ],
      "text/plain": [
       "[1] \"ATT1\"  \"ATT2\"  \"ATT4\"  \"ATT6\"  \"ATT7\"  \"ATT9\"  \"ATT10\""
      ]
     },
     "metadata": {},
     "output_type": "display_data"
    }
   ],
   "source": [
    "# Get the 'predictor' names. Keep 'ATT8' 'ATT5' 'ATT9' 'ATT2' 'ATT3' 'ATT1' 'ATT7' 'ATT10' 'ATT4'.\n",
    "namesPicked <- c(\"Result\", 'ATT3', 'ATT8', 'ATT5');\n",
    "predVarsSelected <- names(adData)[!(names(adData) %in% namesPicked)];\n",
    "predVarsSelected;"
   ]
  },
  {
   "cell_type": "code",
   "execution_count": 465,
   "metadata": {
    "collapsed": false
   },
   "outputs": [],
   "source": [
    "# Tune svm model.\n",
    "# This method can take about an hour as well.\n",
    "if(TRUE) {\n",
    "\n",
    "    # Do parallel computation.\n",
    "    cores <- 4;\n",
    "    registerDoParallel(cores=cores); # Parallel computation.\n",
    "    \n",
    "    set.seed(321);\n",
    "    svmFit <- train(\n",
    "        training[, predVarsSelected], # predictor variables\n",
    "        training$Result, # response variable\n",
    "        metric = 'Accuracy',\n",
    "        method = 'svmPoly', # Or 'svmRadial' (but must change 'tuneGrid').\n",
    "        #tuneGrid = svmRGridFull,\n",
    "        tuneGrid = expand.grid(scale = c(10.0), degree = 3, C = c(0.0625)),\n",
    "        preProc = c('center', 'scale'),\n",
    "        fit = TRUE,\n",
    "        trControl = cvCtrl);\n",
    "    \n",
    "    # Shut down parallel computation.\n",
    "    stopImplicitCluster();\n",
    "    \n",
    "}"
   ]
  },
  {
   "cell_type": "code",
   "execution_count": 278,
   "metadata": {
    "collapsed": false
   },
   "outputs": [],
   "source": [
    "#svmFit;"
   ]
  },
  {
   "cell_type": "code",
   "execution_count": 279,
   "metadata": {
    "collapsed": false
   },
   "outputs": [],
   "source": [
    "# IMPORTANT: example of how to use 'rank' function.\n",
    "#ctrl$functions$rank(svmFit, x, y);"
   ]
  },
  {
   "cell_type": "code",
   "execution_count": 280,
   "metadata": {
    "collapsed": true
   },
   "outputs": [],
   "source": [
    "#pred_svm <- predict(svmFit, prostateDatasetTest_modified[, predVarsSelected])"
   ]
  },
  {
   "cell_type": "code",
   "execution_count": 281,
   "metadata": {
    "collapsed": false
   },
   "outputs": [],
   "source": [
    "#confusionMatrix(actual_factor, pred_svm)"
   ]
  },
  {
   "cell_type": "markdown",
   "metadata": {},
   "source": [
    "---\n",
    "# 9. Classification Trees\n",
    "(Peter Tadich)"
   ]
  },
  {
   "cell_type": "code",
   "execution_count": 371,
   "metadata": {
    "collapsed": false
   },
   "outputs": [],
   "source": [
    "# Create a classification tree using package 'C50'.\n",
    "if(TRUE){\n",
    "\n",
    "    set.seed(1);\n",
    "    treeFit <- C5.0(Result ~., data = training); # From 'C50' package.\n",
    "    \n",
    "}"
   ]
  },
  {
   "cell_type": "code",
   "execution_count": 372,
   "metadata": {
    "collapsed": false
   },
   "outputs": [
    {
     "data": {
      "text/plain": [
       "\n",
       "Call:\n",
       "C5.0.formula(formula = Result ~ ., data = training)\n",
       "\n",
       "\n",
       "C5.0 [Release 2.07 GPL Edition]  \tSun Dec 04 13:54:27 2016\n",
       "-------------------------------\n",
       "\n",
       "Class specified by attribute `outcome'\n",
       "\n",
       "Read 2400 cases (11 attributes) from undefined.data\n",
       "\n",
       "Decision tree:\n",
       "\n",
       "ATT7 <= 4:\n",
       ":...ATT9 <= 3:\n",
       ":   :...ATT4 <= 2:\n",
       ":   :   :...ATT10 > 8: 0 (3)\n",
       ":   :   :   ATT10 <= 8:\n",
       ":   :   :   :...ATT1 > 8:\n",
       ":   :   :       :...ATT8 > 5: 1 (7)\n",
       ":   :   :       :   ATT8 <= 5:\n",
       ":   :   :       :   :...ATT2 <= 2: 2 (3)\n",
       ":   :   :       :       ATT2 > 2:\n",
       ":   :   :       :       :...ATT7 <= 2:\n",
       ":   :   :       :           :...ATT5 <= 6: 1 (2)\n",
       ":   :   :       :           :   ATT5 > 6: 0 (3/1)\n",
       ":   :   :       :           ATT7 > 2:\n",
       ":   :   :       :           :...ATT8 <= 1: 1 (2)\n",
       ":   :   :       :               ATT8 > 1: 2 (2)\n",
       ":   :   :       ATT1 <= 8:\n",
       ":   :   :       :...ATT5 <= 3:\n",
       ":   :   :           :...ATT7 <= 2: 1 (13/3)\n",
       ":   :   :           :   ATT7 > 2:\n",
       ":   :   :           :   :...ATT3 <= 3: 2 (3/1)\n",
       ":   :   :           :       ATT3 > 3:\n",
       ":   :   :           :       :...ATT1 > 6: 1 (2/1)\n",
       ":   :   :           :           ATT1 <= 6:\n",
       ":   :   :           :           :...ATT1 <= 3: 1 (3/1)\n",
       ":   :   :           :               ATT1 > 3: 0 (3)\n",
       ":   :   :           ATT5 > 3:\n",
       ":   :   :           :...ATT3 > 8:\n",
       ":   :   :               :...ATT10 <= 1: 2 (3/1)\n",
       ":   :   :               :   ATT10 > 1: 0 (9/1)\n",
       ":   :   :               ATT3 <= 8:\n",
       ":   :   :               :...ATT3 > 4:\n",
       ":   :   :                   :...ATT8 > 6: 0 (4/1)\n",
       ":   :   :                   :   ATT8 <= 6:\n",
       ":   :   :                   :   :...ATT10 > 5: 0 (2/1)\n",
       ":   :   :                   :       ATT10 <= 5:\n",
       ":   :   :                   :       :...ATT10 <= 3: 1 (7/2)\n",
       ":   :   :                   :           ATT10 > 3: 2 (8/2)\n",
       ":   :   :                   ATT3 <= 4:\n",
       ":   :   :                   :...ATT1 <= 3: 1 (7/1)\n",
       ":   :   :                       ATT1 > 3:\n",
       ":   :   :                       :...ATT5 <= 4:\n",
       ":   :   :                           :...ATT10 <= 4: 0 (2)\n",
       ":   :   :                           :   ATT10 > 4: 2 (2)\n",
       ":   :   :                           ATT5 > 4:\n",
       ":   :   :                           :...ATT7 <= 1: 0 (5/1)\n",
       ":   :   :                               ATT7 > 1:\n",
       ":   :   :                               :...ATT6 > 4: 0 (2)\n",
       ":   :   :                                   ATT6 <= 4:\n",
       ":   :   :                                   :...ATT2 <= 1: 0 (2)\n",
       ":   :   :                                       ATT2 > 1: 1 (6/1)\n",
       ":   :   ATT4 > 2:\n",
       ":   :   :...ATT3 <= 5:\n",
       ":   :       :...ATT5 > 4:\n",
       ":   :       :   :...ATT4 <= 5:\n",
       ":   :       :   :   :...ATT6 <= 1:\n",
       ":   :       :   :   :   :...ATT5 > 9: 2 (2)\n",
       ":   :       :   :   :   :   ATT5 <= 9:\n",
       ":   :       :   :   :   :   :...ATT4 > 4: 1 (5/1)\n",
       ":   :       :   :   :   :       ATT4 <= 4:\n",
       ":   :       :   :   :   :       :...ATT1 <= 5: 0 (3)\n",
       ":   :       :   :   :   :           ATT1 > 5: 3 (2)\n",
       ":   :       :   :   :   ATT6 > 1:\n",
       ":   :       :   :   :   :...ATT10 > 7:\n",
       ":   :       :   :   :       :...ATT9 > 2: 2 (5)\n",
       ":   :       :   :   :       :   ATT9 <= 2:\n",
       ":   :       :   :   :       :   :...ATT6 <= 2: 2 (2)\n",
       ":   :       :   :   :       :       ATT6 > 2: 0 (5/1)\n",
       ":   :       :   :   :       ATT10 <= 7:\n",
       ":   :       :   :   :       :...ATT7 <= 1:\n",
       ":   :       :   :   :           :...ATT3 <= 3:\n",
       ":   :       :   :   :           :   :...ATT8 <= 2: 2 (3)\n",
       ":   :       :   :   :           :   :   ATT8 > 2: 0 (7/2)\n",
       ":   :       :   :   :           :   ATT3 > 3:\n",
       ":   :       :   :   :           :   :...ATT4 <= 4: 1 (2)\n",
       ":   :       :   :   :           :       ATT4 > 4: 2 (3/1)\n",
       ":   :       :   :   :           ATT7 > 1:\n",
       ":   :       :   :   :           :...ATT2 > 6: 1 (5)\n",
       ":   :       :   :   :               ATT2 <= 6:\n",
       ":   :       :   :   :               :...ATT9 <= 1: 1 (2)\n",
       ":   :       :   :   :                   ATT9 > 1:\n",
       ":   :       :   :   :                   :...ATT5 > 7: 1 (4/1)\n",
       ":   :       :   :   :                       ATT5 <= 7:\n",
       ":   :       :   :   :                       :...ATT7 <= 3: 0 (7/1)\n",
       ":   :       :   :   :                           ATT7 > 3: 2 (2)\n",
       ":   :       :   :   ATT4 > 5:\n",
       ":   :       :   :   :...ATT9 > 2:\n",
       ":   :       :   :       :...ATT5 <= 5:\n",
       ":   :       :   :       :   :...ATT6 <= 5: 0 (2/1)\n",
       ":   :       :   :       :   :   ATT6 > 5: 1 (4)\n",
       ":   :       :   :       :   ATT5 > 5:\n",
       ":   :       :   :       :   :...ATT3 <= 4:\n",
       ":   :       :   :       :       :...ATT2 > 6: 1 (3)\n",
       ":   :       :   :       :       :   ATT2 <= 6:\n",
       ":   :       :   :       :       :   :...ATT6 <= 6: 2 (7)\n",
       ":   :       :   :       :       :       ATT6 > 6: 1 (3/1)\n",
       ":   :       :   :       :       ATT3 > 4:\n",
       ":   :       :   :       :       :...ATT6 <= 4: 1 (3)\n",
       ":   :       :   :       :           ATT6 > 4:\n",
       ":   :       :   :       :           :...ATT6 <= 6: 3 (3)\n",
       ":   :       :   :       :               ATT6 > 6: 2 (3/1)\n",
       ":   :       :   :       ATT9 <= 2:\n",
       ":   :       :   :       :...ATT7 > 2:\n",
       ":   :       :   :           :...ATT5 <= 5:\n",
       ":   :       :   :           :   :...ATT7 <= 3: 2 (4/1)\n",
       ":   :       :   :           :   :   ATT7 > 3: 0 (4/1)\n",
       ":   :       :   :           :   ATT5 > 5:\n",
       ":   :       :   :           :   :...ATT3 <= 2:\n",
       ":   :       :   :           :       :...ATT6 <= 6: 1 (3)\n",
       ":   :       :   :           :       :   ATT6 > 6: 2 (2)\n",
       ":   :       :   :           :       ATT3 > 2:\n",
       ":   :       :   :           :       :...ATT10 <= 6:\n",
       ":   :       :   :           :           :...ATT5 <= 8: 0 (9/2)\n",
       ":   :       :   :           :           :   ATT5 > 8: 1 (3)\n",
       ":   :       :   :           :           ATT10 > 6:\n",
       ":   :       :   :           :           :...ATT4 <= 7: 0 (2)\n",
       ":   :       :   :           :               ATT4 > 7: 2 (3)\n",
       ":   :       :   :           ATT7 <= 2:\n",
       ":   :       :   :           :...ATT6 > 5: 1 (9/1)\n",
       ":   :       :   :               ATT6 <= 5:\n",
       ":   :       :   :               :...ATT1 <= 2:\n",
       ":   :       :   :                   :...ATT9 <= 1: 2 (5/2)\n",
       ":   :       :   :                   :   ATT9 > 1: 1 (2)\n",
       ":   :       :   :                   ATT1 > 2:\n",
       ":   :       :   :                   :...ATT5 <= 7:\n",
       ":   :       :   :                       :...ATT6 <= 4: 1 (8/1)\n",
       ":   :       :   :                       :   ATT6 > 4: 0 (3/1)\n",
       ":   :       :   :                       ATT5 > 7:\n",
       ":   :       :   :                       :...ATT8 > 6: 1 (3/1)\n",
       ":   :       :   :                           ATT8 <= 6:\n",
       ":   :       :   :                           :...ATT3 <= 3: 0 (2)\n",
       ":   :       :   :                               ATT3 > 3: 2 (4/1)\n",
       ":   :       :   ATT5 <= 4:\n",
       ":   :       :   :...ATT4 > 9:\n",
       ":   :       :       :...ATT7 > 2: 1 (4/2)\n",
       ":   :       :       :   ATT7 <= 2:\n",
       ":   :       :       :   :...ATT2 <= 1: 3 (3/1)\n",
       ":   :       :       :       ATT2 > 1: 0 (3)\n",
       ":   :       :       ATT4 <= 9:\n",
       ":   :       :       :...ATT6 <= 2:\n",
       ":   :       :           :...ATT3 > 4:\n",
       ":   :       :           :   :...ATT7 <= 2: 0 (7)\n",
       ":   :       :           :   :   ATT7 > 2: 1 (2)\n",
       ":   :       :           :   ATT3 <= 4:\n",
       ":   :       :           :   :...ATT1 <= 3:\n",
       ":   :       :           :       :...ATT3 <= 2: 1 (4/1)\n",
       ":   :       :           :       :   ATT3 > 2: 2 (2)\n",
       ":   :       :           :       ATT1 > 3:\n",
       ":   :       :           :       :...ATT5 > 2:\n",
       ":   :       :           :           :...ATT6 <= 1: 0 (3)\n",
       ":   :       :           :           :   ATT6 > 1:\n",
       ":   :       :           :           :   :...ATT4 <= 5: 2 (4/1)\n",
       ":   :       :           :           :       ATT4 > 5: 0 (2)\n",
       ":   :       :           :           ATT5 <= 2:\n",
       ":   :       :           :           :...ATT3 > 3: 0 (3/1)\n",
       ":   :       :           :               ATT3 <= 3:\n",
       ":   :       :           :               :...ATT4 <= 5: 0 (4/2)\n",
       ":   :       :           :                   ATT4 > 5:\n",
       ":   :       :           :                   :...ATT7 <= 1: 2 (2)\n",
       ":   :       :           :                       ATT7 > 1: 1 (2)\n",
       ":   :       :           ATT6 > 2:\n",
       ":   :       :           :...ATT3 > 4:\n",
       ":   :       :               :...ATT2 > 6: 3 (3/1)\n",
       ":   :       :               :   ATT2 <= 6:\n",
       ":   :       :               :   :...ATT9 > 2: 2 (3)\n",
       ":   :       :               :       ATT9 <= 2:\n",
       ":   :       :               :       :...ATT7 <= 1:\n",
       ":   :       :               :           :...ATT6 <= 4: 2 (3)\n",
       ":   :       :               :           :   ATT6 > 4: 3 (3/1)\n",
       ":   :       :               :           ATT7 > 1:\n",
       ":   :       :               :           :...ATT1 <= 2: 2 (2)\n",
       ":   :       :               :               ATT1 > 2: 0 (8/1)\n",
       ":   :       :               ATT3 <= 4:\n",
       ":   :       :               :...ATT1 > 6:\n",
       ":   :       :                   :...ATT4 <= 8: 2 (11/2)\n",
       ":   :       :                   :   ATT4 > 8: 0 (3/1)\n",
       ":   :       :                   ATT1 <= 6:\n",
       ":   :       :                   :...ATT3 > 2: 0 (12/3)\n",
       ":   :       :                       ATT3 <= 2:\n",
       ":   :       :                       :...ATT5 > 2:\n",
       ":   :       :                           :...ATT9 > 1: 0 (2)\n",
       ":   :       :                           :   ATT9 <= 1:\n",
       ":   :       :                           :   :...ATT10 <= 2: 0 (2/1)\n",
       ":   :       :                           :       ATT10 > 2: 1 (5/1)\n",
       ":   :       :                           ATT5 <= 2:\n",
       ":   :       :                           :...ATT1 > 5: 3 (3/1)\n",
       ":   :       :                               ATT1 <= 5:\n",
       ":   :       :                               :...ATT4 > 6: 2 (2)\n",
       ":   :       :                                   ATT4 <= 6:\n",
       ":   :       :                                   :...ATT9 <= 2: 0 (2)\n",
       ":   :       :                                       ATT9 > 2: 2 (2)\n",
       ":   :       ATT3 > 5:\n",
       ":   :       :...ATT8 <= 1:\n",
       ":   :           :...ATT9 > 2:\n",
       ":   :           :   :...ATT5 > 6: 1 (5)\n",
       ":   :           :   :   ATT5 <= 6:\n",
       ":   :           :   :   :...ATT2 <= 8: 0 (8/1)\n",
       ":   :           :   :       ATT2 > 8: 1 (2)\n",
       ":   :           :   ATT9 <= 2:\n",
       ":   :           :   :...ATT1 > 8:\n",
       ":   :           :       :...ATT10 <= 5: 1 (3)\n",
       ":   :           :       :   ATT10 > 5: 0 (4/1)\n",
       ":   :           :       ATT1 <= 8:\n",
       ":   :           :       :...ATT4 <= 4:\n",
       ":   :           :           :...ATT5 <= 3: 1 (2)\n",
       ":   :           :           :   ATT5 > 3: 2 (3/1)\n",
       ":   :           :           ATT4 > 4:\n",
       ":   :           :           :...ATT4 > 9: 2 (2)\n",
       ":   :           :               ATT4 <= 9:\n",
       ":   :           :               :...ATT7 <= 1:\n",
       ":   :           :                   :...ATT1 <= 5: 0 (5/1)\n",
       ":   :           :                   :   ATT1 > 5: 2 (2/1)\n",
       ":   :           :                   ATT7 > 1:\n",
       ":   :           :                   :...ATT5 <= 5: 3 (6/1)\n",
       ":   :           :                       ATT5 > 5: 0 (3)\n",
       ":   :           ATT8 > 1:\n",
       ":   :           :...ATT9 <= 1:\n",
       ":   :               :...ATT3 <= 6: 1 (15/2)\n",
       ":   :               :   ATT3 > 6:\n",
       ":   :               :   :...ATT5 > 7:\n",
       ":   :               :       :...ATT8 <= 5: 0 (5)\n",
       ":   :               :       :   ATT8 > 5:\n",
       ":   :               :       :   :...ATT10 <= 2: 0 (2)\n",
       ":   :               :       :       ATT10 > 2: 1 (6/1)\n",
       ":   :               :       ATT5 <= 7:\n",
       ":   :               :       :...ATT6 > 5:\n",
       ":   :               :           :...ATT5 <= 5: 1 (9/1)\n",
       ":   :               :           :   ATT5 > 5: 0 (3)\n",
       ":   :               :           ATT6 <= 5:\n",
       ":   :               :           :...ATT1 > 8:\n",
       ":   :               :               :...ATT4 <= 5: 2 (4/1)\n",
       ":   :               :               :   ATT4 > 5: 1 (4)\n",
       ":   :               :               ATT1 <= 8:\n",
       ":   :               :               :...ATT3 > 9: 0 (5/1)\n",
       ":   :               :                   ATT3 <= 9:\n",
       ":   :               :                   :...ATT8 > 8: 0 (2)\n",
       ":   :               :                       ATT8 <= 8:\n",
       ":   :               :                       :...ATT5 > 4: 2 (3/1)\n",
       ":   :               :                           ATT5 <= 4:\n",
       ":   :               :                           :...ATT3 <= 7: 1 (3)\n",
       ":   :               :                               ATT3 > 7: 2 (5/1)\n",
       ":   :               ATT9 > 1:\n",
       ":   :               :...ATT7 > 3:\n",
       ":   :                   :...ATT10 <= 1: 1 (5)\n",
       ":   :                   :   ATT10 > 1:\n",
       ":   :                   :   :...ATT1 <= 3: 1 (5/1)\n",
       ":   :                   :       ATT1 > 3:\n",
       ":   :                   :       :...ATT8 > 9: 0 (3)\n",
       ":   :                   :           ATT8 <= 9:\n",
       ":   :                   :           :...ATT1 <= 4: 0 (3)\n",
       ":   :                   :               ATT1 > 4:\n",
       ":   :                   :               :...ATT2 <= 1: 1 (3)\n",
       ":   :                   :                   ATT2 > 1:\n",
       ":   :                   :                   :...ATT3 <= 9: 2 (6/1)\n",
       ":   :                   :                       ATT3 > 9: 0 (3/1)\n",
       ":   :                   ATT7 <= 3:\n",
       ":   :                   :...ATT6 <= 1:\n",
       ":   :                       :...ATT3 > 7: 1 (9/1)\n",
       ":   :                       :   ATT3 <= 7:\n",
       ":   :                       :   :...ATT4 <= 7: 2 (2)\n",
       ":   :                       :       ATT4 > 7: 1 (3/1)\n",
       ":   :                       ATT6 > 1:\n",
       ":   :                       :...ATT5 <= 3:\n",
       ":   :                           :...ATT4 <= 4: 2 (4)\n",
       ":   :                           :   ATT4 > 4: 1 (9/1)\n",
       ":   :                           ATT5 > 3:\n",
       ":   :                           :...ATT3 > 8:\n",
       ":   :                               :...ATT3 <= 9:\n",
       ":   :                               :   :...ATT2 <= 2: 2 (2)\n",
       ":   :                               :   :   ATT2 > 2: 3 (3/1)\n",
       ":   :                               :   ATT3 > 9:\n",
       ":   :                               :   :...ATT7 > 2:\n",
       ":   :                               :       :...ATT4 <= 6: 1 (3)\n",
       ":   :                               :       :   ATT4 > 6: 2 (2/1)\n",
       ":   :                               :       ATT7 <= 2:\n",
       ":   :                               :       :...ATT2 <= 4: 0 (2/1)\n",
       ":   :                               :           ATT2 > 4:\n",
       ":   :                               :           :...ATT4 <= 8: 2 (4)\n",
       ":   :                               :               ATT4 > 8: 0 (2)\n",
       ":   :                               ATT3 <= 8:\n",
       ":   :                               :...ATT3 > 7: 1 (8/2)\n",
       ":   :                                   ATT3 <= 7:\n",
       ":   :                                   :...ATT3 <= 6:\n",
       ":   :                                       :...ATT6 <= 6: 2 (8/2)\n",
       ":   :                                       :   ATT6 > 6: 1 (6/1)\n",
       ":   :                                       ATT3 > 6:\n",
       ":   :                                       :...ATT4 > 9: 1 (2)\n",
       ":   :                                           ATT4 <= 9:\n",
       ":   :                                           :...ATT8 > 4: 0 (3)\n",
       ":   :                                               ATT8 <= 4:\n",
       ":   :                                               :...ATT8 <= 3: 0 (3/1)\n",
       ":   :                                                   ATT8 > 3: 2 (3)\n",
       ":   ATT9 > 3:\n",
       ":   :...ATT9 > 9:\n",
       ":       :...ATT6 <= 1:\n",
       ":       :   :...ATT7 <= 1: 1 (2/1)\n",
       ":       :   :   ATT7 > 1:\n",
       ":       :   :   :...ATT3 <= 5: 2 (4)\n",
       ":       :   :       ATT3 > 5: 0 (3)\n",
       ":       :   ATT6 > 1:\n",
       ":       :   :...ATT4 <= 3:\n",
       ":       :       :...ATT10 > 2: 0 (4)\n",
       ":       :       :   ATT10 <= 2:\n",
       ":       :       :   :...ATT5 <= 6: 0 (2/1)\n",
       ":       :       :       ATT5 > 6: 2 (2)\n",
       ":       :       ATT4 > 3:\n",
       ":       :       :...ATT1 <= 4: 1 (13/4)\n",
       ":       :           ATT1 > 4:\n",
       ":       :           :...ATT10 <= 2: 1 (7)\n",
       ":       :               ATT10 > 2:\n",
       ":       :               :...ATT7 > 2:\n",
       ":       :                   :...ATT10 <= 7: 0 (6)\n",
       ":       :                   :   ATT10 > 7: 1 (2)\n",
       ":       :                   ATT7 <= 2:\n",
       ":       :                   :...ATT6 <= 4: 1 (3)\n",
       ":       :                       ATT6 > 4:\n",
       ":       :                       :...ATT8 <= 7: 0 (3)\n",
       ":       :                           ATT8 > 7: 1 (2)\n",
       ":       ATT9 <= 9:\n",
       ":       :...ATT4 > 9:\n",
       ":           :...ATT6 > 8:\n",
       ":           :   :...ATT9 <= 6: 0 (6/3)\n",
       ":           :   :   ATT9 > 6: 2 (4/1)\n",
       ":           :   ATT6 <= 8:\n",
       ":           :   :...ATT9 <= 6:\n",
       ":           :       :...ATT8 > 4: 1 (20/8)\n",
       ":           :       :   ATT8 <= 4:\n",
       ":           :       :   :...ATT2 <= 6: 0 (20/8)\n",
       ":           :       :       ATT2 > 6: 1 (5/1)\n",
       ":           :       ATT9 > 6:\n",
       ":           :       :...ATT10 > 4: 0 (20/4)\n",
       ":           :           ATT10 <= 4:\n",
       ":           :           :...ATT7 > 2: 0 (2)\n",
       ":           :               ATT7 <= 2:\n",
       ":           :               :...ATT1 <= 8: 2 (6/2)\n",
       ":           :                   ATT1 > 8: 1 (3/1)\n",
       ":           ATT4 <= 9:\n",
       ":           :...ATT10 <= 5:\n",
       ":               :...ATT2 > 8:\n",
       ":               :   :...ATT5 > 8: 0 (8)\n",
       ":               :   :   ATT5 <= 8:\n",
       ":               :   :   :...ATT10 > 4:\n",
       ":               :   :       :...ATT8 > 1: 1 (2)\n",
       ":               :   :       :   ATT8 <= 1:\n",
       ":               :   :       :   :...ATT2 <= 9: 0 (2)\n",
       ":               :   :       :       ATT2 > 9: 3 (2)\n",
       ":               :   :       ATT10 <= 4:\n",
       ":               :   :       :...ATT7 <= 2:\n",
       ":               :   :           :...ATT10 > 3: 0 (6/2)\n",
       ":               :   :           :   ATT10 <= 3:\n",
       ":               :   :           :   :...ATT4 > 7:\n",
       ":               :   :           :       :...ATT6 <= 2: 1 (3)\n",
       ":               :   :           :       :   ATT6 > 2: 0 (3/1)\n",
       ":               :   :           :       ATT4 <= 7:\n",
       ":               :   :           :       :...ATT2 > 9: 2 (4/1)\n",
       ":               :   :           :           ATT2 <= 9:\n",
       ":               :   :           :           :...ATT9 <= 5: 1 (3)\n",
       ":               :   :           :               ATT9 > 5: 2 (2)\n",
       ":               :   :           ATT7 > 2:\n",
       ":               :   :           :...ATT9 > 8: 0 (2/1)\n",
       ":               :   :               ATT9 <= 8:\n",
       ":               :   :               :...ATT2 > 9: 0 (7/1)\n",
       ":               :   :                   ATT2 <= 9:\n",
       ":               :   :                   :...ATT1 > 8: 0 (3)\n",
       ":               :   :                       ATT1 <= 8:\n",
       ":               :   :                       :...ATT6 <= 7: 1 (3)\n",
       ":               :   :                           ATT6 > 7:\n",
       ":               :   :                           :...ATT3 <= 7: 0 (3)\n",
       ":               :   :                               ATT3 > 7: 1 (2)\n",
       ":               :   ATT2 <= 8:\n",
       ":               :   :...ATT7 <= 1:\n",
       ":               :       :...ATT4 > 5:\n",
       ":               :       :   :...ATT9 <= 4:\n",
       ":               :       :   :   :...ATT5 <= 3: 0 (2/1)\n",
       ":               :       :   :   :   ATT5 > 3: 1 (7/1)\n",
       ":               :       :   :   ATT9 > 4:\n",
       ":               :       :   :   :...ATT10 <= 2:\n",
       ":               :       :   :       :...ATT6 <= 1: 2 (3/1)\n",
       ":               :       :   :       :   ATT6 > 1:\n",
       ":               :       :   :       :   :...ATT4 <= 7: 0 (5/1)\n",
       ":               :       :   :       :       ATT4 > 7: 1 (3/1)\n",
       ":               :       :   :       ATT10 > 2:\n",
       ":               :       :   :       :...ATT6 <= 4:\n",
       ":               :       :   :           :...ATT1 <= 8: 1 (10)\n",
       ":               :       :   :           :   ATT1 > 8: 0 (3/1)\n",
       ":               :       :   :           ATT6 > 4:\n",
       ":               :       :   :           :...ATT6 <= 8: 0 (6)\n",
       ":               :       :   :               ATT6 > 8: 1 (2/1)\n",
       ":               :       :   ATT4 <= 5:\n",
       ":               :       :   :...ATT8 <= 1:\n",
       ":               :       :       :...ATT5 <= 7: 1 (12/4)\n",
       ":               :       :       :   ATT5 > 7:\n",
       ":               :       :       :   :...ATT1 <= 4: 1 (3)\n",
       ":               :       :       :       ATT1 > 4: 0 (3)\n",
       ":               :       :       ATT8 > 1:\n",
       ":               :       :       :...ATT10 <= 1:\n",
       ":               :       :           :...ATT3 <= 4:\n",
       ":               :       :           :   :...ATT8 <= 5: 3 (2)\n",
       ":               :       :           :   :   ATT8 > 5: 0 (2/1)\n",
       ":               :       :           :   ATT3 > 4:\n",
       ":               :       :           :   :...ATT9 <= 5: 0 (3)\n",
       ":               :       :           :       ATT9 > 5: 1 (5/2)\n",
       ":               :       :           ATT10 > 1:\n",
       ":               :       :           :...ATT4 > 4:\n",
       ":               :       :               :...ATT2 > 4: 2 (6)\n",
       ":               :       :               :   ATT2 <= 4:\n",
       ":               :       :               :   :...ATT8 <= 5: 2 (3/1)\n",
       ":               :       :               :       ATT8 > 5: 0 (2)\n",
       ":               :       :               ATT4 <= 4:\n",
       ":               :       :               :...ATT4 <= 3:\n",
       ":               :       :                   :...ATT1 <= 3: 3 (2)\n",
       ":               :       :                   :   ATT1 > 3:\n",
       ":               :       :                   :   :...ATT5 <= 6: 0 (4/1)\n",
       ":               :       :                   :       ATT5 > 6: 2 (6/1)\n",
       ":               :       :                   ATT4 > 3:\n",
       ":               :       :                   :...ATT5 <= 3: 1 (3/1)\n",
       ":               :       :                       ATT5 > 3:\n",
       ":               :       :                       :...ATT5 > 6: 1 (5/1)\n",
       ":               :       :                           ATT5 <= 6:\n",
       ":               :       :                           :...ATT5 <= 5: 1 (3/1)\n",
       ":               :       :                               ATT5 > 5: 2 (4/1)\n",
       ":               :       ATT7 > 1:\n",
       ":               :       :...ATT9 <= 5:\n",
       ":               :           :...ATT2 > 7:\n",
       ":               :           :   :...ATT5 <= 7: 2 (3)\n",
       ":               :           :   :   ATT5 > 7: 0 (4)\n",
       ":               :           :   ATT2 <= 7:\n",
       ":               :           :   :...ATT10 > 3:\n",
       ":               :           :       :...ATT6 <= 1:\n",
       ":               :           :       :   :...ATT3 <= 8: 3 (5/1)\n",
       ":               :           :       :   :   ATT3 > 8: 0 (2/1)\n",
       ":               :           :       :   ATT6 > 1:\n",
       ":               :           :       :   :...ATT8 <= 5:\n",
       ":               :           :       :       :...ATT1 <= 8:\n",
       ":               :           :       :       :   :...ATT2 <= 2: 3 (2)\n",
       ":               :           :       :       :   :   ATT2 > 2: 2 (7/2)\n",
       ":               :           :       :       :   ATT1 > 8:\n",
       ":               :           :       :       :   :...ATT4 <= 5: 1 (4)\n",
       ":               :           :       :       :       ATT4 > 5:\n",
       ":               :           :       :       :       :...ATT5 <= 6: 1 (2/1)\n",
       ":               :           :       :       :           ATT5 > 6: 0 (2)\n",
       ":               :           :       :       ATT8 > 5:\n",
       ":               :           :       :       :...ATT10 > 4: 2 (4/1)\n",
       ":               :           :       :           ATT10 <= 4:\n",
       ":               :           :       :           :...ATT2 <= 1: 0 (3)\n",
       ":               :           :       :               ATT2 > 1:\n",
       ":               :           :       :               :...ATT6 <= 3: 0 (2)\n",
       ":               :           :       :                   ATT6 > 3: 2 (2)\n",
       ":               :           :       ATT10 <= 3:\n",
       ":               :           :       :...ATT4 > 4:\n",
       ":               :           :           :...ATT8 > 4:\n",
       ":               :           :           :   :...ATT4 <= 8: 1 (15/2)\n",
       ":               :           :           :   :   ATT4 > 8: 0 (2/1)\n",
       ":               :           :           :   ATT8 <= 4:\n",
       ":               :           :           :   :...ATT6 <= 1:\n",
       ":               :           :           :       :...ATT2 <= 3: 0 (3/1)\n",
       ":               :           :           :       :   ATT2 > 3: 1 (2)\n",
       ":               :           :           :       ATT6 > 1:\n",
       ":               :           :           :       :...ATT3 <= 5: 1 (2/1)\n",
       ":               :           :           :           ATT3 > 5: 2 (4/1)\n",
       ":               :           :           ATT4 <= 4:\n",
       ":               :           :           :...ATT9 > 4:\n",
       ":               :           :               :...ATT5 <= 2: 2 (2)\n",
       ":               :           :               :   ATT5 > 2:\n",
       ":               :           :               :   :...ATT7 <= 2: 1 (7/1)\n",
       ":               :           :               :       ATT7 > 2: 0 (5/1)\n",
       ":               :           :               ATT9 <= 4:\n",
       ":               :           :               :...ATT2 <= 2: 0 (10)\n",
       ":               :           :                   ATT2 > 2:\n",
       ":               :           :                   :...ATT3 <= 4: 2 (2)\n",
       ":               :           :                       ATT3 > 4:\n",
       ":               :           :                       :...ATT5 <= 3: 1 (2)\n",
       ":               :           :                           ATT5 > 3:\n",
       ":               :           :                           :...ATT8 <= 4: 0 (5)\n",
       ":               :           :                               ATT8 > 4: 1 (3/1)\n",
       ":               :           ATT9 > 5:\n",
       ":               :           :...ATT8 <= 1:\n",
       ":               :               :...ATT3 <= 3:\n",
       ":               :               :   :...ATT2 <= 1: 1 (2)\n",
       ":               :               :   :   ATT2 > 1: 0 (2/1)\n",
       ":               :               :   ATT3 > 3:\n",
       ":               :               :   :...ATT6 <= 4: 0 (8/2)\n",
       ":               :               :       ATT6 > 4:\n",
       ":               :               :       :...ATT4 > 5: 0 (5)\n",
       ":               :               :           ATT4 <= 5:\n",
       ":               :               :           :...ATT5 > 9: 1 (2)\n",
       ":               :               :               ATT5 <= 9:\n",
       ":               :               :               :...ATT10 <= 2: 2 (6)\n",
       ":               :               :                   ATT10 > 2: 0 (3/1)\n",
       ":               :               ATT8 > 1:\n",
       ":               :               :...ATT1 <= 6:\n",
       ":               :                   :...ATT3 <= 5:\n",
       ":               :                   :   :...ATT10 <= 2:\n",
       ":               :                   :   :   :...ATT6 <= 1: 1 (3)\n",
       ":               :                   :   :   :   ATT6 > 1: 0 (15/3)\n",
       ":               :                   :   :   ATT10 > 2:\n",
       ":               :                   :   :   :...ATT1 > 4: 1 (6)\n",
       ":               :                   :   :       ATT1 <= 4:\n",
       ":               :                   :   :       :...ATT1 <= 3: 1 (4)\n",
       ":               :                   :   :           ATT1 > 3:\n",
       ":               :                   :   :           :...ATT2 <= 5: 1 (3/1)\n",
       ":               :                   :   :               ATT2 > 5: 0 (3)\n",
       ":               :                   :   ATT3 > 5:\n",
       ":               :                   :   :...ATT4 <= 3:\n",
       ":               :                   :       :...ATT6 <= 3: 0 (6/1)\n",
       ":               :                   :       :   ATT6 > 3: 1 (2/1)\n",
       ":               :                   :       ATT4 > 3:\n",
       ":               :                   :       :...ATT9 <= 7:\n",
       ":               :                   :           :...ATT8 <= 3: 0 (3/1)\n",
       ":               :                   :           :   ATT8 > 3: 1 (17/6)\n",
       ":               :                   :           ATT9 > 7:\n",
       ":               :                   :           :...ATT5 > 5: 1 (6)\n",
       ":               :                   :               ATT5 <= 5:\n",
       ":               :                   :               :...ATT10 <= 3: 3 (2)\n",
       ":               :                   :                   ATT10 > 3: 1 (2)\n",
       ":               :                   ATT1 > 6:\n",
       ":               :                   :...ATT3 > 8:\n",
       ":               :                       :...ATT4 <= 4: 3 (2)\n",
       ":               :                       :   ATT4 > 4: 0 (4)\n",
       ":               :                       ATT3 <= 8:\n",
       ":               :                       :...ATT9 > 7:\n",
       ":               :                           :...ATT6 > 6: 0 (6/1)\n",
       ":               :                           :   ATT6 <= 6:\n",
       ":               :                           :   :...ATT6 <= 1: 0 (3)\n",
       ":               :                           :       ATT6 > 1: 1 (8/2)\n",
       ":               :                           ATT9 <= 7:\n",
       ":               :                           :...ATT4 > 8: 2 (2)\n",
       ":               :                               ATT4 <= 8:\n",
       ":               :                               :...ATT9 <= 6:\n",
       ":               :                                   :...ATT4 > 5: 1 (5)\n",
       ":               :                                   :   ATT4 <= 5:\n",
       ":               :                                   :   :...ATT8 <= 7: 0 (3)\n",
       ":               :                                   :       ATT8 > 7: 1 (2/1)\n",
       ":               :                                   ATT9 > 6:\n",
       ":               :                                   :...ATT4 <= 4:\n",
       ":               :                                       :...ATT6 <= 8: 1 (4)\n",
       ":               :                                       :   ATT6 > 8: 3 (3/1)\n",
       ":               :                                       ATT4 > 4:\n",
       ":               :                                       :...ATT7 <= 3: 0 (5/2)\n",
       ":               :                                           ATT7 > 3: 3 (3/1)\n",
       ":               ATT10 > 5:\n",
       ":               :...ATT6 > 8:\n",
       ":                   :...ATT3 <= 5: 2 (6/1)\n",
       ":                   :   ATT3 > 5:\n",
       ":                   :   :...ATT3 <= 6: 1 (6)\n",
       ":                   :       ATT3 > 6:\n",
       ":                   :       :...ATT3 <= 9: 2 (6/2)\n",
       ":                   :           ATT3 > 9: 0 (2/1)\n",
       ":                   ATT6 <= 8:\n",
       ":                   :...ATT4 > 8:\n",
       ":                       :...ATT10 <= 6: 0 (5/1)\n",
       ":                       :   ATT10 > 6: 1 (10/1)\n",
       ":                       ATT4 <= 8:\n",
       ":                       :...ATT8 > 5:\n",
       ":                           :...ATT1 > 8: 1 (6/1)\n",
       ":                           :   ATT1 <= 8:\n",
       ":                           :   :...ATT9 <= 4:\n",
       ":                           :       :...ATT8 <= 6: 2 (3/1)\n",
       ":                           :       :   ATT8 > 6: 0 (2)\n",
       ":                           :       ATT9 > 4:\n",
       ":                           :       :...ATT6 <= 2:\n",
       ":                           :           :...ATT8 <= 8: 2 (2/1)\n",
       ":                           :           :   ATT8 > 8: 0 (5/1)\n",
       ":                           :           ATT6 > 2:\n",
       ":                           :           :...ATT10 <= 6: 1 (4)\n",
       ":                           :               ATT10 > 6:\n",
       ":                           :               :...ATT2 > 4: 0 (8/1)\n",
       ":                           :                   ATT2 <= 4:\n",
       ":                           :                   :...ATT8 > 7: 1 (5)\n",
       ":                           :                       ATT8 <= 7:\n",
       ":                           :                       :...ATT2 <= 2: 0 (3)\n",
       ":                           :                           ATT2 > 2: 3 (4/1)\n",
       ":                           ATT8 <= 5:\n",
       ":                           :...ATT10 > 9:\n",
       ":                               :...ATT1 <= 9: 1 (7)\n",
       ":                               :   ATT1 > 9: 0 (2)\n",
       ":                               ATT10 <= 9:\n",
       ":                               :...ATT9 <= 4:\n",
       ":                                   :...ATT5 > 8: 2 (3)\n",
       ":                                   :   ATT5 <= 8:\n",
       ":                                   :   :...ATT10 > 8: 0 (2/1)\n",
       ":                                   :       ATT10 <= 8:\n",
       ":                                   :       :...ATT2 <= 5: 3 (8/3)\n",
       ":                                   :           ATT2 > 5: 1 (4)\n",
       ":                                   ATT9 > 4:\n",
       ":                                   :...ATT2 <= 7:\n",
       ":                                       :...ATT3 > 7:\n",
       ":                                       :   :...ATT7 <= 2:\n",
       ":                                       :   :   :...ATT3 <= 8: 2 (3/1)\n",
       ":                                       :   :   :   ATT3 > 8: 0 (6)\n",
       ":                                       :   :   ATT7 > 2:\n",
       ":                                       :   :   :...ATT4 <= 5: 1 (4/1)\n",
       ":                                       :   :       ATT4 > 5: 2 (3/1)\n",
       ":                                       :   ATT3 <= 7:\n",
       ":                                       :   :...ATT10 > 7:\n",
       ":                                       :       :...ATT8 <= 4: 1 (13/2)\n",
       ":                                       :       :   ATT8 > 4: 0 (2/1)\n",
       ":                                       :       ATT10 <= 7:\n",
       ":                                       :       :...ATT2 <= 3:\n",
       ":                                       :           :...ATT7 <= 3: 2 (4)\n",
       ":                                       :           :   ATT7 > 3: 0 (3/1)\n",
       ":                                       :           ATT2 > 3:\n",
       ":                                       :           :...ATT5 <= 7: 1 (9/1)\n",
       ":                                       :               ATT5 > 7: 2 (2)\n",
       ":                                       ATT2 > 7:\n",
       ":                                       :...ATT10 <= 6:\n",
       ":                                           :...ATT3 <= 4: 0 (3/1)\n",
       ":                                           :   ATT3 > 4: 1 (2)\n",
       ":                                           ATT10 > 6:\n",
       ":                                           :...ATT2 <= 8:\n",
       ":                                               :...ATT5 <= 4: 3 (2)\n",
       ":                                               :   ATT5 > 4: 0 (4/1)\n",
       ":                                               ATT2 > 8:\n",
       ":                                               :...ATT2 <= 9: 2 (5)\n",
       ":                                                   ATT2 > 9:\n",
       ":                                                   :...ATT9 > 7: 2 (2/1)\n",
       ":                                                       ATT9 <= 7:\n",
       ":                                                       :...ATT4 <= 6: 1 (5)\n",
       ":                                                           ATT4 > 6: 2 (2)\n",
       "ATT7 > 4:\n",
       ":...ATT8 <= 2:\n",
       "    :...ATT7 > 8:\n",
       "    :   :...ATT9 > 7:\n",
       "    :   :   :...ATT5 <= 4: 1 (7)\n",
       "    :   :   :   ATT5 > 4: 3 (4/1)\n",
       "    :   :   ATT9 <= 7:\n",
       "    :   :   :...ATT10 > 9:\n",
       "    :   :       :...ATT2 <= 2: 3 (2)\n",
       "    :   :       :   ATT2 > 2: 1 (2)\n",
       "    :   :       ATT10 <= 9:\n",
       "    :   :       :...ATT7 > 9:\n",
       "    :   :           :...ATT9 <= 1: 0 (2)\n",
       "    :   :           :   ATT9 > 1: 1 (15/4)\n",
       "    :   :           ATT7 <= 9:\n",
       "    :   :           :...ATT5 <= 5:\n",
       "    :   :               :...ATT10 <= 1: 1 (6/1)\n",
       "    :   :               :   ATT10 > 1: 2 (15/4)\n",
       "    :   :               ATT5 > 5:\n",
       "    :   :               :...ATT10 <= 2: 1 (3/2)\n",
       "    :   :                   ATT10 > 2:\n",
       "    :   :                   :...ATT6 <= 2: 0 (4/1)\n",
       "    :   :                       ATT6 > 2:\n",
       "    :   :                       :...ATT10 > 4: 1 (4)\n",
       "    :   :                           ATT10 <= 4:\n",
       "    :   :                           :...ATT1 <= 7: 0 (2)\n",
       "    :   :                               ATT1 > 7: 1 (2)\n",
       "    :   ATT7 <= 8:\n",
       "    :   :...ATT2 > 9:\n",
       "    :       :...ATT1 <= 7: 1 (8/2)\n",
       "    :       :   ATT1 > 7: 0 (4/1)\n",
       "    :       ATT2 <= 9:\n",
       "    :       :...ATT4 > 5:\n",
       "    :           :...ATT2 <= 2:\n",
       "    :           :   :...ATT10 > 7: 0 (7)\n",
       "    :           :   :   ATT10 <= 7:\n",
       "    :           :   :   :...ATT9 <= 2:\n",
       "    :           :   :       :...ATT4 > 9: 2 (4)\n",
       "    :           :   :       :   ATT4 <= 9:\n",
       "    :           :   :       :   :...ATT1 <= 6: 2 (3/1)\n",
       "    :           :   :       :       ATT1 > 6: 0 (2)\n",
       "    :           :   :       ATT9 > 2:\n",
       "    :           :   :       :...ATT4 <= 8:\n",
       "    :           :   :           :...ATT8 > 1: 0 (3/1)\n",
       "    :           :   :           :   ATT8 <= 1:\n",
       "    :           :   :           :   :...ATT7 <= 6: 2 (3)\n",
       "    :           :   :           :       ATT7 > 6: 0 (5)\n",
       "    :           :   :           ATT4 > 8:\n",
       "    :           :   :           :...ATT3 > 6: 1 (4)\n",
       "    :           :   :               ATT3 <= 6:\n",
       "    :           :   :               :...ATT4 <= 9: 0 (2)\n",
       "    :           :   :                   ATT4 > 9:\n",
       "    :           :   :                   :...ATT7 <= 7: 1 (2)\n",
       "    :           :   :                       ATT7 > 7: 0 (2)\n",
       "    :           :   ATT2 > 2:\n",
       "    :           :   :...ATT1 <= 3:\n",
       "    :           :       :...ATT3 > 7: 2 (5/1)\n",
       "    :           :       :   ATT3 <= 7:\n",
       "    :           :       :   :...ATT8 <= 1: 0 (7/1)\n",
       "    :           :       :       ATT8 > 1: 2 (3/1)\n",
       "    :           :       ATT1 > 3:\n",
       "    :           :       :...ATT3 <= 4:\n",
       "    :           :           :...ATT6 <= 1: 2 (2)\n",
       "    :           :           :   ATT6 > 1:\n",
       "    :           :           :   :...ATT10 > 4: 1 (3)\n",
       "    :           :           :       ATT10 <= 4:\n",
       "    :           :           :       :...ATT3 > 3: 0 (3/1)\n",
       "    :           :           :           ATT3 <= 3:\n",
       "    :           :           :           :...ATT10 <= 1: 1 (3)\n",
       "    :           :           :               ATT10 > 1: 0 (4/1)\n",
       "    :           :           ATT3 > 4:\n",
       "    :           :           :...ATT7 > 6:\n",
       "    :           :               :...ATT1 > 5:\n",
       "    :           :               :   :...ATT3 <= 7: 3 (3/1)\n",
       "    :           :               :   :   ATT3 > 7: 1 (8/2)\n",
       "    :           :               :   ATT1 <= 5:\n",
       "    :           :               :   :...ATT8 <= 1: 0 (3)\n",
       "    :           :               :       ATT8 > 1:\n",
       "    :           :               :       :...ATT2 <= 5: 0 (2/1)\n",
       "    :           :               :           ATT2 > 5: 2 (2)\n",
       "    :           :               ATT7 <= 6:\n",
       "    :           :               :...ATT1 > 8:\n",
       "    :           :                   :...ATT3 <= 7: 2 (3/1)\n",
       "    :           :                   :   ATT3 > 7: 0 (3)\n",
       "    :           :                   ATT1 <= 8:\n",
       "    :           :                   :...ATT7 > 5:\n",
       "    :           :                       :...ATT9 <= 2: 1 (2)\n",
       "    :           :                       :   ATT9 > 2: 3 (5/1)\n",
       "    :           :                       ATT7 <= 5:\n",
       "    :           :                       :...ATT8 <= 1: 0 (2)\n",
       "    :           :                           ATT8 > 1:\n",
       "    :           :                           :...ATT5 <= 8: 0 (5/1)\n",
       "    :           :                               ATT5 > 8: 3 (2)\n",
       "    :           ATT4 <= 5:\n",
       "    :           :...ATT3 > 6:\n",
       "    :               :...ATT8 > 1:\n",
       "    :               :   :...ATT2 <= 1: 0 (5)\n",
       "    :               :   :   ATT2 > 1:\n",
       "    :               :   :   :...ATT4 <= 3:\n",
       "    :               :   :       :...ATT7 <= 7: 2 (2)\n",
       "    :               :   :       :   ATT7 > 7: 1 (3)\n",
       "    :               :   :       ATT4 > 3:\n",
       "    :               :   :       :...ATT1 <= 7: 0 (6/1)\n",
       "    :               :   :           ATT1 > 7: 1 (3/1)\n",
       "    :               :   ATT8 <= 1:\n",
       "    :               :   :...ATT6 > 7: 2 (4/1)\n",
       "    :               :       ATT6 <= 7:\n",
       "    :               :       :...ATT7 <= 6: 1 (11/2)\n",
       "    :               :           ATT7 > 6:\n",
       "    :               :           :...ATT6 <= 1: 0 (3)\n",
       "    :               :               ATT6 > 1:\n",
       "    :               :               :...ATT1 <= 6: 1 (6/2)\n",
       "    :               :                   ATT1 > 6: 2 (2)\n",
       "    :               ATT3 <= 6:\n",
       "    :               :...ATT1 <= 3:\n",
       "    :                   :...ATT6 > 7: 1 (2)\n",
       "    :                   :   ATT6 <= 7:\n",
       "    :                   :   :...ATT3 <= 3: 2 (4)\n",
       "    :                   :       ATT3 > 3:\n",
       "    :                   :       :...ATT5 <= 9: 3 (4)\n",
       "    :                   :           ATT5 > 9: 0 (2)\n",
       "    :                   ATT1 > 3:\n",
       "    :                   :...ATT7 > 7:\n",
       "    :                       :...ATT9 <= 1: 2 (2)\n",
       "    :                       :   ATT9 > 1:\n",
       "    :                       :   :...ATT5 <= 8: 1 (5/1)\n",
       "    :                       :       ATT5 > 8: 3 (4/1)\n",
       "    :                       ATT7 <= 7:\n",
       "    :                       :...ATT6 > 7: 0 (4)\n",
       "    :                           ATT6 <= 7:\n",
       "    :                           :...ATT3 <= 3:\n",
       "    :                               :...ATT8 <= 1: 1 (3)\n",
       "    :                               :   ATT8 > 1:\n",
       "    :                               :   :...ATT1 <= 8: 1 (2)\n",
       "    :                               :       ATT1 > 8: 3 (2)\n",
       "    :                               ATT3 > 3:\n",
       "    :                               :...ATT5 > 9: 0 (3)\n",
       "    :                                   ATT5 <= 9:\n",
       "    :                                   :...ATT9 > 3:\n",
       "    :                                       :...ATT10 <= 5: 1 (5)\n",
       "    :                                       :   ATT10 > 5: 2 (2)\n",
       "    :                                       ATT9 <= 3:\n",
       "    :                                       :...ATT3 > 4: 0 (5/1)\n",
       "    :                                           ATT3 <= 4:\n",
       "    :                                           :...ATT7 <= 5: 1 (4)\n",
       "    :                                               ATT7 > 5:\n",
       "    :                                               :...ATT8 <= 1: 1 (5/1)\n",
       "    :                                                   ATT8 > 1: 0 (2)\n",
       "    ATT8 > 2:\n",
       "    :...ATT10 > 7:\n",
       "        :...ATT6 <= 1:\n",
       "        :   :...ATT7 <= 6:\n",
       "        :   :   :...ATT9 <= 3: 1 (3)\n",
       "        :   :   :   ATT9 > 3:\n",
       "        :   :   :   :...ATT2 <= 4: 2 (3/1)\n",
       "        :   :   :       ATT2 > 4: 0 (4/1)\n",
       "        :   :   ATT7 > 6:\n",
       "        :   :   :...ATT3 > 8: 1 (4)\n",
       "        :   :       ATT3 <= 8:\n",
       "        :   :       :...ATT3 <= 5: 1 (5/1)\n",
       "        :   :           ATT3 > 5: 2 (3)\n",
       "        :   ATT6 > 1:\n",
       "        :   :...ATT7 > 9:\n",
       "        :       :...ATT3 <= 9: 0 (16/6)\n",
       "        :       :   ATT3 > 9:\n",
       "        :       :   :...ATT2 <= 3: 3 (2)\n",
       "        :       :       ATT2 > 3: 0 (2)\n",
       "        :       ATT7 <= 9:\n",
       "        :       :...ATT4 > 8:\n",
       "        :           :...ATT3 <= 9: 0 (18/4)\n",
       "        :           :   ATT3 > 9: 1 (4/1)\n",
       "        :           ATT4 <= 8:\n",
       "        :           :...ATT1 <= 6:\n",
       "        :               :...ATT6 <= 8: 0 (32/10)\n",
       "        :               :   ATT6 > 8: 2 (7/2)\n",
       "        :               ATT1 > 6:\n",
       "        :               :...ATT10 > 9:\n",
       "        :                   :...ATT1 > 8: 2 (4/1)\n",
       "        :                   :   ATT1 <= 8:\n",
       "        :                   :   :...ATT8 <= 7: 3 (4/1)\n",
       "        :                   :       ATT8 > 7: 1 (2)\n",
       "        :                   ATT10 <= 9:\n",
       "        :                   :...ATT2 > 8: 1 (7/2)\n",
       "        :                       ATT2 <= 8:\n",
       "        :                       :...ATT1 <= 8:\n",
       "        :                           :...ATT5 <= 4:\n",
       "        :                           :   :...ATT4 <= 4: 0 (3/1)\n",
       "        :                           :   :   ATT4 > 4: 2 (2)\n",
       "        :                           :   ATT5 > 4:\n",
       "        :                           :   :...ATT6 <= 6: 2 (2)\n",
       "        :                           :       ATT6 > 6: 3 (3)\n",
       "        :                           ATT1 > 8:\n",
       "        :                           :...ATT4 > 7: 1 (5/1)\n",
       "        :                               ATT4 <= 7:\n",
       "        :                               :...ATT2 <= 5: 0 (5/1)\n",
       "        :                                   ATT2 > 5:\n",
       "        :                                   :...ATT1 <= 9: 0 (4/1)\n",
       "        :                                       ATT1 > 9: 2 (3)\n",
       "        ATT10 <= 7:\n",
       "        :...ATT1 > 5:\n",
       "            :...ATT1 <= 6:\n",
       "            :   :...ATT9 <= 1: 0 (9/2)\n",
       "            :   :   ATT9 > 1:\n",
       "            :   :   :...ATT3 <= 7:\n",
       "            :   :       :...ATT4 <= 5:\n",
       "            :   :       :   :...ATT5 > 7: 0 (6/1)\n",
       "            :   :       :   :   ATT5 <= 7:\n",
       "            :   :       :   :   :...ATT4 <= 4: 1 (14/2)\n",
       "            :   :       :   :       ATT4 > 4: 0 (4/1)\n",
       "            :   :       :   ATT4 > 5:\n",
       "            :   :       :   :...ATT9 > 4:\n",
       "            :   :       :       :...ATT5 <= 7: 0 (8/2)\n",
       "            :   :       :       :   ATT5 > 7: 2 (3)\n",
       "            :   :       :       ATT9 <= 4:\n",
       "            :   :       :       :...ATT4 <= 6: 2 (2)\n",
       "            :   :       :           ATT4 > 6:\n",
       "            :   :       :           :...ATT8 <= 7: 0 (3/1)\n",
       "            :   :       :               ATT8 > 7: 1 (8/1)\n",
       "            :   :       ATT3 > 7:\n",
       "            :   :       :...ATT5 > 8: 1 (7)\n",
       "            :   :           ATT5 <= 8:\n",
       "            :   :           :...ATT5 <= 4:\n",
       "            :   :               :...ATT6 <= 2: 1 (5)\n",
       "            :   :               :   ATT6 > 2:\n",
       "            :   :               :   :...ATT8 <= 3: 1 (2)\n",
       "            :   :               :       ATT8 > 3: 2 (3)\n",
       "            :   :               ATT5 > 4:\n",
       "            :   :               :...ATT2 > 6: 0 (2)\n",
       "            :   :                   ATT2 <= 6:\n",
       "            :   :                   :...ATT4 <= 8: 1 (4)\n",
       "            :   :                       ATT4 > 8: 0 (2/1)\n",
       "            :   ATT1 > 6:\n",
       "            :   :...ATT8 > 9:\n",
       "            :       :...ATT10 > 5:\n",
       "            :       :   :...ATT4 <= 6: 1 (2)\n",
       "            :       :   :   ATT4 > 6: 2 (2)\n",
       "            :       :   ATT10 <= 5:\n",
       "            :       :   :...ATT10 <= 4: 1 (6)\n",
       "            :       :       ATT10 > 4:\n",
       "            :       :       :...ATT5 <= 5: 0 (2)\n",
       "            :       :           ATT5 > 5: 1 (3/1)\n",
       "            :       ATT8 <= 9:\n",
       "            :       :...ATT8 > 8:\n",
       "            :           :...ATT2 <= 1: 2 (3)\n",
       "            :           :   ATT2 > 1:\n",
       "            :           :   :...ATT9 > 5:\n",
       "            :           :       :...ATT10 <= 2: 2 (2)\n",
       "            :           :       :   ATT10 > 2: 0 (6)\n",
       "            :           :       ATT9 <= 5:\n",
       "            :           :       :...ATT9 <= 2: 0 (6)\n",
       "            :           :           ATT9 > 2:\n",
       "            :           :           :...ATT2 <= 8:\n",
       "            :           :               :...ATT2 <= 4: 1 (3/1)\n",
       "            :           :               :   ATT2 > 4: 3 (2)\n",
       "            :           :               ATT2 > 8:\n",
       "            :           :               :...ATT10 <= 4: 1 (2)\n",
       "            :           :                   ATT10 > 4: 0 (2)\n",
       "            :           ATT8 <= 8:\n",
       "            :           :...ATT10 <= 2:\n",
       "            :               :...ATT5 <= 2:\n",
       "            :               :   :...ATT3 <= 3: 0 (2/1)\n",
       "            :               :   :   ATT3 > 3: 1 (4/1)\n",
       "            :               :   ATT5 > 2:\n",
       "            :               :   :...ATT9 > 4:\n",
       "            :               :       :...ATT3 > 3: 0 (24/5)\n",
       "            :               :       :   ATT3 <= 3:\n",
       "            :               :       :   :...ATT7 > 7: 1 (2)\n",
       "            :               :       :       ATT7 <= 7:\n",
       "            :               :       :       :...ATT6 <= 2: 1 (2/1)\n",
       "            :               :       :           ATT6 > 2: 0 (2)\n",
       "            :               :       ATT9 <= 4:\n",
       "            :               :       :...ATT10 <= 1:\n",
       "            :               :           :...ATT8 > 5:\n",
       "            :               :           :   :...ATT2 <= 1: 1 (2)\n",
       "            :               :           :   :   ATT2 > 1: 2 (3/1)\n",
       "            :               :           :   ATT8 <= 5:\n",
       "            :               :           :   :...ATT7 > 7: 0 (10/2)\n",
       "            :               :           :       ATT7 <= 7:\n",
       "            :               :           :       :...ATT2 <= 6: 1 (6/1)\n",
       "            :               :           :           ATT2 > 6: 0 (2)\n",
       "            :               :           ATT10 > 1:\n",
       "            :               :           :...ATT7 <= 5: 0 (2)\n",
       "            :               :               ATT7 > 5:\n",
       "            :               :               :...ATT9 <= 2: 1 (5)\n",
       "            :               :                   ATT9 > 2:\n",
       "            :               :                   :...ATT9 <= 3: 0 (5/1)\n",
       "            :               :                       ATT9 > 3: 1 (2)\n",
       "            :               ATT10 > 2:\n",
       "            :               :...ATT1 > 9:\n",
       "            :                   :...ATT3 > 8:\n",
       "            :                   :   :...ATT5 <= 6: 1 (4)\n",
       "            :                   :   :   ATT5 > 6:\n",
       "            :                   :   :   :...ATT6 <= 4: 1 (2/1)\n",
       "            :                   :   :       ATT6 > 4: 0 (2)\n",
       "            :                   :   ATT3 <= 8:\n",
       "            :                   :   :...ATT7 > 7:\n",
       "            :                   :       :...ATT4 > 6: 1 (5/1)\n",
       "            :                   :       :   ATT4 <= 6:\n",
       "            :                   :       :   :...ATT5 <= 6: 0 (4/1)\n",
       "            :                   :       :       ATT5 > 6: 2 (3/1)\n",
       "            :                   :       ATT7 <= 7:\n",
       "            :                   :       :...ATT3 <= 4:\n",
       "            :                   :           :...ATT6 <= 6: 0 (8)\n",
       "            :                   :           :   ATT6 > 6: 1 (3/1)\n",
       "            :                   :           ATT3 > 4:\n",
       "            :                   :           :...ATT7 <= 5: 2 (3/1)\n",
       "            :                   :               ATT7 > 5:\n",
       "            :                   :               :...ATT6 > 7: 0 (3/1)\n",
       "            :                   :                   ATT6 <= 7:\n",
       "            :                   :                   :...ATT10 > 4: 1 (6)\n",
       "            :                   :                       ATT10 <= 4:\n",
       "            :                   :                       :...ATT4 <= 5: 0 (3)\n",
       "            :                   :                           ATT4 > 5: 1 (2)\n",
       "            :                   ATT1 <= 9:\n",
       "            :                   :...ATT5 > 9:\n",
       "            :                       :...ATT10 <= 4:\n",
       "            :                       :   :...ATT3 <= 5: 2 (4/1)\n",
       "            :                       :   :   ATT3 > 5: 1 (4)\n",
       "            :                       :   ATT10 > 4:\n",
       "            :                       :   :...ATT9 <= 3: 1 (4/1)\n",
       "            :                       :       ATT9 > 3: 0 (5/1)\n",
       "            :                       ATT5 <= 9:\n",
       "            :                       :...ATT4 > 5:\n",
       "            :                           :...ATT8 > 6: 0 (10/2)\n",
       "            :                           :   ATT8 <= 6:\n",
       "            :                           :   :...ATT6 <= 3:\n",
       "            :                           :       :...ATT8 <= 3: 2 (2)\n",
       "            :                           :       :   ATT8 > 3:\n",
       "            :                           :       :   :...ATT10 <= 3: 0 (5/1)\n",
       "            :                           :       :       ATT10 > 3: 2 (8/3)\n",
       "            :                           :       ATT6 > 3:\n",
       "            :                           :       :...ATT9 > 4:\n",
       "            :                           :           :...ATT5 <= 7: 0 (5)\n",
       "            :                           :           :   ATT5 > 7: 2 (3/1)\n",
       "            :                           :           ATT9 <= 4:\n",
       "            :                           :           :...ATT10 > 6: 1 (2)\n",
       "            :                           :               ATT10 <= 6:\n",
       "            :                           :               :...ATT3 <= 6: 1 (3/1)\n",
       "            :                           :                   ATT3 > 6: 2 (4)\n",
       "            :                           ATT4 <= 5:\n",
       "            :                           :...ATT4 <= 3:\n",
       "            :                               :...ATT7 <= 5: 2 (4/1)\n",
       "            :                               :   ATT7 > 5:\n",
       "            :                               :   :...ATT8 <= 3: 2 (4/1)\n",
       "            :                               :       ATT8 > 3:\n",
       "            :                               :       :...ATT4 > 2: 1 (2)\n",
       "            :                               :           ATT4 <= 2:\n",
       "            :                               :           :...ATT3 <= 2: 0 (2)\n",
       "            :                               :               ATT3 > 2: 1 (7/1)\n",
       "            :                               ATT4 > 3:\n",
       "            :                               :...ATT9 > 8: 1 (3)\n",
       "            :                                   ATT9 <= 8:\n",
       "            :                                   :...ATT1 <= 7:\n",
       "            :                                       :...ATT8 <= 7: 2 (3)\n",
       "            :                                       :   ATT8 > 7:\n",
       "            :                                       :   :...ATT5 <= 3: 0 (2/1)\n",
       "            :                                       :       ATT5 > 3: 1 (2)\n",
       "            :                                       ATT1 > 7:\n",
       "            :                                       :...ATT6 <= 3: 2 (4/1)\n",
       "            :                                           ATT6 > 3:\n",
       "            :                                           :...ATT8 > 5: 0 (4/1)\n",
       "            :                                               ATT8 <= 5: [S1]\n",
       "            ATT1 <= 5:\n",
       "            :...ATT10 > 6:\n",
       "                :...ATT5 > 7: 0 (8/1)\n",
       "                :   ATT5 <= 7:\n",
       "                :   :...ATT6 <= 1:\n",
       "                :       :...ATT9 <= 3: 3 (3/1)\n",
       "                :       :   ATT9 > 3: 1 (2)\n",
       "                :       ATT6 > 1:\n",
       "                :       :...ATT9 > 5: 0 (7)\n",
       "                :           ATT9 <= 5:\n",
       "                :           :...ATT8 > 7:\n",
       "                :               :...ATT4 <= 6: 2 (2/1)\n",
       "                :               :   ATT4 > 6: 1 (2)\n",
       "                :               ATT8 <= 7:\n",
       "                :               :...ATT7 > 7: 0 (3/1)\n",
       "                :                   ATT7 <= 7:\n",
       "                :                   :...ATT3 <= 6: 1 (3)\n",
       "                :                       ATT3 > 6:\n",
       "                :                       :...ATT7 <= 5: 0 (5)\n",
       "                :                           ATT7 > 5: 1 (3/1)\n",
       "                ATT10 <= 6:\n",
       "                :...ATT9 <= 2:\n",
       "                    :...ATT8 > 7:\n",
       "                    :   :...ATT8 <= 8: 1 (4)\n",
       "                    :   :   ATT8 > 8:\n",
       "                    :   :   :...ATT7 <= 6:\n",
       "                    :   :       :...ATT2 <= 4: 1 (3/1)\n",
       "                    :   :       :   ATT2 > 4: 0 (3)\n",
       "                    :   :       ATT7 > 6:\n",
       "                    :   :       :...ATT6 <= 5: 2 (7/1)\n",
       "                    :   :           ATT6 > 5: 1 (5/1)\n",
       "                    :   ATT8 <= 7:\n",
       "                    :   :...ATT4 > 5:\n",
       "                    :       :...ATT6 <= 4:\n",
       "                    :       :   :...ATT7 <= 5: 1 (3/1)\n",
       "                    :       :   :   ATT7 > 5: 0 (12)\n",
       "                    :       :   ATT6 > 4:\n",
       "                    :       :   :...ATT6 <= 7: 1 (6)\n",
       "                    :       :       ATT6 > 7: 0 (5)\n",
       "                    :       ATT4 <= 5:\n",
       "                    :       :...ATT4 > 4: 2 (5/1)\n",
       "                    :           ATT4 <= 4:\n",
       "                    :           :...ATT4 > 3: 0 (8/1)\n",
       "                    :               ATT4 <= 3:\n",
       "                    :               :...ATT7 <= 6: 1 (4/1)\n",
       "                    :                   ATT7 > 6: 0 (3/1)\n",
       "                    ATT9 > 2:\n",
       "                    :...ATT9 <= 3:\n",
       "                        :...ATT4 > 9: 2 (3/1)\n",
       "                        :   ATT4 <= 9:\n",
       "                        :   :...ATT3 <= 3:\n",
       "                        :       :...ATT1 <= 3: 1 (2)\n",
       "                        :       :   ATT1 > 3: 0 (2/1)\n",
       "                        :       ATT3 > 3:\n",
       "                        :       :...ATT6 > 7: 1 (4/1)\n",
       "                        :           ATT6 <= 7:\n",
       "                        :           :...ATT1 > 4: 3 (3)\n",
       "                        :               ATT1 <= 4:\n",
       "                        :               :...ATT10 <= 1: 3 (3)\n",
       "                        :                   ATT10 > 1:\n",
       "                        :                   :...ATT4 <= 6: 3 (4/2)\n",
       "                        :                       ATT4 > 6: 0 (4)\n",
       "                        ATT9 > 3:\n",
       "                        :...ATT3 > 9:\n",
       "                            :...ATT7 <= 7:\n",
       "                            :   :...ATT4 <= 8: 1 (9)\n",
       "                            :   :   ATT4 > 8:\n",
       "                            :   :   :...ATT1 <= 3: 0 (2)\n",
       "                            :   :       ATT1 > 3: 1 (2/1)\n",
       "                            :   ATT7 > 7:\n",
       "                            :   :...ATT10 <= 4: 0 (7)\n",
       "                            :       ATT10 > 4:\n",
       "                            :       :...ATT8 <= 9: 1 (2)\n",
       "                            :           ATT8 > 9: 0 (2)\n",
       "                            ATT3 <= 9:\n",
       "                            :...ATT10 > 5:\n",
       "                                :...ATT3 > 5: 0 (2/1)\n",
       "                                :   ATT3 <= 5:\n",
       "                                :   :...ATT2 <= 2: 1 (4)\n",
       "                                :       ATT2 > 2:\n",
       "                                :       :...ATT1 > 4: 0 (4)\n",
       "                                :           ATT1 <= 4:\n",
       "                                :           :...ATT2 > 7: 0 (2)\n",
       "                                :               ATT2 <= 7:\n",
       "                                :               :...ATT2 > 5: 1 (2)\n",
       "                                :                   ATT2 <= 5:\n",
       "                                :                   :...ATT4 <= 7: 0 (2)\n",
       "                                :                       ATT4 > 7: 1 (2)\n",
       "                                ATT10 <= 5:\n",
       "                                :...ATT4 <= 2:\n",
       "                                    :...ATT8 <= 5: 1 (7/1)\n",
       "                                    :   ATT8 > 5:\n",
       "                                    :   :...ATT10 <= 3:\n",
       "                                    :       :...ATT7 <= 7: 2 (4/1)\n",
       "                                    :       :   ATT7 > 7: 0 (2)\n",
       "                                    :       ATT10 > 3:\n",
       "                                    :       :...ATT5 <= 9: 1 (3)\n",
       "                                    :           ATT5 > 9: 2 (2)\n",
       "                                    ATT4 > 2:\n",
       "                                    :...ATT5 <= 2:\n",
       "                                        :...ATT6 <= 1: 2 (3/1)\n",
       "                                        :   ATT6 > 1:\n",
       "                                        :   :...ATT3 > 7: 0 (3/1)\n",
       "                                        :       ATT3 <= 7:\n",
       "                                        :       :...ATT9 <= 5: 0 (4/1)\n",
       "                                        :           ATT9 > 5:\n",
       "                                        :           :...ATT4 <= 8: 1 (6/1)\n",
       "                                        :               ATT4 > 8: 3 (3/1)\n",
       "                                        ATT5 > 2:\n",
       "                                        :...ATT10 > 4:\n",
       "                                            :...ATT4 <= 6: 0 (6)\n",
       "                                            :   ATT4 > 6:\n",
       "                                            :   :...ATT1 <= 3: 0 (2/1)\n",
       "                                            :       ATT1 > 3: 2 (3)\n",
       "                                            ATT10 <= 4:\n",
       "                                            :...ATT4 > 7:\n",
       "                                                :...ATT9 > 6: 0 (11/3)\n",
       "                                                :   ATT9 <= 6:\n",
       "                                                :   :...ATT8 <= 4:\n",
       "                                                :       :...ATT4 <= 9: 1 (3/1)\n",
       "                                                :       :   ATT4 > 9: 0 (5)\n",
       "                                                :       ATT8 > 4:\n",
       "                                                :       :...ATT2 <= 6: 1 (7)\n",
       "                                                :           ATT2 > 6: [S2]\n",
       "                                                ATT4 <= 7:\n",
       "                                                :...ATT1 <= 2:\n",
       "                                                    :...ATT7 <= 6: 2 (5)\n",
       "                                                    :   ATT7 > 6: 1 (4/1)\n",
       "                                                    ATT1 > 2:\n",
       "                                                    :...ATT5 > 9:\n",
       "                                                        :...ATT2 <= 4: 2 (4/1)\n",
       "                                                        :   ATT2 > 4: 1 (4/1)\n",
       "                                                        ATT5 <= 9:\n",
       "                                                        :...ATT8 > 4: 0 (13/1)\n",
       "                                                            ATT8 <= 4: [S3]\n",
       "\n",
       "SubTree [S1]\n",
       "\n",
       "ATT6 <= 5: 0 (4/1)\n",
       "ATT6 > 5: 3 (2)\n",
       "\n",
       "SubTree [S2]\n",
       "\n",
       "ATT2 <= 7: 0 (2)\n",
       "ATT2 > 7: 1 (3)\n",
       "\n",
       "SubTree [S3]\n",
       "\n",
       "ATT10 <= 1: 0 (3/2)\n",
       "ATT10 > 1:\n",
       ":...ATT5 <= 6: 1 (3/1)\n",
       "    ATT5 > 6: 2 (5/1)\n",
       "\n",
       "\n",
       "Evaluation on training data (2400 cases):\n",
       "\n",
       "\t    Decision Tree   \n",
       "\t  ----------------  \n",
       "\t  Size      Errors  \n",
       "\n",
       "\t   563  382(15.9%)   <<\n",
       "\n",
       "\n",
       "\t   (a)   (b)   (c)   (d)    <-classified as\n",
       "\t  ----  ----  ----  ----\n",
       "\t   773    54    32     9    (a): class 0\n",
       "\t    63   776    27    10    (b): class 1\n",
       "\t    69    50   373     3    (c): class 2\n",
       "\t    24    26    15    96    (d): class 3\n",
       "\n",
       "\n",
       "\tAttribute usage:\n",
       "\n",
       "\t100.00%\tATT7\n",
       "\t 83.42%\tATT4\n",
       "\t 82.42%\tATT9\n",
       "\t 76.42%\tATT8\n",
       "\t 74.08%\tATT10\n",
       "\t 60.83%\tATT1\n",
       "\t 59.96%\tATT3\n",
       "\t 53.21%\tATT6\n",
       "\t 50.08%\tATT5\n",
       "\t 42.88%\tATT2\n",
       "\n",
       "\n",
       "Time: 0.1 secs\n"
      ]
     },
     "metadata": {},
     "output_type": "display_data"
    },
    {
     "data": {
      "text/plain": [
       "\n",
       "Call:\n",
       "C5.0.formula(formula = Result ~ ., data = training)\n",
       "\n",
       "Classification Tree\n",
       "Number of samples: 2400 \n",
       "Number of predictors: 10 \n",
       "\n",
       "Tree size: 563 \n",
       "\n",
       "Non-standard options: attempt to group attributes\n"
      ]
     },
     "metadata": {},
     "output_type": "display_data"
    }
   ],
   "source": [
    "summary(treeFit);\n",
    "treeFit;"
   ]
  },
  {
   "cell_type": "code",
   "execution_count": 373,
   "metadata": {
    "collapsed": false
   },
   "outputs": [],
   "source": [
    "# Predict.\n",
    "pred_tree <- predict(treeFit, prostateDatasetTest_modified);"
   ]
  },
  {
   "cell_type": "code",
   "execution_count": 374,
   "metadata": {
    "collapsed": false
   },
   "outputs": [
    {
     "data": {
      "text/plain": [
       "Confusion Matrix and Statistics\n",
       "\n",
       "          Reference\n",
       "Prediction  0  1  2  3\n",
       "         0 59 95 48 12\n",
       "         1 76 77 38 13\n",
       "         2 57 55 26  9\n",
       "         3 10 17  7  1\n",
       "\n",
       "Overall Statistics\n",
       "                                        \n",
       "               Accuracy : 0.272         \n",
       "                 95% CI : (0.236, 0.309)\n",
       "    No Information Rate : 0.407         \n",
       "    P-Value [Acc > NIR] : 1.000         \n",
       "                                        \n",
       "                  Kappa : -0.056        \n",
       " Mcnemar's Test P-Value : 0.325         \n",
       "\n",
       "Statistics by Class:\n",
       "\n",
       "                     Class: 0 Class: 1 Class: 2 Class: 3\n",
       "Sensitivity            0.2921    0.316   0.2185  0.02857\n",
       "Specificity            0.6106    0.643   0.7484  0.93982\n",
       "Pos Pred Value         0.2757    0.377   0.1769  0.02857\n",
       "Neg Pred Value         0.6295    0.578   0.7947  0.93982\n",
       "Prevalence             0.3367    0.407   0.1983  0.05833\n",
       "Detection Rate         0.0983    0.128   0.0433  0.00167\n",
       "Detection Prevalence   0.3567    0.340   0.2450  0.05833\n",
       "Balanced Accuracy      0.4513    0.479   0.4835  0.48420"
      ]
     },
     "metadata": {},
     "output_type": "display_data"
    }
   ],
   "source": [
    "confusionMatrix(actual, pred_tree)"
   ]
  },
  {
   "cell_type": "markdown",
   "metadata": {},
   "source": [
    "# 10. Rule-based Models\n",
    "(Peter Tadich)"
   ]
  },
  {
   "cell_type": "code",
   "execution_count": 375,
   "metadata": {
    "collapsed": true
   },
   "outputs": [],
   "source": [
    "# Create a rule-based model using package 'C50'.\n",
    "if(TRUE){\n",
    "    \n",
    "    set.seed(1);\n",
    "    rulesFit <- C5.0(Result ~., data = training, rules = TRUE); # From 'C50' package.\n",
    "    \n",
    "}"
   ]
  },
  {
   "cell_type": "code",
   "execution_count": 376,
   "metadata": {
    "collapsed": false
   },
   "outputs": [
    {
     "data": {
      "text/plain": [
       "\n",
       "Call:\n",
       "C5.0.formula(formula = Result ~ ., data = training, rules = TRUE)\n",
       "\n",
       "\n",
       "C5.0 [Release 2.07 GPL Edition]  \tSun Dec 04 13:55:00 2016\n",
       "-------------------------------\n",
       "\n",
       "Class specified by attribute `outcome'\n",
       "\n",
       "Read 2400 cases (11 attributes) from undefined.data\n",
       "\n",
       "Rules:\n",
       "\n",
       "Rule 1: (10, lift 2.5)\n",
       "\tATT2 <= 2\n",
       "\tATT4 <= 4\n",
       "\tATT7 > 1\n",
       "\tATT7 <= 4\n",
       "\tATT9 > 3\n",
       "\tATT9 <= 4\n",
       "\tATT10 <= 3\n",
       "\t->  class 0  [0.917]\n",
       "\n",
       "Rule 2: (9, lift 2.5)\n",
       "\tATT4 > 5\n",
       "\tATT4 <= 9\n",
       "\tATT6 > 4\n",
       "\tATT6 <= 8\n",
       "\tATT7 <= 1\n",
       "\tATT9 > 4\n",
       "\tATT9 <= 9\n",
       "\tATT10 <= 5\n",
       "\t->  class 0  [0.909]\n",
       "\n",
       "Rule 3: (9, lift 2.5)\n",
       "\tATT1 > 6\n",
       "\tATT3 <= 8\n",
       "\tATT4 <= 9\n",
       "\tATT6 <= 1\n",
       "\tATT7 > 1\n",
       "\tATT8 > 1\n",
       "\tATT9 > 7\n",
       "\tATT9 <= 9\n",
       "\tATT10 <= 5\n",
       "\t->  class 0  [0.909]\n",
       "\n",
       "Rule 4: (9, lift 2.5)\n",
       "\tATT1 > 6\n",
       "\tATT1 <= 9\n",
       "\tATT4 > 5\n",
       "\tATT5 <= 7\n",
       "\tATT6 > 3\n",
       "\tATT8 > 2\n",
       "\tATT8 <= 6\n",
       "\tATT9 > 4\n",
       "\tATT10 > 2\n",
       "\tATT10 <= 7\n",
       "\t->  class 0  [0.909]\n",
       "\n",
       "Rule 5: (8, lift 2.5)\n",
       "\tATT3 > 6\n",
       "\tATT5 > 7\n",
       "\tATT7 <= 4\n",
       "\tATT8 > 1\n",
       "\tATT8 <= 5\n",
       "\tATT9 <= 1\n",
       "\t->  class 0  [0.900]\n",
       "\n",
       "Rule 6: (8, lift 2.5)\n",
       "\tATT2 > 8\n",
       "\tATT4 <= 9\n",
       "\tATT5 > 8\n",
       "\tATT7 <= 4\n",
       "\tATT9 > 3\n",
       "\tATT9 <= 9\n",
       "\tATT10 <= 5\n",
       "\t->  class 0  [0.900]\n",
       "\n",
       "Rule 7: (8, lift 2.5)\n",
       "\tATT3 > 3\n",
       "\tATT3 <= 6\n",
       "\tATT5 > 9\n",
       "\tATT6 <= 7\n",
       "\tATT7 > 4\n",
       "\tATT7 <= 7\n",
       "\tATT8 <= 2\n",
       "\t->  class 0  [0.900]\n",
       "\n",
       "Rule 8: (7, lift 2.5)\n",
       "\tATT3 > 4\n",
       "\tATT3 <= 5\n",
       "\tATT5 <= 4\n",
       "\tATT6 <= 2\n",
       "\tATT7 <= 2\n",
       "\tATT9 <= 3\n",
       "\t->  class 0  [0.889]\n",
       "\n",
       "Rule 9: (7, lift 2.5)\n",
       "\tATT2 <= 7\n",
       "\tATT3 > 8\n",
       "\tATT4 <= 9\n",
       "\tATT7 <= 2\n",
       "\tATT8 <= 5\n",
       "\tATT9 > 4\n",
       "\tATT10 > 5\n",
       "\t->  class 0  [0.889]\n",
       "\n",
       "Rule 10: (7, lift 2.5)\n",
       "\tATT1 > 5\n",
       "\tATT2 > 1\n",
       "\tATT7 > 4\n",
       "\tATT8 > 8\n",
       "\tATT8 <= 9\n",
       "\tATT9 <= 2\n",
       "\t->  class 0  [0.889]\n",
       "\n",
       "Rule 11: (6, lift 2.4)\n",
       "\tATT1 > 3\n",
       "\tATT1 <= 8\n",
       "\tATT2 <= 1\n",
       "\tATT4 <= 2\n",
       "\tATT7 > 1\n",
       "\tATT7 <= 4\n",
       "\tATT9 <= 3\n",
       "\t->  class 0  [0.875]\n",
       "\n",
       "Rule 12: (6, lift 2.4)\n",
       "\tATT3 > 6\n",
       "\tATT3 <= 7\n",
       "\tATT4 <= 9\n",
       "\tATT5 > 3\n",
       "\tATT7 <= 3\n",
       "\tATT8 > 4\n",
       "\tATT9 <= 3\n",
       "\t->  class 0  [0.875]\n",
       "\n",
       "Rule 13: (6, lift 2.4)\n",
       "\tATT3 > 4\n",
       "\tATT4 <= 4\n",
       "\tATT5 > 3\n",
       "\tATT7 > 1\n",
       "\tATT7 <= 4\n",
       "\tATT8 <= 4\n",
       "\tATT9 > 3\n",
       "\tATT9 <= 4\n",
       "\tATT10 <= 3\n",
       "\t->  class 0  [0.875]\n",
       "\n",
       "Rule 14: (5, lift 2.4)\n",
       "\tATT1 > 4\n",
       "\tATT6 > 4\n",
       "\tATT7 <= 2\n",
       "\tATT8 <= 7\n",
       "\tATT9 > 9\n",
       "\tATT10 > 2\n",
       "\t->  class 0  [0.857]\n",
       "\n",
       "Rule 15: (5, lift 2.4)\n",
       "\tATT2 <= 1\n",
       "\tATT3 > 6\n",
       "\tATT4 <= 5\n",
       "\tATT7 > 4\n",
       "\tATT7 <= 8\n",
       "\tATT8 > 1\n",
       "\tATT8 <= 2\n",
       "\t->  class 0  [0.857]\n",
       "\n",
       "Rule 16: (11/1, lift 2.3)\n",
       "\tATT1 > 6\n",
       "\tATT5 > 2\n",
       "\tATT6 > 2\n",
       "\tATT7 > 4\n",
       "\tATT7 <= 7\n",
       "\tATT8 <= 9\n",
       "\tATT9 > 4\n",
       "\tATT10 <= 2\n",
       "\t->  class 0  [0.846]\n",
       "\n",
       "Rule 17: (4, lift 2.3)\n",
       "\tATT1 > 9\n",
       "\tATT6 <= 8\n",
       "\tATT9 > 3\n",
       "\tATT10 > 9\n",
       "\t->  class 0  [0.833]\n",
       "\n",
       "Rule 18: (15/2, lift 2.3)\n",
       "\tATT1 <= 8\n",
       "\tATT2 > 4\n",
       "\tATT4 <= 8\n",
       "\tATT6 > 2\n",
       "\tATT6 <= 8\n",
       "\tATT8 > 5\n",
       "\tATT9 > 4\n",
       "\tATT10 > 6\n",
       "\t->  class 0  [0.824]\n",
       "\n",
       "Rule 19: (9/1, lift 2.3)\n",
       "\tATT2 <= 8\n",
       "\tATT4 > 5\n",
       "\tATT4 <= 9\n",
       "\tATT7 > 1\n",
       "\tATT7 <= 4\n",
       "\tATT8 <= 1\n",
       "\tATT9 > 5\n",
       "\tATT10 <= 5\n",
       "\t->  class 0  [0.818]\n",
       "\n",
       "Rule 20: (9/1, lift 2.3)\n",
       "\tATT2 > 9\n",
       "\tATT4 <= 9\n",
       "\tATT7 > 2\n",
       "\tATT7 <= 4\n",
       "\tATT9 > 3\n",
       "\tATT9 <= 8\n",
       "\tATT10 <= 5\n",
       "\t->  class 0  [0.818]\n",
       "\n",
       "Rule 21: (9/1, lift 2.3)\n",
       "\tATT1 <= 8\n",
       "\tATT3 > 8\n",
       "\tATT4 <= 2\n",
       "\tATT5 > 3\n",
       "\tATT7 <= 4\n",
       "\tATT9 <= 3\n",
       "\tATT10 > 1\n",
       "\t->  class 0  [0.818]\n",
       "\n",
       "Rule 22: (13/2, lift 2.2)\n",
       "\tATT1 > 3\n",
       "\tATT1 <= 4\n",
       "\tATT3 <= 5\n",
       "\tATT7 <= 4\n",
       "\tATT8 > 1\n",
       "\tATT9 > 5\n",
       "\tATT9 <= 9\n",
       "\tATT10 <= 5\n",
       "\t->  class 0  [0.800]\n",
       "\n",
       "Rule 23: (3, lift 2.2)\n",
       "\tATT4 <= 2\n",
       "\tATT7 <= 4\n",
       "\tATT9 <= 3\n",
       "\tATT10 > 8\n",
       "\t->  class 0  [0.800]\n",
       "\n",
       "Rule 24: (17/3, lift 2.2)\n",
       "\tATT1 <= 6\n",
       "\tATT3 <= 5\n",
       "\tATT6 > 1\n",
       "\tATT7 > 1\n",
       "\tATT7 <= 4\n",
       "\tATT8 > 1\n",
       "\tATT9 > 5\n",
       "\tATT9 <= 9\n",
       "\tATT10 <= 2\n",
       "\t->  class 0  [0.789]\n",
       "\n",
       "Rule 25: (16/3, lift 2.2)\n",
       "\tATT2 <= 6\n",
       "\tATT3 <= 5\n",
       "\tATT4 > 2\n",
       "\tATT4 <= 5\n",
       "\tATT5 <= 7\n",
       "\tATT6 > 1\n",
       "\tATT7 > 1\n",
       "\tATT7 <= 3\n",
       "\tATT9 > 1\n",
       "\tATT9 <= 3\n",
       "\tATT10 <= 7\n",
       "\t->  class 0  [0.778]\n",
       "\n",
       "Rule 26: (7/1, lift 2.2)\n",
       "\tATT1 > 6\n",
       "\tATT3 <= 2\n",
       "\tATT4 <= 2\n",
       "\tATT8 > 3\n",
       "\tATT10 > 2\n",
       "\t->  class 0  [0.778]\n",
       "\n",
       "Rule 27: (14/3, lift 2.1)\n",
       "\tATT2 > 4\n",
       "\tATT3 > 8\n",
       "\tATT4 > 8\n",
       "\tATT7 <= 4\n",
       "\tATT8 > 1\n",
       "\t->  class 0  [0.750]\n",
       "\n",
       "Rule 28: (14/3, lift 2.1)\n",
       "\tATT2 <= 7\n",
       "\tATT4 <= 4\n",
       "\tATT5 > 2\n",
       "\tATT7 > 2\n",
       "\tATT7 <= 4\n",
       "\tATT9 > 3\n",
       "\tATT9 <= 5\n",
       "\tATT10 <= 3\n",
       "\t->  class 0  [0.750]\n",
       "\n",
       "Rule 29: (13/3, lift 2.0)\n",
       "\tATT1 <= 8\n",
       "\tATT3 > 9\n",
       "\tATT6 <= 5\n",
       "\tATT7 <= 4\n",
       "\tATT8 > 1\n",
       "\tATT9 <= 1\n",
       "\t->  class 0  [0.733]\n",
       "\n",
       "Rule 30: (9/2, lift 2.0)\n",
       "\tATT2 > 8\n",
       "\tATT9 > 8\n",
       "\tATT9 <= 9\n",
       "\tATT10 <= 5\n",
       "\t->  class 0  [0.727]\n",
       "\n",
       "Rule 31: (15/4, lift 2.0)\n",
       "\tATT2 <= 4\n",
       "\tATT4 > 4\n",
       "\tATT4 <= 5\n",
       "\tATT8 > 5\n",
       "\tATT9 > 3\n",
       "\tATT10 <= 5\n",
       "\t->  class 0  [0.706]\n",
       "\n",
       "Rule 32: (15/4, lift 2.0)\n",
       "\tATT3 > 8\n",
       "\tATT6 <= 1\n",
       "\tATT7 > 1\n",
       "\tATT7 <= 4\n",
       "\tATT9 > 3\n",
       "\tATT10 <= 5\n",
       "\t->  class 0  [0.706]\n",
       "\n",
       "Rule 33: (15/4, lift 2.0)\n",
       "\tATT1 > 5\n",
       "\tATT1 <= 6\n",
       "\tATT4 <= 5\n",
       "\tATT5 > 7\n",
       "\tATT7 > 4\n",
       "\t->  class 0  [0.706]\n",
       "\n",
       "Rule 34: (18/5, lift 1.9)\n",
       "\tATT6 > 1\n",
       "\tATT6 <= 3\n",
       "\tATT8 > 5\n",
       "\tATT9 <= 5\n",
       "\tATT10 > 3\n",
       "\tATT10 <= 4\n",
       "\t->  class 0  [0.700]\n",
       "\n",
       "Rule 35: (18/5, lift 1.9)\n",
       "\tATT1 <= 5\n",
       "\tATT4 <= 4\n",
       "\tATT7 > 4\n",
       "\tATT8 > 2\n",
       "\tATT8 <= 7\n",
       "\tATT9 <= 2\n",
       "\tATT10 <= 7\n",
       "\t->  class 0  [0.700]\n",
       "\n",
       "Rule 36: (14/4, lift 1.9)\n",
       "\tATT3 <= 5\n",
       "\tATT4 > 9\n",
       "\tATT5 <= 4\n",
       "\tATT7 <= 2\n",
       "\t->  class 0  [0.688]\n",
       "\n",
       "Rule 37: (28/10, lift 1.8)\n",
       "\tATT1 > 6\n",
       "\tATT2 <= 8\n",
       "\tATT3 > 8\n",
       "\tATT7 <= 4\n",
       "\tATT8 > 1\n",
       "\tATT9 > 5\n",
       "\t->  class 0  [0.633]\n",
       "\n",
       "Rule 38: (46/17, lift 1.7)\n",
       "\tATT3 > 2\n",
       "\tATT4 > 5\n",
       "\tATT5 > 5\n",
       "\tATT5 <= 8\n",
       "\tATT7 > 2\n",
       "\tATT9 <= 2\n",
       "\tATT10 <= 6\n",
       "\t->  class 0  [0.625]\n",
       "\n",
       "Rule 39: (43/18, lift 1.6)\n",
       "\tATT4 > 9\n",
       "\tATT6 <= 8\n",
       "\tATT7 <= 4\n",
       "\tATT8 <= 4\n",
       "\tATT9 > 3\n",
       "\t->  class 0  [0.578]\n",
       "\n",
       "Rule 40: (67/29, lift 1.6)\n",
       "\tATT2 <= 2\n",
       "\tATT3 <= 6\n",
       "\tATT4 > 5\n",
       "\tATT8 <= 2\n",
       "\t->  class 0  [0.565]\n",
       "\n",
       "Rule 41: (46/21, lift 1.5)\n",
       "\tATT7 > 7\n",
       "\tATT8 > 2\n",
       "\tATT10 <= 1\n",
       "\t->  class 0  [0.542]\n",
       "\n",
       "Rule 42: (1351/832, lift 1.1)\n",
       "\tATT7 > 3\n",
       "\t->  class 0  [0.384]\n",
       "\n",
       "Rule 43: (11, lift 2.5)\n",
       "\tATT1 <= 8\n",
       "\tATT2 <= 8\n",
       "\tATT4 > 5\n",
       "\tATT6 <= 4\n",
       "\tATT7 <= 1\n",
       "\tATT9 > 4\n",
       "\tATT10 > 2\n",
       "\tATT10 <= 5\n",
       "\t->  class 1  [0.923]\n",
       "\n",
       "Rule 44: (10, lift 2.5)\n",
       "\tATT1 <= 5\n",
       "\tATT4 <= 2\n",
       "\tATT5 <= 9\n",
       "\tATT7 > 4\n",
       "\tATT9 > 3\n",
       "\tATT10 > 3\n",
       "\tATT10 <= 5\n",
       "\t->  class 1  [0.917]\n",
       "\n",
       "Rule 45: (10, lift 2.5)\n",
       "\tATT1 > 5\n",
       "\tATT4 > 3\n",
       "\tATT4 <= 5\n",
       "\tATT7 > 4\n",
       "\tATT8 <= 9\n",
       "\tATT9 > 8\n",
       "\tATT10 > 2\n",
       "\tATT10 <= 7\n",
       "\t->  class 1  [0.917]\n",
       "\n",
       "Rule 46: (9, lift 2.5)\n",
       "\tATT1 <= 9\n",
       "\tATT4 <= 9\n",
       "\tATT6 <= 8\n",
       "\tATT7 <= 4\n",
       "\tATT8 <= 5\n",
       "\tATT9 > 3\n",
       "\tATT9 <= 9\n",
       "\tATT10 > 9\n",
       "\t->  class 1  [0.909]\n",
       "\n",
       "Rule 47: (9, lift 2.5)\n",
       "\tATT1 <= 5\n",
       "\tATT3 > 9\n",
       "\tATT4 <= 8\n",
       "\tATT7 > 4\n",
       "\tATT7 <= 7\n",
       "\tATT8 > 2\n",
       "\tATT9 > 2\n",
       "\tATT10 <= 6\n",
       "\t->  class 1  [0.909]\n",
       "\n",
       "Rule 48: (8, lift 2.5)\n",
       "\tATT1 <= 8\n",
       "\tATT2 <= 4\n",
       "\tATT4 <= 9\n",
       "\tATT6 > 2\n",
       "\tATT6 <= 8\n",
       "\tATT7 <= 4\n",
       "\tATT8 > 7\n",
       "\tATT9 > 3\n",
       "\tATT10 > 5\n",
       "\t->  class 1  [0.900]\n",
       "\n",
       "Rule 49: (8, lift 2.5)\n",
       "\tATT3 > 5\n",
       "\tATT3 <= 6\n",
       "\tATT6 > 8\n",
       "\tATT9 > 3\n",
       "\tATT9 <= 9\n",
       "\tATT10 > 5\n",
       "\t->  class 1  [0.900]\n",
       "\n",
       "Rule 50: (8, lift 2.5)\n",
       "\tATT1 <= 5\n",
       "\tATT2 <= 6\n",
       "\tATT3 <= 9\n",
       "\tATT4 > 7\n",
       "\tATT7 > 4\n",
       "\tATT8 > 4\n",
       "\tATT9 > 3\n",
       "\tATT9 <= 6\n",
       "\tATT10 <= 6\n",
       "\t->  class 1  [0.900]\n",
       "\n",
       "Rule 51: (8, lift 2.5)\n",
       "\tATT1 > 5\n",
       "\tATT7 > 5\n",
       "\tATT8 > 2\n",
       "\tATT9 <= 2\n",
       "\tATT10 > 1\n",
       "\tATT10 <= 2\n",
       "\t->  class 1  [0.900]\n",
       "\n",
       "Rule 52: (7, lift 2.4)\n",
       "\tATT3 > 5\n",
       "\tATT7 > 3\n",
       "\tATT7 <= 4\n",
       "\tATT8 > 1\n",
       "\tATT9 <= 3\n",
       "\tATT10 <= 1\n",
       "\t->  class 1  [0.889]\n",
       "\n",
       "Rule 53: (7, lift 2.4)\n",
       "\tATT1 > 4\n",
       "\tATT2 <= 1\n",
       "\tATT3 > 5\n",
       "\tATT4 > 2\n",
       "\tATT7 > 3\n",
       "\tATT7 <= 4\n",
       "\tATT8 > 1\n",
       "\tATT8 <= 9\n",
       "\tATT9 <= 3\n",
       "\t->  class 1  [0.889]\n",
       "\n",
       "Rule 54: (7, lift 2.4)\n",
       "\tATT1 > 4\n",
       "\tATT4 > 3\n",
       "\tATT6 > 1\n",
       "\tATT7 <= 4\n",
       "\tATT9 > 9\n",
       "\tATT10 <= 2\n",
       "\t->  class 1  [0.889]\n",
       "\n",
       "Rule 55: (7, lift 2.4)\n",
       "\tATT1 > 8\n",
       "\tATT4 <= 2\n",
       "\tATT7 <= 4\n",
       "\tATT8 > 5\n",
       "\tATT9 <= 3\n",
       "\t->  class 1  [0.889]\n",
       "\n",
       "Rule 56: (7, lift 2.4)\n",
       "\tATT2 <= 2\n",
       "\tATT3 > 6\n",
       "\tATT4 > 8\n",
       "\tATT7 > 4\n",
       "\tATT8 <= 2\n",
       "\tATT10 <= 7\n",
       "\t->  class 1  [0.889]\n",
       "\n",
       "Rule 57: (7, lift 2.4)\n",
       "\tATT5 <= 4\n",
       "\tATT7 > 8\n",
       "\tATT8 <= 2\n",
       "\tATT9 > 7\n",
       "\t->  class 1  [0.889]\n",
       "\n",
       "Rule 58: (7, lift 2.4)\n",
       "\tATT1 > 5\n",
       "\tATT1 <= 6\n",
       "\tATT2 <= 6\n",
       "\tATT3 > 7\n",
       "\tATT4 <= 8\n",
       "\tATT5 > 4\n",
       "\tATT7 > 4\n",
       "\tATT8 > 2\n",
       "\tATT10 <= 7\n",
       "\t->  class 1  [0.889]\n",
       "\n",
       "Rule 59: (7, lift 2.4)\n",
       "\tATT1 > 5\n",
       "\tATT1 <= 6\n",
       "\tATT3 > 7\n",
       "\tATT5 > 8\n",
       "\tATT7 > 4\n",
       "\tATT8 > 2\n",
       "\tATT10 <= 7\n",
       "\t->  class 1  [0.889]\n",
       "\n",
       "Rule 60: (6, lift 2.4)\n",
       "\tATT2 > 9\n",
       "\tATT4 <= 6\n",
       "\tATT7 <= 4\n",
       "\tATT9 > 4\n",
       "\tATT9 <= 7\n",
       "\tATT10 > 5\n",
       "\t->  class 1  [0.875]\n",
       "\n",
       "Rule 61: (6, lift 2.4)\n",
       "\tATT1 > 3\n",
       "\tATT2 > 2\n",
       "\tATT3 <= 4\n",
       "\tATT4 > 5\n",
       "\tATT6 > 1\n",
       "\tATT7 > 4\n",
       "\tATT8 <= 2\n",
       "\tATT10 > 4\n",
       "\t->  class 1  [0.875]\n",
       "\n",
       "Rule 62: (6, lift 2.4)\n",
       "\tATT1 <= 5\n",
       "\tATT4 > 5\n",
       "\tATT6 > 4\n",
       "\tATT6 <= 7\n",
       "\tATT7 > 4\n",
       "\tATT8 > 2\n",
       "\tATT8 <= 7\n",
       "\tATT9 <= 2\n",
       "\tATT10 <= 6\n",
       "\t->  class 1  [0.875]\n",
       "\n",
       "Rule 63: (6, lift 2.4)\n",
       "\tATT1 > 5\n",
       "\tATT2 <= 1\n",
       "\tATT5 > 2\n",
       "\tATT7 > 4\n",
       "\tATT8 > 5\n",
       "\tATT8 <= 8\n",
       "\tATT9 <= 4\n",
       "\tATT10 <= 7\n",
       "\t->  class 1  [0.875]\n",
       "\n",
       "Rule 64: (6, lift 2.4)\n",
       "\tATT1 <= 7\n",
       "\tATT4 > 3\n",
       "\tATT4 <= 5\n",
       "\tATT5 > 3\n",
       "\tATT5 <= 9\n",
       "\tATT7 > 4\n",
       "\tATT8 > 7\n",
       "\tATT8 <= 8\n",
       "\tATT9 <= 8\n",
       "\tATT10 <= 7\n",
       "\t->  class 1  [0.875]\n",
       "\n",
       "Rule 65: (6, lift 2.4)\n",
       "\tATT1 > 9\n",
       "\tATT3 > 4\n",
       "\tATT3 <= 8\n",
       "\tATT6 <= 7\n",
       "\tATT7 > 4\n",
       "\tATT7 <= 7\n",
       "\tATT8 <= 8\n",
       "\tATT10 > 4\n",
       "\tATT10 <= 7\n",
       "\t->  class 1  [0.875]\n",
       "\n",
       "Rule 66: (6, lift 2.4)\n",
       "\tATT1 > 6\n",
       "\tATT7 > 4\n",
       "\tATT8 > 9\n",
       "\tATT10 <= 4\n",
       "\t->  class 1  [0.875]\n",
       "\n",
       "Rule 67: (5, lift 2.3)\n",
       "\tATT3 <= 5\n",
       "\tATT5 > 8\n",
       "\tATT7 > 2\n",
       "\tATT7 <= 4\n",
       "\tATT9 <= 2\n",
       "\tATT10 <= 6\n",
       "\t->  class 1  [0.857]\n",
       "\n",
       "Rule 68: (12/1, lift 2.3)\n",
       "\tATT3 > 5\n",
       "\tATT4 > 4\n",
       "\tATT5 <= 3\n",
       "\tATT6 > 1\n",
       "\tATT7 <= 4\n",
       "\tATT8 > 1\n",
       "\tATT9 > 1\n",
       "\tATT9 <= 3\n",
       "\t->  class 1  [0.857]\n",
       "\n",
       "Rule 69: (5, lift 2.3)\n",
       "\tATT2 <= 1\n",
       "\tATT3 <= 3\n",
       "\tATT8 <= 1\n",
       "\tATT9 > 3\n",
       "\tATT9 <= 9\n",
       "\tATT10 <= 5\n",
       "\t->  class 1  [0.857]\n",
       "\n",
       "Rule 70: (5, lift 2.3)\n",
       "\tATT1 > 3\n",
       "\tATT3 <= 4\n",
       "\tATT6 <= 7\n",
       "\tATT7 > 4\n",
       "\tATT7 <= 5\n",
       "\tATT8 <= 2\n",
       "\tATT9 <= 3\n",
       "\t->  class 1  [0.857]\n",
       "\n",
       "Rule 71: (5, lift 2.3)\n",
       "\tATT1 > 5\n",
       "\tATT1 <= 6\n",
       "\tATT3 > 7\n",
       "\tATT5 <= 4\n",
       "\tATT6 <= 2\n",
       "\tATT7 > 4\n",
       "\t->  class 1  [0.857]\n",
       "\n",
       "Rule 72: (5, lift 2.3)\n",
       "\tATT1 > 5\n",
       "\tATT4 > 2\n",
       "\tATT4 <= 3\n",
       "\tATT7 > 5\n",
       "\tATT8 > 3\n",
       "\tATT10 > 2\n",
       "\tATT10 <= 7\n",
       "\t->  class 1  [0.857]\n",
       "\n",
       "Rule 73: (4, lift 2.3)\n",
       "\tATT3 > 5\n",
       "\tATT4 > 2\n",
       "\tATT4 <= 4\n",
       "\tATT5 <= 3\n",
       "\tATT8 <= 1\n",
       "\t->  class 1  [0.833]\n",
       "\n",
       "Rule 74: (4, lift 2.3)\n",
       "\tATT1 > 8\n",
       "\tATT3 > 5\n",
       "\tATT8 <= 1\n",
       "\tATT9 <= 2\n",
       "\tATT10 <= 5\n",
       "\t->  class 1  [0.833]\n",
       "\n",
       "Rule 75: (10/1, lift 2.3)\n",
       "\tATT3 > 5\n",
       "\tATT4 > 2\n",
       "\tATT5 <= 5\n",
       "\tATT6 > 5\n",
       "\tATT7 <= 4\n",
       "\tATT8 > 1\n",
       "\tATT9 <= 1\n",
       "\t->  class 1  [0.833]\n",
       "\n",
       "Rule 76: (10/1, lift 2.3)\n",
       "\tATT2 > 3\n",
       "\tATT2 <= 7\n",
       "\tATT3 <= 7\n",
       "\tATT4 <= 8\n",
       "\tATT5 <= 7\n",
       "\tATT6 <= 8\n",
       "\tATT7 <= 4\n",
       "\tATT9 > 4\n",
       "\tATT9 <= 9\n",
       "\tATT10 > 5\n",
       "\tATT10 <= 7\n",
       "\t->  class 1  [0.833]\n",
       "\n",
       "Rule 77: (10/1, lift 2.3)\n",
       "\tATT4 > 8\n",
       "\tATT4 <= 9\n",
       "\tATT6 <= 8\n",
       "\tATT7 <= 4\n",
       "\tATT9 > 3\n",
       "\tATT9 <= 9\n",
       "\tATT10 > 6\n",
       "\t->  class 1  [0.833]\n",
       "\n",
       "Rule 78: (4, lift 2.3)\n",
       "\tATT1 <= 5\n",
       "\tATT7 > 4\n",
       "\tATT8 > 7\n",
       "\tATT8 <= 8\n",
       "\tATT9 <= 2\n",
       "\t->  class 1  [0.833]\n",
       "\n",
       "Rule 79: (4, lift 2.3)\n",
       "\tATT3 > 8\n",
       "\tATT6 <= 1\n",
       "\tATT7 > 4\n",
       "\tATT8 > 2\n",
       "\tATT10 > 7\n",
       "\t->  class 1  [0.833]\n",
       "\n",
       "Rule 80: (15/2, lift 2.3)\n",
       "\tATT3 > 5\n",
       "\tATT3 <= 6\n",
       "\tATT4 > 2\n",
       "\tATT7 <= 4\n",
       "\tATT8 > 1\n",
       "\tATT9 <= 1\n",
       "\t->  class 1  [0.824]\n",
       "\n",
       "Rule 81: (15/2, lift 2.3)\n",
       "\tATT2 <= 7\n",
       "\tATT4 > 4\n",
       "\tATT4 <= 8\n",
       "\tATT7 > 1\n",
       "\tATT7 <= 4\n",
       "\tATT8 > 4\n",
       "\tATT9 > 3\n",
       "\tATT9 <= 5\n",
       "\tATT10 <= 3\n",
       "\t->  class 1  [0.824]\n",
       "\n",
       "Rule 82: (15/2, lift 2.3)\n",
       "\tATT2 <= 7\n",
       "\tATT3 <= 7\n",
       "\tATT4 <= 9\n",
       "\tATT7 <= 4\n",
       "\tATT8 <= 4\n",
       "\tATT9 > 4\n",
       "\tATT9 <= 9\n",
       "\tATT10 > 7\n",
       "\tATT10 <= 9\n",
       "\t->  class 1  [0.824]\n",
       "\n",
       "Rule 83: (9/1, lift 2.2)\n",
       "\tATT3 <= 5\n",
       "\tATT4 > 5\n",
       "\tATT5 > 4\n",
       "\tATT6 > 5\n",
       "\tATT7 <= 2\n",
       "\tATT9 <= 2\n",
       "\t->  class 1  [0.818]\n",
       "\n",
       "Rule 84: (9/1, lift 2.2)\n",
       "\tATT1 > 5\n",
       "\tATT1 <= 6\n",
       "\tATT4 > 6\n",
       "\tATT8 > 7\n",
       "\tATT9 > 1\n",
       "\tATT9 <= 4\n",
       "\t->  class 1  [0.818]\n",
       "\n",
       "Rule 85: (14/2, lift 2.2)\n",
       "\tATT1 > 5\n",
       "\tATT1 <= 6\n",
       "\tATT3 <= 7\n",
       "\tATT4 <= 4\n",
       "\tATT5 <= 7\n",
       "\tATT7 > 4\n",
       "\tATT8 > 2\n",
       "\tATT9 > 1\n",
       "\t->  class 1  [0.813]\n",
       "\n",
       "Rule 86: (18/3, lift 2.2)\n",
       "\tATT1 <= 6\n",
       "\tATT2 <= 5\n",
       "\tATT3 <= 5\n",
       "\tATT4 <= 9\n",
       "\tATT7 > 1\n",
       "\tATT7 <= 4\n",
       "\tATT8 > 1\n",
       "\tATT9 > 5\n",
       "\tATT9 <= 9\n",
       "\tATT10 > 2\n",
       "\t->  class 1  [0.800]\n",
       "\n",
       "Rule 87: (8/1, lift 2.2)\n",
       "\tATT5 <= 5\n",
       "\tATT7 > 8\n",
       "\tATT7 <= 9\n",
       "\tATT8 <= 2\n",
       "\tATT10 <= 1\n",
       "\t->  class 1  [0.800]\n",
       "\n",
       "Rule 88: (12/2, lift 2.2)\n",
       "\tATT2 > 8\n",
       "\tATT5 <= 8\n",
       "\tATT8 > 1\n",
       "\tATT10 > 4\n",
       "\tATT10 <= 5\n",
       "\t->  class 1  [0.786]\n",
       "\n",
       "Rule 89: (12/2, lift 2.2)\n",
       "\tATT1 > 3\n",
       "\tATT3 <= 6\n",
       "\tATT4 <= 5\n",
       "\tATT5 <= 9\n",
       "\tATT7 > 4\n",
       "\tATT7 <= 7\n",
       "\tATT8 <= 2\n",
       "\tATT9 > 3\n",
       "\t->  class 1  [0.786]\n",
       "\n",
       "Rule 90: (7/1, lift 2.1)\n",
       "\tATT1 <= 5\n",
       "\tATT6 > 5\n",
       "\tATT7 > 6\n",
       "\tATT8 > 7\n",
       "\tATT9 <= 2\n",
       "\t->  class 1  [0.778]\n",
       "\n",
       "Rule 91: (7/1, lift 2.1)\n",
       "\tATT1 > 8\n",
       "\tATT4 > 7\n",
       "\tATT4 <= 8\n",
       "\tATT8 > 2\n",
       "\tATT10 > 7\n",
       "\t->  class 1  [0.778]\n",
       "\n",
       "Rule 92: (11/2, lift 2.1)\n",
       "\tATT2 <= 9\n",
       "\tATT3 > 6\n",
       "\tATT4 <= 5\n",
       "\tATT6 <= 7\n",
       "\tATT7 > 4\n",
       "\tATT7 <= 6\n",
       "\tATT8 <= 1\n",
       "\t->  class 1  [0.769]\n",
       "\n",
       "Rule 93: (11/2, lift 2.1)\n",
       "\tATT3 <= 2\n",
       "\tATT5 > 5\n",
       "\tATT6 <= 6\n",
       "\tATT7 > 2\n",
       "\tATT7 <= 4\n",
       "\tATT9 <= 3\n",
       "\t->  class 1  [0.769]\n",
       "\n",
       "Rule 94: (14/3, lift 2.1)\n",
       "\tATT2 > 6\n",
       "\tATT4 > 9\n",
       "\tATT6 <= 8\n",
       "\tATT7 <= 4\n",
       "\tATT8 <= 4\n",
       "\tATT9 <= 6\n",
       "\t->  class 1  [0.750]\n",
       "\n",
       "Rule 95: (14/3, lift 2.1)\n",
       "\tATT1 <= 6\n",
       "\tATT2 <= 9\n",
       "\tATT3 > 6\n",
       "\tATT4 <= 5\n",
       "\tATT6 > 1\n",
       "\tATT6 <= 7\n",
       "\tATT7 > 4\n",
       "\tATT8 <= 1\n",
       "\t->  class 1  [0.750]\n",
       "\n",
       "Rule 96: (10/2, lift 2.1)\n",
       "\tATT3 > 6\n",
       "\tATT7 > 7\n",
       "\tATT7 <= 8\n",
       "\tATT8 > 1\n",
       "\tATT8 <= 2\n",
       "\t->  class 1  [0.750]\n",
       "\n",
       "Rule 97: (10/2, lift 2.1)\n",
       "\tATT1 > 5\n",
       "\tATT2 > 8\n",
       "\tATT8 > 8\n",
       "\tATT9 > 2\n",
       "\tATT9 <= 5\n",
       "\t->  class 1  [0.750]\n",
       "\n",
       "Rule 98: (13/3, lift 2.0)\n",
       "\tATT1 <= 8\n",
       "\tATT4 <= 2\n",
       "\tATT5 <= 3\n",
       "\tATT7 <= 2\n",
       "\tATT9 <= 3\n",
       "\t->  class 1  [0.733]\n",
       "\n",
       "Rule 99: (16/4, lift 2.0)\n",
       "\tATT7 > 9\n",
       "\tATT8 <= 2\n",
       "\tATT9 > 1\n",
       "\tATT9 <= 7\n",
       "\t->  class 1  [0.722]\n",
       "\n",
       "Rule 100: (12/3, lift 2.0)\n",
       "\tATT6 <= 1\n",
       "\tATT8 > 2\n",
       "\tATT9 <= 3\n",
       "\tATT10 > 7\n",
       "\t->  class 1  [0.714]\n",
       "\n",
       "Rule 101: (20/6, lift 1.9)\n",
       "\tATT1 > 6\n",
       "\tATT1 <= 9\n",
       "\tATT5 > 9\n",
       "\tATT8 > 2\n",
       "\tATT8 <= 8\n",
       "\tATT10 <= 4\n",
       "\t->  class 1  [0.682]\n",
       "\n",
       "Rule 102: (19/6, lift 1.8)\n",
       "\tATT4 > 3\n",
       "\tATT6 > 1\n",
       "\tATT7 <= 2\n",
       "\tATT9 > 9\n",
       "\t->  class 1  [0.667]\n",
       "\n",
       "Rule 103: (19/6, lift 1.8)\n",
       "\tATT2 <= 2\n",
       "\tATT8 > 2\n",
       "\tATT9 > 2\n",
       "\tATT10 > 5\n",
       "\tATT10 <= 6\n",
       "\t->  class 1  [0.667]\n",
       "\n",
       "Rule 104: (23/8, lift 1.8)\n",
       "\tATT1 > 8\n",
       "\tATT3 > 5\n",
       "\tATT7 <= 4\n",
       "\tATT9 <= 1\n",
       "\t->  class 1  [0.640]\n",
       "\n",
       "Rule 105: (39/15, lift 1.7)\n",
       "\tATT1 <= 6\n",
       "\tATT2 <= 8\n",
       "\tATT3 > 5\n",
       "\tATT4 > 3\n",
       "\tATT7 > 1\n",
       "\tATT7 <= 4\n",
       "\tATT8 > 3\n",
       "\tATT9 > 5\n",
       "\t->  class 1  [0.610]\n",
       "\n",
       "Rule 106: (58/27, lift 1.5)\n",
       "\tATT1 > 5\n",
       "\tATT9 <= 4\n",
       "\tATT10 > 6\n",
       "\tATT10 <= 7\n",
       "\t->  class 1  [0.533]\n",
       "\n",
       "Rule 107: (69/33, lift 1.4)\n",
       "\tATT4 <= 2\n",
       "\tATT7 > 4\n",
       "\tATT8 <= 5\n",
       "\tATT10 <= 5\n",
       "\t->  class 1  [0.521]\n",
       "\n",
       "Rule 108: (1788/1120, lift 1.0)\n",
       "\tATT10 <= 6\n",
       "\t->  class 1  [0.374]\n",
       "\n",
       "Rule 109: (7, lift 4.3)\n",
       "\tATT2 <= 6\n",
       "\tATT3 <= 4\n",
       "\tATT4 > 5\n",
       "\tATT5 > 5\n",
       "\tATT6 <= 6\n",
       "\tATT7 <= 4\n",
       "\tATT9 > 2\n",
       "\tATT9 <= 3\n",
       "\t->  class 2  [0.889]\n",
       "\n",
       "Rule 110: (6, lift 4.2)\n",
       "\tATT2 > 4\n",
       "\tATT2 <= 8\n",
       "\tATT4 > 4\n",
       "\tATT4 <= 5\n",
       "\tATT7 <= 1\n",
       "\tATT9 > 3\n",
       "\tATT10 > 1\n",
       "\tATT10 <= 5\n",
       "\t->  class 2  [0.875]\n",
       "\n",
       "Rule 111: (6, lift 4.2)\n",
       "\tATT3 > 3\n",
       "\tATT4 <= 5\n",
       "\tATT6 > 4\n",
       "\tATT7 > 1\n",
       "\tATT7 <= 4\n",
       "\tATT8 <= 1\n",
       "\tATT9 > 5\n",
       "\tATT10 <= 2\n",
       "\t->  class 2  [0.875]\n",
       "\n",
       "Rule 112: (5, lift 4.2)\n",
       "\tATT3 > 5\n",
       "\tATT4 > 2\n",
       "\tATT4 <= 4\n",
       "\tATT5 <= 3\n",
       "\tATT7 <= 3\n",
       "\tATT8 > 1\n",
       "\tATT9 > 1\n",
       "\tATT9 <= 3\n",
       "\t->  class 2  [0.857]\n",
       "\n",
       "Rule 113: (5, lift 4.2)\n",
       "\tATT3 > 4\n",
       "\tATT3 <= 5\n",
       "\tATT5 <= 4\n",
       "\tATT6 > 2\n",
       "\tATT6 <= 4\n",
       "\tATT7 <= 1\n",
       "\t->  class 2  [0.857]\n",
       "\n",
       "Rule 114: (5, lift 4.2)\n",
       "\tATT1 <= 2\n",
       "\tATT3 <= 9\n",
       "\tATT4 > 2\n",
       "\tATT4 <= 7\n",
       "\tATT5 > 2\n",
       "\tATT7 > 4\n",
       "\tATT7 <= 6\n",
       "\tATT8 > 2\n",
       "\tATT9 > 3\n",
       "\tATT10 <= 4\n",
       "\t->  class 2  [0.857]\n",
       "\n",
       "Rule 115: (4, lift 4.0)\n",
       "\tATT3 > 6\n",
       "\tATT4 <= 9\n",
       "\tATT5 > 3\n",
       "\tATT6 > 1\n",
       "\tATT7 <= 4\n",
       "\tATT8 > 3\n",
       "\tATT8 <= 4\n",
       "\tATT9 > 1\n",
       "\tATT9 <= 3\n",
       "\t->  class 2  [0.833]\n",
       "\n",
       "Rule 116: (4, lift 4.0)\n",
       "\tATT2 > 4\n",
       "\tATT3 > 9\n",
       "\tATT4 > 2\n",
       "\tATT4 <= 8\n",
       "\tATT5 > 3\n",
       "\tATT6 > 1\n",
       "\tATT7 <= 2\n",
       "\tATT9 > 1\n",
       "\tATT9 <= 3\n",
       "\t->  class 2  [0.833]\n",
       "\n",
       "Rule 117: (4, lift 4.0)\n",
       "\tATT3 <= 5\n",
       "\tATT5 > 4\n",
       "\tATT6 <= 2\n",
       "\tATT7 <= 4\n",
       "\tATT9 <= 2\n",
       "\tATT10 > 7\n",
       "\t->  class 2  [0.833]\n",
       "\n",
       "Rule 118: (4, lift 4.0)\n",
       "\tATT1 > 6\n",
       "\tATT3 <= 8\n",
       "\tATT4 > 8\n",
       "\tATT7 > 1\n",
       "\tATT7 <= 4\n",
       "\tATT8 > 1\n",
       "\tATT9 > 5\n",
       "\tATT9 <= 7\n",
       "\t->  class 2  [0.833]\n",
       "\n",
       "Rule 119: (4, lift 4.0)\n",
       "\tATT2 <= 3\n",
       "\tATT3 <= 7\n",
       "\tATT4 <= 8\n",
       "\tATT6 <= 8\n",
       "\tATT7 <= 3\n",
       "\tATT8 <= 5\n",
       "\tATT9 > 4\n",
       "\tATT10 > 5\n",
       "\tATT10 <= 7\n",
       "\t->  class 2  [0.833]\n",
       "\n",
       "Rule 120: (4, lift 4.0)\n",
       "\tATT3 <= 5\n",
       "\tATT6 <= 1\n",
       "\tATT7 > 1\n",
       "\tATT7 <= 4\n",
       "\tATT9 > 9\n",
       "\t->  class 2  [0.833]\n",
       "\n",
       "Rule 121: (4, lift 4.0)\n",
       "\tATT1 <= 3\n",
       "\tATT2 <= 9\n",
       "\tATT3 <= 3\n",
       "\tATT4 <= 5\n",
       "\tATT6 <= 7\n",
       "\tATT7 > 4\n",
       "\tATT8 <= 2\n",
       "\t->  class 2  [0.833]\n",
       "\n",
       "Rule 122: (4, lift 4.0)\n",
       "\tATT2 <= 2\n",
       "\tATT4 > 9\n",
       "\tATT7 > 4\n",
       "\tATT7 <= 8\n",
       "\tATT8 <= 2\n",
       "\tATT9 <= 2\n",
       "\t->  class 2  [0.833]\n",
       "\n",
       "Rule 123: (4, lift 4.0)\n",
       "\tATT3 <= 5\n",
       "\tATT4 > 2\n",
       "\tATT4 <= 5\n",
       "\tATT5 > 4\n",
       "\tATT5 <= 7\n",
       "\tATT6 > 1\n",
       "\tATT7 > 3\n",
       "\tATT7 <= 4\n",
       "\tATT9 <= 3\n",
       "\t->  class 2  [0.833]\n",
       "\n",
       "Rule 124: (4, lift 4.0)\n",
       "\tATT1 > 5\n",
       "\tATT1 <= 6\n",
       "\tATT3 <= 7\n",
       "\tATT4 > 5\n",
       "\tATT5 > 7\n",
       "\tATT7 > 4\n",
       "\tATT9 > 4\n",
       "\tATT10 <= 7\n",
       "\t->  class 2  [0.833]\n",
       "\n",
       "Rule 125: (4, lift 4.0)\n",
       "\tATT1 > 6\n",
       "\tATT1 <= 7\n",
       "\tATT4 > 3\n",
       "\tATT4 <= 5\n",
       "\tATT5 <= 9\n",
       "\tATT7 > 4\n",
       "\tATT8 > 2\n",
       "\tATT8 <= 7\n",
       "\tATT9 <= 8\n",
       "\tATT10 <= 7\n",
       "\t->  class 2  [0.833]\n",
       "\n",
       "Rule 126: (4, lift 4.0)\n",
       "\tATT2 <= 6\n",
       "\tATT3 > 4\n",
       "\tATT3 <= 5\n",
       "\tATT5 <= 4\n",
       "\tATT6 > 2\n",
       "\tATT7 <= 4\n",
       "\tATT9 > 2\n",
       "\tATT9 <= 3\n",
       "\t->  class 2  [0.833]\n",
       "\n",
       "Rule 127: (4, lift 4.0)\n",
       "\tATT3 > 5\n",
       "\tATT3 <= 8\n",
       "\tATT6 <= 1\n",
       "\tATT7 > 6\n",
       "\tATT10 > 7\n",
       "\t->  class 2  [0.833]\n",
       "\n",
       "Rule 128: (3, lift 3.9)\n",
       "\tATT3 <= 4\n",
       "\tATT4 > 5\n",
       "\tATT4 <= 9\n",
       "\tATT5 <= 2\n",
       "\tATT6 <= 2\n",
       "\tATT7 <= 1\n",
       "\tATT9 <= 3\n",
       "\t->  class 2  [0.800]\n",
       "\n",
       "Rule 129: (3, lift 3.9)\n",
       "\tATT2 > 8\n",
       "\tATT2 <= 9\n",
       "\tATT4 <= 7\n",
       "\tATT7 <= 2\n",
       "\tATT9 > 5\n",
       "\tATT10 <= 3\n",
       "\t->  class 2  [0.800]\n",
       "\n",
       "Rule 130: (3, lift 3.9)\n",
       "\tATT3 <= 6\n",
       "\tATT4 <= 5\n",
       "\tATT7 > 7\n",
       "\tATT7 <= 8\n",
       "\tATT9 <= 1\n",
       "\t->  class 2  [0.800]\n",
       "\n",
       "Rule 131: (3, lift 3.9)\n",
       "\tATT1 > 6\n",
       "\tATT3 > 6\n",
       "\tATT4 <= 5\n",
       "\tATT6 > 1\n",
       "\tATT7 > 6\n",
       "\tATT7 <= 8\n",
       "\tATT8 <= 1\n",
       "\t->  class 2  [0.800]\n",
       "\n",
       "Rule 132: (3, lift 3.9)\n",
       "\tATT1 <= 5\n",
       "\tATT2 > 5\n",
       "\tATT2 <= 9\n",
       "\tATT4 > 5\n",
       "\tATT7 > 6\n",
       "\tATT8 > 1\n",
       "\tATT8 <= 2\n",
       "\t->  class 2  [0.800]\n",
       "\n",
       "Rule 133: (3, lift 3.9)\n",
       "\tATT1 > 8\n",
       "\tATT2 <= 2\n",
       "\tATT4 <= 2\n",
       "\tATT7 <= 4\n",
       "\tATT8 <= 5\n",
       "\tATT9 <= 3\n",
       "\t->  class 2  [0.800]\n",
       "\n",
       "Rule 134: (3, lift 3.9)\n",
       "\tATT1 <= 5\n",
       "\tATT4 <= 2\n",
       "\tATT5 > 9\n",
       "\tATT7 > 4\n",
       "\tATT8 > 5\n",
       "\tATT9 > 2\n",
       "\t->  class 2  [0.800]\n",
       "\n",
       "Rule 135: (3, lift 3.9)\n",
       "\tATT3 <= 2\n",
       "\tATT5 > 4\n",
       "\tATT6 > 6\n",
       "\tATT7 > 2\n",
       "\tATT7 <= 4\n",
       "\tATT9 <= 2\n",
       "\t->  class 2  [0.800]\n",
       "\n",
       "Rule 136: (3, lift 3.9)\n",
       "\tATT1 > 6\n",
       "\tATT2 <= 1\n",
       "\tATT7 > 4\n",
       "\tATT8 > 8\n",
       "\tATT8 <= 9\n",
       "\t->  class 2  [0.800]\n",
       "\n",
       "Rule 137: (3, lift 3.9)\n",
       "\tATT1 > 6\n",
       "\tATT4 > 6\n",
       "\tATT7 > 4\n",
       "\tATT8 > 9\n",
       "\tATT10 > 5\n",
       "\t->  class 2  [0.800]\n",
       "\n",
       "Rule 138: (7/1, lift 3.8)\n",
       "\tATT2 > 3\n",
       "\tATT3 <= 7\n",
       "\tATT4 <= 9\n",
       "\tATT5 > 7\n",
       "\tATT7 <= 4\n",
       "\tATT8 <= 5\n",
       "\tATT9 > 3\n",
       "\tATT9 <= 9\n",
       "\tATT10 > 5\n",
       "\tATT10 <= 7\n",
       "\t->  class 2  [0.778]\n",
       "\n",
       "Rule 139: (7/1, lift 3.8)\n",
       "\tATT1 <= 5\n",
       "\tATT6 <= 5\n",
       "\tATT7 > 6\n",
       "\tATT8 > 8\n",
       "\tATT9 <= 2\n",
       "\tATT10 <= 6\n",
       "\t->  class 2  [0.778]\n",
       "\n",
       "Rule 140: (11/2, lift 3.7)\n",
       "\tATT1 > 6\n",
       "\tATT3 <= 4\n",
       "\tATT4 > 2\n",
       "\tATT4 <= 8\n",
       "\tATT5 <= 4\n",
       "\tATT6 > 2\n",
       "\tATT7 <= 4\n",
       "\tATT9 <= 3\n",
       "\t->  class 2  [0.769]\n",
       "\n",
       "Rule 141: (6/1, lift 3.6)\n",
       "\tATT4 > 2\n",
       "\tATT4 <= 5\n",
       "\tATT5 > 2\n",
       "\tATT5 <= 4\n",
       "\tATT6 > 1\n",
       "\tATT6 <= 2\n",
       "\tATT7 <= 4\n",
       "\tATT9 <= 3\n",
       "\t->  class 2  [0.750]\n",
       "\n",
       "Rule 142: (6/1, lift 3.6)\n",
       "\tATT3 <= 5\n",
       "\tATT4 <= 9\n",
       "\tATT6 > 8\n",
       "\tATT7 <= 4\n",
       "\tATT9 > 3\n",
       "\tATT9 <= 9\n",
       "\tATT10 > 5\n",
       "\t->  class 2  [0.750]\n",
       "\n",
       "Rule 143: (6/1, lift 3.6)\n",
       "\tATT1 <= 5\n",
       "\tATT3 <= 9\n",
       "\tATT5 <= 2\n",
       "\tATT6 <= 1\n",
       "\tATT7 > 4\n",
       "\tATT10 <= 5\n",
       "\t->  class 2  [0.750]\n",
       "\n",
       "Rule 144: (9/2, lift 3.5)\n",
       "\tATT3 > 4\n",
       "\tATT3 <= 8\n",
       "\tATT4 <= 2\n",
       "\tATT5 > 3\n",
       "\tATT7 <= 4\n",
       "\tATT8 <= 6\n",
       "\tATT9 <= 3\n",
       "\tATT10 > 3\n",
       "\tATT10 <= 5\n",
       "\t->  class 2  [0.727]\n",
       "\n",
       "Rule 145: (15/4, lift 3.4)\n",
       "\tATT5 <= 5\n",
       "\tATT7 > 8\n",
       "\tATT7 <= 9\n",
       "\tATT8 <= 2\n",
       "\tATT9 <= 7\n",
       "\tATT10 > 1\n",
       "\t->  class 2  [0.706]\n",
       "\n",
       "Rule 146: (8/2, lift 3.4)\n",
       "\tATT1 > 3\n",
       "\tATT2 > 2\n",
       "\tATT3 <= 4\n",
       "\tATT4 > 5\n",
       "\tATT6 <= 1\n",
       "\tATT8 <= 2\n",
       "\t->  class 2  [0.700]\n",
       "\n",
       "Rule 147: (11/3, lift 3.4)\n",
       "\tATT1 > 6\n",
       "\tATT4 > 5\n",
       "\tATT6 > 3\n",
       "\tATT7 > 4\n",
       "\tATT8 > 2\n",
       "\tATT8 <= 6\n",
       "\tATT9 <= 4\n",
       "\tATT10 > 2\n",
       "\tATT10 <= 6\n",
       "\t->  class 2  [0.692]\n",
       "\n",
       "Rule 148: (14/4, lift 3.3)\n",
       "\tATT1 > 6\n",
       "\tATT1 <= 9\n",
       "\tATT5 <= 9\n",
       "\tATT6 <= 3\n",
       "\tATT7 > 4\n",
       "\tATT8 > 2\n",
       "\tATT8 <= 6\n",
       "\tATT10 > 3\n",
       "\tATT10 <= 7\n",
       "\t->  class 2  [0.688]\n",
       "\n",
       "Rule 149: (10/3, lift 3.2)\n",
       "\tATT3 <= 5\n",
       "\tATT4 > 4\n",
       "\tATT4 <= 5\n",
       "\tATT6 > 1\n",
       "\tATT7 <= 1\n",
       "\tATT9 <= 3\n",
       "\tATT10 <= 7\n",
       "\t->  class 2  [0.667]\n",
       "\n",
       "Rule 150: (7/2, lift 3.2)\n",
       "\tATT2 <= 9\n",
       "\tATT3 > 6\n",
       "\tATT6 > 7\n",
       "\tATT7 > 4\n",
       "\tATT7 <= 8\n",
       "\tATT8 <= 1\n",
       "\t->  class 2  [0.667]\n",
       "\n",
       "Rule 151: (7/2, lift 3.2)\n",
       "\tATT1 <= 6\n",
       "\tATT4 <= 8\n",
       "\tATT6 > 8\n",
       "\tATT7 > 4\n",
       "\tATT7 <= 9\n",
       "\tATT10 > 7\n",
       "\t->  class 2  [0.667]\n",
       "\n",
       "Rule 152: (7/2, lift 3.2)\n",
       "\tATT1 > 9\n",
       "\tATT2 > 5\n",
       "\tATT4 <= 7\n",
       "\tATT7 > 4\n",
       "\tATT8 > 2\n",
       "\tATT10 > 7\n",
       "\t->  class 2  [0.667]\n",
       "\n",
       "Rule 153: (12/4, lift 3.1)\n",
       "\tATT1 > 5\n",
       "\tATT4 > 5\n",
       "\tATT5 > 7\n",
       "\tATT5 <= 9\n",
       "\tATT7 > 4\n",
       "\tATT8 > 2\n",
       "\tATT9 > 4\n",
       "\tATT10 <= 7\n",
       "\t->  class 2  [0.643]\n",
       "\n",
       "Rule 154: (11/4, lift 3.0)\n",
       "\tATT4 <= 3\n",
       "\tATT5 > 6\n",
       "\tATT7 <= 1\n",
       "\tATT8 > 1\n",
       "\tATT9 <= 9\n",
       "\tATT10 > 1\n",
       "\tATT10 <= 5\n",
       "\t->  class 2  [0.615]\n",
       "\n",
       "Rule 155: (13/5, lift 2.9)\n",
       "\tATT3 > 5\n",
       "\tATT3 <= 6\n",
       "\tATT4 > 2\n",
       "\tATT6 <= 6\n",
       "\tATT7 <= 3\n",
       "\tATT8 > 1\n",
       "\tATT9 > 1\n",
       "\tATT9 <= 3\n",
       "\t->  class 2  [0.600]\n",
       "\n",
       "Rule 156: (15/6, lift 2.9)\n",
       "\tATT2 > 8\n",
       "\tATT4 <= 9\n",
       "\tATT7 <= 4\n",
       "\tATT8 <= 5\n",
       "\tATT9 > 4\n",
       "\tATT9 <= 9\n",
       "\tATT10 > 6\n",
       "\tATT10 <= 9\n",
       "\t->  class 2  [0.588]\n",
       "\n",
       "Rule 157: (20/10, lift 2.4)\n",
       "\tATT3 <= 5\n",
       "\tATT4 > 2\n",
       "\tATT5 > 7\n",
       "\tATT6 <= 5\n",
       "\tATT7 <= 2\n",
       "\tATT9 <= 3\n",
       "\t->  class 2  [0.500]\n",
       "\n",
       "Rule 158: (27/14, lift 2.3)\n",
       "\tATT5 > 5\n",
       "\tATT5 <= 6\n",
       "\tATT7 <= 1\n",
       "\tATT8 > 1\n",
       "\t->  class 2  [0.483]\n",
       "\n",
       "Rule 159: (28/15, lift 2.3)\n",
       "\tATT1 <= 8\n",
       "\tATT3 > 6\n",
       "\tATT3 <= 9\n",
       "\tATT4 > 2\n",
       "\tATT5 <= 7\n",
       "\tATT6 <= 5\n",
       "\tATT9 <= 1\n",
       "\t->  class 2  [0.467]\n",
       "\n",
       "Rule 160: (33/18, lift 2.2)\n",
       "\tATT1 > 4\n",
       "\tATT7 > 3\n",
       "\tATT7 <= 4\n",
       "\tATT8 > 1\n",
       "\tATT8 <= 9\n",
       "\tATT9 > 1\n",
       "\tATT9 <= 3\n",
       "\tATT10 > 1\n",
       "\t->  class 2  [0.457]\n",
       "\n",
       "Rule 161: (24/15, lift 1.9)\n",
       "\tATT1 > 8\n",
       "\tATT10 > 9\n",
       "\t->  class 2  [0.385]\n",
       "\n",
       "Rule 162: (45/29, lift 1.8)\n",
       "\tATT3 <= 2\n",
       "\tATT9 > 2\n",
       "\tATT9 <= 3\n",
       "\t->  class 2  [0.362]\n",
       "\n",
       "Rule 163: (79/53, lift 1.6)\n",
       "\tATT4 > 9\n",
       "\tATT9 <= 2\n",
       "\t->  class 2  [0.333]\n",
       "\n",
       "Rule 164: (138/99, lift 1.4)\n",
       "\tATT7 <= 1\n",
       "\tATT10 <= 2\n",
       "\t->  class 2  [0.286]\n",
       "\n",
       "Rule 165: (814/630, lift 1.1)\n",
       "\tATT10 > 5\n",
       "\t->  class 2  [0.227]\n",
       "\n",
       "Rule 166: (4, lift 12.4)\n",
       "\tATT3 > 4\n",
       "\tATT3 <= 5\n",
       "\tATT4 > 5\n",
       "\tATT6 > 4\n",
       "\tATT6 <= 6\n",
       "\tATT9 > 2\n",
       "\tATT9 <= 3\n",
       "\t->  class 3  [0.833]\n",
       "\n",
       "Rule 167: (4, lift 12.4)\n",
       "\tATT1 <= 3\n",
       "\tATT3 > 3\n",
       "\tATT3 <= 6\n",
       "\tATT4 <= 5\n",
       "\tATT5 <= 9\n",
       "\tATT6 <= 7\n",
       "\tATT7 > 4\n",
       "\tATT7 <= 8\n",
       "\tATT8 <= 2\n",
       "\t->  class 3  [0.833]\n",
       "\n",
       "Rule 168: (3, lift 11.9)\n",
       "\tATT1 > 5\n",
       "\tATT3 <= 5\n",
       "\tATT4 > 2\n",
       "\tATT4 <= 4\n",
       "\tATT5 > 4\n",
       "\tATT6 <= 1\n",
       "\tATT7 <= 4\n",
       "\t->  class 3  [0.800]\n",
       "\n",
       "Rule 169: (3, lift 11.9)\n",
       "\tATT1 <= 5\n",
       "\tATT3 > 3\n",
       "\tATT4 <= 9\n",
       "\tATT7 > 4\n",
       "\tATT8 > 2\n",
       "\tATT9 > 2\n",
       "\tATT9 <= 3\n",
       "\tATT10 <= 1\n",
       "\t->  class 3  [0.800]\n",
       "\n",
       "Rule 170: (3, lift 11.9)\n",
       "\tATT1 > 4\n",
       "\tATT1 <= 5\n",
       "\tATT3 > 3\n",
       "\tATT6 <= 7\n",
       "\tATT7 > 4\n",
       "\tATT8 > 2\n",
       "\tATT9 > 2\n",
       "\tATT9 <= 3\n",
       "\tATT10 <= 6\n",
       "\t->  class 3  [0.800]\n",
       "\n",
       "Rule 171: (3, lift 11.9)\n",
       "\tATT1 > 6\n",
       "\tATT1 <= 8\n",
       "\tATT4 <= 8\n",
       "\tATT5 > 4\n",
       "\tATT6 > 6\n",
       "\tATT7 > 4\n",
       "\tATT7 <= 9\n",
       "\tATT8 > 2\n",
       "\tATT10 > 7\n",
       "\t->  class 3  [0.800]\n",
       "\n",
       "Rule 172: (2, lift 11.2)\n",
       "\tATT2 > 9\n",
       "\tATT8 <= 1\n",
       "\tATT10 > 4\n",
       "\tATT10 <= 5\n",
       "\t->  class 3  [0.750]\n",
       "\n",
       "Rule 173: (2, lift 11.2)\n",
       "\tATT2 > 7\n",
       "\tATT2 <= 8\n",
       "\tATT4 <= 8\n",
       "\tATT5 <= 4\n",
       "\tATT7 <= 4\n",
       "\tATT8 <= 5\n",
       "\tATT9 > 3\n",
       "\tATT10 > 6\n",
       "\t->  class 3  [0.750]\n",
       "\n",
       "Rule 174: (2, lift 11.2)\n",
       "\tATT1 <= 3\n",
       "\tATT4 <= 3\n",
       "\tATT7 <= 1\n",
       "\tATT8 > 1\n",
       "\tATT9 > 3\n",
       "\t->  class 3  [0.750]\n",
       "\n",
       "Rule 175: (2, lift 11.2)\n",
       "\tATT3 <= 4\n",
       "\tATT4 <= 5\n",
       "\tATT7 <= 1\n",
       "\tATT8 > 1\n",
       "\tATT8 <= 5\n",
       "\tATT9 > 3\n",
       "\tATT10 <= 1\n",
       "\t->  class 3  [0.750]\n",
       "\n",
       "Rule 176: (2, lift 11.2)\n",
       "\tATT1 <= 8\n",
       "\tATT2 > 2\n",
       "\tATT4 > 5\n",
       "\tATT5 > 8\n",
       "\tATT7 > 4\n",
       "\tATT7 <= 6\n",
       "\tATT8 > 1\n",
       "\tATT8 <= 2\n",
       "\t->  class 3  [0.750]\n",
       "\n",
       "Rule 177: (2, lift 11.2)\n",
       "\tATT2 <= 2\n",
       "\tATT7 > 8\n",
       "\tATT8 <= 2\n",
       "\tATT10 > 9\n",
       "\t->  class 3  [0.750]\n",
       "\n",
       "Rule 178: (6/1, lift 11.2)\n",
       "\tATT1 <= 8\n",
       "\tATT3 > 5\n",
       "\tATT4 > 4\n",
       "\tATT5 <= 5\n",
       "\tATT7 > 1\n",
       "\tATT7 <= 4\n",
       "\tATT8 <= 1\n",
       "\tATT9 <= 2\n",
       "\t->  class 3  [0.750]\n",
       "\n",
       "Rule 179: (2, lift 11.2)\n",
       "\tATT2 <= 3\n",
       "\tATT3 > 9\n",
       "\tATT7 > 9\n",
       "\tATT10 > 7\n",
       "\t->  class 3  [0.750]\n",
       "\n",
       "Rule 180: (5/1, lift 10.6)\n",
       "\tATT2 <= 8\n",
       "\tATT3 <= 8\n",
       "\tATT6 <= 1\n",
       "\tATT7 > 1\n",
       "\tATT7 <= 4\n",
       "\tATT9 > 3\n",
       "\tATT9 <= 5\n",
       "\tATT10 > 3\n",
       "\tATT10 <= 5\n",
       "\t->  class 3  [0.714]\n",
       "\n",
       "Rule 181: (5/1, lift 10.6)\n",
       "\tATT1 <= 8\n",
       "\tATT2 <= 2\n",
       "\tATT7 > 1\n",
       "\tATT7 <= 4\n",
       "\tATT8 <= 5\n",
       "\tATT9 > 3\n",
       "\tATT9 <= 5\n",
       "\tATT10 > 3\n",
       "\tATT10 <= 5\n",
       "\t->  class 3  [0.714]\n",
       "\n",
       "Rule 182: (4/1, lift 9.9)\n",
       "\tATT2 > 2\n",
       "\tATT2 <= 4\n",
       "\tATT4 <= 9\n",
       "\tATT7 <= 4\n",
       "\tATT8 > 5\n",
       "\tATT8 <= 7\n",
       "\tATT9 > 4\n",
       "\tATT10 > 6\n",
       "\t->  class 3  [0.667]\n",
       "\n",
       "Rule 183: (4/1, lift 9.9)\n",
       "\tATT1 > 3\n",
       "\tATT2 <= 9\n",
       "\tATT3 <= 6\n",
       "\tATT5 > 8\n",
       "\tATT7 > 7\n",
       "\tATT7 <= 8\n",
       "\tATT8 <= 2\n",
       "\tATT9 > 1\n",
       "\t->  class 3  [0.667]\n",
       "\n",
       "Rule 184: (4/1, lift 9.9)\n",
       "\tATT5 > 4\n",
       "\tATT7 > 8\n",
       "\tATT8 <= 2\n",
       "\tATT9 > 7\n",
       "\t->  class 3  [0.667]\n",
       "\n",
       "Rule 185: (4/1, lift 9.9)\n",
       "\tATT2 <= 6\n",
       "\tATT3 > 4\n",
       "\tATT3 <= 5\n",
       "\tATT4 > 2\n",
       "\tATT4 <= 9\n",
       "\tATT5 <= 4\n",
       "\tATT6 > 4\n",
       "\tATT7 <= 1\n",
       "\t->  class 3  [0.667]\n",
       "\n",
       "Rule 186: (4/1, lift 9.9)\n",
       "\tATT1 > 6\n",
       "\tATT1 <= 8\n",
       "\tATT4 <= 8\n",
       "\tATT7 > 4\n",
       "\tATT8 > 2\n",
       "\tATT8 <= 7\n",
       "\tATT10 > 9\n",
       "\t->  class 3  [0.667]\n",
       "\n",
       "Rule 187: (6/2, lift 9.3)\n",
       "\tATT1 <= 3\n",
       "\tATT3 > 3\n",
       "\tATT3 <= 6\n",
       "\tATT4 <= 5\n",
       "\tATT6 <= 7\n",
       "\tATT7 > 4\n",
       "\tATT7 <= 8\n",
       "\tATT8 <= 2\n",
       "\t->  class 3  [0.625]\n",
       "\n",
       "Rule 188: (8/3, lift 8.9)\n",
       "\tATT2 <= 5\n",
       "\tATT4 <= 8\n",
       "\tATT5 <= 8\n",
       "\tATT6 <= 8\n",
       "\tATT7 <= 4\n",
       "\tATT8 <= 5\n",
       "\tATT9 > 3\n",
       "\tATT9 <= 4\n",
       "\tATT10 > 5\n",
       "\t->  class 3  [0.600]\n",
       "\n",
       "Rule 189: (5/2, lift 8.5)\n",
       "\tATT2 > 6\n",
       "\tATT3 > 4\n",
       "\tATT3 <= 5\n",
       "\tATT5 <= 4\n",
       "\tATT6 > 2\n",
       "\tATT9 <= 3\n",
       "\t->  class 3  [0.571]\n",
       "\n",
       "Rule 190: (7/3, lift 8.3)\n",
       "\tATT1 > 3\n",
       "\tATT1 <= 8\n",
       "\tATT2 > 2\n",
       "\tATT3 > 4\n",
       "\tATT4 > 5\n",
       "\tATT7 > 5\n",
       "\tATT7 <= 6\n",
       "\tATT8 <= 2\n",
       "\t->  class 3  [0.556]\n",
       "\n",
       "Default class: 1\n",
       "\n",
       "\n",
       "Evaluation on training data (2400 cases):\n",
       "\n",
       "\t        Rules     \n",
       "\t  ----------------\n",
       "\t    No      Errors\n",
       "\n",
       "\t   190  725(30.2%)   <<\n",
       "\n",
       "\n",
       "\t   (a)   (b)   (c)   (d)    <-classified as\n",
       "\t  ----  ----  ----  ----\n",
       "\t   673   132    58     5    (a): class 0\n",
       "\t   180   647    43     6    (b): class 1\n",
       "\t   123    84   287     1    (c): class 2\n",
       "\t    46    37    10    68    (d): class 3\n",
       "\n",
       "\n",
       "\tAttribute usage:\n",
       "\n",
       "\t100.00%\tATT10\n",
       "\t 83.29%\tATT7\n",
       "\t 48.42%\tATT9\n",
       "\t 44.50%\tATT8\n",
       "\t 43.33%\tATT4\n",
       "\t 34.29%\tATT3\n",
       "\t 31.21%\tATT1\n",
       "\t 25.75%\tATT6\n",
       "\t 24.29%\tATT5\n",
       "\t 23.33%\tATT2\n",
       "\n",
       "\n",
       "Time: 0.3 secs\n"
      ]
     },
     "metadata": {},
     "output_type": "display_data"
    },
    {
     "data": {
      "text/plain": [
       "\n",
       "Call:\n",
       "C5.0.formula(formula = Result ~ ., data = training, rules = TRUE)\n",
       "\n",
       "Rule-Based Model\n",
       "Number of samples: 2400 \n",
       "Number of predictors: 10 \n",
       "\n",
       "Number of Rules: 190 \n",
       "\n",
       "Non-standard options: attempt to group attributes\n"
      ]
     },
     "metadata": {},
     "output_type": "display_data"
    }
   ],
   "source": [
    "summary(rulesFit);\n",
    "rulesFit;"
   ]
  },
  {
   "cell_type": "code",
   "execution_count": 377,
   "metadata": {
    "collapsed": true
   },
   "outputs": [],
   "source": [
    "# Predict.\n",
    "pred_rules <- predict(rulesFit, prostateDatasetTest_modified);"
   ]
  },
  {
   "cell_type": "code",
   "execution_count": 378,
   "metadata": {
    "collapsed": false
   },
   "outputs": [
    {
     "data": {
      "text/plain": [
       "Confusion Matrix and Statistics\n",
       "\n",
       "          Reference\n",
       "Prediction  0  1  2  3\n",
       "         0 80 88 35 11\n",
       "         1 80 87 31  6\n",
       "         2 68 54 18  7\n",
       "         3 17 11  6  1\n",
       "\n",
       "Overall Statistics\n",
       "                                        \n",
       "               Accuracy : 0.31          \n",
       "                 95% CI : (0.273, 0.349)\n",
       "    No Information Rate : 0.408         \n",
       "    P-Value [Acc > NIR] : 1.00000       \n",
       "                                        \n",
       "                  Kappa : -0.016        \n",
       " Mcnemar's Test P-Value : 0.00276       \n",
       "\n",
       "Statistics by Class:\n",
       "\n",
       "                     Class: 0 Class: 1 Class: 2 Class: 3\n",
       "Sensitivity             0.327    0.362    0.200  0.04000\n",
       "Specificity             0.623    0.675    0.747  0.94087\n",
       "Pos Pred Value          0.374    0.426    0.122  0.02857\n",
       "Neg Pred Value          0.573    0.614    0.841  0.95752\n",
       "Prevalence              0.408    0.400    0.150  0.04167\n",
       "Detection Rate          0.133    0.145    0.030  0.00167\n",
       "Detection Prevalence    0.357    0.340    0.245  0.05833\n",
       "Balanced Accuracy       0.475    0.519    0.474  0.49043"
      ]
     },
     "metadata": {},
     "output_type": "display_data"
    }
   ],
   "source": [
    "confusionMatrix(actual, pred_rules)"
   ]
  },
  {
   "cell_type": "code",
   "execution_count": 290,
   "metadata": {
    "collapsed": true
   },
   "outputs": [],
   "source": [
    "#classError(table(predict = rulesPredict, truth = prostateDatasetTest_modified[['Result']]));\n",
    "\n",
    "# Correctly  classified observations:  171 \n",
    "# Total observations:  600 \n",
    "# Accuracy:  0.285 \n",
    "# Classification error:  0.715 "
   ]
  },
  {
   "cell_type": "markdown",
   "metadata": {},
   "source": [
    "---\n",
    "# 11. Flexible Discriminant Analysis\n",
    "(Peter Tadich)"
   ]
  },
  {
   "cell_type": "code",
   "execution_count": 426,
   "metadata": {
    "collapsed": false
   },
   "outputs": [],
   "source": [
    "training <- Udf.Utilities.UpSample(train)"
   ]
  },
  {
   "cell_type": "code",
   "execution_count": 427,
   "metadata": {
    "collapsed": true
   },
   "outputs": [],
   "source": [
    "levels(training$Result)[levels(training$Result)==\"0\"] <- \"curable\"\n",
    "levels(training$Result)[levels(training$Result)==\"1\"] <- \"tumour\"\n",
    "levels(training$Result)[levels(training$Result)==\"2\"] <- \"node\"\n",
    "levels(training$Result)[levels(training$Result)==\"3\"] <- \"incurable\""
   ]
  },
  {
   "cell_type": "code",
   "execution_count": 428,
   "metadata": {
    "collapsed": false
   },
   "outputs": [],
   "source": [
    "# Test 'fda' via 'mda' package with method = earth.\n",
    "# Create a flexible discriminant model ('caret' uses 'earth' package hence method = earth).\n",
    "if(TRUE){\n",
    "    \n",
    "    fdaFit <- fda(Result ~., data = prostateDatasetTrain_modified, method = earth, pmethod = 'none'); # From 'mda' package.\n",
    "    \n",
    "}"
   ]
  },
  {
   "cell_type": "code",
   "execution_count": 399,
   "metadata": {
    "collapsed": false
   },
   "outputs": [],
   "source": [
    "# LGOCV 'leave-group-out cross- validation' or 'Monte Carlo cross-validation.'\n",
    "ctrl <- trainControl(method = \"LGOCV\",\n",
    "    summaryFunction = multiClassSummary,\n",
    "    classProbs = TRUE,\n",
    "    index = index,\n",
    "    allowParallel = TRUE,\n",
    "    savePredictions = TRUE);"
   ]
  },
  {
   "cell_type": "code",
   "execution_count": 421,
   "metadata": {
    "collapsed": false
   },
   "outputs": [],
   "source": [
    "# Train Flexible Discriminant Model.\n",
    "\n",
    "# Note: get the following warning if nprune = 2\n",
    "#       Warning message in nominalTrainWorkflow(x = x, y = y, wts = weights, info = trainInfo, :\n",
    "#       \"There were missing values in resampled performance measures.\"\n",
    "\n",
    "# Performance intensive. Do not run\n",
    "\n",
    "if(FALSE){\n",
    "\n",
    "    # Do parallel computation.\n",
    "    cores <- 4;\n",
    "    registerDoParallel(cores=cores); # Parallel computation.\n",
    "\n",
    "    set.seed(seed);\n",
    "    fdaFit <- train(\n",
    "        #x = x, # predictor variables\n",
    "        #y = y, # response variable,\n",
    "        x = training[, predVars], # predictor variables\n",
    "        y = training$Result, # response variable,\n",
    "        method = 'fda',\n",
    "        pmethod = 'none',\n",
    "        metric = 'Accuracy',\n",
    "        tuneGrid = expand.grid(degree = c(1,2,3), nprune = 3:11),\n",
    "        preProc = c('center', 'scale'),\n",
    "        trControl = ctrl);\n",
    "\n",
    "    # Shut down parallel computation.\n",
    "    stopImplicitCluster();\n",
    "\n",
    "}"
   ]
  },
  {
   "cell_type": "code",
   "execution_count": 429,
   "metadata": {
    "collapsed": false
   },
   "outputs": [
    {
     "data": {
      "text/plain": [
       "Call:\n",
       "fda(formula = Result ~ ., data = prostateDatasetTrain_modified, \n",
       "    method = earth, pmethod = \"none\")\n",
       "\n",
       "Dimension: 3 \n",
       "\n",
       "Percent Between-Group Variance Explained:\n",
       "    v1     v2     v3 \n",
       " 59.13  92.02 100.00 \n",
       "\n",
       "Training Misclassification Error: 0.62 ( N = 2400 )"
      ]
     },
     "metadata": {},
     "output_type": "display_data"
    }
   ],
   "source": [
    "fdaFit;"
   ]
  },
  {
   "cell_type": "code",
   "execution_count": 430,
   "metadata": {
    "collapsed": true
   },
   "outputs": [],
   "source": [
    "# Predict.\n",
    "pred_fda <- predict(fdaFit, prostateDatasetTest_modified);"
   ]
  },
  {
   "cell_type": "code",
   "execution_count": 431,
   "metadata": {
    "collapsed": false
   },
   "outputs": [
    {
     "data": {
      "text/plain": [
       "Confusion Matrix and Statistics\n",
       "\n",
       "          Reference\n",
       "Prediction   0   1   2   3\n",
       "         0  98 116   0   0\n",
       "         1  81 123   0   0\n",
       "         2  80  67   0   0\n",
       "         3  20  15   0   0\n",
       "\n",
       "Overall Statistics\n",
       "                                       \n",
       "               Accuracy : 0.368        \n",
       "                 95% CI : (0.33, 0.408)\n",
       "    No Information Rate : 0.535        \n",
       "    P-Value [Acc > NIR] : 1            \n",
       "                                       \n",
       "                  Kappa : 0.032        \n",
       " Mcnemar's Test P-Value : NA           \n",
       "\n",
       "Statistics by Class:\n",
       "\n",
       "                     Class: 0 Class: 1 Class: 2 Class: 3\n",
       "Sensitivity             0.351    0.383       NA       NA\n",
       "Specificity             0.639    0.710    0.755   0.9417\n",
       "Pos Pred Value          0.458    0.603       NA       NA\n",
       "Neg Pred Value          0.531    0.500       NA       NA\n",
       "Prevalence              0.465    0.535    0.000   0.0000\n",
       "Detection Rate          0.163    0.205    0.000   0.0000\n",
       "Detection Prevalence    0.357    0.340    0.245   0.0583\n",
       "Balanced Accuracy       0.495    0.546       NA       NA"
      ]
     },
     "metadata": {},
     "output_type": "display_data"
    }
   ],
   "source": [
    "confusionMatrix(actual, pred_fda)"
   ]
  },
  {
   "cell_type": "code",
   "execution_count": null,
   "metadata": {
    "collapsed": true
   },
   "outputs": [],
   "source": []
  },
  {
   "cell_type": "markdown",
   "metadata": {},
   "source": [
    "# 12. Deep Learning\n",
    "(Aruna Tillekeratne)\n",
    "\n",
    "This notebook is the documentation which covers the implementation of a feedforward deep architecture nerual network to classify prostate cancer. \n",
    "\n",
    "## Neural Networks & Deep Learning\n",
    "Neural Networks are machine learning models which have become increasingly popular in recent days for modelling complex systems. The idea behind neural nets can be somewhat traced back to the architecture of the brain, however arguably there are a large number of dissimilarities. Essentially neural networks are a number of models (nodes) layed out on computation graph form and each of the inputs are fed successively to each of these nodes (also called neurons). Indepth explanation of networks is beyond the scope of this document. If you are not familiar with neural networks, see https://en.wikipedia.org/wiki/Artificial_neural_network. Note this is a feed forward implemntation only. <br />\n",
    "Deep learning is a recent (popularised recently) architectural scheme for neural networks. The computation nodes discussed above are generally arranged in layers. As apposed to shallow architecture, deep architecture involves having multiple layers before reaching the output of the network. You can learn more about deep learning at https://en.wikipedia.org/wiki/Deep_learning.\n",
    "\n",
    "## Prostate Cancer Data \n",
    "The prostate cancer dataset is a 3000 observation dataset containing 4 level classification of prostate cancers. The entire dataset is numeric (with the response variable being a 4 level factor). The features are all measurements rounded to the nearest integer. See the exploratory data analysis for more information on this.\n",
    "\n",
    "## How this notebook works.\n",
    "Given that this is a deep learning notebook, it is unlikely that you want to go through the trainng phase. The training phase takes some time to run (depending on hardware ofcourse). None the less all the training code is available in the notebook. In the cell below, the variable named **isRetrainAllowed** is set to FALSE. If you would like to retrain, please set this variable to TRUE. Since networks are sensitive to initialisation, you may return different results to what has been trainied before.\n",
    "\n",
    "### Deep Learning Model Architecture\n",
    "We will be using the **h2o** library for the development of our deep learning models. This is a special environment which allows multi threaded learning for neural networks. This means that all models are of class h2o. When you want to test it on your validation set, you will not be able to simply call the **base::predict** function. \n",
    "We have defined a **predict.deep(dataset)** method for your use with the dataset. You may ask, why ? There are three reasons.\n",
    "\n",
    "1. First the h2o library calls a special h2o.predict function which can talk to objects of type h2o. Our model will inherit from this class. <br />\n",
    "2. The featureset needs to inherit from class h2o as well, so that some parallel processing may occur. <br />\n",
    "3. This model takes engineered features, that is, the orignal features get transformed prior to being fed into the predictive model. <br />\n",
    "\n",
    "### Libraries You Need To Run (Among other things)\n",
    "This deep learning model has been trained in h2o Version 3.10.0.10. All models are saved from this version. For some reason, h2o has no backward compatibility. I'm serious, NO means absolutely nothing. So you need to install h2o version 3.10.0.10 even just to load the saved models. <br />\n",
    "You also need the **deepModel.h2o** file to be in the folder of the notebook. This actually contains our neural network model. When you run the predict.deep(dataset) method, it'll make a call to load this file into memory and it'll pass your dataset into the model to make predictions. We will discuss in further detail inside the predict.deep method how it all works. <b4 />\n",
    "The r script file **utilities.r** and **fe.r** are both required. These contain some utility and feature engineering functions which help transform or develop some new features using simple rules. "
   ]
  },
  {
   "cell_type": "code",
   "execution_count": 295,
   "metadata": {
    "collapsed": false
   },
   "outputs": [
    {
     "name": "stdout",
     "output_type": "stream",
     "text": [
      "[1] \"Skipping model training and loading existing model.\"\n"
     ]
    }
   ],
   "source": [
    "## Set this to true if you want to retrain the deep learning model.\n",
    "isRetrainAllowed <- FALSE\n",
    "if(isRetrainAllowed){\n",
    "    print(\"Warning: Model will retrain.\")\n",
    "} else{\n",
    "    print(\"Skipping model training and loading existing model.\")\n",
    "}"
   ]
  },
  {
   "cell_type": "code",
   "execution_count": 297,
   "metadata": {
    "collapsed": false
   },
   "outputs": [],
   "source": [
    "source(\"FE.r\") # Feature engineering functions."
   ]
  },
  {
   "cell_type": "markdown",
   "metadata": {},
   "source": [
    "## Feature Engineering\n",
    "\n",
    "Bulk of the work for the deep learning model has happend in the feature engineering section. As discussed in the exploratory data analysis, the dataset is extremely non linear. The priniciple component analysis showed that that random scattering of variables with no distinct groups. This is probably a good sign that there will need to be some transformations done on the data and added as features. In order to keep simplicity, all the feature engineering happens in a pipeline. This is done for 2 reasons. Our predict.deep function can mimic our feature engineering and take the users dataset and do the trasnformation in function and also it makes the trasnformations much easier to follow. "
   ]
  },
  {
   "cell_type": "code",
   "execution_count": 298,
   "metadata": {
    "collapsed": true
   },
   "outputs": [],
   "source": [
    "training <- train\n",
    "testing <- test"
   ]
  },
  {
   "cell_type": "markdown",
   "metadata": {},
   "source": [
    "### Step 1 :: Centering & Scaling \n",
    "Generally speaking, most algorithms, especially neural networks like 0 centered and scaled data. Why ? I don't know.\n",
    "To do this we are going to use a method called preProcess from the caret package. This is actually a robust method to apply center and scaling using the training set and apply the same scaling matrix to any unseen data. We will also input a YeoJohnson transformation as well."
   ]
  },
  {
   "cell_type": "code",
   "execution_count": 299,
   "metadata": {
    "collapsed": false
   },
   "outputs": [
    {
     "data": {},
     "metadata": {},
     "output_type": "display_data"
    },
    {
     "data": {
      "image/png": "[encoded data removed]",
      "text/plain": [
       "plot without title"
      ]
     },
     "metadata": {},
     "output_type": "display_data"
    }
   ],
   "source": [
    "# Get the pre processor.\n",
    "fe.PreProcessor <- caret::preProcess(training,method = c(\"center\",\"scale\",\"YeoJohnson\"))\n",
    "\n",
    "# We don't actually use this preprocessor in our predict.deep method but this show's you how the code works.\n",
    "# Use the preprocessor to transform the training and the test dataset. This preprocessor model will be used to transform all unseen data as well.\n",
    "tr.csyj <- predict(fe.PreProcessor,training) # training set.\n",
    "ts.csyj <- predict(fe.PreProcessor,testing) # testing set.\n",
    "\n",
    "# Let's visualise the dataset using smoe principle component analysis to get the two major axis. We will again call on a wrapper from the utilities script to do the principle component analysis for us. Inside the Udf.Utilities.Prcomp method is a simple call to stats::prcomp method. \n",
    "ggplot(Udf.Utilities.Prcomp(tr.csyj[,-ncol(tr.csyj)],nComps = 2)$components,aes(PC1,PC2,color = tr.csyj$Result)) + geom_point() + scale_color_discrete(\"Result\") + ggtitle(\"Prostate Cancer (Centered Scaled) on Principle Components.\")"
   ]
  },
  {
   "cell_type": "markdown",
   "metadata": {},
   "source": [
    "We can see that there are no really distinct cluster groups. This is probably not a good indicator of predictability, there is absolutetly no visibility of class separation at all. There is also somewhat scattering to the outside as well, let's try using a spatial sign transform to project it radially outwards to see if we can improve the performance of the PCA."
   ]
  },
  {
   "cell_type": "markdown",
   "metadata": {},
   "source": [
    "### Step 2 :: Spatial Sign Transform\n",
    "Spatial sign transforms are usually used to target outliers. But in this case, I just tried it randomly while I was frustrated about model performance, so voila. "
   ]
  },
  {
   "cell_type": "code",
   "execution_count": 300,
   "metadata": {
    "collapsed": false
   },
   "outputs": [
    {
     "data": {},
     "metadata": {},
     "output_type": "display_data"
    },
    {
     "data": {
      "image/png": "[encoded data removed]",
      "text/plain": [
       "plot without title"
      ]
     },
     "metadata": {},
     "output_type": "display_data"
    }
   ],
   "source": [
    "tr.csyj.ss <- as.data.frame(caret::spatialSign(tr.csyj[,-ncol(tr.csyj)]))\n",
    "ts.csyj.ss <- as.data.frame(caret::spatialSign(ts.csyj[,-ncol(ts.csyj)]))\n",
    "\n",
    "# Let's revisualise to see if the PCA has improved.\n",
    "ggplot(Udf.Utilities.Prcomp(tr.csyj.ss,nComps = 2)$components,aes(PC1,PC2,color = tr.csyj$Result)) + geom_point() + scale_color_discrete(\"Result\") + ggtitle(\"Prostate Cancer (Centered, Scaled & SS Transformed) on Principle Components\")\n"
   ]
  },
  {
   "cell_type": "markdown",
   "metadata": {},
   "source": [
    "Well, there isn't much improvement, but the data is less spread out, which is exactly what spatial sign does. \n",
    "We are going to use regularisation in our neural network, so it should automatically scale the parameters which are insiginificant down or to zero. Therefore we will bind any additonal transformations to the centered and scaled data. Let's call these binding objects as feed(s). So feed.training and feed.testing. We will hold out the label until we are at the final stage.\n",
    "And yes, this is not the same as subsetting features (especially in these nonlinear models) but with the time constraint and the relatively poor computational power i have to make this model, my search grid couldn't be too big."
   ]
  },
  {
   "cell_type": "code",
   "execution_count": 301,
   "metadata": {
    "collapsed": true
   },
   "outputs": [],
   "source": [
    "# Original data centered and scaled with a YeaJohnson transform.\n",
    "feed.training <- tr.csyj[,-ncol(tr.csyj)]\n",
    "feed.testing <- ts.csyj[,-ncol(tr.csyj)]  \n",
    "\n",
    "# Bind the new data and redo column names\n",
    "feed.training <- cbind(feed.training,tr.csyj.ss)\n",
    "colnames(feed.training) <- paste(\"FT\",1:ncol(feed.training),sep=\"\")\n",
    "\n",
    "feed.testing <- cbind(feed.testing,ts.csyj.ss)\n",
    "colnames(feed.testing) <- paste(\"FT\",1:ncol(feed.testing),sep=\"\")"
   ]
  },
  {
   "cell_type": "markdown",
   "metadata": {},
   "source": [
    "### Step 3 :: Adding the PCA Results\n",
    "So far we have just been using PCA to visualise the data set. But let's include the soem of the results from the PCA as extra features. This may give it some more of the description of featurespace from the linear model of PCA."
   ]
  },
  {
   "cell_type": "code",
   "execution_count": 302,
   "metadata": {
    "collapsed": false
   },
   "outputs": [
    {
     "data": {
      "image/png": "[encoded data removed]",
      "text/plain": [
       "Plot with title \"Components Vs Variance Explained\""
      ]
     },
     "metadata": {},
     "output_type": "display_data"
    }
   ],
   "source": [
    "pcaModel_ <- Udf.Utilities.Prcomp(feed.training,nComp = ncol(feed.training))\n",
    "# Look at the components and their explanation of the overall variance in the dataset.\n",
    "plot(pcaModel_$prcompObj,\"Components Vs Variance Explained\",type = \"l\")"
   ]
  },
  {
   "cell_type": "markdown",
   "metadata": {},
   "source": [
    "Looks like there is no 1 component which explains most of the variance. Remember our model is going to have l1 regularisation therefore it'll just simply scale the weights down to zero where variables don't actually help. So lets add the entire thing. <br />\n",
    "It is important that we keep the same rotation that we learned from our training set over to the validation sets. So let's extract the rotation matrix and then multiply our validation set to get the rotated values. <br />\n",
    "\n",
    "multiply the rotation by the matrix which is spatial sign transformed to get the next step.\n"
   ]
  },
  {
   "cell_type": "code",
   "execution_count": 303,
   "metadata": {
    "collapsed": true
   },
   "outputs": [],
   "source": [
    "tr.csyj.ss.pca <- pcaModel_$prcompObj$rotation * feed.training # matrix multiply the weights into the features.\n",
    "feed.training <- cbind(feed.training,tr.csyj.ss.pca) # Bind the existing data.\n",
    "colnames(feed.training) <- paste(\"FT\",1:ncol(feed.training),sep=\"\") # Generalise feature names.\n",
    "\n",
    "ts.csyj.ss.pca <- pcaModel_$prcompObj$rotation * feed.testing\n",
    "feed.testing <- cbind(feed.testing,ts.csyj.ss.pca)\n",
    "colnames(feed.testing) <- paste(\"FT\",1:ncol(feed.testing),sep=\"\")"
   ]
  },
  {
   "cell_type": "markdown",
   "metadata": {},
   "source": [
    "### Step 4 :: Row Sum of Top 2 PCA\n",
    "Another useful feature may be able to be captured by the top principle components. We will use the top 2 here. This was also added because I did some random testing and found this actually helped the mean accuracy go up. "
   ]
  },
  {
   "cell_type": "code",
   "execution_count": 304,
   "metadata": {
    "collapsed": true
   },
   "outputs": [],
   "source": [
    "tr.csyj.ss.pca.sum <- rowSums((pcaModel_$prcompObj$rotation * tr.csyj.ss.pca)[,1:2])\n",
    "feed.training <- cbind(feed.training,tr.csyj.ss.pca.sum)\n",
    "colnames(feed.training) <- paste(\"FT\",1:ncol(feed.training),sep=\"\")\n",
    "\n",
    "ts.csyj.ss.pca.sum <- rowSums((pcaModel_$prcompObj$rotation * ts.csyj.ss.pca)[,1:2])\n",
    "feed.testing <- cbind(feed.testing,ts.csyj.ss.pca.sum)\n",
    "colnames(feed.testing) <- paste(\"FT\",1:ncol(feed.testing),sep=\"\")"
   ]
  },
  {
   "cell_type": "markdown",
   "metadata": {},
   "source": [
    "### Step 5 :: Frequency Values of Features\n",
    "Another useful feature is the number of counts of some of the variables and how the occur on the dataset. Given that everything is rounded to an integer, we can assume they are nearly categorical. Lets see how we do with this. We are calling on one of our utility functions, which essentiall does a count and joins it using the sqldf library."
   ]
  },
  {
   "cell_type": "code",
   "execution_count": 305,
   "metadata": {
    "collapsed": false
   },
   "outputs": [
    {
     "name": "stderr",
     "output_type": "stream",
     "text": [
      "Warning message:\n",
      "\"Quoted identifiers should have class SQL, use DBI::SQL() if the caller performs the quoting.\""
     ]
    }
   ],
   "source": [
    "tr.colsum <- my.f2cnt(training,\"ATT1\",\"ATT2\")\n",
    "feed.training <- cbind(feed.training,tr.colsum)\n",
    "colnames(feed.training) <- paste(\"FT\",1:ncol(feed.training),sep=\"\")\n",
    "\n",
    "ts.colsum <- my.f2cnt(testing,\"ATT1\",\"ATT2\")\n",
    "feed.testing <- cbind(feed.testing,ts.colsum)\n",
    "colnames(feed.testing) <- paste(\"FT\",1:ncol(feed.testing),sep=\"\")"
   ]
  },
  {
   "cell_type": "markdown",
   "metadata": {
    "collapsed": true
   },
   "source": [
    "### Step 6 :: Scale and Center Everything\n",
    "Once again, scale and center everything so that the NN gets nice values between 1 and -1."
   ]
  },
  {
   "cell_type": "code",
   "execution_count": 306,
   "metadata": {
    "collapsed": true
   },
   "outputs": [],
   "source": [
    "feed.training <- scale(feed.training)\n",
    "feed.testing <- scale(feed.testing)\n",
    "# Rebind the labels.\n",
    "feed.training <- as.data.frame(cbind(feed.training,training[,\"Result\"]))\n",
    "colnames(feed.training)[ncol(feed.training)] <- \"Result\"\n",
    "feed.training[,\"Result\"] <- as.factor(feed.training[,\"Result\"])\n",
    "feed.testing <- as.data.frame(cbind(feed.testing,testing[,\"Result\"]))\n",
    "colnames(feed.testing)[ncol(feed.testing)] <- \"Result\"\n",
    "feed.testing[,\"Result\"] <- as.factor(feed.testing[,\"Result\"])"
   ]
  },
  {
   "cell_type": "markdown",
   "metadata": {
    "collapsed": true
   },
   "source": [
    "### Autoencoder.\n",
    "Autoencoders are a non supervised learning implementation of neural networks. We are going to be using it as a non linear implementation of PCA. That is, reducing dimensionality of the dataset non linearly. We will use the reduced set of outputs as features to our NN supervised model."
   ]
  },
  {
   "cell_type": "code",
   "execution_count": 307,
   "metadata": {
    "collapsed": false
   },
   "outputs": [
    {
     "name": "stdout",
     "output_type": "stream",
     "text": [
      "\n",
      "H2O is not running yet, starting it now...\n",
      "\n",
      "Note:  In case of errors look at the following log files:\n",
      "    C:\\Users\\jmills\\AppData\\Local\\Temp\\RtmpmwwhkK/h2o_jmills_started_from_r.out\n",
      "    C:\\Users\\jmills\\AppData\\Local\\Temp\\RtmpmwwhkK/h2o_jmills_started_from_r.err\n",
      "\n",
      "\n",
      "Starting H2O JVM and connecting: . Connection successful!\n",
      "\n",
      "R is connected to the H2O cluster: \n",
      "    H2O cluster uptime:         3 seconds 595 milliseconds \n",
      "    H2O cluster version:        3.10.0.8 \n",
      "    H2O cluster version age:    1 month and 23 days  \n",
      "    H2O cluster name:           H2O_started_from_R_jmills_wzs929 \n",
      "    H2O cluster total nodes:    1 \n",
      "    H2O cluster total memory:   1.75 GB \n",
      "    H2O cluster total cores:    4 \n",
      "    H2O cluster allowed cores:  4 \n",
      "    H2O cluster healthy:        TRUE \n",
      "    H2O Connection ip:          localhost \n",
      "    H2O Connection port:        54321 \n",
      "    H2O Connection proxy:       NA \n",
      "    R Version:                  R version 3.3.1 (2016-06-21) \n",
      "\n",
      "  |======================================================================| 100%\n",
      "  |======================================================================| 100%\n",
      "  |======================================================================| 100%\n",
      "  |======================================================================| 100%\n"
     ]
    },
    {
     "data": {},
     "metadata": {},
     "output_type": "display_data"
    },
    {
     "data": {
      "image/png": "[encoded data removed]",
      "text/plain": [
       "plot without title"
      ]
     },
     "metadata": {},
     "output_type": "display_data"
    }
   ],
   "source": [
    "# Initialse h2o.\n",
    "h2o.init(nthreads = -1)\n",
    "\n",
    "# Cast the trainig and test sets as h2o objects.\n",
    "h2_tr <- as.h2o(feed.training,\"h2_tr\")\n",
    "h2_ts <- as.h2o(feed.testing,\"h2_ts\")\n",
    "\n",
    "\n",
    "# Visualise using autoencoder.\n",
    "AE <- h2o.deeplearning(\n",
    "    x = 1:(ncol(feed.training) - 1),\n",
    "    training_frame = h2_tr,\n",
    "    hidden = c(33, 23, 13, 3, 2, 3, 13, 23, 33),\n",
    "    epochs = 600,\n",
    "    activation = \"Tanh\",\n",
    "    autoencoder = TRUE,\n",
    "    export_weights_and_biases = TRUE\n",
    ")\n",
    "\n",
    "# Visualise autoencoder output\n",
    "tr_sup_ft <- h2o.deepfeatures(AE, h2_tr, layer = 5)\n",
    "pltData <- as.data.frame(tr_sup_ft)\n",
    "\n",
    "\n",
    "ggplot(pltData, aes(pltData$DF.L5.C1, pltData$DF.L5.C2, color = feed.training$Result)) + geom_point()"
   ]
  },
  {
   "cell_type": "code",
   "execution_count": 308,
   "metadata": {
    "collapsed": true
   },
   "outputs": [],
   "source": [
    "# Helper to bind features.\n",
    "BindDeepFeatures <- function(features,weights){\n",
    "\n",
    "    # Attach the autoencoder features.\n",
    "    dFtMtx <- matrix(nrow = nrow(features),ncol = 13) # Genereate a container for the new features.\n",
    "\n",
    "    ftMtx_ <- as.matrix(features) # Cast input as matrix.\n",
    "    pb_ <- txtProgressBar(style = 3) # Progress bar.\n",
    "    for(i in 1:nrow(ftMtx_)){\n",
    "\n",
    "        # Drop down through teh layers.\n",
    "        tmp__ <- weights[[1]] %*% ftMtx_[i,]\n",
    "        tmp__ <- weights[[2]] %*% tmp__\n",
    "        tmp__ <- weights[[3]] %*% tmp__\n",
    "\n",
    "        tmp__ <- t(tmp__) # Transpose\n",
    "\n",
    "\n",
    "        dFtMtx[i,] <- tmp__ # Concatenate\n",
    "        setTxtProgressBar(pb_,i/nrow(ftMtx_))\n",
    "        close(pb_)\n",
    "    }\n",
    "\n",
    "    boundMatrix_ <- cbind(ftMtx_,dFtMtx)\n",
    "\n",
    "    return(as.data.frame(boundMatrix_))\n",
    "}"
   ]
  },
  {
   "cell_type": "markdown",
   "metadata": {},
   "source": [
    "### Step 7 :: Bind Autoencoder Output\n",
    "We will simply read in the weights from a previous run, and wont't use the output from this autoencoder since it's very sensitive to the starting position. For every different autoencoder output we need to retrain our NN model downstream. "
   ]
  },
  {
   "cell_type": "code",
   "execution_count": 309,
   "metadata": {
    "collapsed": false
   },
   "outputs": [
    {
     "name": "stdout",
     "output_type": "stream",
     "text": [
      "  |                                                                      |   0%\n",
      "  |                                                                      |   0%\n",
      "  |======================================================================| 100%"
     ]
    }
   ],
   "source": [
    "# Read in the weights\n",
    "ae.weights <- readRDS(\"AutoEncoderWeights.rds\")\n",
    "\n",
    "# Use the method we defined above to bind the features.\n",
    "feed.training.deep <- BindDeepFeatures(feed.training[,-ncol(feed.training)],ae.weights)\n",
    "feed.testing.deep <- BindDeepFeatures(feed.testing[,-ncol(feed.testing)],ae.weights)"
   ]
  },
  {
   "cell_type": "code",
   "execution_count": 310,
   "metadata": {
    "collapsed": false
   },
   "outputs": [
    {
     "name": "stdout",
     "output_type": "stream",
     "text": [
      "  |======================================================================| 100%\n",
      "  |======================================================================| 100%\n"
     ]
    }
   ],
   "source": [
    "# rebind the labels.\n",
    "feed.training.deep <- as.data.frame(cbind(feed.training.deep,training[,\"Result\"]))\n",
    "colnames(feed.training.deep)[ncol(feed.training.deep)] <- \"Result\"\n",
    "feed.training.deep[,\"Result\"] <- as.factor(feed.training.deep[,\"Result\"])\n",
    "feed.testing.deep <- as.data.frame(cbind(feed.testing.deep,testing[,\"Result\"]))\n",
    "colnames(feed.testing.deep)[ncol(feed.testing.deep)] <- \"Result\"\n",
    "feed.testing.deep[,\"Result\"] <- as.factor(feed.testing.deep[,\"Result\"])\n",
    "\n",
    "## Cast as h2o object.\n",
    "h2_tr <- as.h2o(feed.training.deep,\"h2_tr\")\n",
    "h2_ts <- as.h2o(feed.testing.deep,\"h2_ts\")"
   ]
  },
  {
   "cell_type": "markdown",
   "metadata": {},
   "source": [
    "## Training the Neural Network.\n",
    "Neural networks are inherently difficult to train. They are prone to fast overfitting and the loss function is non convex with many local minima. So it's somewhat of a black art in getting it right. In this assignment alone i have built over 100 neural networks on a very very slow core i5."
   ]
  },
  {
   "cell_type": "code",
   "execution_count": 311,
   "metadata": {
    "collapsed": true
   },
   "outputs": [],
   "source": [
    "if(isRetrainAllowed){\n",
    "    dl_8 <- h2o.deeplearning(# 37.5%\n",
    "    x = 1:(ncol(h2_tr) - 1),\n",
    "    y = ncol(h2_tr),\n",
    "    training_frame = h2_tr,\n",
    "    validation_frame = h2_ts,\n",
    "    distribution = \"multinomial\",\n",
    "    activation = \"MaxoutWithDropout\",\n",
    "    hidden = c(400, 600, 400),\n",
    "    l2 = 5e-5,\n",
    "    epochs = 10,\n",
    "    nfolds = 10,\n",
    "    balance_classes = TRUE,\n",
    "    input_dropout_ratio = 0.1,\n",
    "    loss = \"CrossEntropy\",\n",
    "    classification_stop = 0.45\n",
    ")\n",
    "\n",
    "\n",
    "prd_8 <- h2o.predict(dl_8, h2_ts)\n",
    "prd_8 <- as.data.frame(prd_8)\n",
    "sum(as.numeric(prd_8$predict) == as.numeric(feed.testing.deep$Result)) / 599\n",
    "}"
   ]
  },
  {
   "cell_type": "markdown",
   "metadata": {},
   "source": [
    "## The predict.deep method\n",
    "Below is the implementation of the predict.deep method. the code comments will explain everything that happens."
   ]
  },
  {
   "cell_type": "code",
   "execution_count": 312,
   "metadata": {
    "collapsed": true
   },
   "outputs": [],
   "source": [
    "predict.deep <- function(data,h2oModel = NULL) {\n",
    "    \n",
    "    # Input parameters.\n",
    "    # data :: A dataframe of the input features. Does not take ID or Response variable.\n",
    "\n",
    "    # Assert that input featurespace must be 10 wide.\n",
    "    if (ncol(data) != 10) {\n",
    "        stop(\"Input features do not match the prostate.csv feature length. Have you forgotton to remove ID and Result columns ?\")\n",
    "    }\n",
    "\n",
    "    # Assert that h2o is available \n",
    "    require(h2o)\n",
    "    require(caret)\n",
    "    h2o.init(nthreads = -1)\n",
    "    # Assert that h2o version is correct\n",
    "    if (h2o.getVersion() != \"3.10.0.8\") {\n",
    "        stop(\"You have a different version of H2O, get the version 3.10.0.8\")\n",
    "    }\n",
    "\n",
    "\n",
    "    ## Start feature engineering.\n",
    "\n",
    "    # Step 1 feature scaling and centering with preprocessor.\n",
    "    fe.preProcessor <- readRDS(\"fePreProcessor.rds\")\n",
    "\n",
    "    tr.csyj <- predict(fe.preProcessor, data) # make prediction on new data.\n",
    "\n",
    "\n",
    "    ## Step 2 :: Spatial Sign transform\n",
    "    tr.csyj.ss <- as.data.frame(caret::spatialSign(tr.csyj))\n",
    "\n",
    "    # Bind the new data and redo column names\n",
    "    feed.training <- cbind(tr.csyj, tr.csyj.ss)\n",
    "    colnames(feed.training) <- paste(\"FT\", 1:ncol(feed.training), sep = \"\")\n",
    "\n",
    "    ## Step 3 :: Add PCA results\n",
    "    # Read in the model\n",
    "    pcaModel_ <- readRDS(\"pcaModel.rds\")\n",
    "\n",
    "    tr.csyj.ss.pca <- pcaModel_$prcompObj$rotation * feed.training # matrix multiply the weights into the features.\n",
    "    feed.training <- cbind(feed.training, tr.csyj.ss.pca) # Bind the existing data.\n",
    "    colnames(feed.training) <- paste(\"FT\", 1:ncol(feed.training), sep = \"\") # Generalise feature names.\n",
    "\n",
    "    ## Step 4 :: Row sums of 2 PCA components.\n",
    "    tr.csyj.ss.pca.sum <- rowSums((pcaModel_$prcompObj$rotation * tr.csyj.ss.pca)[, 1:2])\n",
    "    feed.training <- cbind(feed.training, tr.csyj.ss.pca.sum)\n",
    "    colnames(feed.training) <- paste(\"FT\", 1:ncol(feed.training), sep = \"\")\n",
    "\n",
    "    ## Step 5 :: Frequency values of features\n",
    "    source(\"FE.r\")\n",
    "    tr.colsum <- my.f2cnt(data, \"ATT1\", \"ATT2\")\n",
    "    feed.training <- cbind(feed.training, tr.colsum)\n",
    "    colnames(feed.training) <- paste(\"FT\", 1:ncol(feed.training), sep = \"\")\n",
    "\n",
    "    # Step 6 :: Scale and center everything\n",
    "\n",
    "    feed.training <- scale(feed.training)\n",
    "\n",
    "    # Step 7 :: Bind autoencoder output\n",
    "\n",
    "    # Read in the autoencoder weights\n",
    "    ae.weights <- readRDS(\"AutoEncoderWeights.rds\")\n",
    "\n",
    "    # Helper to bind features.\n",
    "    BindDeepFeatures <- function(features, weights) {\n",
    "\n",
    "        # Attach the autoencoder features.\n",
    "        dFtMtx <- matrix(nrow = nrow(features), ncol = 13) # Genereate a container for the new features.\n",
    "\n",
    "        ftMtx_ <- as.matrix(features) # Cast input as matrix.\n",
    "        for (i in 1:nrow(ftMtx_)) {\n",
    "\n",
    "            # Drop down through teh layers.\n",
    "            tmp__ <- weights[[1]] %*% ftMtx_[i,]\n",
    "            tmp__ <- weights[[2]] %*% tmp__\n",
    "            tmp__ <- weights[[3]] %*% tmp__\n",
    "\n",
    "            tmp__ <- t(tmp__) # Transpose\n",
    "\n",
    "\n",
    "            dFtMtx[i,] <- tmp__ # Concatenate\n",
    "        }\n",
    "\n",
    "        boundMatrix_ <- cbind(ftMtx_, dFtMtx)\n",
    "\n",
    "        return(as.data.frame(boundMatrix_))\n",
    "    }\n",
    "\n",
    "    # bind features\n",
    "    feed.training.deep <- BindDeepFeatures(feed.training, ae.weights)\n",
    "\n",
    "    # Cast h2o object.\n",
    "    h2_tr <- as.h2o(feed.training.deep, \"h2_tr\")\n",
    "\n",
    "    # Get the neural network model or use passed model.\n",
    "    if (is.null(h2oModel)) {\n",
    "        mdl_ <- h2o.loadModel(\"DeepLearning_model_R_1480681170824_1\")\n",
    "    } else {\n",
    "        mdl_ <- h2oModel;\n",
    "    }\n",
    "\n",
    "    pred <- as.data.frame(h2o.predict(mdl_, h2_tr)) # return predictions as dataframe.\n",
    "\n",
    "    return(pred[,\"predict\"])\n",
    "}"
   ]
  },
  {
   "cell_type": "code",
   "execution_count": 313,
   "metadata": {
    "collapsed": false
   },
   "outputs": [
    {
     "name": "stdout",
     "output_type": "stream",
     "text": [
      " Connection successful!\n",
      "\n",
      "R is connected to the H2O cluster: \n",
      "    H2O cluster uptime:         3 minutes 7 seconds \n",
      "    H2O cluster version:        3.10.0.8 \n",
      "    H2O cluster version age:    1 month and 23 days  \n",
      "    H2O cluster name:           H2O_started_from_R_jmills_wzs929 \n",
      "    H2O cluster total nodes:    1 \n",
      "    H2O cluster total memory:   1.59 GB \n",
      "    H2O cluster total cores:    4 \n",
      "    H2O cluster allowed cores:  4 \n",
      "    H2O cluster healthy:        TRUE \n",
      "    H2O Connection ip:          localhost \n",
      "    H2O Connection port:        54321 \n",
      "    H2O Connection proxy:       NA \n",
      "    R Version:                  R version 3.3.1 (2016-06-21) \n",
      "\n",
      "\r",
      "  |                                                                            \r",
      "  |                                                                      |   0%\r",
      "  |                                                                            \r",
      "  |======================================================================| 100%\n",
      "\r",
      "  |                                                                            \r",
      "  |                                                                      |   0%\r",
      "  |                                                                            \r",
      "  |======================================================================| 100%\n"
     ]
    }
   ],
   "source": [
    "pred_dl <- predict.deep(test[,c(-ncol(test))])"
   ]
  },
  {
   "cell_type": "code",
   "execution_count": 314,
   "metadata": {
    "collapsed": false
   },
   "outputs": [
    {
     "data": {
      "text/plain": [
       "Confusion Matrix and Statistics\n",
       "\n",
       "          Reference\n",
       "Prediction   0   1   2   3\n",
       "         0 103  58  48   5\n",
       "         1 101  71  31   1\n",
       "         2  65  45  36   1\n",
       "         3  17   6   9   3\n",
       "\n",
       "Overall Statistics\n",
       "                                        \n",
       "               Accuracy : 0.355         \n",
       "                 95% CI : (0.317, 0.395)\n",
       "    No Information Rate : 0.477         \n",
       "    P-Value [Acc > NIR] : 1             \n",
       "                                        \n",
       "                  Kappa : 0.046         \n",
       " Mcnemar's Test P-Value : 0.00000925    \n",
       "\n",
       "Statistics by Class:\n",
       "\n",
       "                     Class: 0 Class: 1 Class: 2 Class: 3\n",
       "Sensitivity             0.360    0.394    0.290   0.3000\n",
       "Specificity             0.646    0.683    0.767   0.9458\n",
       "Pos Pred Value          0.481    0.348    0.245   0.0857\n",
       "Neg Pred Value          0.526    0.725    0.806   0.9876\n",
       "Prevalence              0.477    0.300    0.207   0.0167\n",
       "Detection Rate          0.172    0.118    0.060   0.0050\n",
       "Detection Prevalence    0.357    0.340    0.245   0.0583\n",
       "Balanced Accuracy       0.503    0.539    0.529   0.6229"
      ]
     },
     "metadata": {},
     "output_type": "display_data"
    }
   ],
   "source": [
    "confusionMatrix(actual, pred_dl)"
   ]
  },
  {
   "cell_type": "markdown",
   "metadata": {
    "collapsed": true
   },
   "source": [
    "---\n",
    "# X. Ensemble the Predictions"
   ]
  },
  {
   "cell_type": "code",
   "execution_count": 411,
   "metadata": {
    "collapsed": false
   },
   "outputs": [],
   "source": [
    "# create a dataframe to store each of the predictions from each of the models we want to ensemble\n",
    "preds_df <- data.frame(matrix(ncol = 0, nrow =600))"
   ]
  },
  {
   "cell_type": "code",
   "execution_count": 412,
   "metadata": {
    "collapsed": false
   },
   "outputs": [],
   "source": [
    "preds_df$pred_knn <- pred_knn\n",
    "preds_df$pred_rf <- pred_rf\n",
    "preds_df$pred_dl <- pred_dl\n",
    "preds_df$pred_rules <- pred_rules\n",
    "preds_df$pred_xgb <- pred_xgb"
   ]
  },
  {
   "cell_type": "code",
   "execution_count": 413,
   "metadata": {
    "collapsed": false
   },
   "outputs": [
    {
     "data": {
      "text/html": [
       "<table>\n",
       "<thead><tr><th></th><th scope=col>pred_knn</th><th scope=col>pred_rf</th><th scope=col>pred_dl</th><th scope=col>pred_rules</th><th scope=col>pred_xgb</th></tr></thead>\n",
       "<tbody>\n",
       "\t<tr><th scope=row>1</th><td>1</td><td>1</td><td>0</td><td>1</td><td>1</td></tr>\n",
       "\t<tr><th scope=row>2</th><td>1</td><td>1</td><td>2</td><td>1</td><td>1</td></tr>\n",
       "\t<tr><th scope=row>3</th><td>1</td><td>0</td><td>0</td><td>0</td><td>1</td></tr>\n",
       "\t<tr><th scope=row>4</th><td>1</td><td>1</td><td>1</td><td>1</td><td>1</td></tr>\n",
       "\t<tr><th scope=row>5</th><td>1</td><td>0</td><td>1</td><td>0</td><td>1</td></tr>\n",
       "\t<tr><th scope=row>6</th><td>0</td><td>1</td><td>2</td><td>1</td><td>0</td></tr>\n",
       "</tbody>\n",
       "</table>\n"
      ],
      "text/latex": [
       "\\begin{tabular}{r|lllll}\n",
       "  & pred\\_knn & pred\\_rf & pred\\_dl & pred\\_rules & pred\\_xgb\\\\\n",
       "\\hline\n",
       "\t1 & 1 & 1 & 0 & 1 & 1\\\\\n",
       "\t2 & 1 & 1 & 2 & 1 & 1\\\\\n",
       "\t3 & 1 & 0 & 0 & 0 & 1\\\\\n",
       "\t4 & 1 & 1 & 1 & 1 & 1\\\\\n",
       "\t5 & 1 & 0 & 1 & 0 & 1\\\\\n",
       "\t6 & 0 & 1 & 2 & 1 & 0\\\\\n",
       "\\end{tabular}\n"
      ],
      "text/plain": [
       "  pred_knn pred_rf pred_dl pred_rules pred_xgb\n",
       "1        1       1       0          1        1\n",
       "2        1       1       2          1        1\n",
       "3        1       0       0          0        1\n",
       "4        1       1       1          1        1\n",
       "5        1       0       1          0        1\n",
       "6        0       1       2          1        0"
      ]
     },
     "metadata": {},
     "output_type": "display_data"
    }
   ],
   "source": [
    "head(preds_df)"
   ]
  },
  {
   "cell_type": "code",
   "execution_count": 414,
   "metadata": {
    "collapsed": false
   },
   "outputs": [
    {
     "data": {
      "text/plain": [
       "\n",
       "  0   1   2   3 \n",
       "245 238 101  16 "
      ]
     },
     "metadata": {},
     "output_type": "display_data"
    }
   ],
   "source": [
    "table(preds_df$pred_xgb)"
   ]
  },
  {
   "cell_type": "code",
   "execution_count": 418,
   "metadata": {
    "collapsed": false
   },
   "outputs": [],
   "source": [
    "preds_df <- Udf.Utilities.MajorityVotePredictions(preds_df)"
   ]
  },
  {
   "cell_type": "code",
   "execution_count": 419,
   "metadata": {
    "collapsed": false
   },
   "outputs": [
    {
     "data": {
      "text/html": [
       "<table>\n",
       "<thead><tr><th></th><th scope=col>pred_knn</th><th scope=col>pred_rf</th><th scope=col>pred_dl</th><th scope=col>pred_rules</th><th scope=col>pred_xgb</th><th scope=col>majority_pred</th></tr></thead>\n",
       "<tbody>\n",
       "\t<tr><th scope=row>1</th><td>1</td><td>1</td><td>0</td><td>1</td><td>1</td><td>1</td></tr>\n",
       "\t<tr><th scope=row>2</th><td>1</td><td>1</td><td>2</td><td>1</td><td>1</td><td>1</td></tr>\n",
       "\t<tr><th scope=row>3</th><td>1</td><td>0</td><td>0</td><td>0</td><td>1</td><td>0</td></tr>\n",
       "\t<tr><th scope=row>4</th><td>1</td><td>1</td><td>1</td><td>1</td><td>1</td><td>1</td></tr>\n",
       "\t<tr><th scope=row>5</th><td>1</td><td>0</td><td>1</td><td>0</td><td>1</td><td>0</td></tr>\n",
       "\t<tr><th scope=row>6</th><td>0</td><td>1</td><td>2</td><td>1</td><td>0</td><td>1</td></tr>\n",
       "\t<tr><th scope=row>7</th><td>0</td><td>0</td><td>0</td><td>0</td><td>0</td><td>0</td></tr>\n",
       "\t<tr><th scope=row>8</th><td>1</td><td>0</td><td>0</td><td>1</td><td>0</td><td>1</td></tr>\n",
       "\t<tr><th scope=row>9</th><td>0</td><td>1</td><td>0</td><td>0</td><td>0</td><td>0</td></tr>\n",
       "\t<tr><th scope=row>10</th><td>1</td><td>0</td><td>2</td><td>1</td><td>2</td><td>1</td></tr>\n",
       "\t<tr><th scope=row>11</th><td>0</td><td>0</td><td>2</td><td>2</td><td>0</td><td>0</td></tr>\n",
       "\t<tr><th scope=row>12</th><td>1</td><td>1</td><td>1</td><td>0</td><td>1</td><td>1</td></tr>\n",
       "\t<tr><th scope=row>13</th><td>1</td><td>1</td><td>2</td><td>2</td><td>2</td><td>1</td></tr>\n",
       "\t<tr><th scope=row>14</th><td>1</td><td>1</td><td>0</td><td>2</td><td>1</td><td>1</td></tr>\n",
       "\t<tr><th scope=row>15</th><td>0</td><td>1</td><td>2</td><td>1</td><td>1</td><td>0</td></tr>\n",
       "\t<tr><th scope=row>16</th><td>1</td><td>0</td><td>0</td><td>0</td><td>0</td><td>0</td></tr>\n",
       "\t<tr><th scope=row>17</th><td>2</td><td>0</td><td>0</td><td>1</td><td>0</td><td>0</td></tr>\n",
       "\t<tr><th scope=row>18</th><td>0</td><td>0</td><td>0</td><td>1</td><td>2</td><td>0</td></tr>\n",
       "\t<tr><th scope=row>19</th><td>0</td><td>2</td><td>1</td><td>0</td><td>2</td><td>0</td></tr>\n",
       "\t<tr><th scope=row>20</th><td>0</td><td>1</td><td>0</td><td>1</td><td>1</td><td>0</td></tr>\n",
       "</tbody>\n",
       "</table>\n"
      ],
      "text/latex": [
       "\\begin{tabular}{r|llllll}\n",
       "  & pred\\_knn & pred\\_rf & pred\\_dl & pred\\_rules & pred\\_xgb & majority\\_pred\\\\\n",
       "\\hline\n",
       "\t1 & 1 & 1 & 0 & 1 & 1 & 1\\\\\n",
       "\t2 & 1 & 1 & 2 & 1 & 1 & 1\\\\\n",
       "\t3 & 1 & 0 & 0 & 0 & 1 & 0\\\\\n",
       "\t4 & 1 & 1 & 1 & 1 & 1 & 1\\\\\n",
       "\t5 & 1 & 0 & 1 & 0 & 1 & 0\\\\\n",
       "\t6 & 0 & 1 & 2 & 1 & 0 & 1\\\\\n",
       "\t7 & 0 & 0 & 0 & 0 & 0 & 0\\\\\n",
       "\t8 & 1 & 0 & 0 & 1 & 0 & 1\\\\\n",
       "\t9 & 0 & 1 & 0 & 0 & 0 & 0\\\\\n",
       "\t10 & 1 & 0 & 2 & 1 & 2 & 1\\\\\n",
       "\t11 & 0 & 0 & 2 & 2 & 0 & 0\\\\\n",
       "\t12 & 1 & 1 & 1 & 0 & 1 & 1\\\\\n",
       "\t13 & 1 & 1 & 2 & 2 & 2 & 1\\\\\n",
       "\t14 & 1 & 1 & 0 & 2 & 1 & 1\\\\\n",
       "\t15 & 0 & 1 & 2 & 1 & 1 & 0\\\\\n",
       "\t16 & 1 & 0 & 0 & 0 & 0 & 0\\\\\n",
       "\t17 & 2 & 0 & 0 & 1 & 0 & 0\\\\\n",
       "\t18 & 0 & 0 & 0 & 1 & 2 & 0\\\\\n",
       "\t19 & 0 & 2 & 1 & 0 & 2 & 0\\\\\n",
       "\t20 & 0 & 1 & 0 & 1 & 1 & 0\\\\\n",
       "\\end{tabular}\n"
      ],
      "text/plain": [
       "   pred_knn pred_rf pred_dl pred_rules pred_xgb majority_pred\n",
       "1         1       1       0          1        1             1\n",
       "2         1       1       2          1        1             1\n",
       "3         1       0       0          0        1             0\n",
       "4         1       1       1          1        1             1\n",
       "5         1       0       1          0        1             0\n",
       "6         0       1       2          1        0             1\n",
       "7         0       0       0          0        0             0\n",
       "8         1       0       0          1        0             1\n",
       "9         0       1       0          0        0             0\n",
       "10        1       0       2          1        2             1\n",
       "11        0       0       2          2        0             0\n",
       "12        1       1       1          0        1             1\n",
       "13        1       1       2          2        2             1\n",
       "14        1       1       0          2        1             1\n",
       "15        0       1       2          1        1             0\n",
       "16        1       0       0          0        0             0\n",
       "17        2       0       0          1        0             0\n",
       "18        0       0       0          1        2             0\n",
       "19        0       2       1          0        2             0\n",
       "20        0       1       0          1        1             0"
      ]
     },
     "metadata": {},
     "output_type": "display_data"
    }
   ],
   "source": [
    "head(preds_df, 20)"
   ]
  },
  {
   "cell_type": "code",
   "execution_count": 420,
   "metadata": {
    "collapsed": false
   },
   "outputs": [
    {
     "data": {
      "text/plain": [
       "Confusion Matrix and Statistics\n",
       "\n",
       "          Reference\n",
       "Prediction   0   1   2   3\n",
       "         0 110  95   9   0\n",
       "         1  93 104   7   0\n",
       "         2  83  59   5   0\n",
       "         3  23  12   0   0\n",
       "\n",
       "Overall Statistics\n",
       "                                        \n",
       "               Accuracy : 0.365         \n",
       "                 95% CI : (0.326, 0.405)\n",
       "    No Information Rate : 0.515         \n",
       "    P-Value [Acc > NIR] : 1             \n",
       "                                        \n",
       "                  Kappa : 0.03          \n",
       " Mcnemar's Test P-Value : NA            \n",
       "\n",
       "Statistics by Class:\n",
       "\n",
       "                     Class: 0 Class: 1 Class: 2 Class: 3\n",
       "Sensitivity             0.356    0.385  0.23810       NA\n",
       "Specificity             0.643    0.697  0.75475   0.9417\n",
       "Pos Pred Value          0.514    0.510  0.03401       NA\n",
       "Neg Pred Value          0.484    0.581  0.96468       NA\n",
       "Prevalence              0.515    0.450  0.03500   0.0000\n",
       "Detection Rate          0.183    0.173  0.00833   0.0000\n",
       "Detection Prevalence    0.357    0.340  0.24500   0.0583\n",
       "Balanced Accuracy       0.499    0.541  0.49642       NA"
      ]
     },
     "metadata": {},
     "output_type": "display_data"
    }
   ],
   "source": [
    "confusionMatrix(actual, preds_df$majority_pred)"
   ]
  },
  {
   "cell_type": "markdown",
   "metadata": {},
   "source": [
    "---\n",
    "# X. Classifier Summary Report"
   ]
  },
  {
   "cell_type": "markdown",
   "metadata": {},
   "source": [
    "### XGBoost and Random Forest"
   ]
  },
  {
   "cell_type": "markdown",
   "metadata": {},
   "source": [
    "### FDA and SVM"
   ]
  },
  {
   "cell_type": "markdown",
   "metadata": {
    "collapsed": true
   },
   "source": [
    "Flexible Discriminant Analysis (FDA) was selected as FDA is not adversely affected by non-informative predictors hence not requiring feature selection tools (James, Witten, Hastie, & Tibshirani, 2015). When FDA was implemented on the prostate cancer test dataset, it showed poor accuracy at around 20%. This is due to the complexity in the FDA implementation. Using the 'caret' package to train the FDA model was complicating requiring the 'mda' package which in turn used the 'earth' package. In order to get FDA model learning required over 7 hours to implement due to the 3 packages involved. Lesson learnt, set \"pmethod = 'none'\" which is an earth() parameter used to prune the model but tune the model via train() function from the 'caret' package.\n",
    " \n",
    "Support Vector Machine (SVM) was expected to perform better than results obtained. The issue with SVM was the number of turning parameter while using polynomial, the tuning parameters being scale, degree and cost. Also SVM is sensitive to non-informative predictors requiring feature selection tools. The 'caret' package was implemented but search time was high hence forcing polynomial degree to 1 with all predictors included (excluding 'ID') to be used in the SVM model. In other words if more time was allowed the SVM model accuracy would be improved due to the ability to run longer computational searches."
   ]
  },
  {
   "cell_type": "markdown",
   "metadata": {
    "collapsed": true
   },
   "source": [
    "### Feed Forward Deep Learning Model Challenges\n",
    "There were a number of challenges developing the deep learning model. Firstly, the computational requirements of the deep learning models are quite high at training time. The training system was a now outdated Intel Core i5 with 8GB of memory. This meant that there was no option to do single thread operations due to the large number of neurons in the hidden layer. The only option was to utilise h2o library which provided a multi threaded solution via the Java traintime environment. <br />\n",
    "Even with multi threading, grid searching for hyper parameters was extremely difficult. Much of the time the grid model would error out due to memory constraints and or computational errors propergating out to the operating system (these include java runtime exceptions, and IDE C++ runtime exceptions). <br />\n",
    "Secondly, the tuning of hyper parameters is extremely difficult (at least given the current time constraints). Hyperparameters that were tuned are : <br />\n",
    "1. Nueron activation function type.\n",
    "2. Number of hidden layers and neurons in each layer.\n",
    "3. Regularisation method and strength.\n",
    "4. Number of passes.\n",
    "5. Number of folds in cross validation.\n",
    "6. Feature drop out in pass.\n",
    "There are a host of other parameters which could be tuned to achive better performance however given the time constraints, were not investigated. <br />\n",
    "As to expected, the model accuracy was very sensitive to the Nueron activation function and the hidden layers and neurons in the layers. The number of folds and the regularisation strength also played a crucial part in model accuracy control.<br />\n",
    "One of the more interesting situations we're the auto encoder output which represented a unique challenge. Due to the multi threaded design of the model, the autoencoder seed was not able to be set. Which meant the output of the autoencoder was changing every new instance it was run. So there were instances that the autoencoder output was very favourable to the network model and increase in validation set accuracy of upto 41% was achieved. However, when the transform was not favourable, the precision fell back down to as low as 30%. <br />\n",
    "To counter this affect the weights were extracted and used to transform the data the same way everytime. However, once this was identified, it represented not enough time to reparameterise the network to optimal."
   ]
  },
  {
   "cell_type": "markdown",
   "metadata": {
    "collapsed": true
   },
   "source": [
    "### Summary of Classification Performances per model"
   ]
  },
  {
   "cell_type": "markdown",
   "metadata": {},
   "source": [
    "| Model                                | Accuracy             |\n",
    "| ------------------------------------ | -------------------- |\n",
    "| XGBoost pre-cross valdation tuned    | **0.31**  |\n",
    "| XGBoost post-cross validation tuned  | ** 0.332** |    \n",
    "| RandomForest pre-feature selection   | **0.325** |\n",
    "| RandomForest post-feature selection  | **0.35**  |\n",
    "| XGBoost with PCA                     | **0.283** |\n",
    "| GBM                                  | **0.288** |\n",
    "| KNN                                  | **0.358** |\n",
    "| Classification Trees                 | **0.272** |\n",
    "| Rule-based model                     | **0.31**  |\n",
    "| Deep Learnng                         | **0.328** | \n",
    "\n",
    "\n"
   ]
  },
  {
   "cell_type": "markdown",
   "metadata": {},
   "source": [
    "### Final result of the Ensemble\n",
    "We ensembled our top 5 models using majority vote (mode) and improved our accuracy to 36.5%"
   ]
  },
  {
   "cell_type": "code",
   "execution_count": null,
   "metadata": {
    "collapsed": true
   },
   "outputs": [],
   "source": []
  },
  {
   "cell_type": "markdown",
   "metadata": {
    "collapsed": true
   },
   "source": [
    "# References <a class=\"anchor\" id=\"References\"></a>"
   ]
  },
  {
   "cell_type": "markdown",
   "metadata": {},
   "source": [
    "James, G., Witten, D., Hastie, T., Tibshirani, R. (2015). \"Introduction to Statistical Learning with Applications in R\". New York: Springer.  \n",
    "\n",
    "Kuhn, M., Johnson, K. (2013). \"Applied Predictive Modeling\", New York: Springer."
   ]
  },
  {
   "cell_type": "code",
   "execution_count": null,
   "metadata": {
    "collapsed": true
   },
   "outputs": [],
   "source": []
  }
 ],
 "metadata": {
  "anaconda-cloud": {},
  "kernelspec": {
   "display_name": "R",
   "language": "R",
   "name": "ir"
  },
  "language_info": {
   "codemirror_mode": "r",
   "file_extension": ".r",
   "mimetype": "text/x-r-source",
   "name": "R",
   "pygments_lexer": "r",
   "version": "3.3.1"
  }
 },
 "nbformat": 4,
 "nbformat_minor": 0
}
