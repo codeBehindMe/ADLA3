{
 "cells": [
  {
   "cell_type": "markdown",
   "metadata": {},
   "source": [
    "# Assessment 3 - A new tool for detecting prostate cancers\n",
    "### Authors: Jeffrey Mills (28083938), \n",
    "\n",
    "**Required Libraries -** The following R libraries are referenced in this notebook\n",
    "* glmnet\n",
    "* ROCR\n",
    "---\n",
    "### Table of Contents\n",
    "\n",
    "[1. Exploratory Data Analysis](#1.-Exploratory-Data-Analysis)\n",
    "\n",
    "[2. EDA Report](#2.-EDA-Report)\n",
    "\n",
    "[3. XGBoost](#3.-XGBoost)\n",
    "\n",
    "[4. Random Forest](#4.-Random-Forest)\n",
    "\n",
    "---"
   ]
  },
  {
   "cell_type": "code",
   "execution_count": 1,
   "metadata": {
    "collapsed": true
   },
   "outputs": [],
   "source": [
    "# disable scientific notation and set to 4 digits\n",
    "options(scipen=999)\n",
    "options(digits=4)\n",
    "# set the default plot size\n",
    "options(repr.plot.width = 6)\n",
    "options(repr.plot.height = 4)\n",
    "seed=123"
   ]
  },
  {
   "cell_type": "code",
   "execution_count": 2,
   "metadata": {
    "collapsed": false
   },
   "outputs": [],
   "source": [
    "# install packages ggplot2 for more fancier plots and graphs\n",
    "# and psych for a more comprehensive stats package\n",
    "# only install if not already installed\n",
    "list.of.packages <- c(\"ggplot2\", \"psych\", \"ROCR\", \"leaps\", \"glmnet\", \"caret\", \"xgboost\", \"Matrix\", \"Ckmeans.1d.dp\", \n",
    "                     \"randomForest\", \"caretEnsemble\", \"MASS\", \"DMwR\", \"ROSE\", \"plyr\")\n",
    "new.packages <- list.of.packages[!(list.of.packages %in% installed.packages()[,\"Package\"])]\n",
    "if(length(new.packages)) install.packages(new.packages, repos=\"http://cran.uk.r-project.org\")"
   ]
  },
  {
   "cell_type": "code",
   "execution_count": 3,
   "metadata": {
    "collapsed": false
   },
   "outputs": [
    {
     "name": "stderr",
     "output_type": "stream",
     "text": [
      "\n",
      "Attaching package: 'psych'\n",
      "\n",
      "The following objects are masked from 'package:ggplot2':\n",
      "\n",
      "    %+%, alpha\n",
      "\n",
      "Warning message:\n",
      "\"package 'ROCR' was built under R version 3.3.2\"Loading required package: gplots\n",
      "Warning message:\n",
      "\"package 'gplots' was built under R version 3.3.2\"\n",
      "Attaching package: 'gplots'\n",
      "\n",
      "The following object is masked from 'package:stats':\n",
      "\n",
      "    lowess\n",
      "\n",
      "Loading required package: lattice\n",
      "Warning message:\n",
      "\"package 'caretEnsemble' was built under R version 3.3.2\"\n",
      "Attaching package: 'caretEnsemble'\n",
      "\n",
      "The following object is masked from 'package:ggplot2':\n",
      "\n",
      "    autoplot\n",
      "\n",
      "Warning message:\n",
      "\"package 'xgboost' was built under R version 3.3.2\"Warning message:\n",
      "\"package 'Ckmeans.1d.dp' was built under R version 3.3.2\"randomForest 4.6-12\n",
      "Type rfNews() to see new features/changes/bug fixes.\n",
      "\n",
      "Attaching package: 'randomForest'\n",
      "\n",
      "The following object is masked from 'package:psych':\n",
      "\n",
      "    outlier\n",
      "\n",
      "The following object is masked from 'package:ggplot2':\n",
      "\n",
      "    margin\n",
      "\n",
      "Warning message:\n",
      "\"package 'DMwR' was built under R version 3.3.2\"Loading required package: grid\n",
      "Warning message:\n",
      "\"package 'ROSE' was built under R version 3.3.2\"Loaded ROSE 0.0-3\n",
      "\n",
      "\n",
      "Attaching package: 'plyr'\n",
      "\n",
      "The following object is masked from 'package:DMwR':\n",
      "\n",
      "    join\n",
      "\n"
     ]
    }
   ],
   "source": [
    "# import ggplot for some of the more fancier plots if needed\n",
    "library(\"ggplot2\")\n",
    "# import more comprehensive summary stats package\n",
    "library(psych)\n",
    "# import ROCR for easier model performance checking\n",
    "library(\"ROCR\")\n",
    "\n",
    "library(\"caret\")\n",
    "library(\"caretEnsemble\")\n",
    "library(\"MASS\")\n",
    "\n",
    "library(\"xgboost\")\n",
    "library(\"Matrix\")\n",
    "library(\"Ckmeans.1d.dp\")\n",
    "library(\"randomForest\")\n",
    "library(\"DMwR\")\n",
    "library(\"ROSE\")\n",
    "library(\"plyr\")"
   ]
  },
  {
   "cell_type": "code",
   "execution_count": 4,
   "metadata": {
    "collapsed": false
   },
   "outputs": [],
   "source": [
    "# import local utilities.R file\n",
    "source(\"./utilities.r\")"
   ]
  },
  {
   "cell_type": "markdown",
   "metadata": {},
   "source": [
    "## 1. Exploratory Data Analysis"
   ]
  },
  {
   "cell_type": "code",
   "execution_count": 5,
   "metadata": {
    "collapsed": true
   },
   "outputs": [],
   "source": [
    "prostate <- read.csv(\"./prostate.csv\")"
   ]
  },
  {
   "cell_type": "code",
   "execution_count": null,
   "metadata": {
    "collapsed": false
   },
   "outputs": [],
   "source": []
  },
  {
   "cell_type": "code",
   "execution_count": 6,
   "metadata": {
    "collapsed": false
   },
   "outputs": [
    {
     "data": {
      "text/html": [
       "<table>\n",
       "<thead><tr><th></th><th scope=col>ID</th><th scope=col>ATT1</th><th scope=col>ATT2</th><th scope=col>ATT3</th><th scope=col>ATT4</th><th scope=col>ATT5</th><th scope=col>ATT6</th><th scope=col>ATT7</th><th scope=col>ATT8</th><th scope=col>ATT9</th><th scope=col>ATT10</th><th scope=col>Result</th></tr></thead>\n",
       "<tbody>\n",
       "\t<tr><th scope=row>1</th><td>1</td><td>2</td><td>4</td><td>2</td><td>6</td><td>5</td><td>7</td><td>1</td><td>2</td><td>6</td><td>8</td><td>0</td></tr>\n",
       "\t<tr><th scope=row>2</th><td> 2</td><td> 5</td><td> 8</td><td>10</td><td> 2</td><td> 2</td><td> 1</td><td> 1</td><td> 5</td><td> 6</td><td> 1</td><td> 1</td></tr>\n",
       "\t<tr><th scope=row>3</th><td>3</td><td>3</td><td>7</td><td>7</td><td>9</td><td>2</td><td>5</td><td>2</td><td>7</td><td>1</td><td>1</td><td>1</td></tr>\n",
       "\t<tr><th scope=row>4</th><td>4</td><td>5</td><td>4</td><td>5</td><td>9</td><td>4</td><td>8</td><td>4</td><td>6</td><td>7</td><td>2</td><td>0</td></tr>\n",
       "\t<tr><th scope=row>5</th><td>5</td><td>5</td><td>5</td><td>4</td><td>2</td><td>8</td><td>5</td><td>3</td><td>1</td><td>7</td><td>1</td><td>2</td></tr>\n",
       "\t<tr><th scope=row>6</th><td> 6</td><td> 4</td><td> 7</td><td> 5</td><td> 4</td><td> 2</td><td> 4</td><td>10</td><td> 3</td><td> 9</td><td> 5</td><td> 0</td></tr>\n",
       "</tbody>\n",
       "</table>\n"
      ],
      "text/latex": [
       "\\begin{tabular}{r|llllllllllll}\n",
       "  & ID & ATT1 & ATT2 & ATT3 & ATT4 & ATT5 & ATT6 & ATT7 & ATT8 & ATT9 & ATT10 & Result\\\\\n",
       "\\hline\n",
       "\t1 & 1 & 2 & 4 & 2 & 6 & 5 & 7 & 1 & 2 & 6 & 8 & 0\\\\\n",
       "\t2 &  2 &  5 &  8 & 10 &  2 &  2 &  1 &  1 &  5 &  6 &  1 &  1\\\\\n",
       "\t3 & 3 & 3 & 7 & 7 & 9 & 2 & 5 & 2 & 7 & 1 & 1 & 1\\\\\n",
       "\t4 & 4 & 5 & 4 & 5 & 9 & 4 & 8 & 4 & 6 & 7 & 2 & 0\\\\\n",
       "\t5 & 5 & 5 & 5 & 4 & 2 & 8 & 5 & 3 & 1 & 7 & 1 & 2\\\\\n",
       "\t6 &  6 &  4 &  7 &  5 &  4 &  2 &  4 & 10 &  3 &  9 &  5 &  0\\\\\n",
       "\\end{tabular}\n"
      ],
      "text/plain": [
       "  ID ATT1 ATT2 ATT3 ATT4 ATT5 ATT6 ATT7 ATT8 ATT9 ATT10 Result\n",
       "1  1    2    4    2    6    5    7    1    2    6     8      0\n",
       "2  2    5    8   10    2    2    1    1    5    6     1      1\n",
       "3  3    3    7    7    9    2    5    2    7    1     1      1\n",
       "4  4    5    4    5    9    4    8    4    6    7     2      0\n",
       "5  5    5    5    4    2    8    5    3    1    7     1      2\n",
       "6  6    4    7    5    4    2    4   10    3    9     5      0"
      ]
     },
     "metadata": {},
     "output_type": "display_data"
    }
   ],
   "source": [
    "# Check the head of the dataframe\n",
    "head(prostate)"
   ]
  },
  {
   "cell_type": "code",
   "execution_count": 7,
   "metadata": {
    "collapsed": false
   },
   "outputs": [
    {
     "name": "stdout",
     "output_type": "stream",
     "text": [
      "'data.frame':\t3000 obs. of  12 variables:\n",
      " $ ID    : int  1 2 3 4 5 6 7 8 9 10 ...\n",
      " $ ATT1  : int  2 5 3 5 5 4 2 10 4 2 ...\n",
      " $ ATT2  : int  4 8 7 4 5 7 1 5 9 1 ...\n",
      " $ ATT3  : int  2 10 7 5 4 5 5 4 4 2 ...\n",
      " $ ATT4  : int  6 2 9 9 2 4 7 8 2 10 ...\n",
      " $ ATT5  : int  5 2 2 4 8 2 10 4 6 10 ...\n",
      " $ ATT6  : int  7 1 5 8 5 4 3 7 6 2 ...\n",
      " $ ATT7  : int  1 1 2 4 3 10 7 3 8 2 ...\n",
      " $ ATT8  : int  2 5 7 6 1 3 1 6 8 5 ...\n",
      " $ ATT9  : int  6 6 1 7 7 9 10 7 4 1 ...\n",
      " $ ATT10 : int  8 1 1 2 1 5 7 3 3 3 ...\n",
      " $ Result: int  0 1 1 0 2 0 0 3 0 3 ...\n"
     ]
    }
   ],
   "source": [
    "# Check structure of the datatypes\n",
    "str(prostate)"
   ]
  },
  {
   "cell_type": "markdown",
   "metadata": {},
   "source": [
    "We can drop the ID column as it adds no benefit to our modelling"
   ]
  },
  {
   "cell_type": "code",
   "execution_count": 8,
   "metadata": {
    "collapsed": false
   },
   "outputs": [],
   "source": [
    "prostate$ID <- NULL"
   ]
  },
  {
   "cell_type": "markdown",
   "metadata": {},
   "source": [
    "Given that we know the **Result** variable is our target variable which represents one of 4 stages of the cancer (0 for curable, and 1 for tumour stage, 2 for node stage and 3 for incurable cancers) - this should be represented as a factor. "
   ]
  },
  {
   "cell_type": "code",
   "execution_count": 9,
   "metadata": {
    "collapsed": false
   },
   "outputs": [],
   "source": [
    "prostate$Result <- as.factor(prostate$Result) "
   ]
  },
  {
   "cell_type": "code",
   "execution_count": 10,
   "metadata": {
    "collapsed": false
   },
   "outputs": [
    {
     "data": {
      "text/html": [
       "3000"
      ],
      "text/latex": [
       "3000"
      ],
      "text/markdown": [
       "3000"
      ],
      "text/plain": [
       "[1] 3000"
      ]
     },
     "metadata": {},
     "output_type": "display_data"
    }
   ],
   "source": [
    "# Let's check for incomplete observations\n",
    "nrow(prostate[complete.cases(prostate),])"
   ]
  },
  {
   "cell_type": "code",
   "execution_count": 11,
   "metadata": {
    "collapsed": false
   },
   "outputs": [
    {
     "name": "stdout",
     "output_type": "stream",
     "text": [
      "\n",
      "   0    1    2    3 \n",
      "1082 1080  642  196 \n"
     ]
    }
   ],
   "source": [
    "# Check the proportions of each factor within the Result variable in our train set\n",
    "print(table(prostate$Result))"
   ]
  },
  {
   "cell_type": "markdown",
   "metadata": {},
   "source": [
    "We have class imbalance. This will need to be addressed when training our models, potentially with some sampling techniques. "
   ]
  },
  {
   "cell_type": "code",
   "execution_count": 12,
   "metadata": {
    "collapsed": false
   },
   "outputs": [
    {
     "data": {
      "text/html": [
       "<table>\n",
       "<thead><tr><th></th><th scope=col>vars</th><th scope=col>n</th><th scope=col>mean</th><th scope=col>sd</th><th scope=col>median</th><th scope=col>trimmed</th><th scope=col>mad</th><th scope=col>min</th><th scope=col>max</th><th scope=col>range</th><th scope=col>skew</th><th scope=col>kurtosis</th><th scope=col>se</th></tr></thead>\n",
       "<tbody>\n",
       "\t<tr><th scope=row>ATT1</th><td>   1.000</td><td>3000.000</td><td>   5.815</td><td>   2.661</td><td>   6.000</td><td>   5.769</td><td>   2.965</td><td>   2.000</td><td>  10.000</td><td>   8.000</td><td>   0.097</td><td>  -1.177</td><td>   0.049</td></tr>\n",
       "\t<tr><th scope=row>ATT2</th><td>   2.000</td><td>3000.000</td><td>   4.501</td><td>   2.748</td><td>   4.000</td><td>   4.315</td><td>   2.965</td><td>   1.000</td><td>  10.000</td><td>   9.000</td><td>   0.402</td><td>  -0.980</td><td>   0.050</td></tr>\n",
       "\t<tr><th scope=row>ATT3</th><td>   3.000</td><td>3000.000</td><td>   5.830</td><td>   2.655</td><td>   6.000</td><td>   5.788</td><td>   2.965</td><td>   2.000</td><td>  10.000</td><td>   8.000</td><td>   0.099</td><td>  -1.173</td><td>   0.048</td></tr>\n",
       "\t<tr><th scope=row>ATT4</th><td>   4.000</td><td>3000.000</td><td>   5.829</td><td>   2.634</td><td>   6.000</td><td>   5.786</td><td>   2.965</td><td>   2.000</td><td>  10.000</td><td>   8.000</td><td>   0.083</td><td>  -1.165</td><td>   0.048</td></tr>\n",
       "\t<tr><th scope=row>ATT5</th><td>   5.000</td><td>3000.000</td><td>   5.755</td><td>   2.622</td><td>   6.000</td><td>   5.694</td><td>   2.965</td><td>   2.000</td><td>  10.000</td><td>   8.000</td><td>   0.129</td><td>  -1.129</td><td>   0.048</td></tr>\n",
       "\t<tr><th scope=row>ATT6</th><td>   6.000</td><td>3000.000</td><td>   4.431</td><td>   2.694</td><td>   4.000</td><td>   4.240</td><td>   2.965</td><td>   1.000</td><td>  10.000</td><td>   9.000</td><td>   0.446</td><td>  -0.930</td><td>   0.049</td></tr>\n",
       "\t<tr><th scope=row>ATT7</th><td>   7.000</td><td>3000.000</td><td>   4.479</td><td>   2.741</td><td>   4.000</td><td>   4.297</td><td>   2.965</td><td>   1.000</td><td>  10.000</td><td>   9.000</td><td>   0.393</td><td>  -1.035</td><td>   0.050</td></tr>\n",
       "\t<tr><th scope=row>ATT8</th><td>   8.000</td><td>3000.000</td><td>   4.478</td><td>   2.720</td><td>   4.000</td><td>   4.292</td><td>   2.965</td><td>   1.000</td><td>  10.000</td><td>   9.000</td><td>   0.398</td><td>  -0.962</td><td>   0.050</td></tr>\n",
       "\t<tr><th scope=row>ATT9</th><td>   9.000</td><td>3000.000</td><td>   4.446</td><td>   2.678</td><td>   4.000</td><td>   4.254</td><td>   2.965</td><td>   1.000</td><td>  10.000</td><td>   9.000</td><td>   0.428</td><td>  -0.901</td><td>   0.049</td></tr>\n",
       "\t<tr><th scope=row>ATT10</th><td>  10.000</td><td>3000.000</td><td>   4.459</td><td>   2.698</td><td>   4.000</td><td>   4.271</td><td>   2.965</td><td>   1.000</td><td>  10.000</td><td>   9.000</td><td>   0.409</td><td>  -0.940</td><td>   0.049</td></tr>\n",
       "\t<tr><th scope=row>Result*</th><td>  11.000</td><td>3000.000</td><td>   1.984</td><td>   0.914</td><td>   2.000</td><td>   1.898</td><td>   1.483</td><td>   1.000</td><td>   4.000</td><td>   3.000</td><td>   0.544</td><td>  -0.646</td><td>   0.017</td></tr>\n",
       "</tbody>\n",
       "</table>\n"
      ],
      "text/latex": [
       "\\begin{tabular}{r|lllllllllllll}\n",
       "  & vars & n & mean & sd & median & trimmed & mad & min & max & range & skew & kurtosis & se\\\\\n",
       "\\hline\n",
       "\tATT1 &    1.000 & 3000.000 &    5.815 &    2.661 &    6.000 &    5.769 &    2.965 &    2.000 &   10.000 &    8.000 &    0.097 &   -1.177 &    0.049\\\\\n",
       "\tATT2 &    2.000 & 3000.000 &    4.501 &    2.748 &    4.000 &    4.315 &    2.965 &    1.000 &   10.000 &    9.000 &    0.402 &   -0.980 &    0.050\\\\\n",
       "\tATT3 &    3.000 & 3000.000 &    5.830 &    2.655 &    6.000 &    5.788 &    2.965 &    2.000 &   10.000 &    8.000 &    0.099 &   -1.173 &    0.048\\\\\n",
       "\tATT4 &    4.000 & 3000.000 &    5.829 &    2.634 &    6.000 &    5.786 &    2.965 &    2.000 &   10.000 &    8.000 &    0.083 &   -1.165 &    0.048\\\\\n",
       "\tATT5 &    5.000 & 3000.000 &    5.755 &    2.622 &    6.000 &    5.694 &    2.965 &    2.000 &   10.000 &    8.000 &    0.129 &   -1.129 &    0.048\\\\\n",
       "\tATT6 &    6.000 & 3000.000 &    4.431 &    2.694 &    4.000 &    4.240 &    2.965 &    1.000 &   10.000 &    9.000 &    0.446 &   -0.930 &    0.049\\\\\n",
       "\tATT7 &    7.000 & 3000.000 &    4.479 &    2.741 &    4.000 &    4.297 &    2.965 &    1.000 &   10.000 &    9.000 &    0.393 &   -1.035 &    0.050\\\\\n",
       "\tATT8 &    8.000 & 3000.000 &    4.478 &    2.720 &    4.000 &    4.292 &    2.965 &    1.000 &   10.000 &    9.000 &    0.398 &   -0.962 &    0.050\\\\\n",
       "\tATT9 &    9.000 & 3000.000 &    4.446 &    2.678 &    4.000 &    4.254 &    2.965 &    1.000 &   10.000 &    9.000 &    0.428 &   -0.901 &    0.049\\\\\n",
       "\tATT10 &   10.000 & 3000.000 &    4.459 &    2.698 &    4.000 &    4.271 &    2.965 &    1.000 &   10.000 &    9.000 &    0.409 &   -0.940 &    0.049\\\\\n",
       "\tResult* &   11.000 & 3000.000 &    1.984 &    0.914 &    2.000 &    1.898 &    1.483 &    1.000 &    4.000 &    3.000 &    0.544 &   -0.646 &    0.017\\\\\n",
       "\\end{tabular}\n"
      ],
      "text/plain": [
       "        vars    n mean   sd median trimmed  mad min max range skew kurtosis\n",
       "ATT1       1 3000 5.82 2.66      6    5.77 2.96   2  10     8 0.10    -1.18\n",
       "ATT2       2 3000 4.50 2.75      4    4.32 2.96   1  10     9 0.40    -0.98\n",
       "ATT3       3 3000 5.83 2.65      6    5.79 2.96   2  10     8 0.10    -1.17\n",
       "ATT4       4 3000 5.83 2.63      6    5.79 2.96   2  10     8 0.08    -1.17\n",
       "ATT5       5 3000 5.75 2.62      6    5.69 2.96   2  10     8 0.13    -1.13\n",
       "ATT6       6 3000 4.43 2.69      4    4.24 2.96   1  10     9 0.45    -0.93\n",
       "ATT7       7 3000 4.48 2.74      4    4.30 2.96   1  10     9 0.39    -1.03\n",
       "ATT8       8 3000 4.48 2.72      4    4.29 2.96   1  10     9 0.40    -0.96\n",
       "ATT9       9 3000 4.45 2.68      4    4.25 2.96   1  10     9 0.43    -0.90\n",
       "ATT10     10 3000 4.46 2.70      4    4.27 2.96   1  10     9 0.41    -0.94\n",
       "Result*   11 3000 1.98 0.91      2    1.90 1.48   1   4     3 0.54    -0.65\n",
       "          se\n",
       "ATT1    0.05\n",
       "ATT2    0.05\n",
       "ATT3    0.05\n",
       "ATT4    0.05\n",
       "ATT5    0.05\n",
       "ATT6    0.05\n",
       "ATT7    0.05\n",
       "ATT8    0.05\n",
       "ATT9    0.05\n",
       "ATT10   0.05\n",
       "Result* 0.02"
      ]
     },
     "metadata": {},
     "output_type": "display_data"
    }
   ],
   "source": [
    "round(describe(prostate), 3)"
   ]
  },
  {
   "cell_type": "code",
   "execution_count": 13,
   "metadata": {
    "collapsed": false
   },
   "outputs": [
    {
     "data": {
      "image/png": "[encoded data removed]",
      "text/plain": [
       "plot without title"
      ]
     },
     "metadata": {},
     "output_type": "display_data"
    },
    {
     "data": {
      "image/png": "[encoded data removed]",
      "text/plain": [
       "plot without title"
      ]
     },
     "metadata": {},
     "output_type": "display_data"
    },
    {
     "data": {
      "image/png": "[encoded data removed]",
      "text/plain": [
       "plot without title"
      ]
     },
     "metadata": {},
     "output_type": "display_data"
    },
    {
     "data": {
      "image/png": "[encoded data removed]",
      "text/plain": [
       "plot without title"
      ]
     },
     "metadata": {},
     "output_type": "display_data"
    },
    {
     "data": {
      "image/png": "[encoded data removed]",
      "text/plain": [
       "plot without title"
      ]
     },
     "metadata": {},
     "output_type": "display_data"
    },
    {
     "data": {
      "image/png": "[encoded data removed]",
      "text/plain": [
       "plot without title"
      ]
     },
     "metadata": {},
     "output_type": "display_data"
    },
    {
     "data": {
      "image/png": "[encoded data removed]",
      "text/plain": [
       "plot without title"
      ]
     },
     "metadata": {},
     "output_type": "display_data"
    },
    {
     "data": {
      "image/png": "[encoded data removed]",
      "text/plain": [
       "plot without title"
      ]
     },
     "metadata": {},
     "output_type": "display_data"
    },
    {
     "data": {
      "image/png": "[encoded data removed]",
      "text/plain": [
       "plot without title"
      ]
     },
     "metadata": {},
     "output_type": "display_data"
    },
    {
     "data": {
      "image/png": "[encoded data removed]",
      "text/plain": [
       "plot without title"
      ]
     },
     "metadata": {},
     "output_type": "display_data"
    }
   ],
   "source": [
    "oldpar <- par() #this records all the default settings\n",
    "par(mfrow=c(1,2)) # this makes to plots in one row\n",
    "par(mar=c(2.1,4.1,2.1,1.1)) #BLTR\n",
    "options(repr.plot.width=8, repr.plot.height=2.5)\n",
    "for (i in names(prostate)) {\n",
    "    if (i != \"Result\") {\n",
    "        hist(prostate[[i]],xlab=NULL,main=NULL)\n",
    "        boxplot(prostate[[i]])\n",
    "        mtext(i,side=3,line=-2, outer=TRUE)\n",
    "    }\n",
    "}\n",
    "suppressWarnings( par(oldpar)) # Restore settings"
   ]
  },
  {
   "cell_type": "code",
   "execution_count": 14,
   "metadata": {
    "collapsed": false,
    "scrolled": false
   },
   "outputs": [
    {
     "data": {},
     "metadata": {},
     "output_type": "display_data"
    },
    {
     "data": {},
     "metadata": {},
     "output_type": "display_data"
    },
    {
     "data": {
      "image/png": "[encoded data removed]",
      "text/plain": [
       "plot without title"
      ]
     },
     "metadata": {},
     "output_type": "display_data"
    },
    {
     "data": {
      "image/png": "[encoded data removed]",
      "text/plain": [
       "plot without title"
      ]
     },
     "metadata": {},
     "output_type": "display_data"
    }
   ],
   "source": [
    "options(repr.plot.width = 3)\n",
    "options(repr.plot.height = 2)\n",
    "ggplot(prostate, aes(x = Result, y = ATT1)) + geom_boxplot()\n",
    "#ggplot(prostate, aes(x = Result, y = ATT2)) + geom_boxplot()\n",
    "#ggplot(prostate, aes(x = Result, y = ATT3)) + geom_boxplot()\n",
    "#ggplot(prostate, aes(x = Result, y = ATT4)) + geom_boxplot()\n",
    "#ggplot(prostate, aes(x = Result, y = ATT5)) + geom_boxplot()\n",
    "#ggplot(prostate, aes(x = Result, y = ATT6)) + geom_boxplot()\n",
    "#ggplot(prostate, aes(x = Result, y = ATT7)) + geom_boxplot()\n",
    "#ggplot(prostate, aes(x = Result, y = ATT8)) + geom_boxplot()\n",
    "#ggplot(prostate, aes(x = Result, y = ATT9)) + geom_boxplot()\n",
    "ggplot(prostate, aes(x = Result, y = ATT10)) + geom_boxplot()\n",
    "options(repr.plot.width = 6)\n",
    "options(repr.plot.height = 4)"
   ]
  },
  {
   "cell_type": "code",
   "execution_count": 15,
   "metadata": {
    "collapsed": false
   },
   "outputs": [
    {
     "data": {},
     "metadata": {},
     "output_type": "display_data"
    },
    {
     "data": {
      "image/png": "[encoded data removed]",
      "text/plain": [
       "plot without title"
      ]
     },
     "metadata": {},
     "output_type": "display_data"
    }
   ],
   "source": [
    "ggplot(aes(x=ATT1, y=ATT2, color=Result),  #by setting color=color, ggplot automatically draw in different colors\n",
    "       data=prostate) + geom_point(stat='summary', fun.y=median)"
   ]
  },
  {
   "cell_type": "code",
   "execution_count": 16,
   "metadata": {
    "collapsed": false
   },
   "outputs": [
    {
     "data": {},
     "metadata": {},
     "output_type": "display_data"
    },
    {
     "data": {
      "image/png": "[encoded data removed]",
      "text/plain": [
       "plot without title"
      ]
     },
     "metadata": {},
     "output_type": "display_data"
    }
   ],
   "source": [
    "qplot(ATT1, ATT2, colour=Result, data=prostate)"
   ]
  },
  {
   "cell_type": "code",
   "execution_count": 17,
   "metadata": {
    "collapsed": false
   },
   "outputs": [
    {
     "data": {},
     "metadata": {},
     "output_type": "display_data"
    },
    {
     "data": {},
     "metadata": {},
     "output_type": "display_data"
    },
    {
     "data": {
      "image/png": "[encoded data removed]",
      "text/plain": [
       "plot without title"
      ]
     },
     "metadata": {},
     "output_type": "display_data"
    },
    {
     "data": {},
     "metadata": {},
     "output_type": "display_data"
    },
    {
     "data": {
      "image/png": "[encoded data removed]",
      "text/plain": [
       "plot without title"
      ]
     },
     "metadata": {},
     "output_type": "display_data"
    },
    {
     "data": {
      "image/png": "[encoded data removed]",
      "text/plain": [
       "plot without title"
      ]
     },
     "metadata": {},
     "output_type": "display_data"
    }
   ],
   "source": [
    "Udf.Utilities.Jitter(prostate,\"ATT1\",\"ATT2\",\"Result\")\n",
    "Udf.Utilities.Jitter(prostate, \"ATT2\", \"ATT3\", \"Result\")\n",
    "Udf.Utilities.Jitter(prostate, \"ATT3\", \"ATT4\", \"Result\")"
   ]
  },
  {
   "cell_type": "code",
   "execution_count": 18,
   "metadata": {
    "collapsed": false
   },
   "outputs": [
    {
     "data": {
      "text/html": [
       "<table>\n",
       "<thead><tr><th></th><th scope=col>ATT1</th><th scope=col>ATT2</th><th scope=col>ATT3</th><th scope=col>ATT4</th><th scope=col>ATT5</th><th scope=col>ATT6</th><th scope=col>ATT7</th><th scope=col>ATT8</th><th scope=col>ATT9</th><th scope=col>ATT10</th><th scope=col>Result</th></tr></thead>\n",
       "<tbody>\n",
       "\t<tr><th scope=row>1</th><td>2</td><td>4</td><td>2</td><td>6</td><td>5</td><td>7</td><td>1</td><td>2</td><td>6</td><td>8</td><td>0</td></tr>\n",
       "\t<tr><th scope=row>2</th><td>5 </td><td>8 </td><td>10</td><td>2 </td><td>2 </td><td>1 </td><td>1 </td><td>5 </td><td>6 </td><td>1 </td><td>1 </td></tr>\n",
       "\t<tr><th scope=row>3</th><td>3</td><td>7</td><td>7</td><td>9</td><td>2</td><td>5</td><td>2</td><td>7</td><td>1</td><td>1</td><td>1</td></tr>\n",
       "\t<tr><th scope=row>4</th><td>5</td><td>4</td><td>5</td><td>9</td><td>4</td><td>8</td><td>4</td><td>6</td><td>7</td><td>2</td><td>0</td></tr>\n",
       "\t<tr><th scope=row>5</th><td>5</td><td>5</td><td>4</td><td>2</td><td>8</td><td>5</td><td>3</td><td>1</td><td>7</td><td>1</td><td>2</td></tr>\n",
       "\t<tr><th scope=row>6</th><td>4 </td><td>7 </td><td>5 </td><td>4 </td><td>2 </td><td>4 </td><td>10</td><td>3 </td><td>9 </td><td>5 </td><td>0 </td></tr>\n",
       "</tbody>\n",
       "</table>\n"
      ],
      "text/latex": [
       "\\begin{tabular}{r|lllllllllll}\n",
       "  & ATT1 & ATT2 & ATT3 & ATT4 & ATT5 & ATT6 & ATT7 & ATT8 & ATT9 & ATT10 & Result\\\\\n",
       "\\hline\n",
       "\t1 & 2 & 4 & 2 & 6 & 5 & 7 & 1 & 2 & 6 & 8 & 0\\\\\n",
       "\t2 & 5  & 8  & 10 & 2  & 2  & 1  & 1  & 5  & 6  & 1  & 1 \\\\\n",
       "\t3 & 3 & 7 & 7 & 9 & 2 & 5 & 2 & 7 & 1 & 1 & 1\\\\\n",
       "\t4 & 5 & 4 & 5 & 9 & 4 & 8 & 4 & 6 & 7 & 2 & 0\\\\\n",
       "\t5 & 5 & 5 & 4 & 2 & 8 & 5 & 3 & 1 & 7 & 1 & 2\\\\\n",
       "\t6 & 4  & 7  & 5  & 4  & 2  & 4  & 10 & 3  & 9  & 5  & 0 \\\\\n",
       "\\end{tabular}\n"
      ],
      "text/plain": [
       "  ATT1 ATT2 ATT3 ATT4 ATT5 ATT6 ATT7 ATT8 ATT9 ATT10 Result\n",
       "1    2    4    2    6    5    7    1    2    6     8      0\n",
       "2    5    8   10    2    2    1    1    5    6     1      1\n",
       "3    3    7    7    9    2    5    2    7    1     1      1\n",
       "4    5    4    5    9    4    8    4    6    7     2      0\n",
       "5    5    5    4    2    8    5    3    1    7     1      2\n",
       "6    4    7    5    4    2    4   10    3    9     5      0"
      ]
     },
     "metadata": {},
     "output_type": "display_data"
    }
   ],
   "source": [
    "head(prostate)"
   ]
  },
  {
   "cell_type": "code",
   "execution_count": 22,
   "metadata": {
    "collapsed": false
   },
   "outputs": [
    {
     "data": {
      "text/html": [
       "<dl class=dl-horizontal>\n",
       "\t<dt>ATT1</dt>\n",
       "\t\t<dd>0.00865190745133651</dd>\n",
       "\t<dt>ATT2</dt>\n",
       "\t\t<dd>-0.00383961791503946</dd>\n",
       "\t<dt>ATT3</dt>\n",
       "\t\t<dd>0.000254906298457295</dd>\n",
       "\t<dt>ATT4</dt>\n",
       "\t\t<dd>-0.0100007463493493</dd>\n",
       "\t<dt>ATT5</dt>\n",
       "\t\t<dd>-0.00205284465856162</dd>\n",
       "\t<dt>ATT6</dt>\n",
       "\t\t<dd>0.00063463468914256</dd>\n",
       "\t<dt>ATT7</dt>\n",
       "\t\t<dd>-0.0352599714066862</dd>\n",
       "\t<dt>ATT8</dt>\n",
       "\t\t<dd>-0.0380930253754055</dd>\n",
       "\t<dt>ATT9</dt>\n",
       "\t\t<dd>-0.0215928911951695</dd>\n",
       "\t<dt>ATT10</dt>\n",
       "\t\t<dd>0.00770912074609794</dd>\n",
       "\t<dt>Result</dt>\n",
       "\t\t<dd>1</dd>\n",
       "</dl>\n"
      ],
      "text/latex": [
       "\\begin{description*}\n",
       "\\item[ATT1] 0.00865190745133651\n",
       "\\item[ATT2] -0.00383961791503946\n",
       "\\item[ATT3] 0.000254906298457295\n",
       "\\item[ATT4] -0.0100007463493493\n",
       "\\item[ATT5] -0.00205284465856162\n",
       "\\item[ATT6] 0.00063463468914256\n",
       "\\item[ATT7] -0.0352599714066862\n",
       "\\item[ATT8] -0.0380930253754055\n",
       "\\item[ATT9] -0.0215928911951695\n",
       "\\item[ATT10] 0.00770912074609794\n",
       "\\item[Result] 1\n",
       "\\end{description*}\n"
      ],
      "text/markdown": [
       "ATT1\n",
       ":   0.00865190745133651ATT2\n",
       ":   -0.00383961791503946ATT3\n",
       ":   0.000254906298457295ATT4\n",
       ":   -0.0100007463493493ATT5\n",
       ":   -0.00205284465856162ATT6\n",
       ":   0.00063463468914256ATT7\n",
       ":   -0.0352599714066862ATT8\n",
       ":   -0.0380930253754055ATT9\n",
       ":   -0.0215928911951695ATT10\n",
       ":   0.00770912074609794Result\n",
       ":   1\n",
       "\n"
      ],
      "text/plain": [
       "      ATT1       ATT2       ATT3       ATT4       ATT5       ATT6       ATT7 \n",
       " 0.0086519 -0.0038396  0.0002549 -0.0100007 -0.0020528  0.0006346 -0.0352600 \n",
       "      ATT8       ATT9      ATT10     Result \n",
       "-0.0380930 -0.0215929  0.0077091  1.0000000 "
      ]
     },
     "metadata": {},
     "output_type": "display_data"
    }
   ],
   "source": [
    "# drop Result back to numeric temporarily to see correclations\n",
    "prostate$Result <- as.numeric(prostate$Result) \n",
    "\n",
    "# show each of the correlations with price\n",
    "cor(prostate[sapply(prostate, is.numeric)])[,'Result']\n",
    "\n",
    "prostate$Result <- as.factor(prostate$Result) "
   ]
  },
  {
   "cell_type": "markdown",
   "metadata": {},
   "source": [
    "---\n",
    "# 2. EDA Report"
   ]
  },
  {
   "cell_type": "markdown",
   "metadata": {},
   "source": [
    "Perform an EDA, and prepare a summary of your findings. The summary should be less than 300 words. You need to emphasise on the aspects of the EDA that guide you in choosing a particular model or algorithm for your classifier. If you want to include any chart in your notebook, there should be something you have learnt and you are going to use it in your model selection. Please provide a short explanation on what you have learnt just after the cell. In addition, types of variables, the dimension of the data, and any correlation between variables are very important. Also, you might need to look at some distribution of your variables to get some insights."
   ]
  },
  {
   "cell_type": "markdown",
   "metadata": {
    "collapsed": true
   },
   "source": [
    "# Wrangling and Train/Test split"
   ]
  },
  {
   "cell_type": "code",
   "execution_count": 23,
   "metadata": {
    "collapsed": true
   },
   "outputs": [],
   "source": [
    "# Before we do anything, dedicate 20% of our data to an unseen Test set.\n",
    "\n",
    "# 20% of the sample size\n",
    "smp_size <- floor(0.8 * nrow(prostate))\n",
    "\n",
    "set.seed(seed)\n",
    "train_ind <- sample(seq_len(nrow(prostate)), size = smp_size)\n",
    "\n",
    "train <- prostate[train_ind, ]\n",
    "test <- prostate[-train_ind, ]"
   ]
  },
  {
   "cell_type": "markdown",
   "metadata": {},
   "source": [
    "---\n",
    "# 3. XGBoost"
   ]
  },
  {
   "cell_type": "code",
   "execution_count": 24,
   "metadata": {
    "collapsed": false
   },
   "outputs": [],
   "source": [
    "# perform down sampling to obtain even amount of classes\n",
    "#xg_train <- Udf.Utilities.DownSample(train)\n",
    "xg_train <- Udf.Utilities.UpSample(train)\n",
    "#xg_train <- Udf.Utilities.SmoteSample(train)\n",
    "\n",
    "xg_test <- test"
   ]
  },
  {
   "cell_type": "code",
   "execution_count": 81,
   "metadata": {
    "collapsed": false
   },
   "outputs": [
    {
     "data": {
      "text/plain": [
       "\n",
       "  0   1   2   3 \n",
       "876 876 876 876 "
      ]
     },
     "metadata": {},
     "output_type": "display_data"
    }
   ],
   "source": [
    "# Check the proportions of each factor within the Result variable\n",
    "w <- table(xg_train$Result)\n",
    "w"
   ]
  },
  {
   "cell_type": "code",
   "execution_count": 83,
   "metadata": {
    "collapsed": false
   },
   "outputs": [],
   "source": [
    "# set the Result to a numeric range from 0 - 3\n",
    "xg_train.y <- as.numeric(xg_train$Result)-1\n",
    "xg_test.y <- as.numeric(test$Result)-1"
   ]
  },
  {
   "cell_type": "code",
   "execution_count": 25,
   "metadata": {
    "collapsed": false
   },
   "outputs": [
    {
     "ename": "ERROR",
     "evalue": "Error in eval(expr, envir, enclos): object 'xg_test.y' not found\n",
     "output_type": "error",
     "traceback": [
      "Error in eval(expr, envir, enclos): object 'xg_test.y' not found\nTraceback:\n"
     ]
    }
   ],
   "source": [
    "# store the actuals for future comparison\n",
    "actual <- xg_test.y"
   ]
  },
  {
   "cell_type": "code",
   "execution_count": 84,
   "metadata": {
    "collapsed": false
   },
   "outputs": [],
   "source": [
    "# convert to matrix for boosting method\n",
    "xg_train <- sparse.model.matrix(Result ~ ., data = xg_train)\n",
    "dtrain <- xgb.DMatrix(data=xg_train, label=xg_train.y)"
   ]
  },
  {
   "cell_type": "code",
   "execution_count": 85,
   "metadata": {
    "collapsed": true
   },
   "outputs": [],
   "source": [
    "xg_test <- sparse.model.matrix(Result ~ ., data = xg_test)\n",
    "dtest <- xgb.DMatrix(data=xg_test, label=xg_test.y)"
   ]
  },
  {
   "cell_type": "code",
   "execution_count": 86,
   "metadata": {
    "collapsed": true
   },
   "outputs": [],
   "source": [
    "watchlist <- list(xg_train=dtrain)"
   ]
  },
  {
   "cell_type": "code",
   "execution_count": 87,
   "metadata": {
    "collapsed": false,
    "scrolled": true
   },
   "outputs": [
    {
     "name": "stdout",
     "output_type": "stream",
     "text": [
      "[0]\ttrain-merror:0.508879+0.012468\ttest-merror:0.624680+0.024307\n",
      "[20]\ttrain-merror:0.176560+0.008523\ttest-merror:0.468025+0.029982\n",
      "[40]\ttrain-merror:0.100583+0.002541\ttest-merror:0.418943+0.031163\n",
      "[60]\ttrain-merror:0.061802+0.002610\ttest-merror:0.406106+0.027163\n",
      "[80]\ttrain-merror:0.036307+0.002331\ttest-merror:0.396708+0.024365\n",
      "[100]\ttrain-merror:0.021911+0.001830\ttest-merror:0.384998+0.024580\n",
      "[120]\ttrain-merror:0.013667+0.001957\ttest-merror:0.381288+0.025276\n",
      "[140]\ttrain-merror:0.007325+0.001342\ttest-merror:0.372162+0.028310\n",
      "[160]\ttrain-merror:0.004027+0.000748\ttest-merror:0.369870+0.031357\n",
      "[180]\ttrain-merror:0.002030+0.000477\ttest-merror:0.369019+0.029462\n",
      "[200]\ttrain-merror:0.001237+0.000484\ttest-merror:0.369307+0.028689\n",
      "[220]\ttrain-merror:0.000634+0.000473\ttest-merror:0.369020+0.025303\n",
      "[240]\ttrain-merror:0.000190+0.000401\ttest-merror:0.368169+0.024413\n",
      "[260]\ttrain-merror:0.000000+0.000000\ttest-merror:0.367882+0.024541\n",
      "[280]\ttrain-merror:0.000000+0.000000\ttest-merror:0.366731+0.021838\n",
      "[300]\ttrain-merror:0.000000+0.000000\ttest-merror:0.363602+0.023643\n",
      "[320]\ttrain-merror:0.000000+0.000000\ttest-merror:0.364737+0.018533\n",
      "[340]\ttrain-merror:0.000000+0.000000\ttest-merror:0.365025+0.023518\n",
      "[360]\ttrain-merror:0.000000+0.000000\ttest-merror:0.364730+0.023701\n",
      "[380]\ttrain-merror:0.000000+0.000000\ttest-merror:0.367016+0.022210\n",
      "[400]\ttrain-merror:0.000000+0.000000\ttest-merror:0.366732+0.020324\n",
      "[420]\ttrain-merror:0.000000+0.000000\ttest-merror:0.365306+0.020592\n",
      "[440]\ttrain-merror:0.000000+0.000000\ttest-merror:0.367872+0.022163\n",
      "[460]\ttrain-merror:0.000000+0.000000\ttest-merror:0.368727+0.021374\n",
      "[480]\ttrain-merror:0.000000+0.000000\ttest-merror:0.368439+0.019813\n"
     ]
    }
   ],
   "source": [
    "# cross validate to select optimal value for number of rounds\n",
    "set.seed(seed)\n",
    "n_rounds.cv <- 1000\n",
    "params <- list(booster = \"gbtree\", objective = \"multi:softmax\",\n",
    "               num_class = 4, eval_metric = 'merror',\n",
    "               max_depth = 6, eta = 0.1,\n",
    "               colsample_bytree = 0.9, subsample = 0.9)\n",
    "\n",
    "bst.cv <- xgb.cv(params, dtrain, n_rounds.cv, nfold = 10, metrics = {'merror'},\n",
    "                 print.every.n = 20, prediction = TRUE)"
   ]
  },
  {
   "cell_type": "code",
   "execution_count": 88,
   "metadata": {
    "collapsed": false
   },
   "outputs": [
    {
     "data": {
      "text/html": [
       "306"
      ],
      "text/latex": [
       "306"
      ],
      "text/markdown": [
       "306"
      ],
      "text/plain": [
       "[1] 306"
      ]
     },
     "metadata": {},
     "output_type": "display_data"
    }
   ],
   "source": [
    "n_rounds.train <- which.min(bst.cv$dt[, test.merror.mean])\n",
    "n_rounds.train"
   ]
  },
  {
   "cell_type": "code",
   "execution_count": 89,
   "metadata": {
    "collapsed": true
   },
   "outputs": [
    {
     "name": "stdout",
     "output_type": "stream",
     "text": [
      "[0]\txg_train-merror:0.481735\n",
      "[1]\txg_train-merror:0.431221\n",
      "[2]\txg_train-merror:0.384132\n",
      "[3]\txg_train-merror:0.363870\n",
      "[4]\txg_train-merror:0.333048\n",
      "[5]\txg_train-merror:0.309075\n",
      "[6]\txg_train-merror:0.301941\n",
      "[7]\txg_train-merror:0.283390\n",
      "[8]\txg_train-merror:0.272260\n",
      "[9]\txg_train-merror:0.261701\n",
      "[10]\txg_train-merror:0.253995\n",
      "[11]\txg_train-merror:0.251142\n",
      "[12]\txg_train-merror:0.242295\n",
      "[13]\txg_train-merror:0.227740\n",
      "[14]\txg_train-merror:0.218893\n",
      "[15]\txg_train-merror:0.213756\n",
      "[16]\txg_train-merror:0.204053\n",
      "[17]\txg_train-merror:0.196062\n",
      "[18]\txg_train-merror:0.192922\n",
      "[19]\txg_train-merror:0.194064\n",
      "[20]\txg_train-merror:0.183505\n",
      "[21]\txg_train-merror:0.178368\n",
      "[22]\txg_train-merror:0.175799\n",
      "[23]\txg_train-merror:0.167808\n",
      "[24]\txg_train-merror:0.160674\n",
      "[25]\txg_train-merror:0.162671\n",
      "[26]\txg_train-merror:0.154110\n",
      "[27]\txg_train-merror:0.150685\n",
      "[28]\txg_train-merror:0.145263\n",
      "[29]\txg_train-merror:0.144121\n",
      "[30]\txg_train-merror:0.141838\n",
      "[31]\txg_train-merror:0.138128\n",
      "[32]\txg_train-merror:0.136986\n",
      "[33]\txg_train-merror:0.131564\n",
      "[34]\txg_train-merror:0.131564\n",
      "[35]\txg_train-merror:0.129281\n",
      "[36]\txg_train-merror:0.125285\n",
      "[37]\txg_train-merror:0.120719\n",
      "[38]\txg_train-merror:0.120719\n",
      "[39]\txg_train-merror:0.117009\n",
      "[40]\txg_train-merror:0.111872\n",
      "[41]\txg_train-merror:0.109589\n",
      "[42]\txg_train-merror:0.109018\n",
      "[43]\txg_train-merror:0.103881\n",
      "[44]\txg_train-merror:0.103311\n",
      "[45]\txg_train-merror:0.099600\n",
      "[46]\txg_train-merror:0.096461\n",
      "[47]\txg_train-merror:0.091895\n",
      "[48]\txg_train-merror:0.089612\n",
      "[49]\txg_train-merror:0.088185\n",
      "[50]\txg_train-merror:0.083619\n",
      "[51]\txg_train-merror:0.083048\n",
      "[52]\txg_train-merror:0.079909\n",
      "[53]\txg_train-merror:0.078482\n",
      "[54]\txg_train-merror:0.073630\n",
      "[55]\txg_train-merror:0.073916\n",
      "[56]\txg_train-merror:0.074486\n",
      "[57]\txg_train-merror:0.071632\n",
      "[58]\txg_train-merror:0.069635\n",
      "[59]\txg_train-merror:0.069635\n",
      "[60]\txg_train-merror:0.067637\n",
      "[61]\txg_train-merror:0.066210\n",
      "[62]\txg_train-merror:0.064783\n",
      "[63]\txg_train-merror:0.062215\n",
      "[64]\txg_train-merror:0.059646\n",
      "[65]\txg_train-merror:0.058790\n",
      "[66]\txg_train-merror:0.054509\n",
      "[67]\txg_train-merror:0.053938\n",
      "[68]\txg_train-merror:0.053368\n",
      "[69]\txg_train-merror:0.051370\n",
      "[70]\txg_train-merror:0.050799\n",
      "[71]\txg_train-merror:0.049372\n",
      "[72]\txg_train-merror:0.048231\n",
      "[73]\txg_train-merror:0.048516\n",
      "[74]\txg_train-merror:0.047374\n",
      "[75]\txg_train-merror:0.044806\n",
      "[76]\txg_train-merror:0.045377\n",
      "[77]\txg_train-merror:0.043094\n",
      "[78]\txg_train-merror:0.041381\n",
      "[79]\txg_train-merror:0.041381\n",
      "[80]\txg_train-merror:0.039384\n",
      "[81]\txg_train-merror:0.037957\n",
      "[82]\txg_train-merror:0.035959\n",
      "[83]\txg_train-merror:0.036244\n",
      "[84]\txg_train-merror:0.035103\n",
      "[85]\txg_train-merror:0.034817\n",
      "[86]\txg_train-merror:0.033676\n",
      "[87]\txg_train-merror:0.033105\n",
      "[88]\txg_train-merror:0.032820\n",
      "[89]\txg_train-merror:0.031107\n",
      "[90]\txg_train-merror:0.030251\n",
      "[91]\txg_train-merror:0.029110\n",
      "[92]\txg_train-merror:0.028824\n",
      "[93]\txg_train-merror:0.029395\n",
      "[94]\txg_train-merror:0.029395\n",
      "[95]\txg_train-merror:0.027683\n",
      "[96]\txg_train-merror:0.027683\n",
      "[97]\txg_train-merror:0.027397\n",
      "[98]\txg_train-merror:0.026256\n",
      "[99]\txg_train-merror:0.026541\n",
      "[100]\txg_train-merror:0.025400\n",
      "[101]\txg_train-merror:0.024829\n",
      "[102]\txg_train-merror:0.024543\n",
      "[103]\txg_train-merror:0.024543\n",
      "[104]\txg_train-merror:0.023973\n",
      "[105]\txg_train-merror:0.022831\n",
      "[106]\txg_train-merror:0.021689\n",
      "[107]\txg_train-merror:0.021119\n",
      "[108]\txg_train-merror:0.020833\n",
      "[109]\txg_train-merror:0.019406\n",
      "[110]\txg_train-merror:0.019977\n",
      "[111]\txg_train-merror:0.019977\n",
      "[112]\txg_train-merror:0.019692\n",
      "[113]\txg_train-merror:0.018836\n",
      "[114]\txg_train-merror:0.017979\n",
      "[115]\txg_train-merror:0.017979\n",
      "[116]\txg_train-merror:0.016553\n",
      "[117]\txg_train-merror:0.014840\n",
      "[118]\txg_train-merror:0.014555\n",
      "[119]\txg_train-merror:0.014555\n",
      "[120]\txg_train-merror:0.013984\n",
      "[121]\txg_train-merror:0.014555\n",
      "[122]\txg_train-merror:0.013984\n",
      "[123]\txg_train-merror:0.013413\n",
      "[124]\txg_train-merror:0.013699\n",
      "[125]\txg_train-merror:0.013128\n",
      "[126]\txg_train-merror:0.012842\n",
      "[127]\txg_train-merror:0.012557\n",
      "[128]\txg_train-merror:0.011986\n",
      "[129]\txg_train-merror:0.011986\n",
      "[130]\txg_train-merror:0.012272\n",
      "[131]\txg_train-merror:0.010845\n",
      "[132]\txg_train-merror:0.010845\n",
      "[133]\txg_train-merror:0.010845\n",
      "[134]\txg_train-merror:0.010559\n",
      "[135]\txg_train-merror:0.010845\n",
      "[136]\txg_train-merror:0.011130\n",
      "[137]\txg_train-merror:0.010274\n",
      "[138]\txg_train-merror:0.009703\n",
      "[139]\txg_train-merror:0.009418\n",
      "[140]\txg_train-merror:0.009989\n",
      "[141]\txg_train-merror:0.009989\n",
      "[142]\txg_train-merror:0.009989\n",
      "[143]\txg_train-merror:0.009418\n",
      "[144]\txg_train-merror:0.009703\n",
      "[145]\txg_train-merror:0.009418\n",
      "[146]\txg_train-merror:0.008276\n",
      "[147]\txg_train-merror:0.008276\n",
      "[148]\txg_train-merror:0.007705\n",
      "[149]\txg_train-merror:0.007705\n",
      "[150]\txg_train-merror:0.008276\n",
      "[151]\txg_train-merror:0.007705\n",
      "[152]\txg_train-merror:0.007705\n",
      "[153]\txg_train-merror:0.007135\n",
      "[154]\txg_train-merror:0.006849\n",
      "[155]\txg_train-merror:0.005137\n",
      "[156]\txg_train-merror:0.005422\n",
      "[157]\txg_train-merror:0.005137\n",
      "[158]\txg_train-merror:0.005422\n",
      "[159]\txg_train-merror:0.005137\n",
      "[160]\txg_train-merror:0.005137\n",
      "[161]\txg_train-merror:0.005137\n",
      "[162]\txg_train-merror:0.005137\n",
      "[163]\txg_train-merror:0.004852\n",
      "[164]\txg_train-merror:0.003995\n",
      "[165]\txg_train-merror:0.003710\n",
      "[166]\txg_train-merror:0.003710\n",
      "[167]\txg_train-merror:0.003425\n",
      "[168]\txg_train-merror:0.003425\n",
      "[169]\txg_train-merror:0.003139\n",
      "[170]\txg_train-merror:0.003425\n",
      "[171]\txg_train-merror:0.003139\n",
      "[172]\txg_train-merror:0.002854\n",
      "[173]\txg_train-merror:0.002854\n",
      "[174]\txg_train-merror:0.002854\n",
      "[175]\txg_train-merror:0.003139\n",
      "[176]\txg_train-merror:0.002854\n",
      "[177]\txg_train-merror:0.002854\n",
      "[178]\txg_train-merror:0.002854\n",
      "[179]\txg_train-merror:0.002568\n",
      "[180]\txg_train-merror:0.002568\n",
      "[181]\txg_train-merror:0.002568\n",
      "[182]\txg_train-merror:0.002568\n",
      "[183]\txg_train-merror:0.002568\n",
      "[184]\txg_train-merror:0.002568\n",
      "[185]\txg_train-merror:0.002568\n",
      "[186]\txg_train-merror:0.002568\n",
      "[187]\txg_train-merror:0.002568\n",
      "[188]\txg_train-merror:0.002568\n",
      "[189]\txg_train-merror:0.002568\n",
      "[190]\txg_train-merror:0.002283\n",
      "[191]\txg_train-merror:0.002283\n",
      "[192]\txg_train-merror:0.002283\n",
      "[193]\txg_train-merror:0.002283\n",
      "[194]\txg_train-merror:0.002283\n",
      "[195]\txg_train-merror:0.001998\n",
      "[196]\txg_train-merror:0.001998\n",
      "[197]\txg_train-merror:0.001998\n",
      "[198]\txg_train-merror:0.001998\n",
      "[199]\txg_train-merror:0.001998\n",
      "[200]\txg_train-merror:0.001998\n",
      "[201]\txg_train-merror:0.001998\n",
      "[202]\txg_train-merror:0.001998\n",
      "[203]\txg_train-merror:0.001998\n",
      "[204]\txg_train-merror:0.001998\n",
      "[205]\txg_train-merror:0.001998\n",
      "[206]\txg_train-merror:0.001998\n",
      "[207]\txg_train-merror:0.001712\n",
      "[208]\txg_train-merror:0.001427\n",
      "[209]\txg_train-merror:0.001427\n",
      "[210]\txg_train-merror:0.001427\n",
      "[211]\txg_train-merror:0.001142\n",
      "[212]\txg_train-merror:0.001142\n",
      "[213]\txg_train-merror:0.001142\n",
      "[214]\txg_train-merror:0.001142\n",
      "[215]\txg_train-merror:0.001142\n",
      "[216]\txg_train-merror:0.001142\n",
      "[217]\txg_train-merror:0.001142\n",
      "[218]\txg_train-merror:0.000856\n",
      "[219]\txg_train-merror:0.000856\n",
      "[220]\txg_train-merror:0.000856\n",
      "[221]\txg_train-merror:0.000571\n",
      "[222]\txg_train-merror:0.000571\n",
      "[223]\txg_train-merror:0.000571\n",
      "[224]\txg_train-merror:0.000856\n",
      "[225]\txg_train-merror:0.000571\n",
      "[226]\txg_train-merror:0.000856\n",
      "[227]\txg_train-merror:0.000856\n",
      "[228]\txg_train-merror:0.000856\n",
      "[229]\txg_train-merror:0.000856\n",
      "[230]\txg_train-merror:0.000856\n",
      "[231]\txg_train-merror:0.000571\n",
      "[232]\txg_train-merror:0.000856\n",
      "[233]\txg_train-merror:0.000856\n",
      "[234]\txg_train-merror:0.000856\n",
      "[235]\txg_train-merror:0.000571\n",
      "[236]\txg_train-merror:0.000571\n",
      "[237]\txg_train-merror:0.000571\n",
      "[238]\txg_train-merror:0.000571\n",
      "[239]\txg_train-merror:0.000571\n",
      "[240]\txg_train-merror:0.000571\n",
      "[241]\txg_train-merror:0.000285\n",
      "[242]\txg_train-merror:0.000285\n",
      "[243]\txg_train-merror:0.000285\n",
      "[244]\txg_train-merror:0.000285\n",
      "[245]\txg_train-merror:0.000285\n",
      "[246]\txg_train-merror:0.000000\n",
      "[247]\txg_train-merror:0.000285\n",
      "[248]\txg_train-merror:0.000285\n",
      "[249]\txg_train-merror:0.000285\n",
      "[250]\txg_train-merror:0.000285\n",
      "[251]\txg_train-merror:0.000000\n",
      "[252]\txg_train-merror:0.000000\n",
      "[253]\txg_train-merror:0.000000\n",
      "[254]\txg_train-merror:0.000000\n",
      "[255]\txg_train-merror:0.000000\n",
      "[256]\txg_train-merror:0.000000\n",
      "[257]\txg_train-merror:0.000000\n",
      "[258]\txg_train-merror:0.000000\n",
      "[259]\txg_train-merror:0.000000\n",
      "[260]\txg_train-merror:0.000285\n",
      "[261]\txg_train-merror:0.000285\n",
      "[262]\txg_train-merror:0.000000\n",
      "[263]\txg_train-merror:0.000000\n",
      "[264]\txg_train-merror:0.000000\n",
      "[265]\txg_train-merror:0.000000\n",
      "[266]\txg_train-merror:0.000000\n",
      "[267]\txg_train-merror:0.000000\n",
      "[268]\txg_train-merror:0.000000\n",
      "[269]\txg_train-merror:0.000000\n",
      "[270]\txg_train-merror:0.000000\n",
      "[271]\txg_train-merror:0.000000\n",
      "[272]\txg_train-merror:0.000000\n",
      "[273]\txg_train-merror:0.000000\n",
      "[274]\txg_train-merror:0.000000\n",
      "[275]\txg_train-merror:0.000000\n",
      "[276]\txg_train-merror:0.000000\n",
      "[277]\txg_train-merror:0.000000\n",
      "[278]\txg_train-merror:0.000000\n",
      "[279]\txg_train-merror:0.000000\n",
      "[280]\txg_train-merror:0.000000\n",
      "[281]\txg_train-merror:0.000000\n",
      "[282]\txg_train-merror:0.000000\n",
      "[283]\txg_train-merror:0.000000\n",
      "[284]\txg_train-merror:0.000000\n",
      "[285]\txg_train-merror:0.000000\n",
      "[286]\txg_train-merror:0.000000\n",
      "[287]\txg_train-merror:0.000000\n",
      "[288]\txg_train-merror:0.000000\n",
      "[289]\txg_train-merror:0.000000\n",
      "[290]\txg_train-merror:0.000000\n",
      "[291]\txg_train-merror:0.000000\n",
      "[292]\txg_train-merror:0.000000\n",
      "[293]\txg_train-merror:0.000000\n",
      "[294]\txg_train-merror:0.000000\n",
      "[295]\txg_train-merror:0.000000\n",
      "[296]\txg_train-merror:0.000000\n",
      "[297]\txg_train-merror:0.000000\n",
      "[298]\txg_train-merror:0.000000\n",
      "[299]\txg_train-merror:0.000000\n",
      "[300]\txg_train-merror:0.000000\n",
      "[301]\txg_train-merror:0.000000\n",
      "[302]\txg_train-merror:0.000000\n",
      "[303]\txg_train-merror:0.000000\n",
      "[304]\txg_train-merror:0.000000\n",
      "[305]\txg_train-merror:0.000000\n"
     ]
    }
   ],
   "source": [
    "# create the model\n",
    "bst <- xgb.train(   params              = params, \n",
    "                    data                = dtrain, \n",
    "                    nrounds             = n_rounds.train, \n",
    "                    verbose             = 1,\n",
    "                    watchlist           = watchlist,\n",
    "                    maximize            = FALSE\n",
    ")"
   ]
  },
  {
   "cell_type": "code",
   "execution_count": 90,
   "metadata": {
    "collapsed": true
   },
   "outputs": [],
   "source": [
    "# generate predictions from model\n",
    "pred <- predict(bst, xg_test);"
   ]
  },
  {
   "cell_type": "code",
   "execution_count": 91,
   "metadata": {
    "collapsed": false
   },
   "outputs": [
    {
     "data": {
      "text/plain": [
       "Confusion Matrix and Statistics\n",
       "\n",
       "          Reference\n",
       "Prediction  0  1  2  3\n",
       "         0 87 74 53 14\n",
       "         1 96 96 65 15\n",
       "         2 26 26 19  6\n",
       "         3  5  8 10  0\n",
       "\n",
       "Overall Statistics\n",
       "                                        \n",
       "               Accuracy : 0.337         \n",
       "                 95% CI : (0.299, 0.376)\n",
       "    No Information Rate : 0.357         \n",
       "    P-Value [Acc > NIR] : 0.857         \n",
       "                                        \n",
       "                  Kappa : 0.02          \n",
       " Mcnemar's Test P-Value : 0.00000254    \n",
       "\n",
       "Statistics by Class:\n",
       "\n",
       "                     Class: 0 Class: 1 Class: 2 Class: 3\n",
       "Sensitivity             0.407    0.471   0.1293   0.0000\n",
       "Specificity             0.635    0.556   0.8720   0.9593\n",
       "Pos Pred Value          0.382    0.353   0.2468   0.0000\n",
       "Neg Pred Value          0.659    0.671   0.7553   0.9393\n",
       "Prevalence              0.357    0.340   0.2450   0.0583\n",
       "Detection Rate          0.145    0.160   0.0317   0.0000\n",
       "Detection Prevalence    0.380    0.453   0.1283   0.0383\n",
       "Balanced Accuracy       0.521    0.513   0.5006   0.4796"
      ]
     },
     "metadata": {},
     "output_type": "display_data"
    }
   ],
   "source": [
    "confusionMatrix(pred, actual)"
   ]
  },
  {
   "cell_type": "code",
   "execution_count": 92,
   "metadata": {
    "collapsed": false
   },
   "outputs": [
    {
     "data": {
      "text/html": [
       "<table>\n",
       "<thead><tr><th></th><th scope=col>Feature</th><th scope=col>Gain</th><th scope=col>Cover</th><th scope=col>Frequence</th></tr></thead>\n",
       "<tbody>\n",
       "\t<tr><th scope=row>1</th><td>ATT1              </td><td>0.10390966550576  </td><td>0.0981755346404982</td><td>0.101203491675419 </td></tr>\n",
       "\t<tr><th scope=row>2</th><td>ATT8             </td><td>0.102791930874813</td><td>0.099764665068689</td><td>0.104337046538455</td></tr>\n",
       "\t<tr><th scope=row>3</th><td>ATT6             </td><td>0.102218151576762</td><td>0.100768030999155</td><td>0.100377059623629</td></tr>\n",
       "\t<tr><th scope=row>4</th><td>ATT9             </td><td>0.101283366999252</td><td>0.119313919615232</td><td>0.102408705084279</td></tr>\n",
       "\t<tr><th scope=row>5</th><td>ATT3              </td><td>0.100779416609292 </td><td>0.0879046412291317</td><td>0.0962276820302681</td></tr>\n",
       "\t<tr><th scope=row>6</th><td>ATT4              </td><td>0.100654424779475 </td><td>0.0885402422921847</td><td>0.0981904581532687</td></tr>\n",
       "</tbody>\n",
       "</table>\n"
      ],
      "text/latex": [
       "\\begin{tabular}{r|llll}\n",
       "  & Feature & Gain & Cover & Frequence\\\\\n",
       "\\hline\n",
       "\t1 & ATT1               & 0.10390966550576   & 0.0981755346404982 & 0.101203491675419 \\\\\n",
       "\t2 & ATT8              & 0.102791930874813 & 0.099764665068689 & 0.104337046538455\\\\\n",
       "\t3 & ATT6              & 0.102218151576762 & 0.100768030999155 & 0.100377059623629\\\\\n",
       "\t4 & ATT9              & 0.101283366999252 & 0.119313919615232 & 0.102408705084279\\\\\n",
       "\t5 & ATT3               & 0.100779416609292  & 0.0879046412291317 & 0.0962276820302681\\\\\n",
       "\t6 & ATT4               & 0.100654424779475  & 0.0885402422921847 & 0.0981904581532687\\\\\n",
       "\\end{tabular}\n"
      ],
      "text/plain": [
       "  Feature   Gain   Cover Frequence\n",
       "1    ATT1 0.1039 0.09818   0.10120\n",
       "2    ATT8 0.1028 0.09976   0.10434\n",
       "3    ATT6 0.1022 0.10077   0.10038\n",
       "4    ATT9 0.1013 0.11931   0.10241\n",
       "5    ATT3 0.1008 0.08790   0.09623\n",
       "6    ATT4 0.1007 0.08854   0.09819"
      ]
     },
     "metadata": {},
     "output_type": "display_data"
    }
   ],
   "source": [
    "feature.importance <- xgb.importance(dimnames(xg_train)[[2]], model = bst)\n",
    "head(feature.importance)"
   ]
  },
  {
   "cell_type": "code",
   "execution_count": 93,
   "metadata": {
    "collapsed": false
   },
   "outputs": [
    {
     "data": {},
     "metadata": {},
     "output_type": "display_data"
    },
    {
     "data": {
      "image/png": "[encoded data removed]",
      "text/plain": [
       "plot without title"
      ]
     },
     "metadata": {},
     "output_type": "display_data"
    }
   ],
   "source": [
    "xgb.plot.importance(feature.importance)"
   ]
  },
  {
   "cell_type": "markdown",
   "metadata": {},
   "source": [
    "## Cross Validate further parameters for XGBoost using GridSearch"
   ]
  },
  {
   "cell_type": "code",
   "execution_count": null,
   "metadata": {
    "collapsed": true
   },
   "outputs": [],
   "source": [
    "# set default params to be used if we don't have the compute power to perform this gridsearch\n",
    "nrounds <- 500\n",
    "max_depth <- 6\n",
    "eta <- 0.1\n",
    "colsample_bytree <- 0.9\n",
    "subsample <- 0.9\n",
    "gamma <- 0\n",
    "min_child_weight <- 1"
   ]
  },
  {
   "cell_type": "code",
   "execution_count": 94,
   "metadata": {
    "collapsed": true
   },
   "outputs": [],
   "source": [
    "xgbGrid <- expand.grid(\n",
    "    nrounds = c(100, 300, 500, 1000),\n",
    "    max_depth = c(1, 3, 5, 7),\n",
    "    eta = c(0.001, 0.01, 0.1),\n",
    "    gamma = c(0, 1),\n",
    "    colsample_bytree = c(1, 0.9, 0.8),\n",
    "    min_child_weight = c(1, 2, 3),\n",
    "    subsample = c(1, 0.9, 0.8)\n",
    ")"
   ]
  },
  {
   "cell_type": "code",
   "execution_count": 95,
   "metadata": {
    "collapsed": false
   },
   "outputs": [],
   "source": [
    "xgbTrControl <- trainControl(\n",
    "    method = \"repeatedcv\",\n",
    "    number = 5,\n",
    "    repeats = 2,\n",
    "    verboseIter = FALSE,\n",
    "    returnData = FALSE,\n",
    "    allowParallel = TRUE\n",
    ")"
   ]
  },
  {
   "cell_type": "code",
   "execution_count": 96,
   "metadata": {
    "collapsed": false
   },
   "outputs": [],
   "source": [
    "xg_train <- Udf.Utilities.UpSample(train)\n",
    "xg_train$Result <- as.numeric(xg_train$Result)-1\n",
    "for(i in c(1:ncol(xg_train))) {\n",
    "    xg_train[,i] <- as.numeric(xg_train[,i])\n",
    "}"
   ]
  },
  {
   "cell_type": "code",
   "execution_count": 97,
   "metadata": {
    "collapsed": false
   },
   "outputs": [
    {
     "data": {
      "text/html": [
       "\"\n",
       "xgbTrain &lt;- train(\n",
       "    x = as.matrix(xg_train[, ! names(xg_train) %in% c('Result')]), \n",
       "    y = xg_train$Result,\n",
       "    objective = 'multi:softmax',\n",
       "    trControl = xgbTrControl,\n",
       "    tuneGrid = xgbGrid,\n",
       "    method = 'xgbTree',\n",
       "    num_class = 4,\n",
       "    eval_metric = 'merror'\n",
       ")\n",
       "\""
      ],
      "text/latex": [
       "\"\n",
       "xgbTrain <- train(\n",
       "    x = as.matrix(xg\\_train{[}, ! names(xg\\_train) \\%in\\% c('Result'){]}), \n",
       "    y = xg\\_train\\$Result,\n",
       "    objective = 'multi:softmax',\n",
       "    trControl = xgbTrControl,\n",
       "    tuneGrid = xgbGrid,\n",
       "    method = 'xgbTree',\n",
       "    num\\_class = 4,\n",
       "    eval\\_metric = 'merror'\n",
       ")\n",
       "\""
      ],
      "text/markdown": [
       "\"\n",
       "xgbTrain &lt;- train(\n",
       "    x = as.matrix(xg_train[, ! names(xg_train) %in% c('Result')]), \n",
       "    y = xg_train$Result,\n",
       "    objective = 'multi:softmax',\n",
       "    trControl = xgbTrControl,\n",
       "    tuneGrid = xgbGrid,\n",
       "    method = 'xgbTree',\n",
       "    num_class = 4,\n",
       "    eval_metric = 'merror'\n",
       ")\n",
       "\""
      ],
      "text/plain": [
       "[1] \"\\nxgbTrain <- train(\\n    x = as.matrix(xg_train[, ! names(xg_train) %in% c('Result')]), \\n    y = xg_train$Result,\\n    objective = 'multi:softmax',\\n    trControl = xgbTrControl,\\n    tuneGrid = xgbGrid,\\n    method = 'xgbTree',\\n    num_class = 4,\\n    eval_metric = 'merror'\\n)\\n\""
      ]
     },
     "metadata": {},
     "output_type": "display_data"
    }
   ],
   "source": [
    "set.seed(seed)\n",
    "\n",
    "# This is computationaly expensive - takes about an hour\n",
    "\"\n",
    "xgbTrain <- train(\n",
    "    x = as.matrix(xg_train[, ! names(xg_train) %in% c('Result')]), \n",
    "    y = xg_train$Result,\n",
    "    objective = 'multi:softmax',\n",
    "    trControl = xgbTrControl,\n",
    "    tuneGrid = xgbGrid,\n",
    "    method = 'xgbTree',\n",
    "    num_class = 4,\n",
    "    eval_metric = 'merror'\n",
    ")\n",
    "\""
   ]
  },
  {
   "cell_type": "code",
   "execution_count": 98,
   "metadata": {
    "collapsed": false
   },
   "outputs": [],
   "source": [
    "# get the top model and its results\n",
    "#head(xgbTrain$results[with(xgbTrain$results, order(RMSE)), ], 5)\n",
    "nrounds <- 500\n",
    "max_depth <- 6\n",
    "eta <- 0.1\n",
    "colsample_bytree <- 0.9\n",
    "subsample <- 0.9\n",
    "gamma <- 0\n",
    "min_child_weight <- 1\n"
   ]
  },
  {
   "cell_type": "code",
   "execution_count": 99,
   "metadata": {
    "collapsed": false
   },
   "outputs": [],
   "source": [
    "# Alter the params based on the best performing set of params abvove\n",
    "params <- list(booster = \"gbtree\", objective = \"multi:softmax\",\n",
    "               num_class = 4, eval_metric = 'merror',\n",
    "               max_depth = max_depth, eta = eta,\n",
    "               colsample_bytree = colsample_bytree, subsample = subsample,\n",
    "               gamma = gamma, min_child_weight = min_child_weight)"
   ]
  },
  {
   "cell_type": "code",
   "execution_count": 100,
   "metadata": {
    "collapsed": false
   },
   "outputs": [
    {
     "name": "stdout",
     "output_type": "stream",
     "text": [
      "[0]\ttrain-merror:0.555872+0.011707\ttest-merror:0.652134+0.025207\n",
      "[20]\ttrain-merror:0.289129+0.007206\ttest-merror:0.511723+0.025400\n",
      "[40]\ttrain-merror:0.204115+0.006436\ttest-merror:0.468037+0.027318\n",
      "[60]\ttrain-merror:0.150304+0.008822\ttest-merror:0.448335+0.026242\n",
      "[80]\ttrain-merror:0.110192+0.005634\ttest-merror:0.431791+0.024598\n",
      "[100]\ttrain-merror:0.085363+0.004320\ttest-merror:0.416671+0.018284\n",
      "[120]\ttrain-merror:0.066495+0.002619\ttest-merror:0.409254+0.020660\n",
      "[140]\ttrain-merror:0.050831+0.001289\ttest-merror:0.401266+0.018461\n",
      "[160]\ttrain-merror:0.039257+0.002306\ttest-merror:0.395275+0.019612\n",
      "[180]\ttrain-merror:0.029744+0.002702\ttest-merror:0.389009+0.023091\n",
      "[200]\ttrain-merror:0.023148+0.001904\ttest-merror:0.380717+0.021480\n",
      "[220]\ttrain-merror:0.017472+0.001374\ttest-merror:0.379010+0.021913\n",
      "[240]\ttrain-merror:0.013223+0.001038\ttest-merror:0.377587+0.021500\n",
      "[260]\ttrain-merror:0.009576+0.001276\ttest-merror:0.375589+0.021743\n",
      "[280]\ttrain-merror:0.006817+0.001436\ttest-merror:0.374163+0.024953\n",
      "[300]\ttrain-merror:0.004820+0.001147\ttest-merror:0.373595+0.025924\n",
      "[320]\ttrain-merror:0.003456+0.000754\ttest-merror:0.373595+0.021672\n",
      "[340]\ttrain-merror:0.002410+0.000428\ttest-merror:0.373029+0.022649\n",
      "[360]\ttrain-merror:0.001617+0.000506\ttest-merror:0.372455+0.021520\n",
      "[380]\ttrain-merror:0.001173+0.000561\ttest-merror:0.371604+0.019494\n",
      "[400]\ttrain-merror:0.000761+0.000500\ttest-merror:0.369602+0.018307\n",
      "[420]\ttrain-merror:0.000381+0.000418\ttest-merror:0.369320+0.017743\n",
      "[440]\ttrain-merror:0.000127+0.000164\ttest-merror:0.370164+0.015987\n",
      "[460]\ttrain-merror:0.000063+0.000134\ttest-merror:0.365586+0.014866\n",
      "[480]\ttrain-merror:0.000000+0.000000\ttest-merror:0.365876+0.016781\n"
     ]
    }
   ],
   "source": [
    "bst.cv <- xgb.cv(params, dtrain, n_rounds.cv, nfold = 10, metrics = {'merror'},\n",
    "                 print.every.n = 20, prediction = TRUE)"
   ]
  },
  {
   "cell_type": "code",
   "execution_count": 101,
   "metadata": {
    "collapsed": false
   },
   "outputs": [
    {
     "data": {
      "text/html": [
       "489"
      ],
      "text/latex": [
       "489"
      ],
      "text/markdown": [
       "489"
      ],
      "text/plain": [
       "[1] 489"
      ]
     },
     "metadata": {},
     "output_type": "display_data"
    }
   ],
   "source": [
    "n_rounds.train <- which.min(bst.cv$dt[, test.merror.mean])\n",
    "n_rounds.train"
   ]
  },
  {
   "cell_type": "code",
   "execution_count": 102,
   "metadata": {
    "collapsed": false
   },
   "outputs": [
    {
     "name": "stdout",
     "output_type": "stream",
     "text": [
      "[0]\txg_train-merror:0.550228\n",
      "[1]\txg_train-merror:0.496290\n",
      "[2]\txg_train-merror:0.461187\n",
      "[3]\txg_train-merror:0.437785\n",
      "[4]\txg_train-merror:0.426370\n",
      "[5]\txg_train-merror:0.413527\n",
      "[6]\txg_train-merror:0.392123\n",
      "[7]\txg_train-merror:0.392123\n",
      "[8]\txg_train-merror:0.376142\n",
      "[9]\txg_train-merror:0.370719\n",
      "[10]\txg_train-merror:0.365297\n",
      "[11]\txg_train-merror:0.353025\n",
      "[12]\txg_train-merror:0.350742\n",
      "[13]\txg_train-merror:0.342466\n",
      "[14]\txg_train-merror:0.340183\n",
      "[15]\txg_train-merror:0.330194\n",
      "[16]\txg_train-merror:0.324486\n",
      "[17]\txg_train-merror:0.321918\n",
      "[18]\txg_train-merror:0.315068\n",
      "[19]\txg_train-merror:0.307363\n",
      "[20]\txg_train-merror:0.299943\n",
      "[21]\txg_train-merror:0.293950\n",
      "[22]\txg_train-merror:0.290240\n",
      "[23]\txg_train-merror:0.282249\n",
      "[24]\txg_train-merror:0.282249\n",
      "[25]\txg_train-merror:0.281678\n",
      "[26]\txg_train-merror:0.278824\n",
      "[27]\txg_train-merror:0.275114\n",
      "[28]\txg_train-merror:0.269121\n",
      "[29]\txg_train-merror:0.267979\n",
      "[30]\txg_train-merror:0.262842\n",
      "[31]\txg_train-merror:0.259703\n",
      "[32]\txg_train-merror:0.255422\n",
      "[33]\txg_train-merror:0.251427\n",
      "[34]\txg_train-merror:0.246290\n",
      "[35]\txg_train-merror:0.238299\n",
      "[36]\txg_train-merror:0.235160\n",
      "[37]\txg_train-merror:0.229452\n",
      "[38]\txg_train-merror:0.228310\n",
      "[39]\txg_train-merror:0.223744\n",
      "[40]\txg_train-merror:0.216610\n",
      "[41]\txg_train-merror:0.217466\n",
      "[42]\txg_train-merror:0.211758\n",
      "[43]\txg_train-merror:0.206336\n",
      "[44]\txg_train-merror:0.204909\n",
      "[45]\txg_train-merror:0.204053\n",
      "[46]\txg_train-merror:0.198630\n",
      "[47]\txg_train-merror:0.196062\n",
      "[48]\txg_train-merror:0.196347\n",
      "[49]\txg_train-merror:0.191495\n",
      "[50]\txg_train-merror:0.190639\n",
      "[51]\txg_train-merror:0.191210\n",
      "[52]\txg_train-merror:0.186929\n",
      "[53]\txg_train-merror:0.182648\n",
      "[54]\txg_train-merror:0.180365\n",
      "[55]\txg_train-merror:0.176941\n",
      "[56]\txg_train-merror:0.175799\n",
      "[57]\txg_train-merror:0.174943\n",
      "[58]\txg_train-merror:0.171518\n",
      "[59]\txg_train-merror:0.168379\n",
      "[60]\txg_train-merror:0.170091\n",
      "[61]\txg_train-merror:0.163813\n",
      "[62]\txg_train-merror:0.163813\n",
      "[63]\txg_train-merror:0.158676\n",
      "[64]\txg_train-merror:0.155537\n",
      "[65]\txg_train-merror:0.152397\n",
      "[66]\txg_train-merror:0.149829\n",
      "[67]\txg_train-merror:0.150685\n",
      "[68]\txg_train-merror:0.147546\n",
      "[69]\txg_train-merror:0.144406\n",
      "[70]\txg_train-merror:0.142409\n",
      "[71]\txg_train-merror:0.141553\n",
      "[72]\txg_train-merror:0.137272\n",
      "[73]\txg_train-merror:0.133276\n",
      "[74]\txg_train-merror:0.134132\n",
      "[75]\txg_train-merror:0.131279\n",
      "[76]\txg_train-merror:0.131279\n",
      "[77]\txg_train-merror:0.128995\n",
      "[78]\txg_train-merror:0.128710\n",
      "[79]\txg_train-merror:0.126998\n",
      "[80]\txg_train-merror:0.125285\n",
      "[81]\txg_train-merror:0.123573\n",
      "[82]\txg_train-merror:0.123288\n",
      "[83]\txg_train-merror:0.121290\n",
      "[84]\txg_train-merror:0.119578\n",
      "[85]\txg_train-merror:0.115582\n",
      "[86]\txg_train-merror:0.113584\n",
      "[87]\txg_train-merror:0.113299\n",
      "[88]\txg_train-merror:0.110160\n",
      "[89]\txg_train-merror:0.109018\n",
      "[90]\txg_train-merror:0.109018\n",
      "[91]\txg_train-merror:0.105023\n",
      "[92]\txg_train-merror:0.103881\n",
      "[93]\txg_train-merror:0.100742\n",
      "[94]\txg_train-merror:0.100457\n",
      "[95]\txg_train-merror:0.098459\n",
      "[96]\txg_train-merror:0.098174\n",
      "[97]\txg_train-merror:0.097603\n",
      "[98]\txg_train-merror:0.096461\n",
      "[99]\txg_train-merror:0.095890\n",
      "[100]\txg_train-merror:0.095890\n",
      "[101]\txg_train-merror:0.094178\n",
      "[102]\txg_train-merror:0.091895\n",
      "[103]\txg_train-merror:0.090753\n",
      "[104]\txg_train-merror:0.087900\n",
      "[105]\txg_train-merror:0.087043\n",
      "[106]\txg_train-merror:0.085331\n",
      "[107]\txg_train-merror:0.088185\n",
      "[108]\txg_train-merror:0.085616\n",
      "[109]\txg_train-merror:0.083333\n",
      "[110]\txg_train-merror:0.083333\n",
      "[111]\txg_train-merror:0.083619\n",
      "[112]\txg_train-merror:0.082477\n",
      "[113]\txg_train-merror:0.083904\n",
      "[114]\txg_train-merror:0.080479\n",
      "[115]\txg_train-merror:0.078196\n",
      "[116]\txg_train-merror:0.078767\n",
      "[117]\txg_train-merror:0.077911\n",
      "[118]\txg_train-merror:0.076769\n",
      "[119]\txg_train-merror:0.075913\n",
      "[120]\txg_train-merror:0.075057\n",
      "[121]\txg_train-merror:0.072203\n",
      "[122]\txg_train-merror:0.072774\n",
      "[123]\txg_train-merror:0.071918\n",
      "[124]\txg_train-merror:0.072489\n",
      "[125]\txg_train-merror:0.071632\n",
      "[126]\txg_train-merror:0.070205\n",
      "[127]\txg_train-merror:0.069635\n",
      "[128]\txg_train-merror:0.068493\n",
      "[129]\txg_train-merror:0.067352\n",
      "[130]\txg_train-merror:0.066210\n",
      "[131]\txg_train-merror:0.065354\n",
      "[132]\txg_train-merror:0.065639\n",
      "[133]\txg_train-merror:0.064498\n",
      "[134]\txg_train-merror:0.063356\n",
      "[135]\txg_train-merror:0.061929\n",
      "[136]\txg_train-merror:0.061644\n",
      "[137]\txg_train-merror:0.061073\n",
      "[138]\txg_train-merror:0.059646\n",
      "[139]\txg_train-merror:0.059361\n",
      "[140]\txg_train-merror:0.058505\n",
      "[141]\txg_train-merror:0.057363\n",
      "[142]\txg_train-merror:0.057934\n",
      "[143]\txg_train-merror:0.056792\n",
      "[144]\txg_train-merror:0.057363\n",
      "[145]\txg_train-merror:0.055365\n",
      "[146]\txg_train-merror:0.055080\n",
      "[147]\txg_train-merror:0.052797\n",
      "[148]\txg_train-merror:0.051655\n",
      "[149]\txg_train-merror:0.051941\n",
      "[150]\txg_train-merror:0.050799\n",
      "[151]\txg_train-merror:0.049658\n",
      "[152]\txg_train-merror:0.048516\n",
      "[153]\txg_train-merror:0.048516\n",
      "[154]\txg_train-merror:0.047945\n",
      "[155]\txg_train-merror:0.045662\n",
      "[156]\txg_train-merror:0.044521\n",
      "[157]\txg_train-merror:0.044235\n",
      "[158]\txg_train-merror:0.043379\n",
      "[159]\txg_train-merror:0.041667\n",
      "[160]\txg_train-merror:0.041381\n",
      "[161]\txg_train-merror:0.041952\n",
      "[162]\txg_train-merror:0.041952\n",
      "[163]\txg_train-merror:0.042237\n",
      "[164]\txg_train-merror:0.042237\n",
      "[165]\txg_train-merror:0.041096\n",
      "[166]\txg_train-merror:0.040811\n",
      "[167]\txg_train-merror:0.039098\n",
      "[168]\txg_train-merror:0.039098\n",
      "[169]\txg_train-merror:0.038242\n",
      "[170]\txg_train-merror:0.037957\n",
      "[171]\txg_train-merror:0.038242\n",
      "[172]\txg_train-merror:0.038242\n",
      "[173]\txg_train-merror:0.037671\n",
      "[174]\txg_train-merror:0.036815\n",
      "[175]\txg_train-merror:0.035674\n",
      "[176]\txg_train-merror:0.035103\n",
      "[177]\txg_train-merror:0.034247\n",
      "[178]\txg_train-merror:0.033676\n",
      "[179]\txg_train-merror:0.033961\n",
      "[180]\txg_train-merror:0.033390\n",
      "[181]\txg_train-merror:0.032820\n",
      "[182]\txg_train-merror:0.032820\n",
      "[183]\txg_train-merror:0.033105\n",
      "[184]\txg_train-merror:0.033390\n",
      "[185]\txg_train-merror:0.032249\n",
      "[186]\txg_train-merror:0.031107\n",
      "[187]\txg_train-merror:0.030822\n",
      "[188]\txg_train-merror:0.031107\n",
      "[189]\txg_train-merror:0.030251\n",
      "[190]\txg_train-merror:0.030537\n",
      "[191]\txg_train-merror:0.029395\n",
      "[192]\txg_train-merror:0.029395\n",
      "[193]\txg_train-merror:0.029680\n",
      "[194]\txg_train-merror:0.028539\n",
      "[195]\txg_train-merror:0.028253\n",
      "[196]\txg_train-merror:0.028253\n",
      "[197]\txg_train-merror:0.028253\n",
      "[198]\txg_train-merror:0.027397\n",
      "[199]\txg_train-merror:0.026541\n",
      "[200]\txg_train-merror:0.028253\n",
      "[201]\txg_train-merror:0.028253\n",
      "[202]\txg_train-merror:0.026256\n",
      "[203]\txg_train-merror:0.026256\n",
      "[204]\txg_train-merror:0.025114\n",
      "[205]\txg_train-merror:0.024829\n",
      "[206]\txg_train-merror:0.023973\n",
      "[207]\txg_train-merror:0.023973\n",
      "[208]\txg_train-merror:0.024543\n",
      "[209]\txg_train-merror:0.023973\n",
      "[210]\txg_train-merror:0.022831\n",
      "[211]\txg_train-merror:0.022831\n",
      "[212]\txg_train-merror:0.021689\n",
      "[213]\txg_train-merror:0.022260\n",
      "[214]\txg_train-merror:0.022546\n",
      "[215]\txg_train-merror:0.022546\n",
      "[216]\txg_train-merror:0.022260\n",
      "[217]\txg_train-merror:0.022260\n",
      "[218]\txg_train-merror:0.021404\n",
      "[219]\txg_train-merror:0.021689\n",
      "[220]\txg_train-merror:0.021119\n",
      "[221]\txg_train-merror:0.021119\n",
      "[222]\txg_train-merror:0.021404\n",
      "[223]\txg_train-merror:0.021119\n",
      "[224]\txg_train-merror:0.020548\n",
      "[225]\txg_train-merror:0.019692\n",
      "[226]\txg_train-merror:0.019692\n",
      "[227]\txg_train-merror:0.019121\n",
      "[228]\txg_train-merror:0.018836\n",
      "[229]\txg_train-merror:0.019406\n",
      "[230]\txg_train-merror:0.017979\n",
      "[231]\txg_train-merror:0.017979\n",
      "[232]\txg_train-merror:0.018265\n",
      "[233]\txg_train-merror:0.017979\n",
      "[234]\txg_train-merror:0.017979\n",
      "[235]\txg_train-merror:0.017409\n",
      "[236]\txg_train-merror:0.017409\n",
      "[237]\txg_train-merror:0.017409\n",
      "[238]\txg_train-merror:0.017123\n",
      "[239]\txg_train-merror:0.017409\n",
      "[240]\txg_train-merror:0.017409\n",
      "[241]\txg_train-merror:0.017123\n",
      "[242]\txg_train-merror:0.016838\n",
      "[243]\txg_train-merror:0.017123\n",
      "[244]\txg_train-merror:0.016838\n",
      "[245]\txg_train-merror:0.015982\n",
      "[246]\txg_train-merror:0.015982\n",
      "[247]\txg_train-merror:0.015411\n",
      "[248]\txg_train-merror:0.015411\n",
      "[249]\txg_train-merror:0.015411\n",
      "[250]\txg_train-merror:0.015411\n",
      "[251]\txg_train-merror:0.014840\n",
      "[252]\txg_train-merror:0.014840\n",
      "[253]\txg_train-merror:0.014840\n",
      "[254]\txg_train-merror:0.014555\n",
      "[255]\txg_train-merror:0.014555\n",
      "[256]\txg_train-merror:0.014555\n",
      "[257]\txg_train-merror:0.014555\n",
      "[258]\txg_train-merror:0.013984\n",
      "[259]\txg_train-merror:0.013984\n",
      "[260]\txg_train-merror:0.012842\n",
      "[261]\txg_train-merror:0.013699\n",
      "[262]\txg_train-merror:0.013699\n",
      "[263]\txg_train-merror:0.012842\n",
      "[264]\txg_train-merror:0.012557\n",
      "[265]\txg_train-merror:0.012557\n",
      "[266]\txg_train-merror:0.012272\n",
      "[267]\txg_train-merror:0.012272\n",
      "[268]\txg_train-merror:0.011986\n",
      "[269]\txg_train-merror:0.011986\n",
      "[270]\txg_train-merror:0.011416\n",
      "[271]\txg_train-merror:0.010845\n",
      "[272]\txg_train-merror:0.010274\n",
      "[273]\txg_train-merror:0.010559\n",
      "[274]\txg_train-merror:0.009989\n",
      "[275]\txg_train-merror:0.010559\n",
      "[276]\txg_train-merror:0.010845\n",
      "[277]\txg_train-merror:0.010559\n",
      "[278]\txg_train-merror:0.010559\n",
      "[279]\txg_train-merror:0.010559\n",
      "[280]\txg_train-merror:0.010274\n",
      "[281]\txg_train-merror:0.011130\n",
      "[282]\txg_train-merror:0.010559\n",
      "[283]\txg_train-merror:0.010845\n",
      "[284]\txg_train-merror:0.010845\n",
      "[285]\txg_train-merror:0.010845\n",
      "[286]\txg_train-merror:0.010845\n",
      "[287]\txg_train-merror:0.010274\n",
      "[288]\txg_train-merror:0.009989\n",
      "[289]\txg_train-merror:0.009989\n",
      "[290]\txg_train-merror:0.009989\n",
      "[291]\txg_train-merror:0.009132\n",
      "[292]\txg_train-merror:0.009132\n",
      "[293]\txg_train-merror:0.008847\n",
      "[294]\txg_train-merror:0.008562\n",
      "[295]\txg_train-merror:0.008847\n",
      "[296]\txg_train-merror:0.008562\n",
      "[297]\txg_train-merror:0.008276\n",
      "[298]\txg_train-merror:0.008562\n",
      "[299]\txg_train-merror:0.007991\n",
      "[300]\txg_train-merror:0.007991\n",
      "[301]\txg_train-merror:0.007991\n",
      "[302]\txg_train-merror:0.007991\n",
      "[303]\txg_train-merror:0.007991\n",
      "[304]\txg_train-merror:0.007991\n",
      "[305]\txg_train-merror:0.007991\n",
      "[306]\txg_train-merror:0.007991\n",
      "[307]\txg_train-merror:0.007991\n",
      "[308]\txg_train-merror:0.007991\n",
      "[309]\txg_train-merror:0.007991\n",
      "[310]\txg_train-merror:0.007420\n",
      "[311]\txg_train-merror:0.007420\n",
      "[312]\txg_train-merror:0.007420\n",
      "[313]\txg_train-merror:0.007135\n",
      "[314]\txg_train-merror:0.007135\n",
      "[315]\txg_train-merror:0.007135\n",
      "[316]\txg_train-merror:0.006279\n",
      "[317]\txg_train-merror:0.006564\n",
      "[318]\txg_train-merror:0.006279\n",
      "[319]\txg_train-merror:0.006564\n",
      "[320]\txg_train-merror:0.005993\n",
      "[321]\txg_train-merror:0.005993\n",
      "[322]\txg_train-merror:0.005993\n",
      "[323]\txg_train-merror:0.005993\n",
      "[324]\txg_train-merror:0.005708\n",
      "[325]\txg_train-merror:0.005137\n",
      "[326]\txg_train-merror:0.005422\n",
      "[327]\txg_train-merror:0.005422\n",
      "[328]\txg_train-merror:0.005137\n",
      "[329]\txg_train-merror:0.005137\n",
      "[330]\txg_train-merror:0.005137\n",
      "[331]\txg_train-merror:0.005137\n",
      "[332]\txg_train-merror:0.005137\n",
      "[333]\txg_train-merror:0.004852\n",
      "[334]\txg_train-merror:0.005137\n",
      "[335]\txg_train-merror:0.005137\n",
      "[336]\txg_train-merror:0.004566\n",
      "[337]\txg_train-merror:0.004566\n",
      "[338]\txg_train-merror:0.004566\n",
      "[339]\txg_train-merror:0.004566\n",
      "[340]\txg_train-merror:0.004566\n",
      "[341]\txg_train-merror:0.004566\n",
      "[342]\txg_train-merror:0.004566\n",
      "[343]\txg_train-merror:0.004566\n",
      "[344]\txg_train-merror:0.004281\n",
      "[345]\txg_train-merror:0.004566\n",
      "[346]\txg_train-merror:0.004281\n",
      "[347]\txg_train-merror:0.004281\n",
      "[348]\txg_train-merror:0.004281\n",
      "[349]\txg_train-merror:0.004281\n",
      "[350]\txg_train-merror:0.004281\n",
      "[351]\txg_train-merror:0.004281\n",
      "[352]\txg_train-merror:0.004281\n",
      "[353]\txg_train-merror:0.004281\n",
      "[354]\txg_train-merror:0.003710\n",
      "[355]\txg_train-merror:0.003710\n",
      "[356]\txg_train-merror:0.003710\n",
      "[357]\txg_train-merror:0.003710\n",
      "[358]\txg_train-merror:0.003710\n",
      "[359]\txg_train-merror:0.003710\n",
      "[360]\txg_train-merror:0.003710\n",
      "[361]\txg_train-merror:0.003425\n",
      "[362]\txg_train-merror:0.003425\n",
      "[363]\txg_train-merror:0.003425\n",
      "[364]\txg_train-merror:0.003425\n",
      "[365]\txg_train-merror:0.003710\n",
      "[366]\txg_train-merror:0.003710\n",
      "[367]\txg_train-merror:0.003710\n",
      "[368]\txg_train-merror:0.003710\n",
      "[369]\txg_train-merror:0.003710\n",
      "[370]\txg_train-merror:0.003710\n",
      "[371]\txg_train-merror:0.003425\n",
      "[372]\txg_train-merror:0.003139\n",
      "[373]\txg_train-merror:0.003139\n",
      "[374]\txg_train-merror:0.003139\n",
      "[375]\txg_train-merror:0.002854\n",
      "[376]\txg_train-merror:0.002854\n",
      "[377]\txg_train-merror:0.002854\n",
      "[378]\txg_train-merror:0.003139\n",
      "[379]\txg_train-merror:0.002854\n",
      "[380]\txg_train-merror:0.002854\n",
      "[381]\txg_train-merror:0.003139\n",
      "[382]\txg_train-merror:0.002854\n",
      "[383]\txg_train-merror:0.002854\n",
      "[384]\txg_train-merror:0.002854\n",
      "[385]\txg_train-merror:0.002568\n",
      "[386]\txg_train-merror:0.002854\n",
      "[387]\txg_train-merror:0.002568\n",
      "[388]\txg_train-merror:0.002568\n",
      "[389]\txg_train-merror:0.002568\n",
      "[390]\txg_train-merror:0.002283\n",
      "[391]\txg_train-merror:0.002568\n",
      "[392]\txg_train-merror:0.002283\n",
      "[393]\txg_train-merror:0.002283\n",
      "[394]\txg_train-merror:0.002283\n",
      "[395]\txg_train-merror:0.002283\n",
      "[396]\txg_train-merror:0.002283\n",
      "[397]\txg_train-merror:0.002283\n",
      "[398]\txg_train-merror:0.002283\n",
      "[399]\txg_train-merror:0.002283\n",
      "[400]\txg_train-merror:0.002283\n",
      "[401]\txg_train-merror:0.002283\n",
      "[402]\txg_train-merror:0.001998\n",
      "[403]\txg_train-merror:0.001998\n",
      "[404]\txg_train-merror:0.001998\n",
      "[405]\txg_train-merror:0.001998\n",
      "[406]\txg_train-merror:0.002283\n",
      "[407]\txg_train-merror:0.002283\n",
      "[408]\txg_train-merror:0.002283\n",
      "[409]\txg_train-merror:0.001998\n",
      "[410]\txg_train-merror:0.001998\n",
      "[411]\txg_train-merror:0.001998\n",
      "[412]\txg_train-merror:0.001998\n",
      "[413]\txg_train-merror:0.001998\n",
      "[414]\txg_train-merror:0.001712\n",
      "[415]\txg_train-merror:0.001712\n",
      "[416]\txg_train-merror:0.001712\n",
      "[417]\txg_train-merror:0.001712\n",
      "[418]\txg_train-merror:0.001712\n",
      "[419]\txg_train-merror:0.001712\n",
      "[420]\txg_train-merror:0.001712\n",
      "[421]\txg_train-merror:0.001712\n",
      "[422]\txg_train-merror:0.001712\n",
      "[423]\txg_train-merror:0.001712\n",
      "[424]\txg_train-merror:0.001712\n",
      "[425]\txg_train-merror:0.001712\n",
      "[426]\txg_train-merror:0.001712\n",
      "[427]\txg_train-merror:0.001712\n",
      "[428]\txg_train-merror:0.001712\n",
      "[429]\txg_train-merror:0.001712\n",
      "[430]\txg_train-merror:0.001712\n",
      "[431]\txg_train-merror:0.001427\n",
      "[432]\txg_train-merror:0.001427\n",
      "[433]\txg_train-merror:0.001427\n",
      "[434]\txg_train-merror:0.001427\n",
      "[435]\txg_train-merror:0.001427\n",
      "[436]\txg_train-merror:0.001427\n",
      "[437]\txg_train-merror:0.001427\n",
      "[438]\txg_train-merror:0.001427\n",
      "[439]\txg_train-merror:0.001427\n",
      "[440]\txg_train-merror:0.001427\n",
      "[441]\txg_train-merror:0.001427\n",
      "[442]\txg_train-merror:0.001427\n",
      "[443]\txg_train-merror:0.001427\n",
      "[444]\txg_train-merror:0.001142\n",
      "[445]\txg_train-merror:0.001142\n",
      "[446]\txg_train-merror:0.001142\n",
      "[447]\txg_train-merror:0.001142\n",
      "[448]\txg_train-merror:0.001142\n",
      "[449]\txg_train-merror:0.001142\n",
      "[450]\txg_train-merror:0.001142\n",
      "[451]\txg_train-merror:0.001142\n",
      "[452]\txg_train-merror:0.001142\n",
      "[453]\txg_train-merror:0.001142\n",
      "[454]\txg_train-merror:0.001142\n",
      "[455]\txg_train-merror:0.001142\n",
      "[456]\txg_train-merror:0.001142\n",
      "[457]\txg_train-merror:0.001142\n",
      "[458]\txg_train-merror:0.001142\n",
      "[459]\txg_train-merror:0.001142\n",
      "[460]\txg_train-merror:0.001142\n",
      "[461]\txg_train-merror:0.000856\n",
      "[462]\txg_train-merror:0.000856\n",
      "[463]\txg_train-merror:0.000856\n",
      "[464]\txg_train-merror:0.000856\n",
      "[465]\txg_train-merror:0.000571\n",
      "[466]\txg_train-merror:0.000571\n",
      "[467]\txg_train-merror:0.000571\n",
      "[468]\txg_train-merror:0.000285\n",
      "[469]\txg_train-merror:0.000571\n",
      "[470]\txg_train-merror:0.000285\n",
      "[471]\txg_train-merror:0.000285\n",
      "[472]\txg_train-merror:0.000285\n",
      "[473]\txg_train-merror:0.000285\n",
      "[474]\txg_train-merror:0.000285\n",
      "[475]\txg_train-merror:0.000285\n",
      "[476]\txg_train-merror:0.000285\n",
      "[477]\txg_train-merror:0.000285\n",
      "[478]\txg_train-merror:0.000285\n",
      "[479]\txg_train-merror:0.000285\n",
      "[480]\txg_train-merror:0.000285\n",
      "[481]\txg_train-merror:0.000285\n",
      "[482]\txg_train-merror:0.000285\n",
      "[483]\txg_train-merror:0.000285\n",
      "[484]\txg_train-merror:0.000285\n",
      "[485]\txg_train-merror:0.000285\n",
      "[486]\txg_train-merror:0.000285\n",
      "[487]\txg_train-merror:0.000285\n",
      "[488]\txg_train-merror:0.000285\n"
     ]
    }
   ],
   "source": [
    "# create the model\n",
    "bst <- xgb.train(   params              = params, \n",
    "                    data                = dtrain, \n",
    "                    nrounds             = n_rounds.train, \n",
    "                    verbose             = 1,\n",
    "                    watchlist           = watchlist,\n",
    "                    maximize            = FALSE\n",
    ")"
   ]
  },
  {
   "cell_type": "code",
   "execution_count": 103,
   "metadata": {
    "collapsed": false
   },
   "outputs": [],
   "source": [
    "# generate predictions from model\n",
    "pred <- predict(bst, xg_test);"
   ]
  },
  {
   "cell_type": "code",
   "execution_count": 104,
   "metadata": {
    "collapsed": false
   },
   "outputs": [
    {
     "data": {
      "text/plain": [
       "Confusion Matrix and Statistics\n",
       "\n",
       "          Reference\n",
       "Prediction  0  1  2  3\n",
       "         0 88 78 46 15\n",
       "         1 92 88 61 14\n",
       "         2 29 29 30  6\n",
       "         3  5  9 10  0\n",
       "\n",
       "Overall Statistics\n",
       "                                        \n",
       "               Accuracy : 0.343         \n",
       "                 95% CI : (0.305, 0.383)\n",
       "    No Information Rate : 0.357         \n",
       "    P-Value [Acc > NIR] : 0.764989      \n",
       "                                        \n",
       "                  Kappa : 0.034         \n",
       " Mcnemar's Test P-Value : 0.000653      \n",
       "\n",
       "Statistics by Class:\n",
       "\n",
       "                     Class: 0 Class: 1 Class: 2 Class: 3\n",
       "Sensitivity             0.411    0.431    0.204   0.0000\n",
       "Specificity             0.640    0.578    0.859   0.9575\n",
       "Pos Pred Value          0.388    0.345    0.319   0.0000\n",
       "Neg Pred Value          0.662    0.664    0.769   0.9392\n",
       "Prevalence              0.357    0.340    0.245   0.0583\n",
       "Detection Rate          0.147    0.147    0.050   0.0000\n",
       "Detection Prevalence    0.378    0.425    0.157   0.0400\n",
       "Balanced Accuracy       0.526    0.505    0.531   0.4788"
      ]
     },
     "metadata": {},
     "output_type": "display_data"
    }
   ],
   "source": [
    "confusionMatrix(pred, actual)"
   ]
  },
  {
   "cell_type": "markdown",
   "metadata": {},
   "source": [
    "### Log Transform, scale and centre all features"
   ]
  },
  {
   "cell_type": "code",
   "execution_count": 152,
   "metadata": {
    "collapsed": true
   },
   "outputs": [],
   "source": [
    "xg_train <- Udf.Utilities.UpSample(train)\n",
    "xg_test <- test"
   ]
  },
  {
   "cell_type": "code",
   "execution_count": 153,
   "metadata": {
    "collapsed": false
   },
   "outputs": [],
   "source": [
    "# set the Result to a numeric range from 0 - 3\n",
    "xg_train.y <- as.numeric(xg_train$Result)-1\n",
    "xg_test.y <- as.numeric(test$Result)-1"
   ]
  },
  {
   "cell_type": "code",
   "execution_count": 154,
   "metadata": {
    "collapsed": false
   },
   "outputs": [],
   "source": [
    "xg_train$Result <- as.numeric(xg_train$Result)-1\n",
    "for(i in c(1:ncol(xg_train))) {\n",
    "    xg_train[,i] <- as.numeric(log(xg_train[,i]))    \n",
    "    xg_train[,i] <- scale(xg_train[,i], scale=TRUE, center=TRUE)\n",
    "}\n",
    "\n",
    "xg_train$Result <- xg_train.y"
   ]
  },
  {
   "cell_type": "code",
   "execution_count": 155,
   "metadata": {
    "collapsed": true
   },
   "outputs": [],
   "source": [
    "for(i in c(1:ncol(xg_test))) {\n",
    "    xg_test[,i] <- as.numeric(log(xg_test[,i]))    \n",
    "    xg_test[,i] <- scale(xg_test[,i], scale=TRUE, center=TRUE)\n",
    "}\n",
    "\n",
    "xg_test$Result <- xg_test.y"
   ]
  },
  {
   "cell_type": "code",
   "execution_count": 156,
   "metadata": {
    "collapsed": false
   },
   "outputs": [],
   "source": [
    "# convert to matrix for boosting method\n",
    "xg_train <- sparse.model.matrix(Result ~ ., data = xg_train)\n",
    "dtrain <- xgb.DMatrix(data=xg_train, label=xg_train.y)"
   ]
  },
  {
   "cell_type": "code",
   "execution_count": 157,
   "metadata": {
    "collapsed": true
   },
   "outputs": [],
   "source": [
    "xg_test <- sparse.model.matrix(Result ~ ., data = xg_test)\n",
    "dtest <- xgb.DMatrix(data=xg_test, label=xg_test.y)"
   ]
  },
  {
   "cell_type": "code",
   "execution_count": 135,
   "metadata": {
    "collapsed": false
   },
   "outputs": [
    {
     "name": "stdout",
     "output_type": "stream",
     "text": [
      "[0]\txg_train-merror:0.745434\n",
      "[1]\txg_train-merror:0.754566\n",
      "[2]\txg_train-merror:0.750856\n",
      "[3]\txg_train-merror:0.752568\n",
      "[4]\txg_train-merror:0.751142\n",
      "[5]\txg_train-merror:0.752568\n",
      "[6]\txg_train-merror:0.752568\n",
      "[7]\txg_train-merror:0.752568\n",
      "[8]\txg_train-merror:0.752568\n",
      "[9]\txg_train-merror:0.752568\n",
      "[10]\txg_train-merror:0.751427\n",
      "[11]\txg_train-merror:0.751427\n",
      "[12]\txg_train-merror:0.750856\n",
      "[13]\txg_train-merror:0.751712\n",
      "[14]\txg_train-merror:0.751712\n",
      "[15]\txg_train-merror:0.752283\n",
      "[16]\txg_train-merror:0.752568\n",
      "[17]\txg_train-merror:0.751712\n",
      "[18]\txg_train-merror:0.752568\n",
      "[19]\txg_train-merror:0.752568\n",
      "[20]\txg_train-merror:0.750571\n",
      "[21]\txg_train-merror:0.750571\n",
      "[22]\txg_train-merror:0.750571\n",
      "[23]\txg_train-merror:0.750285\n",
      "[24]\txg_train-merror:0.750000\n",
      "[25]\txg_train-merror:0.749715\n",
      "[26]\txg_train-merror:0.749715\n",
      "[27]\txg_train-merror:0.749715\n",
      "[28]\txg_train-merror:0.749715\n",
      "[29]\txg_train-merror:0.749715\n",
      "[30]\txg_train-merror:0.749429\n",
      "[31]\txg_train-merror:0.749715\n",
      "[32]\txg_train-merror:0.749715\n",
      "[33]\txg_train-merror:0.749429\n",
      "[34]\txg_train-merror:0.750285\n",
      "[35]\txg_train-merror:0.749715\n",
      "[36]\txg_train-merror:0.750856\n",
      "[37]\txg_train-merror:0.750856\n",
      "[38]\txg_train-merror:0.750571\n",
      "[39]\txg_train-merror:0.749429\n",
      "[40]\txg_train-merror:0.748573\n",
      "[41]\txg_train-merror:0.748573\n",
      "[42]\txg_train-merror:0.748573\n",
      "[43]\txg_train-merror:0.748573\n",
      "[44]\txg_train-merror:0.748002\n",
      "[45]\txg_train-merror:0.748573\n",
      "[46]\txg_train-merror:0.748288\n",
      "[47]\txg_train-merror:0.748288\n",
      "[48]\txg_train-merror:0.749715\n",
      "[49]\txg_train-merror:0.748288\n",
      "[50]\txg_train-merror:0.749715\n",
      "[51]\txg_train-merror:0.749429\n",
      "[52]\txg_train-merror:0.748288\n",
      "[53]\txg_train-merror:0.748002\n",
      "[54]\txg_train-merror:0.748858\n",
      "[55]\txg_train-merror:0.749429\n",
      "[56]\txg_train-merror:0.749429\n",
      "[57]\txg_train-merror:0.749429\n",
      "[58]\txg_train-merror:0.749715\n",
      "[59]\txg_train-merror:0.749715\n",
      "[60]\txg_train-merror:0.749715\n",
      "[61]\txg_train-merror:0.749429\n",
      "[62]\txg_train-merror:0.749429\n",
      "[63]\txg_train-merror:0.748573\n",
      "[64]\txg_train-merror:0.749715\n",
      "[65]\txg_train-merror:0.748858\n",
      "[66]\txg_train-merror:0.749715\n",
      "[67]\txg_train-merror:0.749715\n",
      "[68]\txg_train-merror:0.748573\n",
      "[69]\txg_train-merror:0.748573\n",
      "[70]\txg_train-merror:0.749429\n",
      "[71]\txg_train-merror:0.750856\n",
      "[72]\txg_train-merror:0.750856\n",
      "[73]\txg_train-merror:0.750285\n",
      "[74]\txg_train-merror:0.749144\n",
      "[75]\txg_train-merror:0.750285\n",
      "[76]\txg_train-merror:0.750285\n",
      "[77]\txg_train-merror:0.750285\n",
      "[78]\txg_train-merror:0.750856\n",
      "[79]\txg_train-merror:0.750285\n",
      "[80]\txg_train-merror:0.750285\n",
      "[81]\txg_train-merror:0.750285\n",
      "[82]\txg_train-merror:0.750571\n",
      "[83]\txg_train-merror:0.750571\n",
      "[84]\txg_train-merror:0.750571\n",
      "[85]\txg_train-merror:0.750571\n",
      "[86]\txg_train-merror:0.750571\n",
      "[87]\txg_train-merror:0.750571\n",
      "[88]\txg_train-merror:0.750571\n",
      "[89]\txg_train-merror:0.750571\n",
      "[90]\txg_train-merror:0.750571\n",
      "[91]\txg_train-merror:0.750571\n",
      "[92]\txg_train-merror:0.750571\n",
      "[93]\txg_train-merror:0.750571\n",
      "[94]\txg_train-merror:0.750571\n",
      "[95]\txg_train-merror:0.750571\n",
      "[96]\txg_train-merror:0.750571\n",
      "[97]\txg_train-merror:0.750571\n",
      "[98]\txg_train-merror:0.750571\n",
      "[99]\txg_train-merror:0.750571\n",
      "[100]\txg_train-merror:0.750571\n",
      "[101]\txg_train-merror:0.750571\n",
      "[102]\txg_train-merror:0.750571\n",
      "[103]\txg_train-merror:0.750571\n",
      "[104]\txg_train-merror:0.750571\n",
      "[105]\txg_train-merror:0.750571\n",
      "[106]\txg_train-merror:0.750571\n",
      "[107]\txg_train-merror:0.750571\n",
      "[108]\txg_train-merror:0.750571\n",
      "[109]\txg_train-merror:0.750571\n",
      "[110]\txg_train-merror:0.750571\n",
      "[111]\txg_train-merror:0.750571\n",
      "[112]\txg_train-merror:0.750571\n",
      "[113]\txg_train-merror:0.750571\n",
      "[114]\txg_train-merror:0.750571\n",
      "[115]\txg_train-merror:0.750571\n",
      "[116]\txg_train-merror:0.750571\n",
      "[117]\txg_train-merror:0.750571\n",
      "[118]\txg_train-merror:0.750571\n",
      "[119]\txg_train-merror:0.750571\n",
      "[120]\txg_train-merror:0.750571\n",
      "[121]\txg_train-merror:0.750571\n",
      "[122]\txg_train-merror:0.750571\n",
      "[123]\txg_train-merror:0.750571\n",
      "[124]\txg_train-merror:0.750571\n",
      "[125]\txg_train-merror:0.750571\n",
      "[126]\txg_train-merror:0.750571\n",
      "[127]\txg_train-merror:0.750571\n",
      "[128]\txg_train-merror:0.750571\n",
      "[129]\txg_train-merror:0.750571\n",
      "[130]\txg_train-merror:0.750571\n",
      "[131]\txg_train-merror:0.750571\n",
      "[132]\txg_train-merror:0.750571\n",
      "[133]\txg_train-merror:0.750571\n",
      "[134]\txg_train-merror:0.750571\n",
      "[135]\txg_train-merror:0.750571\n",
      "[136]\txg_train-merror:0.750571\n",
      "[137]\txg_train-merror:0.750571\n",
      "[138]\txg_train-merror:0.750571\n",
      "[139]\txg_train-merror:0.750571\n",
      "[140]\txg_train-merror:0.750571\n",
      "[141]\txg_train-merror:0.750571\n",
      "[142]\txg_train-merror:0.750571\n",
      "[143]\txg_train-merror:0.750571\n",
      "[144]\txg_train-merror:0.750571\n",
      "[145]\txg_train-merror:0.750571\n",
      "[146]\txg_train-merror:0.750571\n",
      "[147]\txg_train-merror:0.750571\n",
      "[148]\txg_train-merror:0.750571\n",
      "[149]\txg_train-merror:0.750571\n",
      "[150]\txg_train-merror:0.750571\n",
      "[151]\txg_train-merror:0.750571\n",
      "[152]\txg_train-merror:0.750571\n",
      "[153]\txg_train-merror:0.750571\n",
      "[154]\txg_train-merror:0.750571\n",
      "[155]\txg_train-merror:0.750571\n",
      "[156]\txg_train-merror:0.750571\n",
      "[157]\txg_train-merror:0.750571\n",
      "[158]\txg_train-merror:0.750571\n",
      "[159]\txg_train-merror:0.750571\n",
      "[160]\txg_train-merror:0.750571\n",
      "[161]\txg_train-merror:0.750571\n",
      "[162]\txg_train-merror:0.750571\n",
      "[163]\txg_train-merror:0.750571\n",
      "[164]\txg_train-merror:0.750571\n",
      "[165]\txg_train-merror:0.750571\n",
      "[166]\txg_train-merror:0.750571\n",
      "[167]\txg_train-merror:0.750571\n",
      "[168]\txg_train-merror:0.751142\n",
      "[169]\txg_train-merror:0.750571\n",
      "[170]\txg_train-merror:0.751142\n",
      "[171]\txg_train-merror:0.750571\n",
      "[172]\txg_train-merror:0.751142\n",
      "[173]\txg_train-merror:0.751142\n",
      "[174]\txg_train-merror:0.750856\n",
      "[175]\txg_train-merror:0.750856\n",
      "[176]\txg_train-merror:0.750571\n",
      "[177]\txg_train-merror:0.750571\n",
      "[178]\txg_train-merror:0.750571\n",
      "[179]\txg_train-merror:0.750571\n",
      "[180]\txg_train-merror:0.750571\n",
      "[181]\txg_train-merror:0.750571\n",
      "[182]\txg_train-merror:0.750571\n",
      "[183]\txg_train-merror:0.750571\n",
      "[184]\txg_train-merror:0.750571\n",
      "[185]\txg_train-merror:0.750571\n",
      "[186]\txg_train-merror:0.750571\n",
      "[187]\txg_train-merror:0.750571\n",
      "[188]\txg_train-merror:0.750571\n",
      "[189]\txg_train-merror:0.750571\n",
      "[190]\txg_train-merror:0.750571\n",
      "[191]\txg_train-merror:0.750571\n",
      "[192]\txg_train-merror:0.750571\n",
      "[193]\txg_train-merror:0.750571\n",
      "[194]\txg_train-merror:0.750571\n",
      "[195]\txg_train-merror:0.750571\n",
      "[196]\txg_train-merror:0.750571\n",
      "[197]\txg_train-merror:0.750571\n",
      "[198]\txg_train-merror:0.750571\n",
      "[199]\txg_train-merror:0.750571\n",
      "[200]\txg_train-merror:0.750571\n",
      "[201]\txg_train-merror:0.750571\n",
      "[202]\txg_train-merror:0.750571\n",
      "[203]\txg_train-merror:0.750571\n",
      "[204]\txg_train-merror:0.750571\n",
      "[205]\txg_train-merror:0.750571\n",
      "[206]\txg_train-merror:0.750571\n",
      "[207]\txg_train-merror:0.750571\n",
      "[208]\txg_train-merror:0.750571\n",
      "[209]\txg_train-merror:0.750571\n",
      "[210]\txg_train-merror:0.750571\n",
      "[211]\txg_train-merror:0.750571\n",
      "[212]\txg_train-merror:0.750571\n",
      "[213]\txg_train-merror:0.750571\n",
      "[214]\txg_train-merror:0.750571\n",
      "[215]\txg_train-merror:0.750571\n",
      "[216]\txg_train-merror:0.750571\n",
      "[217]\txg_train-merror:0.750571\n",
      "[218]\txg_train-merror:0.750571\n",
      "[219]\txg_train-merror:0.750571\n",
      "[220]\txg_train-merror:0.750571\n",
      "[221]\txg_train-merror:0.750571\n",
      "[222]\txg_train-merror:0.750571\n",
      "[223]\txg_train-merror:0.750571\n",
      "[224]\txg_train-merror:0.750571\n",
      "[225]\txg_train-merror:0.750571\n",
      "[226]\txg_train-merror:0.750571\n",
      "[227]\txg_train-merror:0.750571\n",
      "[228]\txg_train-merror:0.750571\n",
      "[229]\txg_train-merror:0.750571\n",
      "[230]\txg_train-merror:0.751142\n",
      "[231]\txg_train-merror:0.751142\n",
      "[232]\txg_train-merror:0.751142\n",
      "[233]\txg_train-merror:0.751142\n",
      "[234]\txg_train-merror:0.751142\n",
      "[235]\txg_train-merror:0.751142\n",
      "[236]\txg_train-merror:0.751142\n",
      "[237]\txg_train-merror:0.751142\n",
      "[238]\txg_train-merror:0.751142\n",
      "[239]\txg_train-merror:0.750856\n",
      "[240]\txg_train-merror:0.750856\n",
      "[241]\txg_train-merror:0.750856\n",
      "[242]\txg_train-merror:0.751142\n",
      "[243]\txg_train-merror:0.750571\n",
      "[244]\txg_train-merror:0.750571\n",
      "[245]\txg_train-merror:0.750571\n",
      "[246]\txg_train-merror:0.750571\n",
      "[247]\txg_train-merror:0.751142\n",
      "[248]\txg_train-merror:0.750856\n",
      "[249]\txg_train-merror:0.750856\n",
      "[250]\txg_train-merror:0.750856\n",
      "[251]\txg_train-merror:0.750856\n",
      "[252]\txg_train-merror:0.750856\n",
      "[253]\txg_train-merror:0.750856\n",
      "[254]\txg_train-merror:0.750856\n",
      "[255]\txg_train-merror:0.750856\n",
      "[256]\txg_train-merror:0.751142\n",
      "[257]\txg_train-merror:0.751142\n",
      "[258]\txg_train-merror:0.751142\n",
      "[259]\txg_train-merror:0.751142\n",
      "[260]\txg_train-merror:0.751142\n",
      "[261]\txg_train-merror:0.751142\n",
      "[262]\txg_train-merror:0.751142\n",
      "[263]\txg_train-merror:0.751142\n",
      "[264]\txg_train-merror:0.750571\n",
      "[265]\txg_train-merror:0.751142\n",
      "[266]\txg_train-merror:0.750571\n",
      "[267]\txg_train-merror:0.750571\n",
      "[268]\txg_train-merror:0.750571\n",
      "[269]\txg_train-merror:0.751142\n",
      "[270]\txg_train-merror:0.751142\n",
      "[271]\txg_train-merror:0.751142\n",
      "[272]\txg_train-merror:0.751142\n",
      "[273]\txg_train-merror:0.751142\n",
      "[274]\txg_train-merror:0.751142\n",
      "[275]\txg_train-merror:0.751142\n",
      "[276]\txg_train-merror:0.751142\n",
      "[277]\txg_train-merror:0.751142\n",
      "[278]\txg_train-merror:0.751142\n",
      "[279]\txg_train-merror:0.751142\n",
      "[280]\txg_train-merror:0.750856\n",
      "[281]\txg_train-merror:0.750856\n",
      "[282]\txg_train-merror:0.750856\n",
      "[283]\txg_train-merror:0.750856\n",
      "[284]\txg_train-merror:0.750856\n",
      "[285]\txg_train-merror:0.750856\n",
      "[286]\txg_train-merror:0.751142\n",
      "[287]\txg_train-merror:0.751142\n",
      "[288]\txg_train-merror:0.750856\n",
      "[289]\txg_train-merror:0.750856\n",
      "[290]\txg_train-merror:0.751142\n",
      "[291]\txg_train-merror:0.751142\n",
      "[292]\txg_train-merror:0.751142\n",
      "[293]\txg_train-merror:0.751142\n",
      "[294]\txg_train-merror:0.750571\n",
      "[295]\txg_train-merror:0.751142\n",
      "[296]\txg_train-merror:0.751142\n",
      "[297]\txg_train-merror:0.750571\n",
      "[298]\txg_train-merror:0.750571\n",
      "[299]\txg_train-merror:0.750571\n",
      "[300]\txg_train-merror:0.750571\n",
      "[301]\txg_train-merror:0.750571\n",
      "[302]\txg_train-merror:0.750571\n",
      "[303]\txg_train-merror:0.751427\n",
      "[304]\txg_train-merror:0.750571\n",
      "[305]\txg_train-merror:0.751427\n",
      "[306]\txg_train-merror:0.751427\n",
      "[307]\txg_train-merror:0.751427\n",
      "[308]\txg_train-merror:0.750571\n",
      "[309]\txg_train-merror:0.750571\n",
      "[310]\txg_train-merror:0.750571\n",
      "[311]\txg_train-merror:0.750571\n",
      "[312]\txg_train-merror:0.750856\n",
      "[313]\txg_train-merror:0.750856\n",
      "[314]\txg_train-merror:0.750856\n",
      "[315]\txg_train-merror:0.750856\n",
      "[316]\txg_train-merror:0.750856\n",
      "[317]\txg_train-merror:0.750856\n",
      "[318]\txg_train-merror:0.750856\n",
      "[319]\txg_train-merror:0.750856\n",
      "[320]\txg_train-merror:0.750856\n",
      "[321]\txg_train-merror:0.750856\n",
      "[322]\txg_train-merror:0.750856\n",
      "[323]\txg_train-merror:0.750856\n",
      "[324]\txg_train-merror:0.750856\n",
      "[325]\txg_train-merror:0.750856\n",
      "[326]\txg_train-merror:0.750856\n",
      "[327]\txg_train-merror:0.750856\n",
      "[328]\txg_train-merror:0.750856\n",
      "[329]\txg_train-merror:0.750856\n",
      "[330]\txg_train-merror:0.750856\n",
      "[331]\txg_train-merror:0.750856\n",
      "[332]\txg_train-merror:0.750856\n",
      "[333]\txg_train-merror:0.750856\n",
      "[334]\txg_train-merror:0.750856\n",
      "[335]\txg_train-merror:0.750856\n",
      "[336]\txg_train-merror:0.750856\n",
      "[337]\txg_train-merror:0.750856\n",
      "[338]\txg_train-merror:0.750856\n",
      "[339]\txg_train-merror:0.750856\n",
      "[340]\txg_train-merror:0.750856\n",
      "[341]\txg_train-merror:0.751712\n",
      "[342]\txg_train-merror:0.751712\n",
      "[343]\txg_train-merror:0.751712\n",
      "[344]\txg_train-merror:0.751712\n",
      "[345]\txg_train-merror:0.751712\n",
      "[346]\txg_train-merror:0.750856\n",
      "[347]\txg_train-merror:0.750856\n",
      "[348]\txg_train-merror:0.750856\n",
      "[349]\txg_train-merror:0.751712\n",
      "[350]\txg_train-merror:0.751712\n",
      "[351]\txg_train-merror:0.750856\n",
      "[352]\txg_train-merror:0.751712\n",
      "[353]\txg_train-merror:0.750856\n",
      "[354]\txg_train-merror:0.751712\n",
      "[355]\txg_train-merror:0.751712\n",
      "[356]\txg_train-merror:0.751712\n",
      "[357]\txg_train-merror:0.750856\n",
      "[358]\txg_train-merror:0.751712\n",
      "[359]\txg_train-merror:0.750856\n",
      "[360]\txg_train-merror:0.750856\n",
      "[361]\txg_train-merror:0.750856\n",
      "[362]\txg_train-merror:0.750856\n",
      "[363]\txg_train-merror:0.751712\n",
      "[364]\txg_train-merror:0.751712\n",
      "[365]\txg_train-merror:0.750856\n",
      "[366]\txg_train-merror:0.751712\n",
      "[367]\txg_train-merror:0.751712\n",
      "[368]\txg_train-merror:0.750856\n",
      "[369]\txg_train-merror:0.750856\n",
      "[370]\txg_train-merror:0.751712\n",
      "[371]\txg_train-merror:0.751712\n",
      "[372]\txg_train-merror:0.751712\n",
      "[373]\txg_train-merror:0.750856\n",
      "[374]\txg_train-merror:0.750856\n",
      "[375]\txg_train-merror:0.750856\n",
      "[376]\txg_train-merror:0.750856\n",
      "[377]\txg_train-merror:0.751712\n",
      "[378]\txg_train-merror:0.750856\n",
      "[379]\txg_train-merror:0.750856\n",
      "[380]\txg_train-merror:0.751712\n",
      "[381]\txg_train-merror:0.750856\n",
      "[382]\txg_train-merror:0.750856\n",
      "[383]\txg_train-merror:0.751712\n",
      "[384]\txg_train-merror:0.750856\n",
      "[385]\txg_train-merror:0.750856\n",
      "[386]\txg_train-merror:0.750856\n",
      "[387]\txg_train-merror:0.750856\n",
      "[388]\txg_train-merror:0.750856\n",
      "[389]\txg_train-merror:0.750856\n",
      "[390]\txg_train-merror:0.750856\n",
      "[391]\txg_train-merror:0.750856\n",
      "[392]\txg_train-merror:0.750856\n",
      "[393]\txg_train-merror:0.750856\n",
      "[394]\txg_train-merror:0.750856\n",
      "[395]\txg_train-merror:0.750856\n",
      "[396]\txg_train-merror:0.750856\n",
      "[397]\txg_train-merror:0.750856\n",
      "[398]\txg_train-merror:0.750856\n",
      "[399]\txg_train-merror:0.750856\n",
      "[400]\txg_train-merror:0.750856\n",
      "[401]\txg_train-merror:0.750856\n",
      "[402]\txg_train-merror:0.750856\n",
      "[403]\txg_train-merror:0.750856\n",
      "[404]\txg_train-merror:0.750856\n",
      "[405]\txg_train-merror:0.750856\n",
      "[406]\txg_train-merror:0.750856\n",
      "[407]\txg_train-merror:0.750856\n",
      "[408]\txg_train-merror:0.750856\n",
      "[409]\txg_train-merror:0.750856\n",
      "[410]\txg_train-merror:0.750856\n",
      "[411]\txg_train-merror:0.750856\n",
      "[412]\txg_train-merror:0.750856\n",
      "[413]\txg_train-merror:0.750856\n",
      "[414]\txg_train-merror:0.750856\n",
      "[415]\txg_train-merror:0.750856\n",
      "[416]\txg_train-merror:0.750856\n",
      "[417]\txg_train-merror:0.750856\n",
      "[418]\txg_train-merror:0.750856\n",
      "[419]\txg_train-merror:0.750856\n",
      "[420]\txg_train-merror:0.750856\n",
      "[421]\txg_train-merror:0.750856\n",
      "[422]\txg_train-merror:0.750856\n",
      "[423]\txg_train-merror:0.750856\n",
      "[424]\txg_train-merror:0.750856\n",
      "[425]\txg_train-merror:0.750856\n",
      "[426]\txg_train-merror:0.750856\n",
      "[427]\txg_train-merror:0.750856\n",
      "[428]\txg_train-merror:0.750856\n",
      "[429]\txg_train-merror:0.750856\n",
      "[430]\txg_train-merror:0.750856\n",
      "[431]\txg_train-merror:0.750856\n",
      "[432]\txg_train-merror:0.750856\n",
      "[433]\txg_train-merror:0.750856\n",
      "[434]\txg_train-merror:0.750856\n",
      "[435]\txg_train-merror:0.751712\n",
      "[436]\txg_train-merror:0.750856\n",
      "[437]\txg_train-merror:0.751712\n",
      "[438]\txg_train-merror:0.751712\n",
      "[439]\txg_train-merror:0.751712\n",
      "[440]\txg_train-merror:0.751712\n",
      "[441]\txg_train-merror:0.751712\n",
      "[442]\txg_train-merror:0.751712\n",
      "[443]\txg_train-merror:0.751712\n",
      "[444]\txg_train-merror:0.750856\n",
      "[445]\txg_train-merror:0.750856\n",
      "[446]\txg_train-merror:0.751712\n",
      "[447]\txg_train-merror:0.751712\n",
      "[448]\txg_train-merror:0.751142\n",
      "[449]\txg_train-merror:0.751142\n",
      "[450]\txg_train-merror:0.751712\n",
      "[451]\txg_train-merror:0.750856\n",
      "[452]\txg_train-merror:0.750856\n",
      "[453]\txg_train-merror:0.750856\n",
      "[454]\txg_train-merror:0.751712\n",
      "[455]\txg_train-merror:0.750856\n",
      "[456]\txg_train-merror:0.750285\n",
      "[457]\txg_train-merror:0.750285\n",
      "[458]\txg_train-merror:0.750285\n",
      "[459]\txg_train-merror:0.751142\n",
      "[460]\txg_train-merror:0.751142\n",
      "[461]\txg_train-merror:0.751427\n",
      "[462]\txg_train-merror:0.751427\n",
      "[463]\txg_train-merror:0.751427\n",
      "[464]\txg_train-merror:0.751998\n",
      "[465]\txg_train-merror:0.751998\n",
      "[0]\ttrain-merror:0.553368+0.012043\ttest-merror:0.641826+0.012048\n",
      "[20]\ttrain-merror:0.287386+0.008544\ttest-merror:0.497432+0.015757\n",
      "[40]\ttrain-merror:0.205576+0.009460\ttest-merror:0.468027+0.023009\n",
      "[60]\ttrain-merror:0.149449+0.003290\ttest-merror:0.441491+0.027585\n",
      "[80]\ttrain-merror:0.115424+0.004164\ttest-merror:0.428081+0.028451\n",
      "[100]\ttrain-merror:0.087298+0.004204\ttest-merror:0.416674+0.030141\n",
      "[120]\ttrain-merror:0.066972+0.003470\ttest-merror:0.406388+0.030544\n",
      "[140]\ttrain-merror:0.051529+0.002862\ttest-merror:0.395828+0.031666\n",
      "[160]\ttrain-merror:0.040018+0.002099\ttest-merror:0.391265+0.032839\n",
      "[180]\ttrain-merror:0.030790+0.002683\ttest-merror:0.387555+0.032184\n",
      "[200]\ttrain-merror:0.023814+0.002727\ttest-merror:0.382702+0.027125\n",
      "[220]\ttrain-merror:0.017250+0.002007\ttest-merror:0.378428+0.026135\n",
      "[240]\ttrain-merror:0.012430+0.001736\ttest-merror:0.377852+0.026777\n",
      "[260]\ttrain-merror:0.009228+0.001373\ttest-merror:0.375569+0.029886\n",
      "[280]\ttrain-merror:0.006627+0.000754\ttest-merror:0.372429+0.026271\n",
      "[300]\ttrain-merror:0.004757+0.001158\ttest-merror:0.371291+0.028629\n",
      "[320]\ttrain-merror:0.002949+0.000686\ttest-merror:0.370723+0.028453\n",
      "[340]\ttrain-merror:0.002125+0.000733\ttest-merror:0.371579+0.030895\n",
      "[360]\ttrain-merror:0.001459+0.000688\ttest-merror:0.368437+0.032491\n",
      "[380]\ttrain-merror:0.001046+0.000474\ttest-merror:0.367298+0.032254\n",
      "[400]\ttrain-merror:0.000666+0.000435\ttest-merror:0.369581+0.033015\n",
      "[420]\ttrain-merror:0.000476+0.000342\ttest-merror:0.364152+0.030064\n",
      "[440]\ttrain-merror:0.000190+0.000306\ttest-merror:0.367009+0.032835\n",
      "[460]\ttrain-merror:0.000095+0.000153\ttest-merror:0.365866+0.033139\n",
      "[480]\ttrain-merror:0.000032+0.000100\ttest-merror:0.368148+0.029879\n"
     ]
    },
    {
     "data": {
      "text/html": [
       "415"
      ],
      "text/latex": [
       "415"
      ],
      "text/markdown": [
       "415"
      ],
      "text/plain": [
       "[1] 415"
      ]
     },
     "metadata": {},
     "output_type": "display_data"
    }
   ],
   "source": [
    "# create the model\n",
    "bst <- xgb.train(   params              = params, \n",
    "                    data                = dtrain, \n",
    "                    nrounds             = n_rounds.train, \n",
    "                    verbose             = 1,\n",
    "                    watchlist           = watchlist,\n",
    "                    maximize            = FALSE\n",
    ")\n",
    "\n",
    "bst.cv <- xgb.cv(params, dtrain, n_rounds.cv, nfold = 10, metrics = {'merror'},\n",
    "                 print.every.n = 20, prediction = TRUE)\n",
    "\n",
    "n_rounds.train <- which.min(bst.cv$dt[, test.merror.mean])\n",
    "n_rounds.train"
   ]
  },
  {
   "cell_type": "code",
   "execution_count": 158,
   "metadata": {
    "collapsed": false
   },
   "outputs": [
    {
     "name": "stdout",
     "output_type": "stream",
     "text": [
      "[0]\txg_train-merror:0.745434\n",
      "[1]\txg_train-merror:0.754566\n",
      "[2]\txg_train-merror:0.750856\n",
      "[3]\txg_train-merror:0.752568\n",
      "[4]\txg_train-merror:0.751142\n",
      "[5]\txg_train-merror:0.752568\n",
      "[6]\txg_train-merror:0.752568\n",
      "[7]\txg_train-merror:0.752568\n",
      "[8]\txg_train-merror:0.752568\n",
      "[9]\txg_train-merror:0.752568\n",
      "[10]\txg_train-merror:0.751427\n",
      "[11]\txg_train-merror:0.751427\n",
      "[12]\txg_train-merror:0.750856\n",
      "[13]\txg_train-merror:0.751712\n",
      "[14]\txg_train-merror:0.751712\n",
      "[15]\txg_train-merror:0.752283\n",
      "[16]\txg_train-merror:0.752568\n",
      "[17]\txg_train-merror:0.751712\n",
      "[18]\txg_train-merror:0.752568\n",
      "[19]\txg_train-merror:0.752568\n",
      "[20]\txg_train-merror:0.750571\n",
      "[21]\txg_train-merror:0.750571\n",
      "[22]\txg_train-merror:0.750571\n",
      "[23]\txg_train-merror:0.750285\n",
      "[24]\txg_train-merror:0.750000\n",
      "[25]\txg_train-merror:0.749715\n",
      "[26]\txg_train-merror:0.749715\n",
      "[27]\txg_train-merror:0.749715\n",
      "[28]\txg_train-merror:0.749715\n",
      "[29]\txg_train-merror:0.749715\n",
      "[30]\txg_train-merror:0.749429\n",
      "[31]\txg_train-merror:0.749715\n",
      "[32]\txg_train-merror:0.749715\n",
      "[33]\txg_train-merror:0.749429\n",
      "[34]\txg_train-merror:0.750285\n",
      "[35]\txg_train-merror:0.749715\n",
      "[36]\txg_train-merror:0.750856\n",
      "[37]\txg_train-merror:0.750856\n",
      "[38]\txg_train-merror:0.750571\n",
      "[39]\txg_train-merror:0.749429\n",
      "[40]\txg_train-merror:0.748573\n",
      "[41]\txg_train-merror:0.748573\n",
      "[42]\txg_train-merror:0.748573\n",
      "[43]\txg_train-merror:0.748573\n",
      "[44]\txg_train-merror:0.748002\n",
      "[45]\txg_train-merror:0.748573\n",
      "[46]\txg_train-merror:0.748288\n",
      "[47]\txg_train-merror:0.748288\n",
      "[48]\txg_train-merror:0.749715\n",
      "[49]\txg_train-merror:0.748288\n",
      "[50]\txg_train-merror:0.749715\n",
      "[51]\txg_train-merror:0.749429\n",
      "[52]\txg_train-merror:0.748288\n",
      "[53]\txg_train-merror:0.748002\n",
      "[54]\txg_train-merror:0.748858\n",
      "[55]\txg_train-merror:0.749429\n",
      "[56]\txg_train-merror:0.749429\n",
      "[57]\txg_train-merror:0.749429\n",
      "[58]\txg_train-merror:0.749715\n",
      "[59]\txg_train-merror:0.749715\n",
      "[60]\txg_train-merror:0.749715\n",
      "[61]\txg_train-merror:0.749429\n",
      "[62]\txg_train-merror:0.749429\n",
      "[63]\txg_train-merror:0.748573\n",
      "[64]\txg_train-merror:0.749715\n",
      "[65]\txg_train-merror:0.748858\n",
      "[66]\txg_train-merror:0.749715\n",
      "[67]\txg_train-merror:0.749715\n",
      "[68]\txg_train-merror:0.748573\n",
      "[69]\txg_train-merror:0.748573\n",
      "[70]\txg_train-merror:0.749429\n",
      "[71]\txg_train-merror:0.750856\n",
      "[72]\txg_train-merror:0.750856\n",
      "[73]\txg_train-merror:0.750285\n",
      "[74]\txg_train-merror:0.749144\n",
      "[75]\txg_train-merror:0.750285\n",
      "[76]\txg_train-merror:0.750285\n",
      "[77]\txg_train-merror:0.750285\n",
      "[78]\txg_train-merror:0.750856\n",
      "[79]\txg_train-merror:0.750285\n",
      "[80]\txg_train-merror:0.750285\n",
      "[81]\txg_train-merror:0.750285\n",
      "[82]\txg_train-merror:0.750571\n",
      "[83]\txg_train-merror:0.750571\n",
      "[84]\txg_train-merror:0.750571\n",
      "[85]\txg_train-merror:0.750571\n",
      "[86]\txg_train-merror:0.750571\n",
      "[87]\txg_train-merror:0.750571\n",
      "[88]\txg_train-merror:0.750571\n",
      "[89]\txg_train-merror:0.750571\n",
      "[90]\txg_train-merror:0.750571\n",
      "[91]\txg_train-merror:0.750571\n",
      "[92]\txg_train-merror:0.750571\n",
      "[93]\txg_train-merror:0.750571\n",
      "[94]\txg_train-merror:0.750571\n",
      "[95]\txg_train-merror:0.750571\n",
      "[96]\txg_train-merror:0.750571\n",
      "[97]\txg_train-merror:0.750571\n",
      "[98]\txg_train-merror:0.750571\n",
      "[99]\txg_train-merror:0.750571\n",
      "[100]\txg_train-merror:0.750571\n",
      "[101]\txg_train-merror:0.750571\n",
      "[102]\txg_train-merror:0.750571\n",
      "[103]\txg_train-merror:0.750571\n",
      "[104]\txg_train-merror:0.750571\n",
      "[105]\txg_train-merror:0.750571\n",
      "[106]\txg_train-merror:0.750571\n",
      "[107]\txg_train-merror:0.750571\n",
      "[108]\txg_train-merror:0.750571\n",
      "[109]\txg_train-merror:0.750571\n",
      "[110]\txg_train-merror:0.750571\n",
      "[111]\txg_train-merror:0.750571\n",
      "[112]\txg_train-merror:0.750571\n",
      "[113]\txg_train-merror:0.750571\n",
      "[114]\txg_train-merror:0.750571\n",
      "[115]\txg_train-merror:0.750571\n",
      "[116]\txg_train-merror:0.750571\n",
      "[117]\txg_train-merror:0.750571\n",
      "[118]\txg_train-merror:0.750571\n",
      "[119]\txg_train-merror:0.750571\n",
      "[120]\txg_train-merror:0.750571\n",
      "[121]\txg_train-merror:0.750571\n",
      "[122]\txg_train-merror:0.750571\n",
      "[123]\txg_train-merror:0.750571\n",
      "[124]\txg_train-merror:0.750571\n",
      "[125]\txg_train-merror:0.750571\n",
      "[126]\txg_train-merror:0.750571\n",
      "[127]\txg_train-merror:0.750571\n",
      "[128]\txg_train-merror:0.750571\n",
      "[129]\txg_train-merror:0.750571\n",
      "[130]\txg_train-merror:0.750571\n",
      "[131]\txg_train-merror:0.750571\n",
      "[132]\txg_train-merror:0.750571\n",
      "[133]\txg_train-merror:0.750571\n",
      "[134]\txg_train-merror:0.750571\n",
      "[135]\txg_train-merror:0.750571\n",
      "[136]\txg_train-merror:0.750571\n",
      "[137]\txg_train-merror:0.750571\n",
      "[138]\txg_train-merror:0.750571\n",
      "[139]\txg_train-merror:0.750571\n",
      "[140]\txg_train-merror:0.750571\n",
      "[141]\txg_train-merror:0.750571\n",
      "[142]\txg_train-merror:0.750571\n",
      "[143]\txg_train-merror:0.750571\n",
      "[144]\txg_train-merror:0.750571\n",
      "[145]\txg_train-merror:0.750571\n",
      "[146]\txg_train-merror:0.750571\n",
      "[147]\txg_train-merror:0.750571\n",
      "[148]\txg_train-merror:0.750571\n",
      "[149]\txg_train-merror:0.750571\n",
      "[150]\txg_train-merror:0.750571\n",
      "[151]\txg_train-merror:0.750571\n",
      "[152]\txg_train-merror:0.750571\n",
      "[153]\txg_train-merror:0.750571\n",
      "[154]\txg_train-merror:0.750571\n",
      "[155]\txg_train-merror:0.750571\n",
      "[156]\txg_train-merror:0.750571\n",
      "[157]\txg_train-merror:0.750571\n",
      "[158]\txg_train-merror:0.750571\n",
      "[159]\txg_train-merror:0.750571\n",
      "[160]\txg_train-merror:0.750571\n",
      "[161]\txg_train-merror:0.750571\n",
      "[162]\txg_train-merror:0.750571\n",
      "[163]\txg_train-merror:0.750571\n",
      "[164]\txg_train-merror:0.750571\n",
      "[165]\txg_train-merror:0.750571\n",
      "[166]\txg_train-merror:0.750571\n",
      "[167]\txg_train-merror:0.750571\n",
      "[168]\txg_train-merror:0.751142\n",
      "[169]\txg_train-merror:0.750571\n",
      "[170]\txg_train-merror:0.751142\n",
      "[171]\txg_train-merror:0.750571\n",
      "[172]\txg_train-merror:0.751142\n",
      "[173]\txg_train-merror:0.751142\n",
      "[174]\txg_train-merror:0.750856\n",
      "[175]\txg_train-merror:0.750856\n",
      "[176]\txg_train-merror:0.750571\n",
      "[177]\txg_train-merror:0.750571\n",
      "[178]\txg_train-merror:0.750571\n",
      "[179]\txg_train-merror:0.750571\n",
      "[180]\txg_train-merror:0.750571\n",
      "[181]\txg_train-merror:0.750571\n",
      "[182]\txg_train-merror:0.750571\n",
      "[183]\txg_train-merror:0.750571\n",
      "[184]\txg_train-merror:0.750571\n",
      "[185]\txg_train-merror:0.750571\n",
      "[186]\txg_train-merror:0.750571\n",
      "[187]\txg_train-merror:0.750571\n",
      "[188]\txg_train-merror:0.750571\n",
      "[189]\txg_train-merror:0.750571\n",
      "[190]\txg_train-merror:0.750571\n",
      "[191]\txg_train-merror:0.750571\n",
      "[192]\txg_train-merror:0.750571\n",
      "[193]\txg_train-merror:0.750571\n",
      "[194]\txg_train-merror:0.750571\n",
      "[195]\txg_train-merror:0.750571\n",
      "[196]\txg_train-merror:0.750571\n",
      "[197]\txg_train-merror:0.750571\n",
      "[198]\txg_train-merror:0.750571\n",
      "[199]\txg_train-merror:0.750571\n",
      "[200]\txg_train-merror:0.750571\n",
      "[201]\txg_train-merror:0.750571\n",
      "[202]\txg_train-merror:0.750571\n",
      "[203]\txg_train-merror:0.750571\n",
      "[204]\txg_train-merror:0.750571\n",
      "[205]\txg_train-merror:0.750571\n",
      "[206]\txg_train-merror:0.750571\n",
      "[207]\txg_train-merror:0.750571\n",
      "[208]\txg_train-merror:0.750571\n",
      "[209]\txg_train-merror:0.750571\n",
      "[210]\txg_train-merror:0.750571\n",
      "[211]\txg_train-merror:0.750571\n",
      "[212]\txg_train-merror:0.750571\n",
      "[213]\txg_train-merror:0.750571\n",
      "[214]\txg_train-merror:0.750571\n",
      "[215]\txg_train-merror:0.750571\n",
      "[216]\txg_train-merror:0.750571\n",
      "[217]\txg_train-merror:0.750571\n",
      "[218]\txg_train-merror:0.750571\n",
      "[219]\txg_train-merror:0.750571\n",
      "[220]\txg_train-merror:0.750571\n",
      "[221]\txg_train-merror:0.750571\n",
      "[222]\txg_train-merror:0.750571\n",
      "[223]\txg_train-merror:0.750571\n",
      "[224]\txg_train-merror:0.750571\n",
      "[225]\txg_train-merror:0.750571\n",
      "[226]\txg_train-merror:0.750571\n",
      "[227]\txg_train-merror:0.750571\n",
      "[228]\txg_train-merror:0.750571\n",
      "[229]\txg_train-merror:0.750571\n",
      "[230]\txg_train-merror:0.751142\n",
      "[231]\txg_train-merror:0.751142\n",
      "[232]\txg_train-merror:0.751142\n",
      "[233]\txg_train-merror:0.751142\n",
      "[234]\txg_train-merror:0.751142\n",
      "[235]\txg_train-merror:0.751142\n",
      "[236]\txg_train-merror:0.751142\n",
      "[237]\txg_train-merror:0.751142\n",
      "[238]\txg_train-merror:0.751142\n",
      "[239]\txg_train-merror:0.750856\n",
      "[240]\txg_train-merror:0.750856\n",
      "[241]\txg_train-merror:0.750856\n",
      "[242]\txg_train-merror:0.751142\n",
      "[243]\txg_train-merror:0.750571\n",
      "[244]\txg_train-merror:0.750571\n",
      "[245]\txg_train-merror:0.750571\n",
      "[246]\txg_train-merror:0.750571\n",
      "[247]\txg_train-merror:0.751142\n",
      "[248]\txg_train-merror:0.750856\n",
      "[249]\txg_train-merror:0.750856\n",
      "[250]\txg_train-merror:0.750856\n",
      "[251]\txg_train-merror:0.750856\n",
      "[252]\txg_train-merror:0.750856\n",
      "[253]\txg_train-merror:0.750856\n",
      "[254]\txg_train-merror:0.750856\n",
      "[255]\txg_train-merror:0.750856\n",
      "[256]\txg_train-merror:0.751142\n",
      "[257]\txg_train-merror:0.751142\n",
      "[258]\txg_train-merror:0.751142\n",
      "[259]\txg_train-merror:0.751142\n",
      "[260]\txg_train-merror:0.751142\n",
      "[261]\txg_train-merror:0.751142\n",
      "[262]\txg_train-merror:0.751142\n",
      "[263]\txg_train-merror:0.751142\n",
      "[264]\txg_train-merror:0.750571\n",
      "[265]\txg_train-merror:0.751142\n",
      "[266]\txg_train-merror:0.750571\n",
      "[267]\txg_train-merror:0.750571\n",
      "[268]\txg_train-merror:0.750571\n",
      "[269]\txg_train-merror:0.751142\n",
      "[270]\txg_train-merror:0.751142\n",
      "[271]\txg_train-merror:0.751142\n",
      "[272]\txg_train-merror:0.751142\n",
      "[273]\txg_train-merror:0.751142\n",
      "[274]\txg_train-merror:0.751142\n",
      "[275]\txg_train-merror:0.751142\n",
      "[276]\txg_train-merror:0.751142\n",
      "[277]\txg_train-merror:0.751142\n",
      "[278]\txg_train-merror:0.751142\n",
      "[279]\txg_train-merror:0.751142\n",
      "[280]\txg_train-merror:0.750856\n",
      "[281]\txg_train-merror:0.750856\n",
      "[282]\txg_train-merror:0.750856\n",
      "[283]\txg_train-merror:0.750856\n",
      "[284]\txg_train-merror:0.750856\n",
      "[285]\txg_train-merror:0.750856\n",
      "[286]\txg_train-merror:0.751142\n",
      "[287]\txg_train-merror:0.751142\n",
      "[288]\txg_train-merror:0.750856\n",
      "[289]\txg_train-merror:0.750856\n",
      "[290]\txg_train-merror:0.751142\n",
      "[291]\txg_train-merror:0.751142\n",
      "[292]\txg_train-merror:0.751142\n",
      "[293]\txg_train-merror:0.751142\n",
      "[294]\txg_train-merror:0.750571\n",
      "[295]\txg_train-merror:0.751142\n",
      "[296]\txg_train-merror:0.751142\n",
      "[297]\txg_train-merror:0.750571\n",
      "[298]\txg_train-merror:0.750571\n",
      "[299]\txg_train-merror:0.750571\n",
      "[300]\txg_train-merror:0.750571\n",
      "[301]\txg_train-merror:0.750571\n",
      "[302]\txg_train-merror:0.750571\n",
      "[303]\txg_train-merror:0.751427\n",
      "[304]\txg_train-merror:0.750571\n",
      "[305]\txg_train-merror:0.751427\n",
      "[306]\txg_train-merror:0.751427\n",
      "[307]\txg_train-merror:0.751427\n",
      "[308]\txg_train-merror:0.750571\n",
      "[309]\txg_train-merror:0.750571\n",
      "[310]\txg_train-merror:0.750571\n",
      "[311]\txg_train-merror:0.750571\n",
      "[312]\txg_train-merror:0.750856\n",
      "[313]\txg_train-merror:0.750856\n",
      "[314]\txg_train-merror:0.750856\n",
      "[315]\txg_train-merror:0.750856\n",
      "[316]\txg_train-merror:0.750856\n",
      "[317]\txg_train-merror:0.750856\n",
      "[318]\txg_train-merror:0.750856\n",
      "[319]\txg_train-merror:0.750856\n",
      "[320]\txg_train-merror:0.750856\n",
      "[321]\txg_train-merror:0.750856\n",
      "[322]\txg_train-merror:0.750856\n",
      "[323]\txg_train-merror:0.750856\n",
      "[324]\txg_train-merror:0.750856\n",
      "[325]\txg_train-merror:0.750856\n",
      "[326]\txg_train-merror:0.750856\n",
      "[327]\txg_train-merror:0.750856\n",
      "[328]\txg_train-merror:0.750856\n",
      "[329]\txg_train-merror:0.750856\n",
      "[330]\txg_train-merror:0.750856\n",
      "[331]\txg_train-merror:0.750856\n",
      "[332]\txg_train-merror:0.750856\n",
      "[333]\txg_train-merror:0.750856\n",
      "[334]\txg_train-merror:0.750856\n",
      "[335]\txg_train-merror:0.750856\n",
      "[336]\txg_train-merror:0.750856\n",
      "[337]\txg_train-merror:0.750856\n",
      "[338]\txg_train-merror:0.750856\n",
      "[339]\txg_train-merror:0.750856\n",
      "[340]\txg_train-merror:0.750856\n",
      "[341]\txg_train-merror:0.751712\n",
      "[342]\txg_train-merror:0.751712\n",
      "[343]\txg_train-merror:0.751712\n",
      "[344]\txg_train-merror:0.751712\n",
      "[345]\txg_train-merror:0.751712\n",
      "[346]\txg_train-merror:0.750856\n",
      "[347]\txg_train-merror:0.750856\n",
      "[348]\txg_train-merror:0.750856\n",
      "[349]\txg_train-merror:0.751712\n",
      "[350]\txg_train-merror:0.751712\n",
      "[351]\txg_train-merror:0.750856\n",
      "[352]\txg_train-merror:0.751712\n",
      "[353]\txg_train-merror:0.750856\n",
      "[354]\txg_train-merror:0.751712\n",
      "[355]\txg_train-merror:0.751712\n",
      "[356]\txg_train-merror:0.751712\n",
      "[357]\txg_train-merror:0.750856\n",
      "[358]\txg_train-merror:0.751712\n",
      "[359]\txg_train-merror:0.750856\n",
      "[360]\txg_train-merror:0.750856\n",
      "[361]\txg_train-merror:0.750856\n",
      "[362]\txg_train-merror:0.750856\n",
      "[363]\txg_train-merror:0.751712\n",
      "[364]\txg_train-merror:0.751712\n",
      "[365]\txg_train-merror:0.750856\n",
      "[366]\txg_train-merror:0.751712\n",
      "[367]\txg_train-merror:0.751712\n",
      "[368]\txg_train-merror:0.750856\n",
      "[369]\txg_train-merror:0.750856\n",
      "[370]\txg_train-merror:0.751712\n",
      "[371]\txg_train-merror:0.751712\n",
      "[372]\txg_train-merror:0.751712\n",
      "[373]\txg_train-merror:0.750856\n",
      "[374]\txg_train-merror:0.750856\n",
      "[375]\txg_train-merror:0.750856\n",
      "[376]\txg_train-merror:0.750856\n",
      "[377]\txg_train-merror:0.751712\n",
      "[378]\txg_train-merror:0.750856\n",
      "[379]\txg_train-merror:0.750856\n",
      "[380]\txg_train-merror:0.751712\n",
      "[381]\txg_train-merror:0.750856\n",
      "[382]\txg_train-merror:0.750856\n",
      "[383]\txg_train-merror:0.751712\n",
      "[384]\txg_train-merror:0.750856\n",
      "[385]\txg_train-merror:0.750856\n",
      "[386]\txg_train-merror:0.750856\n",
      "[387]\txg_train-merror:0.750856\n",
      "[388]\txg_train-merror:0.750856\n",
      "[389]\txg_train-merror:0.750856\n",
      "[390]\txg_train-merror:0.750856\n",
      "[391]\txg_train-merror:0.750856\n",
      "[392]\txg_train-merror:0.750856\n",
      "[393]\txg_train-merror:0.750856\n",
      "[394]\txg_train-merror:0.750856\n",
      "[395]\txg_train-merror:0.750856\n",
      "[396]\txg_train-merror:0.750856\n",
      "[397]\txg_train-merror:0.750856\n",
      "[398]\txg_train-merror:0.750856\n",
      "[399]\txg_train-merror:0.750856\n",
      "[400]\txg_train-merror:0.750856\n",
      "[401]\txg_train-merror:0.750856\n",
      "[402]\txg_train-merror:0.750856\n",
      "[403]\txg_train-merror:0.750856\n",
      "[404]\txg_train-merror:0.750856\n",
      "[405]\txg_train-merror:0.750856\n",
      "[406]\txg_train-merror:0.750856\n",
      "[407]\txg_train-merror:0.750856\n",
      "[408]\txg_train-merror:0.750856\n",
      "[409]\txg_train-merror:0.750856\n",
      "[410]\txg_train-merror:0.750856\n",
      "[411]\txg_train-merror:0.750856\n",
      "[412]\txg_train-merror:0.750856\n",
      "[413]\txg_train-merror:0.750856\n",
      "[414]\txg_train-merror:0.750856\n"
     ]
    }
   ],
   "source": [
    "# create the model\n",
    "bst <- xgb.train(   params              = params, \n",
    "                    data                = dtrain, \n",
    "                    nrounds             = n_rounds.train, \n",
    "                    verbose             = 1,\n",
    "                    watchlist           = watchlist,\n",
    "                    maximize            = FALSE\n",
    ")"
   ]
  },
  {
   "cell_type": "code",
   "execution_count": 159,
   "metadata": {
    "collapsed": false
   },
   "outputs": [],
   "source": [
    "# generate predictions from model\n",
    "pred_xgb_std <- predict(bst, xg_test);"
   ]
  },
  {
   "cell_type": "code",
   "execution_count": 160,
   "metadata": {
    "collapsed": false
   },
   "outputs": [
    {
     "data": {
      "text/plain": [
       "Confusion Matrix and Statistics\n",
       "\n",
       "          Reference\n",
       "Prediction  0  1  2  3\n",
       "         0 87 74 52 12\n",
       "         1 81 95 68 16\n",
       "         2 35 30 22  6\n",
       "         3 11  5  5  1\n",
       "\n",
       "Overall Statistics\n",
       "                                        \n",
       "               Accuracy : 0.342         \n",
       "                 95% CI : (0.304, 0.381)\n",
       "    No Information Rate : 0.357         \n",
       "    P-Value [Acc > NIR] : 0.790517      \n",
       "                                        \n",
       "                  Kappa : 0.03          \n",
       " Mcnemar's Test P-Value : 0.000466      \n",
       "\n",
       "Statistics by Class:\n",
       "\n",
       "                     Class: 0 Class: 1 Class: 2 Class: 3\n",
       "Sensitivity             0.407    0.466   0.1497  0.02857\n",
       "Specificity             0.642    0.583   0.8433  0.96283\n",
       "Pos Pred Value          0.387    0.365   0.2366  0.04545\n",
       "Neg Pred Value          0.661    0.679   0.7535  0.94118\n",
       "Prevalence              0.357    0.340   0.2450  0.05833\n",
       "Detection Rate          0.145    0.158   0.0367  0.00167\n",
       "Detection Prevalence    0.375    0.433   0.1550  0.03667\n",
       "Balanced Accuracy       0.525    0.525   0.4965  0.49570"
      ]
     },
     "metadata": {},
     "output_type": "display_data"
    }
   ],
   "source": [
    "confusionMatrix(pred_xgb_std, actual)"
   ]
  },
  {
   "cell_type": "markdown",
   "metadata": {},
   "source": [
    "# 4. Random Forest"
   ]
  },
  {
   "cell_type": "code",
   "execution_count": 51,
   "metadata": {
    "collapsed": false
   },
   "outputs": [],
   "source": [
    "rforest_train <- Udf.Utilities.UpSample(train)"
   ]
  },
  {
   "cell_type": "code",
   "execution_count": 52,
   "metadata": {
    "collapsed": false,
    "scrolled": true
   },
   "outputs": [
    {
     "name": "stdout",
     "output_type": "stream",
     "text": [
      "mtry = 3  OOB error = 34.05% \n",
      "Searching left ...\n",
      "mtry = 2 \tOOB error = 33.9% \n",
      "0.004191 0.00001 \n",
      "Searching right ...\n",
      "mtry = 4 \tOOB error = 33.85% \n",
      "0.001684 0.00001 \n",
      "mtry = 6 \tOOB error = 34.5% \n",
      "-0.01939 0.00001 \n"
     ]
    },
    {
     "data": {
      "image/png": "[encoded data removed]",
      "text/plain": [
       "plot without title"
      ]
     },
     "metadata": {},
     "output_type": "display_data"
    }
   ],
   "source": [
    "# cross validate the mtry parameter\n",
    "bestmtry <- tuneRF(rforest_train[,1:10], rforest_train$Result, stepFactor=1.5, improve=1e-5, ntree=10000)"
   ]
  },
  {
   "cell_type": "code",
   "execution_count": 53,
   "metadata": {
    "collapsed": false
   },
   "outputs": [
    {
     "data": {
      "text/plain": [
       "\n",
       "Call:\n",
       " randomForest(formula = Result ~ ., data = rforest_train, ntree = 10000,      mtry = 2) \n",
       "               Type of random forest: classification\n",
       "                     Number of trees: 10000\n",
       "No. of variables tried at each split: 2\n",
       "\n",
       "        OOB estimate of  error rate: 34.05%\n",
       "Confusion matrix:\n",
       "    0   1   2   3 class.error\n",
       "0 393 400  75   8      0.5514\n",
       "1 394 387  84  11      0.5582\n",
       "2  94 123 655   4      0.2523\n",
       "3   0   0   0 876      0.0000"
      ]
     },
     "metadata": {},
     "output_type": "display_data"
    }
   ],
   "source": [
    "rforest <- randomForest(Result ~., data = rforest_train, ntree=10000, mtry=2)\n",
    "rforest"
   ]
  },
  {
   "cell_type": "code",
   "execution_count": 54,
   "metadata": {
    "collapsed": true
   },
   "outputs": [],
   "source": [
    "pred <- predict(rforest, test)"
   ]
  },
  {
   "cell_type": "code",
   "execution_count": 55,
   "metadata": {
    "collapsed": false
   },
   "outputs": [
    {
     "data": {
      "text/plain": [
       "Confusion Matrix and Statistics\n",
       "\n",
       "          Reference\n",
       "Prediction  0  1  2  3\n",
       "         0 96 92 70 17\n",
       "         1 92 90 64 18\n",
       "         2 24 22 13  0\n",
       "         3  2  0  0  0\n",
       "\n",
       "Overall Statistics\n",
       "                                        \n",
       "               Accuracy : 0.332         \n",
       "                 95% CI : (0.294, 0.371)\n",
       "    No Information Rate : 0.357         \n",
       "    P-Value [Acc > NIR] : 0.907         \n",
       "                                        \n",
       "                  Kappa : -0.009        \n",
       " Mcnemar's Test P-Value : NA            \n",
       "\n",
       "Statistics by Class:\n",
       "\n",
       "                     Class: 0 Class: 1 Class: 2 Class: 3\n",
       "Sensitivity             0.449    0.441   0.0884  0.00000\n",
       "Specificity             0.536    0.561   0.8985  0.99646\n",
       "Pos Pred Value          0.349    0.341   0.2203  0.00000\n",
       "Neg Pred Value          0.637    0.661   0.7523  0.94147\n",
       "Prevalence              0.357    0.340   0.2450  0.05833\n",
       "Detection Rate          0.160    0.150   0.0217  0.00000\n",
       "Detection Prevalence    0.458    0.440   0.0983  0.00333\n",
       "Balanced Accuracy       0.492    0.501   0.4934  0.49823"
      ]
     },
     "metadata": {},
     "output_type": "display_data"
    }
   ],
   "source": [
    "confusionMatrix(pred, actual)"
   ]
  },
  {
   "cell_type": "code",
   "execution_count": 56,
   "metadata": {
    "collapsed": false
   },
   "outputs": [
    {
     "name": "stdout",
     "output_type": "stream",
     "text": [
      "      MeanDecreaseGini\n",
      "ATT1             252.9\n",
      "ATT2             265.0\n",
      "ATT3             251.3\n",
      "ATT4             256.0\n",
      "ATT5             251.3\n",
      "ATT6             258.4\n",
      "ATT7             255.3\n",
      "ATT8             262.7\n",
      "ATT9             259.6\n",
      "ATT10            264.3\n"
     ]
    }
   ],
   "source": [
    "print(importance(rforest,type = 2))"
   ]
  },
  {
   "cell_type": "code",
   "execution_count": 57,
   "metadata": {
    "collapsed": false
   },
   "outputs": [
    {
     "data": {
      "image/png": "[encoded data removed]",
      "text/plain": [
       "Plot with title \"rforest\""
      ]
     },
     "metadata": {},
     "output_type": "display_data"
    }
   ],
   "source": [
    "options(repr.plot.width = 6)\n",
    "options(repr.plot.height = 4)\n",
    "varImpPlot(rforest)"
   ]
  },
  {
   "cell_type": "markdown",
   "metadata": {},
   "source": [
    "## Cross Validation for Random Forest feature selection "
   ]
  },
  {
   "cell_type": "code",
   "execution_count": 58,
   "metadata": {
    "collapsed": false
   },
   "outputs": [
    {
     "data": {
      "image/png": "[encoded data removed]",
      "text/plain": [
       "plot without title"
      ]
     },
     "metadata": {},
     "output_type": "display_data"
    }
   ],
   "source": [
    "x <- train\n",
    "x$Result <- NULL\n",
    "y <- train$Result\n",
    "\n",
    "rf.cv <- rfcv(x, y, cv.fold=10, step=0.9)\n",
    "\n",
    "with(rf.cv, plot(n.var, error.cv))"
   ]
  },
  {
   "cell_type": "markdown",
   "metadata": {},
   "source": [
    "Ok, this is telling us that a 7 feature model is performing the best. Let's try retrain the model without the lowest importance features and rerun the predictions"
   ]
  },
  {
   "cell_type": "code",
   "execution_count": 59,
   "metadata": {
    "collapsed": false
   },
   "outputs": [],
   "source": [
    "rforest <- randomForest(Result ~ . - ATT5, data = rforest_train, mtry=2, ntree=10000)"
   ]
  },
  {
   "cell_type": "code",
   "execution_count": 60,
   "metadata": {
    "collapsed": false
   },
   "outputs": [
    {
     "data": {
      "text/plain": [
       "\n",
       "Call:\n",
       " randomForest(formula = Result ~ . - ATT5, data = rforest_train,      mtry = 2, ntree = 10000) \n",
       "               Type of random forest: classification\n",
       "                     Number of trees: 10000\n",
       "No. of variables tried at each split: 2\n",
       "\n",
       "        OOB estimate of  error rate: 34.13%\n",
       "Confusion matrix:\n",
       "    0   1   2   3 class.error\n",
       "0 389 395  80  12      0.5559\n",
       "1 392 375 103   6      0.5719\n",
       "2  88 117 668   3      0.2374\n",
       "3   0   0   0 876      0.0000"
      ]
     },
     "metadata": {},
     "output_type": "display_data"
    }
   ],
   "source": [
    "rforest"
   ]
  },
  {
   "cell_type": "code",
   "execution_count": 61,
   "metadata": {
    "collapsed": false
   },
   "outputs": [
    {
     "name": "stdout",
     "output_type": "stream",
     "text": [
      "      MeanDecreaseGini\n",
      "ATT1             278.5\n",
      "ATT2             293.5\n",
      "ATT3             277.2\n",
      "ATT4             281.4\n",
      "ATT6             284.4\n",
      "ATT7             280.8\n",
      "ATT8             290.6\n",
      "ATT9             284.3\n",
      "ATT10            292.7\n"
     ]
    }
   ],
   "source": [
    "print(importance(rforest,type = 2))"
   ]
  },
  {
   "cell_type": "code",
   "execution_count": 62,
   "metadata": {
    "collapsed": true
   },
   "outputs": [],
   "source": [
    "pred_rforest <- predict(rforest, test)"
   ]
  },
  {
   "cell_type": "code",
   "execution_count": 63,
   "metadata": {
    "collapsed": false
   },
   "outputs": [
    {
     "data": {
      "text/plain": [
       "Confusion Matrix and Statistics\n",
       "\n",
       "          Reference\n",
       "Prediction  0  1  2  3\n",
       "         0 95 86 67 17\n",
       "         1 88 94 63 17\n",
       "         2 27 23 15  1\n",
       "         3  4  1  2  0\n",
       "\n",
       "Overall Statistics\n",
       "                                        \n",
       "               Accuracy : 0.34          \n",
       "                 95% CI : (0.302, 0.379)\n",
       "    No Information Rate : 0.357         \n",
       "    P-Value [Acc > NIR] : 0.814         \n",
       "                                        \n",
       "                  Kappa : 0.01          \n",
       " Mcnemar's Test P-Value : 0.000000000102\n",
       "\n",
       "Statistics by Class:\n",
       "\n",
       "                     Class: 0 Class: 1 Class: 2 Class: 3\n",
       "Sensitivity             0.444    0.461    0.102   0.0000\n",
       "Specificity             0.560    0.576    0.887   0.9876\n",
       "Pos Pred Value          0.358    0.359    0.227   0.0000\n",
       "Neg Pred Value          0.645    0.675    0.753   0.9410\n",
       "Prevalence              0.357    0.340    0.245   0.0583\n",
       "Detection Rate          0.158    0.157    0.025   0.0000\n",
       "Detection Prevalence    0.442    0.437    0.110   0.0117\n",
       "Balanced Accuracy       0.502    0.518    0.495   0.4938"
      ]
     },
     "metadata": {},
     "output_type": "display_data"
    }
   ],
   "source": [
    "confusionMatrix(pred_rforest, actual)"
   ]
  },
  {
   "cell_type": "markdown",
   "metadata": {
    "collapsed": true
   },
   "source": [
    "---\n",
    "# Ensemble the Predictions"
   ]
  },
  {
   "cell_type": "code",
   "execution_count": 161,
   "metadata": {
    "collapsed": false
   },
   "outputs": [],
   "source": [
    "# create a dataframe to store each of the predictions from each of the models we want to ensemble\n",
    "preds_df <- data.frame(matrix(ncol = 0, nrow =600))"
   ]
  },
  {
   "cell_type": "code",
   "execution_count": 162,
   "metadata": {
    "collapsed": false
   },
   "outputs": [],
   "source": [
    "preds_df$pred_xgb <- pred_xgb\n",
    "preds_df$pred_xgb_std <- pred_xgb_std\n",
    "preds_df$pred_rforest <- pred_rforest"
   ]
  },
  {
   "cell_type": "code",
   "execution_count": 166,
   "metadata": {
    "collapsed": false
   },
   "outputs": [
    {
     "data": {
      "text/html": [
       "<table>\n",
       "<thead><tr><th></th><th scope=col>pred_xgb</th><th scope=col>pred_xgb_std</th><th scope=col>pred_rforest</th></tr></thead>\n",
       "<tbody>\n",
       "\t<tr><th scope=row>1</th><td>3</td><td>3</td><td>1</td></tr>\n",
       "\t<tr><th scope=row>2</th><td>0</td><td>0</td><td>1</td></tr>\n",
       "\t<tr><th scope=row>3</th><td>1</td><td>1</td><td>0</td></tr>\n",
       "\t<tr><th scope=row>4</th><td>2</td><td>2</td><td>0</td></tr>\n",
       "\t<tr><th scope=row>5</th><td>0</td><td>0</td><td>1</td></tr>\n",
       "\t<tr><th scope=row>6</th><td>1</td><td>1</td><td>0</td></tr>\n",
       "</tbody>\n",
       "</table>\n"
      ],
      "text/latex": [
       "\\begin{tabular}{r|lll}\n",
       "  & pred\\_xgb & pred\\_xgb\\_std & pred\\_rforest\\\\\n",
       "\\hline\n",
       "\t1 & 3 & 3 & 1\\\\\n",
       "\t2 & 0 & 0 & 1\\\\\n",
       "\t3 & 1 & 1 & 0\\\\\n",
       "\t4 & 2 & 2 & 0\\\\\n",
       "\t5 & 0 & 0 & 1\\\\\n",
       "\t6 & 1 & 1 & 0\\\\\n",
       "\\end{tabular}\n"
      ],
      "text/plain": [
       "  pred_xgb pred_xgb_std pred_rforest\n",
       "1        3            3            1\n",
       "2        0            0            1\n",
       "3        1            1            0\n",
       "4        2            2            0\n",
       "5        0            0            1\n",
       "6        1            1            0"
      ]
     },
     "metadata": {},
     "output_type": "display_data"
    }
   ],
   "source": [
    "head(preds_df)"
   ]
  },
  {
   "cell_type": "code",
   "execution_count": 164,
   "metadata": {
    "collapsed": false
   },
   "outputs": [
    {
     "data": {
      "text/plain": [
       "\n",
       "  0   1   2   3 \n",
       "233 250  96  21 "
      ]
     },
     "metadata": {},
     "output_type": "display_data"
    }
   ],
   "source": [
    "table(preds_df$pred_xgb)"
   ]
  },
  {
   "cell_type": "code",
   "execution_count": 210,
   "metadata": {
    "collapsed": false
   },
   "outputs": [],
   "source": [
    "preds_df <- Udf.Utilities.MajorityVotePredictions(preds_df)"
   ]
  },
  {
   "cell_type": "code",
   "execution_count": 205,
   "metadata": {
    "collapsed": false
   },
   "outputs": [
    {
     "data": {
      "text/html": [
       "<table>\n",
       "<thead><tr><th></th><th scope=col>pred_xgb</th><th scope=col>pred_xgb_std</th><th scope=col>pred_rforest</th><th scope=col>majority_pred</th></tr></thead>\n",
       "<tbody>\n",
       "\t<tr><th scope=row>1</th><td>3</td><td>3</td><td>1</td><td>3</td></tr>\n",
       "\t<tr><th scope=row>2</th><td>0</td><td>0</td><td>1</td><td>0</td></tr>\n",
       "\t<tr><th scope=row>3</th><td>1</td><td>1</td><td>0</td><td>1</td></tr>\n",
       "\t<tr><th scope=row>4</th><td>2</td><td>2</td><td>0</td><td>2</td></tr>\n",
       "\t<tr><th scope=row>5</th><td>0</td><td>0</td><td>1</td><td>0</td></tr>\n",
       "\t<tr><th scope=row>6</th><td>1</td><td>1</td><td>0</td><td>1</td></tr>\n",
       "</tbody>\n",
       "</table>\n"
      ],
      "text/latex": [
       "\\begin{tabular}{r|llll}\n",
       "  & pred\\_xgb & pred\\_xgb\\_std & pred\\_rforest & majority\\_pred\\\\\n",
       "\\hline\n",
       "\t1 & 3 & 3 & 1 & 3\\\\\n",
       "\t2 & 0 & 0 & 1 & 0\\\\\n",
       "\t3 & 1 & 1 & 0 & 1\\\\\n",
       "\t4 & 2 & 2 & 0 & 2\\\\\n",
       "\t5 & 0 & 0 & 1 & 0\\\\\n",
       "\t6 & 1 & 1 & 0 & 1\\\\\n",
       "\\end{tabular}\n"
      ],
      "text/plain": [
       "  pred_xgb pred_xgb_std pred_rforest majority_pred\n",
       "1        3            3            1             3\n",
       "2        0            0            1             0\n",
       "3        1            1            0             1\n",
       "4        2            2            0             2\n",
       "5        0            0            1             0\n",
       "6        1            1            0             1"
      ]
     },
     "metadata": {},
     "output_type": "display_data"
    }
   ],
   "source": [
    "head(preds_df)"
   ]
  },
  {
   "cell_type": "code",
   "execution_count": 208,
   "metadata": {
    "collapsed": false
   },
   "outputs": [
    {
     "data": {
      "text/plain": [
       "Confusion Matrix and Statistics\n",
       "\n",
       "          Reference\n",
       "Prediction  0  1  2  3\n",
       "         0 86 80 40  8\n",
       "         1 74 95 30  5\n",
       "         2 51 68 21  7\n",
       "         3  8 19  7  1\n",
       "\n",
       "Overall Statistics\n",
       "                                        \n",
       "               Accuracy : 0.338         \n",
       "                 95% CI : (0.301, 0.378)\n",
       "    No Information Rate : 0.437         \n",
       "    P-Value [Acc > NIR] : 1.000000      \n",
       "                                        \n",
       "                  Kappa : 0.026         \n",
       " Mcnemar's Test P-Value : 0.000429      \n",
       "\n",
       "Statistics by Class:\n",
       "\n",
       "                     Class: 0 Class: 1 Class: 2 Class: 3\n",
       "Sensitivity             0.393    0.363    0.214  0.04762\n",
       "Specificity             0.664    0.678    0.749  0.94128\n",
       "Pos Pred Value          0.402    0.466    0.143  0.02857\n",
       "Neg Pred Value          0.655    0.578    0.830  0.96460\n",
       "Prevalence              0.365    0.437    0.163  0.03500\n",
       "Detection Rate          0.143    0.158    0.035  0.00167\n",
       "Detection Prevalence    0.357    0.340    0.245  0.05833\n",
       "Balanced Accuracy       0.528    0.520    0.482  0.49445"
      ]
     },
     "metadata": {},
     "output_type": "display_data"
    }
   ],
   "source": [
    "confusionMatrix(actual, preds_df$majority_pred)"
   ]
  },
  {
   "cell_type": "code",
   "execution_count": null,
   "metadata": {
    "collapsed": true
   },
   "outputs": [],
   "source": []
  }
 ],
 "metadata": {
  "anaconda-cloud": {},
  "kernelspec": {
   "display_name": "R",
   "language": "R",
   "name": "ir"
  },
  "language_info": {
   "codemirror_mode": "r",
   "file_extension": ".r",
   "mimetype": "text/x-r-source",
   "name": "R",
   "pygments_lexer": "r",
   "version": "3.3.1"
  }
 },
 "nbformat": 4,
 "nbformat_minor": 0
}
