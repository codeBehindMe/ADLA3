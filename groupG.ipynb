{
 "cells": [
  {
   "cell_type": "markdown",
   "metadata": {},
   "source": [
    "# Assessment 3 - A new tool for detecting prostate cancers\n",
    "### Authors: Jeffrey Mills (28083938), \n",
    "\n",
    "**Required Libraries -** The following R libraries are referenced in this notebook\n",
    "* glmnet\n",
    "* ROCR\n",
    "---\n",
    "### Table of Contents\n",
    "\n",
    "[1. Exploratory Data Analysis](#1.-Exploratory-Data-Analysis)\n",
    "\n",
    "[2. EDA Report](#2.-EDA-Report)\n",
    "\n",
    "[3. XGBoost](#3.-XGBoost)\n",
    "\n",
    "[4. Random Forest](#4.-Random-Forest)\n",
    "\n",
    "---"
   ]
  },
  {
   "cell_type": "code",
   "execution_count": 599,
   "metadata": {
    "collapsed": true
   },
   "outputs": [],
   "source": [
    "# disable scientific notation and set to 4 digits\n",
    "options(scipen=999)\n",
    "options(digits=4)\n",
    "# set the default plot size\n",
    "options(repr.plot.width = 6)\n",
    "options(repr.plot.height = 4)\n",
    "seed=123"
   ]
  },
  {
   "cell_type": "code",
   "execution_count": 646,
   "metadata": {
    "collapsed": false
   },
   "outputs": [
    {
     "name": "stderr",
     "output_type": "stream",
     "text": [
      "also installing the dependencies 'pbapply', 'gridExtra'\n",
      "\n"
     ]
    },
    {
     "name": "stdout",
     "output_type": "stream",
     "text": [
      "package 'pbapply' successfully unpacked and MD5 sums checked\n",
      "package 'gridExtra' successfully unpacked and MD5 sums checked\n",
      "package 'caretEnsemble' successfully unpacked and MD5 sums checked\n",
      "\n",
      "The downloaded binary packages are in\n",
      "\tC:\\Users\\jmills\\AppData\\Local\\Temp\\RtmpkLSoid\\downloaded_packages\n"
     ]
    }
   ],
   "source": [
    "# install packages ggplot2 for more fancier plots and graphs\n",
    "# and psych for a more comprehensive stats package\n",
    "# only install if not already installed\n",
    "list.of.packages <- c(\"ggplot2\", \"psych\", \"ROCR\", \"leaps\", \"glmnet\", \"caret\", \"xgboost\", \"Matrix\", \"Ckmeans.1d.dp\", \n",
    "                     \"randomForest\", \"caretEnsemble\", \"MASS\")\n",
    "new.packages <- list.of.packages[!(list.of.packages %in% installed.packages()[,\"Package\"])]\n",
    "if(length(new.packages)) install.packages(new.packages, repos=\"http://cran.uk.r-project.org\")"
   ]
  },
  {
   "cell_type": "code",
   "execution_count": 650,
   "metadata": {
    "collapsed": false
   },
   "outputs": [],
   "source": [
    "# import ggplot for some of the more fancier plots if needed\n",
    "library(\"ggplot2\")\n",
    "# import more comprehensive summary stats package\n",
    "library(psych)\n",
    "# import ROCR for easier model performance checking\n",
    "library(\"ROCR\")\n",
    "\n",
    "library(\"caret\")\n",
    "library(\"caretEnsemble\")\n",
    "library(\"MASS\")\n",
    "\n",
    "library(\"xgboost\")\n",
    "library(\"Matrix\")\n",
    "library(\"Ckmeans.1d.dp\")\n",
    "library(\"randomForest\")"
   ]
  },
  {
   "cell_type": "code",
   "execution_count": 602,
   "metadata": {
    "collapsed": false
   },
   "outputs": [],
   "source": [
    "# import local utilities.R file\n",
    "source(\"./utilities.r\")"
   ]
  },
  {
   "cell_type": "markdown",
   "metadata": {},
   "source": [
    "## 1. Exploratory Data Analysis"
   ]
  },
  {
   "cell_type": "code",
   "execution_count": 603,
   "metadata": {
    "collapsed": true
   },
   "outputs": [],
   "source": [
    "prostate <- read.csv(\"./prostate.csv\")"
   ]
  },
  {
   "cell_type": "code",
   "execution_count": 604,
   "metadata": {
    "collapsed": false
   },
   "outputs": [],
   "source": [
    "# Before we do anything, dedicate 20% of our data to an unseen Test set.\n",
    "\n",
    "# 20% of the sample size\n",
    "smp_size <- floor(0.8 * nrow(prostate))\n",
    "\n",
    "train_ind <- sample(seq_len(nrow(prostate)), size = smp_size)\n",
    "\n",
    "train <- prostate[train_ind, ]\n",
    "test <- prostate[-train_ind, ]"
   ]
  },
  {
   "cell_type": "code",
   "execution_count": 605,
   "metadata": {
    "collapsed": false
   },
   "outputs": [
    {
     "data": {
      "text/html": [
       "<table>\n",
       "<thead><tr><th></th><th scope=col>ID</th><th scope=col>ATT1</th><th scope=col>ATT2</th><th scope=col>ATT3</th><th scope=col>ATT4</th><th scope=col>ATT5</th><th scope=col>ATT6</th><th scope=col>ATT7</th><th scope=col>ATT8</th><th scope=col>ATT9</th><th scope=col>ATT10</th><th scope=col>Result</th></tr></thead>\n",
       "<tbody>\n",
       "\t<tr><th scope=row>2067</th><td>2067</td><td>   2</td><td>   2</td><td>   4</td><td>   2</td><td>   4</td><td>   2</td><td>   4</td><td>   5</td><td>   6</td><td>   4</td><td>   1</td></tr>\n",
       "\t<tr><th scope=row>1431</th><td>1431</td><td>  10</td><td>   3</td><td>   3</td><td>   4</td><td>   3</td><td>   3</td><td>   8</td><td>   6</td><td>   5</td><td>   7</td><td>   2</td></tr>\n",
       "\t<tr><th scope=row>2228</th><td>2228</td><td>   2</td><td>   8</td><td>   6</td><td>   8</td><td>   2</td><td>   1</td><td>   3</td><td>  10</td><td>   1</td><td>   2</td><td>   1</td></tr>\n",
       "\t<tr><th scope=row>134</th><td>134</td><td>  9</td><td>  9</td><td>  2</td><td>  8</td><td>  9</td><td> 10</td><td>  3</td><td>  4</td><td>  9</td><td>  3</td><td>  2</td></tr>\n",
       "\t<tr><th scope=row>2775</th><td>2775</td><td>   6</td><td>   4</td><td>   4</td><td>   8</td><td>   9</td><td>   6</td><td>   1</td><td>   1</td><td>   4</td><td>   5</td><td>   1</td></tr>\n",
       "\t<tr><th scope=row>429</th><td>429</td><td>  2</td><td>  3</td><td>  2</td><td>  7</td><td>  4</td><td>  3</td><td> 10</td><td>  9</td><td>  3</td><td>  8</td><td>  2</td></tr>\n",
       "</tbody>\n",
       "</table>\n"
      ],
      "text/latex": [
       "\\begin{tabular}{r|llllllllllll}\n",
       "  & ID & ATT1 & ATT2 & ATT3 & ATT4 & ATT5 & ATT6 & ATT7 & ATT8 & ATT9 & ATT10 & Result\\\\\n",
       "\\hline\n",
       "\t2067 & 2067 &    2 &    2 &    4 &    2 &    4 &    2 &    4 &    5 &    6 &    4 &    1\\\\\n",
       "\t1431 & 1431 &   10 &    3 &    3 &    4 &    3 &    3 &    8 &    6 &    5 &    7 &    2\\\\\n",
       "\t2228 & 2228 &    2 &    8 &    6 &    8 &    2 &    1 &    3 &   10 &    1 &    2 &    1\\\\\n",
       "\t134 & 134 &   9 &   9 &   2 &   8 &   9 &  10 &   3 &   4 &   9 &   3 &   2\\\\\n",
       "\t2775 & 2775 &    6 &    4 &    4 &    8 &    9 &    6 &    1 &    1 &    4 &    5 &    1\\\\\n",
       "\t429 & 429 &   2 &   3 &   2 &   7 &   4 &   3 &  10 &   9 &   3 &   8 &   2\\\\\n",
       "\\end{tabular}\n"
      ],
      "text/plain": [
       "       ID ATT1 ATT2 ATT3 ATT4 ATT5 ATT6 ATT7 ATT8 ATT9 ATT10 Result\n",
       "2067 2067    2    2    4    2    4    2    4    5    6     4      1\n",
       "1431 1431   10    3    3    4    3    3    8    6    5     7      2\n",
       "2228 2228    2    8    6    8    2    1    3   10    1     2      1\n",
       "134   134    9    9    2    8    9   10    3    4    9     3      2\n",
       "2775 2775    6    4    4    8    9    6    1    1    4     5      1\n",
       "429   429    2    3    2    7    4    3   10    9    3     8      2"
      ]
     },
     "metadata": {},
     "output_type": "display_data"
    }
   ],
   "source": [
    "# Check the head of the dataframe\n",
    "head(train)"
   ]
  },
  {
   "cell_type": "code",
   "execution_count": 606,
   "metadata": {
    "collapsed": false
   },
   "outputs": [
    {
     "name": "stdout",
     "output_type": "stream",
     "text": [
      "'data.frame':\t2400 obs. of  12 variables:\n",
      " $ ID    : int  2067 1431 2228 134 2775 429 1834 395 787 2242 ...\n",
      " $ ATT1  : int  2 10 2 9 6 2 6 2 10 8 ...\n",
      " $ ATT2  : int  2 3 8 9 4 3 3 4 7 1 ...\n",
      " $ ATT3  : int  4 3 6 2 4 2 2 5 2 6 ...\n",
      " $ ATT4  : int  2 4 8 8 8 7 7 6 2 2 ...\n",
      " $ ATT5  : int  4 3 2 9 9 4 4 3 7 6 ...\n",
      " $ ATT6  : int  2 3 1 10 6 3 3 3 5 8 ...\n",
      " $ ATT7  : int  4 8 3 3 1 10 6 3 3 8 ...\n",
      " $ ATT8  : int  5 6 10 4 1 9 2 6 4 3 ...\n",
      " $ ATT9  : int  6 5 1 9 4 3 4 6 5 9 ...\n",
      " $ ATT10 : int  4 7 2 3 5 8 3 6 2 1 ...\n",
      " $ Result: int  1 2 1 2 1 2 0 1 0 0 ...\n"
     ]
    }
   ],
   "source": [
    "# Check structure of the datatypes\n",
    "str(train)"
   ]
  },
  {
   "cell_type": "markdown",
   "metadata": {},
   "source": [
    "We can drop the ID column as it adds no benefit to our modelling"
   ]
  },
  {
   "cell_type": "code",
   "execution_count": 607,
   "metadata": {
    "collapsed": false
   },
   "outputs": [],
   "source": [
    "train$ID <- NULL"
   ]
  },
  {
   "cell_type": "markdown",
   "metadata": {},
   "source": [
    "Given that we know the **Result** variable is our target variable which represents one of 4 stages of the cancer (0 for curable, and 1 for tumour stage, 2 for node stage and 3 for incurable cancers) - this should be represented as a factor. "
   ]
  },
  {
   "cell_type": "code",
   "execution_count": 608,
   "metadata": {
    "collapsed": false
   },
   "outputs": [],
   "source": [
    "train$Result <- as.factor(train$Result) "
   ]
  },
  {
   "cell_type": "code",
   "execution_count": 609,
   "metadata": {
    "collapsed": false
   },
   "outputs": [
    {
     "data": {
      "text/html": [
       "2400"
      ],
      "text/latex": [
       "2400"
      ],
      "text/markdown": [
       "2400"
      ],
      "text/plain": [
       "[1] 2400"
      ]
     },
     "metadata": {},
     "output_type": "display_data"
    }
   ],
   "source": [
    "# Let's check for incomplete observations\n",
    "nrow(train[complete.cases(train),])"
   ]
  },
  {
   "cell_type": "code",
   "execution_count": 610,
   "metadata": {
    "collapsed": false
   },
   "outputs": [
    {
     "name": "stdout",
     "output_type": "stream",
     "text": [
      "\n",
      "  0   1   2   3 \n",
      "880 841 520 159 \n"
     ]
    }
   ],
   "source": [
    "# Check the proportions of each factor within the Result variable in our train set\n",
    "print(table(train$Result))"
   ]
  },
  {
   "cell_type": "code",
   "execution_count": 611,
   "metadata": {
    "collapsed": false
   },
   "outputs": [
    {
     "name": "stdout",
     "output_type": "stream",
     "text": [
      "\n",
      "  0   1   2   3 \n",
      "202 239 122  37 \n"
     ]
    }
   ],
   "source": [
    "# Check the proportions of each factor within the Result variable in our test set\n",
    "print(table(test$Result))"
   ]
  },
  {
   "cell_type": "markdown",
   "metadata": {},
   "source": [
    "We have class imbalance. This will need to be addressed when training our models, potentially with some sampling techniques. "
   ]
  },
  {
   "cell_type": "code",
   "execution_count": 612,
   "metadata": {
    "collapsed": false
   },
   "outputs": [
    {
     "data": {
      "text/html": [
       "<table>\n",
       "<thead><tr><th></th><th scope=col>vars</th><th scope=col>n</th><th scope=col>mean</th><th scope=col>sd</th><th scope=col>median</th><th scope=col>trimmed</th><th scope=col>mad</th><th scope=col>min</th><th scope=col>max</th><th scope=col>range</th><th scope=col>skew</th><th scope=col>kurtosis</th><th scope=col>se</th></tr></thead>\n",
       "<tbody>\n",
       "\t<tr><th scope=row>ATT1</th><td>   1.000</td><td>2400.000</td><td>   5.789</td><td>   2.676</td><td>   6.000</td><td>   5.736</td><td>   2.965</td><td>   2.000</td><td>  10.000</td><td>   8.000</td><td>   0.113</td><td>  -1.188</td><td>   0.055</td></tr>\n",
       "\t<tr><th scope=row>ATT2</th><td>   2.000</td><td>2400.000</td><td>   4.507</td><td>   2.744</td><td>   4.000</td><td>   4.321</td><td>   2.965</td><td>   1.000</td><td>  10.000</td><td>   9.000</td><td>   0.411</td><td>  -0.965</td><td>   0.056</td></tr>\n",
       "\t<tr><th scope=row>ATT3</th><td>   3.000</td><td>2400.000</td><td>   5.814</td><td>   2.643</td><td>   6.000</td><td>   5.768</td><td>   2.965</td><td>   2.000</td><td>  10.000</td><td>   8.000</td><td>   0.108</td><td>  -1.159</td><td>   0.054</td></tr>\n",
       "\t<tr><th scope=row>ATT4</th><td>   4.000</td><td>2400.000</td><td>   5.808</td><td>   2.649</td><td>   6.000</td><td>   5.760</td><td>   2.965</td><td>   2.000</td><td>  10.000</td><td>   8.000</td><td>   0.097</td><td>  -1.169</td><td>   0.054</td></tr>\n",
       "\t<tr><th scope=row>ATT5</th><td>   5.000</td><td>2400.000</td><td>   5.768</td><td>   2.610</td><td>   6.000</td><td>   5.710</td><td>   2.965</td><td>   2.000</td><td>  10.000</td><td>   8.000</td><td>   0.125</td><td>  -1.114</td><td>   0.053</td></tr>\n",
       "\t<tr><th scope=row>ATT6</th><td>   6.000</td><td>2400.000</td><td>   4.407</td><td>   2.678</td><td>   4.000</td><td>   4.214</td><td>   2.965</td><td>   1.000</td><td>  10.000</td><td>   9.000</td><td>   0.455</td><td>  -0.915</td><td>   0.055</td></tr>\n",
       "\t<tr><th scope=row>ATT7</th><td>   7.000</td><td>2400.000</td><td>   4.464</td><td>   2.747</td><td>   4.000</td><td>   4.277</td><td>   2.965</td><td>   1.000</td><td>  10.000</td><td>   9.000</td><td>   0.409</td><td>  -1.025</td><td>   0.056</td></tr>\n",
       "\t<tr><th scope=row>ATT8</th><td>   8.000</td><td>2400.000</td><td>   4.508</td><td>   2.745</td><td>   4.000</td><td>   4.327</td><td>   2.965</td><td>   1.000</td><td>  10.000</td><td>   9.000</td><td>   0.381</td><td>  -0.996</td><td>   0.056</td></tr>\n",
       "\t<tr><th scope=row>ATT9</th><td>   9.000</td><td>2400.000</td><td>   4.409</td><td>   2.675</td><td>   4.000</td><td>   4.207</td><td>   2.965</td><td>   1.000</td><td>  10.000</td><td>   9.000</td><td>   0.460</td><td>  -0.865</td><td>   0.055</td></tr>\n",
       "\t<tr><th scope=row>ATT10</th><td>  10.000</td><td>2400.000</td><td>   4.462</td><td>   2.707</td><td>   4.000</td><td>   4.272</td><td>   2.965</td><td>   1.000</td><td>  10.000</td><td>   9.000</td><td>   0.420</td><td>  -0.931</td><td>   0.055</td></tr>\n",
       "\t<tr><th scope=row>Result*</th><td>  11.000</td><td>2400.000</td><td>   1.982</td><td>   0.921</td><td>   2.000</td><td>   1.895</td><td>   1.483</td><td>   1.000</td><td>   4.000</td><td>   3.000</td><td>   0.543</td><td>  -0.678</td><td>   0.019</td></tr>\n",
       "</tbody>\n",
       "</table>\n"
      ],
      "text/latex": [
       "\\begin{tabular}{r|lllllllllllll}\n",
       "  & vars & n & mean & sd & median & trimmed & mad & min & max & range & skew & kurtosis & se\\\\\n",
       "\\hline\n",
       "\tATT1 &    1.000 & 2400.000 &    5.789 &    2.676 &    6.000 &    5.736 &    2.965 &    2.000 &   10.000 &    8.000 &    0.113 &   -1.188 &    0.055\\\\\n",
       "\tATT2 &    2.000 & 2400.000 &    4.507 &    2.744 &    4.000 &    4.321 &    2.965 &    1.000 &   10.000 &    9.000 &    0.411 &   -0.965 &    0.056\\\\\n",
       "\tATT3 &    3.000 & 2400.000 &    5.814 &    2.643 &    6.000 &    5.768 &    2.965 &    2.000 &   10.000 &    8.000 &    0.108 &   -1.159 &    0.054\\\\\n",
       "\tATT4 &    4.000 & 2400.000 &    5.808 &    2.649 &    6.000 &    5.760 &    2.965 &    2.000 &   10.000 &    8.000 &    0.097 &   -1.169 &    0.054\\\\\n",
       "\tATT5 &    5.000 & 2400.000 &    5.768 &    2.610 &    6.000 &    5.710 &    2.965 &    2.000 &   10.000 &    8.000 &    0.125 &   -1.114 &    0.053\\\\\n",
       "\tATT6 &    6.000 & 2400.000 &    4.407 &    2.678 &    4.000 &    4.214 &    2.965 &    1.000 &   10.000 &    9.000 &    0.455 &   -0.915 &    0.055\\\\\n",
       "\tATT7 &    7.000 & 2400.000 &    4.464 &    2.747 &    4.000 &    4.277 &    2.965 &    1.000 &   10.000 &    9.000 &    0.409 &   -1.025 &    0.056\\\\\n",
       "\tATT8 &    8.000 & 2400.000 &    4.508 &    2.745 &    4.000 &    4.327 &    2.965 &    1.000 &   10.000 &    9.000 &    0.381 &   -0.996 &    0.056\\\\\n",
       "\tATT9 &    9.000 & 2400.000 &    4.409 &    2.675 &    4.000 &    4.207 &    2.965 &    1.000 &   10.000 &    9.000 &    0.460 &   -0.865 &    0.055\\\\\n",
       "\tATT10 &   10.000 & 2400.000 &    4.462 &    2.707 &    4.000 &    4.272 &    2.965 &    1.000 &   10.000 &    9.000 &    0.420 &   -0.931 &    0.055\\\\\n",
       "\tResult* &   11.000 & 2400.000 &    1.982 &    0.921 &    2.000 &    1.895 &    1.483 &    1.000 &    4.000 &    3.000 &    0.543 &   -0.678 &    0.019\\\\\n",
       "\\end{tabular}\n"
      ],
      "text/plain": [
       "        vars    n mean   sd median trimmed  mad min max range skew kurtosis\n",
       "ATT1       1 2400 5.79 2.68      6    5.74 2.96   2  10     8 0.11    -1.19\n",
       "ATT2       2 2400 4.51 2.74      4    4.32 2.96   1  10     9 0.41    -0.96\n",
       "ATT3       3 2400 5.81 2.64      6    5.77 2.96   2  10     8 0.11    -1.16\n",
       "ATT4       4 2400 5.81 2.65      6    5.76 2.96   2  10     8 0.10    -1.17\n",
       "ATT5       5 2400 5.77 2.61      6    5.71 2.96   2  10     8 0.12    -1.11\n",
       "ATT6       6 2400 4.41 2.68      4    4.21 2.96   1  10     9 0.46    -0.92\n",
       "ATT7       7 2400 4.46 2.75      4    4.28 2.96   1  10     9 0.41    -1.02\n",
       "ATT8       8 2400 4.51 2.75      4    4.33 2.96   1  10     9 0.38    -1.00\n",
       "ATT9       9 2400 4.41 2.67      4    4.21 2.96   1  10     9 0.46    -0.86\n",
       "ATT10     10 2400 4.46 2.71      4    4.27 2.96   1  10     9 0.42    -0.93\n",
       "Result*   11 2400 1.98 0.92      2    1.90 1.48   1   4     3 0.54    -0.68\n",
       "          se\n",
       "ATT1    0.06\n",
       "ATT2    0.06\n",
       "ATT3    0.05\n",
       "ATT4    0.05\n",
       "ATT5    0.05\n",
       "ATT6    0.06\n",
       "ATT7    0.06\n",
       "ATT8    0.06\n",
       "ATT9    0.06\n",
       "ATT10   0.06\n",
       "Result* 0.02"
      ]
     },
     "metadata": {},
     "output_type": "display_data"
    }
   ],
   "source": [
    "round(describe(train), 3)"
   ]
  },
  {
   "cell_type": "code",
   "execution_count": 613,
   "metadata": {
    "collapsed": false
   },
   "outputs": [
    {
     "data": {
      "image/png": "[encoded data removed]",
      "text/plain": [
       "plot without title"
      ]
     },
     "metadata": {},
     "output_type": "display_data"
    },
    {
     "data": {
      "image/png": "[encoded data removed]",
      "text/plain": [
       "plot without title"
      ]
     },
     "metadata": {},
     "output_type": "display_data"
    },
    {
     "data": {
      "image/png": "[encoded data removed]",
      "text/plain": [
       "plot without title"
      ]
     },
     "metadata": {},
     "output_type": "display_data"
    },
    {
     "data": {
      "image/png": "[encoded data removed]",
      "text/plain": [
       "plot without title"
      ]
     },
     "metadata": {},
     "output_type": "display_data"
    },
    {
     "data": {
      "image/png": "[encoded data removed]",
      "text/plain": [
       "plot without title"
      ]
     },
     "metadata": {},
     "output_type": "display_data"
    },
    {
     "data": {
      "image/png": "[encoded data removed]",
      "text/plain": [
       "plot without title"
      ]
     },
     "metadata": {},
     "output_type": "display_data"
    },
    {
     "data": {
      "image/png": "[encoded data removed]",
      "text/plain": [
       "plot without title"
      ]
     },
     "metadata": {},
     "output_type": "display_data"
    },
    {
     "data": {
      "image/png": "[encoded data removed]",
      "text/plain": [
       "plot without title"
      ]
     },
     "metadata": {},
     "output_type": "display_data"
    },
    {
     "ename": "ERROR",
     "evalue": "Error in hist.default(train[[i]], xlab = NULL, main = NULL): 'x' must be numeric\n",
     "output_type": "error",
     "traceback": [
      "Error in hist.default(train[[i]], xlab = NULL, main = NULL): 'x' must be numeric\nTraceback:\n",
      "1. hist(train[[i]], xlab = NULL, main = NULL)   # at line 7 of file <text>",
      "2. hist.default(train[[i]], xlab = NULL, main = NULL)",
      "3. stop(\"'x' must be numeric\")"
     ]
    },
    {
     "data": {
      "image/png": "[encoded data removed]",
      "text/plain": [
       "plot without title"
      ]
     },
     "metadata": {},
     "output_type": "display_data"
    },
    {
     "data": {
      "image/png": "[encoded data removed]",
      "text/plain": [
       "plot without title"
      ]
     },
     "metadata": {},
     "output_type": "display_data"
    }
   ],
   "source": [
    "oldpar <- par() #this records all the default settings\n",
    "par(mfrow=c(1,2)) # this makes to plots in one row\n",
    "par(mar=c(2.1,4.1,2.1,1.1)) #BLTR\n",
    "options(repr.plot.width=8, repr.plot.height=2.5)\n",
    "for (i in names(train)) {\n",
    "    if (i != \"quality\") {\n",
    "        hist(train[[i]],xlab=NULL,main=NULL)\n",
    "        boxplot(train[[i]])\n",
    "        mtext(i,side=3,line=-2, outer=TRUE)\n",
    "    }\n",
    "}\n",
    "suppressWarnings( par(oldpar)) # Restore settings"
   ]
  },
  {
   "cell_type": "code",
   "execution_count": 614,
   "metadata": {
    "collapsed": false,
    "scrolled": false
   },
   "outputs": [
    {
     "data": {},
     "metadata": {},
     "output_type": "display_data"
    },
    {
     "data": {},
     "metadata": {},
     "output_type": "display_data"
    },
    {
     "data": {
      "image/png": "[encoded data removed]",
      "text/plain": [
       "plot without title"
      ]
     },
     "metadata": {},
     "output_type": "display_data"
    },
    {
     "data": {},
     "metadata": {},
     "output_type": "display_data"
    },
    {
     "data": {
      "image/png": "[encoded data removed]",
      "text/plain": [
       "plot without title"
      ]
     },
     "metadata": {},
     "output_type": "display_data"
    },
    {
     "data": {},
     "metadata": {},
     "output_type": "display_data"
    },
    {
     "data": {
      "image/png": "[encoded data removed]",
      "text/plain": [
       "plot without title"
      ]
     },
     "metadata": {},
     "output_type": "display_data"
    },
    {
     "data": {},
     "metadata": {},
     "output_type": "display_data"
    },
    {
     "data": {
      "image/png": "[encoded data removed]",
      "text/plain": [
       "plot without title"
      ]
     },
     "metadata": {},
     "output_type": "display_data"
    },
    {
     "data": {},
     "metadata": {},
     "output_type": "display_data"
    },
    {
     "data": {
      "image/png": "[encoded data removed]",
      "text/plain": [
       "plot without title"
      ]
     },
     "metadata": {},
     "output_type": "display_data"
    },
    {
     "data": {},
     "metadata": {},
     "output_type": "display_data"
    },
    {
     "data": {
      "image/png": "[encoded data removed]",
      "text/plain": [
       "plot without title"
      ]
     },
     "metadata": {},
     "output_type": "display_data"
    },
    {
     "data": {},
     "metadata": {},
     "output_type": "display_data"
    },
    {
     "data": {
      "image/png": "[encoded data removed]",
      "text/plain": [
       "plot without title"
      ]
     },
     "metadata": {},
     "output_type": "display_data"
    },
    {
     "data": {},
     "metadata": {},
     "output_type": "display_data"
    },
    {
     "data": {
      "image/png": "[encoded data removed]",
      "text/plain": [
       "plot without title"
      ]
     },
     "metadata": {},
     "output_type": "display_data"
    },
    {
     "data": {},
     "metadata": {},
     "output_type": "display_data"
    },
    {
     "data": {
      "image/png": "[encoded data removed]",
      "text/plain": [
       "plot without title"
      ]
     },
     "metadata": {},
     "output_type": "display_data"
    },
    {
     "data": {
      "image/png": "[encoded data removed]",
      "text/plain": [
       "plot without title"
      ]
     },
     "metadata": {},
     "output_type": "display_data"
    }
   ],
   "source": [
    "options(repr.plot.width = 3)\n",
    "options(repr.plot.height = 2)\n",
    "ggplot(train, aes(x = Result, y = ATT1)) + geom_boxplot()\n",
    "ggplot(train, aes(x = Result, y = ATT2)) + geom_boxplot()\n",
    "ggplot(train, aes(x = Result, y = ATT3)) + geom_boxplot()\n",
    "ggplot(train, aes(x = Result, y = ATT4)) + geom_boxplot()\n",
    "ggplot(train, aes(x = Result, y = ATT5)) + geom_boxplot()\n",
    "ggplot(train, aes(x = Result, y = ATT6)) + geom_boxplot()\n",
    "ggplot(train, aes(x = Result, y = ATT7)) + geom_boxplot()\n",
    "ggplot(train, aes(x = Result, y = ATT8)) + geom_boxplot()\n",
    "ggplot(train, aes(x = Result, y = ATT9)) + geom_boxplot()\n",
    "ggplot(train, aes(x = Result, y = ATT10)) + geom_boxplot()\n",
    "options(repr.plot.width = 6)\n",
    "options(repr.plot.height = 4)"
   ]
  },
  {
   "cell_type": "code",
   "execution_count": 615,
   "metadata": {
    "collapsed": false
   },
   "outputs": [
    {
     "data": {},
     "metadata": {},
     "output_type": "display_data"
    },
    {
     "data": {
      "image/png": "[encoded data removed]",
      "text/plain": [
       "plot without title"
      ]
     },
     "metadata": {},
     "output_type": "display_data"
    }
   ],
   "source": [
    "ggplot(aes(x=ATT1, y=ATT2, color=Result),  #by setting color=color, ggplot automatically draw in different colors\n",
    "       data=train) + geom_point(stat='summary', fun.y=median)"
   ]
  },
  {
   "cell_type": "code",
   "execution_count": 616,
   "metadata": {
    "collapsed": false
   },
   "outputs": [
    {
     "data": {},
     "metadata": {},
     "output_type": "display_data"
    },
    {
     "data": {
      "image/png": "[encoded data removed]",
      "text/plain": [
       "plot without title"
      ]
     },
     "metadata": {},
     "output_type": "display_data"
    }
   ],
   "source": [
    "qplot(ATT1, ATT4, colour=Result, data=train)"
   ]
  },
  {
   "cell_type": "markdown",
   "metadata": {},
   "source": [
    "# 2. EDA Report"
   ]
  },
  {
   "cell_type": "markdown",
   "metadata": {},
   "source": [
    "Perform an EDA, and prepare a summary of your findings. The summary should be less than 300 words. You need to emphasise on the aspects of the EDA that guide you in choosing a particular model or algorithm for your classifier. If you want to include any chart in your notebook, there should be something you have learnt and you are going to use it in your model selection. Please provide a short explanation on what you have learnt just after the cell. In addition, types of variables, the dimension of the data, and any correlation between variables are very important. Also, you might need to look at some distribution of your variables to get some insights."
   ]
  },
  {
   "cell_type": "code",
   "execution_count": null,
   "metadata": {
    "collapsed": true
   },
   "outputs": [],
   "source": []
  },
  {
   "cell_type": "code",
   "execution_count": null,
   "metadata": {
    "collapsed": true
   },
   "outputs": [],
   "source": []
  },
  {
   "cell_type": "code",
   "execution_count": null,
   "metadata": {
    "collapsed": true
   },
   "outputs": [],
   "source": []
  },
  {
   "cell_type": "markdown",
   "metadata": {},
   "source": [
    "# 3. XGBoost"
   ]
  },
  {
   "cell_type": "code",
   "execution_count": 617,
   "metadata": {
    "collapsed": false
   },
   "outputs": [],
   "source": [
    "# perform down sampling to obtain even amount of classes\n",
    "xg_train <- Udf.Utilities.UpSample(train)\n",
    "xg_test <- test"
   ]
  },
  {
   "cell_type": "code",
   "execution_count": 618,
   "metadata": {
    "collapsed": false
   },
   "outputs": [
    {
     "data": {
      "text/plain": [
       "\n",
       "  0   1   2   3 \n",
       "880 880 880 880 "
      ]
     },
     "metadata": {},
     "output_type": "display_data"
    }
   ],
   "source": [
    "# Check the proportions of each factor within the Result variable\n",
    "w <- table(xg_train$Result)\n",
    "w"
   ]
  },
  {
   "cell_type": "code",
   "execution_count": 619,
   "metadata": {
    "collapsed": false
   },
   "outputs": [],
   "source": [
    "# store the actuals for future comparison\n",
    "actual <- test$Result"
   ]
  },
  {
   "cell_type": "code",
   "execution_count": 620,
   "metadata": {
    "collapsed": false
   },
   "outputs": [],
   "source": [
    "# set the Result to a numeric range from 0 - 3\n",
    "xg_train.y <- as.numeric(xg_train$Result)-1\n",
    "xg_test.y <- as.numeric(test$Result)-1"
   ]
  },
  {
   "cell_type": "code",
   "execution_count": 621,
   "metadata": {
    "collapsed": false
   },
   "outputs": [],
   "source": [
    "# convert to matrix for boosting method\n",
    "xg_train <- sparse.model.matrix(Result ~ ., data = xg_train)\n",
    "dtrain <- xgb.DMatrix(data=xg_train, label=xg_train.y)"
   ]
  },
  {
   "cell_type": "code",
   "execution_count": 622,
   "metadata": {
    "collapsed": true
   },
   "outputs": [],
   "source": [
    "xg_test <- sparse.model.matrix(Result ~ ., data = xg_test)\n",
    "dtest <- xgb.DMatrix(data=xg_test, label=xg_test.y)"
   ]
  },
  {
   "cell_type": "code",
   "execution_count": 623,
   "metadata": {
    "collapsed": false
   },
   "outputs": [
    {
     "name": "stdout",
     "output_type": "stream",
     "text": [
      "[0]\ttrain-merror:0.499590+0.017950\ttest-merror:0.614489+0.024108\n",
      "[20]\ttrain-merror:0.175821+0.009318\ttest-merror:0.465057+0.024071\n",
      "[40]\ttrain-merror:0.102778+0.005066\ttest-merror:0.418182+0.026811\n",
      "[60]\ttrain-merror:0.062879+0.002783\ttest-merror:0.397443+0.028768\n",
      "[80]\ttrain-merror:0.035795+0.002213\ttest-merror:0.384943+0.025943\n",
      "[100]\ttrain-merror:0.019949+0.002166\ttest-merror:0.376705+0.024701\n",
      "[120]\ttrain-merror:0.011932+0.001753\ttest-merror:0.368182+0.024336\n",
      "[140]\ttrain-merror:0.006787+0.001374\ttest-merror:0.363068+0.024650\n",
      "[160]\ttrain-merror:0.004009+0.000881\ttest-merror:0.356534+0.021016\n",
      "[180]\ttrain-merror:0.002304+0.000517\ttest-merror:0.352557+0.026259\n",
      "[200]\ttrain-merror:0.001105+0.000453\ttest-merror:0.350284+0.025552\n",
      "[220]\ttrain-merror:0.000694+0.000388\ttest-merror:0.353125+0.026517\n",
      "[240]\ttrain-merror:0.000284+0.000276\ttest-merror:0.351136+0.026891\n",
      "[260]\ttrain-merror:0.000032+0.000100\ttest-merror:0.351421+0.025658\n",
      "[280]\ttrain-merror:0.000000+0.000000\ttest-merror:0.351705+0.025047\n",
      "[300]\ttrain-merror:0.000000+0.000000\ttest-merror:0.352841+0.021628\n",
      "[320]\ttrain-merror:0.000000+0.000000\ttest-merror:0.350852+0.022339\n",
      "[340]\ttrain-merror:0.000000+0.000000\ttest-merror:0.352841+0.022640\n",
      "[360]\ttrain-merror:0.000000+0.000000\ttest-merror:0.351704+0.022321\n",
      "[380]\ttrain-merror:0.000000+0.000000\ttest-merror:0.351989+0.022387\n",
      "[400]\ttrain-merror:0.000000+0.000000\ttest-merror:0.350000+0.022441\n",
      "[420]\ttrain-merror:0.000000+0.000000\ttest-merror:0.350000+0.022361\n",
      "[440]\ttrain-merror:0.000000+0.000000\ttest-merror:0.349432+0.023465\n",
      "[460]\ttrain-merror:0.000000+0.000000\ttest-merror:0.349716+0.022587\n",
      "[480]\ttrain-merror:0.000000+0.000000\ttest-merror:0.349432+0.021469\n"
     ]
    }
   ],
   "source": [
    "# cross validate to select optimal value for number of rounds\n",
    "n_rounds.cv <- 500\n",
    "params <- list(booster = \"gbtree\", objective = \"multi:softmax\",\n",
    "               num_class = 4, eval_metric = 'merror',\n",
    "               max_depth = 6, eta = 0.1,\n",
    "               colsample_bytree = 0.9, subsample = 0.9)\n",
    "\n",
    "bst.cv <- xgb.cv(params, dtrain, n_rounds.cv, nfold = 10, metrics = {'merror'},\n",
    "                 print.every.n = 20, prediction = TRUE)"
   ]
  },
  {
   "cell_type": "code",
   "execution_count": 624,
   "metadata": {
    "collapsed": false
   },
   "outputs": [
    {
     "data": {
      "text/html": [
       "394"
      ],
      "text/latex": [
       "394"
      ],
      "text/markdown": [
       "394"
      ],
      "text/plain": [
       "[1] 394"
      ]
     },
     "metadata": {},
     "output_type": "display_data"
    }
   ],
   "source": [
    "n_rounds.train <- which.min(bst.cv$dt[, test.merror.mean])\n",
    "n_rounds.train"
   ]
  },
  {
   "cell_type": "code",
   "execution_count": 625,
   "metadata": {
    "collapsed": false,
    "scrolled": true
   },
   "outputs": [
    {
     "name": "stdout",
     "output_type": "stream",
     "text": [
      "[0]\txgbTrain-merror:0.357143\n",
      "[1]\txgbTrain-merror:0.276398\n",
      "[2]\txgbTrain-merror:0.231366\n",
      "[3]\txgbTrain-merror:0.208075\n",
      "[4]\txgbTrain-merror:0.187888\n",
      "[5]\txgbTrain-merror:0.183230\n",
      "[6]\txgbTrain-merror:0.172360\n",
      "[7]\txgbTrain-merror:0.161491\n",
      "[8]\txgbTrain-merror:0.159938\n",
      "[9]\txgbTrain-merror:0.163043\n",
      "[10]\txgbTrain-merror:0.156832\n",
      "[11]\txgbTrain-merror:0.152174\n",
      "[12]\txgbTrain-merror:0.155280\n",
      "[13]\txgbTrain-merror:0.155280\n",
      "[14]\txgbTrain-merror:0.149068\n",
      "[15]\txgbTrain-merror:0.145963\n",
      "[16]\txgbTrain-merror:0.139752\n",
      "[17]\txgbTrain-merror:0.144410\n",
      "[18]\txgbTrain-merror:0.142857\n",
      "[19]\txgbTrain-merror:0.142857\n",
      "[20]\txgbTrain-merror:0.139752\n",
      "[21]\txgbTrain-merror:0.141304\n",
      "[22]\txgbTrain-merror:0.138199\n",
      "[23]\txgbTrain-merror:0.139752\n",
      "[24]\txgbTrain-merror:0.138199\n",
      "[25]\txgbTrain-merror:0.136646\n",
      "[26]\txgbTrain-merror:0.135093\n",
      "[27]\txgbTrain-merror:0.131988\n",
      "[28]\txgbTrain-merror:0.135093\n",
      "[29]\txgbTrain-merror:0.133540\n",
      "[30]\txgbTrain-merror:0.138199\n",
      "[31]\txgbTrain-merror:0.136646\n",
      "[32]\txgbTrain-merror:0.139752\n",
      "[33]\txgbTrain-merror:0.142857\n",
      "[34]\txgbTrain-merror:0.142857\n",
      "[35]\txgbTrain-merror:0.142857\n",
      "[36]\txgbTrain-merror:0.136646\n",
      "[37]\txgbTrain-merror:0.139752\n",
      "[38]\txgbTrain-merror:0.136646\n",
      "[39]\txgbTrain-merror:0.139752\n",
      "[40]\txgbTrain-merror:0.139752\n",
      "[41]\txgbTrain-merror:0.138199\n",
      "[42]\txgbTrain-merror:0.138199\n",
      "[43]\txgbTrain-merror:0.135093\n",
      "[44]\txgbTrain-merror:0.136646\n",
      "[45]\txgbTrain-merror:0.138199\n",
      "[46]\txgbTrain-merror:0.139752\n",
      "[47]\txgbTrain-merror:0.138199\n",
      "[48]\txgbTrain-merror:0.141304\n",
      "[49]\txgbTrain-merror:0.142857\n",
      "[50]\txgbTrain-merror:0.141304\n",
      "[51]\txgbTrain-merror:0.138199\n",
      "[52]\txgbTrain-merror:0.138199\n",
      "[53]\txgbTrain-merror:0.138199\n",
      "[54]\txgbTrain-merror:0.138199\n",
      "[55]\txgbTrain-merror:0.138199\n",
      "[56]\txgbTrain-merror:0.136646\n",
      "[57]\txgbTrain-merror:0.138199\n",
      "[58]\txgbTrain-merror:0.139752\n",
      "[59]\txgbTrain-merror:0.138199\n",
      "[60]\txgbTrain-merror:0.138199\n",
      "[61]\txgbTrain-merror:0.139752\n",
      "[62]\txgbTrain-merror:0.136646\n",
      "[63]\txgbTrain-merror:0.138199\n",
      "[64]\txgbTrain-merror:0.139752\n",
      "[65]\txgbTrain-merror:0.139752\n",
      "[66]\txgbTrain-merror:0.139752\n",
      "[67]\txgbTrain-merror:0.139752\n",
      "[68]\txgbTrain-merror:0.138199\n",
      "[69]\txgbTrain-merror:0.138199\n",
      "[70]\txgbTrain-merror:0.138199\n",
      "[71]\txgbTrain-merror:0.136646\n",
      "[72]\txgbTrain-merror:0.135093\n",
      "[73]\txgbTrain-merror:0.135093\n",
      "[74]\txgbTrain-merror:0.135093\n",
      "[75]\txgbTrain-merror:0.133540\n",
      "[76]\txgbTrain-merror:0.131988\n",
      "[77]\txgbTrain-merror:0.131988\n",
      "[78]\txgbTrain-merror:0.133540\n",
      "[79]\txgbTrain-merror:0.138199\n",
      "[80]\txgbTrain-merror:0.135093\n",
      "[81]\txgbTrain-merror:0.138199\n",
      "[82]\txgbTrain-merror:0.135093\n",
      "[83]\txgbTrain-merror:0.135093\n",
      "[84]\txgbTrain-merror:0.131988\n",
      "[85]\txgbTrain-merror:0.136646\n",
      "[86]\txgbTrain-merror:0.136646\n",
      "[87]\txgbTrain-merror:0.138199\n",
      "[88]\txgbTrain-merror:0.136646\n",
      "[89]\txgbTrain-merror:0.133540\n",
      "[90]\txgbTrain-merror:0.136646\n",
      "[91]\txgbTrain-merror:0.135093\n",
      "[92]\txgbTrain-merror:0.138199\n",
      "[93]\txgbTrain-merror:0.135093\n",
      "[94]\txgbTrain-merror:0.135093\n",
      "[95]\txgbTrain-merror:0.133540\n",
      "[96]\txgbTrain-merror:0.135093\n",
      "[97]\txgbTrain-merror:0.133540\n",
      "[98]\txgbTrain-merror:0.135093\n",
      "[99]\txgbTrain-merror:0.136646\n",
      "[100]\txgbTrain-merror:0.135093\n",
      "[101]\txgbTrain-merror:0.136646\n",
      "[102]\txgbTrain-merror:0.133540\n",
      "[103]\txgbTrain-merror:0.135093\n",
      "[104]\txgbTrain-merror:0.133540\n",
      "[105]\txgbTrain-merror:0.136646\n",
      "[106]\txgbTrain-merror:0.136646\n",
      "[107]\txgbTrain-merror:0.136646\n",
      "[108]\txgbTrain-merror:0.135093\n",
      "[109]\txgbTrain-merror:0.135093\n",
      "[110]\txgbTrain-merror:0.135093\n",
      "[111]\txgbTrain-merror:0.136646\n",
      "[112]\txgbTrain-merror:0.135093\n",
      "[113]\txgbTrain-merror:0.138199\n",
      "[114]\txgbTrain-merror:0.136646\n",
      "[115]\txgbTrain-merror:0.138199\n",
      "[116]\txgbTrain-merror:0.138199\n",
      "[117]\txgbTrain-merror:0.139752\n",
      "[118]\txgbTrain-merror:0.141304\n",
      "[119]\txgbTrain-merror:0.141304\n",
      "[120]\txgbTrain-merror:0.141304\n",
      "[121]\txgbTrain-merror:0.138199\n",
      "[122]\txgbTrain-merror:0.139752\n",
      "[123]\txgbTrain-merror:0.139752\n",
      "[124]\txgbTrain-merror:0.139752\n",
      "[125]\txgbTrain-merror:0.138199\n",
      "[126]\txgbTrain-merror:0.138199\n",
      "[127]\txgbTrain-merror:0.139752\n",
      "[128]\txgbTrain-merror:0.138199\n",
      "[129]\txgbTrain-merror:0.139752\n",
      "[130]\txgbTrain-merror:0.138199\n",
      "[131]\txgbTrain-merror:0.138199\n",
      "[132]\txgbTrain-merror:0.138199\n",
      "[133]\txgbTrain-merror:0.138199\n",
      "[134]\txgbTrain-merror:0.138199\n",
      "[135]\txgbTrain-merror:0.136646\n",
      "[136]\txgbTrain-merror:0.135093\n",
      "[137]\txgbTrain-merror:0.136646\n",
      "[138]\txgbTrain-merror:0.139752\n",
      "[139]\txgbTrain-merror:0.136646\n",
      "[140]\txgbTrain-merror:0.136646\n",
      "[141]\txgbTrain-merror:0.139752\n",
      "[142]\txgbTrain-merror:0.139752\n",
      "[143]\txgbTrain-merror:0.136646\n",
      "[144]\txgbTrain-merror:0.136646\n",
      "[145]\txgbTrain-merror:0.138199\n",
      "[146]\txgbTrain-merror:0.136646\n",
      "[147]\txgbTrain-merror:0.138199\n",
      "[148]\txgbTrain-merror:0.138199\n",
      "[149]\txgbTrain-merror:0.138199\n",
      "[150]\txgbTrain-merror:0.138199\n",
      "[151]\txgbTrain-merror:0.138199\n",
      "[152]\txgbTrain-merror:0.138199\n",
      "[153]\txgbTrain-merror:0.136646\n",
      "[154]\txgbTrain-merror:0.136646\n",
      "[155]\txgbTrain-merror:0.136646\n",
      "[156]\txgbTrain-merror:0.135093\n",
      "[157]\txgbTrain-merror:0.138199\n",
      "[158]\txgbTrain-merror:0.136646\n",
      "[159]\txgbTrain-merror:0.138199\n",
      "[160]\txgbTrain-merror:0.136646\n",
      "[161]\txgbTrain-merror:0.135093\n",
      "[162]\txgbTrain-merror:0.133540\n",
      "[163]\txgbTrain-merror:0.133540\n",
      "[164]\txgbTrain-merror:0.135093\n",
      "[165]\txgbTrain-merror:0.136646\n",
      "[166]\txgbTrain-merror:0.136646\n",
      "[167]\txgbTrain-merror:0.136646\n",
      "[168]\txgbTrain-merror:0.138199\n",
      "[169]\txgbTrain-merror:0.138199\n",
      "[170]\txgbTrain-merror:0.138199\n",
      "[171]\txgbTrain-merror:0.138199\n",
      "[172]\txgbTrain-merror:0.136646\n",
      "[173]\txgbTrain-merror:0.136646\n",
      "[174]\txgbTrain-merror:0.136646\n",
      "[175]\txgbTrain-merror:0.136646\n",
      "[176]\txgbTrain-merror:0.135093\n",
      "[177]\txgbTrain-merror:0.133540\n",
      "[178]\txgbTrain-merror:0.135093\n",
      "[179]\txgbTrain-merror:0.133540\n",
      "[180]\txgbTrain-merror:0.133540\n",
      "[181]\txgbTrain-merror:0.133540\n",
      "[182]\txgbTrain-merror:0.133540\n",
      "[183]\txgbTrain-merror:0.135093\n",
      "[184]\txgbTrain-merror:0.135093\n",
      "[185]\txgbTrain-merror:0.135093\n",
      "[186]\txgbTrain-merror:0.135093\n",
      "[187]\txgbTrain-merror:0.135093\n",
      "[188]\txgbTrain-merror:0.135093\n",
      "[189]\txgbTrain-merror:0.135093\n",
      "[190]\txgbTrain-merror:0.135093\n",
      "[191]\txgbTrain-merror:0.135093\n",
      "[192]\txgbTrain-merror:0.136646\n",
      "[193]\txgbTrain-merror:0.136646\n",
      "[194]\txgbTrain-merror:0.138199\n",
      "[195]\txgbTrain-merror:0.139752\n",
      "[196]\txgbTrain-merror:0.139752\n",
      "[197]\txgbTrain-merror:0.139752\n",
      "[198]\txgbTrain-merror:0.139752\n",
      "[199]\txgbTrain-merror:0.138199\n",
      "[200]\txgbTrain-merror:0.138199\n",
      "[201]\txgbTrain-merror:0.139752\n",
      "[202]\txgbTrain-merror:0.138199\n",
      "[203]\txgbTrain-merror:0.138199\n",
      "[204]\txgbTrain-merror:0.138199\n",
      "[205]\txgbTrain-merror:0.138199\n",
      "[206]\txgbTrain-merror:0.138199\n",
      "[207]\txgbTrain-merror:0.136646\n",
      "[208]\txgbTrain-merror:0.138199\n",
      "[209]\txgbTrain-merror:0.138199\n",
      "[210]\txgbTrain-merror:0.138199\n",
      "[211]\txgbTrain-merror:0.136646\n",
      "[212]\txgbTrain-merror:0.136646\n",
      "[213]\txgbTrain-merror:0.138199\n",
      "[214]\txgbTrain-merror:0.138199\n",
      "[215]\txgbTrain-merror:0.136646\n",
      "[216]\txgbTrain-merror:0.138199\n",
      "[217]\txgbTrain-merror:0.136646\n",
      "[218]\txgbTrain-merror:0.139752\n",
      "[219]\txgbTrain-merror:0.136646\n",
      "[220]\txgbTrain-merror:0.136646\n",
      "[221]\txgbTrain-merror:0.136646\n",
      "[222]\txgbTrain-merror:0.138199\n",
      "[223]\txgbTrain-merror:0.136646\n",
      "[224]\txgbTrain-merror:0.135093\n",
      "[225]\txgbTrain-merror:0.136646\n",
      "[226]\txgbTrain-merror:0.136646\n",
      "[227]\txgbTrain-merror:0.136646\n",
      "[228]\txgbTrain-merror:0.136646\n",
      "[229]\txgbTrain-merror:0.136646\n",
      "[230]\txgbTrain-merror:0.136646\n",
      "[231]\txgbTrain-merror:0.136646\n",
      "[232]\txgbTrain-merror:0.136646\n",
      "[233]\txgbTrain-merror:0.136646\n",
      "[234]\txgbTrain-merror:0.136646\n",
      "[235]\txgbTrain-merror:0.136646\n",
      "[236]\txgbTrain-merror:0.136646\n",
      "[237]\txgbTrain-merror:0.136646\n",
      "[238]\txgbTrain-merror:0.136646\n",
      "[239]\txgbTrain-merror:0.135093\n",
      "[240]\txgbTrain-merror:0.135093\n",
      "[241]\txgbTrain-merror:0.135093\n",
      "[242]\txgbTrain-merror:0.136646\n",
      "[243]\txgbTrain-merror:0.135093\n",
      "[244]\txgbTrain-merror:0.135093\n",
      "[245]\txgbTrain-merror:0.135093\n",
      "[246]\txgbTrain-merror:0.136646\n",
      "[247]\txgbTrain-merror:0.135093\n",
      "[248]\txgbTrain-merror:0.136646\n",
      "[249]\txgbTrain-merror:0.135093\n",
      "[250]\txgbTrain-merror:0.135093\n",
      "[251]\txgbTrain-merror:0.135093\n",
      "[252]\txgbTrain-merror:0.135093\n",
      "[253]\txgbTrain-merror:0.135093\n",
      "[254]\txgbTrain-merror:0.136646\n",
      "[255]\txgbTrain-merror:0.136646\n",
      "[256]\txgbTrain-merror:0.135093\n",
      "[257]\txgbTrain-merror:0.136646\n",
      "[258]\txgbTrain-merror:0.135093\n",
      "[259]\txgbTrain-merror:0.135093\n",
      "[260]\txgbTrain-merror:0.135093\n",
      "[261]\txgbTrain-merror:0.135093\n",
      "[262]\txgbTrain-merror:0.135093\n",
      "[263]\txgbTrain-merror:0.135093\n",
      "[264]\txgbTrain-merror:0.135093\n",
      "[265]\txgbTrain-merror:0.135093\n",
      "[266]\txgbTrain-merror:0.135093\n",
      "[267]\txgbTrain-merror:0.135093\n",
      "[268]\txgbTrain-merror:0.135093\n",
      "[269]\txgbTrain-merror:0.136646\n",
      "[270]\txgbTrain-merror:0.136646\n",
      "[271]\txgbTrain-merror:0.136646\n",
      "[272]\txgbTrain-merror:0.136646\n",
      "[273]\txgbTrain-merror:0.136646\n",
      "[274]\txgbTrain-merror:0.136646\n",
      "[275]\txgbTrain-merror:0.136646\n",
      "[276]\txgbTrain-merror:0.138199\n",
      "[277]\txgbTrain-merror:0.136646\n",
      "[278]\txgbTrain-merror:0.135093\n",
      "[279]\txgbTrain-merror:0.135093\n",
      "[280]\txgbTrain-merror:0.135093\n",
      "[281]\txgbTrain-merror:0.135093\n",
      "[282]\txgbTrain-merror:0.135093\n",
      "[283]\txgbTrain-merror:0.135093\n",
      "[284]\txgbTrain-merror:0.135093\n",
      "[285]\txgbTrain-merror:0.136646\n",
      "[286]\txgbTrain-merror:0.136646\n",
      "[287]\txgbTrain-merror:0.136646\n",
      "[288]\txgbTrain-merror:0.136646\n",
      "[289]\txgbTrain-merror:0.136646\n",
      "[290]\txgbTrain-merror:0.135093\n",
      "[291]\txgbTrain-merror:0.135093\n",
      "[292]\txgbTrain-merror:0.135093\n",
      "[293]\txgbTrain-merror:0.136646\n",
      "[294]\txgbTrain-merror:0.136646\n",
      "[295]\txgbTrain-merror:0.136646\n",
      "[296]\txgbTrain-merror:0.138199\n",
      "[297]\txgbTrain-merror:0.138199\n",
      "[298]\txgbTrain-merror:0.138199\n",
      "[299]\txgbTrain-merror:0.136646\n",
      "[300]\txgbTrain-merror:0.136646\n",
      "[301]\txgbTrain-merror:0.136646\n",
      "[302]\txgbTrain-merror:0.136646\n",
      "[303]\txgbTrain-merror:0.136646\n",
      "[304]\txgbTrain-merror:0.136646\n",
      "[305]\txgbTrain-merror:0.138199\n",
      "[306]\txgbTrain-merror:0.138199\n",
      "[307]\txgbTrain-merror:0.138199\n",
      "[308]\txgbTrain-merror:0.138199\n",
      "[309]\txgbTrain-merror:0.138199\n",
      "[310]\txgbTrain-merror:0.138199\n",
      "[311]\txgbTrain-merror:0.138199\n",
      "[312]\txgbTrain-merror:0.138199\n",
      "[313]\txgbTrain-merror:0.138199\n",
      "[314]\txgbTrain-merror:0.138199\n",
      "[315]\txgbTrain-merror:0.138199\n",
      "[316]\txgbTrain-merror:0.138199\n",
      "[317]\txgbTrain-merror:0.138199\n",
      "[318]\txgbTrain-merror:0.138199\n",
      "[319]\txgbTrain-merror:0.138199\n",
      "[320]\txgbTrain-merror:0.138199\n",
      "[321]\txgbTrain-merror:0.138199\n",
      "[322]\txgbTrain-merror:0.138199\n",
      "[323]\txgbTrain-merror:0.138199\n",
      "[324]\txgbTrain-merror:0.138199\n",
      "[325]\txgbTrain-merror:0.138199\n",
      "[326]\txgbTrain-merror:0.138199\n",
      "[327]\txgbTrain-merror:0.138199\n",
      "[328]\txgbTrain-merror:0.138199\n",
      "[329]\txgbTrain-merror:0.138199\n",
      "[330]\txgbTrain-merror:0.138199\n",
      "[331]\txgbTrain-merror:0.138199\n",
      "[332]\txgbTrain-merror:0.138199\n",
      "[333]\txgbTrain-merror:0.138199\n",
      "[334]\txgbTrain-merror:0.138199\n",
      "[335]\txgbTrain-merror:0.138199\n",
      "[336]\txgbTrain-merror:0.138199\n",
      "[337]\txgbTrain-merror:0.138199\n",
      "[338]\txgbTrain-merror:0.138199\n",
      "[339]\txgbTrain-merror:0.138199\n",
      "[340]\txgbTrain-merror:0.138199\n",
      "[341]\txgbTrain-merror:0.138199\n",
      "[342]\txgbTrain-merror:0.138199\n",
      "[343]\txgbTrain-merror:0.138199\n",
      "[344]\txgbTrain-merror:0.139752\n",
      "[345]\txgbTrain-merror:0.138199\n",
      "[346]\txgbTrain-merror:0.139752\n",
      "[347]\txgbTrain-merror:0.139752\n",
      "[348]\txgbTrain-merror:0.139752\n",
      "[349]\txgbTrain-merror:0.139752\n",
      "[350]\txgbTrain-merror:0.139752\n",
      "[351]\txgbTrain-merror:0.139752\n",
      "[352]\txgbTrain-merror:0.139752\n",
      "[353]\txgbTrain-merror:0.139752\n",
      "[354]\txgbTrain-merror:0.139752\n",
      "[355]\txgbTrain-merror:0.139752\n",
      "[356]\txgbTrain-merror:0.139752\n",
      "[357]\txgbTrain-merror:0.141304\n",
      "[358]\txgbTrain-merror:0.139752\n",
      "[359]\txgbTrain-merror:0.139752\n",
      "[360]\txgbTrain-merror:0.139752\n",
      "[361]\txgbTrain-merror:0.139752\n",
      "[362]\txgbTrain-merror:0.139752\n",
      "[363]\txgbTrain-merror:0.138199\n",
      "[364]\txgbTrain-merror:0.139752\n",
      "[365]\txgbTrain-merror:0.139752\n",
      "[366]\txgbTrain-merror:0.139752\n",
      "[367]\txgbTrain-merror:0.139752\n",
      "[368]\txgbTrain-merror:0.139752\n",
      "[369]\txgbTrain-merror:0.138199\n",
      "[370]\txgbTrain-merror:0.138199\n",
      "[371]\txgbTrain-merror:0.139752\n",
      "[372]\txgbTrain-merror:0.138199\n",
      "[373]\txgbTrain-merror:0.138199\n",
      "[374]\txgbTrain-merror:0.138199\n",
      "[375]\txgbTrain-merror:0.139752\n",
      "[376]\txgbTrain-merror:0.138199\n",
      "[377]\txgbTrain-merror:0.139752\n",
      "[378]\txgbTrain-merror:0.139752\n",
      "[379]\txgbTrain-merror:0.141304\n",
      "[380]\txgbTrain-merror:0.138199\n",
      "[381]\txgbTrain-merror:0.139752\n",
      "[382]\txgbTrain-merror:0.139752\n",
      "[383]\txgbTrain-merror:0.139752\n",
      "[384]\txgbTrain-merror:0.139752\n",
      "[385]\txgbTrain-merror:0.139752\n",
      "[386]\txgbTrain-merror:0.139752\n",
      "[387]\txgbTrain-merror:0.139752\n",
      "[388]\txgbTrain-merror:0.139752\n",
      "[389]\txgbTrain-merror:0.139752\n",
      "[390]\txgbTrain-merror:0.139752\n",
      "[391]\txgbTrain-merror:0.139752\n",
      "[392]\txgbTrain-merror:0.139752\n",
      "[393]\txgbTrain-merror:0.139752\n"
     ]
    }
   ],
   "source": [
    "# create the model\n",
    "bst <- xgb.train(   params              = param, \n",
    "                    data                = dtrain, \n",
    "                    nrounds             = n_rounds.train, \n",
    "                    verbose             = 1,\n",
    "                    watchlist           = watchlist,\n",
    "                    maximize            = FALSE\n",
    ")"
   ]
  },
  {
   "cell_type": "code",
   "execution_count": 626,
   "metadata": {
    "collapsed": true
   },
   "outputs": [],
   "source": [
    "# generate predictions from model\n",
    "pred <- predict(bst, xg_test);"
   ]
  },
  {
   "cell_type": "code",
   "execution_count": 627,
   "metadata": {
    "collapsed": false
   },
   "outputs": [
    {
     "data": {
      "text/plain": [
       "Confusion Matrix and Statistics\n",
       "\n",
       "          Reference\n",
       "Prediction   0   1   2   3\n",
       "         0  73  78  42  13\n",
       "         1 107 134  65  22\n",
       "         2  21  24  14   2\n",
       "         3   1   3   1   0\n",
       "\n",
       "Overall Statistics\n",
       "                                        \n",
       "               Accuracy : 0.368         \n",
       "                 95% CI : (0.33, 0.408) \n",
       "    No Information Rate : 0.398         \n",
       "    P-Value [Acc > NIR] : 0.939         \n",
       "                                        \n",
       "                  Kappa : 0.021         \n",
       " Mcnemar's Test P-Value : 0.000000000369\n",
       "\n",
       "Statistics by Class:\n",
       "\n",
       "                     Class: 0 Class: 1 Class: 2 Class: 3\n",
       "Sensitivity             0.361    0.561   0.1148  0.00000\n",
       "Specificity             0.666    0.463   0.9017  0.99112\n",
       "Pos Pred Value          0.354    0.409   0.2295  0.00000\n",
       "Neg Pred Value          0.673    0.614   0.7996  0.93782\n",
       "Prevalence              0.337    0.398   0.2033  0.06167\n",
       "Detection Rate          0.122    0.223   0.0233  0.00000\n",
       "Detection Prevalence    0.343    0.547   0.1017  0.00833\n",
       "Balanced Accuracy       0.514    0.512   0.5082  0.49556"
      ]
     },
     "metadata": {},
     "output_type": "display_data"
    }
   ],
   "source": [
    "confusionMatrix(pred, actual)"
   ]
  },
  {
   "cell_type": "code",
   "execution_count": 628,
   "metadata": {
    "collapsed": false
   },
   "outputs": [
    {
     "data": {
      "text/html": [
       "<table>\n",
       "<thead><tr><th></th><th scope=col>Feature</th><th scope=col>Gain</th><th scope=col>Cover</th><th scope=col>Frequence</th></tr></thead>\n",
       "<tbody>\n",
       "\t<tr><th scope=row>1</th><td>ATT10            </td><td>0.107857670033841</td><td>0.101567393814725</td><td>0.105844323487016</td></tr>\n",
       "\t<tr><th scope=row>2</th><td>ATT4             </td><td>0.10614922454135 </td><td>0.099796011631628</td><td>0.101842688410318</td></tr>\n",
       "\t<tr><th scope=row>3</th><td>ATT2              </td><td>0.105385387374363 </td><td>0.0976379855805246</td><td>0.106261160474172 </td></tr>\n",
       "\t<tr><th scope=row>4</th><td>ATT8              </td><td>0.104060434684283 </td><td>0.0977903585541646</td><td>0.103187323852757 </td></tr>\n",
       "\t<tr><th scope=row>5</th><td>ATT7             </td><td>0.103871379863888</td><td>0.100077548390991</td><td>0.104082851057421</td></tr>\n",
       "\t<tr><th scope=row>6</th><td>ATT3              </td><td>0.0997303725460016</td><td>0.0911631200520812</td><td>0.0995783223252512</td></tr>\n",
       "</tbody>\n",
       "</table>\n"
      ],
      "text/latex": [
       "\\begin{tabular}{r|llll}\n",
       "  & Feature & Gain & Cover & Frequence\\\\\n",
       "\\hline\n",
       "\t1 & ATT10             & 0.107857670033841 & 0.101567393814725 & 0.105844323487016\\\\\n",
       "\t2 & ATT4              & 0.10614922454135  & 0.099796011631628 & 0.101842688410318\\\\\n",
       "\t3 & ATT2               & 0.105385387374363  & 0.0976379855805246 & 0.106261160474172 \\\\\n",
       "\t4 & ATT8               & 0.104060434684283  & 0.0977903585541646 & 0.103187323852757 \\\\\n",
       "\t5 & ATT7              & 0.103871379863888 & 0.100077548390991 & 0.104082851057421\\\\\n",
       "\t6 & ATT3               & 0.0997303725460016 & 0.0911631200520812 & 0.0995783223252512\\\\\n",
       "\\end{tabular}\n"
      ],
      "text/plain": [
       "  Feature    Gain   Cover Frequence\n",
       "1   ATT10 0.10786 0.10157   0.10584\n",
       "2    ATT4 0.10615 0.09980   0.10184\n",
       "3    ATT2 0.10539 0.09764   0.10626\n",
       "4    ATT8 0.10406 0.09779   0.10319\n",
       "5    ATT7 0.10387 0.10008   0.10408\n",
       "6    ATT3 0.09973 0.09116   0.09958"
      ]
     },
     "metadata": {},
     "output_type": "display_data"
    }
   ],
   "source": [
    "feature.importance <- xgb.importance(dimnames(xg_train)[[2]], model = bst)\n",
    "head(feature.importance)"
   ]
  },
  {
   "cell_type": "code",
   "execution_count": 629,
   "metadata": {
    "collapsed": false
   },
   "outputs": [
    {
     "data": {},
     "metadata": {},
     "output_type": "display_data"
    },
    {
     "data": {
      "image/png": "[encoded data removed]",
      "text/plain": [
       "plot without title"
      ]
     },
     "metadata": {},
     "output_type": "display_data"
    }
   ],
   "source": [
    "xgb.plot.importance(feature.importance)"
   ]
  },
  {
   "cell_type": "markdown",
   "metadata": {},
   "source": [
    "## Cross Validate further parameters for XGBoost"
   ]
  },
  {
   "cell_type": "code",
   "execution_count": null,
   "metadata": {
    "collapsed": true
   },
   "outputs": [],
   "source": []
  },
  {
   "cell_type": "code",
   "execution_count": null,
   "metadata": {
    "collapsed": true
   },
   "outputs": [],
   "source": []
  },
  {
   "cell_type": "code",
   "execution_count": null,
   "metadata": {
    "collapsed": true
   },
   "outputs": [],
   "source": []
  },
  {
   "cell_type": "code",
   "execution_count": null,
   "metadata": {
    "collapsed": true
   },
   "outputs": [],
   "source": []
  },
  {
   "cell_type": "markdown",
   "metadata": {},
   "source": [
    "# 4. Random Forest"
   ]
  },
  {
   "cell_type": "code",
   "execution_count": 630,
   "metadata": {
    "collapsed": true
   },
   "outputs": [],
   "source": [
    "rforest_train <- Udf.Utilities.UpSample(train)\n",
    "rforest <- randomForest(Result ~., data = rforest_train)"
   ]
  },
  {
   "cell_type": "code",
   "execution_count": 631,
   "metadata": {
    "collapsed": false
   },
   "outputs": [
    {
     "data": {
      "text/plain": [
       "\n",
       "Call:\n",
       " randomForest(formula = Result ~ ., data = rforest_train) \n",
       "               Type of random forest: classification\n",
       "                     Number of trees: 500\n",
       "No. of variables tried at each split: 3\n",
       "\n",
       "        OOB estimate of  error rate: 34.46%\n",
       "Confusion matrix:\n",
       "    0   1   2   3 class.error\n",
       "0 394 363 106  17    0.552273\n",
       "1 380 395  99   6    0.551136\n",
       "2 126 109 639   6    0.273864\n",
       "3   1   0   0 879    0.001136"
      ]
     },
     "metadata": {},
     "output_type": "display_data"
    }
   ],
   "source": [
    "rforest"
   ]
  },
  {
   "cell_type": "code",
   "execution_count": 632,
   "metadata": {
    "collapsed": true
   },
   "outputs": [],
   "source": [
    "pred <- predict(rforest, test)"
   ]
  },
  {
   "cell_type": "code",
   "execution_count": 633,
   "metadata": {
    "collapsed": false
   },
   "outputs": [
    {
     "data": {
      "text/plain": [
       "Confusion Matrix and Statistics\n",
       "\n",
       "          Reference\n",
       "Prediction   0   1   2   3\n",
       "         0  90 117  57  23\n",
       "         1  85  93  54  11\n",
       "         2  26  27  11   3\n",
       "         3   1   2   0   0\n",
       "\n",
       "Overall Statistics\n",
       "                                        \n",
       "               Accuracy : 0.323         \n",
       "                 95% CI : (0.286, 0.362)\n",
       "    No Information Rate : 0.398         \n",
       "    P-Value [Acc > NIR] : 1             \n",
       "                                        \n",
       "                  Kappa : -0.034        \n",
       " Mcnemar's Test P-Value : 0.000000000454\n",
       "\n",
       "Statistics by Class:\n",
       "\n",
       "                     Class: 0 Class: 1 Class: 2 Class: 3\n",
       "Sensitivity             0.446    0.389   0.0902   0.0000\n",
       "Specificity             0.505    0.584   0.8828   0.9947\n",
       "Pos Pred Value          0.314    0.383   0.1642   0.0000\n",
       "Neg Pred Value          0.642    0.591   0.7917   0.9380\n",
       "Prevalence              0.337    0.398   0.2033   0.0617\n",
       "Detection Rate          0.150    0.155   0.0183   0.0000\n",
       "Detection Prevalence    0.478    0.405   0.1117   0.0050\n",
       "Balanced Accuracy       0.475    0.487   0.4865   0.4973"
      ]
     },
     "metadata": {},
     "output_type": "display_data"
    }
   ],
   "source": [
    "confusionMatrix(pred, actual)"
   ]
  },
  {
   "cell_type": "code",
   "execution_count": 634,
   "metadata": {
    "collapsed": false
   },
   "outputs": [
    {
     "name": "stdout",
     "output_type": "stream",
     "text": [
      "      MeanDecreaseGini\n",
      "ATT1             249.0\n",
      "ATT2             278.2\n",
      "ATT3             260.8\n",
      "ATT4             261.4\n",
      "ATT5             243.8\n",
      "ATT6             256.2\n",
      "ATT7             266.6\n",
      "ATT8             268.8\n",
      "ATT9             270.0\n",
      "ATT10            276.6\n"
     ]
    }
   ],
   "source": [
    "print(importance(rforest,type = 2))"
   ]
  },
  {
   "cell_type": "code",
   "execution_count": 639,
   "metadata": {
    "collapsed": false
   },
   "outputs": [
    {
     "data": {
      "image/png": "[encoded data removed]",
      "text/plain": [
       "Plot with title \"rforest\""
      ]
     },
     "metadata": {},
     "output_type": "display_data"
    }
   ],
   "source": [
    "options(repr.plot.width = 6)\n",
    "options(repr.plot.height = 4)\n",
    "#varImpPlot(rforest)"
   ]
  },
  {
   "cell_type": "markdown",
   "metadata": {},
   "source": [
    "## Cross Validation for Random Forest feature selection "
   ]
  },
  {
   "cell_type": "code",
   "execution_count": 636,
   "metadata": {
    "collapsed": false
   },
   "outputs": [
    {
     "data": {
      "image/png": "[encoded data removed]",
      "text/plain": [
       "plot without title"
      ]
     },
     "metadata": {},
     "output_type": "display_data"
    }
   ],
   "source": [
    "x <- train\n",
    "x$Result <- NULL\n",
    "y <- train$Result\n",
    "\n",
    "rf.cv <- rfcv(x, y, cv.fold=10, step=0.9)\n",
    "\n",
    "with(rf.cv, plot(n.var, error.cv))"
   ]
  },
  {
   "cell_type": "markdown",
   "metadata": {},
   "source": [
    "Ok, this is telling us that an 8 feature model is performing the best. Let's try retrain the model without the lowest importance features and rerun the predictions"
   ]
  },
  {
   "cell_type": "code",
   "execution_count": 656,
   "metadata": {
    "collapsed": false
   },
   "outputs": [],
   "source": [
    "rforest <- randomForest(Result ~ . - ATT5 - ATT1, data = rforest_train)"
   ]
  },
  {
   "cell_type": "code",
   "execution_count": 657,
   "metadata": {
    "collapsed": false
   },
   "outputs": [
    {
     "data": {
      "text/plain": [
       "\n",
       "Call:\n",
       " randomForest(formula = Result ~ . - ATT5 - ATT1, data = rforest_train) \n",
       "               Type of random forest: classification\n",
       "                     Number of trees: 500\n",
       "No. of variables tried at each split: 2\n",
       "\n",
       "        OOB estimate of  error rate: 34.97%\n",
       "Confusion matrix:\n",
       "    0   1   2   3 class.error\n",
       "0 392 352 116  20    0.554545\n",
       "1 382 370 116  12    0.579545\n",
       "2 106 115 648  11    0.263636\n",
       "3   0   1   0 879    0.001136"
      ]
     },
     "metadata": {},
     "output_type": "display_data"
    }
   ],
   "source": [
    "rforest"
   ]
  },
  {
   "cell_type": "code",
   "execution_count": 658,
   "metadata": {
    "collapsed": false
   },
   "outputs": [
    {
     "name": "stdout",
     "output_type": "stream",
     "text": [
      "      MeanDecreaseGini\n",
      "ATT2             331.4\n",
      "ATT3             309.7\n",
      "ATT4             309.0\n",
      "ATT6             309.9\n",
      "ATT7             320.2\n",
      "ATT8             323.6\n",
      "ATT9             321.5\n",
      "ATT10            330.3\n"
     ]
    }
   ],
   "source": [
    "print(importance(rforest,type = 2))"
   ]
  },
  {
   "cell_type": "code",
   "execution_count": 659,
   "metadata": {
    "collapsed": true
   },
   "outputs": [],
   "source": [
    "pred <- predict(rforest, test)"
   ]
  },
  {
   "cell_type": "code",
   "execution_count": 660,
   "metadata": {
    "collapsed": false
   },
   "outputs": [
    {
     "data": {
      "text/plain": [
       "Confusion Matrix and Statistics\n",
       "\n",
       "          Reference\n",
       "Prediction   0   1   2   3\n",
       "         0  88 110  55  16\n",
       "         1  86  99  46  15\n",
       "         2  24  26  19   6\n",
       "         3   4   4   2   0\n",
       "\n",
       "Overall Statistics\n",
       "                                        \n",
       "               Accuracy : 0.343         \n",
       "                 95% CI : (0.305, 0.383)\n",
       "    No Information Rate : 0.398         \n",
       "    P-Value [Acc > NIR] : 0.998         \n",
       "                                        \n",
       "                  Kappa : 0.004         \n",
       " Mcnemar's Test P-Value : 0.00000249    \n",
       "\n",
       "Statistics by Class:\n",
       "\n",
       "                     Class: 0 Class: 1 Class: 2 Class: 3\n",
       "Sensitivity             0.436    0.414   0.1557   0.0000\n",
       "Specificity             0.545    0.593   0.8828   0.9822\n",
       "Pos Pred Value          0.327    0.402   0.2533   0.0000\n",
       "Neg Pred Value          0.656    0.605   0.8038   0.9373\n",
       "Prevalence              0.337    0.398   0.2033   0.0617\n",
       "Detection Rate          0.147    0.165   0.0317   0.0000\n",
       "Detection Prevalence    0.448    0.410   0.1250   0.0167\n",
       "Balanced Accuracy       0.490    0.504   0.5193   0.4911"
      ]
     },
     "metadata": {},
     "output_type": "display_data"
    }
   ],
   "source": [
    "confusionMatrix(pred, actual)"
   ]
  },
  {
   "cell_type": "code",
   "execution_count": null,
   "metadata": {
    "collapsed": true
   },
   "outputs": [],
   "source": []
  }
 ],
 "metadata": {
  "anaconda-cloud": {},
  "kernelspec": {
   "display_name": "R",
   "language": "R",
   "name": "ir"
  },
  "language_info": {
   "codemirror_mode": "r",
   "file_extension": ".r",
   "mimetype": "text/x-r-source",
   "name": "R",
   "pygments_lexer": "r",
   "version": "3.3.1"
  }
 },
 "nbformat": 4,
 "nbformat_minor": 0
}
