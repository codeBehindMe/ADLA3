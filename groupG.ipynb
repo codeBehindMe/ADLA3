{
 "cells": [
  {
   "cell_type": "markdown",
   "metadata": {},
   "source": [
    "# Assessment 3 - A new tool for detecting prostate cancers\n",
    "### Authors: Jeffrey Mills (28083938), \n",
    "\n",
    "**Required Libraries -** The following R libraries are referenced in this notebook\n",
    "* glmnet\n",
    "* ROCR\n",
    "---\n",
    "### Table of Contents\n",
    "\n",
    "[1. Exploratory Data Analysis](#1.-Exploratory-Data-Analysis)\n",
    "\n",
    "[2. EDA Report](#2.-EDA-Report)\n",
    "\n",
    "[3. XGBoost](#3.-XGBoost)\n",
    "\n",
    "[4. Random Forest](#4.-Random-Forest)\n",
    "\n",
    "[5. Deep Learning](#5.-Deep-Learning)\n",
    "\n",
    "[6. Turbo Boost](#6.-Turbo-Boost)\n",
    "\n",
    "[7. KNN Classification](#7.-KNN-Classification)\n",
    "\n",
    "[8. Support Vector Machine](#8.-Support-Vector-Machine)\n",
    "\n",
    "[9. Classification Trees](#9.-Classification-Trees)\n",
    "\n",
    "[10. Rule-based Models](#10.-Rule-based-Models)\n",
    "\n",
    "[11. Flexible Discriminant Analysis](#11.-Flexible-Discriminant-Analysis)\n",
    "\n",
    "[12. Deep Learning](#12.-Deep-Learning)\n",
    "\n",
    "\n",
    "Ensemble Predictors\n",
    "Summary Report\n",
    "\n",
    "[References](#References)\n",
    "\n",
    "---"
   ]
  },
  {
   "cell_type": "code",
   "execution_count": 1,
   "metadata": {
    "collapsed": true
   },
   "outputs": [],
   "source": [
    "# disable scientific notation and set to 4 digits\n",
    "options(scipen=999)\n",
    "options(digits=4)\n",
    "# set the default plot size\n",
    "options(repr.plot.width = 6)\n",
    "options(repr.plot.height = 4)\n",
    "seed=123"
   ]
  },
  {
   "cell_type": "code",
   "execution_count": 5,
   "metadata": {
    "collapsed": false
   },
   "outputs": [
    {
     "name": "stderr",
     "output_type": "stream",
     "text": [
      "Removing packages from 'C:/Users/jmills/AppData/Local/Continuum/Anaconda2/R/library'\n",
      "(as 'lib' is unspecified)\n"
     ]
    }
   ],
   "source": [
    "remove.packages(list.of.packages)"
   ]
  },
  {
   "cell_type": "code",
   "execution_count": 6,
   "metadata": {
    "collapsed": false
   },
   "outputs": [
    {
     "name": "stderr",
     "output_type": "stream",
     "text": [
      "Warning message:\n",
      "\"dependencies 'graph', 'Rgraphviz' are not available\"also installing the dependencies 'coda', 'numDeriv', 'pkgmaker', 'registry', 'rngtools', 'gridBase', 'arm', 'profileModel', 'lava', 'NMF', 'irlba', 'misc3d', 'multicool', 'rex', 'survival', 'latticeExtra', 'acepack', 'htmlTable', 'viridis', 'sp', 'TH.data', 'sandwich', 'gdtools', 'matrixcalc', 'mi', 'pbivnorm', 'quadprog', 'brglm', 'prodlim', 'combinat', 'modeltools', 'strucchange', 'coin', 'ISwR', 'corpcor', 'igraph', 'influenceR', 'visNetwork', 'lmtest', 'stringdist', 'brew', 'miniUI', 'ks', 'scales', 'covr', 'ggplot2movies', 'Hmisc', 'mapproj', 'maptools', 'multcomp', 'svglite', 'GPArotation', 'sem', 'lavaan', 'Rcsdp', 'biglm', 'lars', 'ModelMetrics', 'BradleyTerry2', 'fastICA', 'gam', 'ipred', 'klaR', 'ellipse', 'mlbench', 'MLmetrics', 'party', 'pls', 'proxy', 'RANN', 'spls', 'subselect', 'pamr', 'superpc', 'Cubist', 'DiagrammeR', 'vcd', 'expm', 'lintr', 'tree', 'Rcpp', 'itertools', 'RCurl', 'roxygen2', 'RUnit', 'mvtnorm', 'shinyjs', 'classInt', 'LaF', 'mgcv', 'microbenchmark', 'logcondens', 'doBy', 'reshape'\n",
      "\n"
     ]
    },
    {
     "name": "stdout",
     "output_type": "stream",
     "text": [
      "package 'coda' successfully unpacked and MD5 sums checked\n",
      "package 'numDeriv' successfully unpacked and MD5 sums checked\n",
      "package 'pkgmaker' successfully unpacked and MD5 sums checked\n",
      "package 'registry' successfully unpacked and MD5 sums checked\n",
      "package 'rngtools' successfully unpacked and MD5 sums checked\n",
      "package 'gridBase' successfully unpacked and MD5 sums checked\n",
      "package 'arm' successfully unpacked and MD5 sums checked\n",
      "package 'profileModel' successfully unpacked and MD5 sums checked\n",
      "package 'lava' successfully unpacked and MD5 sums checked\n",
      "package 'NMF' successfully unpacked and MD5 sums checked\n",
      "package 'irlba' successfully unpacked and MD5 sums checked\n",
      "package 'misc3d' successfully unpacked and MD5 sums checked\n",
      "package 'multicool' successfully unpacked and MD5 sums checked\n",
      "package 'rex' successfully unpacked and MD5 sums checked\n",
      "package 'survival' successfully unpacked and MD5 sums checked\n",
      "package 'latticeExtra' successfully unpacked and MD5 sums checked\n",
      "package 'acepack' successfully unpacked and MD5 sums checked\n",
      "package 'htmlTable' successfully unpacked and MD5 sums checked\n",
      "package 'viridis' successfully unpacked and MD5 sums checked\n",
      "package 'sp' successfully unpacked and MD5 sums checked\n",
      "package 'TH.data' successfully unpacked and MD5 sums checked\n",
      "package 'sandwich' successfully unpacked and MD5 sums checked\n",
      "package 'gdtools' successfully unpacked and MD5 sums checked\n",
      "package 'matrixcalc' successfully unpacked and MD5 sums checked\n",
      "package 'mi' successfully unpacked and MD5 sums checked\n",
      "package 'pbivnorm' successfully unpacked and MD5 sums checked\n",
      "package 'quadprog' successfully unpacked and MD5 sums checked\n",
      "package 'brglm' successfully unpacked and MD5 sums checked\n",
      "package 'prodlim' successfully unpacked and MD5 sums checked\n",
      "package 'combinat' successfully unpacked and MD5 sums checked\n",
      "package 'modeltools' successfully unpacked and MD5 sums checked\n",
      "package 'strucchange' successfully unpacked and MD5 sums checked\n",
      "package 'coin' successfully unpacked and MD5 sums checked\n",
      "package 'ISwR' successfully unpacked and MD5 sums checked\n",
      "package 'corpcor' successfully unpacked and MD5 sums checked\n",
      "package 'igraph' successfully unpacked and MD5 sums checked\n",
      "package 'influenceR' successfully unpacked and MD5 sums checked\n",
      "package 'visNetwork' successfully unpacked and MD5 sums checked\n",
      "package 'lmtest' successfully unpacked and MD5 sums checked\n",
      "package 'stringdist' successfully unpacked and MD5 sums checked\n",
      "package 'brew' successfully unpacked and MD5 sums checked\n",
      "package 'miniUI' successfully unpacked and MD5 sums checked\n",
      "package 'ks' successfully unpacked and MD5 sums checked\n",
      "package 'scales' successfully unpacked and MD5 sums checked\n",
      "package 'covr' successfully unpacked and MD5 sums checked\n",
      "package 'ggplot2movies' successfully unpacked and MD5 sums checked\n",
      "package 'Hmisc' successfully unpacked and MD5 sums checked\n",
      "package 'mapproj' successfully unpacked and MD5 sums checked\n",
      "package 'maptools' successfully unpacked and MD5 sums checked\n",
      "package 'multcomp' successfully unpacked and MD5 sums checked\n",
      "package 'svglite' successfully unpacked and MD5 sums checked\n",
      "package 'GPArotation' successfully unpacked and MD5 sums checked\n",
      "package 'sem' successfully unpacked and MD5 sums checked\n",
      "package 'lavaan' successfully unpacked and MD5 sums checked\n",
      "package 'Rcsdp' successfully unpacked and MD5 sums checked\n",
      "package 'biglm' successfully unpacked and MD5 sums checked\n",
      "package 'lars' successfully unpacked and MD5 sums checked\n",
      "package 'ModelMetrics' successfully unpacked and MD5 sums checked\n",
      "package 'BradleyTerry2' successfully unpacked and MD5 sums checked\n",
      "package 'fastICA' successfully unpacked and MD5 sums checked\n",
      "package 'gam' successfully unpacked and MD5 sums checked\n",
      "package 'ipred' successfully unpacked and MD5 sums checked\n",
      "package 'klaR' successfully unpacked and MD5 sums checked\n",
      "package 'ellipse' successfully unpacked and MD5 sums checked\n",
      "package 'mlbench' successfully unpacked and MD5 sums checked\n",
      "package 'MLmetrics' successfully unpacked and MD5 sums checked\n",
      "package 'party' successfully unpacked and MD5 sums checked\n",
      "package 'pls' successfully unpacked and MD5 sums checked\n"
     ]
    },
    {
     "name": "stderr",
     "output_type": "stream",
     "text": [
      "Warning message:\n",
      "\"unable to move temporary installation 'C:\\Users\\jmills\\AppData\\Local\\Continuum\\Anaconda2\\R\\library\\file1da44a7f3c1a\\pls' to 'C:\\Users\\jmills\\AppData\\Local\\Continuum\\Anaconda2\\R\\library\\pls'\""
     ]
    },
    {
     "name": "stdout",
     "output_type": "stream",
     "text": [
      "package 'proxy' successfully unpacked and MD5 sums checked\n",
      "package 'RANN' successfully unpacked and MD5 sums checked\n",
      "package 'spls' successfully unpacked and MD5 sums checked\n",
      "package 'subselect' successfully unpacked and MD5 sums checked\n",
      "package 'pamr' successfully unpacked and MD5 sums checked\n",
      "package 'superpc' successfully unpacked and MD5 sums checked\n",
      "package 'Cubist' successfully unpacked and MD5 sums checked\n",
      "package 'DiagrammeR' successfully unpacked and MD5 sums checked\n",
      "package 'vcd' successfully unpacked and MD5 sums checked\n",
      "package 'expm' successfully unpacked and MD5 sums checked\n",
      "package 'lintr' successfully unpacked and MD5 sums checked\n",
      "package 'tree' successfully unpacked and MD5 sums checked\n",
      "package 'Rcpp' successfully unpacked and MD5 sums checked\n",
      "package 'itertools' successfully unpacked and MD5 sums checked\n",
      "package 'RCurl' successfully unpacked and MD5 sums checked\n",
      "package 'roxygen2' successfully unpacked and MD5 sums checked\n",
      "package 'RUnit' successfully unpacked and MD5 sums checked\n",
      "package 'mvtnorm' successfully unpacked and MD5 sums checked\n",
      "package 'shinyjs' successfully unpacked and MD5 sums checked\n"
     ]
    },
    {
     "name": "stderr",
     "output_type": "stream",
     "text": [
      "Warning message:\n",
      "\"unable to move temporary installation 'C:\\Users\\jmills\\AppData\\Local\\Continuum\\Anaconda2\\R\\library\\file1da42e6668f2\\shinyjs' to 'C:\\Users\\jmills\\AppData\\Local\\Continuum\\Anaconda2\\R\\library\\shinyjs'\""
     ]
    },
    {
     "name": "stdout",
     "output_type": "stream",
     "text": [
      "package 'classInt' successfully unpacked and MD5 sums checked\n",
      "package 'LaF' successfully unpacked and MD5 sums checked\n",
      "package 'mgcv' successfully unpacked and MD5 sums checked\n",
      "package 'microbenchmark' successfully unpacked and MD5 sums checked\n",
      "package 'logcondens' successfully unpacked and MD5 sums checked\n",
      "package 'doBy' successfully unpacked and MD5 sums checked\n",
      "package 'reshape' successfully unpacked and MD5 sums checked\n",
      "package 'ggplot2' successfully unpacked and MD5 sums checked\n",
      "package 'psych' successfully unpacked and MD5 sums checked\n",
      "package 'ROCR' successfully unpacked and MD5 sums checked\n",
      "package 'leaps' successfully unpacked and MD5 sums checked\n",
      "package 'glmnet' successfully unpacked and MD5 sums checked\n",
      "package 'caret' successfully unpacked and MD5 sums checked\n",
      "package 'xgboost' successfully unpacked and MD5 sums checked\n",
      "package 'Matrix' successfully unpacked and MD5 sums checked\n",
      "package 'Ckmeans.1d.dp' successfully unpacked and MD5 sums checked\n",
      "package 'randomForest' successfully unpacked and MD5 sums checked\n",
      "package 'caretEnsemble' successfully unpacked and MD5 sums checked\n",
      "package 'MASS' successfully unpacked and MD5 sums checked\n",
      "package 'DMwR' successfully unpacked and MD5 sums checked\n",
      "package 'ROSE' successfully unpacked and MD5 sums checked\n",
      "package 'plyr' successfully unpacked and MD5 sums checked\n",
      "package 'h2o' successfully unpacked and MD5 sums checked\n",
      "package 'gbm' successfully unpacked and MD5 sums checked\n",
      "package 'colorspace' successfully unpacked and MD5 sums checked\n",
      "package 'tabplot' successfully unpacked and MD5 sums checked\n",
      "package 'ffbase' successfully unpacked and MD5 sums checked\n",
      "package 'moments' successfully unpacked and MD5 sums checked\n",
      "package 'C50' successfully unpacked and MD5 sums checked\n",
      "package 'mda' successfully unpacked and MD5 sums checked\n",
      "package 'earth' successfully unpacked and MD5 sums checked\n",
      "package 'kernlab' successfully unpacked and MD5 sums checked\n",
      "package 'doParallel' successfully unpacked and MD5 sums checked\n",
      "package 'pROC' successfully unpacked and MD5 sums checked\n",
      "package 'sqldf' successfully unpacked and MD5 sums checked\n",
      "package 'RSQLite' successfully unpacked and MD5 sums checked\n",
      "package 'gsubfn' successfully unpacked and MD5 sums checked\n",
      "package 'proto' successfully unpacked and MD5 sums checked\n",
      "\n",
      "The downloaded binary packages are in\n",
      "\tC:\\Users\\jmills\\AppData\\Local\\Temp\\Rtmp2j84Ls\\downloaded_packages\n"
     ]
    }
   ],
   "source": [
    "# only install if not already installed\n",
    "list.of.packages <- c(\"ggplot2\", \"psych\", \"ROCR\", \"leaps\", \"glmnet\", \"caret\", \"xgboost\", \"Matrix\", \"Ckmeans.1d.dp\", \n",
    "                     \"randomForest\", \"caretEnsemble\", \"MASS\", \"DMwR\", \"ROSE\", \"plyr\", \"h2o\", \"gbm\", \"colorspace\", \"tabplot\",\n",
    "                     \"ffbase\", \"moments\", \"C50\", \"mda\", \"earth\", \"kernlab\", \"doParallel\", \"pROC\", \"sqldf\", \"RSQLite\",\n",
    "                     \"gsubfn\", \"proto\")\n",
    "new.packages <- list.of.packages[!(list.of.packages %in% installed.packages()[,\"Package\"])]\n",
    "if(length(new.packages)) install.packages(new.packages, repos=\"http://cran.uk.r-project.org\", dependencies = TRUE)"
   ]
  },
  {
   "cell_type": "code",
   "execution_count": 8,
   "metadata": {
    "collapsed": false
   },
   "outputs": [
    {
     "name": "stderr",
     "output_type": "stream",
     "text": [
      "Warning message:\n",
      "\"package 'RSQLite' was built under R version 3.3.2\""
     ]
    }
   ],
   "source": [
    "library(RSQLite)"
   ]
  },
  {
   "cell_type": "code",
   "execution_count": 9,
   "metadata": {
    "collapsed": false
   },
   "outputs": [
    {
     "name": "stderr",
     "output_type": "stream",
     "text": [
      "Warning message:\n",
      "\"package 'ggplot2' was built under R version 3.3.2\"Warning message:\n",
      "\"package 'psych' was built under R version 3.3.2\"\n",
      "Attaching package: 'psych'\n",
      "\n",
      "The following objects are masked from 'package:ggplot2':\n",
      "\n",
      "    %+%, alpha\n",
      "\n",
      "Warning message:\n",
      "\"package 'ROCR' was built under R version 3.3.2\"Loading required package: gplots\n",
      "Warning message:\n",
      "\"package 'gplots' was built under R version 3.3.2\"\n",
      "Attaching package: 'gplots'\n",
      "\n",
      "The following object is masked from 'package:stats':\n",
      "\n",
      "    lowess\n",
      "\n",
      "Warning message:\n",
      "\"package 'caret' was built under R version 3.3.2\"Loading required package: lattice\n",
      "Warning message:\n",
      "\"package 'caretEnsemble' was built under R version 3.3.2\"\n",
      "Attaching package: 'caretEnsemble'\n",
      "\n",
      "The following object is masked from 'package:ggplot2':\n",
      "\n",
      "    autoplot\n",
      "\n",
      "Warning message:\n",
      "\"package 'MASS' was built under R version 3.3.2\"Warning message:\n",
      "\"package 'xgboost' was built under R version 3.3.2\"Warning message:\n",
      "\"package 'Matrix' was built under R version 3.3.2\"Warning message:\n",
      "\"package 'Ckmeans.1d.dp' was built under R version 3.3.2\"Warning message:\n",
      "\"package 'randomForest' was built under R version 3.3.2\"randomForest 4.6-12\n",
      "Type rfNews() to see new features/changes/bug fixes.\n",
      "\n",
      "Attaching package: 'randomForest'\n",
      "\n",
      "The following object is masked from 'package:psych':\n",
      "\n",
      "    outlier\n",
      "\n",
      "The following object is masked from 'package:ggplot2':\n",
      "\n",
      "    margin\n",
      "\n",
      "Warning message:\n",
      "\"package 'DMwR' was built under R version 3.3.2\"Loading required package: grid\n",
      "Warning message:\n",
      "\"package 'ROSE' was built under R version 3.3.2\"Loaded ROSE 0.0-3\n",
      "\n",
      "Warning message:\n",
      "\"package 'plyr' was built under R version 3.3.2\"\n",
      "Attaching package: 'plyr'\n",
      "\n",
      "The following object is masked from 'package:DMwR':\n",
      "\n",
      "    join\n",
      "\n",
      "Warning message:\n",
      "\"package 'gbm' was built under R version 3.3.2\"Loading required package: survival\n",
      "Warning message:\n",
      "\"package 'survival' was built under R version 3.3.2\"\n",
      "Attaching package: 'survival'\n",
      "\n",
      "The following object is masked from 'package:caret':\n",
      "\n",
      "    cluster\n",
      "\n",
      "Loading required package: splines\n",
      "Loading required package: parallel\n",
      "Loaded gbm 2.1.1\n",
      "Warning message:\n",
      "\"package 'colorspace' was built under R version 3.3.2\"Warning message:\n",
      "\"package 'tabplot' was built under R version 3.3.2\"Loading required package: bit\n",
      "Warning message:\n",
      "\"package 'bit' was built under R version 3.3.2\"Attaching package bit\n",
      "package:bit (c) 2008-2012 Jens Oehlschlaegel (GPL-2)\n",
      "creators: bit bitwhich\n",
      "coercion: as.logical as.integer as.bit as.bitwhich which\n",
      "operator: ! & | xor != ==\n",
      "querying: print length any all min max range sum summary\n",
      "bit access: length<- [ [<- [[ [[<-\n",
      "for more help type ?bit\n",
      "\n",
      "Attaching package: 'bit'\n",
      "\n",
      "The following object is masked from 'package:psych':\n",
      "\n",
      "    keysort\n",
      "\n",
      "The following object is masked from 'package:base':\n",
      "\n",
      "    xor\n",
      "\n",
      "Loading required package: ff\n",
      "Warning message:\n",
      "\"package 'ff' was built under R version 3.3.2\"Attaching package ff\n",
      "- getOption(\"fftempdir\")==\"C:/Users/jmills/AppData/Local/Temp/Rtmp2j84Ls\"\n",
      "\n",
      "- getOption(\"ffextension\")==\"ff\"\n",
      "\n",
      "- getOption(\"ffdrop\")==TRUE\n",
      "\n",
      "- getOption(\"fffinonexit\")==TRUE\n",
      "\n",
      "- getOption(\"ffpagesize\")==65536\n",
      "\n",
      "- getOption(\"ffcaching\")==\"mmnoflush\"  -- consider \"ffeachflush\" if your system stalls on large writes\n",
      "\n",
      "- getOption(\"ffbatchbytes\")==84651540.48 -- consider a different value for tuning your system\n",
      "\n",
      "- getOption(\"ffmaxbytes\")==4232577024 -- consider a different value for tuning your system\n",
      "\n",
      "\n",
      "Attaching package: 'ff'\n",
      "\n",
      "The following objects are masked from 'package:bit':\n",
      "\n",
      "    clone, clone.default, clone.list\n",
      "\n",
      "The following objects are masked from 'package:utils':\n",
      "\n",
      "    write.csv, write.csv2\n",
      "\n",
      "The following objects are masked from 'package:base':\n",
      "\n",
      "    is.factor, is.ordered\n",
      "\n",
      "Loading required package: ffbase\n",
      "Warning message:\n",
      "\"package 'ffbase' was built under R version 3.3.2\"\n",
      "Attaching package: 'ffbase'\n",
      "\n",
      "The following objects are masked from 'package:ff':\n",
      "\n",
      "    [.ff, [.ffdf, [<-.ff, [<-.ffdf\n",
      "\n",
      "The following objects are masked from 'package:base':\n",
      "\n",
      "    %in%, table\n",
      "\n",
      "Standard deviations are plot by default. See argument numMode of plot.tabplot.\n",
      "Warning message:\n",
      "\"package 'moments' was built under R version 3.3.2\"Warning message:\n",
      "\"package 'C50' was built under R version 3.3.2\"Warning message:\n",
      "\"package 'mda' was built under R version 3.3.2\"Loading required package: class\n",
      "Loaded mda 0.4-9\n",
      "\n",
      "Warning message:\n",
      "\"package 'earth' was built under R version 3.3.2\"Loading required package: plotmo\n",
      "Warning message:\n",
      "\"package 'plotmo' was built under R version 3.3.2\"Loading required package: plotrix\n",
      "Warning message:\n",
      "\"package 'plotrix' was built under R version 3.3.2\"\n",
      "Attaching package: 'plotrix'\n",
      "\n",
      "The following object is masked from 'package:gplots':\n",
      "\n",
      "    plotCI\n",
      "\n",
      "The following object is masked from 'package:psych':\n",
      "\n",
      "    rescale\n",
      "\n",
      "Loading required package: TeachingDemos\n",
      "Warning message:\n",
      "\"package 'TeachingDemos' was built under R version 3.3.2\"Warning message:\n",
      "\"package 'kernlab' was built under R version 3.3.2\"\n",
      "Attaching package: 'kernlab'\n",
      "\n",
      "The following object is masked from 'package:psych':\n",
      "\n",
      "    alpha\n",
      "\n",
      "The following object is masked from 'package:ggplot2':\n",
      "\n",
      "    alpha\n",
      "\n",
      "Warning message:\n",
      "\"package 'doParallel' was built under R version 3.3.2\"Loading required package: foreach\n",
      "Loading required package: iterators\n",
      "Warning message:\n",
      "\"package 'pROC' was built under R version 3.3.2\"Type 'citation(\"pROC\")' for a citation.\n",
      "\n",
      "Attaching package: 'pROC'\n",
      "\n",
      "The following object is masked from 'package:colorspace':\n",
      "\n",
      "    coords\n",
      "\n",
      "The following objects are masked from 'package:stats':\n",
      "\n",
      "    cov, smooth, var\n",
      "\n",
      "Warning message:\n",
      "\"package 'sqldf' was built under R version 3.3.2\"Loading required package: gsubfn\n",
      "Warning message:\n",
      "\"package 'gsubfn' was built under R version 3.3.2\"Loading required package: proto\n",
      "Warning message:\n",
      "\"package 'proto' was built under R version 3.3.2\"Could not load tcltk.  Will use slower R code instead.\n",
      "Loading required package: h2o\n",
      "Warning message:\n",
      "\"package 'h2o' was built under R version 3.3.2\"Loading required package: statmod\n",
      "Warning message:\n",
      "\"package 'statmod' was built under R version 3.3.2\"\n",
      "----------------------------------------------------------------------\n",
      "\n",
      "Your next step is to start H2O:\n",
      "    > h2o.init()\n",
      "\n",
      "For H2O package documentation, ask for help:\n",
      "    > ??h2o\n",
      "\n",
      "After starting H2O, you can use the Web UI at http://localhost:54321\n",
      "For more information visit http://docs.h2o.ai\n",
      "\n",
      "----------------------------------------------------------------------\n",
      "\n",
      "\n",
      "Attaching package: 'h2o'\n",
      "\n",
      "The following object is masked from 'package:pROC':\n",
      "\n",
      "    var\n",
      "\n",
      "The following object is masked from 'package:ffbase':\n",
      "\n",
      "    %in%\n",
      "\n",
      "The following object is masked from 'package:ff':\n",
      "\n",
      "    is.factor\n",
      "\n",
      "The following objects are masked from 'package:stats':\n",
      "\n",
      "    cor, sd, var\n",
      "\n",
      "The following objects are masked from 'package:base':\n",
      "\n",
      "    %*%, %in%, &&, ||, apply, as.factor, as.numeric, colnames,\n",
      "    colnames<-, ifelse, is.character, is.factor, is.numeric, log,\n",
      "    log10, log1p, log2, round, signif, trunc\n",
      "\n"
     ]
    }
   ],
   "source": [
    "# import ggplot for some of the more fancier plots if needed\n",
    "library(\"ggplot2\")\n",
    "# import more comprehensive summary stats package\n",
    "library(psych)\n",
    "# import ROCR for easier model performance checking\n",
    "library(\"ROCR\")\n",
    "\n",
    "library(\"caret\")\n",
    "library(\"caretEnsemble\")\n",
    "library(\"MASS\")\n",
    "\n",
    "library(\"xgboost\")\n",
    "library(\"Matrix\")\n",
    "library(\"Ckmeans.1d.dp\")\n",
    "library(\"randomForest\")\n",
    "library(\"DMwR\")\n",
    "library(\"ROSE\")\n",
    "library(\"plyr\")\n",
    "library(\"gbm\")\n",
    "library(\"colorspace\")\n",
    "library(\"tabplot\")\n",
    "library(\"moments\")\n",
    "library(\"C50\")\n",
    "library(\"mda\")\n",
    "library(\"earth\")\n",
    "library(\"kernlab\")\n",
    "library(\"doParallel\")\n",
    "library(\"pROC\")\n",
    "library(\"RSQLite\")\n",
    "library(\"sqldf\")\n",
    "\n",
    "require(\"ggplot2\")\n",
    "require(\"sqldf\")\n",
    "require(\"caret\")\n",
    "require(\"RSQLite\")\n",
    "require(\"gsubfn\")\n",
    "require(\"proto\")\n",
    "\n",
    "require(\"h2o\")\n"
   ]
  },
  {
   "cell_type": "code",
   "execution_count": 10,
   "metadata": {
    "collapsed": false
   },
   "outputs": [],
   "source": [
    "# import local utilities.R file\n",
    "source(\"./utilities.r\")"
   ]
  },
  {
   "cell_type": "markdown",
   "metadata": {},
   "source": [
    "## 1. Exploratory Data Analysis"
   ]
  },
  {
   "cell_type": "code",
   "execution_count": 11,
   "metadata": {
    "collapsed": true
   },
   "outputs": [],
   "source": [
    "prostate <- read.csv(\"./prostate.csv\")"
   ]
  },
  {
   "cell_type": "code",
   "execution_count": null,
   "metadata": {
    "collapsed": false
   },
   "outputs": [],
   "source": []
  },
  {
   "cell_type": "code",
   "execution_count": 12,
   "metadata": {
    "collapsed": false
   },
   "outputs": [
    {
     "data": {
      "text/html": [
       "<table>\n",
       "<thead><tr><th></th><th scope=col>ID</th><th scope=col>ATT1</th><th scope=col>ATT2</th><th scope=col>ATT3</th><th scope=col>ATT4</th><th scope=col>ATT5</th><th scope=col>ATT6</th><th scope=col>ATT7</th><th scope=col>ATT8</th><th scope=col>ATT9</th><th scope=col>ATT10</th><th scope=col>Result</th></tr></thead>\n",
       "<tbody>\n",
       "\t<tr><th scope=row>1</th><td>1</td><td>2</td><td>4</td><td>2</td><td>6</td><td>5</td><td>7</td><td>1</td><td>2</td><td>6</td><td>8</td><td>0</td></tr>\n",
       "\t<tr><th scope=row>2</th><td> 2</td><td> 5</td><td> 8</td><td>10</td><td> 2</td><td> 2</td><td> 1</td><td> 1</td><td> 5</td><td> 6</td><td> 1</td><td> 1</td></tr>\n",
       "\t<tr><th scope=row>3</th><td>3</td><td>3</td><td>7</td><td>7</td><td>9</td><td>2</td><td>5</td><td>2</td><td>7</td><td>1</td><td>1</td><td>1</td></tr>\n",
       "\t<tr><th scope=row>4</th><td>4</td><td>5</td><td>4</td><td>5</td><td>9</td><td>4</td><td>8</td><td>4</td><td>6</td><td>7</td><td>2</td><td>0</td></tr>\n",
       "\t<tr><th scope=row>5</th><td>5</td><td>5</td><td>5</td><td>4</td><td>2</td><td>8</td><td>5</td><td>3</td><td>1</td><td>7</td><td>1</td><td>2</td></tr>\n",
       "\t<tr><th scope=row>6</th><td> 6</td><td> 4</td><td> 7</td><td> 5</td><td> 4</td><td> 2</td><td> 4</td><td>10</td><td> 3</td><td> 9</td><td> 5</td><td> 0</td></tr>\n",
       "</tbody>\n",
       "</table>\n"
      ],
      "text/latex": [
       "\\begin{tabular}{r|llllllllllll}\n",
       "  & ID & ATT1 & ATT2 & ATT3 & ATT4 & ATT5 & ATT6 & ATT7 & ATT8 & ATT9 & ATT10 & Result\\\\\n",
       "\\hline\n",
       "\t1 & 1 & 2 & 4 & 2 & 6 & 5 & 7 & 1 & 2 & 6 & 8 & 0\\\\\n",
       "\t2 &  2 &  5 &  8 & 10 &  2 &  2 &  1 &  1 &  5 &  6 &  1 &  1\\\\\n",
       "\t3 & 3 & 3 & 7 & 7 & 9 & 2 & 5 & 2 & 7 & 1 & 1 & 1\\\\\n",
       "\t4 & 4 & 5 & 4 & 5 & 9 & 4 & 8 & 4 & 6 & 7 & 2 & 0\\\\\n",
       "\t5 & 5 & 5 & 5 & 4 & 2 & 8 & 5 & 3 & 1 & 7 & 1 & 2\\\\\n",
       "\t6 &  6 &  4 &  7 &  5 &  4 &  2 &  4 & 10 &  3 &  9 &  5 &  0\\\\\n",
       "\\end{tabular}\n"
      ],
      "text/plain": [
       "  ID ATT1 ATT2 ATT3 ATT4 ATT5 ATT6 ATT7 ATT8 ATT9 ATT10 Result\n",
       "1  1    2    4    2    6    5    7    1    2    6     8      0\n",
       "2  2    5    8   10    2    2    1    1    5    6     1      1\n",
       "3  3    3    7    7    9    2    5    2    7    1     1      1\n",
       "4  4    5    4    5    9    4    8    4    6    7     2      0\n",
       "5  5    5    5    4    2    8    5    3    1    7     1      2\n",
       "6  6    4    7    5    4    2    4   10    3    9     5      0"
      ]
     },
     "metadata": {},
     "output_type": "display_data"
    }
   ],
   "source": [
    "# Check the head of the dataframe\n",
    "head(prostate)"
   ]
  },
  {
   "cell_type": "code",
   "execution_count": 13,
   "metadata": {
    "collapsed": false
   },
   "outputs": [
    {
     "name": "stdout",
     "output_type": "stream",
     "text": [
      "'data.frame':\t3000 obs. of  12 variables:\n",
      " $ ID    : int  1 2 3 4 5 6 7 8 9 10 ...\n",
      " $ ATT1  : int  2 5 3 5 5 4 2 10 4 2 ...\n",
      " $ ATT2  : int  4 8 7 4 5 7 1 5 9 1 ...\n",
      " $ ATT3  : int  2 10 7 5 4 5 5 4 4 2 ...\n",
      " $ ATT4  : int  6 2 9 9 2 4 7 8 2 10 ...\n",
      " $ ATT5  : int  5 2 2 4 8 2 10 4 6 10 ...\n",
      " $ ATT6  : int  7 1 5 8 5 4 3 7 6 2 ...\n",
      " $ ATT7  : int  1 1 2 4 3 10 7 3 8 2 ...\n",
      " $ ATT8  : int  2 5 7 6 1 3 1 6 8 5 ...\n",
      " $ ATT9  : int  6 6 1 7 7 9 10 7 4 1 ...\n",
      " $ ATT10 : int  8 1 1 2 1 5 7 3 3 3 ...\n",
      " $ Result: int  0 1 1 0 2 0 0 3 0 3 ...\n"
     ]
    }
   ],
   "source": [
    "# Check structure of the datatypes\n",
    "str(prostate)"
   ]
  },
  {
   "cell_type": "markdown",
   "metadata": {},
   "source": [
    "We can drop the ID column as it adds no benefit to our modelling"
   ]
  },
  {
   "cell_type": "code",
   "execution_count": 14,
   "metadata": {
    "collapsed": false
   },
   "outputs": [],
   "source": [
    "prostate$ID <- NULL"
   ]
  },
  {
   "cell_type": "markdown",
   "metadata": {},
   "source": [
    "Given that we know the **Result** variable is our target variable which represents one of 4 stages of the cancer (0 for curable, and 1 for tumour stage, 2 for node stage and 3 for incurable cancers) - this should be represented as a factor. "
   ]
  },
  {
   "cell_type": "code",
   "execution_count": 15,
   "metadata": {
    "collapsed": false
   },
   "outputs": [],
   "source": [
    "prostate$Result <- as.factor(prostate$Result) "
   ]
  },
  {
   "cell_type": "code",
   "execution_count": 16,
   "metadata": {
    "collapsed": false
   },
   "outputs": [
    {
     "data": {
      "text/html": [
       "3000"
      ],
      "text/latex": [
       "3000"
      ],
      "text/markdown": [
       "3000"
      ],
      "text/plain": [
       "[1] 3000"
      ]
     },
     "metadata": {},
     "output_type": "display_data"
    }
   ],
   "source": [
    "# Let's check for incomplete observations\n",
    "nrow(prostate[complete.cases(prostate),])"
   ]
  },
  {
   "cell_type": "code",
   "execution_count": 17,
   "metadata": {
    "collapsed": false
   },
   "outputs": [
    {
     "name": "stdout",
     "output_type": "stream",
     "text": [
      "\n",
      "   0    1    2    3 \n",
      "1082 1080  642  196 \n"
     ]
    }
   ],
   "source": [
    "# Check the proportions of each factor within the Result variable in our train set\n",
    "print(table(prostate$Result))"
   ]
  },
  {
   "cell_type": "markdown",
   "metadata": {},
   "source": [
    "We have class imbalance. This will need to be addressed when training our models, potentially with some sampling techniques. "
   ]
  },
  {
   "cell_type": "code",
   "execution_count": 18,
   "metadata": {
    "collapsed": false
   },
   "outputs": [
    {
     "data": {
      "text/html": [
       "<table>\n",
       "<thead><tr><th></th><th scope=col>vars</th><th scope=col>n</th><th scope=col>mean</th><th scope=col>sd</th><th scope=col>median</th><th scope=col>trimmed</th><th scope=col>mad</th><th scope=col>min</th><th scope=col>max</th><th scope=col>range</th><th scope=col>skew</th><th scope=col>kurtosis</th><th scope=col>se</th></tr></thead>\n",
       "<tbody>\n",
       "\t<tr><th scope=row>ATT1</th><td>   1.000</td><td>3000.000</td><td>   5.815</td><td>   2.661</td><td>   6.000</td><td>   5.769</td><td>   2.965</td><td>   2.000</td><td>  10.000</td><td>   8.000</td><td>   0.097</td><td>  -1.177</td><td>   0.049</td></tr>\n",
       "\t<tr><th scope=row>ATT2</th><td>   2.000</td><td>3000.000</td><td>   4.501</td><td>   2.748</td><td>   4.000</td><td>   4.315</td><td>   2.965</td><td>   1.000</td><td>  10.000</td><td>   9.000</td><td>   0.402</td><td>  -0.980</td><td>   0.050</td></tr>\n",
       "\t<tr><th scope=row>ATT3</th><td>   3.000</td><td>3000.000</td><td>   5.830</td><td>   2.655</td><td>   6.000</td><td>   5.788</td><td>   2.965</td><td>   2.000</td><td>  10.000</td><td>   8.000</td><td>   0.099</td><td>  -1.173</td><td>   0.048</td></tr>\n",
       "\t<tr><th scope=row>ATT4</th><td>   4.000</td><td>3000.000</td><td>   5.829</td><td>   2.634</td><td>   6.000</td><td>   5.786</td><td>   2.965</td><td>   2.000</td><td>  10.000</td><td>   8.000</td><td>   0.083</td><td>  -1.165</td><td>   0.048</td></tr>\n",
       "\t<tr><th scope=row>ATT5</th><td>   5.000</td><td>3000.000</td><td>   5.755</td><td>   2.622</td><td>   6.000</td><td>   5.694</td><td>   2.965</td><td>   2.000</td><td>  10.000</td><td>   8.000</td><td>   0.129</td><td>  -1.129</td><td>   0.048</td></tr>\n",
       "\t<tr><th scope=row>ATT6</th><td>   6.000</td><td>3000.000</td><td>   4.431</td><td>   2.694</td><td>   4.000</td><td>   4.240</td><td>   2.965</td><td>   1.000</td><td>  10.000</td><td>   9.000</td><td>   0.446</td><td>  -0.930</td><td>   0.049</td></tr>\n",
       "\t<tr><th scope=row>ATT7</th><td>   7.000</td><td>3000.000</td><td>   4.479</td><td>   2.741</td><td>   4.000</td><td>   4.297</td><td>   2.965</td><td>   1.000</td><td>  10.000</td><td>   9.000</td><td>   0.393</td><td>  -1.035</td><td>   0.050</td></tr>\n",
       "\t<tr><th scope=row>ATT8</th><td>   8.000</td><td>3000.000</td><td>   4.478</td><td>   2.720</td><td>   4.000</td><td>   4.292</td><td>   2.965</td><td>   1.000</td><td>  10.000</td><td>   9.000</td><td>   0.398</td><td>  -0.962</td><td>   0.050</td></tr>\n",
       "\t<tr><th scope=row>ATT9</th><td>   9.000</td><td>3000.000</td><td>   4.446</td><td>   2.678</td><td>   4.000</td><td>   4.254</td><td>   2.965</td><td>   1.000</td><td>  10.000</td><td>   9.000</td><td>   0.428</td><td>  -0.901</td><td>   0.049</td></tr>\n",
       "\t<tr><th scope=row>ATT10</th><td>  10.000</td><td>3000.000</td><td>   4.459</td><td>   2.698</td><td>   4.000</td><td>   4.271</td><td>   2.965</td><td>   1.000</td><td>  10.000</td><td>   9.000</td><td>   0.409</td><td>  -0.940</td><td>   0.049</td></tr>\n",
       "\t<tr><th scope=row>Result*</th><td>  11.000</td><td>3000.000</td><td>   1.984</td><td>   0.914</td><td>   2.000</td><td>   1.898</td><td>   1.483</td><td>   1.000</td><td>   4.000</td><td>   3.000</td><td>   0.544</td><td>  -0.646</td><td>   0.017</td></tr>\n",
       "</tbody>\n",
       "</table>\n"
      ],
      "text/latex": [
       "\\begin{tabular}{r|lllllllllllll}\n",
       "  & vars & n & mean & sd & median & trimmed & mad & min & max & range & skew & kurtosis & se\\\\\n",
       "\\hline\n",
       "\tATT1 &    1.000 & 3000.000 &    5.815 &    2.661 &    6.000 &    5.769 &    2.965 &    2.000 &   10.000 &    8.000 &    0.097 &   -1.177 &    0.049\\\\\n",
       "\tATT2 &    2.000 & 3000.000 &    4.501 &    2.748 &    4.000 &    4.315 &    2.965 &    1.000 &   10.000 &    9.000 &    0.402 &   -0.980 &    0.050\\\\\n",
       "\tATT3 &    3.000 & 3000.000 &    5.830 &    2.655 &    6.000 &    5.788 &    2.965 &    2.000 &   10.000 &    8.000 &    0.099 &   -1.173 &    0.048\\\\\n",
       "\tATT4 &    4.000 & 3000.000 &    5.829 &    2.634 &    6.000 &    5.786 &    2.965 &    2.000 &   10.000 &    8.000 &    0.083 &   -1.165 &    0.048\\\\\n",
       "\tATT5 &    5.000 & 3000.000 &    5.755 &    2.622 &    6.000 &    5.694 &    2.965 &    2.000 &   10.000 &    8.000 &    0.129 &   -1.129 &    0.048\\\\\n",
       "\tATT6 &    6.000 & 3000.000 &    4.431 &    2.694 &    4.000 &    4.240 &    2.965 &    1.000 &   10.000 &    9.000 &    0.446 &   -0.930 &    0.049\\\\\n",
       "\tATT7 &    7.000 & 3000.000 &    4.479 &    2.741 &    4.000 &    4.297 &    2.965 &    1.000 &   10.000 &    9.000 &    0.393 &   -1.035 &    0.050\\\\\n",
       "\tATT8 &    8.000 & 3000.000 &    4.478 &    2.720 &    4.000 &    4.292 &    2.965 &    1.000 &   10.000 &    9.000 &    0.398 &   -0.962 &    0.050\\\\\n",
       "\tATT9 &    9.000 & 3000.000 &    4.446 &    2.678 &    4.000 &    4.254 &    2.965 &    1.000 &   10.000 &    9.000 &    0.428 &   -0.901 &    0.049\\\\\n",
       "\tATT10 &   10.000 & 3000.000 &    4.459 &    2.698 &    4.000 &    4.271 &    2.965 &    1.000 &   10.000 &    9.000 &    0.409 &   -0.940 &    0.049\\\\\n",
       "\tResult* &   11.000 & 3000.000 &    1.984 &    0.914 &    2.000 &    1.898 &    1.483 &    1.000 &    4.000 &    3.000 &    0.544 &   -0.646 &    0.017\\\\\n",
       "\\end{tabular}\n"
      ],
      "text/plain": [
       "        vars    n mean   sd median trimmed  mad min max range skew kurtosis\n",
       "ATT1       1 3000 5.82 2.66      6    5.77 2.96   2  10     8 0.10    -1.18\n",
       "ATT2       2 3000 4.50 2.75      4    4.32 2.96   1  10     9 0.40    -0.98\n",
       "ATT3       3 3000 5.83 2.65      6    5.79 2.96   2  10     8 0.10    -1.17\n",
       "ATT4       4 3000 5.83 2.63      6    5.79 2.96   2  10     8 0.08    -1.17\n",
       "ATT5       5 3000 5.75 2.62      6    5.69 2.96   2  10     8 0.13    -1.13\n",
       "ATT6       6 3000 4.43 2.69      4    4.24 2.96   1  10     9 0.45    -0.93\n",
       "ATT7       7 3000 4.48 2.74      4    4.30 2.96   1  10     9 0.39    -1.03\n",
       "ATT8       8 3000 4.48 2.72      4    4.29 2.96   1  10     9 0.40    -0.96\n",
       "ATT9       9 3000 4.45 2.68      4    4.25 2.96   1  10     9 0.43    -0.90\n",
       "ATT10     10 3000 4.46 2.70      4    4.27 2.96   1  10     9 0.41    -0.94\n",
       "Result*   11 3000 1.98 0.91      2    1.90 1.48   1   4     3 0.54    -0.65\n",
       "          se\n",
       "ATT1    0.05\n",
       "ATT2    0.05\n",
       "ATT3    0.05\n",
       "ATT4    0.05\n",
       "ATT5    0.05\n",
       "ATT6    0.05\n",
       "ATT7    0.05\n",
       "ATT8    0.05\n",
       "ATT9    0.05\n",
       "ATT10   0.05\n",
       "Result* 0.02"
      ]
     },
     "metadata": {},
     "output_type": "display_data"
    }
   ],
   "source": [
    "round(describe(prostate), 3)"
   ]
  },
  {
   "cell_type": "code",
   "execution_count": 19,
   "metadata": {
    "collapsed": false
   },
   "outputs": [
    {
     "data": {
      "image/png": "[encoded data removed]",
      "text/plain": [
       "plot without title"
      ]
     },
     "metadata": {},
     "output_type": "display_data"
    },
    {
     "data": {
      "image/png": "[encoded data removed]",
      "text/plain": [
       "plot without title"
      ]
     },
     "metadata": {},
     "output_type": "display_data"
    },
    {
     "data": {
      "image/png": "[encoded data removed]",
      "text/plain": [
       "plot without title"
      ]
     },
     "metadata": {},
     "output_type": "display_data"
    },
    {
     "data": {
      "image/png": "[encoded data removed]",
      "text/plain": [
       "plot without title"
      ]
     },
     "metadata": {},
     "output_type": "display_data"
    },
    {
     "data": {
      "image/png": "[encoded data removed]",
      "text/plain": [
       "plot without title"
      ]
     },
     "metadata": {},
     "output_type": "display_data"
    },
    {
     "data": {
      "image/png": "[encoded data removed]",
      "text/plain": [
       "plot without title"
      ]
     },
     "metadata": {},
     "output_type": "display_data"
    },
    {
     "data": {
      "image/png": "[encoded data removed]",
      "text/plain": [
       "plot without title"
      ]
     },
     "metadata": {},
     "output_type": "display_data"
    },
    {
     "data": {
      "image/png": "[encoded data removed]",
      "text/plain": [
       "plot without title"
      ]
     },
     "metadata": {},
     "output_type": "display_data"
    },
    {
     "data": {
      "image/png": "[encoded data removed]",
      "text/plain": [
       "plot without title"
      ]
     },
     "metadata": {},
     "output_type": "display_data"
    },
    {
     "data": {
      "image/png": "[encoded data removed]",
      "text/plain": [
       "plot without title"
      ]
     },
     "metadata": {},
     "output_type": "display_data"
    }
   ],
   "source": [
    "oldpar <- par() #this records all the default settings\n",
    "par(mfrow=c(1,2)) # this makes to plots in one row\n",
    "par(mar=c(2.1,4.1,2.1,1.1)) #BLTR\n",
    "options(repr.plot.width=8, repr.plot.height=2.5)\n",
    "for (i in names(prostate)) {\n",
    "    if (i != \"Result\") {\n",
    "        hist(prostate[[i]],xlab=NULL,main=NULL)\n",
    "        boxplot(prostate[[i]])\n",
    "        mtext(i,side=3,line=-2, outer=TRUE)\n",
    "    }\n",
    "}\n",
    "suppressWarnings( par(oldpar)) # Restore settings"
   ]
  },
  {
   "cell_type": "code",
   "execution_count": 20,
   "metadata": {
    "collapsed": false,
    "scrolled": false
   },
   "outputs": [
    {
     "data": {},
     "metadata": {},
     "output_type": "display_data"
    },
    {
     "data": {},
     "metadata": {},
     "output_type": "display_data"
    },
    {
     "data": {
      "image/png": "[encoded data removed]",
      "text/plain": [
       "plot without title"
      ]
     },
     "metadata": {},
     "output_type": "display_data"
    },
    {
     "data": {},
     "metadata": {},
     "output_type": "display_data"
    },
    {
     "data": {
      "image/png": "[encoded data removed]",
      "text/plain": [
       "plot without title"
      ]
     },
     "metadata": {},
     "output_type": "display_data"
    },
    {
     "data": {},
     "metadata": {},
     "output_type": "display_data"
    },
    {
     "data": {
      "image/png": "[encoded data removed]",
      "text/plain": [
       "plot without title"
      ]
     },
     "metadata": {},
     "output_type": "display_data"
    },
    {
     "data": {},
     "metadata": {},
     "output_type": "display_data"
    },
    {
     "data": {
      "image/png": "[encoded data removed]",
      "text/plain": [
       "plot without title"
      ]
     },
     "metadata": {},
     "output_type": "display_data"
    },
    {
     "data": {},
     "metadata": {},
     "output_type": "display_data"
    },
    {
     "data": {
      "image/png": "[encoded data removed]",
      "text/plain": [
       "plot without title"
      ]
     },
     "metadata": {},
     "output_type": "display_data"
    },
    {
     "data": {},
     "metadata": {},
     "output_type": "display_data"
    },
    {
     "data": {
      "image/png": "[encoded data removed]",
      "text/plain": [
       "plot without title"
      ]
     },
     "metadata": {},
     "output_type": "display_data"
    },
    {
     "data": {},
     "metadata": {},
     "output_type": "display_data"
    },
    {
     "data": {
      "image/png": "[encoded data removed]",
      "text/plain": [
       "plot without title"
      ]
     },
     "metadata": {},
     "output_type": "display_data"
    },
    {
     "data": {},
     "metadata": {},
     "output_type": "display_data"
    },
    {
     "data": {
      "image/png": "[encoded data removed]",
      "text/plain": [
       "plot without title"
      ]
     },
     "metadata": {},
     "output_type": "display_data"
    },
    {
     "data": {},
     "metadata": {},
     "output_type": "display_data"
    },
    {
     "data": {
      "image/png": "[encoded data removed]",
      "text/plain": [
       "plot without title"
      ]
     },
     "metadata": {},
     "output_type": "display_data"
    },
    {
     "data": {
      "image/png": "[encoded data removed]",
      "text/plain": [
       "plot without title"
      ]
     },
     "metadata": {},
     "output_type": "display_data"
    }
   ],
   "source": [
    "options(repr.plot.width = 3)\n",
    "options(repr.plot.height = 2)\n",
    "par(mfrow = c(2,2));\n",
    "ggplot(prostate, aes(x = Result, y = ATT1)) + geom_boxplot()\n",
    "ggplot(prostate, aes(x = Result, y = ATT2)) + geom_boxplot()\n",
    "ggplot(prostate, aes(x = Result, y = ATT3)) + geom_boxplot()\n",
    "ggplot(prostate, aes(x = Result, y = ATT4)) + geom_boxplot()\n",
    "ggplot(prostate, aes(x = Result, y = ATT5)) + geom_boxplot()\n",
    "ggplot(prostate, aes(x = Result, y = ATT6)) + geom_boxplot()\n",
    "ggplot(prostate, aes(x = Result, y = ATT7)) + geom_boxplot()\n",
    "ggplot(prostate, aes(x = Result, y = ATT8)) + geom_boxplot()\n",
    "ggplot(prostate, aes(x = Result, y = ATT9)) + geom_boxplot()\n",
    "ggplot(prostate, aes(x = Result, y = ATT10)) + geom_boxplot()\n",
    "options(repr.plot.width = 6)\n",
    "options(repr.plot.height = 4)"
   ]
  },
  {
   "cell_type": "code",
   "execution_count": 21,
   "metadata": {
    "collapsed": false
   },
   "outputs": [
    {
     "data": {},
     "metadata": {},
     "output_type": "display_data"
    },
    {
     "data": {
      "image/png": "[encoded data removed]",
      "text/plain": [
       "plot without title"
      ]
     },
     "metadata": {},
     "output_type": "display_data"
    }
   ],
   "source": [
    "ggplot(aes(x=ATT1, y=ATT2, color=Result),  #by setting color=color, ggplot automatically draw in different colors\n",
    "       data=prostate) + geom_point(stat='summary', fun.y=median)"
   ]
  },
  {
   "cell_type": "code",
   "execution_count": 22,
   "metadata": {
    "collapsed": false
   },
   "outputs": [
    {
     "data": {},
     "metadata": {},
     "output_type": "display_data"
    },
    {
     "data": {
      "image/png": "[encoded data removed]",
      "text/plain": [
       "plot without title"
      ]
     },
     "metadata": {},
     "output_type": "display_data"
    }
   ],
   "source": [
    "qplot(ATT1, ATT2, colour=Result, data=prostate)"
   ]
  },
  {
   "cell_type": "code",
   "execution_count": 23,
   "metadata": {
    "collapsed": false
   },
   "outputs": [
    {
     "data": {},
     "metadata": {},
     "output_type": "display_data"
    },
    {
     "data": {},
     "metadata": {},
     "output_type": "display_data"
    },
    {
     "data": {
      "image/png": "[encoded data removed]",
      "text/plain": [
       "plot without title"
      ]
     },
     "metadata": {},
     "output_type": "display_data"
    },
    {
     "data": {},
     "metadata": {},
     "output_type": "display_data"
    },
    {
     "data": {
      "image/png": "[encoded data removed]",
      "text/plain": [
       "plot without title"
      ]
     },
     "metadata": {},
     "output_type": "display_data"
    },
    {
     "data": {
      "image/png": "[encoded data removed]",
      "text/plain": [
       "plot without title"
      ]
     },
     "metadata": {},
     "output_type": "display_data"
    }
   ],
   "source": [
    "Udf.Utilities.Jitter(prostate,\"ATT1\",\"ATT2\",\"Result\")\n",
    "Udf.Utilities.Jitter(prostate, \"ATT2\", \"ATT3\", \"Result\")\n",
    "Udf.Utilities.Jitter(prostate, \"ATT3\", \"ATT4\", \"Result\")"
   ]
  },
  {
   "cell_type": "code",
   "execution_count": 24,
   "metadata": {
    "collapsed": false
   },
   "outputs": [
    {
     "data": {
      "image/png": "[encoded data removed]",
      "text/plain": [
       "plot without title"
      ]
     },
     "metadata": {},
     "output_type": "display_data"
    }
   ],
   "source": [
    "labels <- prostate[,11]\n",
    "result_col <- rev(rainbow_hcl(4))[as.numeric(labels)]\n",
    "\n",
    "# Plot a SPLOM:\n",
    "# just show the first 50 records and the first 5 columns so we can visualise what is going on\n",
    "pairs(prostate[1:50,1:5], col = result_col,\n",
    "      lower.panel = NULL,\n",
    "       cex.labels=2, pch=19, cex = 1.2)\n",
    "\n",
    "# Add a legend\n",
    "par(xpd = TRUE)\n",
    "legend(x = 0.05, y = 0.4, cex = 2,\n",
    "   legend = as.character(levels(labels)),\n",
    "    fill = unique(result_col))\n",
    "par(xpd = NA)"
   ]
  },
  {
   "cell_type": "code",
   "execution_count": 25,
   "metadata": {
    "collapsed": false
   },
   "outputs": [
    {
     "data": {
      "image/png": "[encoded data removed]",
      "text/plain": [
       "plot without title"
      ]
     },
     "metadata": {},
     "output_type": "display_data"
    }
   ],
   "source": [
    "# now do the last 5 columns\n",
    "pairs(prostate[1:50,5:9], col = result_col,\n",
    "      lower.panel = NULL,\n",
    "       cex.labels=2, pch=19, cex = 1.2)\n",
    "\n",
    "# Add a legend\n",
    "par(xpd = TRUE)\n",
    "legend(x = 0.05, y = 0.4, cex = 2,\n",
    "   legend = as.character(levels(labels)),\n",
    "    fill = unique(result_col))\n",
    "par(xpd = NA)"
   ]
  },
  {
   "cell_type": "markdown",
   "metadata": {},
   "source": [
    "While Scatterplot matrices are not so good for looking at discrete variables - it still gives us an idea of how difficult this classification exercise will be"
   ]
  },
  {
   "cell_type": "code",
   "execution_count": 26,
   "metadata": {
    "collapsed": false
   },
   "outputs": [
    {
     "ename": "ERROR",
     "evalue": "Error in x - min(x, na.rm = TRUE): non-numeric argument to binary operator\n",
     "output_type": "error",
     "traceback": [
      "Error in x - min(x, na.rm = TRUE): non-numeric argument to binary operator\nTraceback:\n",
      "1. MASS::parcoord(prostate, col = result_col, var.label = TRUE, \n .     lwd = 2)",
      "2. apply(x, 2L, function(x) (x - min(x, na.rm = TRUE))/(max(x, na.rm = TRUE) - \n .     min(x, na.rm = TRUE)))",
      "3. FUN(newX[, i], ...)"
     ]
    }
   ],
   "source": [
    "par(las = 1, mar = c(4.5, 3, 3, 2) + 0.1, cex = .8)\n",
    "MASS::parcoord(prostate, col = result_col, var.label = TRUE, lwd = 2)\n",
    "\n",
    "# Add Title\n",
    "title(\"Parallel coordinates plot of the Result data\")\n",
    "# Add a legend\n",
    "par(xpd = TRUE)\n",
    "legend(x = 1.75, y = -.25, cex = 1,\n",
    "   legend = as.character(levels(labels)),\n",
    "    fill = unique(result_col), horiz = TRUE)"
   ]
  },
  {
   "cell_type": "code",
   "execution_count": null,
   "metadata": {
    "collapsed": false
   },
   "outputs": [],
   "source": [
    "tableplot(prostate) # gives you the unsorted image below\n",
    "tableplot(prostate, sortCol=\"Result\") # gives you a sorted image according to class"
   ]
  },
  {
   "cell_type": "code",
   "execution_count": null,
   "metadata": {
    "collapsed": false
   },
   "outputs": [],
   "source": [
    "# Look for some near zero variance predictors from the original dataset.\n",
    "nzv <- caret::nearZeroVar(prostate[,- c(1,ncol(prostate))],saveMetrics = TRUE)\n",
    "nzv"
   ]
  },
  {
   "cell_type": "markdown",
   "metadata": {},
   "source": [
    "We can see that we don't really have any zero variance predictors. Also all the features seem to have only about 30% unique data points out of the entire data set. The most frequent to the second most frequent value also seems to be spread across the feature space from around 1.2 to 1.1. <br />\n",
    "This shows that the data is quite spread out. Unlikely that the features themselves would do anything.<br />"
   ]
  },
  {
   "cell_type": "markdown",
   "metadata": {},
   "source": [
    "---\n",
    "# 2. EDA Report"
   ]
  },
  {
   "cell_type": "markdown",
   "metadata": {},
   "source": [
    "- No univariate outliers were identified using Tukey's test or the Hampel identifier.\n",
    "- The bar graph of response variable 'Result' versus response class shows the distribution is unbalanced.\n",
    "- All histograms have a general trend of decreasing frequency (count) per increase in the independent variable.\n",
    "- 'ATT1' and 'ATT3' show the same boxplot across classes. This was also picked up in summary statistics. This suggests that these two predictors maybe non-informative.\n",
    "- The correlation data shows there is little relationship between predictors as all off diagonal cells have strengths less than absolute 0.1."
   ]
  },
  {
   "cell_type": "markdown",
   "metadata": {
    "collapsed": true
   },
   "source": [
    "### Train/Test split\n",
    "Before we do anything, dedicate 20% of our data to an unseen Test set."
   ]
  },
  {
   "cell_type": "code",
   "execution_count": 66,
   "metadata": {
    "collapsed": true
   },
   "outputs": [],
   "source": [
    "# 20% of the sample size\n",
    "smp_size <- floor(0.8 * nrow(prostate))\n",
    "\n",
    "set.seed(seed)\n",
    "train_ind <- sample(seq_len(nrow(prostate)), size = smp_size)\n",
    "\n",
    "train <- prostate[train_ind, ]\n",
    "test <- prostate[-train_ind, ]"
   ]
  },
  {
   "cell_type": "code",
   "execution_count": 67,
   "metadata": {
    "collapsed": true
   },
   "outputs": [],
   "source": [
    "actual <-  as.numeric(test$Result)-1"
   ]
  },
  {
   "cell_type": "code",
   "execution_count": 68,
   "metadata": {
    "collapsed": false
   },
   "outputs": [],
   "source": [
    "actual_factor <- actual\n",
    "actual_factor[actual_factor==0] <- \"curable\"\n",
    "actual_factor[actual_factor==1] <- \"tumour\"\n",
    "actual_factor[actual_factor==2] <- \"node\"\n",
    "actual_factor[actual_factor==3] <- \"incurable\""
   ]
  },
  {
   "cell_type": "markdown",
   "metadata": {},
   "source": [
    "---\n",
    "# 3. XGBoost"
   ]
  },
  {
   "cell_type": "code",
   "execution_count": 30,
   "metadata": {
    "collapsed": false
   },
   "outputs": [],
   "source": [
    "# create an upsample of training to obtain an even split of classes\n",
    "# note that other sampling methods (down, SMOTE) were tried with less success\n",
    "xg_train <- Udf.Utilities.UpSample(train)\n",
    "\n",
    "xg_test <- test"
   ]
  },
  {
   "cell_type": "code",
   "execution_count": 31,
   "metadata": {
    "collapsed": false
   },
   "outputs": [
    {
     "data": {
      "text/plain": [
       "\n",
       "  0   1   2   3 \n",
       "876 876 876 876 "
      ]
     },
     "metadata": {},
     "output_type": "display_data"
    }
   ],
   "source": [
    "# Check the proportions of each factor within the Result variable\n",
    "w <- table(xg_train$Result)\n",
    "w"
   ]
  },
  {
   "cell_type": "code",
   "execution_count": 32,
   "metadata": {
    "collapsed": false
   },
   "outputs": [],
   "source": [
    "# set the target for XGBoost to a numeric range from 0 - 3\n",
    "xg_train.y <- as.numeric(xg_train$Result)-1\n",
    "xg_test.y <- as.numeric(test$Result)-1"
   ]
  },
  {
   "cell_type": "code",
   "execution_count": 33,
   "metadata": {
    "collapsed": false
   },
   "outputs": [],
   "source": [
    "# store the actuals for future comparison\n",
    "#actual <- xg_test.y"
   ]
  },
  {
   "cell_type": "code",
   "execution_count": 34,
   "metadata": {
    "collapsed": false
   },
   "outputs": [],
   "source": [
    "# convert to matrix for boosting method\n",
    "xg_train <- sparse.model.matrix(Result ~ ., data = xg_train)\n",
    "dtrain <- xgb.DMatrix(data=xg_train, label=xg_train.y)"
   ]
  },
  {
   "cell_type": "code",
   "execution_count": 35,
   "metadata": {
    "collapsed": true
   },
   "outputs": [],
   "source": [
    "xg_test <- sparse.model.matrix(Result ~ ., data = xg_test)\n",
    "dtest <- xgb.DMatrix(data=xg_test, label=xg_test.y)"
   ]
  },
  {
   "cell_type": "code",
   "execution_count": 36,
   "metadata": {
    "collapsed": true
   },
   "outputs": [],
   "source": [
    "watchlist <- list(xg_train=dtrain)"
   ]
  },
  {
   "cell_type": "code",
   "execution_count": 37,
   "metadata": {
    "collapsed": true
   },
   "outputs": [],
   "source": [
    "# set default params to be used if we don't have the compute power to perform this gridsearch\n",
    "nrounds <- 500\n",
    "max_depth <- 6\n",
    "eta <- 0.1\n",
    "colsample_bytree <- 0.9\n",
    "subsample <- 0.9\n",
    "gamma <- 0\n",
    "min_child_weight <- 1"
   ]
  },
  {
   "cell_type": "code",
   "execution_count": 38,
   "metadata": {
    "collapsed": true
   },
   "outputs": [],
   "source": [
    "# cross validate to select optimal value for number of rounds\n",
    "set.seed(seed)\n",
    "n_rounds.cv <- 1000\n",
    "params <- list(booster = \"gbtree\", objective = \"multi:softmax\",\n",
    "               num_class = 4, eval_metric = 'merror',\n",
    "               max_depth = max_depth, eta = eta,\n",
    "               colsample_bytree = colsample_bytree, subsample = subsample, min_child_weight = min_child_weight)"
   ]
  },
  {
   "cell_type": "code",
   "execution_count": 39,
   "metadata": {
    "collapsed": false,
    "scrolled": true
   },
   "outputs": [
    {
     "name": "stdout",
     "output_type": "stream",
     "text": [
      "[0]\ttrain-merror:0.508879+0.012468\ttest-merror:0.624680+0.024307\n",
      "[20]\ttrain-merror:0.176560+0.008523\ttest-merror:0.468025+0.029982\n",
      "[40]\ttrain-merror:0.100583+0.002541\ttest-merror:0.418943+0.031163\n",
      "[60]\ttrain-merror:0.061802+0.002610\ttest-merror:0.406106+0.027163\n",
      "[80]\ttrain-merror:0.036307+0.002331\ttest-merror:0.396708+0.024365\n",
      "[100]\ttrain-merror:0.021911+0.001830\ttest-merror:0.384998+0.024580\n",
      "[120]\ttrain-merror:0.013667+0.001957\ttest-merror:0.381288+0.025276\n",
      "[140]\ttrain-merror:0.007325+0.001342\ttest-merror:0.372162+0.028310\n",
      "[160]\ttrain-merror:0.004027+0.000748\ttest-merror:0.369870+0.031357\n",
      "[180]\ttrain-merror:0.002030+0.000477\ttest-merror:0.369019+0.029462\n",
      "[200]\ttrain-merror:0.001237+0.000484\ttest-merror:0.369307+0.028689\n",
      "[220]\ttrain-merror:0.000634+0.000473\ttest-merror:0.369020+0.025303\n",
      "[240]\ttrain-merror:0.000190+0.000401\ttest-merror:0.368169+0.024413\n",
      "[260]\ttrain-merror:0.000000+0.000000\ttest-merror:0.367882+0.024541\n",
      "[280]\ttrain-merror:0.000000+0.000000\ttest-merror:0.366731+0.021838\n",
      "[300]\ttrain-merror:0.000000+0.000000\ttest-merror:0.363602+0.023643\n",
      "[320]\ttrain-merror:0.000000+0.000000\ttest-merror:0.364737+0.018533\n",
      "[340]\ttrain-merror:0.000000+0.000000\ttest-merror:0.365025+0.023518\n",
      "[360]\ttrain-merror:0.000000+0.000000\ttest-merror:0.364730+0.023701\n",
      "[380]\ttrain-merror:0.000000+0.000000\ttest-merror:0.367016+0.022210\n",
      "[400]\ttrain-merror:0.000000+0.000000\ttest-merror:0.366732+0.020324\n",
      "[420]\ttrain-merror:0.000000+0.000000\ttest-merror:0.365306+0.020592\n",
      "[440]\ttrain-merror:0.000000+0.000000\ttest-merror:0.367872+0.022163\n",
      "[460]\ttrain-merror:0.000000+0.000000\ttest-merror:0.368727+0.021374\n",
      "[480]\ttrain-merror:0.000000+0.000000\ttest-merror:0.368439+0.019813\n",
      "[500]\ttrain-merror:0.000000+0.000000\ttest-merror:0.367581+0.018269\n",
      "[520]\ttrain-merror:0.000000+0.000000\ttest-merror:0.366150+0.019505\n",
      "[540]\ttrain-merror:0.000000+0.000000\ttest-merror:0.365860+0.021117\n",
      "[560]\ttrain-merror:0.000000+0.000000\ttest-merror:0.366440+0.021813\n",
      "[580]\ttrain-merror:0.000000+0.000000\ttest-merror:0.365866+0.021527\n",
      "[600]\ttrain-merror:0.000000+0.000000\ttest-merror:0.368722+0.022213\n",
      "[620]\ttrain-merror:0.000000+0.000000\ttest-merror:0.367865+0.022991\n",
      "[640]\ttrain-merror:0.000000+0.000000\ttest-merror:0.368433+0.022248\n",
      "[660]\ttrain-merror:0.000000+0.000000\ttest-merror:0.367299+0.022740\n",
      "[680]\ttrain-merror:0.000000+0.000000\ttest-merror:0.367300+0.021083\n",
      "[700]\ttrain-merror:0.000000+0.000000\ttest-merror:0.367869+0.022896\n",
      "[720]\ttrain-merror:0.000000+0.000000\ttest-merror:0.367868+0.022958\n",
      "[740]\ttrain-merror:0.000000+0.000000\ttest-merror:0.367579+0.023567\n",
      "[760]\ttrain-merror:0.000000+0.000000\ttest-merror:0.367010+0.024032\n",
      "[780]\ttrain-merror:0.000000+0.000000\ttest-merror:0.366437+0.023319\n",
      "[800]\ttrain-merror:0.000000+0.000000\ttest-merror:0.367011+0.022989\n",
      "[820]\ttrain-merror:0.000000+0.000000\ttest-merror:0.365584+0.023880\n",
      "[840]\ttrain-merror:0.000000+0.000000\ttest-merror:0.365867+0.023539\n",
      "[860]\ttrain-merror:0.000000+0.000000\ttest-merror:0.365864+0.024055\n",
      "[880]\ttrain-merror:0.000000+0.000000\ttest-merror:0.367006+0.022245\n",
      "[900]\ttrain-merror:0.000000+0.000000\ttest-merror:0.365011+0.022049\n",
      "[920]\ttrain-merror:0.000000+0.000000\ttest-merror:0.365294+0.022678\n",
      "[940]\ttrain-merror:0.000000+0.000000\ttest-merror:0.364727+0.023833\n",
      "[960]\ttrain-merror:0.000000+0.000000\ttest-merror:0.365293+0.022301\n",
      "[980]\ttrain-merror:0.000000+0.000000\ttest-merror:0.363582+0.023557\n"
     ]
    }
   ],
   "source": [
    "bst.cv <- xgb.cv(params, dtrain, n_rounds.cv, nfold = 10, metrics = {'merror'},\n",
    "                 print.every.n = 20, prediction = TRUE)"
   ]
  },
  {
   "cell_type": "code",
   "execution_count": 40,
   "metadata": {
    "collapsed": false
   },
   "outputs": [
    {
     "data": {
      "text/html": [
       "306"
      ],
      "text/latex": [
       "306"
      ],
      "text/markdown": [
       "306"
      ],
      "text/plain": [
       "[1] 306"
      ]
     },
     "metadata": {},
     "output_type": "display_data"
    }
   ],
   "source": [
    "n_rounds.train <- which.min(bst.cv$dt[, test.merror.mean])\n",
    "n_rounds.train"
   ]
  },
  {
   "cell_type": "code",
   "execution_count": 41,
   "metadata": {
    "collapsed": false
   },
   "outputs": [
    {
     "name": "stdout",
     "output_type": "stream",
     "text": [
      "[0]\txg_train-merror:0.501712\n",
      "[1]\txg_train-merror:0.408961\n",
      "[2]\txg_train-merror:0.368721\n",
      "[3]\txg_train-merror:0.327911\n",
      "[4]\txg_train-merror:0.316210\n",
      "[5]\txg_train-merror:0.291381\n",
      "[6]\txg_train-merror:0.277397\n",
      "[7]\txg_train-merror:0.275114\n",
      "[8]\txg_train-merror:0.261986\n",
      "[9]\txg_train-merror:0.261701\n",
      "[10]\txg_train-merror:0.247717\n",
      "[11]\txg_train-merror:0.235160\n",
      "[12]\txg_train-merror:0.221747\n",
      "[13]\txg_train-merror:0.216039\n",
      "[14]\txg_train-merror:0.216039\n",
      "[15]\txg_train-merror:0.209475\n",
      "[16]\txg_train-merror:0.202340\n",
      "[17]\txg_train-merror:0.196347\n",
      "[18]\txg_train-merror:0.190354\n",
      "[19]\txg_train-merror:0.185502\n",
      "[20]\txg_train-merror:0.182078\n",
      "[21]\txg_train-merror:0.177511\n",
      "[22]\txg_train-merror:0.171518\n",
      "[23]\txg_train-merror:0.164954\n",
      "[24]\txg_train-merror:0.162671\n",
      "[25]\txg_train-merror:0.152683\n",
      "[26]\txg_train-merror:0.145263\n",
      "[27]\txg_train-merror:0.143836\n",
      "[28]\txg_train-merror:0.137557\n",
      "[29]\txg_train-merror:0.133562\n",
      "[30]\txg_train-merror:0.132135\n",
      "[31]\txg_train-merror:0.129281\n",
      "[32]\txg_train-merror:0.121861\n",
      "[33]\txg_train-merror:0.119863\n",
      "[34]\txg_train-merror:0.115011\n",
      "[35]\txg_train-merror:0.113014\n",
      "[36]\txg_train-merror:0.113299\n",
      "[37]\txg_train-merror:0.110445\n",
      "[38]\txg_train-merror:0.111301\n",
      "[39]\txg_train-merror:0.111016\n",
      "[40]\txg_train-merror:0.103025\n",
      "[41]\txg_train-merror:0.104167\n",
      "[42]\txg_train-merror:0.100742\n",
      "[43]\txg_train-merror:0.099315\n",
      "[44]\txg_train-merror:0.093893\n",
      "[45]\txg_train-merror:0.093322\n",
      "[46]\txg_train-merror:0.089897\n",
      "[47]\txg_train-merror:0.086187\n",
      "[48]\txg_train-merror:0.084189\n",
      "[49]\txg_train-merror:0.083048\n",
      "[50]\txg_train-merror:0.081336\n",
      "[51]\txg_train-merror:0.077340\n",
      "[52]\txg_train-merror:0.076769\n",
      "[53]\txg_train-merror:0.078196\n",
      "[54]\txg_train-merror:0.075913\n",
      "[55]\txg_train-merror:0.075913\n",
      "[56]\txg_train-merror:0.071632\n",
      "[57]\txg_train-merror:0.072203\n",
      "[58]\txg_train-merror:0.071347\n",
      "[59]\txg_train-merror:0.067922\n",
      "[60]\txg_train-merror:0.066210\n",
      "[61]\txg_train-merror:0.067066\n",
      "[62]\txg_train-merror:0.065068\n",
      "[63]\txg_train-merror:0.062500\n",
      "[64]\txg_train-merror:0.060502\n",
      "[65]\txg_train-merror:0.061929\n",
      "[66]\txg_train-merror:0.059361\n",
      "[67]\txg_train-merror:0.058219\n",
      "[68]\txg_train-merror:0.058790\n",
      "[69]\txg_train-merror:0.058219\n",
      "[70]\txg_train-merror:0.054795\n",
      "[71]\txg_train-merror:0.053082\n",
      "[72]\txg_train-merror:0.052511\n",
      "[73]\txg_train-merror:0.052797\n",
      "[74]\txg_train-merror:0.049658\n",
      "[75]\txg_train-merror:0.048516\n",
      "[76]\txg_train-merror:0.049372\n",
      "[77]\txg_train-merror:0.047945\n",
      "[78]\txg_train-merror:0.046233\n",
      "[79]\txg_train-merror:0.046804\n",
      "[80]\txg_train-merror:0.046804\n",
      "[81]\txg_train-merror:0.045377\n",
      "[82]\txg_train-merror:0.043379\n",
      "[83]\txg_train-merror:0.041667\n",
      "[84]\txg_train-merror:0.039098\n",
      "[85]\txg_train-merror:0.039384\n",
      "[86]\txg_train-merror:0.039669\n",
      "[87]\txg_train-merror:0.038527\n",
      "[88]\txg_train-merror:0.037957\n",
      "[89]\txg_train-merror:0.036815\n",
      "[90]\txg_train-merror:0.036244\n",
      "[91]\txg_train-merror:0.035388\n",
      "[92]\txg_train-merror:0.034532\n",
      "[93]\txg_train-merror:0.033676\n",
      "[94]\txg_train-merror:0.033105\n",
      "[95]\txg_train-merror:0.031393\n",
      "[96]\txg_train-merror:0.031963\n",
      "[97]\txg_train-merror:0.031393\n",
      "[98]\txg_train-merror:0.030251\n",
      "[99]\txg_train-merror:0.029395\n",
      "[100]\txg_train-merror:0.028539\n",
      "[101]\txg_train-merror:0.029110\n",
      "[102]\txg_train-merror:0.027968\n",
      "[103]\txg_train-merror:0.027397\n",
      "[104]\txg_train-merror:0.026826\n",
      "[105]\txg_train-merror:0.026541\n",
      "[106]\txg_train-merror:0.025685\n",
      "[107]\txg_train-merror:0.025400\n",
      "[108]\txg_train-merror:0.025400\n",
      "[109]\txg_train-merror:0.024543\n",
      "[110]\txg_train-merror:0.024543\n",
      "[111]\txg_train-merror:0.023687\n",
      "[112]\txg_train-merror:0.022831\n",
      "[113]\txg_train-merror:0.022260\n",
      "[114]\txg_train-merror:0.021119\n",
      "[115]\txg_train-merror:0.021119\n",
      "[116]\txg_train-merror:0.020548\n",
      "[117]\txg_train-merror:0.019406\n",
      "[118]\txg_train-merror:0.018550\n",
      "[119]\txg_train-merror:0.017979\n",
      "[120]\txg_train-merror:0.017979\n",
      "[121]\txg_train-merror:0.016838\n",
      "[122]\txg_train-merror:0.015411\n",
      "[123]\txg_train-merror:0.016267\n",
      "[124]\txg_train-merror:0.015126\n",
      "[125]\txg_train-merror:0.014269\n",
      "[126]\txg_train-merror:0.013699\n",
      "[127]\txg_train-merror:0.012842\n",
      "[128]\txg_train-merror:0.012557\n",
      "[129]\txg_train-merror:0.011701\n",
      "[130]\txg_train-merror:0.011701\n",
      "[131]\txg_train-merror:0.011416\n",
      "[132]\txg_train-merror:0.010845\n",
      "[133]\txg_train-merror:0.010274\n",
      "[134]\txg_train-merror:0.010845\n",
      "[135]\txg_train-merror:0.010559\n",
      "[136]\txg_train-merror:0.010274\n",
      "[137]\txg_train-merror:0.009132\n",
      "[138]\txg_train-merror:0.010845\n",
      "[139]\txg_train-merror:0.009703\n",
      "[140]\txg_train-merror:0.009418\n",
      "[141]\txg_train-merror:0.008562\n",
      "[142]\txg_train-merror:0.008847\n",
      "[143]\txg_train-merror:0.007991\n",
      "[144]\txg_train-merror:0.008562\n",
      "[145]\txg_train-merror:0.007705\n",
      "[146]\txg_train-merror:0.007705\n",
      "[147]\txg_train-merror:0.007705\n",
      "[148]\txg_train-merror:0.007135\n",
      "[149]\txg_train-merror:0.006564\n",
      "[150]\txg_train-merror:0.006279\n",
      "[151]\txg_train-merror:0.006279\n",
      "[152]\txg_train-merror:0.006279\n",
      "[153]\txg_train-merror:0.006564\n",
      "[154]\txg_train-merror:0.005993\n",
      "[155]\txg_train-merror:0.006564\n",
      "[156]\txg_train-merror:0.006279\n",
      "[157]\txg_train-merror:0.005993\n",
      "[158]\txg_train-merror:0.005708\n",
      "[159]\txg_train-merror:0.006279\n",
      "[160]\txg_train-merror:0.006279\n",
      "[161]\txg_train-merror:0.005993\n",
      "[162]\txg_train-merror:0.005708\n",
      "[163]\txg_train-merror:0.005422\n",
      "[164]\txg_train-merror:0.005422\n",
      "[165]\txg_train-merror:0.005708\n",
      "[166]\txg_train-merror:0.005137\n",
      "[167]\txg_train-merror:0.004852\n",
      "[168]\txg_train-merror:0.004852\n",
      "[169]\txg_train-merror:0.004566\n",
      "[170]\txg_train-merror:0.004852\n",
      "[171]\txg_train-merror:0.004566\n",
      "[172]\txg_train-merror:0.004281\n",
      "[173]\txg_train-merror:0.003995\n",
      "[174]\txg_train-merror:0.003995\n",
      "[175]\txg_train-merror:0.003710\n",
      "[176]\txg_train-merror:0.003710\n",
      "[177]\txg_train-merror:0.003710\n",
      "[178]\txg_train-merror:0.003139\n",
      "[179]\txg_train-merror:0.003425\n",
      "[180]\txg_train-merror:0.003425\n",
      "[181]\txg_train-merror:0.003710\n",
      "[182]\txg_train-merror:0.003710\n",
      "[183]\txg_train-merror:0.003139\n",
      "[184]\txg_train-merror:0.003425\n",
      "[185]\txg_train-merror:0.003139\n",
      "[186]\txg_train-merror:0.003425\n",
      "[187]\txg_train-merror:0.003139\n",
      "[188]\txg_train-merror:0.003139\n",
      "[189]\txg_train-merror:0.003139\n",
      "[190]\txg_train-merror:0.002854\n",
      "[191]\txg_train-merror:0.002854\n",
      "[192]\txg_train-merror:0.002568\n",
      "[193]\txg_train-merror:0.002568\n",
      "[194]\txg_train-merror:0.001998\n",
      "[195]\txg_train-merror:0.002283\n",
      "[196]\txg_train-merror:0.001712\n",
      "[197]\txg_train-merror:0.001712\n",
      "[198]\txg_train-merror:0.001712\n",
      "[199]\txg_train-merror:0.001712\n",
      "[200]\txg_train-merror:0.001712\n",
      "[201]\txg_train-merror:0.001712\n",
      "[202]\txg_train-merror:0.001712\n",
      "[203]\txg_train-merror:0.001712\n",
      "[204]\txg_train-merror:0.001712\n",
      "[205]\txg_train-merror:0.001712\n",
      "[206]\txg_train-merror:0.001712\n",
      "[207]\txg_train-merror:0.001712\n",
      "[208]\txg_train-merror:0.001712\n",
      "[209]\txg_train-merror:0.001427\n",
      "[210]\txg_train-merror:0.001427\n",
      "[211]\txg_train-merror:0.001427\n",
      "[212]\txg_train-merror:0.001712\n",
      "[213]\txg_train-merror:0.001427\n",
      "[214]\txg_train-merror:0.001427\n",
      "[215]\txg_train-merror:0.001427\n",
      "[216]\txg_train-merror:0.001427\n",
      "[217]\txg_train-merror:0.001427\n",
      "[218]\txg_train-merror:0.001427\n",
      "[219]\txg_train-merror:0.001427\n",
      "[220]\txg_train-merror:0.001427\n",
      "[221]\txg_train-merror:0.001427\n",
      "[222]\txg_train-merror:0.001427\n",
      "[223]\txg_train-merror:0.001427\n",
      "[224]\txg_train-merror:0.001427\n",
      "[225]\txg_train-merror:0.001427\n",
      "[226]\txg_train-merror:0.001427\n",
      "[227]\txg_train-merror:0.001427\n",
      "[228]\txg_train-merror:0.001427\n",
      "[229]\txg_train-merror:0.001427\n",
      "[230]\txg_train-merror:0.001427\n",
      "[231]\txg_train-merror:0.001142\n",
      "[232]\txg_train-merror:0.001142\n",
      "[233]\txg_train-merror:0.001142\n",
      "[234]\txg_train-merror:0.001427\n",
      "[235]\txg_train-merror:0.001427\n",
      "[236]\txg_train-merror:0.001142\n",
      "[237]\txg_train-merror:0.000856\n",
      "[238]\txg_train-merror:0.000856\n",
      "[239]\txg_train-merror:0.000856\n",
      "[240]\txg_train-merror:0.000571\n",
      "[241]\txg_train-merror:0.000856\n",
      "[242]\txg_train-merror:0.000571\n",
      "[243]\txg_train-merror:0.000571\n",
      "[244]\txg_train-merror:0.000571\n",
      "[245]\txg_train-merror:0.000571\n",
      "[246]\txg_train-merror:0.000285\n",
      "[247]\txg_train-merror:0.000285\n",
      "[248]\txg_train-merror:0.000285\n",
      "[249]\txg_train-merror:0.000285\n",
      "[250]\txg_train-merror:0.000285\n",
      "[251]\txg_train-merror:0.000000\n",
      "[252]\txg_train-merror:0.000000\n",
      "[253]\txg_train-merror:0.000000\n",
      "[254]\txg_train-merror:0.000000\n",
      "[255]\txg_train-merror:0.000000\n",
      "[256]\txg_train-merror:0.000000\n",
      "[257]\txg_train-merror:0.000000\n",
      "[258]\txg_train-merror:0.000000\n",
      "[259]\txg_train-merror:0.000000\n",
      "[260]\txg_train-merror:0.000000\n",
      "[261]\txg_train-merror:0.000000\n",
      "[262]\txg_train-merror:0.000000\n",
      "[263]\txg_train-merror:0.000285\n",
      "[264]\txg_train-merror:0.000285\n",
      "[265]\txg_train-merror:0.000285\n",
      "[266]\txg_train-merror:0.000285\n",
      "[267]\txg_train-merror:0.000000\n",
      "[268]\txg_train-merror:0.000285\n",
      "[269]\txg_train-merror:0.000000\n",
      "[270]\txg_train-merror:0.000000\n",
      "[271]\txg_train-merror:0.000000\n",
      "[272]\txg_train-merror:0.000000\n",
      "[273]\txg_train-merror:0.000000\n",
      "[274]\txg_train-merror:0.000000\n",
      "[275]\txg_train-merror:0.000000\n",
      "[276]\txg_train-merror:0.000000\n",
      "[277]\txg_train-merror:0.000000\n",
      "[278]\txg_train-merror:0.000000\n",
      "[279]\txg_train-merror:0.000000\n",
      "[280]\txg_train-merror:0.000000\n",
      "[281]\txg_train-merror:0.000000\n",
      "[282]\txg_train-merror:0.000000\n",
      "[283]\txg_train-merror:0.000000\n",
      "[284]\txg_train-merror:0.000000\n",
      "[285]\txg_train-merror:0.000000\n",
      "[286]\txg_train-merror:0.000000\n",
      "[287]\txg_train-merror:0.000000\n",
      "[288]\txg_train-merror:0.000000\n",
      "[289]\txg_train-merror:0.000000\n",
      "[290]\txg_train-merror:0.000000\n",
      "[291]\txg_train-merror:0.000000\n",
      "[292]\txg_train-merror:0.000000\n",
      "[293]\txg_train-merror:0.000000\n",
      "[294]\txg_train-merror:0.000000\n",
      "[295]\txg_train-merror:0.000000\n",
      "[296]\txg_train-merror:0.000000\n",
      "[297]\txg_train-merror:0.000000\n",
      "[298]\txg_train-merror:0.000000\n",
      "[299]\txg_train-merror:0.000000\n",
      "[300]\txg_train-merror:0.000000\n",
      "[301]\txg_train-merror:0.000000\n",
      "[302]\txg_train-merror:0.000000\n",
      "[303]\txg_train-merror:0.000000\n",
      "[304]\txg_train-merror:0.000000\n",
      "[305]\txg_train-merror:0.000000\n"
     ]
    }
   ],
   "source": [
    "# create the model\n",
    "bst <- xgb.train(   params              = params, \n",
    "                    data                = dtrain, \n",
    "                    nrounds             = n_rounds.train, \n",
    "                    verbose             = 1,\n",
    "                    watchlist           = watchlist,\n",
    "                    maximize            = FALSE\n",
    ")"
   ]
  },
  {
   "cell_type": "code",
   "execution_count": 42,
   "metadata": {
    "collapsed": true
   },
   "outputs": [],
   "source": [
    "# generate predictions from model\n",
    "pred <- predict(bst, xg_test);"
   ]
  },
  {
   "cell_type": "code",
   "execution_count": 43,
   "metadata": {
    "collapsed": false
   },
   "outputs": [
    {
     "data": {
      "text/plain": [
       "Confusion Matrix and Statistics\n",
       "\n",
       "          Reference\n",
       "Prediction  0  1  2  3\n",
       "         0 87 83 60 15\n",
       "         1 82 78 60 18\n",
       "         2 40 38 21  2\n",
       "         3  5  5  6  0\n",
       "\n",
       "Overall Statistics\n",
       "                                        \n",
       "               Accuracy : 0.31          \n",
       "                 95% CI : (0.273, 0.349)\n",
       "    No Information Rate : 0.357         \n",
       "    P-Value [Acc > NIR] : 0.992882      \n",
       "                                        \n",
       "                  Kappa : -0.02         \n",
       " Mcnemar's Test P-Value : 0.000704      \n",
       "\n",
       "Statistics by Class:\n",
       "\n",
       "                     Class: 0 Class: 1 Class: 2 Class: 3\n",
       "Sensitivity             0.407    0.382    0.143   0.0000\n",
       "Specificity             0.591    0.596    0.823   0.9717\n",
       "Pos Pred Value          0.355    0.328    0.208   0.0000\n",
       "Neg Pred Value          0.642    0.652    0.747   0.9401\n",
       "Prevalence              0.357    0.340    0.245   0.0583\n",
       "Detection Rate          0.145    0.130    0.035   0.0000\n",
       "Detection Prevalence    0.408    0.397    0.168   0.0267\n",
       "Balanced Accuracy       0.499    0.489    0.483   0.4858"
      ]
     },
     "metadata": {},
     "output_type": "display_data"
    }
   ],
   "source": [
    "confusionMatrix(pred, actual)"
   ]
  },
  {
   "cell_type": "code",
   "execution_count": 44,
   "metadata": {
    "collapsed": false
   },
   "outputs": [
    {
     "data": {
      "text/html": [
       "<table>\n",
       "<thead><tr><th></th><th scope=col>Feature</th><th scope=col>Gain</th><th scope=col>Cover</th><th scope=col>Frequence</th></tr></thead>\n",
       "<tbody>\n",
       "\t<tr><th scope=row>1</th><td>ATT3              </td><td>0.104013392229815 </td><td>0.0884387812879234</td><td>0.100707140393239 </td></tr>\n",
       "\t<tr><th scope=row>2</th><td>ATT9             </td><td>0.102409110367457</td><td>0.116503945866794</td><td>0.103535701966195</td></tr>\n",
       "\t<tr><th scope=row>3</th><td>ATT4              </td><td>0.102311142280264 </td><td>0.0900530928434779</td><td>0.0998620213866851</td></tr>\n",
       "\t<tr><th scope=row>4</th><td>ATT6             </td><td>0.101093972495696</td><td>0.101818313112935</td><td>0.100793377026561</td></tr>\n",
       "\t<tr><th scope=row>5</th><td>ATT10            </td><td>0.100559832080534</td><td>0.106793830794048</td><td>0.100758882373232</td></tr>\n",
       "\t<tr><th scope=row>6</th><td>ATT2              </td><td>0.0995691186445694</td><td>0.10838137342493  </td><td>0.100569161779924 </td></tr>\n",
       "</tbody>\n",
       "</table>\n"
      ],
      "text/latex": [
       "\\begin{tabular}{r|llll}\n",
       "  & Feature & Gain & Cover & Frequence\\\\\n",
       "\\hline\n",
       "\t1 & ATT3               & 0.104013392229815  & 0.0884387812879234 & 0.100707140393239 \\\\\n",
       "\t2 & ATT9              & 0.102409110367457 & 0.116503945866794 & 0.103535701966195\\\\\n",
       "\t3 & ATT4               & 0.102311142280264  & 0.0900530928434779 & 0.0998620213866851\\\\\n",
       "\t4 & ATT6              & 0.101093972495696 & 0.101818313112935 & 0.100793377026561\\\\\n",
       "\t5 & ATT10             & 0.100559832080534 & 0.106793830794048 & 0.100758882373232\\\\\n",
       "\t6 & ATT2               & 0.0995691186445694 & 0.10838137342493   & 0.100569161779924 \\\\\n",
       "\\end{tabular}\n"
      ],
      "text/plain": [
       "  Feature    Gain   Cover Frequence\n",
       "1    ATT3 0.10401 0.08844   0.10071\n",
       "2    ATT9 0.10241 0.11650   0.10354\n",
       "3    ATT4 0.10231 0.09005   0.09986\n",
       "4    ATT6 0.10109 0.10182   0.10079\n",
       "5   ATT10 0.10056 0.10679   0.10076\n",
       "6    ATT2 0.09957 0.10838   0.10057"
      ]
     },
     "metadata": {},
     "output_type": "display_data"
    }
   ],
   "source": [
    "feature.importance <- xgb.importance(dimnames(xg_train)[[2]], model = bst)\n",
    "head(feature.importance)"
   ]
  },
  {
   "cell_type": "code",
   "execution_count": 38,
   "metadata": {
    "collapsed": false
   },
   "outputs": [
    {
     "data": {},
     "metadata": {},
     "output_type": "display_data"
    },
    {
     "data": {
      "image/png": "[encoded data removed]",
      "text/plain": [
       "plot without title"
      ]
     },
     "metadata": {},
     "output_type": "display_data"
    }
   ],
   "source": [
    "xgb.plot.importance(feature.importance)"
   ]
  },
  {
   "cell_type": "markdown",
   "metadata": {},
   "source": [
    "## Cross Validate further parameters for XGBoost using GridSearch"
   ]
  },
  {
   "cell_type": "code",
   "execution_count": null,
   "metadata": {
    "collapsed": true
   },
   "outputs": [],
   "source": []
  },
  {
   "cell_type": "code",
   "execution_count": 39,
   "metadata": {
    "collapsed": true
   },
   "outputs": [],
   "source": [
    "xgbGrid <- expand.grid(\n",
    "    nrounds = c(100, 300, 500, 1000),\n",
    "    max_depth = c(1, 3, 5, 7),\n",
    "    eta = c(0.001, 0.01, 0.1),\n",
    "    gamma = c(0, 1),\n",
    "    colsample_bytree = c(1, 0.9, 0.8),\n",
    "    min_child_weight = c(1, 2, 3),\n",
    "    subsample = c(1, 0.9, 0.8)\n",
    ")"
   ]
  },
  {
   "cell_type": "code",
   "execution_count": 40,
   "metadata": {
    "collapsed": false
   },
   "outputs": [],
   "source": [
    "xgbTrControl <- trainControl(\n",
    "    method = \"repeatedcv\",\n",
    "    number = 5,\n",
    "    repeats = 2,\n",
    "    verboseIter = FALSE,\n",
    "    returnData = FALSE,\n",
    "    allowParallel = TRUE\n",
    ")"
   ]
  },
  {
   "cell_type": "code",
   "execution_count": 41,
   "metadata": {
    "collapsed": false
   },
   "outputs": [],
   "source": [
    "xg_train <- Udf.Utilities.UpSample(train)\n",
    "xg_train$Result <- as.numeric(xg_train$Result)-1\n",
    "for(i in c(1:ncol(xg_train))) {\n",
    "    xg_train[,i] <- as.numeric(xg_train[,i])\n",
    "}"
   ]
  },
  {
   "cell_type": "code",
   "execution_count": 42,
   "metadata": {
    "collapsed": false
   },
   "outputs": [
    {
     "data": {
      "text/html": [
       "\"\n",
       "xgbTrain &lt;- train(\n",
       "    x = as.matrix(xg_train[, ! names(xg_train) %in% c('Result')]), \n",
       "    y = xg_train$Result,\n",
       "    objective = 'multi:softmax',\n",
       "    trControl = xgbTrControl,\n",
       "    tuneGrid = xgbGrid,\n",
       "    method = 'xgbTree',\n",
       "    num_class = 4,\n",
       "    eval_metric = 'merror'\n",
       ")\n",
       "\""
      ],
      "text/latex": [
       "\"\n",
       "xgbTrain <- train(\n",
       "    x = as.matrix(xg\\_train{[}, ! names(xg\\_train) \\%in\\% c('Result'){]}), \n",
       "    y = xg\\_train\\$Result,\n",
       "    objective = 'multi:softmax',\n",
       "    trControl = xgbTrControl,\n",
       "    tuneGrid = xgbGrid,\n",
       "    method = 'xgbTree',\n",
       "    num\\_class = 4,\n",
       "    eval\\_metric = 'merror'\n",
       ")\n",
       "\""
      ],
      "text/markdown": [
       "\"\n",
       "xgbTrain &lt;- train(\n",
       "    x = as.matrix(xg_train[, ! names(xg_train) %in% c('Result')]), \n",
       "    y = xg_train$Result,\n",
       "    objective = 'multi:softmax',\n",
       "    trControl = xgbTrControl,\n",
       "    tuneGrid = xgbGrid,\n",
       "    method = 'xgbTree',\n",
       "    num_class = 4,\n",
       "    eval_metric = 'merror'\n",
       ")\n",
       "\""
      ],
      "text/plain": [
       "[1] \"\\nxgbTrain <- train(\\n    x = as.matrix(xg_train[, ! names(xg_train) %in% c('Result')]), \\n    y = xg_train$Result,\\n    objective = 'multi:softmax',\\n    trControl = xgbTrControl,\\n    tuneGrid = xgbGrid,\\n    method = 'xgbTree',\\n    num_class = 4,\\n    eval_metric = 'merror'\\n)\\n\""
      ]
     },
     "metadata": {},
     "output_type": "display_data"
    }
   ],
   "source": [
    "set.seed(seed)\n",
    "\n",
    "# This is computationaly expensive - takes about an hour\n",
    "\"\n",
    "xgbTrain <- train(\n",
    "    x = as.matrix(xg_train[, ! names(xg_train) %in% c('Result')]), \n",
    "    y = xg_train$Result,\n",
    "    objective = 'multi:softmax',\n",
    "    trControl = xgbTrControl,\n",
    "    tuneGrid = xgbGrid,\n",
    "    method = 'xgbTree',\n",
    "    num_class = 4,\n",
    "    eval_metric = 'merror'\n",
    ")\n",
    "\""
   ]
  },
  {
   "cell_type": "code",
   "execution_count": 43,
   "metadata": {
    "collapsed": true
   },
   "outputs": [],
   "source": [
    "# get the top model and its results\n",
    "#head(xgbTrain$results[with(xgbTrain$results, order(RMSE)), ], 5)\n",
    "\n",
    "#    eta max_depth gamma colsample_bytree min_child_weight subsample nrounds   RMSE Rsquared  RMSESD RsquaredSD\n",
    "#291 0.1         7     1              0.9                1       0.9    1000 0.8798   0.4809 0.06850    0.06617\n",
    "#303 0.1         7     1              0.9                3       0.9    1000 0.8872   0.4755 0.05355    0.05192\n",
    "#297 0.1         7     1              0.9                2       0.9    1000 0.8894   0.4725 0.05044    0.04991\n",
    "#290 0.1         7     1              0.9                1       0.9     500 0.8931   0.4684 0.08039    0.07727\n",
    "#308 0.1         7     1              1.0                1       0.9     500 0.8965   0.4639 0.09140    0.08873\n",
    "\n",
    "#    eta max_depth gamma colsample_bytree min_child_weight subsample nrounds   RMSE Rsquared  RMSESD RsquaredSD\n",
    "#91  0.10         8     0              0.9                1       0.9     500 0.8699   0.4890 0.06079    0.06009\n",
    "#92  0.10         8     0              0.9                1       0.9    1000 0.8716   0.4888 0.03330    0.03463\n",
    "#39  0.01         8     0              0.9                1       0.9    5000 0.8744   0.4849 0.07411    0.07273\n",
    "#42  0.01         8     0              0.9                2       0.9    5000 0.8748   0.4857 0.06031    0.05941\n",
    "#102 0.10         8     1              0.9                1       0.9    5000 0.8762   0.4858 0.03332    0.03191"
   ]
  },
  {
   "cell_type": "code",
   "execution_count": 88,
   "metadata": {
    "collapsed": false
   },
   "outputs": [],
   "source": [
    "nrounds <- 500\n",
    "max_depth <- 7\n",
    "eta <- 0.1\n",
    "colsample_bytree <- 0.9\n",
    "subsample <- 0.9\n",
    "gamma <- 0\n",
    "min_child_weight <- 1"
   ]
  },
  {
   "cell_type": "code",
   "execution_count": 89,
   "metadata": {
    "collapsed": false
   },
   "outputs": [],
   "source": [
    "# Alter the params based on the best performing set of params abvove\n",
    "params <- list(booster = \"gbtree\", objective = \"multi:softmax\",\n",
    "               num_class = 4, eval_metric = 'merror',\n",
    "               max_depth = max_depth, eta = eta,\n",
    "               colsample_bytree = colsample_bytree, subsample = subsample,\n",
    "               gamma = gamma, min_child_weight = min_child_weight)"
   ]
  },
  {
   "cell_type": "code",
   "execution_count": null,
   "metadata": {
    "collapsed": false,
    "scrolled": true
   },
   "outputs": [],
   "source": [
    "bst.cv <- xgb.cv(params, dtrain, nrounds, nfold = 10, metrics = {'merror'},\n",
    "                 print.every.n = 20, prediction = TRUE)"
   ]
  },
  {
   "cell_type": "code",
   "execution_count": null,
   "metadata": {
    "collapsed": false
   },
   "outputs": [],
   "source": [
    "n_rounds.train <- which.min(bst.cv$dt[, test.merror.mean])\n",
    "n_rounds.train"
   ]
  },
  {
   "cell_type": "code",
   "execution_count": null,
   "metadata": {
    "collapsed": false,
    "scrolled": true
   },
   "outputs": [],
   "source": [
    "# create the model\n",
    "bst <- xgb.train(   params              = params, \n",
    "                    data                = dtrain, \n",
    "                    nrounds             = n_rounds.train, \n",
    "                    verbose             = 1,\n",
    "                    watchlist           = watchlist,\n",
    "                    maximize            = FALSE\n",
    ")"
   ]
  },
  {
   "cell_type": "code",
   "execution_count": null,
   "metadata": {
    "collapsed": false
   },
   "outputs": [],
   "source": [
    "# generate predictions from model\n",
    "pred <- predict(bst, xg_test);"
   ]
  },
  {
   "cell_type": "code",
   "execution_count": null,
   "metadata": {
    "collapsed": false
   },
   "outputs": [],
   "source": [
    "confusionMatrix(pred, actual)"
   ]
  },
  {
   "cell_type": "markdown",
   "metadata": {},
   "source": [
    "### Why/when to use Gradient Boosted Trees\n",
    "\n",
    "We chose \n",
    "\n",
    "There are two main reasons why you would use Random Forests over Gradient Boosted Decision Trees, and they are both pretty related:\n",
    "\n",
    "RF are much easier to tune than GBM\n",
    "RF are harder to overfit than GBM\n",
    "Related to (1), RF basically has only one hyperparameter to set: the number of features to randomly select at each node. However there is a rule-of-thumb to use the square root of the number of total features which works pretty well in most cases[1]. On the other hand, GBMs have several hyperparameters that include the number of trees, the depth (or number of leaves), and the shrinkage (or learning rate).\n",
    "\n",
    "And, regarding (2), while it is not true that RF do not overfit (as opposed as many are led to believe by Breiman's strong assertions[2]), it is true that they are more robust to overfitting and require less tuning to avoid it.\n",
    "\n",
    "In some sense, RF is a tree ensemble that is more \"plug'n'play\" than GBM. However, it is generally true that a well-tuned GBM can outperform a RF.\n",
    "\n",
    "Also, as Tianqi Chen mentioned, RF has traditionally been easier to parallelism. However, that is not a good reason anymore given there are efficient ways to do it with GBMs also\n",
    "\n",
    "Practically, in almost all the cases, if you have to choose one method. Boosted Trees (GBM) is usually be preferred than RF if you tune the parameter carefully.  \n",
    "\n",
    "The major reason is in terms of training objective, Boosted Trees(GBM) tries to add new trees that compliments the already built ones.  This normally gives you better accuracy with less trees.\n",
    "\n",
    "This being said, the ideas of subsampling and bagging in RF is important. They can readily be incorporated into boosted tree training. This will indeed help the performance usually.\n",
    "\n",
    "There is a historical reason such that RF is easier to parallelize. This can also be done for boosted trees, though less trivial. Boosted Trees can be distributed and very fast.   We did it in dmlc/xgboost  and it works pretty well.\n",
    "\n",
    "One last advantage of boosted trees are about modeling, because boosted trees are derived by optimizing a objective function, basically it can be used to solve almost all objective you can write gradient out. This including things like ranking, poission regression, which RF is harder to achieve. We have a tutorial describing this perspective Introduction to Boosted Trees\n",
    "\n",
    "\n",
    "Algorithmic difference is; Random Forests are trained with random sample of data (even more randomized cases available like feature randomization) and it trusts randomization to have better generalization performance on out of train set.\n",
    "On the other spectrum, Gradient Boosted Trees algorithm additionally tries to find optimal linear combination of trees (assume final model is the weighted sum of predictions of individual trees) in relation to given train data. This extra tuning might be deemed as the difference. Note that, there are many variations of those algorithms as well. \n",
    "\n",
    "At the practical side; owing to this tuning stage, Gradient Boosted Trees are more susceptible to jiggling data. This final stage makes GBT more likely to overfit therefore if the test cases are inclined to be so verbose compared to train cases this algorithm starts lacking. On the contrary, Random Forests are better to strain on overfitting although it is lacking on the other way around. \n",
    "\n",
    "So the best choice depends to the case your have as always.\n",
    "\n",
    "Dimensiality - Boosted trees are the method of choice in low (< 100) dimension settings. Random forests are the better choice in high-dimension settings.\n",
    "\n",
    "Ideally, at the end of the project we would like to be able to convey how the prediction model is working under the hood to doctors who use it. They will be able to bring domain expertise to the problem if they can see how the model is working. This is one benefit of using a Tree based model. This is reduced somewhat as we bring in aspects such as Boosting and Random Forests, however.\n",
    "\n",
    "After using the method, we were unable to improve the predictive accuracy much beyond 34%. Much of this was due to not having the compute power to effectively tune the hyperparameters. Given we were very unsure about our data, we needed to tune heavily, especially since we were seeing many cases of train error rates much lower than test. Avoiding over-fitting proved to be the demise of this method.\n"
   ]
  },
  {
   "cell_type": "markdown",
   "metadata": {},
   "source": [
    "# 4. Random Forest\n",
    "\n",
    "Given that our EDA failed to show up any strong correlations between variables, we are a little unsure if there are any strong predictors (relatively) in the dataset. We need to ensure that our tree gives a fair consideration to all of the features to ensure we don't head towards a local minima. This is where the Random Forst approach will come in. The method takes random samples of predictors at each split and only one is chosen from this set. So we can have decisions where the most optimal/important feature is not included for consideration. "
   ]
  },
  {
   "cell_type": "code",
   "execution_count": 72,
   "metadata": {
    "collapsed": false
   },
   "outputs": [],
   "source": [
    "# create an upsample of training to obtain an even split of classes\n",
    "rforest_train <- train"
   ]
  },
  {
   "cell_type": "code",
   "execution_count": 73,
   "metadata": {
    "collapsed": false
   },
   "outputs": [
    {
     "name": "stdout",
     "output_type": "stream",
     "text": [
      "Random Forest \n",
      "\n",
      "2400 samples\n",
      "  10 predictor\n",
      "   4 classes: '0', '1', '2', '3' \n",
      "\n",
      "No pre-processing\n",
      "Resampling: Cross-Validated (10 fold, repeated 3 times) \n",
      "Summary of sample sizes: 2158, 2162, 2161, 2161, 2160, 2160, ... \n",
      "Addtional sampling using up-sampling\n",
      "\n",
      "Resampling results across tuning parameters:\n",
      "\n",
      "  mtry  Accuracy  Kappa    \n",
      "  2     0.3410    -0.008345\n",
      "  3     0.3397    -0.007036\n",
      "  4     0.3367    -0.009191\n",
      "\n",
      "Accuracy was used to select the optimal model using  the largest value.\n",
      "The final value used for the model was mtry = 2. \n"
     ]
    }
   ],
   "source": [
    "# perform up-sampling using caret\n",
    "control <- trainControl(method=\"repeatedcv\", number=10, repeats=3, sampling = \"up\")\n",
    "metric <- \"Accuracy\"\n",
    "set.seed(seed)\n",
    "tunegrid <- expand.grid(.mtry=c(2, 3, 4))\n",
    "rf_default <- train(Result ~., data=rforest_train, method=\"rf\", metric=metric, tuneGrid=tunegrid, trControl=control, ntree=1000)\n",
    "print(rf_default)"
   ]
  },
  {
   "cell_type": "code",
   "execution_count": 74,
   "metadata": {
    "collapsed": false
   },
   "outputs": [
    {
     "data": {},
     "metadata": {},
     "output_type": "display_data"
    },
    {
     "data": {
      "image/png": "[encoded data removed]",
      "text/plain": [
       "plot without title"
      ]
     },
     "metadata": {},
     "output_type": "display_data"
    }
   ],
   "source": [
    "plot(rf_default)"
   ]
  },
  {
   "cell_type": "code",
   "execution_count": 75,
   "metadata": {
    "collapsed": false
   },
   "outputs": [],
   "source": [
    "pred_rf <- predict(rf_default, test)"
   ]
  },
  {
   "cell_type": "code",
   "execution_count": 76,
   "metadata": {
    "collapsed": false
   },
   "outputs": [
    {
     "data": {
      "text/plain": [
       "Confusion Matrix and Statistics\n",
       "\n",
       "          Reference\n",
       "Prediction  0  1  2  3\n",
       "         0 92 91 66 17\n",
       "         1 95 89 66 17\n",
       "         2 25 23 14  1\n",
       "         3  2  1  1  0\n",
       "\n",
       "Overall Statistics\n",
       "                                          \n",
       "               Accuracy : 0.325           \n",
       "                 95% CI : (0.288, 0.364)  \n",
       "    No Information Rate : 0.357           \n",
       "    P-Value [Acc > NIR] : 0.953           \n",
       "                                          \n",
       "                  Kappa : -0.016          \n",
       " Mcnemar's Test P-Value : 0.00000000000358\n",
       "\n",
       "Statistics by Class:\n",
       "\n",
       "                     Class: 0 Class: 1 Class: 2 Class: 3\n",
       "Sensitivity             0.430    0.436   0.0952  0.00000\n",
       "Specificity             0.549    0.551   0.8918  0.99292\n",
       "Pos Pred Value          0.346    0.333   0.2222  0.00000\n",
       "Neg Pred Value          0.635    0.655   0.7523  0.94128\n",
       "Prevalence              0.357    0.340   0.2450  0.05833\n",
       "Detection Rate          0.153    0.148   0.0233  0.00000\n",
       "Detection Prevalence    0.443    0.445   0.1050  0.00667\n",
       "Balanced Accuracy       0.490    0.493   0.4935  0.49646"
      ]
     },
     "metadata": {},
     "output_type": "display_data"
    }
   ],
   "source": [
    "confusionMatrix(pred_rf, actual)"
   ]
  },
  {
   "cell_type": "code",
   "execution_count": 77,
   "metadata": {
    "collapsed": false
   },
   "outputs": [
    {
     "name": "stdout",
     "output_type": "stream",
     "text": [
      "      MeanDecreaseGini\n",
      "ATT1             249.3\n",
      "ATT2             266.5\n",
      "ATT3             254.7\n",
      "ATT4             257.4\n",
      "ATT5             248.5\n",
      "ATT6             261.7\n",
      "ATT7             257.3\n",
      "ATT8             260.3\n",
      "ATT9             263.2\n",
      "ATT10            259.2\n"
     ]
    }
   ],
   "source": [
    "print(importance(rf_default$finalModel,type = 2))"
   ]
  },
  {
   "cell_type": "code",
   "execution_count": 78,
   "metadata": {
    "collapsed": false
   },
   "outputs": [
    {
     "data": {
      "image/png": "[encoded data removed]",
      "text/plain": [
       "Plot with title \"rf_default$finalModel\""
      ]
     },
     "metadata": {},
     "output_type": "display_data"
    }
   ],
   "source": [
    "options(repr.plot.width = 6)\n",
    "options(repr.plot.height = 4)\n",
    "varImpPlot(rf_default$finalModel)"
   ]
  },
  {
   "cell_type": "markdown",
   "metadata": {},
   "source": [
    "## Cross Validation for Random Forest feature selection "
   ]
  },
  {
   "cell_type": "code",
   "execution_count": 79,
   "metadata": {
    "collapsed": false
   },
   "outputs": [
    {
     "data": {
      "image/png": "[encoded data removed]",
      "text/plain": [
       "plot without title"
      ]
     },
     "metadata": {},
     "output_type": "display_data"
    }
   ],
   "source": [
    "x <- train\n",
    "x$Result <- NULL\n",
    "y <- train$Result\n",
    "\n",
    "rf.cv <- rfcv(x, y, cv.fold=10, step=0.9)\n",
    "\n",
    "set.seed(seed)\n",
    "with(rf.cv, plot(n.var, error.cv))"
   ]
  },
  {
   "cell_type": "markdown",
   "metadata": {},
   "source": [
    "Ok, this is telling us that a model with all features may not be best. Let's try retrain the model without the lowest importance features and rerun the predictions"
   ]
  },
  {
   "cell_type": "code",
   "execution_count": 84,
   "metadata": {
    "collapsed": false
   },
   "outputs": [
    {
     "data": {
      "text/plain": [
       "\n",
       "Call:\n",
       " randomForest(formula = Result ~ . - ATT1 - ATT3 - ATT5, data = rforest_train,      mtry = 4, ntree = 10000, sampsize = 1000) \n",
       "               Type of random forest: classification\n",
       "                     Number of trees: 10000\n",
       "No. of variables tried at each split: 4\n",
       "\n",
       "        OOB estimate of  error rate: 63.04%\n",
       "Confusion matrix:\n",
       "    0   1  2 3 class.error\n",
       "0 405 419 44 0      0.5334\n",
       "1 386 446 44 0      0.4909\n",
       "2 203 256 36 0      0.9273\n",
       "3  72  81  8 0      1.0000"
      ]
     },
     "metadata": {},
     "output_type": "display_data"
    }
   ],
   "source": [
    "rforest <- randomForest(Result ~ . - ATT1 - ATT3 - ATT5, data = rforest_train, mtry=4, ntree=10000, sampsize=1000)\n",
    "rforest"
   ]
  },
  {
   "cell_type": "code",
   "execution_count": 85,
   "metadata": {
    "collapsed": false
   },
   "outputs": [
    {
     "name": "stdout",
     "output_type": "stream",
     "text": [
      "      MeanDecreaseGini\n",
      "ATT2            100.51\n",
      "ATT4             94.28\n",
      "ATT6             98.78\n",
      "ATT7             94.06\n",
      "ATT8            101.03\n",
      "ATT9             97.79\n",
      "ATT10           100.21\n"
     ]
    }
   ],
   "source": [
    "print(importance(rforest,type = 2))"
   ]
  },
  {
   "cell_type": "code",
   "execution_count": 86,
   "metadata": {
    "collapsed": true
   },
   "outputs": [],
   "source": [
    "pred_rf <- predict(rforest, test)"
   ]
  },
  {
   "cell_type": "code",
   "execution_count": 87,
   "metadata": {
    "collapsed": false
   },
   "outputs": [
    {
     "data": {
      "text/plain": [
       "Confusion Matrix and Statistics\n",
       "\n",
       "          Reference\n",
       "Prediction   0   1   2   3\n",
       "         0  99  87  73  16\n",
       "         1 102 100  67  19\n",
       "         2  13  17   7   0\n",
       "         3   0   0   0   0\n",
       "\n",
       "Overall Statistics\n",
       "                                        \n",
       "               Accuracy : 0.343         \n",
       "                 95% CI : (0.305, 0.383)\n",
       "    No Information Rate : 0.357         \n",
       "    P-Value [Acc > NIR] : 0.765         \n",
       "                                        \n",
       "                  Kappa : 0.002         \n",
       " Mcnemar's Test P-Value : NA            \n",
       "\n",
       "Statistics by Class:\n",
       "\n",
       "                     Class: 0 Class: 1 Class: 2 Class: 3\n",
       "Sensitivity             0.463    0.490   0.0476   0.0000\n",
       "Specificity             0.544    0.525   0.9338   1.0000\n",
       "Pos Pred Value          0.360    0.347   0.1892      NaN\n",
       "Neg Pred Value          0.646    0.667   0.7513   0.9417\n",
       "Prevalence              0.357    0.340   0.2450   0.0583\n",
       "Detection Rate          0.165    0.167   0.0117   0.0000\n",
       "Detection Prevalence    0.458    0.480   0.0617   0.0000\n",
       "Balanced Accuracy       0.503    0.508   0.4907   0.5000"
      ]
     },
     "metadata": {},
     "output_type": "display_data"
    }
   ],
   "source": [
    "confusionMatrix(pred_rf, actual)"
   ]
  },
  {
   "cell_type": "markdown",
   "metadata": {
    "collapsed": true
   },
   "source": [
    "# 5. Deep Learning"
   ]
  },
  {
   "cell_type": "code",
   "execution_count": 11,
   "metadata": {
    "collapsed": false
   },
   "outputs": [],
   "source": [
    "obj_ <- Udf.Utilities.PrepareTraining(prostate)\n",
    "tr_ <- obj_$training\n",
    "ts_ <- obj_$testing"
   ]
  },
  {
   "cell_type": "code",
   "execution_count": null,
   "metadata": {
    "collapsed": true
   },
   "outputs": [],
   "source": [
    "h2o.init(nthreads = -1)"
   ]
  },
  {
   "cell_type": "code",
   "execution_count": null,
   "metadata": {
    "collapsed": true
   },
   "outputs": [],
   "source": [
    "# What are these for?\n",
    "tr_ <- read.csv(\"trFE.csv\")\n",
    "ts_ <- read.csv(\"tsFE.csv\")\n",
    "tr_$Result <- as.factor(tr_$Result)\n",
    "ts_$Result <- as.factor(ts_$Result)"
   ]
  },
  {
   "cell_type": "code",
   "execution_count": null,
   "metadata": {
    "collapsed": true
   },
   "outputs": [],
   "source": []
  },
  {
   "cell_type": "markdown",
   "metadata": {},
   "source": [
    "# 6. Turbo Boost"
   ]
  },
  {
   "cell_type": "code",
   "execution_count": 167,
   "metadata": {
    "collapsed": true
   },
   "outputs": [],
   "source": [
    "# Make training and test sets\n",
    "#obj_ <- Udf.Utilities.PrepareTraining(prostate)\n",
    "tr_ <- train#obj_$training\n",
    "ts_ <- test#obj_$testing\n",
    "actual <- ts_$Result"
   ]
  },
  {
   "cell_type": "code",
   "execution_count": 168,
   "metadata": {
    "collapsed": false
   },
   "outputs": [],
   "source": [
    "# PCA\n",
    "pc_ <- Udf.Utilities.Prcomp(tr_[,-ncol(tr_)],nComps = 2)\n",
    "\n",
    "pcObj_ <- pc_$prcompObj # Get object \n",
    "\n",
    "tr_ <- cbind(tr_,pc_$components) # bind to features."
   ]
  },
  {
   "cell_type": "code",
   "execution_count": 169,
   "metadata": {
    "collapsed": false
   },
   "outputs": [],
   "source": [
    "# do the same to the test set\n",
    "pc_ts <- Udf.Utilities.Prcomp(ts_[,-ncol(ts_)],nComps = 2)\n",
    "\n",
    "pcObj_ts<- pc_ts$prcompObj # Get object \n",
    "\n",
    "ts_ <- cbind(ts_,pc_ts$components) # bind to features."
   ]
  },
  {
   "cell_type": "code",
   "execution_count": 53,
   "metadata": {
    "collapsed": false,
    "scrolled": true
   },
   "outputs": [],
   "source": [
    "# Control method\n",
    "ctrl_ <- trainControl(method = \"cv\", number = 5, sampling = \"up\")\n",
    "mdl.xgb <- train(Result ~ . , data = tr_, method = \"xgbTree\", trControl = ctrl_)"
   ]
  },
  {
   "cell_type": "code",
   "execution_count": 173,
   "metadata": {
    "collapsed": false
   },
   "outputs": [],
   "source": [
    "pred_xgb_prcomp <- predict(mdl.xgb, ts_)"
   ]
  },
  {
   "cell_type": "code",
   "execution_count": 174,
   "metadata": {
    "collapsed": false
   },
   "outputs": [
    {
     "data": {
      "text/plain": [
       "Confusion Matrix and Statistics\n",
       "\n",
       "          Reference\n",
       "Prediction  0  1  2  3\n",
       "         0 80 74 45 15\n",
       "         1 71 89 36  8\n",
       "         2 50 61 26 10\n",
       "         3 15 12  6  2\n",
       "\n",
       "Overall Statistics\n",
       "                                        \n",
       "               Accuracy : 0.328         \n",
       "                 95% CI : (0.291, 0.368)\n",
       "    No Information Rate : 0.393         \n",
       "    P-Value [Acc > NIR] : 1.000         \n",
       "                                        \n",
       "                  Kappa : 0.024         \n",
       " Mcnemar's Test P-Value : 0.199         \n",
       "\n",
       "Statistics by Class:\n",
       "\n",
       "                     Class: 0 Class: 1 Class: 2 Class: 3\n",
       "Sensitivity             0.370    0.377   0.2301  0.05714\n",
       "Specificity             0.651    0.684   0.7515  0.94159\n",
       "Pos Pred Value          0.374    0.436   0.1769  0.05714\n",
       "Neg Pred Value          0.648    0.629   0.8079  0.94159\n",
       "Prevalence              0.360    0.393   0.1883  0.05833\n",
       "Detection Rate          0.133    0.148   0.0433  0.00333\n",
       "Detection Prevalence    0.357    0.340   0.2450  0.05833\n",
       "Balanced Accuracy       0.511    0.531   0.4908  0.49937"
      ]
     },
     "metadata": {},
     "output_type": "display_data"
    }
   ],
   "source": [
    "confusionMatrix(actual, pred_xgb_prcomp)"
   ]
  },
  {
   "cell_type": "code",
   "execution_count": 60,
   "metadata": {
    "collapsed": false
   },
   "outputs": [
    {
     "name": "stdout",
     "output_type": "stream",
     "text": [
      "Iter   TrainDeviance   ValidDeviance   StepSize   Improve\n",
      "     1        1.3863             nan     0.1000    0.0006\n",
      "     2        1.3843             nan     0.1000   -0.0011\n",
      "     3        1.3829             nan     0.1000    0.0010\n",
      "     4        1.3814             nan     0.1000   -0.0004\n",
      "     5        1.3799             nan     0.1000   -0.0001\n",
      "     6        1.3785             nan     0.1000   -0.0004\n",
      "     7        1.3773             nan     0.1000   -0.0002\n",
      "     8        1.3760             nan     0.1000   -0.0009\n",
      "     9        1.3748             nan     0.1000   -0.0001\n",
      "    10        1.3739             nan     0.1000    0.0001\n",
      "    20        1.3650             nan     0.1000   -0.0007\n",
      "    40        1.3519             nan     0.1000   -0.0010\n",
      "    60        1.3435             nan     0.1000   -0.0012\n",
      "    80        1.3368             nan     0.1000   -0.0011\n",
      "   100        1.3311             nan     0.1000   -0.0016\n",
      "   120        1.3264             nan     0.1000   -0.0016\n",
      "   140        1.3227             nan     0.1000   -0.0010\n",
      "   150        1.3209             nan     0.1000   -0.0023\n",
      "\n",
      "Iter   TrainDeviance   ValidDeviance   StepSize   Improve\n",
      "     1        1.3863             nan     0.1000   -0.0003\n",
      "     2        1.3834             nan     0.1000    0.0026\n",
      "     3        1.3797             nan     0.1000    0.0007\n",
      "     4        1.3764             nan     0.1000    0.0016\n",
      "     5        1.3727             nan     0.1000   -0.0008\n",
      "     6        1.3700             nan     0.1000    0.0012\n",
      "     7        1.3661             nan     0.1000    0.0010\n",
      "     8        1.3632             nan     0.1000    0.0001\n",
      "     9        1.3606             nan     0.1000    0.0020\n",
      "    10        1.3575             nan     0.1000    0.0003\n",
      "    20        1.3334             nan     0.1000   -0.0001\n",
      "    40        1.2949             nan     0.1000   -0.0001\n",
      "    60        1.2642             nan     0.1000   -0.0005\n",
      "    80        1.2367             nan     0.1000   -0.0011\n",
      "   100        1.2132             nan     0.1000   -0.0013\n",
      "   120        1.1898             nan     0.1000   -0.0026\n",
      "   140        1.1680             nan     0.1000   -0.0013\n",
      "   150        1.1581             nan     0.1000   -0.0029\n",
      "\n",
      "Iter   TrainDeviance   ValidDeviance   StepSize   Improve\n",
      "     1        1.3863             nan     0.1000    0.0049\n",
      "     2        1.3787             nan     0.1000    0.0030\n",
      "     3        1.3725             nan     0.1000    0.0036\n",
      "     4        1.3665             nan     0.1000    0.0014\n",
      "     5        1.3616             nan     0.1000    0.0022\n",
      "     6        1.3563             nan     0.1000    0.0019\n",
      "     7        1.3510             nan     0.1000    0.0018\n",
      "     8        1.3467             nan     0.1000    0.0027\n",
      "     9        1.3415             nan     0.1000    0.0025\n",
      "    10        1.3363             nan     0.1000    0.0004\n",
      "    20        1.2974             nan     0.1000   -0.0014\n",
      "    40        1.2341             nan     0.1000   -0.0010\n",
      "    60        1.1815             nan     0.1000   -0.0009\n",
      "    80        1.1344             nan     0.1000   -0.0003\n",
      "   100        1.0954             nan     0.1000   -0.0008\n",
      "   120        1.0568             nan     0.1000   -0.0031\n",
      "   140        1.0251             nan     0.1000   -0.0025\n",
      "   150        1.0091             nan     0.1000   -0.0029\n",
      "\n",
      "Iter   TrainDeviance   ValidDeviance   StepSize   Improve\n",
      "     1        1.3863             nan     0.1000    0.0006\n",
      "     2        1.3846             nan     0.1000   -0.0001\n",
      "     3        1.3832             nan     0.1000    0.0003\n",
      "     4        1.3815             nan     0.1000    0.0003\n",
      "     5        1.3799             nan     0.1000   -0.0001\n",
      "     6        1.3782             nan     0.1000   -0.0009\n",
      "     7        1.3772             nan     0.1000    0.0003\n",
      "     8        1.3757             nan     0.1000   -0.0001\n",
      "     9        1.3746             nan     0.1000   -0.0005\n",
      "    10        1.3737             nan     0.1000   -0.0005\n",
      "    20        1.3650             nan     0.1000   -0.0019\n",
      "    40        1.3537             nan     0.1000   -0.0008\n",
      "    60        1.3441             nan     0.1000   -0.0014\n",
      "    80        1.3371             nan     0.1000   -0.0012\n",
      "   100        1.3315             nan     0.1000   -0.0011\n",
      "   120        1.3263             nan     0.1000   -0.0017\n",
      "   140        1.3222             nan     0.1000   -0.0011\n",
      "   150        1.3198             nan     0.1000   -0.0027\n",
      "\n",
      "Iter   TrainDeviance   ValidDeviance   StepSize   Improve\n",
      "     1        1.3863             nan     0.1000    0.0024\n",
      "     2        1.3818             nan     0.1000    0.0007\n",
      "     3        1.3786             nan     0.1000    0.0004\n",
      "     4        1.3746             nan     0.1000    0.0020\n",
      "     5        1.3708             nan     0.1000    0.0007\n",
      "     6        1.3677             nan     0.1000   -0.0001\n",
      "     7        1.3643             nan     0.1000    0.0007\n",
      "     8        1.3619             nan     0.1000    0.0009\n",
      "     9        1.3593             nan     0.1000    0.0010\n",
      "    10        1.3571             nan     0.1000   -0.0002\n",
      "    20        1.3317             nan     0.1000    0.0020\n",
      "    40        1.2890             nan     0.1000   -0.0019\n",
      "    60        1.2536             nan     0.1000   -0.0010\n",
      "    80        1.2242             nan     0.1000   -0.0012\n",
      "   100        1.1985             nan     0.1000   -0.0017\n",
      "   120        1.1759             nan     0.1000   -0.0011\n",
      "   140        1.1532             nan     0.1000   -0.0026\n",
      "   150        1.1433             nan     0.1000   -0.0003\n",
      "\n",
      "Iter   TrainDeviance   ValidDeviance   StepSize   Improve\n",
      "     1        1.3863             nan     0.1000    0.0041\n",
      "     2        1.3804             nan     0.1000    0.0040\n",
      "     3        1.3733             nan     0.1000    0.0034\n",
      "     4        1.3678             nan     0.1000    0.0040\n",
      "     5        1.3615             nan     0.1000    0.0008\n",
      "     6        1.3568             nan     0.1000    0.0030\n",
      "     7        1.3509             nan     0.1000    0.0034\n",
      "     8        1.3456             nan     0.1000    0.0027\n",
      "     9        1.3402             nan     0.1000   -0.0011\n",
      "    10        1.3360             nan     0.1000    0.0012\n",
      "    20        1.2941             nan     0.1000    0.0041\n",
      "    40        1.2235             nan     0.1000   -0.0014\n",
      "    60        1.1688             nan     0.1000   -0.0013\n",
      "    80        1.1233             nan     0.1000   -0.0021\n",
      "   100        1.0806             nan     0.1000   -0.0030\n",
      "   120        1.0426             nan     0.1000   -0.0019\n",
      "   140        1.0073             nan     0.1000   -0.0038\n",
      "   150        0.9929             nan     0.1000   -0.0018\n",
      "\n",
      "Iter   TrainDeviance   ValidDeviance   StepSize   Improve\n",
      "     1        1.3863             nan     0.1000   -0.0018\n",
      "     2        1.3847             nan     0.1000    0.0020\n",
      "     3        1.3828             nan     0.1000    0.0012\n",
      "     4        1.3809             nan     0.1000    0.0003\n",
      "     5        1.3790             nan     0.1000    0.0001\n",
      "     6        1.3776             nan     0.1000   -0.0002\n",
      "     7        1.3760             nan     0.1000   -0.0012\n",
      "     8        1.3749             nan     0.1000   -0.0003\n",
      "     9        1.3734             nan     0.1000    0.0006\n",
      "    10        1.3720             nan     0.1000   -0.0006\n",
      "    20        1.3606             nan     0.1000   -0.0005\n",
      "    40        1.3457             nan     0.1000   -0.0018\n",
      "    60        1.3376             nan     0.1000   -0.0009\n",
      "    80        1.3293             nan     0.1000   -0.0017\n",
      "   100        1.3233             nan     0.1000   -0.0020\n",
      "   120        1.3179             nan     0.1000   -0.0019\n",
      "   140        1.3130             nan     0.1000   -0.0018\n",
      "   150        1.3113             nan     0.1000   -0.0022\n",
      "\n",
      "Iter   TrainDeviance   ValidDeviance   StepSize   Improve\n",
      "     1        1.3863             nan     0.1000    0.0040\n",
      "     2        1.3809             nan     0.1000    0.0024\n",
      "     3        1.3765             nan     0.1000    0.0008\n",
      "     4        1.3728             nan     0.1000    0.0029\n",
      "     5        1.3695             nan     0.1000   -0.0004\n",
      "     6        1.3658             nan     0.1000    0.0020\n",
      "     7        1.3624             nan     0.1000   -0.0019\n",
      "     8        1.3596             nan     0.1000   -0.0014\n",
      "     9        1.3569             nan     0.1000    0.0020\n",
      "    10        1.3540             nan     0.1000   -0.0000\n",
      "    20        1.3264             nan     0.1000   -0.0008\n",
      "    40        1.2847             nan     0.1000   -0.0008\n",
      "    60        1.2523             nan     0.1000   -0.0015\n",
      "    80        1.2243             nan     0.1000   -0.0032\n",
      "   100        1.2006             nan     0.1000    0.0010\n",
      "   120        1.1758             nan     0.1000   -0.0033\n",
      "   140        1.1524             nan     0.1000   -0.0024\n",
      "   150        1.1431             nan     0.1000   -0.0017\n",
      "\n",
      "Iter   TrainDeviance   ValidDeviance   StepSize   Improve\n",
      "     1        1.3863             nan     0.1000    0.0048\n",
      "     2        1.3792             nan     0.1000    0.0029\n",
      "     3        1.3736             nan     0.1000    0.0049\n",
      "     4        1.3677             nan     0.1000    0.0013\n",
      "     5        1.3633             nan     0.1000    0.0003\n",
      "     6        1.3591             nan     0.1000    0.0030\n",
      "     7        1.3535             nan     0.1000    0.0030\n",
      "     8        1.3484             nan     0.1000    0.0020\n",
      "     9        1.3440             nan     0.1000    0.0026\n",
      "    10        1.3389             nan     0.1000    0.0019\n",
      "    20        1.2987             nan     0.1000   -0.0010\n",
      "    40        1.2355             nan     0.1000   -0.0017\n",
      "    60        1.1819             nan     0.1000    0.0004\n",
      "    80        1.1350             nan     0.1000   -0.0006\n",
      "   100        1.0909             nan     0.1000   -0.0025\n",
      "   120        1.0539             nan     0.1000   -0.0022\n",
      "   140        1.0174             nan     0.1000   -0.0020\n",
      "   150        1.0004             nan     0.1000   -0.0028\n",
      "\n",
      "Iter   TrainDeviance   ValidDeviance   StepSize   Improve\n",
      "     1        1.3863             nan     0.1000    0.0003\n",
      "     2        1.3847             nan     0.1000    0.0006\n",
      "     3        1.3834             nan     0.1000   -0.0002\n",
      "     4        1.3822             nan     0.1000    0.0003\n",
      "     5        1.3808             nan     0.1000   -0.0003\n",
      "     6        1.3797             nan     0.1000   -0.0021\n",
      "     7        1.3787             nan     0.1000   -0.0007\n",
      "     8        1.3779             nan     0.1000   -0.0016\n",
      "     9        1.3768             nan     0.1000   -0.0007\n",
      "    10        1.3758             nan     0.1000   -0.0012\n",
      "    20        1.3684             nan     0.1000   -0.0009\n",
      "    40        1.3588             nan     0.1000   -0.0008\n",
      "    60        1.3513             nan     0.1000   -0.0016\n",
      "    80        1.3452             nan     0.1000   -0.0016\n",
      "   100        1.3411             nan     0.1000   -0.0015\n",
      "   120        1.3371             nan     0.1000   -0.0014\n",
      "   140        1.3340             nan     0.1000   -0.0023\n",
      "   150        1.3325             nan     0.1000   -0.0028\n",
      "\n",
      "Iter   TrainDeviance   ValidDeviance   StepSize   Improve\n",
      "     1        1.3863             nan     0.1000    0.0020\n",
      "     2        1.3816             nan     0.1000    0.0006\n",
      "     3        1.3785             nan     0.1000    0.0010\n",
      "     4        1.3741             nan     0.1000    0.0023\n",
      "     5        1.3695             nan     0.1000    0.0008\n",
      "     6        1.3659             nan     0.1000   -0.0005\n",
      "     7        1.3633             nan     0.1000   -0.0004\n",
      "     8        1.3606             nan     0.1000    0.0014\n",
      "     9        1.3574             nan     0.1000   -0.0014\n",
      "    10        1.3546             nan     0.1000   -0.0009\n",
      "    20        1.3289             nan     0.1000    0.0004\n",
      "    40        1.2900             nan     0.1000    0.0015\n",
      "    60        1.2567             nan     0.1000   -0.0003\n",
      "    80        1.2293             nan     0.1000   -0.0017\n",
      "   100        1.2034             nan     0.1000   -0.0031\n",
      "   120        1.1823             nan     0.1000   -0.0028\n",
      "   140        1.1637             nan     0.1000   -0.0025\n",
      "   150        1.1543             nan     0.1000   -0.0024\n",
      "\n",
      "Iter   TrainDeviance   ValidDeviance   StepSize   Improve\n",
      "     1        1.3863             nan     0.1000    0.0059\n",
      "     2        1.3800             nan     0.1000    0.0051\n",
      "     3        1.3732             nan     0.1000    0.0020\n",
      "     4        1.3674             nan     0.1000    0.0025\n",
      "     5        1.3616             nan     0.1000    0.0022\n",
      "     6        1.3566             nan     0.1000    0.0018\n",
      "     7        1.3521             nan     0.1000    0.0031\n",
      "     8        1.3469             nan     0.1000    0.0022\n",
      "     9        1.3425             nan     0.1000    0.0008\n",
      "    10        1.3378             nan     0.1000    0.0018\n",
      "    20        1.2986             nan     0.1000    0.0015\n",
      "    40        1.2361             nan     0.1000    0.0006\n",
      "    60        1.1847             nan     0.1000   -0.0015\n",
      "    80        1.1388             nan     0.1000   -0.0009\n",
      "   100        1.0961             nan     0.1000   -0.0021\n",
      "   120        1.0590             nan     0.1000   -0.0022\n",
      "   140        1.0261             nan     0.1000   -0.0011\n",
      "   150        1.0111             nan     0.1000   -0.0024\n",
      "\n",
      "Iter   TrainDeviance   ValidDeviance   StepSize   Improve\n",
      "     1        1.3863             nan     0.1000   -0.0003\n",
      "     2        1.3847             nan     0.1000    0.0007\n",
      "     3        1.3830             nan     0.1000    0.0002\n",
      "     4        1.3812             nan     0.1000    0.0000\n",
      "     5        1.3798             nan     0.1000   -0.0007\n",
      "     6        1.3782             nan     0.1000   -0.0004\n",
      "     7        1.3770             nan     0.1000   -0.0002\n",
      "     8        1.3758             nan     0.1000   -0.0006\n",
      "     9        1.3744             nan     0.1000    0.0007\n",
      "    10        1.3730             nan     0.1000   -0.0006\n",
      "    20        1.3635             nan     0.1000   -0.0015\n",
      "    40        1.3490             nan     0.1000   -0.0010\n",
      "    60        1.3402             nan     0.1000   -0.0008\n",
      "    80        1.3329             nan     0.1000   -0.0019\n",
      "   100        1.3265             nan     0.1000   -0.0011\n",
      "   120        1.3214             nan     0.1000   -0.0017\n",
      "   140        1.3174             nan     0.1000   -0.0017\n",
      "   150        1.3157             nan     0.1000   -0.0020\n",
      "\n",
      "Iter   TrainDeviance   ValidDeviance   StepSize   Improve\n",
      "     1        1.3863             nan     0.1000    0.0022\n",
      "     2        1.3824             nan     0.1000    0.0021\n",
      "     3        1.3790             nan     0.1000   -0.0005\n",
      "     4        1.3763             nan     0.1000    0.0008\n",
      "     5        1.3729             nan     0.1000    0.0014\n",
      "     6        1.3697             nan     0.1000    0.0016\n",
      "     7        1.3666             nan     0.1000    0.0006\n",
      "     8        1.3632             nan     0.1000    0.0025\n",
      "     9        1.3595             nan     0.1000   -0.0005\n",
      "    10        1.3566             nan     0.1000    0.0010\n",
      "    20        1.3332             nan     0.1000    0.0023\n",
      "    40        1.2874             nan     0.1000    0.0002\n",
      "    60        1.2503             nan     0.1000   -0.0020\n",
      "    80        1.2213             nan     0.1000   -0.0024\n",
      "   100        1.1948             nan     0.1000   -0.0018\n",
      "   120        1.1698             nan     0.1000   -0.0009\n",
      "   140        1.1483             nan     0.1000   -0.0014\n",
      "   150        1.1387             nan     0.1000   -0.0030\n",
      "\n",
      "Iter   TrainDeviance   ValidDeviance   StepSize   Improve\n",
      "     1        1.3863             nan     0.1000    0.0028\n",
      "     2        1.3806             nan     0.1000    0.0015\n",
      "     3        1.3752             nan     0.1000    0.0016\n",
      "     4        1.3705             nan     0.1000   -0.0000\n",
      "     5        1.3662             nan     0.1000   -0.0002\n",
      "     6        1.3621             nan     0.1000    0.0020\n",
      "     7        1.3560             nan     0.1000    0.0031\n",
      "     8        1.3506             nan     0.1000    0.0040\n",
      "     9        1.3444             nan     0.1000    0.0009\n",
      "    10        1.3401             nan     0.1000    0.0028\n",
      "    20        1.2996             nan     0.1000    0.0010\n",
      "    40        1.2327             nan     0.1000   -0.0002\n",
      "    60        1.1763             nan     0.1000   -0.0018\n",
      "    80        1.1278             nan     0.1000   -0.0015\n",
      "   100        1.0849             nan     0.1000   -0.0021\n",
      "   120        1.0465             nan     0.1000   -0.0024\n",
      "   140        1.0131             nan     0.1000   -0.0013\n",
      "   150        0.9966             nan     0.1000   -0.0020\n",
      "\n",
      "Iter   TrainDeviance   ValidDeviance   StepSize   Improve\n",
      "     1        1.3863             nan     0.1000    0.0029\n",
      "     2        1.3807             nan     0.1000    0.0025\n",
      "     3        1.3763             nan     0.1000    0.0041\n",
      "     4        1.3718             nan     0.1000    0.0008\n",
      "     5        1.3672             nan     0.1000    0.0026\n",
      "     6        1.3628             nan     0.1000    0.0018\n",
      "     7        1.3587             nan     0.1000    0.0010\n",
      "     8        1.3548             nan     0.1000   -0.0001\n",
      "     9        1.3509             nan     0.1000    0.0005\n",
      "    10        1.3462             nan     0.1000    0.0001\n",
      "    20        1.3140             nan     0.1000    0.0011\n",
      "    40        1.2578             nan     0.1000   -0.0004\n",
      "    60        1.2115             nan     0.1000   -0.0014\n",
      "    80        1.1730             nan     0.1000   -0.0015\n",
      "   100        1.1372             nan     0.1000   -0.0008\n",
      "   120        1.1058             nan     0.1000   -0.0016\n",
      "   140        1.0780             nan     0.1000   -0.0009\n",
      "   150        1.0641             nan     0.1000   -0.0014\n",
      "\n"
     ]
    }
   ],
   "source": [
    "mdl.gbm <- train(Result ~ . , data = tr_,method = \"gbm\", trControl = ctrl_)\n",
    "pred_gbm <- predict(mdl.gbm, ts_)"
   ]
  },
  {
   "cell_type": "code",
   "execution_count": 61,
   "metadata": {
    "collapsed": false
   },
   "outputs": [
    {
     "data": {
      "text/plain": [
       "Confusion Matrix and Statistics\n",
       "\n",
       "          Reference\n",
       "Prediction  0  1  2  3\n",
       "         0 69 57 52 36\n",
       "         1 62 55 57 30\n",
       "         2 32 40 41 34\n",
       "         3 16  6  4  9\n",
       "\n",
       "Overall Statistics\n",
       "                                        \n",
       "               Accuracy : 0.29          \n",
       "                 95% CI : (0.254, 0.328)\n",
       "    No Information Rate : 0.298         \n",
       "    P-Value [Acc > NIR] : 0.687         \n",
       "                                        \n",
       "                  Kappa : 0.028         \n",
       " Mcnemar's Test P-Value : 0.000000000398\n",
       "\n",
       "Statistics by Class:\n",
       "\n",
       "                     Class: 0 Class: 1 Class: 2 Class: 3\n",
       "Sensitivity             0.385   0.3481   0.2662   0.0826\n",
       "Specificity             0.656   0.6629   0.7623   0.9470\n",
       "Pos Pred Value          0.322   0.2696   0.2789   0.2571\n",
       "Neg Pred Value          0.715   0.7399   0.7506   0.8230\n",
       "Prevalence              0.298   0.2633   0.2567   0.1817\n",
       "Detection Rate          0.115   0.0917   0.0683   0.0150\n",
       "Detection Prevalence    0.357   0.3400   0.2450   0.0583\n",
       "Balanced Accuracy       0.521   0.5055   0.5143   0.5148"
      ]
     },
     "metadata": {},
     "output_type": "display_data"
    }
   ],
   "source": [
    "confusionMatrix(actual, pred_gbm)"
   ]
  },
  {
   "cell_type": "markdown",
   "metadata": {},
   "source": [
    "---\n",
    "# 7. KNN Classification"
   ]
  },
  {
   "cell_type": "code",
   "execution_count": 347,
   "metadata": {
    "collapsed": true
   },
   "outputs": [],
   "source": [
    "knn_train <- train"
   ]
  },
  {
   "cell_type": "code",
   "execution_count": 348,
   "metadata": {
    "collapsed": false
   },
   "outputs": [],
   "source": [
    "set.seed(seed)\n",
    "ctrl <- trainControl(method=\"repeatedcv\",repeats = 5)\n",
    "knnFit <- train(Result ~ ., \n",
    "                data = knn_train, \n",
    "                method = \"knn\", \n",
    "                trControl = ctrl, \n",
    "                preProcess = c(\"center\",\"scale\"),\n",
    "                tuneLength = 20)"
   ]
  },
  {
   "cell_type": "code",
   "execution_count": 349,
   "metadata": {
    "collapsed": false,
    "scrolled": true
   },
   "outputs": [
    {
     "data": {
      "text/plain": [
       "k-Nearest Neighbors \n",
       "\n",
       "2400 samples\n",
       "  10 predictor\n",
       "   4 classes: '0', '1', '2', '3' \n",
       "\n",
       "Pre-processing: centered (10), scaled (10) \n",
       "Resampling: Cross-Validated (10 fold, repeated 5 times) \n",
       "Summary of sample sizes: 2158, 2162, 2161, 2161, 2160, 2160, ... \n",
       "Resampling results across tuning parameters:\n",
       "\n",
       "  k   Accuracy  Kappa     \n",
       "   5  0.3327     0.0031361\n",
       "   7  0.3398     0.0052320\n",
       "   9  0.3456     0.0067162\n",
       "  11  0.3454    -0.0001731\n",
       "  13  0.3512     0.0059354\n",
       "  15  0.3529     0.0050043\n",
       "  17  0.3526     0.0021470\n",
       "  19  0.3519    -0.0011296\n",
       "  21  0.3497    -0.0065015\n",
       "  23  0.3519    -0.0044468\n",
       "  25  0.3467    -0.0140404\n",
       "  27  0.3473    -0.0147368\n",
       "  29  0.3413    -0.0244012\n",
       "  31  0.3466    -0.0170929\n",
       "  33  0.3448    -0.0208928\n",
       "  35  0.3495    -0.0144542\n",
       "  37  0.3500    -0.0144856\n",
       "  39  0.3491    -0.0164655\n",
       "  41  0.3541    -0.0095169\n",
       "  43  0.3521    -0.0132306\n",
       "\n",
       "Accuracy was used to select the optimal model using  the largest value.\n",
       "The final value used for the model was k = 41. "
      ]
     },
     "metadata": {},
     "output_type": "display_data"
    }
   ],
   "source": [
    "knnFit"
   ]
  },
  {
   "cell_type": "code",
   "execution_count": 350,
   "metadata": {
    "collapsed": false
   },
   "outputs": [
    {
     "data": {},
     "metadata": {},
     "output_type": "display_data"
    },
    {
     "data": {
      "image/png": "[encoded data removed]",
      "text/plain": [
       "plot without title"
      ]
     },
     "metadata": {},
     "output_type": "display_data"
    }
   ],
   "source": [
    "#Plotting yields Number of Neighbours Vs accuracy (based on repeated cross validation)\n",
    "plot(knnFit)"
   ]
  },
  {
   "cell_type": "code",
   "execution_count": 351,
   "metadata": {
    "collapsed": true
   },
   "outputs": [],
   "source": [
    "pred_knn <- predict(knnFit,newdata = test )"
   ]
  },
  {
   "cell_type": "code",
   "execution_count": 352,
   "metadata": {
    "collapsed": false
   },
   "outputs": [
    {
     "data": {
      "text/plain": [
       "Confusion Matrix and Statistics\n",
       "\n",
       "          Reference\n",
       "Prediction   0   1   2   3\n",
       "         0 101 109   4   0\n",
       "         1  91 110   3   0\n",
       "         2  77  66   4   0\n",
       "         3  21  13   1   0\n",
       "\n",
       "Overall Statistics\n",
       "                                             \n",
       "               Accuracy : 0.358              \n",
       "                 95% CI : (0.32, 0.398)      \n",
       "    No Information Rate : 0.497              \n",
       "    P-Value [Acc > NIR] : 1                  \n",
       "                                             \n",
       "                  Kappa : 0.019              \n",
       " Mcnemar's Test P-Value : <0.0000000000000002\n",
       "\n",
       "Statistics by Class:\n",
       "\n",
       "                     Class: 0 Class: 1 Class: 2 Class: 3\n",
       "Sensitivity             0.348    0.369  0.33333       NA\n",
       "Specificity             0.635    0.689  0.75680   0.9417\n",
       "Pos Pred Value          0.472    0.539  0.02721       NA\n",
       "Neg Pred Value          0.510    0.525  0.98234       NA\n",
       "Prevalence              0.483    0.497  0.02000   0.0000\n",
       "Detection Rate          0.168    0.183  0.00667   0.0000\n",
       "Detection Prevalence    0.357    0.340  0.24500   0.0583\n",
       "Balanced Accuracy       0.492    0.529  0.54507       NA"
      ]
     },
     "metadata": {},
     "output_type": "display_data"
    }
   ],
   "source": [
    "confusionMatrix(actual, pred_knn )"
   ]
  },
  {
   "cell_type": "markdown",
   "metadata": {},
   "source": [
    "---\n",
    "# 8. Support Vector Machine\n",
    "(Peter Tadich)"
   ]
  },
  {
   "cell_type": "code",
   "execution_count": 83,
   "metadata": {
    "collapsed": false
   },
   "outputs": [],
   "source": [
    "prostateDatasetTrain_modified <- train\n",
    "prostateDatasetTest_modified<- test"
   ]
  },
  {
   "cell_type": "markdown",
   "metadata": {},
   "source": [
    "#### Response variable to factor."
   ]
  },
  {
   "cell_type": "code",
   "execution_count": 84,
   "metadata": {
    "collapsed": false
   },
   "outputs": [],
   "source": [
    "# Encode response 'Result' as a factor variable to perform classification.\n",
    "prostateDatasetTrain_modified[['Result']] <- as.factor(prostateDatasetTrain_modified[['Result']]);\n",
    "# Do the same for the test set.\n",
    "prostateDatasetTest_modified[['Result']] <- as.factor(prostateDatasetTest_modified[['Result']]);"
   ]
  },
  {
   "cell_type": "markdown",
   "metadata": {},
   "source": [
    "#### Predictor matrix"
   ]
  },
  {
   "cell_type": "code",
   "execution_count": 85,
   "metadata": {
    "collapsed": true
   },
   "outputs": [],
   "source": [
    "# All predictors to a matrix.\n",
    "x <- data.matrix(subset(prostateDatasetTrain_modified, select = -c(Result)));"
   ]
  },
  {
   "cell_type": "code",
   "execution_count": 86,
   "metadata": {
    "collapsed": false
   },
   "outputs": [
    {
     "data": {
      "text/html": [
       "<table>\n",
       "<thead><tr><th></th><th scope=col>ATT1</th><th scope=col>ATT2</th><th scope=col>ATT3</th><th scope=col>ATT4</th><th scope=col>ATT5</th><th scope=col>ATT6</th><th scope=col>ATT7</th><th scope=col>ATT8</th><th scope=col>ATT9</th><th scope=col>ATT10</th></tr></thead>\n",
       "<tbody>\n",
       "\t<tr><th scope=row>863</th><td> 5</td><td> 8</td><td>10</td><td> 9</td><td> 2</td><td> 2</td><td> 8</td><td> 6</td><td> 2</td><td> 3</td></tr>\n",
       "\t<tr><th scope=row>2365</th><td>4</td><td>4</td><td>2</td><td>4</td><td>4</td><td>1</td><td>3</td><td>7</td><td>3</td><td>9</td></tr>\n",
       "\t<tr><th scope=row>1227</th><td>7</td><td>4</td><td>9</td><td>2</td><td>4</td><td>2</td><td>3</td><td>9</td><td>9</td><td>8</td></tr>\n",
       "\t<tr><th scope=row>2647</th><td> 5</td><td> 5</td><td> 7</td><td> 2</td><td> 4</td><td> 1</td><td> 8</td><td>10</td><td> 1</td><td> 7</td></tr>\n",
       "\t<tr><th scope=row>2818</th><td>10</td><td> 1</td><td> 2</td><td> 5</td><td> 7</td><td> 2</td><td> 8</td><td> 5</td><td> 9</td><td> 5</td></tr>\n",
       "</tbody>\n",
       "</table>\n"
      ],
      "text/latex": [
       "\\begin{tabular}{r|llllllllll}\n",
       "  & ATT1 & ATT2 & ATT3 & ATT4 & ATT5 & ATT6 & ATT7 & ATT8 & ATT9 & ATT10\\\\\n",
       "\\hline\n",
       "\t863 &  5 &  8 & 10 &  9 &  2 &  2 &  8 &  6 &  2 &  3\\\\\n",
       "\t2365 & 4 & 4 & 2 & 4 & 4 & 1 & 3 & 7 & 3 & 9\\\\\n",
       "\t1227 & 7 & 4 & 9 & 2 & 4 & 2 & 3 & 9 & 9 & 8\\\\\n",
       "\t2647 &  5 &  5 &  7 &  2 &  4 &  1 &  8 & 10 &  1 &  7\\\\\n",
       "\t2818 & 10 &  1 &  2 &  5 &  7 &  2 &  8 &  5 &  9 &  5\\\\\n",
       "\\end{tabular}\n"
      ],
      "text/markdown": [
       "1. 5\n",
       "2. 4\n",
       "3. 7\n",
       "4. 5\n",
       "5. 10\n",
       "6. 8\n",
       "7. 4\n",
       "8. 4\n",
       "9. 5\n",
       "10. 1\n",
       "11. 10\n",
       "12. 2\n",
       "13. 9\n",
       "14. 7\n",
       "15. 2\n",
       "16. 9\n",
       "17. 4\n",
       "18. 2\n",
       "19. 2\n",
       "20. 5\n",
       "21. 2\n",
       "22. 4\n",
       "23. 4\n",
       "24. 4\n",
       "25. 7\n",
       "26. 2\n",
       "27. 1\n",
       "28. 2\n",
       "29. 1\n",
       "30. 2\n",
       "31. 8\n",
       "32. 3\n",
       "33. 3\n",
       "34. 8\n",
       "35. 8\n",
       "36. 6\n",
       "37. 7\n",
       "38. 9\n",
       "39. 10\n",
       "40. 5\n",
       "41. 2\n",
       "42. 3\n",
       "43. 9\n",
       "44. 1\n",
       "45. 9\n",
       "46. 3\n",
       "47. 9\n",
       "48. 8\n",
       "49. 7\n",
       "50. 5\n",
       "\n",
       "\n"
      ],
      "text/plain": [
       "     ATT1 ATT2 ATT3 ATT4 ATT5 ATT6 ATT7 ATT8 ATT9 ATT10\n",
       "863     5    8   10    9    2    2    8    6    2     3\n",
       "2365    4    4    2    4    4    1    3    7    3     9\n",
       "1227    7    4    9    2    4    2    3    9    9     8\n",
       "2647    5    5    7    2    4    1    8   10    1     7\n",
       "2818   10    1    2    5    7    2    8    5    9     5"
      ]
     },
     "metadata": {},
     "output_type": "display_data"
    }
   ],
   "source": [
    "x[1:5,];"
   ]
  },
  {
   "cell_type": "code",
   "execution_count": 87,
   "metadata": {
    "collapsed": true
   },
   "outputs": [],
   "source": [
    "# Do the same for the test set.\n",
    "x_test <- data.matrix(subset(prostateDatasetTest_modified, select = -c(Result)));"
   ]
  },
  {
   "cell_type": "code",
   "execution_count": 88,
   "metadata": {
    "collapsed": false
   },
   "outputs": [
    {
     "data": {
      "text/html": [
       "<table>\n",
       "<thead><tr><th></th><th scope=col>ATT1</th><th scope=col>ATT2</th><th scope=col>ATT3</th><th scope=col>ATT4</th><th scope=col>ATT5</th><th scope=col>ATT6</th><th scope=col>ATT7</th><th scope=col>ATT8</th><th scope=col>ATT9</th><th scope=col>ATT10</th></tr></thead>\n",
       "<tbody>\n",
       "\t<tr><th scope=row>1</th><td>2</td><td>4</td><td>2</td><td>6</td><td>5</td><td>7</td><td>1</td><td>2</td><td>6</td><td>8</td></tr>\n",
       "\t<tr><th scope=row>11</th><td>10</td><td> 3</td><td> 7</td><td> 9</td><td> 9</td><td> 5</td><td> 2</td><td> 3</td><td> 2</td><td> 6</td></tr>\n",
       "\t<tr><th scope=row>12</th><td> 8</td><td> 2</td><td> 4</td><td> 2</td><td> 2</td><td> 2</td><td> 4</td><td> 8</td><td> 6</td><td>10</td></tr>\n",
       "\t<tr><th scope=row>13</th><td> 7</td><td> 2</td><td>10</td><td> 7</td><td>10</td><td> 1</td><td> 3</td><td> 6</td><td> 2</td><td> 1</td></tr>\n",
       "\t<tr><th scope=row>14</th><td> 9</td><td>10</td><td> 9</td><td> 3</td><td> 4</td><td> 6</td><td> 9</td><td> 6</td><td> 4</td><td> 2</td></tr>\n",
       "</tbody>\n",
       "</table>\n"
      ],
      "text/latex": [
       "\\begin{tabular}{r|llllllllll}\n",
       "  & ATT1 & ATT2 & ATT3 & ATT4 & ATT5 & ATT6 & ATT7 & ATT8 & ATT9 & ATT10\\\\\n",
       "\\hline\n",
       "\t1 & 2 & 4 & 2 & 6 & 5 & 7 & 1 & 2 & 6 & 8\\\\\n",
       "\t11 & 10 &  3 &  7 &  9 &  9 &  5 &  2 &  3 &  2 &  6\\\\\n",
       "\t12 &  8 &  2 &  4 &  2 &  2 &  2 &  4 &  8 &  6 & 10\\\\\n",
       "\t13 &  7 &  2 & 10 &  7 & 10 &  1 &  3 &  6 &  2 &  1\\\\\n",
       "\t14 &  9 & 10 &  9 &  3 &  4 &  6 &  9 &  6 &  4 &  2\\\\\n",
       "\\end{tabular}\n"
      ],
      "text/markdown": [
       "1. 2\n",
       "2. 10\n",
       "3. 8\n",
       "4. 7\n",
       "5. 9\n",
       "6. 4\n",
       "7. 3\n",
       "8. 2\n",
       "9. 2\n",
       "10. 10\n",
       "11. 2\n",
       "12. 7\n",
       "13. 4\n",
       "14. 10\n",
       "15. 9\n",
       "16. 6\n",
       "17. 9\n",
       "18. 2\n",
       "19. 7\n",
       "20. 3\n",
       "21. 5\n",
       "22. 9\n",
       "23. 2\n",
       "24. 10\n",
       "25. 4\n",
       "26. 7\n",
       "27. 5\n",
       "28. 2\n",
       "29. 1\n",
       "30. 6\n",
       "31. 1\n",
       "32. 2\n",
       "33. 4\n",
       "34. 3\n",
       "35. 9\n",
       "36. 2\n",
       "37. 3\n",
       "38. 8\n",
       "39. 6\n",
       "40. 6\n",
       "41. 6\n",
       "42. 2\n",
       "43. 6\n",
       "44. 2\n",
       "45. 4\n",
       "46. 8\n",
       "47. 6\n",
       "48. 10\n",
       "49. 1\n",
       "50. 2\n",
       "\n",
       "\n"
      ],
      "text/plain": [
       "   ATT1 ATT2 ATT3 ATT4 ATT5 ATT6 ATT7 ATT8 ATT9 ATT10\n",
       "1     2    4    2    6    5    7    1    2    6     8\n",
       "11   10    3    7    9    9    5    2    3    2     6\n",
       "12    8    2    4    2    2    2    4    8    6    10\n",
       "13    7    2   10    7   10    1    3    6    2     1\n",
       "14    9   10    9    3    4    6    9    6    4     2"
      ]
     },
     "metadata": {},
     "output_type": "display_data"
    }
   ],
   "source": [
    "x_test[1:5,];"
   ]
  },
  {
   "cell_type": "markdown",
   "metadata": {},
   "source": [
    "#### Response vector"
   ]
  },
  {
   "cell_type": "code",
   "execution_count": 89,
   "metadata": {
    "collapsed": true
   },
   "outputs": [],
   "source": [
    "# Response vector.\n",
    "y <- prostateDatasetTrain_modified[['Result']];"
   ]
  },
  {
   "cell_type": "code",
   "execution_count": 90,
   "metadata": {
    "collapsed": true
   },
   "outputs": [],
   "source": [
    "# Do the same for the test set.\n",
    "y_test <- prostateDatasetTest_modified[['Result']];"
   ]
  },
  {
   "cell_type": "markdown",
   "metadata": {},
   "source": [
    "#### Dealing with class imbalance"
   ]
  },
  {
   "cell_type": "code",
   "execution_count": 91,
   "metadata": {
    "collapsed": true
   },
   "outputs": [],
   "source": [
    "# Down-sampling.\n",
    "#xy <- downSample(x, y, list = FALSE, yname = 'Result');\n",
    "\n",
    "# Up-sampling.\n",
    "xy <- upSample(x, y, list = FALSE, yname = 'Result');"
   ]
  },
  {
   "cell_type": "code",
   "execution_count": 92,
   "metadata": {
    "collapsed": false
   },
   "outputs": [
    {
     "data": {
      "text/plain": [
       "\n",
       "  0   1   2   3 \n",
       "876 876 876 876 "
      ]
     },
     "metadata": {},
     "output_type": "display_data"
    }
   ],
   "source": [
    "# The classes are now balanced.\n",
    "table(xy$Result);"
   ]
  },
  {
   "cell_type": "code",
   "execution_count": 93,
   "metadata": {
    "collapsed": true
   },
   "outputs": [],
   "source": [
    "# Randomize the classes as the classes are now blocks. First class takes rows 1 to n, second class n+1 to m etc...\n",
    "indices <- sample(1:dim(xy)[1], dim(xy)[1], replace=FALSE);\n",
    "if(length(unique(indices)) != dim(xy)[1]){\n",
    "    cat('Warning: non-unique indices created.');\n",
    "}"
   ]
  },
  {
   "cell_type": "code",
   "execution_count": 94,
   "metadata": {
    "collapsed": false
   },
   "outputs": [
    {
     "data": {
      "text/html": [
       "<table>\n",
       "<thead><tr><th></th><th scope=col>ATT1</th><th scope=col>ATT2</th><th scope=col>ATT3</th><th scope=col>ATT4</th><th scope=col>ATT5</th><th scope=col>ATT6</th><th scope=col>ATT7</th><th scope=col>ATT8</th><th scope=col>ATT9</th><th scope=col>ATT10</th><th scope=col>Result</th></tr></thead>\n",
       "<tbody>\n",
       "\t<tr><th scope=row>1</th><td>7 </td><td>3 </td><td>5 </td><td>4 </td><td>10</td><td>7 </td><td>3 </td><td>3 </td><td>3 </td><td>1 </td><td>1 </td></tr>\n",
       "\t<tr><th scope=row>2</th><td>4</td><td>6</td><td>5</td><td>7</td><td>4</td><td>7</td><td>2</td><td>6</td><td>3</td><td>3</td><td>2</td></tr>\n",
       "\t<tr><th scope=row>3</th><td>5</td><td>2</td><td>4</td><td>4</td><td>5</td><td>5</td><td>3</td><td>6</td><td>4</td><td>8</td><td>0</td></tr>\n",
       "\t<tr><th scope=row>4</th><td>5 </td><td>1 </td><td>10</td><td>8 </td><td>3 </td><td>6 </td><td>4 </td><td>9 </td><td>5 </td><td>4 </td><td>0 </td></tr>\n",
       "\t<tr><th scope=row>5</th><td>10</td><td>4 </td><td>2 </td><td>5 </td><td>8 </td><td>1 </td><td>6 </td><td>4 </td><td>4 </td><td>1 </td><td>2 </td></tr>\n",
       "</tbody>\n",
       "</table>\n"
      ],
      "text/latex": [
       "\\begin{tabular}{r|lllllllllll}\n",
       "  & ATT1 & ATT2 & ATT3 & ATT4 & ATT5 & ATT6 & ATT7 & ATT8 & ATT9 & ATT10 & Result\\\\\n",
       "\\hline\n",
       "\t1 & 7  & 3  & 5  & 4  & 10 & 7  & 3  & 3  & 3  & 1  & 1 \\\\\n",
       "\t2 & 4 & 6 & 5 & 7 & 4 & 7 & 2 & 6 & 3 & 3 & 2\\\\\n",
       "\t3 & 5 & 2 & 4 & 4 & 5 & 5 & 3 & 6 & 4 & 8 & 0\\\\\n",
       "\t4 & 5  & 1  & 10 & 8  & 3  & 6  & 4  & 9  & 5  & 4  & 0 \\\\\n",
       "\t5 & 10 & 4  & 2  & 5  & 8  & 1  & 6  & 4  & 4  & 1  & 2 \\\\\n",
       "\\end{tabular}\n"
      ],
      "text/plain": [
       "  ATT1 ATT2 ATT3 ATT4 ATT5 ATT6 ATT7 ATT8 ATT9 ATT10 Result\n",
       "1    7    3    5    4   10    7    3    3    3     1      1\n",
       "2    4    6    5    7    4    7    2    6    3     3      2\n",
       "3    5    2    4    4    5    5    3    6    4     8      0\n",
       "4    5    1   10    8    3    6    4    9    5     4      0\n",
       "5   10    4    2    5    8    1    6    4    4     1      2"
      ]
     },
     "metadata": {},
     "output_type": "display_data"
    }
   ],
   "source": [
    "xy <- data.frame(xy)[indices, ];\n",
    "rownames(xy) <- NULL;\n",
    "head(xy, 5);"
   ]
  },
  {
   "cell_type": "code",
   "execution_count": 95,
   "metadata": {
    "collapsed": false
   },
   "outputs": [
    {
     "name": "stdout",
     "output_type": "stream",
     "text": [
      "Number of samples:  3504"
     ]
    }
   ],
   "source": [
    "cat('Number of samples: ', dim(xy)[1]);"
   ]
  },
  {
   "cell_type": "markdown",
   "metadata": {},
   "source": [
    "#### Create predictor matrix, response vector"
   ]
  },
  {
   "cell_type": "code",
   "execution_count": 96,
   "metadata": {
    "collapsed": true
   },
   "outputs": [],
   "source": [
    "# Predictor matrix - all predictors to a matrix.\n",
    "x <- data.matrix(subset(xy, select = -c(Result)));"
   ]
  },
  {
   "cell_type": "code",
   "execution_count": 97,
   "metadata": {
    "collapsed": true
   },
   "outputs": [],
   "source": [
    "# Response vector.\n",
    "y <- xy[['Result']];"
   ]
  },
  {
   "cell_type": "markdown",
   "metadata": {},
   "source": [
    "#### Setup dataframe for recursive feature elimination"
   ]
  },
  {
   "cell_type": "code",
   "execution_count": 98,
   "metadata": {
    "collapsed": true
   },
   "outputs": [],
   "source": [
    "# Create the 'predictor' vectors.\n",
    "predictors <- subset(xy, select = -c(Result)); # Drop 'Result'"
   ]
  },
  {
   "cell_type": "code",
   "execution_count": 99,
   "metadata": {
    "collapsed": true
   },
   "outputs": [],
   "source": [
    "# Create the 'response' vector.\n",
    "response <- xy$Result;"
   ]
  },
  {
   "cell_type": "code",
   "execution_count": 100,
   "metadata": {
    "collapsed": true
   },
   "outputs": [],
   "source": [
    "# Combine the 'response' with the 'predictors'.\n",
    "adData <- predictors;\n",
    "adData$Result <- response;"
   ]
  },
  {
   "cell_type": "markdown",
   "metadata": {},
   "source": [
    "### SVM setup"
   ]
  },
  {
   "cell_type": "code",
   "execution_count": 101,
   "metadata": {
    "collapsed": true
   },
   "outputs": [],
   "source": [
    "# Create a split vector to be used to create a training set and a test set.\n",
    "set.seed(658);\n",
    "split <- createDataPartition(response, p = .8, list = FALSE);\n",
    "\n",
    "# Now create 'training' and 'test' datasets.\n",
    "training <- adData[ split, ];\n",
    "testing  <- adData[-split, ];\n",
    "\n",
    "# Get the 'predictor' names.\n",
    "predVars <- names(adData)[!(names(adData) %in% c(\"Result\"))];\n",
    "\n",
    "# Create the cross-validation files as a list to use with different functions.\n",
    "set.seed(294);\n",
    "index <- createMultiFolds(training$Result, times = 5);\n",
    "\n",
    "## The candidate set of the number of predictors to evaluate\n",
    "varSeq <- seq(9,length(predVars),1);"
   ]
  },
  {
   "cell_type": "code",
   "execution_count": 102,
   "metadata": {
    "collapsed": true
   },
   "outputs": [],
   "source": [
    "rank <- function (object, x, y) \n",
    "{\n",
    "    cat('rank\\n')\n",
    "    cat('Model type: ', object$modelType, '\\n')\n",
    "    vimp <- varImp(object, scale = FALSE)$importance\n",
    "    cat('vimp colnames: ', colnames(vimp), '\\n')\n",
    "    cat('levels (before): ', levels(y), '\\n')\n",
    "    # Rename by name: change \"0\" to \"X0\"\n",
    "    levels(y)[levels(y)==\"0\"] <- \"X0\"\n",
    "    levels(y)[levels(y)==\"1\"] <- \"X1\"\n",
    "    levels(y)[levels(y)==\"2\"] <- \"X2\"\n",
    "    levels(y)[levels(y)==\"3\"] <- \"X3\"\n",
    "    cat('levels (after): ', levels(y), '\\n')\n",
    "    if (object$modelType == \"Regression\") {\n",
    "        vimp <- vimp[order(vimp[, 1], decreasing = TRUE), , drop = FALSE]\n",
    "    }\n",
    "    else {\n",
    "        if (all(levels(y) %in% colnames(vimp))) {\n",
    "            avImp <- apply(vimp[, levels(y), drop = TRUE], 1, \n",
    "                mean)\n",
    "            vimp$Overall <- avImp\n",
    "        }\n",
    "    }\n",
    "    vimp$var <- rownames(vimp)\n",
    "    cat(dim(vimp), '\\n')\n",
    "    vimp\n",
    "}"
   ]
  },
  {
   "cell_type": "code",
   "execution_count": 103,
   "metadata": {
    "collapsed": true
   },
   "outputs": [],
   "source": [
    "selectSize <- function (x, metric, maximize) \n",
    "    {\n",
    "        cat('selectSize\\n')\n",
    "        cat(dim(x), '\\n')\n",
    "        cat(names(x), '\\n')\n",
    "        cat(metric, '\\n');\n",
    "        best <- if (maximize) \n",
    "            which.max(x[, metric])\n",
    "        else which.min(x[, metric])\n",
    "        cat('Optimal number of predictors: ', min(x[best, \"Variables\"]), '\\n')\n",
    "        min(x[best, \"Variables\"])\n",
    "    }"
   ]
  },
  {
   "cell_type": "code",
   "execution_count": 104,
   "metadata": {
    "collapsed": true
   },
   "outputs": [],
   "source": [
    "selectVar <- function (y, size) \n",
    "{\n",
    "    cat('selectVar:\\n')\n",
    "    cat(dim(y), '\\n')\n",
    "    cat(names(y), '\\n')\n",
    "    cat('size: ', size, '\\n')\n",
    "    finalImp <- ddply(y[, c(\"Overall\", \"var\")], .(var), function(x) mean(x$Overall, \n",
    "        na.rm = TRUE))\n",
    "    names(finalImp)[2] <- \"Overall\"\n",
    "    finalImp <- finalImp[order(finalImp$Overall, decreasing = TRUE), ]\n",
    "    as.character(finalImp$var[1:size])\n",
    "}"
   ]
  },
  {
   "cell_type": "code",
   "execution_count": 105,
   "metadata": {
    "collapsed": true
   },
   "outputs": [],
   "source": [
    "ctrl <- rfeControl(method = \"repeatedcv\",\n",
    "    repeats = 5,\n",
    "    saveDetails = TRUE,\n",
    "    index = index,\n",
    "    returnResamp = \"final\",\n",
    "    verbose = TRUE,\n",
    "    allowParallel = TRUE);\n",
    "\n",
    "# 'caretFuncs' list allows for a model to be tuned at each iteration of feature seleciton.\n",
    "ctrl$functions <- caretFuncs;\n",
    "# These summary functions are used to evaluate the models.\n",
    "ctrl$functions$summary <- multiClassSummary;"
   ]
  },
  {
   "cell_type": "code",
   "execution_count": 106,
   "metadata": {
    "collapsed": false
   },
   "outputs": [],
   "source": [
    "ctrl$functions$rank <- rank;\n",
    "ctrl$functions$selectSize <- selectSize;\n",
    "ctrl$functions$selectVar <- selectVar;\n",
    "# IMPORTANT: To list the 'functions' execute 'ctrl$functions'.\n",
    "#ctrl$functions;"
   ]
  },
  {
   "cell_type": "code",
   "execution_count": 107,
   "metadata": {
    "collapsed": true
   },
   "outputs": [],
   "source": [
    "# Run model tuning sequentially.\n",
    "cvCtrl <- trainControl(method = \"repeatedcv\",\n",
    "    verboseIter = FALSE,\n",
    "    classProbs = FALSE,\n",
    "    allowParallel = TRUE,\n",
    "    summaryFunction = multiClassSummary);"
   ]
  },
  {
   "cell_type": "code",
   "execution_count": 108,
   "metadata": {
    "collapsed": true
   },
   "outputs": [],
   "source": [
    "# Setup tuning parameters.\n",
    "set.seed(201);\n",
    "SVM_MODEL = 'svmPoly';\n",
    "if(SVM_MODEL == 'svmRadial'){ # svmRadial\n",
    "    sigmaRangeFull <- sigest(array(unlist(training), dim = dim(training)));\n",
    "    svmRGridFull <- expand.grid(sigma = as.vector(sigmaRangeFull)[1], C = 2^(-3:3));\n",
    "} else { # svmPoly\n",
    "    #svmRGridFull <- expand.grid(scale = 2^(-1:1), degree = c(3), C = 2^(-3:3));\n",
    "    svmRGridFull <- expand.grid(scale = c(1.0, 10.0, 100.0), degree = 1, C = c(0.03125, 0.0625, 0.125));\n",
    "}"
   ]
  },
  {
   "cell_type": "code",
   "execution_count": null,
   "metadata": {
    "collapsed": false
   },
   "outputs": [],
   "source": [
    "# Run recursive feature elimination to do feature selection on svm model. \n",
    "if(TRUE){\n",
    "\n",
    "    # Do parallel computation.\n",
    "    cores <- 4;\n",
    "    registerDoParallel(cores=cores); # Parallel computation.\n",
    "\n",
    "    ### Do search - start.\n",
    "    # Recursive feature elimiation.\n",
    "    set.seed(321);\n",
    "    svmRFE <- rfe(\n",
    "        training[, predVars], # predictor variables\n",
    "        training$Result, # response variable\n",
    "        sizes = varSeq,\n",
    "        metric = 'Accuracy',\n",
    "        rfeControl = ctrl,\n",
    "        method = 'svmPoly', # Or 'svmRadial' (but must change 'tuneGrid').\n",
    "        #tuneGrid = svmRGridFull,\n",
    "        tuneGrid = expand.grid(scale = c(10.0), degree = 1, C = c(0.0625)), # NOTE: degree = 1\n",
    "        preProc = c('center', 'scale'),\n",
    "        fit = TRUE,\n",
    "        trControl = cvCtrl);\n",
    "    ### Do search - end.\n",
    "\n",
    "    # Shut down parallel computation.\n",
    "    stopImplicitCluster();\n",
    "    \n",
    "}"
   ]
  },
  {
   "cell_type": "code",
   "execution_count": 84,
   "metadata": {
    "collapsed": false
   },
   "outputs": [
    {
     "data": {
      "text/html": [
       "<ol class=list-inline>\n",
       "\t<li>\"ATT9\"</li>\n",
       "\t<li>\"ATT10\"</li>\n",
       "\t<li>\"ATT6\"</li>\n",
       "\t<li>\"ATT3\"</li>\n",
       "\t<li>\"ATT1\"</li>\n",
       "\t<li>\"ATT2\"</li>\n",
       "\t<li>\"ATT7\"</li>\n",
       "\t<li>\"ATT4\"</li>\n",
       "\t<li>\"ATT8\"</li>\n",
       "\t<li>\"ATT5\"</li>\n",
       "</ol>\n"
      ],
      "text/latex": [
       "\\begin{enumerate*}\n",
       "\\item \"ATT9\"\n",
       "\\item \"ATT10\"\n",
       "\\item \"ATT6\"\n",
       "\\item \"ATT3\"\n",
       "\\item \"ATT1\"\n",
       "\\item \"ATT2\"\n",
       "\\item \"ATT7\"\n",
       "\\item \"ATT4\"\n",
       "\\item \"ATT8\"\n",
       "\\item \"ATT5\"\n",
       "\\end{enumerate*}\n"
      ],
      "text/markdown": [
       "1. \"ATT9\"\n",
       "2. \"ATT10\"\n",
       "3. \"ATT6\"\n",
       "4. \"ATT3\"\n",
       "5. \"ATT1\"\n",
       "6. \"ATT2\"\n",
       "7. \"ATT7\"\n",
       "8. \"ATT4\"\n",
       "9. \"ATT8\"\n",
       "10. \"ATT5\"\n",
       "\n",
       "\n"
      ],
      "text/plain": [
       " [1] \"ATT9\"  \"ATT10\" \"ATT6\"  \"ATT3\"  \"ATT1\"  \"ATT2\"  \"ATT7\"  \"ATT4\"  \"ATT8\" \n",
       "[10] \"ATT5\" "
      ]
     },
     "metadata": {},
     "output_type": "display_data"
    }
   ],
   "source": [
    "# Variable names that were picked in the final model.\n",
    "namesPicked <- predictors(svmRFE);\n",
    "namesPicked;\n",
    "\n",
    "# Order of importance:\n",
    "# 'ATT4' 'ATT9' 'ATT3' 'ATT10' 'ATT2' 'ATT1' 'ATT6' 'ATT7' 'ATT5' 'ATT8'"
   ]
  },
  {
   "cell_type": "code",
   "execution_count": 85,
   "metadata": {
    "collapsed": false
   },
   "outputs": [
    {
     "data": {
      "text/plain": [
       "\n",
       "Recursive feature selection\n",
       "\n",
       "Outer resampling method: Cross-Validated (10 fold, repeated 5 times) \n",
       "\n",
       "Resampling performance over subset size:\n",
       "\n",
       " Variables Accuracy   Kappa Mean_Sensitivity Mean_Specificity\n",
       "         9    0.255 0.00717            0.255            0.752\n",
       "        10    0.260 0.01372            0.260            0.753\n",
       " Mean_Pos_Pred_Value Mean_Neg_Pred_Value Mean_Detection_Rate\n",
       "               0.256               0.752              0.0638\n",
       "               0.262               0.753              0.0651\n",
       " Mean_Balanced_Accuracy AccuracySD KappaSD Mean_SensitivitySD\n",
       "                  0.504     0.0235  0.0314             0.0235\n",
       "                  0.507     0.0269  0.0358             0.0269\n",
       " Mean_SpecificitySD Mean_Pos_Pred_ValueSD Mean_Neg_Pred_ValueSD\n",
       "            0.00784                0.0234               0.00847\n",
       "            0.00895                0.0282               0.00929\n",
       " Mean_Detection_RateSD Mean_Balanced_AccuracySD Selected\n",
       "               0.00589                   0.0157         \n",
       "               0.00672                   0.0179        *\n",
       "\n",
       "The top 5 variables (out of 10):\n",
       "   ATT9, ATT10, ATT6, ATT3, ATT1\n"
      ]
     },
     "metadata": {},
     "output_type": "display_data"
    }
   ],
   "source": [
    "svmRFE;"
   ]
  },
  {
   "cell_type": "code",
   "execution_count": 124,
   "metadata": {
    "collapsed": false
   },
   "outputs": [],
   "source": [
    "pred_svm <- predict(svmRFE, prostateDatasetTest_modified[, predVars])"
   ]
  },
  {
   "cell_type": "code",
   "execution_count": 125,
   "metadata": {
    "collapsed": false
   },
   "outputs": [
    {
     "data": {
      "text/plain": [
       "Confusion Matrix and Statistics\n",
       "\n",
       "          Reference\n",
       "Prediction  0  1  2  3\n",
       "         0 44 42 47 81\n",
       "         1 51 46 52 55\n",
       "         2 35 39 29 44\n",
       "         3  6  8  7 14\n",
       "\n",
       "Overall Statistics\n",
       "                                             \n",
       "               Accuracy : 0.222              \n",
       "                 95% CI : (0.189, 0.257)     \n",
       "    No Information Rate : 0.323              \n",
       "    P-Value [Acc > NIR] : 1                  \n",
       "                                             \n",
       "                  Kappa : -0.013             \n",
       " Mcnemar's Test P-Value : <0.0000000000000002\n",
       "\n",
       "Statistics by Class:\n",
       "\n",
       "                     Class: 0 Class: 1 Class: 2 Class: 3\n",
       "Sensitivity            0.3235   0.3407   0.2148   0.0722\n",
       "Specificity            0.6336   0.6602   0.7462   0.9483\n",
       "Pos Pred Value         0.2056   0.2255   0.1973   0.4000\n",
       "Neg Pred Value         0.7617   0.7753   0.7660   0.6814\n",
       "Prevalence             0.2267   0.2250   0.2250   0.3233\n",
       "Detection Rate         0.0733   0.0767   0.0483   0.0233\n",
       "Detection Prevalence   0.3567   0.3400   0.2450   0.0583\n",
       "Balanced Accuracy      0.4786   0.5005   0.4805   0.5102"
      ]
     },
     "metadata": {},
     "output_type": "display_data"
    }
   ],
   "source": [
    "confusionMatrix(actual, pred_svm)"
   ]
  },
  {
   "cell_type": "code",
   "execution_count": 86,
   "metadata": {
    "collapsed": false
   },
   "outputs": [
    {
     "data": {
      "text/plain": [
       "   \n",
       "     0  1  2  3\n",
       "  0 44 51 35  6\n",
       "  1 42 46 39  8\n",
       "  2 47 52 29  7\n",
       "  3 81 55 44 14"
      ]
     },
     "metadata": {},
     "output_type": "display_data"
    }
   ],
   "source": [
    "# Create the confusion matrix - test dataset.\n",
    "#table(predict(svmRFE, prostateDatasetTest_modified[, predVars]), prostateDatasetTest_modified$Result);\n",
    "\n",
    "#     0  1  2  3\n",
    "#  0 61 61 44  9\n",
    "#  1 20 18 22  6\n",
    "#  2 59 52 27  8\n",
    "#  3 74 73 54 12"
   ]
  },
  {
   "cell_type": "code",
   "execution_count": 87,
   "metadata": {
    "collapsed": false
   },
   "outputs": [
    {
     "ename": "ERROR",
     "evalue": "Error in eval(expr, envir, enclos): could not find function \"classError\"\n",
     "output_type": "error",
     "traceback": [
      "Error in eval(expr, envir, enclos): could not find function \"classError\"\nTraceback:\n"
     ]
    }
   ],
   "source": [
    "#classError(table(predict(svmRFE, prostateDatasetTest_modified[, predVars]), prostateDatasetTest_modified$Result));\n",
    "\n",
    "# Correctly  classified observations:  118 \n",
    "# Total observations:  600 \n",
    "# Accuracy:  0.1966667 \n",
    "# Classification error:  0.8033333 "
   ]
  },
  {
   "cell_type": "markdown",
   "metadata": {},
   "source": [
    "#### SVM model fit"
   ]
  },
  {
   "cell_type": "code",
   "execution_count": 126,
   "metadata": {
    "collapsed": false
   },
   "outputs": [
    {
     "data": {
      "text/html": [
       "<ol class=list-inline>\n",
       "\t<li>\"ATT1\"</li>\n",
       "\t<li>\"ATT2\"</li>\n",
       "\t<li>\"ATT4\"</li>\n",
       "\t<li>\"ATT6\"</li>\n",
       "\t<li>\"ATT7\"</li>\n",
       "\t<li>\"ATT9\"</li>\n",
       "\t<li>\"ATT10\"</li>\n",
       "</ol>\n"
      ],
      "text/latex": [
       "\\begin{enumerate*}\n",
       "\\item \"ATT1\"\n",
       "\\item \"ATT2\"\n",
       "\\item \"ATT4\"\n",
       "\\item \"ATT6\"\n",
       "\\item \"ATT7\"\n",
       "\\item \"ATT9\"\n",
       "\\item \"ATT10\"\n",
       "\\end{enumerate*}\n"
      ],
      "text/markdown": [
       "1. \"ATT1\"\n",
       "2. \"ATT2\"\n",
       "3. \"ATT4\"\n",
       "4. \"ATT6\"\n",
       "5. \"ATT7\"\n",
       "6. \"ATT9\"\n",
       "7. \"ATT10\"\n",
       "\n",
       "\n"
      ],
      "text/plain": [
       "[1] \"ATT1\"  \"ATT2\"  \"ATT4\"  \"ATT6\"  \"ATT7\"  \"ATT9\"  \"ATT10\""
      ]
     },
     "metadata": {},
     "output_type": "display_data"
    }
   ],
   "source": [
    "# Get the 'predictor' names. Keep 'ATT8' 'ATT5' 'ATT9' 'ATT2' 'ATT3' 'ATT1' 'ATT7' 'ATT10' 'ATT4'.\n",
    "namesPicked <- c(\"Result\", 'ATT3', 'ATT8', 'ATT5');\n",
    "predVarsSelected <- names(adData)[!(names(adData) %in% namesPicked)];\n",
    "predVarsSelected;"
   ]
  },
  {
   "cell_type": "code",
   "execution_count": 127,
   "metadata": {
    "collapsed": true
   },
   "outputs": [],
   "source": [
    "# Tune svm model.\n",
    "if(FALSE) {\n",
    "\n",
    "    # Do parallel computation.\n",
    "    cores <- 2;\n",
    "    registerDoParallel(cores=cores); # Parallel computation.\n",
    "    \n",
    "    set.seed(321);\n",
    "    svmFit <- train(\n",
    "        training[, predVarsSelected], # predictor variables\n",
    "        training$Result, # response variable\n",
    "        metric = 'Accuracy',\n",
    "        method = 'svmPoly', # Or 'svmRadial' (but must change 'tuneGrid').\n",
    "        #tuneGrid = svmRGridFull,\n",
    "        tuneGrid = expand.grid(scale = c(10.0), degree = 3, C = c(0.0625)),\n",
    "        preProc = c('center', 'scale'),\n",
    "        fit = TRUE,\n",
    "        trControl = cvCtrl);\n",
    "    \n",
    "    # Shut down parallel computation.\n",
    "    stopImplicitCluster();\n",
    "    \n",
    "}"
   ]
  },
  {
   "cell_type": "code",
   "execution_count": 130,
   "metadata": {
    "collapsed": false
   },
   "outputs": [
    {
     "data": {
      "text/plain": [
       "Support Vector Machines with Polynomial Kernel \n",
       "\n",
       "2804 samples\n",
       "   7 predictor\n",
       "   4 classes: 'curable', 'tumour', 'node', 'incurable' \n",
       "\n",
       "Pre-processing: centered (7), scaled (7) \n",
       "Resampling: Cross-Validated (10 fold, repeated 1 times) \n",
       "Summary of sample sizes: 2524, 2524, 2524, 2523, 2524, 2524, ... \n",
       "Resampling results:\n",
       "\n",
       "  Accuracy  Kappa   Mean_Sensitivity  Mean_Specificity  Mean_Pos_Pred_Value\n",
       "  0.3673    0.1564  0.3673            0.7891            0.3582             \n",
       "  Mean_Neg_Pred_Value  Mean_Detection_Rate  Mean_Balanced_Accuracy\n",
       "  0.7911               0.09183              0.5782                \n",
       "\n",
       "Tuning parameter 'degree' was held constant at a value of 3\n",
       "Tuning\n",
       " parameter 'scale' was held constant at a value of 10\n",
       "Tuning parameter 'C'\n",
       " was held constant at a value of 0.0625\n",
       " "
      ]
     },
     "metadata": {},
     "output_type": "display_data"
    }
   ],
   "source": [
    "svmFit;"
   ]
  },
  {
   "cell_type": "code",
   "execution_count": 131,
   "metadata": {
    "collapsed": false
   },
   "outputs": [
    {
     "ename": "ERROR",
     "evalue": "Error in eval(expr, envir, enclos): attempt to apply non-function\n",
     "output_type": "error",
     "traceback": [
      "Error in eval(expr, envir, enclos): attempt to apply non-function\nTraceback:\n"
     ]
    }
   ],
   "source": [
    "# IMPORTANT: example of how to use 'rank' function.\n",
    "#ctrl$functions$rank(svmFit, x, y);"
   ]
  },
  {
   "cell_type": "code",
   "execution_count": 132,
   "metadata": {
    "collapsed": false
   },
   "outputs": [
    {
     "data": {
      "text/plain": [
       "           \n",
       "             0  1  2  3\n",
       "  curable   75 50 41 11\n",
       "  tumour    40 58 42  7\n",
       "  node      48 42 31  7\n",
       "  incurable 51 54 33 10"
      ]
     },
     "metadata": {},
     "output_type": "display_data"
    }
   ],
   "source": [
    "#table(predict(svmFit, prostateDatasetTest_modified[, predVarsSelected]), prostateDatasetTest_modified$Result);\n",
    "\n",
    "#      0   1   2   3\n",
    "#  0  98 108  51  16\n",
    "#  1  62  60  33   7\n",
    "#  2  45  35  24  11\n",
    "#  3  19  19   9   4"
   ]
  },
  {
   "cell_type": "code",
   "execution_count": 133,
   "metadata": {
    "collapsed": true
   },
   "outputs": [],
   "source": [
    "pred_svm <- predict(svmFit, prostateDatasetTest_modified[, predVarsSelected])"
   ]
  },
  {
   "cell_type": "code",
   "execution_count": 137,
   "metadata": {
    "collapsed": false
   },
   "outputs": [
    {
     "data": {
      "text/html": [
       "<ol class=list-inline>\n",
       "\t<li>\"curable\"</li>\n",
       "\t<li>\"tumour\"</li>\n",
       "\t<li>\"node\"</li>\n",
       "\t<li>\"incurable\"</li>\n",
       "</ol>\n"
      ],
      "text/latex": [
       "\\begin{enumerate*}\n",
       "\\item \"curable\"\n",
       "\\item \"tumour\"\n",
       "\\item \"node\"\n",
       "\\item \"incurable\"\n",
       "\\end{enumerate*}\n"
      ],
      "text/markdown": [
       "1. \"curable\"\n",
       "2. \"tumour\"\n",
       "3. \"node\"\n",
       "4. \"incurable\"\n",
       "\n",
       "\n"
      ],
      "text/plain": [
       "[1] \"curable\"   \"tumour\"    \"node\"      \"incurable\""
      ]
     },
     "metadata": {},
     "output_type": "display_data"
    }
   ],
   "source": [
    "levels(pred_svm)"
   ]
  },
  {
   "cell_type": "code",
   "execution_count": 97,
   "metadata": {
    "collapsed": true
   },
   "outputs": [],
   "source": [
    "#classError(table(predict(svmFit, prostateDatasetTest_modified[, predVarsSelected]), prostateDatasetTest_modified$Result));\n",
    "\n",
    "# Correctly  classified observations:  186 \n",
    "# Total observations:  601 \n",
    "# Accuracy:  0.3094842 \n",
    "# Classification error:  0.6905158 "
   ]
  },
  {
   "cell_type": "code",
   "execution_count": 153,
   "metadata": {
    "collapsed": false
   },
   "outputs": [
    {
     "name": "stderr",
     "output_type": "stream",
     "text": [
      "Warning message in confusionMatrix.default(actual_factor, pred_svm):\n",
      "\"Levels are not in the same order for reference and data. Refactoring data to match.\""
     ]
    },
    {
     "data": {
      "text/plain": [
       "Confusion Matrix and Statistics\n",
       "\n",
       "           Reference\n",
       "Prediction  curable tumour node incurable\n",
       "  curable        75     40   48        51\n",
       "  tumour         50     58   42        54\n",
       "  node           41     42   31        33\n",
       "  incurable      11      7    7        10\n",
       "\n",
       "Overall Statistics\n",
       "                                             \n",
       "               Accuracy : 0.29               \n",
       "                 95% CI : (0.254, 0.328)     \n",
       "    No Information Rate : 0.295              \n",
       "    P-Value [Acc > NIR] : 0.621              \n",
       "                                             \n",
       "                  Kappa : 0.047              \n",
       " Mcnemar's Test P-Value : 0.00000000000000271\n",
       "\n",
       "Statistics by Class:\n",
       "\n",
       "                     Class: curable Class: tumour Class: node Class: incurable\n",
       "Sensitivity                   0.424        0.3946      0.2422           0.0676\n",
       "Specificity                   0.671        0.6777      0.7542           0.9447\n",
       "Pos Pred Value                0.350        0.2843      0.2109           0.2857\n",
       "Neg Pred Value                0.736        0.7753      0.7859           0.7558\n",
       "Prevalence                    0.295        0.2450      0.2133           0.2467\n",
       "Detection Rate                0.125        0.0967      0.0517           0.0167\n",
       "Detection Prevalence          0.357        0.3400      0.2450           0.0583\n",
       "Balanced Accuracy             0.548        0.5361      0.4982           0.5061"
      ]
     },
     "metadata": {},
     "output_type": "display_data"
    }
   ],
   "source": [
    "confusionMatrix(actual_factor, pred_svm)"
   ]
  },
  {
   "cell_type": "markdown",
   "metadata": {},
   "source": [
    "---\n",
    "# 9. Classification Trees\n",
    "(Peter Tadich)"
   ]
  },
  {
   "cell_type": "code",
   "execution_count": 98,
   "metadata": {
    "collapsed": true
   },
   "outputs": [],
   "source": [
    "# Create a classification tree using package 'C50'.\n",
    "if(TRUE){\n",
    "\n",
    "    set.seed(1);\n",
    "    treeFit <- C5.0(Result ~., data = training); # From 'C50' package.\n",
    "    \n",
    "}"
   ]
  },
  {
   "cell_type": "code",
   "execution_count": 99,
   "metadata": {
    "collapsed": false
   },
   "outputs": [
    {
     "data": {
      "text/plain": [
       "\n",
       "Call:\n",
       "C5.0.formula(formula = Result ~ ., data = training)\n",
       "\n",
       "\n",
       "C5.0 [Release 2.07 GPL Edition]  \tSat Dec 03 12:01:14 2016\n",
       "-------------------------------\n",
       "\n",
       "Class specified by attribute `outcome'\n",
       "\n",
       "Read 2804 cases (11 attributes) from undefined.data\n",
       "\n",
       "Decision tree:\n",
       "\n",
       "ATT9 <= 2:\n",
       ":...ATT7 > 8:\n",
       ":   :...ATT3 > 9:\n",
       ":   :   :...ATT7 <= 9: 2 (8)\n",
       ":   :   :   ATT7 > 9: 3 (3)\n",
       ":   :   ATT3 <= 9:\n",
       ":   :   :...ATT8 <= 1: 1 (9/4)\n",
       ":   :       ATT8 > 1:\n",
       ":   :       :...ATT8 > 8:\n",
       ":   :           :...ATT3 <= 6: 0 (5)\n",
       ":   :           :   ATT3 > 6: 1 (2)\n",
       ":   :           ATT8 <= 8:\n",
       ":   :           :...ATT1 <= 6:\n",
       ":   :               :...ATT10 > 4:\n",
       ":   :               :   :...ATT3 <= 8: 0 (11/1)\n",
       ":   :               :   :   ATT3 > 8: 2 (2)\n",
       ":   :               :   ATT10 <= 4:\n",
       ":   :               :   :...ATT9 > 1: 1 (6)\n",
       ":   :               :       ATT9 <= 1:\n",
       ":   :               :       :...ATT1 <= 3: 0 (2/1)\n",
       ":   :               :           ATT1 > 3: 2 (4/1)\n",
       ":   :               ATT1 > 6:\n",
       ":   :               :...ATT10 <= 6:\n",
       ":   :                   :...ATT1 <= 8: 2 (7)\n",
       ":   :                   :   ATT1 > 8:\n",
       ":   :                   :   :...ATT9 <= 1: 2 (3)\n",
       ":   :                   :       ATT9 > 1: 0 (4)\n",
       ":   :                   ATT10 > 6:\n",
       ":   :                   :...ATT8 > 6: 1 (3)\n",
       ":   :                       ATT8 <= 6:\n",
       ":   :                       :...ATT4 <= 7: 2 (4)\n",
       ":   :                           ATT4 > 7: 1 (3/1)\n",
       ":   ATT7 <= 8:\n",
       ":   :...ATT3 > 6:\n",
       ":       :...ATT8 > 9:\n",
       ":       :   :...ATT4 <= 5:\n",
       ":       :   :   :...ATT7 <= 4: 0 (2/1)\n",
       ":       :   :   :   ATT7 > 4: 3 (9/1)\n",
       ":       :   :   ATT4 > 5:\n",
       ":       :   :   :...ATT7 <= 5: 1 (2)\n",
       ":       :   :       ATT7 > 5: 2 (7)\n",
       ":       :   ATT8 <= 9:\n",
       ":       :   :...ATT10 > 8:\n",
       ":       :       :...ATT6 <= 4:\n",
       ":       :       :   :...ATT1 <= 5: 0 (2)\n",
       ":       :       :   :   ATT1 > 5:\n",
       ":       :       :   :   :...ATT5 <= 6: 1 (2)\n",
       ":       :       :   :       ATT5 > 6: 3 (8/1)\n",
       ":       :       :   ATT6 > 4:\n",
       ":       :       :   :...ATT2 > 2: 0 (7/1)\n",
       ":       :       :       ATT2 <= 2:\n",
       ":       :       :       :...ATT3 <= 8: 0 (2)\n",
       ":       :       :           ATT3 > 8: 2 (7)\n",
       ":       :       ATT10 <= 8:\n",
       ":       :       :...ATT3 > 8:\n",
       ":       :           :...ATT8 <= 2:\n",
       ":       :           :   :...ATT9 <= 1: 0 (14/6)\n",
       ":       :           :   :   ATT9 > 1:\n",
       ":       :           :   :   :...ATT1 > 4: 1 (6/1)\n",
       ":       :           :   :       ATT1 <= 4:\n",
       ":       :           :   :       :...ATT6 <= 3: 1 (2)\n",
       ":       :           :   :           ATT6 > 3: 0 (3/1)\n",
       ":       :           :   ATT8 > 2:\n",
       ":       :           :   :...ATT8 <= 5:\n",
       ":       :           :       :...ATT1 <= 6:\n",
       ":       :           :       :   :...ATT4 <= 9: 0 (11/2)\n",
       ":       :           :       :   :   ATT4 > 9: 1 (2/1)\n",
       ":       :           :       :   ATT1 > 6:\n",
       ":       :           :       :   :...ATT5 <= 5: 2 (10/1)\n",
       ":       :           :       :       ATT5 > 5:\n",
       ":       :           :       :       :...ATT4 <= 5: 0 (5/1)\n",
       ":       :           :       :           ATT4 > 5: 2 (7/2)\n",
       ":       :           :       ATT8 > 5:\n",
       ":       :           :       :...ATT7 > 6:\n",
       ":       :           :           :...ATT7 <= 7: 2 (6/1)\n",
       ":       :           :           :   ATT7 > 7:\n",
       ":       :           :           :   :...ATT6 <= 5: 0 (3)\n",
       ":       :           :           :       ATT6 > 5: 1 (3/1)\n",
       ":       :           :           ATT7 <= 6:\n",
       ":       :           :           :...ATT9 > 1: 1 (7/2)\n",
       ":       :           :               ATT9 <= 1:\n",
       ":       :           :               :...ATT4 > 7: 0 (7/1)\n",
       ":       :           :                   ATT4 <= 7:\n",
       ":       :           :                   :...ATT8 <= 7: 1 (12/3)\n",
       ":       :           :                       ATT8 > 7: 0 (3)\n",
       ":       :           ATT3 <= 8:\n",
       ":       :           :...ATT3 <= 7:\n",
       ":       :               :...ATT1 <= 2:\n",
       ":       :               :   :...ATT2 <= 6: 2 (9/1)\n",
       ":       :               :   :   ATT2 > 6: 0 (2)\n",
       ":       :               :   ATT1 > 2:\n",
       ":       :               :   :...ATT5 <= 4:\n",
       ":       :               :       :...ATT4 <= 4: 2 (9/2)\n",
       ":       :               :       :   ATT4 > 4: 1 (9/1)\n",
       ":       :               :       ATT5 > 4:\n",
       ":       :               :       :...ATT9 <= 1:\n",
       ":       :               :           :...ATT1 <= 8: 0 (6/1)\n",
       ":       :               :           :   ATT1 > 8: 1 (3)\n",
       ":       :               :           ATT9 > 1:\n",
       ":       :               :           :...ATT8 <= 4: 2 (5/1)\n",
       ":       :               :               ATT8 > 4: 0 (5/1)\n",
       ":       :               ATT3 > 7:\n",
       ":       :               :...ATT5 > 8:\n",
       ":       :                   :...ATT7 <= 6: 1 (3)\n",
       ":       :                   :   ATT7 > 6: 3 (2)\n",
       ":       :                   ATT5 <= 8:\n",
       ":       :                   :...ATT2 > 8:\n",
       ":       :                       :...ATT2 > 9: 1 (3)\n",
       ":       :                       :   ATT2 <= 9:\n",
       ":       :                       :   :...ATT6 <= 3: 2 (2)\n",
       ":       :                       :       ATT6 > 3: 3 (4)\n",
       ":       :                       ATT2 <= 8:\n",
       ":       :                       :...ATT10 > 7:\n",
       ":       :                           :...ATT2 <= 2: 3 (2)\n",
       ":       :                           :   ATT2 > 2: 0 (3/1)\n",
       ":       :                           ATT10 <= 7:\n",
       ":       :                           :...ATT7 > 6: 2 (10/1)\n",
       ":       :                               ATT7 <= 6:\n",
       ":       :                               :...ATT1 <= 2: 1 (5/1)\n",
       ":       :                                   ATT1 > 2:\n",
       ":       :                                   :...ATT6 > 6: 0 (3)\n",
       ":       :                                       ATT6 <= 6:\n",
       ":       :                                       :...ATT1 <= 6:\n",
       ":       :                                           :...ATT2 <= 5: 0 (8/3)\n",
       ":       :                                           :   ATT2 > 5: 1 (2)\n",
       ":       :                                           ATT1 > 6:\n",
       ":       :                                           :...ATT1 <= 9: 2 (9/2)\n",
       ":       :                                               ATT1 > 9: 1 (2)\n",
       ":       ATT3 <= 6:\n",
       ":       :...ATT8 > 9:\n",
       ":           :...ATT3 <= 4: 1 (7/1)\n",
       ":           :   ATT3 > 4:\n",
       ":           :   :...ATT3 <= 5: 0 (3)\n",
       ":           :       ATT3 > 5:\n",
       ":           :       :...ATT1 <= 5: 0 (2)\n",
       ":           :           ATT1 > 5: 1 (2)\n",
       ":           ATT8 <= 9:\n",
       ":           :...ATT7 > 4:\n",
       ":               :...ATT5 <= 3:\n",
       ":               :   :...ATT8 <= 3:\n",
       ":               :   :   :...ATT10 <= 7: 2 (12/1)\n",
       ":               :   :   :   ATT10 > 7: 1 (6/1)\n",
       ":               :   :   ATT8 > 3:\n",
       ":               :   :   :...ATT9 <= 1: 0 (3)\n",
       ":               :   :       ATT9 > 1:\n",
       ":               :   :       :...ATT1 <= 8: 0 (2/1)\n",
       ":               :   :           ATT1 > 8: 3 (2)\n",
       ":               :   ATT5 > 3:\n",
       ":               :   :...ATT1 > 9:\n",
       ":               :       :...ATT6 > 5: 2 (4/1)\n",
       ":               :       :   ATT6 <= 5:\n",
       ":               :       :   :...ATT2 > 5: 1 (4/1)\n",
       ":               :       :       ATT2 <= 5:\n",
       ":               :       :       :...ATT10 > 3: 0 (4)\n",
       ":               :       :           ATT10 <= 3:\n",
       ":               :       :           :...ATT7 <= 6: 0 (3/1)\n",
       ":               :       :               ATT7 > 6: 1 (3)\n",
       ":               :       ATT1 <= 9:\n",
       ":               :       :...ATT8 > 5:\n",
       ":               :           :...ATT10 <= 1:\n",
       ":               :           :   :...ATT4 <= 5: 2 (5/1)\n",
       ":               :           :   :   ATT4 > 5: 3 (4)\n",
       ":               :           :   ATT10 > 1:\n",
       ":               :           :   :...ATT5 > 9: 2 (5/1)\n",
       ":               :           :       ATT5 <= 9:\n",
       ":               :           :       :...ATT10 <= 3: 1 (4)\n",
       ":               :           :           ATT10 > 3:\n",
       ":               :           :           :...ATT2 <= 1: 1 (2/1)\n",
       ":               :           :               ATT2 > 1: 0 (15/4)\n",
       ":               :           ATT8 <= 5:\n",
       ":               :           :...ATT4 > 6:\n",
       ":               :               :...ATT2 > 7:\n",
       ":               :               :   :...ATT10 <= 4: 0 (3/1)\n",
       ":               :               :   :   ATT10 > 4: 3 (11)\n",
       ":               :               :   ATT2 <= 7:\n",
       ":               :               :   :...ATT7 <= 5:\n",
       ":               :               :       :...ATT3 <= 4: 1 (2)\n",
       ":               :               :       :   ATT3 > 4: 0 (4/1)\n",
       ":               :               :       ATT7 > 5:\n",
       ":               :               :       :...ATT10 <= 2: 2 (6)\n",
       ":               :               :           ATT10 > 2: 0 (10/3)\n",
       ":               :               ATT4 <= 6:\n",
       ":               :               :...ATT5 > 6:\n",
       ":               :                   :...ATT7 <= 6: 0 (7/1)\n",
       ":               :                   :   ATT7 > 6: 3 (12/1)\n",
       ":               :                   ATT5 <= 6:\n",
       ":               :                   :...ATT4 > 5:\n",
       ":               :                       :...ATT1 <= 3: 3 (8)\n",
       ":               :                       :   ATT1 > 3: 0 (2)\n",
       ":               :                       ATT4 <= 5:\n",
       ":               :                       :...ATT5 <= 4:\n",
       ":               :                           :...ATT2 <= 8: 1 (4)\n",
       ":               :                           :   ATT2 > 8: 3 (3)\n",
       ":               :                           ATT5 > 4:\n",
       ":               :                           :...ATT9 > 1: 3 (22)\n",
       ":               :                               ATT9 <= 1:\n",
       ":               :                               :...ATT2 <= 6: 2 (3/1)\n",
       ":               :                                   ATT2 > 6: 3 (5)\n",
       ":               ATT7 <= 4:\n",
       ":               :...ATT4 > 8:\n",
       ":                   :...ATT6 <= 1:\n",
       ":                   :   :...ATT4 <= 9: 0 (2/1)\n",
       ":                   :   :   ATT4 > 9: 2 (5/1)\n",
       ":                   :   ATT6 > 1:\n",
       ":                   :   :...ATT2 <= 1: 3 (20/2)\n",
       ":                   :       ATT2 > 1:\n",
       ":                   :       :...ATT9 <= 1:\n",
       ":                   :           :...ATT2 <= 2: 2 (6/1)\n",
       ":                   :           :   ATT2 > 2:\n",
       ":                   :           :   :...ATT5 <= 6: 3 (14/2)\n",
       ":                   :           :       ATT5 > 6: 1 (3)\n",
       ":                   :           ATT9 > 1:\n",
       ":                   :           :...ATT10 > 4: 2 (4/1)\n",
       ":                   :               ATT10 <= 4:\n",
       ":                   :               :...ATT1 <= 3: 1 (3/1)\n",
       ":                   :                   ATT1 > 3: 0 (3)\n",
       ":                   ATT4 <= 8:\n",
       ":                   :...ATT5 > 6:\n",
       ":                       :...ATT2 <= 1:\n",
       ":                       :   :...ATT8 <= 2: 0 (6/1)\n",
       ":                       :   :   ATT8 > 2:\n",
       ":                       :   :   :...ATT1 <= 4: 2 (8)\n",
       ":                       :   :       ATT1 > 4:\n",
       ":                       :   :       :...ATT6 <= 3: 0 (2/1)\n",
       ":                       :   :           ATT6 > 3: 1 (2)\n",
       ":                       :   ATT2 > 1:\n",
       ":                       :   :...ATT3 > 5: 1 (9/1)\n",
       ":                       :       ATT3 <= 5:\n",
       ":                       :       :...ATT3 > 4:\n",
       ":                       :           :...ATT10 <= 6: 1 (3/1)\n",
       ":                       :           :   ATT10 > 6: 0 (4)\n",
       ":                       :           ATT3 <= 4:\n",
       ":                       :           :...ATT5 > 9: 1 (3)\n",
       ":                       :               ATT5 <= 9:\n",
       ":                       :               :...ATT8 <= 3:\n",
       ":                       :                   :...ATT8 <= 1: 1 (2)\n",
       ":                       :                   :   ATT8 > 1:\n",
       ":                       :                   :   :...ATT7 <= 3: 2 (6)\n",
       ":                       :                   :       ATT7 > 3:\n",
       ":                       :                   :       :...ATT2 <= 4: 1 (2)\n",
       ":                       :                   :           ATT2 > 4: 2 (2)\n",
       ":                       :                   ATT8 > 3:\n",
       ":                       :                   :...ATT6 > 6: 2 (4/1)\n",
       ":                       :                       ATT6 <= 6:\n",
       ":                       :                       :...ATT7 <= 1: 0 (4/1)\n",
       ":                       :                           ATT7 > 1:\n",
       ":                       :                           :...ATT5 <= 7: 0 (4/1)\n",
       ":                       :                               ATT5 > 7: 1 (2)\n",
       ":                       ATT5 <= 6:\n",
       ":                       :...ATT4 <= 2:\n",
       ":                           :...ATT5 > 4:\n",
       ":                           :   :...ATT5 <= 5: 0 (5/1)\n",
       ":                           :   :   ATT5 > 5: 1 (4/1)\n",
       ":                           :   ATT5 <= 4:\n",
       ":                           :   :...ATT7 > 3: 2 (3/1)\n",
       ":                           :       ATT7 <= 3:\n",
       ":                           :       :...ATT9 > 1: 1 (6/1)\n",
       ":                           :           ATT9 <= 1:\n",
       ":                           :           :...ATT1 > 7: 2 (2)\n",
       ":                           :               ATT1 <= 7:\n",
       ":                           :               :...ATT10 <= 2: 1 (3)\n",
       ":                           :                   ATT10 > 2: 2 (3/1)\n",
       ":                           ATT4 > 2:\n",
       ":                           :...ATT2 > 8:\n",
       ":                               :...ATT10 <= 7: 2 (8/1)\n",
       ":                               :   ATT10 > 7: 0 (2)\n",
       ":                               ATT2 <= 8:\n",
       ":                               :...ATT2 > 6:\n",
       ":                                   :...ATT5 <= 4: 3 (11/2)\n",
       ":                                   :   ATT5 > 4: 2 (3)\n",
       ":                                   ATT2 <= 6:\n",
       ":                                   :...ATT10 > 7:\n",
       ":                                       :...ATT2 <= 2: 1 (6/1)\n",
       ":                                       :   ATT2 > 2: 2 (10/2)\n",
       ":                                       ATT10 <= 7:\n",
       ":                                       :...ATT1 > 8: 2 (6/1)\n",
       ":                                           ATT1 <= 8:\n",
       ":                                           :...ATT2 > 2:\n",
       ":                                               :...ATT7 <= 1:\n",
       ":                                               :   :...ATT10 > 3: 1 (5/1)\n",
       ":                                               :   :   ATT10 <= 3:\n",
       ":                                               :   :   :...ATT9 <= 1: 2 (5)\n",
       ":                                               :   :       ATT9 > 1: [S1]\n",
       ":                                               :   ATT7 > 1:\n",
       ":                                               :   :...ATT10 > 5: 3 (6/1)\n",
       ":                                               :       ATT10 <= 5:\n",
       ":                                               :       :...ATT7 > 2: 0 (9/2)\n",
       ":                                               :           ATT7 <= 2: [S2]\n",
       ":                                               ATT2 <= 2:\n",
       ":                                               :...ATT7 > 2:\n",
       ":                                                   :...ATT6 <= 3: 0 (8/1)\n",
       ":                                                   :   ATT6 > 3: 2 (6/1)\n",
       ":                                                   ATT7 <= 2:\n",
       ":                                                   :...ATT1 > 6: 2 (4)\n",
       ":                                                       ATT1 <= 6:\n",
       ":                                                       :...ATT10 <= 1: [S3]\n",
       ":                                                           ATT10 > 1: [S4]\n",
       "ATT9 > 2:\n",
       ":...ATT6 <= 1:\n",
       "    :...ATT7 > 8:\n",
       "    :   :...ATT7 <= 9: 1 (9/4)\n",
       "    :   :   ATT7 > 9:\n",
       "    :   :   :...ATT5 <= 3: 0 (3)\n",
       "    :   :       ATT5 > 3: 1 (4)\n",
       "    :   ATT7 <= 8:\n",
       "    :   :...ATT9 <= 5:\n",
       "    :       :...ATT5 <= 2:\n",
       "    :       :   :...ATT7 > 5:\n",
       "    :       :   :   :...ATT7 <= 6: 2 (3/1)\n",
       "    :       :   :   :   ATT7 > 6:\n",
       "    :       :   :   :   :...ATT2 <= 5: 1 (2)\n",
       "    :       :   :   :       ATT2 > 5: 2 (3)\n",
       "    :       :   :   ATT7 <= 5:\n",
       "    :       :   :   :...ATT8 <= 1: 2 (4/1)\n",
       "    :       :   :       ATT8 > 1:\n",
       "    :       :   :       :...ATT4 <= 3: 0 (2)\n",
       "    :       :   :           ATT4 > 3:\n",
       "    :       :   :           :...ATT4 > 8: 0 (2/1)\n",
       "    :       :   :               ATT4 <= 8:\n",
       "    :       :   :               :...ATT3 <= 4: 3 (19)\n",
       "    :       :   :                   ATT3 > 4:\n",
       "    :       :   :                   :...ATT1 <= 3: 3 (3)\n",
       "    :       :   :                       ATT1 > 3: 2 (3/1)\n",
       "    :       :   ATT5 > 2:\n",
       "    :       :   :...ATT10 > 4: 1 (32/10)\n",
       "    :       :       ATT10 <= 4:\n",
       "    :       :       :...ATT8 > 5:\n",
       "    :       :           :...ATT10 <= 2: 1 (8/1)\n",
       "    :       :           :   ATT10 > 2:\n",
       "    :       :           :   :...ATT5 <= 6: 1 (4/1)\n",
       "    :       :           :       ATT5 > 6:\n",
       "    :       :           :       :...ATT4 <= 9: 3 (9/1)\n",
       "    :       :           :           ATT4 > 9: 1 (2)\n",
       "    :       :           ATT8 <= 5:\n",
       "    :       :           :...ATT7 > 5:\n",
       "    :       :               :...ATT4 <= 5: 2 (6/1)\n",
       "    :       :               :   ATT4 > 5:\n",
       "    :       :               :   :...ATT2 <= 2: 1 (2/1)\n",
       "    :       :               :       ATT2 > 2: 3 (11/1)\n",
       "    :       :               ATT7 <= 5:\n",
       "    :       :               :...ATT7 <= 1:\n",
       "    :       :                   :...ATT5 <= 4: 3 (4/1)\n",
       "    :       :                   :   ATT5 > 4:\n",
       "    :       :                   :   :...ATT3 > 7: 2 (6)\n",
       "    :       :                   :       ATT3 <= 7:\n",
       "    :       :                   :       :...ATT3 <= 5: 2 (2)\n",
       "    :       :                   :           ATT3 > 5: 1 (2)\n",
       "    :       :                   ATT7 > 1:\n",
       "    :       :                   :...ATT8 > 2: 0 (9/3)\n",
       "    :       :                       ATT8 <= 2:\n",
       "    :       :                       :...ATT5 <= 6: 0 (7/1)\n",
       "    :       :                           ATT5 > 6:\n",
       "    :       :                           :...ATT1 <= 8: 2 (3)\n",
       "    :       :                               ATT1 > 8: 0 (2/1)\n",
       "    :       ATT9 > 5:\n",
       "    :       :...ATT3 > 9:\n",
       "    :           :...ATT9 <= 7: 1 (7/2)\n",
       "    :           :   ATT9 > 7: 0 (5)\n",
       "    :           ATT3 <= 9:\n",
       "    :           :...ATT9 > 9:\n",
       "    :               :...ATT1 <= 8: 2 (11)\n",
       "    :               :   ATT1 > 8:\n",
       "    :               :   :...ATT1 <= 9: 1 (2)\n",
       "    :               :       ATT1 > 9: 2 (3/1)\n",
       "    :               ATT9 <= 9:\n",
       "    :               :...ATT1 <= 4:\n",
       "    :                   :...ATT1 > 3:\n",
       "    :                   :   :...ATT5 > 5: 0 (5)\n",
       "    :                   :   :   ATT5 <= 5:\n",
       "    :                   :   :   :...ATT3 <= 5: 1 (2)\n",
       "    :                   :   :       ATT3 > 5: 3 (4)\n",
       "    :                   :   ATT1 <= 3:\n",
       "    :                   :   :...ATT2 > 8: 3 (2)\n",
       "    :                   :       ATT2 <= 8:\n",
       "    :                   :       :...ATT1 > 2: 1 (2)\n",
       "    :                   :           ATT1 <= 2:\n",
       "    :                   :           :...ATT3 <= 5: 1 (4/1)\n",
       "    :                   :               ATT3 > 5: 2 (6)\n",
       "    :                   ATT1 > 4:\n",
       "    :                   :...ATT3 > 6:\n",
       "    :                       :...ATT7 <= 1: 1 (2/1)\n",
       "    :                       :   ATT7 > 1:\n",
       "    :                       :   :...ATT1 <= 5: 1 (3)\n",
       "    :                       :       ATT1 > 5:\n",
       "    :                       :       :...ATT1 <= 9: 0 (5)\n",
       "    :                       :           ATT1 > 9:\n",
       "    :                       :           :...ATT3 <= 8: 0 (4/1)\n",
       "    :                       :               ATT3 > 8: 1 (2)\n",
       "    :                       ATT3 <= 6:\n",
       "    :                       :...ATT1 > 9: 0 (5/1)\n",
       "    :                           ATT1 <= 9:\n",
       "    :                           :...ATT10 > 7: 2 (8/1)\n",
       "    :                               ATT10 <= 7:\n",
       "    :                               :...ATT10 <= 2:\n",
       "    :                                   :...ATT10 > 1: 2 (9/1)\n",
       "    :                                   :   ATT10 <= 1:\n",
       "    :                                   :   :...ATT4 <= 6: 1 (4/1)\n",
       "    :                                   :       ATT4 > 6: 2 (4)\n",
       "    :                                   ATT10 > 2:\n",
       "    :                                   :...ATT7 > 7: 2 (3)\n",
       "    :                                       ATT7 <= 7:\n",
       "    :                                       :...ATT9 > 8:\n",
       "    :                                           :...ATT5 <= 5: 2 (2)\n",
       "    :                                           :   ATT5 > 5: 1 (3/1)\n",
       "    :                                           ATT9 <= 8:\n",
       "    :                                           :...ATT8 > 6: 0 (3)\n",
       "    :                                               ATT8 <= 6:\n",
       "    :                                               :...ATT2 > 9: 0 (2)\n",
       "    :                                                   ATT2 <= 9:\n",
       "    :                                                   :...ATT1 > 6: 1 (4)\n",
       "    :                                                       ATT1 <= 6: [S5]\n",
       "    ATT6 > 1:\n",
       "    :...ATT9 <= 3:\n",
       "        :...ATT6 > 8:\n",
       "        :   :...ATT7 > 9: 0 (2)\n",
       "        :   :   ATT7 <= 9:\n",
       "        :   :   :...ATT4 > 8: 0 (2)\n",
       "        :   :       ATT4 <= 8:\n",
       "        :   :       :...ATT6 > 9:\n",
       "        :   :           :...ATT5 <= 5: 1 (2)\n",
       "        :   :           :   ATT5 > 5: 2 (5)\n",
       "        :   :           ATT6 <= 9:\n",
       "        :   :           :...ATT8 <= 2: 1 (3/1)\n",
       "        :   :               ATT8 > 2:\n",
       "        :   :               :...ATT4 <= 3: 0 (2/1)\n",
       "        :   :                   ATT4 > 3: 2 (12/2)\n",
       "        :   ATT6 <= 8:\n",
       "        :   :...ATT2 > 6:\n",
       "        :       :...ATT1 <= 3:\n",
       "        :       :   :...ATT7 <= 4: 1 (3/1)\n",
       "        :       :   :   ATT7 > 4: 3 (14)\n",
       "        :       :   ATT1 > 3:\n",
       "        :       :   :...ATT2 > 9:\n",
       "        :       :       :...ATT4 <= 7: 1 (3)\n",
       "        :       :       :   ATT4 > 7: 3 (7)\n",
       "        :       :       ATT2 <= 9:\n",
       "        :       :       :...ATT8 <= 1:\n",
       "        :       :           :...ATT2 > 7:\n",
       "        :       :           :   :...ATT4 <= 8: 1 (4)\n",
       "        :       :           :   :   ATT4 > 8: 3 (3)\n",
       "        :       :           :   ATT2 <= 7:\n",
       "        :       :           :   :...ATT3 > 8: 1 (2)\n",
       "        :       :           :       ATT3 <= 8:\n",
       "        :       :           :       :...ATT10 <= 1: 3 (2)\n",
       "        :       :           :           ATT10 > 1: 0 (4)\n",
       "        :       :           ATT8 > 1:\n",
       "        :       :           :...ATT5 <= 5:\n",
       "        :       :               :...ATT3 <= 5: 0 (6)\n",
       "        :       :               :   ATT3 > 5:\n",
       "        :       :               :   :...ATT4 <= 4: 0 (3)\n",
       "        :       :               :       ATT4 > 4: 1 (4/1)\n",
       "        :       :               ATT5 > 5:\n",
       "        :       :               :...ATT7 > 6:\n",
       "        :       :                   :...ATT1 <= 9: 0 (6/1)\n",
       "        :       :                   :   ATT1 > 9: 1 (2)\n",
       "        :       :                   ATT7 <= 6:\n",
       "        :       :                   :...ATT6 > 5: 1 (5/1)\n",
       "        :       :                       ATT6 <= 5:\n",
       "        :       :                       :...ATT2 <= 7: 1 (2)\n",
       "        :       :                           ATT2 > 7: 2 (7)\n",
       "        :       ATT2 <= 6:\n",
       "        :       :...ATT2 > 3:\n",
       "        :           :...ATT7 > 7:\n",
       "        :           :   :...ATT5 <= 8: 2 (3)\n",
       "        :           :   :   ATT5 > 8: 3 (11/1)\n",
       "        :           :   ATT7 <= 7:\n",
       "        :           :   :...ATT6 > 7: 3 (5/1)\n",
       "        :           :       ATT6 <= 7:\n",
       "        :           :       :...ATT4 <= 5:\n",
       "        :           :           :...ATT1 <= 2: 1 (3/1)\n",
       "        :           :           :   ATT1 > 2:\n",
       "        :           :           :   :...ATT5 > 5: 2 (8)\n",
       "        :           :           :       ATT5 <= 5:\n",
       "        :           :           :       :...ATT5 <= 3: 2 (6/1)\n",
       "        :           :           :           ATT5 > 3:\n",
       "        :           :           :           :...ATT6 <= 2: 1 (2/1)\n",
       "        :           :           :               ATT6 > 2:\n",
       "        :           :           :               :...ATT3 <= 3: 2 (2)\n",
       "        :           :           :                   ATT3 > 3: 0 (6/1)\n",
       "        :           :           ATT4 > 5:\n",
       "        :           :           :...ATT1 > 6: 2 (12/1)\n",
       "        :           :               ATT1 <= 6:\n",
       "        :           :               :...ATT2 > 5: 2 (5/1)\n",
       "        :           :                   ATT2 <= 5:\n",
       "        :           :                   :...ATT10 <= 5:\n",
       "        :           :                       :...ATT6 <= 3:\n",
       "        :           :                       :   :...ATT7 <= 2: 0 (2)\n",
       "        :           :                       :   :   ATT7 > 2: 1 (2/1)\n",
       "        :           :                       :   ATT6 > 3:\n",
       "        :           :                       :   :...ATT8 <= 4: 2 (4/1)\n",
       "        :           :                       :       ATT8 > 4: 1 (5)\n",
       "        :           :                       ATT10 > 5:\n",
       "        :           :                       :...ATT1 > 4: 3 (9)\n",
       "        :           :                           ATT1 <= 4:\n",
       "        :           :                           :...ATT8 <= 7: 1 (3)\n",
       "        :           :                               ATT8 > 7: 3 (2)\n",
       "        :           ATT2 <= 3:\n",
       "        :           :...ATT7 > 8:\n",
       "        :               :...ATT1 <= 8: 2 (8/1)\n",
       "        :               :   ATT1 > 8: 0 (2)\n",
       "        :               ATT7 <= 8:\n",
       "        :               :...ATT6 > 7:\n",
       "        :                   :...ATT8 <= 3: 1 (3)\n",
       "        :                   :   ATT8 > 3: 2 (5)\n",
       "        :                   ATT6 <= 7:\n",
       "        :                   :...ATT3 > 9:\n",
       "        :                       :...ATT5 > 5: 2 (2)\n",
       "        :                       :   ATT5 <= 5:\n",
       "        :                       :   :...ATT1 <= 3: 1 (2)\n",
       "        :                       :       ATT1 > 3: 0 (2)\n",
       "        :                       ATT3 <= 9:\n",
       "        :                       :...ATT10 > 6:\n",
       "        :                           :...ATT3 > 4: 2 (6/1)\n",
       "        :                           :   ATT3 <= 4:\n",
       "        :                           :   :...ATT5 <= 4: 0 (3)\n",
       "        :                           :       ATT5 > 4: 3 (5)\n",
       "        :                           ATT10 <= 6:\n",
       "        :                           :...ATT7 <= 1:\n",
       "        :                               :...ATT8 <= 4:\n",
       "        :                               :   :...ATT4 <= 6: 2 (5)\n",
       "        :                               :   :   ATT4 > 6: 1 (2)\n",
       "        :                               :   ATT8 > 4:\n",
       "        :                               :   :...ATT5 <= 5: 1 (2)\n",
       "        :                               :       ATT5 > 5: 0 (4)\n",
       "        :                               ATT7 > 1:\n",
       "        :                               :...ATT5 > 8:\n",
       "        :                                   :...ATT4 > 6: 2 (2)\n",
       "        :                                   :   ATT4 <= 6:\n",
       "        :                                   :   :...ATT8 <= 1: 3 (7/1)\n",
       "        :                                   :       ATT8 > 1: 1 (7/2)\n",
       "        :                                   ATT5 <= 8:\n",
       "        :                                   :...ATT8 <= 3:\n",
       "        :                                       :...ATT1 <= 3: 1 (5/1)\n",
       "        :                                       :   ATT1 > 3:\n",
       "        :                                       :   :...ATT10 <= 4:\n",
       "        :                                       :       :...ATT10 <= 2: 0 (5)\n",
       "        :                                       :       :   ATT10 > 2: 1 (2/1)\n",
       "        :                                       :       ATT10 > 4:\n",
       "        :                                       :       :...ATT1 > 9: 3 (6)\n",
       "        :                                       :           ATT1 <= 9: [S6]\n",
       "        :                                       ATT8 > 3:\n",
       "        :                                       :...ATT10 <= 2: 3 (40/3)\n",
       "        :                                           ATT10 > 2:\n",
       "        :                                           :...ATT8 <= 6: 1 (4)\n",
       "        :                                               ATT8 > 6:\n",
       "        :                                               :...ATT10 <= 4: 0 (3)\n",
       "        :                                                   ATT10 > 4: [S7]\n",
       "        ATT9 > 3:\n",
       "        :...ATT3 > 7:\n",
       "            :...ATT9 > 9:\n",
       "            :   :...ATT10 <= 8: 1 (18/6)\n",
       "            :   :   ATT10 > 8:\n",
       "            :   :   :...ATT4 <= 5: 3 (3)\n",
       "            :   :       ATT4 > 5: 1 (2)\n",
       "            :   ATT9 <= 9:\n",
       "            :   :...ATT4 > 7:\n",
       "            :       :...ATT10 > 9:\n",
       "            :       :   :...ATT1 <= 6: 1 (2)\n",
       "            :       :   :   ATT1 > 6: 3 (4)\n",
       "            :       :   ATT10 <= 9:\n",
       "            :       :   :...ATT6 > 7:\n",
       "            :       :       :...ATT7 > 9: 1 (2)\n",
       "            :       :       :   ATT7 <= 9:\n",
       "            :       :       :   :...ATT1 > 9: 0 (2/1)\n",
       "            :       :       :       ATT1 <= 9:\n",
       "            :       :       :       :...ATT1 > 6: 2 (10)\n",
       "            :       :       :           ATT1 <= 6:\n",
       "            :       :       :           :...ATT9 <= 5: 2 (3)\n",
       "            :       :       :               ATT9 > 5: 0 (5/1)\n",
       "            :       :       ATT6 <= 7:\n",
       "            :       :       :...ATT9 <= 5:\n",
       "            :       :           :...ATT10 > 7:\n",
       "            :       :           :   :...ATT2 <= 4: 0 (2)\n",
       "            :       :           :   :   ATT2 > 4: 2 (4)\n",
       "            :       :           :   ATT10 <= 7:\n",
       "            :       :           :   :...ATT9 > 4:\n",
       "            :       :           :       :...ATT7 <= 8: 0 (12/1)\n",
       "            :       :           :       :   ATT7 > 8: 1 (2)\n",
       "            :       :           :       ATT9 <= 4:\n",
       "            :       :           :       :...ATT5 > 8: 1 (2)\n",
       "            :       :           :           ATT5 <= 8:\n",
       "            :       :           :           :...ATT1 <= 6: 0 (4)\n",
       "            :       :           :               ATT1 > 6: 2 (2)\n",
       "            :       :           ATT9 > 5:\n",
       "            :       :           :...ATT1 <= 4:\n",
       "            :       :               :...ATT8 <= 2: 3 (11/1)\n",
       "            :       :               :   ATT8 > 2: 0 (5/1)\n",
       "            :       :               ATT1 > 4:\n",
       "            :       :               :...ATT2 <= 1:\n",
       "            :       :                   :...ATT1 <= 9: 0 (3)\n",
       "            :       :                   :   ATT1 > 9: 3 (3)\n",
       "            :       :                   ATT2 > 1:\n",
       "            :       :                   :...ATT5 <= 3:\n",
       "            :       :                       :...ATT8 <= 1: 3 (3)\n",
       "            :       :                       :   ATT8 > 1: 2 (6/1)\n",
       "            :       :                       ATT5 > 3:\n",
       "            :       :                       :...ATT2 <= 3: 2 (3)\n",
       "            :       :                           ATT2 > 3:\n",
       "            :       :                           :...ATT6 <= 5: 1 (15/6)\n",
       "            :       :                               ATT6 > 5:\n",
       "            :       :                               :...ATT6 <= 6: 0 (4)\n",
       "            :       :                                   ATT6 > 6: 1 (3/1)\n",
       "            :       ATT4 <= 7:\n",
       "            :       :...ATT7 > 8:\n",
       "            :           :...ATT10 <= 6:\n",
       "            :           :   :...ATT8 <= 3: 1 (6/1)\n",
       "            :           :   :   ATT8 > 3: 0 (2/1)\n",
       "            :           :   ATT10 > 6:\n",
       "            :           :   :...ATT5 <= 5: 1 (2/1)\n",
       "            :           :       ATT5 > 5: 3 (27)\n",
       "            :           ATT7 <= 8:\n",
       "            :           :...ATT6 > 7:\n",
       "            :               :...ATT4 > 6:\n",
       "            :               :   :...ATT8 > 4: 1 (3)\n",
       "            :               :   :   ATT8 <= 4:\n",
       "            :               :   :   :...ATT2 <= 3: 3 (5)\n",
       "            :               :   :       ATT2 > 3: 0 (2/1)\n",
       "            :               :   ATT4 <= 6:\n",
       "            :               :   :...ATT5 <= 3: 0 (5)\n",
       "            :               :       ATT5 > 3:\n",
       "            :               :       :...ATT5 > 9:\n",
       "            :               :           :...ATT2 <= 6: 0 (4)\n",
       "            :               :           :   ATT2 > 6: 1 (2)\n",
       "            :               :           ATT5 <= 9:\n",
       "            :               :           :...ATT8 > 3:\n",
       "            :               :               :...ATT10 <= 7: 1 (9/1)\n",
       "            :               :               :   ATT10 > 7: 2 (5)\n",
       "            :               :               ATT8 <= 3:\n",
       "            :               :               :...ATT4 <= 2: 0 (4)\n",
       "            :               :                   ATT4 > 2:\n",
       "            :               :                   :...ATT10 <= 3: 2 (8)\n",
       "            :               :                       ATT10 > 3: 0 (3/2)\n",
       "            :               ATT6 <= 7:\n",
       "            :               :...ATT1 > 9:\n",
       "            :                   :...ATT5 > 6:\n",
       "            :                   :   :...ATT8 <= 6: 0 (3)\n",
       "            :                   :   :   ATT8 > 6: 1 (2)\n",
       "            :                   :   ATT5 <= 6:\n",
       "            :                   :   :...ATT8 > 6: 3 (16)\n",
       "            :                   :       ATT8 <= 6:\n",
       "            :                   :       :...ATT5 <= 5: 2 (3/1)\n",
       "            :                   :           ATT5 > 5: 3 (5)\n",
       "            :                   ATT1 <= 9:\n",
       "            :                   :...ATT10 > 9:\n",
       "            :                       :...ATT5 > 4: 1 (4)\n",
       "            :                       :   ATT5 <= 4:\n",
       "            :                       :   :...ATT4 <= 5: 3 (12)\n",
       "            :                       :       ATT4 > 5: 1 (2)\n",
       "            :                       ATT10 <= 9:\n",
       "            :                       :...ATT5 <= 2:\n",
       "            :                           :...ATT2 <= 1: 2 (3)\n",
       "            :                           :   ATT2 > 1:\n",
       "            :                           :   :...ATT4 > 5:\n",
       "            :                           :       :...ATT8 <= 5: 1 (3/1)\n",
       "            :                           :       :   ATT8 > 5: 0 (3)\n",
       "            :                           :       ATT4 <= 5:\n",
       "            :                           :       :...ATT10 > 8: 0 (2/1)\n",
       "            :                           :           ATT10 <= 8:\n",
       "            :                           :           :...ATT4 <= 4: 1 (7)\n",
       "            :                           :               ATT4 > 4: 2 (3/1)\n",
       "            :                           ATT5 > 2:\n",
       "            :                           :...ATT2 <= 1:\n",
       "            :                               :...ATT9 <= 7: 1 (8)\n",
       "            :                               :   ATT9 > 7: 0 (3/1)\n",
       "            :                               ATT2 > 1:\n",
       "            :                               :...ATT2 > 5:\n",
       "            :                                   :...ATT4 > 5:\n",
       "            :                                   :   :...ATT1 > 8: 2 (3/1)\n",
       "            :                                   :   :   ATT1 <= 8:\n",
       "            :                                   :   :   :...ATT6 <= 4: 3 (30/4)\n",
       "            :                                   :   :       ATT6 > 4: 0 (3/1)\n",
       "            :                                   :   ATT4 <= 5:\n",
       "            :                                   :   :...ATT3 <= 9:\n",
       "            :                                   :       :...ATT2 > 9: 2 (2)\n",
       "            :                                   :       :   ATT2 <= 9: [S8]\n",
       "            :                                   :       ATT3 > 9:\n",
       "            :                                   :       :...ATT8 <= 2: [S9]\n",
       "            :                                   :           ATT8 > 2: [S10]\n",
       "            :                                   ATT2 <= 5:\n",
       "            :                                   :...ATT4 > 6:\n",
       "            :                                       :...ATT8 > 3: 1 (4/1)\n",
       "            :                                       :   ATT8 <= 3:\n",
       "            :                                       :   :...ATT7 <= 1: 0 (2/1)\n",
       "            :                                       :       ATT7 > 1: 3 (13/1)\n",
       "            :                                       ATT4 <= 6:\n",
       "            :                                       :...ATT3 <= 9:\n",
       "            :                                           :...ATT8 > 6: [S11]\n",
       "            :                                           :   ATT8 <= 6: [S12]\n",
       "            :                                           ATT3 > 9:\n",
       "            :                                           :...ATT8 <= 2: 1 (4/1)\n",
       "            :                                               ATT8 > 2: [S13]\n",
       "            ATT3 <= 7:\n",
       "            :...ATT6 <= 3:\n",
       "                :...ATT5 > 6:\n",
       "                :   :...ATT10 > 7:\n",
       "                :   :   :...ATT9 <= 6: 0 (4)\n",
       "                :   :   :   ATT9 > 6:\n",
       "                :   :   :   :...ATT7 <= 5: 1 (4)\n",
       "                :   :   :       ATT7 > 5: 0 (2)\n",
       "                :   :   ATT10 <= 7:\n",
       "                :   :   :...ATT2 > 4: 2 (39/16)\n",
       "                :   :       ATT2 <= 4:\n",
       "                :   :       :...ATT8 > 9: 2 (3)\n",
       "                :   :           ATT8 <= 9:\n",
       "                :   :           :...ATT7 <= 1: 2 (7/2)\n",
       "                :   :               ATT7 > 1:\n",
       "                :   :               :...ATT1 <= 5: 0 (23/4)\n",
       "                :   :                   ATT1 > 5:\n",
       "                :   :                   :...ATT9 > 9: 0 (4/1)\n",
       "                :   :                       ATT9 <= 9:\n",
       "                :   :                       :...ATT5 > 8: 1 (5)\n",
       "                :   :                           ATT5 <= 8:\n",
       "                :   :                           :...ATT3 <= 3: 1 (2)\n",
       "                :   :                               ATT3 > 3: 2 (2)\n",
       "                :   ATT5 <= 6:\n",
       "                :   :...ATT10 > 5:\n",
       "                :       :...ATT3 <= 2:\n",
       "                :       :   :...ATT10 > 6: 0 (5)\n",
       "                :       :   :   ATT10 <= 6:\n",
       "                :       :   :   :...ATT1 <= 6: 0 (3/1)\n",
       "                :       :   :       ATT1 > 6: 1 (2)\n",
       "                :       :   ATT3 > 2:\n",
       "                :       :   :...ATT2 <= 1:\n",
       "                :       :       :...ATT9 <= 6: 1 (3)\n",
       "                :       :       :   ATT9 > 6: 0 (2)\n",
       "                :       :       ATT2 > 1:\n",
       "                :       :       :...ATT1 <= 2: 1 (4/1)\n",
       "                :       :           ATT1 > 2:\n",
       "                :       :           :...ATT9 <= 7: 2 (23/3)\n",
       "                :       :               ATT9 > 7:\n",
       "                :       :               :...ATT6 <= 2: 2 (3/1)\n",
       "                :       :                   ATT6 > 2: 1 (2)\n",
       "                :       ATT10 <= 5:\n",
       "                :       :...ATT8 > 8:\n",
       "                :           :...ATT7 > 7: 3 (13)\n",
       "                :           :   ATT7 <= 7:\n",
       "                :           :   :...ATT5 <= 4: 0 (3)\n",
       "                :           :       ATT5 > 4: 1 (2)\n",
       "                :           ATT8 <= 8:\n",
       "                :           :...ATT7 <= 1:\n",
       "                :               :...ATT9 <= 6:\n",
       "                :               :   :...ATT5 > 3: 1 (4/1)\n",
       "                :               :   :   ATT5 <= 3:\n",
       "                :               :   :   :...ATT8 <= 5: 3 (16/1)\n",
       "                :               :   :       ATT8 > 5: 0 (2/1)\n",
       "                :               :   ATT9 > 6:\n",
       "                :               :   :...ATT1 > 6: 1 (2)\n",
       "                :               :       ATT1 <= 6:\n",
       "                :               :       :...ATT4 <= 7: 2 (6)\n",
       "                :               :           ATT4 > 7: 1 (2)\n",
       "                :               ATT7 > 1:\n",
       "                :               :...ATT6 > 2:\n",
       "                :                   :...ATT5 > 5:\n",
       "                :                   :   :...ATT10 > 3: 3 (4)\n",
       "                :                   :   :   ATT10 <= 3:\n",
       "                :                   :   :   :...ATT1 <= 6: 0 (3)\n",
       "                :                   :   :       ATT1 > 6: 2 (2)\n",
       "                :                   :   ATT5 <= 5:\n",
       "                :                   :   :...ATT4 <= 3:\n",
       "                :                   :       :...ATT10 <= 1: 3 (3)\n",
       "                :                   :       :   ATT10 > 1: 1 (3/1)\n",
       "                :                   :       ATT4 > 3:\n",
       "                :                   :       :...ATT5 <= 2:\n",
       "                :                   :           :...ATT1 <= 7: 0 (4/1)\n",
       "                :                   :           :   ATT1 > 7: 1 (7/1)\n",
       "                :                   :           ATT5 > 2:\n",
       "                :                   :           :...ATT7 <= 5: 1 (6/1)\n",
       "                :                   :               ATT7 > 5: 0 (7/1)\n",
       "                :                   ATT6 <= 2:\n",
       "                :                   :...ATT9 > 5: 1 (24/9)\n",
       "                :                       ATT9 <= 5:\n",
       "                :                       :...ATT5 > 4: 0 (8/1)\n",
       "                :                           ATT5 <= 4:\n",
       "                :                           :...ATT10 > 3: 1 (3/1)\n",
       "                :                               ATT10 <= 3:\n",
       "                :                               :...ATT5 <= 3: 2 (4)\n",
       "                :                                   ATT5 > 3:\n",
       "                :                                   :...ATT3 <= 5: 0 (3)\n",
       "                :                                       ATT3 > 5: 2 (2)\n",
       "                ATT6 > 3:\n",
       "                :...ATT2 > 5:\n",
       "                    :...ATT1 <= 2:\n",
       "                    :   :...ATT4 <= 4:\n",
       "                    :   :   :...ATT7 <= 1: 1 (4/1)\n",
       "                    :   :   :   ATT7 > 1:\n",
       "                    :   :   :   :...ATT5 <= 5: 2 (3)\n",
       "                    :   :   :       ATT5 > 5: 0 (5/1)\n",
       "                    :   :   ATT4 > 4:\n",
       "                    :   :   :...ATT6 > 8:\n",
       "                    :   :       :...ATT3 <= 2: 2 (2)\n",
       "                    :   :       :   ATT3 > 2: 3 (2)\n",
       "                    :   :       ATT6 <= 8:\n",
       "                    :   :       :...ATT6 > 6:\n",
       "                    :   :           :...ATT3 <= 5: 0 (3)\n",
       "                    :   :           :   ATT3 > 5: 1 (2)\n",
       "                    :   :           ATT6 <= 6:\n",
       "                    :   :           :...ATT6 <= 4: 0 (3/1)\n",
       "                    :   :               ATT6 > 4:\n",
       "                    :   :               :...ATT3 > 4: 3 (17/1)\n",
       "                    :   :                   ATT3 <= 4:\n",
       "                    :   :                   :...ATT2 <= 7: 1 (3)\n",
       "                    :   :                       ATT2 > 7: 3 (3)\n",
       "                    :   ATT1 > 2:\n",
       "                    :   :...ATT8 <= 2:\n",
       "                    :       :...ATT6 > 9:\n",
       "                    :       :   :...ATT7 <= 2: 3 (3)\n",
       "                    :       :   :   ATT7 > 2: 1 (4)\n",
       "                    :       :   ATT6 <= 9:\n",
       "                    :       :   :...ATT6 <= 6:\n",
       "                    :       :       :...ATT3 <= 5:\n",
       "                    :       :       :   :...ATT9 <= 7: 0 (9/1)\n",
       "                    :       :       :   :   ATT9 > 7: 1 (2)\n",
       "                    :       :       :   ATT3 > 5:\n",
       "                    :       :       :   :...ATT4 <= 4: 0 (2/1)\n",
       "                    :       :       :       ATT4 > 4: 3 (5)\n",
       "                    :       :       ATT6 > 6:\n",
       "                    :       :       :...ATT4 <= 3:\n",
       "                    :       :           :...ATT1 <= 6: 1 (2)\n",
       "                    :       :           :   ATT1 > 6: 3 (3)\n",
       "                    :       :           ATT4 > 3:\n",
       "                    :       :           :...ATT9 > 7: 0 (4)\n",
       "                    :       :               ATT9 <= 7:\n",
       "                    :       :               :...ATT4 <= 9: 2 (10)\n",
       "                    :       :                   ATT4 > 9: 0 (2)\n",
       "                    :       ATT8 > 2:\n",
       "                    :       :...ATT10 > 7:\n",
       "                    :           :...ATT5 > 8:\n",
       "                    :           :   :...ATT10 > 8: 0 (3)\n",
       "                    :           :   :   ATT10 <= 8:\n",
       "                    :           :   :   :...ATT1 <= 7: 3 (4)\n",
       "                    :           :   :       ATT1 > 7: 0 (2/1)\n",
       "                    :           :   ATT5 <= 8:\n",
       "                    :           :   :...ATT5 <= 5: 2 (6)\n",
       "                    :           :       ATT5 > 5:\n",
       "                    :           :       :...ATT7 <= 1: 2 (2)\n",
       "                    :           :           ATT7 > 1:\n",
       "                    :           :           :...ATT10 <= 8: 1 (2)\n",
       "                    :           :               ATT10 > 8:\n",
       "                    :           :               :...ATT1 <= 8: 0 (2)\n",
       "                    :           :                   ATT1 > 8: 1 (2)\n",
       "                    :           ATT10 <= 7:\n",
       "                    :           :...ATT4 > 8:\n",
       "                    :               :...ATT8 <= 4: 0 (5)\n",
       "                    :               :   ATT8 > 4:\n",
       "                    :               :   :...ATT6 <= 8: 1 (8/1)\n",
       "                    :               :       ATT6 > 8: 0 (3)\n",
       "                    :               ATT4 <= 8:\n",
       "                    :               :...ATT8 > 6:\n",
       "                    :                   :...ATT6 <= 8:\n",
       "                    :                   :   :...ATT6 <= 7: 1 (17/7)\n",
       "                    :                   :   :   ATT6 > 7: 0 (2)\n",
       "                    :                   :   ATT6 > 8:\n",
       "                    :                   :   :...ATT1 <= 8: 0 (2)\n",
       "                    :                   :       ATT1 > 8: 2 (6/1)\n",
       "                    :                   ATT8 <= 6:\n",
       "                    :                   :...ATT4 <= 6:\n",
       "                    :                       :...ATT8 <= 3:\n",
       "                    :                       :   :...ATT10 <= 2: 1 (2)\n",
       "                    :                       :   :   ATT10 > 2: 0 (4)\n",
       "                    :                       :   ATT8 > 3:\n",
       "                    :                       :   :...ATT5 <= 2: 2 (8/1)\n",
       "                    :                       :       ATT5 > 2:\n",
       "                    :                       :       :...ATT9 <= 6: 0 (9/2)\n",
       "                    :                       :           ATT9 > 6:\n",
       "                    :                       :           :...ATT5 <= 4: 0 (2)\n",
       "                    :                       :               ATT5 > 4: 2 (15/4)\n",
       "                    :                       ATT4 > 6:\n",
       "                    :                       :...ATT8 > 3: 1 (4)\n",
       "                    :                           ATT8 <= 3:\n",
       "                    :                           :...ATT6 > 8: 1 (2)\n",
       "                    :                               ATT6 <= 8:\n",
       "                    :                               :...ATT6 > 6: 2 (7)\n",
       "                    :                                   ATT6 <= 6:\n",
       "                    :                                   :...ATT1 <= 7: 1 (2)\n",
       "                    :                                       ATT1 > 7: 2 (3)\n",
       "                    ATT2 <= 5:\n",
       "                    :...ATT7 > 4:\n",
       "                        :...ATT7 <= 5:\n",
       "                        :   :...ATT1 <= 3: 2 (11/1)\n",
       "                        :   :   ATT1 > 3:\n",
       "                        :   :   :...ATT2 > 4:\n",
       "                        :   :       :...ATT8 <= 5: 0 (3/1)\n",
       "                        :   :       :   ATT8 > 5: 1 (4)\n",
       "                        :   :       ATT2 <= 4:\n",
       "                        :   :       :...ATT1 <= 5: 2 (12/5)\n",
       "                        :   :           ATT1 > 5:\n",
       "                        :   :           :...ATT4 <= 9: 0 (7/1)\n",
       "                        :   :               ATT4 > 9: 1 (2/1)\n",
       "                        :   ATT7 > 5:\n",
       "                        :   :...ATT9 <= 5:\n",
       "                        :       :...ATT3 <= 4:\n",
       "                        :       :   :...ATT9 <= 4:\n",
       "                        :       :   :   :...ATT10 <= 6: 1 (7/1)\n",
       "                        :       :   :   :   ATT10 > 6: 0 (4/1)\n",
       "                        :       :   :   ATT9 > 4:\n",
       "                        :       :   :   :...ATT2 <= 3: 0 (5)\n",
       "                        :       :   :       ATT2 > 3:\n",
       "                        :       :   :       :...ATT7 <= 7: 1 (2)\n",
       "                        :       :   :           ATT7 > 7: 0 (3)\n",
       "                        :       :   ATT3 > 4:\n",
       "                        :       :   :...ATT6 <= 6:\n",
       "                        :       :       :...ATT9 <= 4: 1 (3/1)\n",
       "                        :       :       :   ATT9 > 4: 0 (6/1)\n",
       "                        :       :       ATT6 > 6:\n",
       "                        :       :       :...ATT6 > 7: 2 (4)\n",
       "                        :       :           ATT6 <= 7:\n",
       "                        :       :           :...ATT1 <= 3: 2 (2)\n",
       "                        :       :               ATT1 > 3: 1 (2)\n",
       "                        :       ATT9 > 5:\n",
       "                        :       :...ATT10 > 3:\n",
       "                        :           :...ATT3 > 6:\n",
       "                        :           :   :...ATT7 <= 8: 2 (6/1)\n",
       "                        :           :   :   ATT7 > 8: 0 (2)\n",
       "                        :           :   ATT3 <= 6:\n",
       "                        :           :   :...ATT2 > 1: 0 (18/7)\n",
       "                        :           :       ATT2 <= 1:\n",
       "                        :           :       :...ATT9 <= 6: 3 (3/1)\n",
       "                        :           :           ATT9 > 6: 1 (3/1)\n",
       "                        :           ATT10 <= 3:\n",
       "                        :           :...ATT10 <= 1:\n",
       "                        :               :...ATT8 > 6: 2 (2)\n",
       "                        :               :   ATT8 <= 6:\n",
       "                        :               :   :...ATT3 <= 2: 1 (2)\n",
       "                        :               :       ATT3 > 2: 0 (5)\n",
       "                        :               ATT10 > 1:\n",
       "                        :               :...ATT1 <= 5:\n",
       "                        :                   :...ATT4 <= 6:\n",
       "                        :                   :   :...ATT6 <= 4: 2 (2)\n",
       "                        :                   :   :   ATT6 > 4: 3 (25/1)\n",
       "                        :                   :   ATT4 > 6:\n",
       "                        :                   :   :...ATT1 <= 3: 0 (2)\n",
       "                        :                   :       ATT1 > 3: 3 (9/1)\n",
       "                        :                   ATT1 > 5:\n",
       "                        :                   :...ATT2 <= 4:\n",
       "                        :                       :...ATT3 <= 5: 1 (4)\n",
       "                        :                       :   ATT3 > 5: 0 (2)\n",
       "                        :                       ATT2 > 4:\n",
       "                        :                       :...ATT3 <= 6: 0 (3)\n",
       "                        :                           ATT3 > 6: 3 (3)\n",
       "                        ATT7 <= 4:\n",
       "                        :...ATT9 > 8:\n",
       "                            :...ATT6 > 7:\n",
       "                            :   :...ATT4 <= 6: 2 (10/1)\n",
       "                            :   :   ATT4 > 6: 1 (3/1)\n",
       "                            :   ATT6 <= 7:\n",
       "                            :   :...ATT8 > 5: 0 (7/1)\n",
       "                            :       ATT8 <= 5:\n",
       "                            :       :...ATT8 <= 1: 0 (2/1)\n",
       "                            :           ATT8 > 1:\n",
       "                            :           :...ATT8 <= 2: 1 (4)\n",
       "                            :               ATT8 > 2:\n",
       "                            :               :...ATT1 <= 5: 0 (2)\n",
       "                            :                   ATT1 > 5: 1 (2)\n",
       "                            ATT9 <= 8:\n",
       "                            :...ATT5 > 9:\n",
       "                                :...ATT3 <= 5: 0 (4)\n",
       "                                :   ATT3 > 5:\n",
       "                                :   :...ATT9 <= 4: 0 (2/1)\n",
       "                                :       ATT9 > 4: 1 (9/1)\n",
       "                                ATT5 <= 9:\n",
       "                                :...ATT5 <= 2:\n",
       "                                    :...ATT6 <= 9: 0 (6/2)\n",
       "                                    :   ATT6 > 9: 1 (3)\n",
       "                                    ATT5 > 2:\n",
       "                                    :...ATT2 > 4:\n",
       "                                        :...ATT1 > 5: 3 (40/2)\n",
       "                                        :   ATT1 <= 5:\n",
       "                                        :   :...ATT8 <= 2: 2 (4)\n",
       "                                        :       ATT8 > 2: 1 (3)\n",
       "                                        ATT2 <= 4:\n",
       "                                        :...ATT4 > 9:\n",
       "                                            :...ATT9 <= 5: 2 (2)\n",
       "                                            :   ATT9 > 5: 0 (4)\n",
       "                                            ATT4 <= 9:\n",
       "                                            :...ATT8 <= 3:\n",
       "                                                :...ATT5 <= 4:\n",
       "                                                :   :...ATT6 <= 6: 2 (8/1)\n",
       "                                                :   :   ATT6 > 6: 0 (2)\n",
       "                                                :   ATT5 > 4:\n",
       "                                                :   :...ATT6 > 8: 0 (5/2)\n",
       "                                                :       ATT6 <= 8:\n",
       "                                                :       :...ATT5 > 6: [S14]\n",
       "                                                :           ATT5 <= 6: [S15]\n",
       "                                                ATT8 > 3:\n",
       "                                                :...ATT5 <= 3: 1 (3)\n",
       "                                                    ATT5 > 3:\n",
       "                                                    :...ATT8 > 8:\n",
       "                                                        :...ATT1 <= 7: 2 (2)\n",
       "                                                        :   ATT1 > 7: 0 (2)\n",
       "                                                        ATT8 <= 8:\n",
       "                                                        :...ATT1 <= 2: [S16]\n",
       "                                                            ATT1 > 2:\n",
       "                                                            :...ATT8 > 5:\n",
       "                                                                :...ATT8 > 6: [S17]\n",
       "                                                                :   ATT8 <= 6: [S18]\n",
       "                                                                ATT8 <= 5: [S19]\n",
       "\n",
       "SubTree [S1]\n",
       "\n",
       "ATT10 <= 2: 1 (3/1)\n",
       "ATT10 > 2: 2 (3)\n",
       "\n",
       "SubTree [S2]\n",
       "\n",
       "ATT8 > 5: 1 (4/1)\n",
       "ATT8 <= 5:\n",
       ":...ATT5 <= 5: 0 (3)\n",
       "    ATT5 > 5: 1 (2)\n",
       "\n",
       "SubTree [S3]\n",
       "\n",
       "ATT2 <= 1: 2 (6)\n",
       "ATT2 > 1: 3 (2)\n",
       "\n",
       "SubTree [S4]\n",
       "\n",
       "ATT10 > 3: 0 (3/1)\n",
       "ATT10 <= 3:\n",
       ":...ATT8 > 4: 3 (6)\n",
       "    ATT8 <= 4:\n",
       "    :...ATT10 > 2: 0 (2)\n",
       "        ATT10 <= 2:\n",
       "        :...ATT5 <= 3: 3 (5)\n",
       "            ATT5 > 3:\n",
       "            :...ATT1 <= 3: 3 (4)\n",
       "                ATT1 > 3: 0 (2)\n",
       "\n",
       "SubTree [S5]\n",
       "\n",
       "ATT9 <= 6: 1 (4/1)\n",
       "ATT9 > 6: 0 (2)\n",
       "\n",
       "SubTree [S6]\n",
       "\n",
       "ATT2 <= 1: 0 (3)\n",
       "ATT2 > 1: 3 (3)\n",
       "\n",
       "SubTree [S7]\n",
       "\n",
       "ATT1 <= 3: 2 (4/1)\n",
       "ATT1 > 3: 3 (12/1)\n",
       "\n",
       "SubTree [S8]\n",
       "\n",
       "ATT7 > 5: 1 (7)\n",
       "ATT7 <= 5:\n",
       ":...ATT4 <= 3: 1 (2/1)\n",
       "    ATT4 > 3: 0 (6/2)\n",
       "\n",
       "SubTree [S9]\n",
       "\n",
       "ATT2 <= 8: 0 (4/1)\n",
       "ATT2 > 8: 1 (2)\n",
       "\n",
       "SubTree [S10]\n",
       "\n",
       "ATT10 > 8: 2 (2)\n",
       "ATT10 <= 8:\n",
       ":...ATT1 <= 3: 1 (4)\n",
       "    ATT1 > 3: 3 (29/1)\n",
       "\n",
       "SubTree [S11]\n",
       "\n",
       "ATT7 <= 2: 1 (3/1)\n",
       "ATT7 > 2: 0 (3)\n",
       "\n",
       "SubTree [S12]\n",
       "\n",
       "ATT1 > 7: 0 (3)\n",
       "ATT1 <= 7:\n",
       ":...ATT9 <= 5:\n",
       "    :...ATT5 <= 7: 2 (8)\n",
       "    :   ATT5 > 7: 0 (4/1)\n",
       "    ATT9 > 5:\n",
       "    :...ATT5 <= 8: 0 (5/2)\n",
       "        ATT5 > 8: 2 (5/1)\n",
       "\n",
       "SubTree [S13]\n",
       "\n",
       "ATT1 > 8: 2 (5)\n",
       "ATT1 <= 8:\n",
       ":...ATT8 > 6: 0 (4/2)\n",
       "    ATT8 <= 6:\n",
       "    :...ATT10 <= 2: 0 (2/1)\n",
       "        ATT10 > 2:\n",
       "        :...ATT5 <= 6: 3 (10/1)\n",
       "            ATT5 > 6: 2 (2)\n",
       "\n",
       "SubTree [S14]\n",
       "\n",
       "ATT2 <= 3: 0 (3/1)\n",
       "ATT2 > 3: 1 (3)\n",
       "\n",
       "SubTree [S15]\n",
       "\n",
       "ATT8 > 1: 1 (4)\n",
       "ATT8 <= 1:\n",
       ":...ATT2 <= 1: 1 (2)\n",
       "    ATT2 > 1: 3 (7)\n",
       "\n",
       "SubTree [S16]\n",
       "\n",
       "ATT2 <= 1: 0 (2/1)\n",
       "ATT2 > 1: 1 (2)\n",
       "\n",
       "SubTree [S17]\n",
       "\n",
       "ATT9 <= 4: 0 (2)\n",
       "ATT9 > 4: 3 (18)\n",
       "\n",
       "SubTree [S18]\n",
       "\n",
       "ATT3 > 4: 0 (2)\n",
       "ATT3 <= 4:\n",
       ":...ATT7 <= 2: 0 (2)\n",
       "    ATT7 > 2: 1 (5/1)\n",
       "\n",
       "SubTree [S19]\n",
       "\n",
       "ATT10 > 6: 1 (4/1)\n",
       "ATT10 <= 6:\n",
       ":...ATT7 > 2:\n",
       "    :...ATT10 <= 1: 2 (2)\n",
       "    :   ATT10 > 1: 3 (16)\n",
       "    ATT7 <= 2:\n",
       "    :...ATT10 <= 2: 3 (14)\n",
       "        ATT10 > 2:\n",
       "        :...ATT3 <= 6: 1 (4/1)\n",
       "            ATT3 > 6: 3 (6)\n",
       "\n",
       "\n",
       "Evaluation on training data (2804 cases):\n",
       "\n",
       "\t    Decision Tree   \n",
       "\t  ----------------  \n",
       "\t  Size      Errors  \n",
       "\n",
       "\t   537  350(12.5%)   <<\n",
       "\n",
       "\n",
       "\t   (a)   (b)   (c)   (d)    <-classified as\n",
       "\t  ----  ----  ----  ----\n",
       "\t   570    73    45    13    (a): class 0\n",
       "\t    75   572    41    13    (b): class 1\n",
       "\t    35    36   621     9    (c): class 2\n",
       "\t     2     8         691    (d): class 3\n",
       "\n",
       "\n",
       "\tAttribute usage:\n",
       "\n",
       "\t100.00%\tATT9\n",
       "\t 88.77%\tATT3\n",
       "\t 85.02%\tATT7\n",
       "\t 77.57%\tATT6\n",
       "\t 66.30%\tATT8\n",
       "\t 64.94%\tATT5\n",
       "\t 64.37%\tATT10\n",
       "\t 63.23%\tATT2\n",
       "\t 59.59%\tATT1\n",
       "\t 55.31%\tATT4\n",
       "\n",
       "\n",
       "Time: 0.0 secs\n"
      ]
     },
     "metadata": {},
     "output_type": "display_data"
    },
    {
     "data": {
      "text/plain": [
       "\n",
       "Call:\n",
       "C5.0.formula(formula = Result ~ ., data = training)\n",
       "\n",
       "Classification Tree\n",
       "Number of samples: 2804 \n",
       "Number of predictors: 10 \n",
       "\n",
       "Tree size: 537 \n",
       "\n",
       "Non-standard options: attempt to group attributes\n"
      ]
     },
     "metadata": {},
     "output_type": "display_data"
    }
   ],
   "source": [
    "summary(treeFit);\n",
    "treeFit;"
   ]
  },
  {
   "cell_type": "code",
   "execution_count": 100,
   "metadata": {
    "collapsed": true
   },
   "outputs": [],
   "source": [
    "# Predict.\n",
    "pred_tree <- predict(treeFit, prostateDatasetTest_modified);"
   ]
  },
  {
   "cell_type": "code",
   "execution_count": 101,
   "metadata": {
    "collapsed": false
   },
   "outputs": [
    {
     "data": {
      "text/plain": [
       "       truth\n",
       "predict  0  1  2  3\n",
       "      0 70 54 50  5\n",
       "      1 66 77 45 13\n",
       "      2 50 56 35 10\n",
       "      3 28 17 17  7"
      ]
     },
     "metadata": {},
     "output_type": "display_data"
    }
   ],
   "source": [
    "table(predict = pred_tree, truth = prostateDatasetTest_modified[['Result']]);\n",
    "\n",
    "#        truth\n",
    "# predict  0  1  2  3\n",
    "#       0 64 75 41 16\n",
    "#       1 65 68 54 10\n",
    "#       2 60 44 38  2\n",
    "#       3 25 17 14  7"
   ]
  },
  {
   "cell_type": "code",
   "execution_count": 102,
   "metadata": {
    "collapsed": false
   },
   "outputs": [
    {
     "data": {
      "text/plain": [
       "Confusion Matrix and Statistics\n",
       "\n",
       "          Reference\n",
       "Prediction  0  1  2  3\n",
       "         0 70 66 50 28\n",
       "         1 54 77 56 17\n",
       "         2 50 45 35 17\n",
       "         3  5 13 10  7\n",
       "\n",
       "Overall Statistics\n",
       "                                        \n",
       "               Accuracy : 0.315         \n",
       "                 95% CI : (0.278, 0.354)\n",
       "    No Information Rate : 0.335         \n",
       "    P-Value [Acc > NIR] : 0.86039       \n",
       "                                        \n",
       "                  Kappa : 0.037         \n",
       " Mcnemar's Test P-Value : 0.00201       \n",
       "\n",
       "Statistics by Class:\n",
       "\n",
       "                     Class: 0 Class: 1 Class: 2 Class: 3\n",
       "Sensitivity             0.391    0.383   0.2318   0.1014\n",
       "Specificity             0.658    0.682   0.7506   0.9473\n",
       "Pos Pred Value          0.327    0.377   0.2381   0.2000\n",
       "Neg Pred Value          0.718    0.687   0.7439   0.8903\n",
       "Prevalence              0.298    0.335   0.2517   0.1150\n",
       "Detection Rate          0.117    0.128   0.0583   0.0117\n",
       "Detection Prevalence    0.357    0.340   0.2450   0.0583\n",
       "Balanced Accuracy       0.525    0.532   0.4912   0.5244"
      ]
     },
     "metadata": {},
     "output_type": "display_data"
    }
   ],
   "source": [
    "confusionMatrix(actual, pred_tree)"
   ]
  },
  {
   "cell_type": "code",
   "execution_count": 103,
   "metadata": {
    "collapsed": true
   },
   "outputs": [],
   "source": [
    "#classError(table(predict = treePredict, truth = prostateDatasetTest_modified[['Result']]));\n",
    "\n",
    "# Correctly  classified observations:  177 \n",
    "# Total observations:  600 \n",
    "# Accuracy:  0.295 \n",
    "# Classification error:  0.705 "
   ]
  },
  {
   "cell_type": "markdown",
   "metadata": {},
   "source": [
    "# 10. Rule-based Models\n",
    "(Peter Tadich)"
   ]
  },
  {
   "cell_type": "code",
   "execution_count": 104,
   "metadata": {
    "collapsed": true
   },
   "outputs": [],
   "source": [
    "# Create a rule-based model using package 'C50'.\n",
    "if(TRUE){\n",
    "    \n",
    "    set.seed(1);\n",
    "    rulesFit <- C5.0(Result ~., data = training, rules = TRUE); # From 'C50' package.\n",
    "    \n",
    "}"
   ]
  },
  {
   "cell_type": "code",
   "execution_count": 105,
   "metadata": {
    "collapsed": false
   },
   "outputs": [
    {
     "data": {
      "text/plain": [
       "\n",
       "Call:\n",
       "C5.0.formula(formula = Result ~ ., data = training, rules = TRUE)\n",
       "\n",
       "\n",
       "C5.0 [Release 2.07 GPL Edition]  \tSat Dec 03 12:02:01 2016\n",
       "-------------------------------\n",
       "\n",
       "Class specified by attribute `outcome'\n",
       "\n",
       "Read 2804 cases (11 attributes) from undefined.data\n",
       "\n",
       "Rules:\n",
       "\n",
       "Rule 1: (8, lift 3.6)\n",
       "\tATT1 > 3\n",
       "\tATT2 > 6\n",
       "\tATT2 <= 9\n",
       "\tATT3 <= 5\n",
       "\tATT5 <= 5\n",
       "\tATT9 > 2\n",
       "\tATT9 <= 3\n",
       "\t->  class 0  [0.900]\n",
       "\n",
       "Rule 2: (8, lift 3.6)\n",
       "\tATT2 <= 5\n",
       "\tATT3 <= 7\n",
       "\tATT4 > 9\n",
       "\tATT6 > 3\n",
       "\tATT7 <= 4\n",
       "\tATT9 > 5\n",
       "\t->  class 0  [0.900]\n",
       "\n",
       "Rule 3: (8, lift 3.6)\n",
       "\tATT2 > 3\n",
       "\tATT2 <= 5\n",
       "\tATT3 <= 4\n",
       "\tATT7 > 7\n",
       "\tATT9 > 4\n",
       "\t->  class 0  [0.900]\n",
       "\n",
       "Rule 4: (7, lift 3.6)\n",
       "\tATT2 <= 2\n",
       "\tATT3 <= 6\n",
       "\tATT7 <= 8\n",
       "\tATT8 <= 4\n",
       "\tATT9 <= 2\n",
       "\tATT10 > 2\n",
       "\tATT10 <= 3\n",
       "\t->  class 0  [0.889]\n",
       "\n",
       "Rule 5: (7, lift 3.6)\n",
       "\tATT2 > 2\n",
       "\tATT2 <= 6\n",
       "\tATT3 <= 6\n",
       "\tATT4 > 2\n",
       "\tATT4 <= 8\n",
       "\tATT5 <= 5\n",
       "\tATT7 > 1\n",
       "\tATT7 <= 2\n",
       "\tATT8 <= 5\n",
       "\tATT10 <= 5\n",
       "\t->  class 0  [0.889]\n",
       "\n",
       "Rule 6: (7, lift 3.6)\n",
       "\tATT1 <= 5\n",
       "\tATT3 > 6\n",
       "\tATT7 <= 8\n",
       "\tATT9 <= 2\n",
       "\tATT10 > 8\n",
       "\t->  class 0  [0.889]\n",
       "\n",
       "Rule 7: (7, lift 3.6)\n",
       "\tATT3 > 6\n",
       "\tATT3 <= 7\n",
       "\tATT7 > 8\n",
       "\tATT9 > 2\n",
       "\tATT10 > 3\n",
       "\t->  class 0  [0.889]\n",
       "\n",
       "Rule 8: (7, lift 3.6)\n",
       "\tATT1 <= 6\n",
       "\tATT3 > 7\n",
       "\tATT4 > 7\n",
       "\tATT5 <= 8\n",
       "\tATT6 > 1\n",
       "\tATT6 <= 7\n",
       "\tATT9 > 3\n",
       "\tATT9 <= 5\n",
       "\tATT10 <= 7\n",
       "\t->  class 0  [0.889]\n",
       "\n",
       "Rule 9: (6, lift 3.5)\n",
       "\tATT5 <= 4\n",
       "\tATT6 > 1\n",
       "\tATT6 <= 3\n",
       "\tATT7 <= 7\n",
       "\tATT8 > 8\n",
       "\tATT9 > 3\n",
       "\t->  class 0  [0.875]\n",
       "\n",
       "Rule 10: (6, lift 3.5)\n",
       "\tATT2 <= 4\n",
       "\tATT3 <= 7\n",
       "\tATT5 > 2\n",
       "\tATT6 > 3\n",
       "\tATT7 <= 2\n",
       "\tATT8 > 5\n",
       "\tATT8 <= 6\n",
       "\tATT9 > 3\n",
       "\t->  class 0  [0.875]\n",
       "\n",
       "Rule 11: (6, lift 3.5)\n",
       "\tATT3 <= 7\n",
       "\tATT4 <= 9\n",
       "\tATT6 > 1\n",
       "\tATT7 <= 4\n",
       "\tATT8 > 6\n",
       "\tATT8 <= 8\n",
       "\tATT9 > 3\n",
       "\tATT9 <= 4\n",
       "\t->  class 0  [0.875]\n",
       "\n",
       "Rule 12: (13/1, lift 3.5)\n",
       "\tATT3 <= 7\n",
       "\tATT5 > 4\n",
       "\tATT5 <= 6\n",
       "\tATT6 > 1\n",
       "\tATT6 <= 3\n",
       "\tATT7 > 1\n",
       "\tATT8 <= 8\n",
       "\tATT9 > 3\n",
       "\tATT9 <= 5\n",
       "\tATT10 <= 5\n",
       "\t->  class 0  [0.867]\n",
       "\n",
       "Rule 13: (5, lift 3.4)\n",
       "\tATT3 > 4\n",
       "\tATT3 <= 5\n",
       "\tATT5 > 6\n",
       "\tATT7 <= 4\n",
       "\tATT9 <= 2\n",
       "\tATT10 > 6\n",
       "\t->  class 0  [0.857]\n",
       "\n",
       "Rule 14: (5, lift 3.4)\n",
       "\tATT1 > 3\n",
       "\tATT1 <= 9\n",
       "\tATT4 > 5\n",
       "\tATT4 <= 6\n",
       "\tATT5 > 3\n",
       "\tATT5 <= 6\n",
       "\tATT7 > 4\n",
       "\tATT7 <= 8\n",
       "\tATT9 <= 2\n",
       "\t->  class 0  [0.857]\n",
       "\n",
       "Rule 15: (5, lift 3.4)\n",
       "\tATT1 > 9\n",
       "\tATT2 <= 5\n",
       "\tATT3 <= 6\n",
       "\tATT6 <= 5\n",
       "\tATT7 > 4\n",
       "\tATT7 <= 8\n",
       "\tATT9 <= 2\n",
       "\tATT10 > 3\n",
       "\t->  class 0  [0.857]\n",
       "\n",
       "Rule 16: (5, lift 3.4)\n",
       "\tATT3 > 6\n",
       "\tATT3 <= 8\n",
       "\tATT6 > 4\n",
       "\tATT9 <= 2\n",
       "\tATT10 > 8\n",
       "\t->  class 0  [0.857]\n",
       "\n",
       "Rule 17: (5, lift 3.4)\n",
       "\tATT3 <= 6\n",
       "\tATT7 > 8\n",
       "\tATT8 > 8\n",
       "\tATT9 <= 2\n",
       "\t->  class 0  [0.857]\n",
       "\n",
       "Rule 18: (5, lift 3.4)\n",
       "\tATT1 > 3\n",
       "\tATT1 <= 4\n",
       "\tATT5 > 5\n",
       "\tATT6 <= 1\n",
       "\tATT7 <= 8\n",
       "\tATT9 > 5\n",
       "\t->  class 0  [0.857]\n",
       "\n",
       "Rule 19: (5, lift 3.4)\n",
       "\tATT1 > 5\n",
       "\tATT1 <= 9\n",
       "\tATT3 > 6\n",
       "\tATT3 <= 9\n",
       "\tATT6 <= 1\n",
       "\tATT7 > 1\n",
       "\tATT9 > 5\n",
       "\t->  class 0  [0.857]\n",
       "\n",
       "Rule 20: (5, lift 3.4)\n",
       "\tATT3 > 9\n",
       "\tATT6 <= 1\n",
       "\tATT7 <= 8\n",
       "\tATT9 > 7\n",
       "\t->  class 0  [0.857]\n",
       "\n",
       "Rule 21: (5, lift 3.4)\n",
       "\tATT1 > 3\n",
       "\tATT2 <= 3\n",
       "\tATT3 <= 9\n",
       "\tATT5 <= 8\n",
       "\tATT6 > 1\n",
       "\tATT6 <= 7\n",
       "\tATT7 > 1\n",
       "\tATT7 <= 8\n",
       "\tATT8 <= 3\n",
       "\tATT9 > 2\n",
       "\tATT9 <= 3\n",
       "\tATT10 <= 2\n",
       "\t->  class 0  [0.857]\n",
       "\n",
       "Rule 22: (5, lift 3.4)\n",
       "\tATT3 <= 2\n",
       "\tATT5 <= 6\n",
       "\tATT6 > 1\n",
       "\tATT6 <= 3\n",
       "\tATT9 > 3\n",
       "\tATT10 > 6\n",
       "\t->  class 0  [0.857]\n",
       "\n",
       "Rule 23: (5, lift 3.4)\n",
       "\tATT2 <= 4\n",
       "\tATT3 > 4\n",
       "\tATT3 <= 7\n",
       "\tATT4 <= 9\n",
       "\tATT5 > 3\n",
       "\tATT6 > 1\n",
       "\tATT7 <= 4\n",
       "\tATT8 > 5\n",
       "\tATT8 <= 6\n",
       "\tATT9 > 3\n",
       "\t->  class 0  [0.857]\n",
       "\n",
       "Rule 24: (5, lift 3.4)\n",
       "\tATT2 <= 5\n",
       "\tATT3 > 2\n",
       "\tATT6 > 3\n",
       "\tATT7 > 4\n",
       "\tATT8 <= 6\n",
       "\tATT9 > 5\n",
       "\tATT10 <= 1\n",
       "\t->  class 0  [0.857]\n",
       "\n",
       "Rule 25: (5, lift 3.4)\n",
       "\tATT2 > 5\n",
       "\tATT3 <= 7\n",
       "\tATT4 > 3\n",
       "\tATT6 > 6\n",
       "\tATT6 <= 9\n",
       "\tATT8 <= 2\n",
       "\tATT9 > 7\n",
       "\t->  class 0  [0.857]\n",
       "\n",
       "Rule 26: (5, lift 3.4)\n",
       "\tATT2 > 5\n",
       "\tATT4 > 8\n",
       "\tATT6 > 8\n",
       "\tATT8 > 2\n",
       "\tATT9 > 2\n",
       "\tATT10 <= 7\n",
       "\t->  class 0  [0.857]\n",
       "\n",
       "Rule 27: (5, lift 3.4)\n",
       "\tATT1 <= 8\n",
       "\tATT2 > 5\n",
       "\tATT3 <= 7\n",
       "\tATT5 > 5\n",
       "\tATT6 > 1\n",
       "\tATT9 > 3\n",
       "\tATT10 > 8\n",
       "\t->  class 0  [0.857]\n",
       "\n",
       "Rule 28: (5, lift 3.4)\n",
       "\tATT1 > 7\n",
       "\tATT1 <= 9\n",
       "\tATT2 > 1\n",
       "\tATT2 <= 5\n",
       "\tATT3 > 7\n",
       "\tATT3 <= 9\n",
       "\tATT4 <= 6\n",
       "\tATT5 > 2\n",
       "\tATT7 <= 8\n",
       "\tATT8 <= 6\n",
       "\tATT9 > 2\n",
       "\t->  class 0  [0.857]\n",
       "\n",
       "Rule 29: (5, lift 3.4)\n",
       "\tATT3 > 7\n",
       "\tATT4 <= 6\n",
       "\tATT5 <= 3\n",
       "\tATT6 > 7\n",
       "\tATT7 <= 8\n",
       "\tATT9 > 2\n",
       "\t->  class 0  [0.857]\n",
       "\n",
       "Rule 30: (5, lift 3.4)\n",
       "\tATT2 <= 6\n",
       "\tATT3 > 7\n",
       "\tATT4 <= 6\n",
       "\tATT5 > 9\n",
       "\tATT6 > 7\n",
       "\tATT9 > 2\n",
       "\t->  class 0  [0.857]\n",
       "\n",
       "Rule 31: (12/1, lift 3.4)\n",
       "\tATT3 > 7\n",
       "\tATT4 > 7\n",
       "\tATT6 > 1\n",
       "\tATT7 <= 8\n",
       "\tATT9 > 4\n",
       "\tATT9 <= 5\n",
       "\tATT10 <= 7\n",
       "\t->  class 0  [0.857]\n",
       "\n",
       "Rule 32: (11/1, lift 3.4)\n",
       "\tATT1 <= 6\n",
       "\tATT3 <= 8\n",
       "\tATT7 > 8\n",
       "\tATT8 > 1\n",
       "\tATT8 <= 8\n",
       "\tATT9 <= 2\n",
       "\tATT10 > 4\n",
       "\t->  class 0  [0.846]\n",
       "\n",
       "Rule 33: (4, lift 3.3)\n",
       "\tATT2 > 8\n",
       "\tATT5 <= 6\n",
       "\tATT7 <= 8\n",
       "\tATT9 <= 2\n",
       "\tATT10 > 7\n",
       "\t->  class 0  [0.833]\n",
       "\n",
       "Rule 34: (4, lift 3.3)\n",
       "\tATT3 <= 6\n",
       "\tATT5 <= 3\n",
       "\tATT7 > 4\n",
       "\tATT8 > 3\n",
       "\tATT9 <= 1\n",
       "\t->  class 0  [0.833]\n",
       "\n",
       "Rule 35: (4, lift 3.3)\n",
       "\tATT3 > 8\n",
       "\tATT6 <= 5\n",
       "\tATT7 > 7\n",
       "\tATT7 <= 8\n",
       "\tATT8 > 2\n",
       "\tATT9 <= 2\n",
       "\tATT10 <= 8\n",
       "\t->  class 0  [0.833]\n",
       "\n",
       "Rule 36: (4, lift 3.3)\n",
       "\tATT1 > 8\n",
       "\tATT7 > 8\n",
       "\tATT9 > 1\n",
       "\tATT9 <= 2\n",
       "\tATT10 <= 6\n",
       "\t->  class 0  [0.833]\n",
       "\n",
       "Rule 37: (4, lift 3.3)\n",
       "\tATT5 <= 3\n",
       "\tATT6 <= 1\n",
       "\tATT7 > 9\n",
       "\t->  class 0  [0.833]\n",
       "\n",
       "Rule 38: (4, lift 3.3)\n",
       "\tATT2 <= 3\n",
       "\tATT5 > 5\n",
       "\tATT6 <= 7\n",
       "\tATT7 <= 1\n",
       "\tATT8 > 4\n",
       "\tATT9 > 2\n",
       "\tATT9 <= 3\n",
       "\t->  class 0  [0.833]\n",
       "\n",
       "Rule 39: (4, lift 3.3)\n",
       "\tATT2 <= 6\n",
       "\tATT3 <= 9\n",
       "\tATT6 > 1\n",
       "\tATT8 > 6\n",
       "\tATT9 > 2\n",
       "\tATT9 <= 3\n",
       "\tATT10 > 2\n",
       "\tATT10 <= 4\n",
       "\t->  class 0  [0.833]\n",
       "\n",
       "Rule 40: (4, lift 3.3)\n",
       "\tATT2 <= 3\n",
       "\tATT3 <= 4\n",
       "\tATT5 <= 4\n",
       "\tATT6 > 1\n",
       "\tATT7 <= 8\n",
       "\tATT9 > 2\n",
       "\tATT9 <= 3\n",
       "\tATT10 > 6\n",
       "\t->  class 0  [0.833]\n",
       "\n",
       "Rule 41: (4, lift 3.3)\n",
       "\tATT1 <= 3\n",
       "\tATT2 <= 5\n",
       "\tATT3 <= 7\n",
       "\tATT4 > 6\n",
       "\tATT6 > 1\n",
       "\tATT7 > 5\n",
       "\tATT9 > 2\n",
       "\tATT10 > 1\n",
       "\tATT10 <= 3\n",
       "\t->  class 0  [0.833]\n",
       "\n",
       "Rule 42: (4, lift 3.3)\n",
       "\tATT1 > 5\n",
       "\tATT2 <= 4\n",
       "\tATT3 > 5\n",
       "\tATT3 <= 7\n",
       "\tATT7 > 4\n",
       "\tATT9 > 5\n",
       "\tATT10 <= 3\n",
       "\t->  class 0  [0.833]\n",
       "\n",
       "Rule 43: (4, lift 3.3)\n",
       "\tATT1 > 2\n",
       "\tATT2 > 5\n",
       "\tATT3 <= 7\n",
       "\tATT4 <= 6\n",
       "\tATT5 > 2\n",
       "\tATT5 <= 4\n",
       "\tATT6 > 3\n",
       "\tATT8 > 3\n",
       "\tATT9 > 6\n",
       "\t->  class 0  [0.833]\n",
       "\n",
       "Rule 44: (10/1, lift 3.3)\n",
       "\tATT2 <= 2\n",
       "\tATT3 <= 6\n",
       "\tATT4 <= 8\n",
       "\tATT5 <= 6\n",
       "\tATT6 <= 3\n",
       "\tATT7 > 2\n",
       "\tATT7 <= 4\n",
       "\tATT9 <= 2\n",
       "\tATT10 <= 7\n",
       "\t->  class 0  [0.833]\n",
       "\n",
       "Rule 45: (4, lift 3.3)\n",
       "\tATT3 > 7\n",
       "\tATT4 <= 2\n",
       "\tATT5 <= 9\n",
       "\tATT6 > 7\n",
       "\tATT7 <= 8\n",
       "\tATT8 <= 3\n",
       "\tATT9 > 3\n",
       "\t->  class 0  [0.833]\n",
       "\n",
       "Rule 46: (15/2, lift 3.3)\n",
       "\tATT1 > 2\n",
       "\tATT2 > 5\n",
       "\tATT3 <= 7\n",
       "\tATT4 <= 6\n",
       "\tATT5 > 2\n",
       "\tATT6 > 1\n",
       "\tATT8 > 3\n",
       "\tATT8 <= 6\n",
       "\tATT9 > 2\n",
       "\tATT9 <= 6\n",
       "\tATT10 <= 7\n",
       "\t->  class 0  [0.824]\n",
       "\n",
       "Rule 47: (9/1, lift 3.3)\n",
       "\tATT3 <= 6\n",
       "\tATT4 <= 6\n",
       "\tATT5 > 6\n",
       "\tATT7 > 4\n",
       "\tATT7 <= 6\n",
       "\tATT8 <= 5\n",
       "\tATT9 <= 2\n",
       "\t->  class 0  [0.818]\n",
       "\n",
       "Rule 48: (9/1, lift 3.3)\n",
       "\tATT1 > 2\n",
       "\tATT2 > 5\n",
       "\tATT3 <= 5\n",
       "\tATT6 > 3\n",
       "\tATT6 <= 6\n",
       "\tATT8 <= 2\n",
       "\tATT9 > 3\n",
       "\tATT9 <= 7\n",
       "\t->  class 0  [0.818]\n",
       "\n",
       "Rule 49: (8/1, lift 3.2)\n",
       "\tATT2 > 1\n",
       "\tATT3 <= 5\n",
       "\tATT4 <= 8\n",
       "\tATT5 > 6\n",
       "\tATT5 <= 7\n",
       "\tATT6 <= 6\n",
       "\tATT7 <= 8\n",
       "\tATT8 > 3\n",
       "\tATT9 <= 2\n",
       "\t->  class 0  [0.800]\n",
       "\n",
       "Rule 50: (3, lift 3.2)\n",
       "\tATT3 > 4\n",
       "\tATT3 <= 5\n",
       "\tATT8 > 9\n",
       "\tATT9 <= 2\n",
       "\t->  class 0  [0.800]\n",
       "\n",
       "Rule 51: (8/1, lift 3.2)\n",
       "\tATT1 > 2\n",
       "\tATT1 <= 8\n",
       "\tATT3 > 6\n",
       "\tATT3 <= 7\n",
       "\tATT5 > 4\n",
       "\tATT7 <= 8\n",
       "\tATT9 <= 1\n",
       "\t->  class 0  [0.800]\n",
       "\n",
       "Rule 52: (3, lift 3.2)\n",
       "\tATT3 > 8\n",
       "\tATT4 <= 7\n",
       "\tATT7 <= 6\n",
       "\tATT8 > 7\n",
       "\tATT8 <= 9\n",
       "\tATT9 <= 1\n",
       "\t->  class 0  [0.800]\n",
       "\n",
       "Rule 53: (8/1, lift 3.2)\n",
       "\tATT4 > 3\n",
       "\tATT5 > 2\n",
       "\tATT5 <= 5\n",
       "\tATT6 > 2\n",
       "\tATT6 <= 3\n",
       "\tATT7 > 5\n",
       "\tATT9 > 3\n",
       "\tATT10 <= 5\n",
       "\t->  class 0  [0.800]\n",
       "\n",
       "Rule 54: (23/4, lift 3.2)\n",
       "\tATT1 <= 5\n",
       "\tATT2 <= 4\n",
       "\tATT3 <= 7\n",
       "\tATT5 > 6\n",
       "\tATT6 > 1\n",
       "\tATT6 <= 3\n",
       "\tATT7 > 1\n",
       "\tATT8 <= 9\n",
       "\tATT9 > 3\n",
       "\tATT10 <= 7\n",
       "\t->  class 0  [0.800]\n",
       "\n",
       "Rule 55: (3, lift 3.2)\n",
       "\tATT1 <= 2\n",
       "\tATT2 > 5\n",
       "\tATT3 <= 5\n",
       "\tATT4 > 4\n",
       "\tATT6 > 6\n",
       "\tATT6 <= 8\n",
       "\t->  class 0  [0.800]\n",
       "\n",
       "Rule 56: (8/1, lift 3.2)\n",
       "\tATT1 <= 4\n",
       "\tATT3 > 7\n",
       "\tATT4 > 7\n",
       "\tATT8 > 2\n",
       "\tATT9 > 5\n",
       "\tATT9 <= 9\n",
       "\tATT10 <= 9\n",
       "\t->  class 0  [0.800]\n",
       "\n",
       "Rule 57: (12/2, lift 3.1)\n",
       "\tATT1 <= 6\n",
       "\tATT3 > 8\n",
       "\tATT4 <= 9\n",
       "\tATT7 <= 8\n",
       "\tATT8 > 2\n",
       "\tATT8 <= 5\n",
       "\tATT9 <= 2\n",
       "\t->  class 0  [0.786]\n",
       "\n",
       "Rule 58: (12/2, lift 3.1)\n",
       "\tATT1 > 2\n",
       "\tATT2 <= 6\n",
       "\tATT3 > 3\n",
       "\tATT4 <= 5\n",
       "\tATT5 > 3\n",
       "\tATT5 <= 5\n",
       "\tATT6 > 2\n",
       "\tATT6 <= 8\n",
       "\tATT9 > 2\n",
       "\tATT9 <= 3\n",
       "\t->  class 0  [0.786]\n",
       "\n",
       "Rule 59: (7/1, lift 3.1)\n",
       "\tATT2 > 2\n",
       "\tATT2 <= 8\n",
       "\tATT3 > 7\n",
       "\tATT5 <= 8\n",
       "\tATT9 <= 2\n",
       "\tATT10 > 7\n",
       "\tATT10 <= 8\n",
       "\t->  class 0  [0.778]\n",
       "\n",
       "Rule 60: (7/1, lift 3.1)\n",
       "\tATT3 > 8\n",
       "\tATT4 <= 5\n",
       "\tATT5 > 5\n",
       "\tATT8 > 2\n",
       "\tATT8 <= 5\n",
       "\tATT9 <= 2\n",
       "\t->  class 0  [0.778]\n",
       "\n",
       "Rule 61: (7/1, lift 3.1)\n",
       "\tATT3 > 8\n",
       "\tATT4 > 7\n",
       "\tATT7 <= 6\n",
       "\tATT8 > 5\n",
       "\tATT8 <= 9\n",
       "\tATT9 <= 1\n",
       "\t->  class 0  [0.778]\n",
       "\n",
       "Rule 62: (7/1, lift 3.1)\n",
       "\tATT5 > 2\n",
       "\tATT5 <= 6\n",
       "\tATT6 <= 1\n",
       "\tATT7 > 1\n",
       "\tATT7 <= 5\n",
       "\tATT8 <= 2\n",
       "\tATT9 > 2\n",
       "\tATT9 <= 5\n",
       "\tATT10 <= 4\n",
       "\t->  class 0  [0.778]\n",
       "\n",
       "Rule 63: (7/1, lift 3.1)\n",
       "\tATT1 > 5\n",
       "\tATT3 > 6\n",
       "\tATT3 <= 8\n",
       "\tATT6 <= 1\n",
       "\tATT7 > 1\n",
       "\tATT9 > 5\n",
       "\t->  class 0  [0.778]\n",
       "\n",
       "Rule 64: (7/1, lift 3.1)\n",
       "\tATT1 > 5\n",
       "\tATT2 <= 4\n",
       "\tATT3 <= 7\n",
       "\tATT4 <= 9\n",
       "\tATT6 > 3\n",
       "\tATT7 > 4\n",
       "\tATT7 <= 5\n",
       "\tATT9 > 3\n",
       "\t->  class 0  [0.778]\n",
       "\n",
       "Rule 65: (10/2, lift 3.0)\n",
       "\tATT2 <= 4\n",
       "\tATT3 <= 7\n",
       "\tATT5 > 3\n",
       "\tATT5 <= 9\n",
       "\tATT6 > 1\n",
       "\tATT7 <= 4\n",
       "\tATT8 > 8\n",
       "\tATT9 > 2\n",
       "\tATT9 <= 8\n",
       "\t->  class 0  [0.750]\n",
       "\n",
       "Rule 66: (10/2, lift 3.0)\n",
       "\tATT3 > 4\n",
       "\tATT3 <= 7\n",
       "\tATT6 > 3\n",
       "\tATT6 <= 6\n",
       "\tATT7 > 5\n",
       "\tATT9 > 4\n",
       "\tATT9 <= 5\n",
       "\t->  class 0  [0.750]\n",
       "\n",
       "Rule 67: (6/1, lift 3.0)\n",
       "\tATT2 <= 1\n",
       "\tATT5 > 6\n",
       "\tATT7 <= 4\n",
       "\tATT8 <= 2\n",
       "\tATT9 <= 2\n",
       "\t->  class 0  [0.750]\n",
       "\n",
       "Rule 68: (12/3, lift 2.9)\n",
       "\tATT2 <= 7\n",
       "\tATT3 <= 6\n",
       "\tATT4 > 6\n",
       "\tATT5 > 3\n",
       "\tATT7 > 4\n",
       "\tATT7 <= 8\n",
       "\tATT8 <= 5\n",
       "\tATT9 <= 2\n",
       "\tATT10 > 2\n",
       "\t->  class 0  [0.714]\n",
       "\n",
       "Rule 69: (12/3, lift 2.9)\n",
       "\tATT1 <= 9\n",
       "\tATT2 > 1\n",
       "\tATT2 <= 5\n",
       "\tATT3 > 7\n",
       "\tATT3 <= 9\n",
       "\tATT4 <= 6\n",
       "\tATT5 > 2\n",
       "\tATT5 <= 8\n",
       "\tATT8 <= 6\n",
       "\tATT9 > 5\n",
       "\tATT9 <= 9\n",
       "\tATT10 <= 9\n",
       "\t->  class 0  [0.714]\n",
       "\n",
       "Rule 70: (14/4, lift 2.8)\n",
       "\tATT2 > 5\n",
       "\tATT2 <= 9\n",
       "\tATT3 > 7\n",
       "\tATT4 > 3\n",
       "\tATT4 <= 5\n",
       "\tATT5 > 2\n",
       "\tATT6 <= 7\n",
       "\tATT7 <= 5\n",
       "\tATT9 <= 9\n",
       "\t->  class 0  [0.688]\n",
       "\n",
       "Rule 71: (10/3, lift 2.7)\n",
       "\tATT7 > 9\n",
       "\tATT9 > 2\n",
       "\tATT9 <= 3\n",
       "\t->  class 0  [0.667]\n",
       "\n",
       "Rule 72: (11/4, lift 2.5)\n",
       "\tATT4 <= 3\n",
       "\tATT5 <= 2\n",
       "\tATT6 <= 1\n",
       "\tATT7 <= 5\n",
       "\tATT8 > 1\n",
       "\t->  class 0  [0.615]\n",
       "\n",
       "Rule 73: (18/8, lift 2.2)\n",
       "\tATT1 > 3\n",
       "\tATT2 > 6\n",
       "\tATT2 <= 7\n",
       "\tATT9 > 2\n",
       "\tATT9 <= 3\n",
       "\t->  class 0  [0.550]\n",
       "\n",
       "Rule 74: (24/11, lift 2.2)\n",
       "\tATT1 > 4\n",
       "\tATT3 <= 6\n",
       "\tATT6 <= 1\n",
       "\tATT7 <= 7\n",
       "\tATT9 > 5\n",
       "\tATT9 <= 8\n",
       "\tATT10 > 2\n",
       "\t->  class 0  [0.538]\n",
       "\n",
       "Rule 75: (45/26, lift 1.7)\n",
       "\tATT2 <= 3\n",
       "\tATT3 > 9\n",
       "\tATT5 <= 5\n",
       "\t->  class 0  [0.426]\n",
       "\n",
       "Rule 76: (105/62, lift 1.6)\n",
       "\tATT3 <= 7\n",
       "\tATT8 > 4\n",
       "\tATT9 > 1\n",
       "\tATT9 <= 2\n",
       "\t->  class 0  [0.411]\n",
       "\n",
       "Rule 77: (179/111, lift 1.5)\n",
       "\tATT3 <= 7\n",
       "\tATT5 > 8\n",
       "\tATT6 > 1\n",
       "\tATT9 > 3\n",
       "\t->  class 0  [0.381]\n",
       "\n",
       "Rule 78: (121/76, lift 1.5)\n",
       "\tATT3 > 7\n",
       "\tATT4 > 7\n",
       "\tATT9 > 3\n",
       "\tATT9 <= 9\n",
       "\tATT10 <= 9\n",
       "\t->  class 0  [0.374]\n",
       "\n",
       "Rule 79: (87/55, lift 1.5)\n",
       "\tATT2 > 2\n",
       "\tATT7 <= 2\n",
       "\tATT8 <= 5\n",
       "\tATT9 <= 2\n",
       "\t->  class 0  [0.371]\n",
       "\n",
       "Rule 80: (130/85, lift 1.4)\n",
       "\tATT2 > 5\n",
       "\tATT6 > 3\n",
       "\tATT6 <= 4\n",
       "\t->  class 0  [0.348]\n",
       "\n",
       "Rule 81: (2195/1628, lift 1.0)\n",
       "\tATT1 > 3\n",
       "\t->  class 0  [0.259]\n",
       "\n",
       "Rule 82: (8, lift 3.6)\n",
       "\tATT2 > 1\n",
       "\tATT3 > 7\n",
       "\tATT4 <= 4\n",
       "\tATT5 <= 2\n",
       "\tATT6 > 1\n",
       "\tATT6 <= 7\n",
       "\tATT9 > 3\n",
       "\tATT10 <= 8\n",
       "\t->  class 1  [0.900]\n",
       "\n",
       "Rule 83: (7, lift 3.6)\n",
       "\tATT2 > 1\n",
       "\tATT3 <= 4\n",
       "\tATT5 > 6\n",
       "\tATT5 <= 9\n",
       "\tATT8 <= 1\n",
       "\tATT9 <= 2\n",
       "\t->  class 1  [0.889]\n",
       "\n",
       "Rule 84: (7, lift 3.6)\n",
       "\tATT2 > 1\n",
       "\tATT3 <= 6\n",
       "\tATT4 <= 8\n",
       "\tATT5 > 7\n",
       "\tATT6 <= 6\n",
       "\tATT7 > 1\n",
       "\tATT7 <= 4\n",
       "\tATT8 > 3\n",
       "\tATT9 <= 2\n",
       "\t->  class 1  [0.889]\n",
       "\n",
       "Rule 85: (6, lift 3.5)\n",
       "\tATT3 <= 6\n",
       "\tATT5 <= 9\n",
       "\tATT7 > 4\n",
       "\tATT8 > 5\n",
       "\tATT9 <= 2\n",
       "\tATT10 > 1\n",
       "\tATT10 <= 3\n",
       "\t->  class 1  [0.875]\n",
       "\n",
       "Rule 86: (6, lift 3.5)\n",
       "\tATT1 > 4\n",
       "\tATT1 <= 5\n",
       "\tATT3 > 6\n",
       "\tATT6 <= 1\n",
       "\tATT9 > 5\n",
       "\t->  class 1  [0.875]\n",
       "\n",
       "Rule 87: (6, lift 3.5)\n",
       "\tATT2 > 6\n",
       "\tATT2 <= 7\n",
       "\tATT5 > 5\n",
       "\tATT7 <= 6\n",
       "\tATT8 > 1\n",
       "\tATT9 > 2\n",
       "\tATT9 <= 3\n",
       "\t->  class 1  [0.875]\n",
       "\n",
       "Rule 88: (6, lift 3.5)\n",
       "\tATT2 <= 4\n",
       "\tATT3 <= 7\n",
       "\tATT4 <= 9\n",
       "\tATT5 > 2\n",
       "\tATT5 <= 3\n",
       "\tATT7 <= 4\n",
       "\tATT8 > 3\n",
       "\tATT9 > 2\n",
       "\t->  class 1  [0.875]\n",
       "\n",
       "Rule 89: (6, lift 3.5)\n",
       "\tATT2 <= 5\n",
       "\tATT6 > 3\n",
       "\tATT6 <= 7\n",
       "\tATT8 > 1\n",
       "\tATT8 <= 2\n",
       "\tATT9 > 8\n",
       "\t->  class 1  [0.875]\n",
       "\n",
       "Rule 90: (6, lift 3.5)\n",
       "\tATT2 > 3\n",
       "\tATT2 <= 5\n",
       "\tATT3 <= 7\n",
       "\tATT6 > 3\n",
       "\tATT7 > 5\n",
       "\tATT7 <= 7\n",
       "\tATT9 > 3\n",
       "\tATT9 <= 5\n",
       "\t->  class 1  [0.875]\n",
       "\n",
       "Rule 91: (6, lift 3.5)\n",
       "\tATT1 <= 6\n",
       "\tATT3 > 7\n",
       "\tATT6 > 1\n",
       "\tATT9 > 3\n",
       "\tATT10 > 9\n",
       "\t->  class 1  [0.875]\n",
       "\n",
       "Rule 92: (5, lift 3.4)\n",
       "\tATT3 > 8\n",
       "\tATT6 <= 3\n",
       "\tATT8 <= 2\n",
       "\tATT9 > 1\n",
       "\tATT9 <= 2\n",
       "\tATT10 <= 8\n",
       "\t->  class 1  [0.857]\n",
       "\n",
       "Rule 93: (5, lift 3.4)\n",
       "\tATT1 > 6\n",
       "\tATT1 <= 9\n",
       "\tATT2 <= 9\n",
       "\tATT6 <= 1\n",
       "\tATT7 <= 7\n",
       "\tATT8 <= 6\n",
       "\tATT9 > 5\n",
       "\tATT9 <= 8\n",
       "\tATT10 > 2\n",
       "\t->  class 1  [0.857]\n",
       "\n",
       "Rule 94: (5, lift 3.4)\n",
       "\tATT2 <= 3\n",
       "\tATT6 > 7\n",
       "\tATT8 <= 3\n",
       "\tATT9 > 2\n",
       "\tATT9 <= 3\n",
       "\t->  class 1  [0.857]\n",
       "\n",
       "Rule 95: (5, lift 3.4)\n",
       "\tATT1 > 3\n",
       "\tATT2 > 4\n",
       "\tATT2 <= 5\n",
       "\tATT3 <= 7\n",
       "\tATT7 > 4\n",
       "\tATT7 <= 5\n",
       "\tATT8 > 5\n",
       "\t->  class 1  [0.857]\n",
       "\n",
       "Rule 96: (5, lift 3.4)\n",
       "\tATT1 <= 9\n",
       "\tATT4 > 5\n",
       "\tATT4 <= 7\n",
       "\tATT6 > 1\n",
       "\tATT7 <= 8\n",
       "\tATT9 > 3\n",
       "\tATT10 > 9\n",
       "\t->  class 1  [0.857]\n",
       "\n",
       "Rule 97: (10/1, lift 3.3)\n",
       "\tATT1 > 2\n",
       "\tATT3 > 6\n",
       "\tATT3 <= 7\n",
       "\tATT4 > 4\n",
       "\tATT5 <= 4\n",
       "\tATT9 <= 2\n",
       "\t->  class 1  [0.833]\n",
       "\n",
       "Rule 98: (4, lift 3.3)\n",
       "\tATT2 > 2\n",
       "\tATT3 <= 6\n",
       "\tATT5 > 5\n",
       "\tATT5 <= 6\n",
       "\tATT7 > 1\n",
       "\tATT7 <= 2\n",
       "\tATT9 <= 2\n",
       "\t->  class 1  [0.833]\n",
       "\n",
       "Rule 99: (4, lift 3.3)\n",
       "\tATT3 > 5\n",
       "\tATT3 <= 7\n",
       "\tATT5 > 4\n",
       "\tATT6 <= 1\n",
       "\tATT7 <= 1\n",
       "\tATT8 <= 5\n",
       "\tATT9 > 2\n",
       "\tATT10 <= 4\n",
       "\t->  class 1  [0.833]\n",
       "\n",
       "Rule 100: (4, lift 3.3)\n",
       "\tATT2 > 1\n",
       "\tATT2 <= 4\n",
       "\tATT3 <= 4\n",
       "\tATT5 > 6\n",
       "\tATT7 > 3\n",
       "\tATT7 <= 4\n",
       "\tATT8 > 1\n",
       "\tATT8 <= 3\n",
       "\t->  class 1  [0.833]\n",
       "\n",
       "Rule 101: (4, lift 3.3)\n",
       "\tATT1 <= 4\n",
       "\tATT2 > 3\n",
       "\tATT2 <= 6\n",
       "\tATT6 > 1\n",
       "\tATT7 <= 7\n",
       "\tATT8 <= 7\n",
       "\tATT9 > 2\n",
       "\tATT9 <= 3\n",
       "\tATT10 > 5\n",
       "\t->  class 1  [0.833]\n",
       "\n",
       "Rule 102: (4, lift 3.3)\n",
       "\tATT2 > 6\n",
       "\tATT3 > 8\n",
       "\tATT6 > 1\n",
       "\tATT6 <= 8\n",
       "\tATT8 <= 1\n",
       "\tATT9 <= 3\n",
       "\t->  class 1  [0.833]\n",
       "\n",
       "Rule 103: (4, lift 3.3)\n",
       "\tATT2 > 1\n",
       "\tATT3 <= 4\n",
       "\tATT4 <= 8\n",
       "\tATT5 > 9\n",
       "\tATT7 <= 4\n",
       "\tATT9 <= 2\n",
       "\t->  class 1  [0.833]\n",
       "\n",
       "Rule 104: (4, lift 3.3)\n",
       "\tATT2 > 7\n",
       "\tATT4 <= 8\n",
       "\tATT6 > 1\n",
       "\tATT8 <= 1\n",
       "\tATT9 > 2\n",
       "\tATT9 <= 3\n",
       "\t->  class 1  [0.833]\n",
       "\n",
       "Rule 105: (4, lift 3.3)\n",
       "\tATT1 <= 7\n",
       "\tATT3 <= 6\n",
       "\tATT4 <= 2\n",
       "\tATT5 <= 6\n",
       "\tATT7 <= 4\n",
       "\tATT9 <= 1\n",
       "\tATT10 <= 2\n",
       "\t->  class 1  [0.833]\n",
       "\n",
       "Rule 106: (4, lift 3.3)\n",
       "\tATT3 <= 7\n",
       "\tATT5 > 6\n",
       "\tATT6 > 1\n",
       "\tATT6 <= 3\n",
       "\tATT7 <= 5\n",
       "\tATT9 > 6\n",
       "\tATT10 > 7\n",
       "\t->  class 1  [0.833]\n",
       "\n",
       "Rule 107: (4, lift 3.3)\n",
       "\tATT2 > 5\n",
       "\tATT3 <= 7\n",
       "\tATT4 > 6\n",
       "\tATT4 <= 8\n",
       "\tATT6 > 3\n",
       "\tATT8 > 3\n",
       "\tATT8 <= 6\n",
       "\tATT9 > 3\n",
       "\tATT10 <= 7\n",
       "\t->  class 1  [0.833]\n",
       "\n",
       "Rule 108: (4, lift 3.3)\n",
       "\tATT4 > 7\n",
       "\tATT6 > 7\n",
       "\tATT7 > 9\n",
       "\tATT9 > 3\n",
       "\t->  class 1  [0.833]\n",
       "\n",
       "Rule 109: (10/1, lift 3.3)\n",
       "\tATT2 > 1\n",
       "\tATT3 > 5\n",
       "\tATT3 <= 6\n",
       "\tATT5 > 6\n",
       "\tATT7 <= 4\n",
       "\tATT9 <= 2\n",
       "\t->  class 1  [0.833]\n",
       "\n",
       "Rule 110: (9/1, lift 3.3)\n",
       "\tATT2 <= 5\n",
       "\tATT3 > 5\n",
       "\tATT3 <= 7\n",
       "\tATT5 > 9\n",
       "\tATT6 > 1\n",
       "\tATT7 <= 4\n",
       "\tATT9 > 4\n",
       "\tATT9 <= 8\n",
       "\t->  class 1  [0.818]\n",
       "\n",
       "Rule 111: (3, lift 3.2)\n",
       "\tATT1 > 5\n",
       "\tATT3 > 5\n",
       "\tATT3 <= 6\n",
       "\tATT7 <= 8\n",
       "\tATT8 > 9\n",
       "\t->  class 1  [0.800]\n",
       "\n",
       "Rule 112: (3, lift 3.2)\n",
       "\tATT1 > 8\n",
       "\tATT3 > 6\n",
       "\tATT3 <= 7\n",
       "\tATT5 > 4\n",
       "\tATT7 <= 8\n",
       "\tATT9 <= 1\n",
       "\t->  class 1  [0.800]\n",
       "\n",
       "Rule 113: (3, lift 3.2)\n",
       "\tATT4 > 9\n",
       "\tATT6 <= 1\n",
       "\tATT8 > 5\n",
       "\tATT9 > 2\n",
       "\tATT9 <= 5\n",
       "\t->  class 1  [0.800]\n",
       "\n",
       "Rule 114: (3, lift 3.2)\n",
       "\tATT1 <= 3\n",
       "\tATT2 <= 3\n",
       "\tATT3 > 9\n",
       "\tATT9 > 2\n",
       "\tATT9 <= 3\n",
       "\t->  class 1  [0.800]\n",
       "\n",
       "Rule 115: (3, lift 3.2)\n",
       "\tATT1 > 3\n",
       "\tATT2 > 9\n",
       "\tATT4 <= 7\n",
       "\tATT6 > 1\n",
       "\tATT9 > 2\n",
       "\tATT9 <= 3\n",
       "\t->  class 1  [0.800]\n",
       "\n",
       "Rule 116: (3, lift 3.2)\n",
       "\tATT2 <= 5\n",
       "\tATT5 <= 2\n",
       "\tATT6 > 9\n",
       "\tATT7 <= 4\n",
       "\tATT9 > 2\n",
       "\t->  class 1  [0.800]\n",
       "\n",
       "Rule 117: (3, lift 3.2)\n",
       "\tATT1 <= 6\n",
       "\tATT2 > 5\n",
       "\tATT3 <= 7\n",
       "\tATT4 <= 3\n",
       "\tATT6 > 6\n",
       "\tATT8 <= 2\n",
       "\t->  class 1  [0.800]\n",
       "\n",
       "Rule 118: (8/1, lift 3.2)\n",
       "\tATT2 > 5\n",
       "\tATT3 <= 7\n",
       "\tATT4 > 8\n",
       "\tATT6 > 3\n",
       "\tATT6 <= 8\n",
       "\tATT8 > 4\n",
       "\tATT9 > 3\n",
       "\tATT10 <= 7\n",
       "\t->  class 1  [0.800]\n",
       "\n",
       "Rule 119: (3, lift 3.2)\n",
       "\tATT4 > 7\n",
       "\tATT5 > 8\n",
       "\tATT6 <= 7\n",
       "\tATT9 > 3\n",
       "\tATT9 <= 4\n",
       "\tATT10 <= 7\n",
       "\t->  class 1  [0.800]\n",
       "\n",
       "Rule 120: (12/2, lift 3.1)\n",
       "\tATT2 <= 2\n",
       "\tATT4 > 5\n",
       "\tATT5 > 2\n",
       "\tATT6 <= 1\n",
       "\tATT7 > 5\n",
       "\tATT9 > 2\n",
       "\t->  class 1  [0.786]\n",
       "\n",
       "Rule 121: (7/1, lift 3.1)\n",
       "\tATT2 <= 2\n",
       "\tATT3 <= 6\n",
       "\tATT5 <= 6\n",
       "\tATT7 <= 4\n",
       "\tATT9 <= 2\n",
       "\tATT10 > 7\n",
       "\t->  class 1  [0.778]\n",
       "\n",
       "Rule 122: (15/3, lift 3.1)\n",
       "\tATT2 <= 4\n",
       "\tATT3 <= 7\n",
       "\tATT4 <= 9\n",
       "\tATT6 > 3\n",
       "\tATT7 <= 4\n",
       "\tATT8 <= 5\n",
       "\tATT9 > 3\n",
       "\tATT10 > 6\n",
       "\t->  class 1  [0.765]\n",
       "\n",
       "Rule 123: (6/1, lift 3.0)\n",
       "\tATT3 <= 6\n",
       "\tATT5 <= 3\n",
       "\tATT7 > 4\n",
       "\tATT7 <= 8\n",
       "\tATT9 <= 2\n",
       "\tATT10 > 7\n",
       "\t->  class 1  [0.750]\n",
       "\n",
       "Rule 124: (6/1, lift 3.0)\n",
       "\tATT3 <= 6\n",
       "\tATT4 <= 2\n",
       "\tATT5 <= 4\n",
       "\tATT7 <= 3\n",
       "\tATT9 > 1\n",
       "\tATT9 <= 2\n",
       "\t->  class 1  [0.750]\n",
       "\n",
       "Rule 125: (6/1, lift 3.0)\n",
       "\tATT1 <= 3\n",
       "\tATT2 > 1\n",
       "\tATT3 <= 6\n",
       "\tATT4 > 8\n",
       "\tATT9 > 1\n",
       "\tATT9 <= 2\n",
       "\t->  class 1  [0.750]\n",
       "\n",
       "Rule 126: (9/2, lift 2.9)\n",
       "\tATT2 <= 3\n",
       "\tATT6 > 1\n",
       "\tATT6 <= 7\n",
       "\tATT8 > 3\n",
       "\tATT8 <= 6\n",
       "\tATT9 > 2\n",
       "\tATT9 <= 3\n",
       "\tATT10 > 2\n",
       "\tATT10 <= 6\n",
       "\t->  class 1  [0.727]\n",
       "\n",
       "Rule 127: (14/4, lift 2.8)\n",
       "\tATT1 > 5\n",
       "\tATT3 <= 7\n",
       "\tATT5 > 6\n",
       "\tATT6 > 1\n",
       "\tATT6 <= 3\n",
       "\tATT7 > 1\n",
       "\tATT9 > 3\n",
       "\tATT9 <= 9\n",
       "\tATT10 <= 7\n",
       "\t->  class 1  [0.688]\n",
       "\n",
       "Rule 128: (32/10, lift 2.7)\n",
       "\tATT5 > 2\n",
       "\tATT6 <= 1\n",
       "\tATT7 <= 8\n",
       "\tATT9 > 2\n",
       "\tATT9 <= 5\n",
       "\tATT10 > 4\n",
       "\t->  class 1  [0.676]\n",
       "\n",
       "Rule 129: (12/4, lift 2.6)\n",
       "\tATT1 > 3\n",
       "\tATT2 > 6\n",
       "\tATT3 > 5\n",
       "\tATT4 > 4\n",
       "\tATT8 > 1\n",
       "\tATT9 > 2\n",
       "\tATT9 <= 3\n",
       "\t->  class 1  [0.643]\n",
       "\n",
       "Rule 130: (20/8, lift 2.4)\n",
       "\tATT2 <= 8\n",
       "\tATT5 <= 6\n",
       "\tATT7 > 1\n",
       "\tATT7 <= 2\n",
       "\tATT8 > 5\n",
       "\tATT9 <= 2\n",
       "\t->  class 1  [0.591]\n",
       "\n",
       "Rule 131: (20/8, lift 2.4)\n",
       "\tATT1 > 4\n",
       "\tATT2 > 3\n",
       "\tATT3 > 7\n",
       "\tATT4 > 7\n",
       "\tATT5 > 3\n",
       "\tATT6 <= 5\n",
       "\tATT9 > 5\n",
       "\t->  class 1  [0.591]\n",
       "\n",
       "Rule 132: (48/28, lift 1.7)\n",
       "\tATT2 > 5\n",
       "\tATT6 > 3\n",
       "\tATT6 <= 6\n",
       "\tATT9 > 7\n",
       "\t->  class 1  [0.420]\n",
       "\n",
       "Rule 133: (47/28, lift 1.6)\n",
       "\tATT4 > 7\n",
       "\tATT7 > 8\n",
       "\tATT9 <= 5\n",
       "\t->  class 1  [0.408]\n",
       "\n",
       "Rule 134: (61/37, lift 1.6)\n",
       "\tATT1 > 9\n",
       "\tATT6 <= 5\n",
       "\tATT9 <= 2\n",
       "\t->  class 1  [0.397]\n",
       "\n",
       "Rule 135: (862/630, lift 1.1)\n",
       "\tATT3 > 7\n",
       "\t->  class 1  [0.270]\n",
       "\n",
       "Rule 136: (2052/1519, lift 1.0)\n",
       "\tATT10 <= 6\n",
       "\t->  class 1  [0.260]\n",
       "\n",
       "Rule 137: (11, lift 3.7)\n",
       "\tATT1 <= 8\n",
       "\tATT3 <= 9\n",
       "\tATT6 <= 1\n",
       "\tATT9 > 9\n",
       "\t->  class 2  [0.923]\n",
       "\n",
       "Rule 138: (10, lift 3.7)\n",
       "\tATT1 <= 6\n",
       "\tATT4 <= 7\n",
       "\tATT5 <= 6\n",
       "\tATT6 > 1\n",
       "\tATT6 <= 3\n",
       "\tATT7 <= 1\n",
       "\tATT8 <= 8\n",
       "\tATT9 > 6\n",
       "\t->  class 2  [0.917]\n",
       "\n",
       "Rule 139: (10, lift 3.7)\n",
       "\tATT1 > 2\n",
       "\tATT2 > 5\n",
       "\tATT3 <= 7\n",
       "\tATT4 > 3\n",
       "\tATT4 <= 9\n",
       "\tATT6 > 6\n",
       "\tATT6 <= 9\n",
       "\tATT8 <= 2\n",
       "\tATT9 > 3\n",
       "\tATT9 <= 7\n",
       "\t->  class 2  [0.917]\n",
       "\n",
       "Rule 140: (10, lift 3.7)\n",
       "\tATT1 > 2\n",
       "\tATT2 > 5\n",
       "\tATT4 > 6\n",
       "\tATT6 > 6\n",
       "\tATT6 <= 8\n",
       "\tATT8 > 2\n",
       "\tATT8 <= 3\n",
       "\tATT9 > 2\n",
       "\t->  class 2  [0.917]\n",
       "\n",
       "Rule 141: (10, lift 3.7)\n",
       "\tATT1 > 6\n",
       "\tATT1 <= 9\n",
       "\tATT3 > 7\n",
       "\tATT4 > 7\n",
       "\tATT6 > 7\n",
       "\tATT9 > 3\n",
       "\t->  class 2  [0.917]\n",
       "\n",
       "Rule 142: (9, lift 3.6)\n",
       "\tATT1 <= 8\n",
       "\tATT2 <= 1\n",
       "\tATT3 <= 6\n",
       "\tATT4 > 2\n",
       "\tATT4 <= 8\n",
       "\tATT7 <= 2\n",
       "\tATT8 <= 9\n",
       "\tATT9 <= 2\n",
       "\tATT10 <= 1\n",
       "\t->  class 2  [0.909]\n",
       "\n",
       "Rule 143: (9, lift 3.6)\n",
       "\tATT1 > 7\n",
       "\tATT2 > 5\n",
       "\tATT3 <= 7\n",
       "\tATT4 > 6\n",
       "\tATT6 > 1\n",
       "\tATT8 > 2\n",
       "\tATT8 <= 3\n",
       "\tATT9 > 3\n",
       "\t->  class 2  [0.909]\n",
       "\n",
       "Rule 144: (8, lift 3.6)\n",
       "\tATT3 > 9\n",
       "\tATT7 > 8\n",
       "\tATT7 <= 9\n",
       "\tATT9 <= 2\n",
       "\t->  class 2  [0.900]\n",
       "\n",
       "Rule 145: (8, lift 3.6)\n",
       "\tATT3 > 7\n",
       "\tATT5 > 2\n",
       "\tATT6 <= 1\n",
       "\tATT7 <= 1\n",
       "\tATT9 <= 5\n",
       "\tATT10 <= 4\n",
       "\t->  class 2  [0.900]\n",
       "\n",
       "Rule 146: (8, lift 3.6)\n",
       "\tATT2 > 7\n",
       "\tATT2 <= 9\n",
       "\tATT5 > 5\n",
       "\tATT6 > 1\n",
       "\tATT6 <= 5\n",
       "\tATT7 <= 6\n",
       "\tATT8 > 1\n",
       "\tATT9 > 2\n",
       "\tATT9 <= 3\n",
       "\t->  class 2  [0.900]\n",
       "\n",
       "Rule 147: (8, lift 3.6)\n",
       "\tATT3 > 7\n",
       "\tATT4 > 2\n",
       "\tATT4 <= 6\n",
       "\tATT5 <= 9\n",
       "\tATT6 > 7\n",
       "\tATT7 <= 8\n",
       "\tATT8 <= 3\n",
       "\tATT9 > 3\n",
       "\tATT9 <= 9\n",
       "\tATT10 <= 3\n",
       "\t->  class 2  [0.900]\n",
       "\n",
       "Rule 148: (7, lift 3.6)\n",
       "\tATT3 > 6\n",
       "\tATT4 > 5\n",
       "\tATT7 > 5\n",
       "\tATT7 <= 8\n",
       "\tATT8 > 9\n",
       "\tATT9 <= 2\n",
       "\t->  class 2  [0.889]\n",
       "\n",
       "Rule 149: (7, lift 3.6)\n",
       "\tATT1 > 4\n",
       "\tATT3 <= 6\n",
       "\tATT4 > 6\n",
       "\tATT6 <= 1\n",
       "\tATT7 <= 8\n",
       "\tATT9 > 5\n",
       "\tATT10 <= 2\n",
       "\t->  class 2  [0.889]\n",
       "\n",
       "Rule 150: (7, lift 3.6)\n",
       "\tATT2 <= 6\n",
       "\tATT3 <= 9\n",
       "\tATT4 <= 6\n",
       "\tATT6 > 1\n",
       "\tATT7 <= 1\n",
       "\tATT8 <= 4\n",
       "\tATT9 > 2\n",
       "\tATT9 <= 3\n",
       "\t->  class 2  [0.889]\n",
       "\n",
       "Rule 151: (7, lift 3.6)\n",
       "\tATT1 <= 3\n",
       "\tATT6 > 6\n",
       "\tATT7 > 4\n",
       "\tATT9 > 3\n",
       "\tATT9 <= 5\n",
       "\t->  class 2  [0.889]\n",
       "\n",
       "Rule 152: (7, lift 3.6)\n",
       "\tATT1 > 6\n",
       "\tATT1 <= 8\n",
       "\tATT2 <= 2\n",
       "\tATT4 <= 8\n",
       "\tATT7 <= 2\n",
       "\tATT8 <= 9\n",
       "\tATT9 <= 2\n",
       "\tATT10 <= 7\n",
       "\t->  class 2  [0.889]\n",
       "\n",
       "Rule 153: (14/1, lift 3.5)\n",
       "\tATT2 <= 8\n",
       "\tATT3 > 7\n",
       "\tATT3 <= 8\n",
       "\tATT5 <= 8\n",
       "\tATT7 > 6\n",
       "\tATT7 <= 8\n",
       "\tATT9 <= 2\n",
       "\tATT10 <= 7\n",
       "\t->  class 2  [0.875]\n",
       "\n",
       "Rule 154: (6, lift 3.5)\n",
       "\tATT1 <= 2\n",
       "\tATT3 > 5\n",
       "\tATT3 <= 9\n",
       "\tATT6 <= 1\n",
       "\tATT7 <= 8\n",
       "\tATT9 > 5\n",
       "\t->  class 2  [0.875]\n",
       "\n",
       "Rule 155: (14/1, lift 3.5)\n",
       "\tATT1 > 6\n",
       "\tATT2 > 3\n",
       "\tATT2 <= 6\n",
       "\tATT4 > 5\n",
       "\tATT6 > 1\n",
       "\tATT6 <= 7\n",
       "\tATT9 > 2\n",
       "\tATT9 <= 3\n",
       "\t->  class 2  [0.875]\n",
       "\n",
       "Rule 156: (6, lift 3.5)\n",
       "\tATT1 <= 5\n",
       "\tATT2 > 4\n",
       "\tATT2 <= 5\n",
       "\tATT3 <= 7\n",
       "\tATT5 > 2\n",
       "\tATT6 > 3\n",
       "\tATT8 <= 2\n",
       "\tATT9 > 2\n",
       "\tATT9 <= 8\n",
       "\t->  class 2  [0.875]\n",
       "\n",
       "Rule 157: (14/1, lift 3.5)\n",
       "\tATT1 <= 3\n",
       "\tATT2 <= 5\n",
       "\tATT3 <= 7\n",
       "\tATT7 > 4\n",
       "\tATT7 <= 5\n",
       "\tATT9 > 3\n",
       "\t->  class 2  [0.875]\n",
       "\n",
       "Rule 158: (6, lift 3.5)\n",
       "\tATT1 <= 9\n",
       "\tATT2 <= 7\n",
       "\tATT3 <= 6\n",
       "\tATT4 > 6\n",
       "\tATT5 > 3\n",
       "\tATT7 > 5\n",
       "\tATT7 <= 8\n",
       "\tATT8 <= 9\n",
       "\tATT9 <= 2\n",
       "\tATT10 <= 2\n",
       "\t->  class 2  [0.875]\n",
       "\n",
       "Rule 159: (6, lift 3.5)\n",
       "\tATT2 > 5\n",
       "\tATT3 <= 7\n",
       "\tATT5 <= 5\n",
       "\tATT6 > 3\n",
       "\tATT8 > 2\n",
       "\tATT9 > 3\n",
       "\tATT10 > 7\n",
       "\t->  class 2  [0.875]\n",
       "\n",
       "Rule 160: (6, lift 3.5)\n",
       "\tATT1 > 8\n",
       "\tATT1 <= 9\n",
       "\tATT2 <= 5\n",
       "\tATT3 > 9\n",
       "\tATT6 <= 7\n",
       "\tATT8 > 2\n",
       "\tATT9 > 2\n",
       "\t->  class 2  [0.875]\n",
       "\n",
       "Rule 161: (6, lift 3.5)\n",
       "\tATT2 > 2\n",
       "\tATT2 <= 6\n",
       "\tATT3 <= 6\n",
       "\tATT4 > 2\n",
       "\tATT4 <= 8\n",
       "\tATT7 <= 4\n",
       "\tATT9 <= 2\n",
       "\tATT10 > 2\n",
       "\tATT10 <= 3\n",
       "\t->  class 2  [0.875]\n",
       "\n",
       "Rule 162: (12/1, lift 3.4)\n",
       "\tATT3 <= 6\n",
       "\tATT6 <= 1\n",
       "\tATT7 <= 8\n",
       "\tATT9 > 5\n",
       "\tATT10 > 1\n",
       "\tATT10 <= 2\n",
       "\t->  class 2  [0.857]\n",
       "\n",
       "Rule 163: (5, lift 3.4)\n",
       "\tATT2 <= 3\n",
       "\tATT6 > 7\n",
       "\tATT6 <= 8\n",
       "\tATT7 <= 8\n",
       "\tATT8 > 3\n",
       "\tATT9 > 2\n",
       "\tATT9 <= 3\n",
       "\t->  class 2  [0.857]\n",
       "\n",
       "Rule 164: (5, lift 3.4)\n",
       "\tATT5 > 5\n",
       "\tATT6 > 9\n",
       "\tATT9 > 2\n",
       "\tATT9 <= 3\n",
       "\t->  class 2  [0.857]\n",
       "\n",
       "Rule 165: (5, lift 3.4)\n",
       "\tATT2 <= 5\n",
       "\tATT6 > 3\n",
       "\tATT7 > 2\n",
       "\tATT7 <= 4\n",
       "\tATT8 <= 5\n",
       "\tATT9 > 3\n",
       "\tATT9 <= 8\n",
       "\tATT10 <= 1\n",
       "\t->  class 2  [0.857]\n",
       "\n",
       "Rule 166: (5, lift 3.4)\n",
       "\tATT1 <= 2\n",
       "\tATT3 <= 2\n",
       "\tATT4 > 4\n",
       "\tATT6 > 8\n",
       "\tATT9 > 2\n",
       "\t->  class 2  [0.857]\n",
       "\n",
       "Rule 167: (12/1, lift 3.4)\n",
       "\tATT2 <= 2\n",
       "\tATT3 <= 6\n",
       "\tATT4 > 2\n",
       "\tATT4 <= 8\n",
       "\tATT5 <= 6\n",
       "\tATT6 > 3\n",
       "\tATT7 > 2\n",
       "\tATT7 <= 8\n",
       "\tATT8 <= 9\n",
       "\tATT9 <= 2\n",
       "\tATT10 <= 7\n",
       "\t->  class 2  [0.857]\n",
       "\n",
       "Rule 168: (5, lift 3.4)\n",
       "\tATT2 <= 5\n",
       "\tATT3 > 9\n",
       "\tATT4 <= 7\n",
       "\tATT5 > 6\n",
       "\tATT6 > 1\n",
       "\tATT6 <= 7\n",
       "\tATT8 > 2\n",
       "\tATT8 <= 6\n",
       "\tATT9 > 3\n",
       "\tATT9 <= 9\n",
       "\t->  class 2  [0.857]\n",
       "\n",
       "Rule 169: (12/1, lift 3.4)\n",
       "\tATT3 <= 6\n",
       "\tATT5 <= 3\n",
       "\tATT7 > 4\n",
       "\tATT7 <= 8\n",
       "\tATT8 <= 3\n",
       "\tATT9 <= 2\n",
       "\tATT10 <= 7\n",
       "\t->  class 2  [0.857]\n",
       "\n",
       "Rule 170: (5, lift 3.4)\n",
       "\tATT3 > 7\n",
       "\tATT5 > 3\n",
       "\tATT5 <= 9\n",
       "\tATT6 > 7\n",
       "\tATT8 > 3\n",
       "\tATT9 > 3\n",
       "\tATT10 > 7\n",
       "\t->  class 2  [0.857]\n",
       "\n",
       "Rule 171: (5, lift 3.4)\n",
       "\tATT2 > 2\n",
       "\tATT2 <= 6\n",
       "\tATT3 <= 6\n",
       "\tATT4 > 2\n",
       "\tATT7 <= 1\n",
       "\tATT9 <= 1\n",
       "\tATT10 <= 3\n",
       "\t->  class 2  [0.857]\n",
       "\n",
       "Rule 172: (11/1, lift 3.4)\n",
       "\tATT2 > 8\n",
       "\tATT2 <= 9\n",
       "\tATT3 > 6\n",
       "\tATT3 <= 8\n",
       "\tATT6 <= 3\n",
       "\tATT7 <= 8\n",
       "\t->  class 2  [0.846]\n",
       "\n",
       "Rule 173: (23/3, lift 3.4)\n",
       "\tATT1 > 2\n",
       "\tATT2 > 1\n",
       "\tATT3 > 2\n",
       "\tATT3 <= 7\n",
       "\tATT5 <= 6\n",
       "\tATT6 > 1\n",
       "\tATT6 <= 3\n",
       "\tATT9 > 3\n",
       "\tATT9 <= 7\n",
       "\tATT10 > 5\n",
       "\t->  class 2  [0.840]\n",
       "\n",
       "Rule 174: (10/1, lift 3.3)\n",
       "\tATT1 > 6\n",
       "\tATT3 > 8\n",
       "\tATT5 <= 5\n",
       "\tATT8 > 2\n",
       "\tATT8 <= 5\n",
       "\tATT9 <= 2\n",
       "\t->  class 2  [0.833]\n",
       "\n",
       "Rule 175: (10/1, lift 3.3)\n",
       "\tATT1 <= 9\n",
       "\tATT3 <= 6\n",
       "\tATT6 <= 1\n",
       "\tATT9 > 5\n",
       "\tATT10 > 7\n",
       "\t->  class 2  [0.833]\n",
       "\n",
       "Rule 176: (10/1, lift 3.3)\n",
       "\tATT2 > 3\n",
       "\tATT2 <= 6\n",
       "\tATT4 > 5\n",
       "\tATT6 > 3\n",
       "\tATT8 <= 4\n",
       "\tATT9 > 2\n",
       "\tATT9 <= 3\n",
       "\tATT10 <= 5\n",
       "\t->  class 2  [0.833]\n",
       "\n",
       "Rule 177: (4, lift 3.3)\n",
       "\tATT2 > 3\n",
       "\tATT2 <= 6\n",
       "\tATT5 <= 8\n",
       "\tATT6 > 1\n",
       "\tATT7 > 7\n",
       "\tATT9 > 2\n",
       "\tATT9 <= 3\n",
       "\t->  class 2  [0.833]\n",
       "\n",
       "Rule 178: (4, lift 3.3)\n",
       "\tATT5 <= 3\n",
       "\tATT6 > 1\n",
       "\tATT6 <= 2\n",
       "\tATT9 > 3\n",
       "\tATT9 <= 5\n",
       "\tATT10 <= 3\n",
       "\t->  class 2  [0.833]\n",
       "\n",
       "Rule 179: (10/1, lift 3.3)\n",
       "\tATT2 <= 5\n",
       "\tATT3 <= 7\n",
       "\tATT4 <= 6\n",
       "\tATT6 > 7\n",
       "\tATT7 <= 4\n",
       "\tATT9 > 8\n",
       "\t->  class 2  [0.833]\n",
       "\n",
       "Rule 180: (4, lift 3.3)\n",
       "\tATT3 > 4\n",
       "\tATT3 <= 7\n",
       "\tATT6 > 7\n",
       "\tATT7 > 5\n",
       "\tATT9 > 3\n",
       "\tATT9 <= 5\n",
       "\t->  class 2  [0.833]\n",
       "\n",
       "Rule 181: (4, lift 3.3)\n",
       "\tATT2 > 4\n",
       "\tATT3 > 7\n",
       "\tATT4 > 7\n",
       "\tATT6 <= 7\n",
       "\tATT9 > 3\n",
       "\tATT9 <= 5\n",
       "\tATT10 > 7\n",
       "\t->  class 2  [0.833]\n",
       "\n",
       "Rule 182: (4, lift 3.3)\n",
       "\tATT1 > 4\n",
       "\tATT2 > 1\n",
       "\tATT2 <= 3\n",
       "\tATT3 > 7\n",
       "\tATT4 > 7\n",
       "\tATT6 > 1\n",
       "\tATT6 <= 7\n",
       "\tATT9 > 5\n",
       "\tATT9 <= 9\n",
       "\t->  class 2  [0.833]\n",
       "\n",
       "Rule 183: (4, lift 3.3)\n",
       "\tATT1 <= 9\n",
       "\tATT3 > 7\n",
       "\tATT4 > 7\n",
       "\tATT6 > 7\n",
       "\tATT7 <= 9\n",
       "\tATT9 > 3\n",
       "\tATT9 <= 5\n",
       "\tATT10 <= 9\n",
       "\t->  class 2  [0.833]\n",
       "\n",
       "Rule 184: (9/1, lift 3.3)\n",
       "\tATT3 > 8\n",
       "\tATT7 > 6\n",
       "\tATT7 <= 7\n",
       "\tATT8 > 5\n",
       "\tATT9 <= 2\n",
       "\tATT10 <= 8\n",
       "\t->  class 2  [0.818]\n",
       "\n",
       "Rule 185: (9/1, lift 3.3)\n",
       "\tATT1 <= 2\n",
       "\tATT2 <= 6\n",
       "\tATT3 > 6\n",
       "\tATT3 <= 7\n",
       "\tATT7 <= 8\n",
       "\tATT9 <= 2\n",
       "\tATT10 <= 8\n",
       "\t->  class 2  [0.818]\n",
       "\n",
       "Rule 186: (9/1, lift 3.3)\n",
       "\tATT1 > 4\n",
       "\tATT2 > 1\n",
       "\tATT3 > 7\n",
       "\tATT4 > 7\n",
       "\tATT5 <= 3\n",
       "\tATT6 > 1\n",
       "\tATT8 > 1\n",
       "\tATT9 > 5\n",
       "\tATT9 <= 9\n",
       "\t->  class 2  [0.818]\n",
       "\n",
       "Rule 187: (3, lift 3.2)\n",
       "\tATT2 > 5\n",
       "\tATT5 <= 2\n",
       "\tATT6 <= 1\n",
       "\tATT7 > 6\n",
       "\tATT9 <= 5\n",
       "\t->  class 2  [0.800]\n",
       "\n",
       "Rule 188: (13/2, lift 3.2)\n",
       "\tATT1 <= 3\n",
       "\tATT2 <= 3\n",
       "\tATT3 <= 9\n",
       "\tATT5 <= 8\n",
       "\tATT6 <= 7\n",
       "\tATT7 > 1\n",
       "\tATT7 <= 8\n",
       "\tATT8 > 3\n",
       "\tATT9 <= 3\n",
       "\tATT10 > 2\n",
       "\tATT10 <= 6\n",
       "\t->  class 2  [0.800]\n",
       "\n",
       "Rule 189: (8/1, lift 3.2)\n",
       "\tATT1 <= 8\n",
       "\tATT2 <= 3\n",
       "\tATT6 > 1\n",
       "\tATT6 <= 8\n",
       "\tATT7 > 8\n",
       "\tATT9 > 2\n",
       "\tATT9 <= 3\n",
       "\t->  class 2  [0.800]\n",
       "\n",
       "Rule 190: (8/1, lift 3.2)\n",
       "\tATT1 <= 6\n",
       "\tATT2 > 5\n",
       "\tATT2 <= 6\n",
       "\tATT4 > 5\n",
       "\tATT9 > 2\n",
       "\tATT9 <= 3\n",
       "\t->  class 2  [0.800]\n",
       "\n",
       "Rule 191: (8/1, lift 3.2)\n",
       "\tATT2 > 8\n",
       "\tATT3 <= 6\n",
       "\tATT4 > 2\n",
       "\tATT4 <= 8\n",
       "\tATT5 <= 6\n",
       "\tATT7 <= 4\n",
       "\tATT8 <= 9\n",
       "\tATT9 <= 2\n",
       "\tATT10 <= 7\n",
       "\t->  class 2  [0.800]\n",
       "\n",
       "Rule 192: (8/1, lift 3.2)\n",
       "\tATT2 <= 4\n",
       "\tATT3 <= 7\n",
       "\tATT5 > 2\n",
       "\tATT5 <= 4\n",
       "\tATT6 > 3\n",
       "\tATT6 <= 6\n",
       "\tATT7 <= 4\n",
       "\tATT8 <= 3\n",
       "\tATT9 > 3\n",
       "\t->  class 2  [0.800]\n",
       "\n",
       "Rule 193: (8/1, lift 3.2)\n",
       "\tATT1 > 2\n",
       "\tATT2 > 5\n",
       "\tATT3 <= 7\n",
       "\tATT5 <= 2\n",
       "\tATT6 > 3\n",
       "\tATT8 > 3\n",
       "\tATT8 <= 6\n",
       "\tATT9 > 3\n",
       "\t->  class 2  [0.800]\n",
       "\n",
       "Rule 194: (13/2, lift 3.2)\n",
       "\tATT1 > 6\n",
       "\tATT1 <= 9\n",
       "\tATT2 <= 8\n",
       "\tATT3 > 7\n",
       "\tATT3 <= 8\n",
       "\tATT5 <= 8\n",
       "\tATT8 <= 9\n",
       "\tATT9 <= 2\n",
       "\tATT10 <= 7\n",
       "\t->  class 2  [0.800]\n",
       "\n",
       "Rule 195: (3, lift 3.2)\n",
       "\tATT2 <= 1\n",
       "\tATT3 > 7\n",
       "\tATT4 <= 7\n",
       "\tATT5 <= 2\n",
       "\tATT7 <= 8\n",
       "\tATT9 > 3\n",
       "\t->  class 2  [0.800]\n",
       "\n",
       "Rule 196: (12/2, lift 3.1)\n",
       "\tATT2 > 2\n",
       "\tATT2 <= 8\n",
       "\tATT3 <= 6\n",
       "\tATT4 > 2\n",
       "\tATT4 <= 8\n",
       "\tATT5 <= 6\n",
       "\tATT7 <= 4\n",
       "\tATT9 <= 2\n",
       "\tATT10 > 7\n",
       "\t->  class 2  [0.786]\n",
       "\n",
       "Rule 197: (7/1, lift 3.1)\n",
       "\tATT1 > 4\n",
       "\tATT3 <= 6\n",
       "\tATT5 <= 5\n",
       "\tATT6 <= 1\n",
       "\tATT9 > 8\n",
       "\t->  class 2  [0.778]\n",
       "\n",
       "Rule 198: (11/2, lift 3.1)\n",
       "\tATT1 > 8\n",
       "\tATT3 <= 7\n",
       "\tATT4 <= 8\n",
       "\tATT6 > 8\n",
       "\tATT8 > 6\n",
       "\tATT9 > 2\n",
       "\tATT10 <= 7\n",
       "\t->  class 2  [0.769]\n",
       "\n",
       "Rule 199: (19/4, lift 3.0)\n",
       "\tATT1 > 6\n",
       "\tATT7 > 8\n",
       "\tATT8 > 1\n",
       "\tATT8 <= 6\n",
       "\tATT9 <= 2\n",
       "\t->  class 2  [0.762]\n",
       "\n",
       "Rule 200: (10/2, lift 3.0)\n",
       "\tATT2 <= 3\n",
       "\tATT3 > 4\n",
       "\tATT3 <= 9\n",
       "\tATT6 > 1\n",
       "\tATT9 > 2\n",
       "\tATT9 <= 3\n",
       "\tATT10 > 6\n",
       "\t->  class 2  [0.750]\n",
       "\n",
       "Rule 201: (9/2, lift 2.9)\n",
       "\tATT1 > 2\n",
       "\tATT3 > 6\n",
       "\tATT3 <= 7\n",
       "\tATT4 <= 4\n",
       "\tATT5 <= 4\n",
       "\tATT8 <= 9\n",
       "\tATT9 <= 2\n",
       "\t->  class 2  [0.727]\n",
       "\n",
       "Rule 202: (5/1, lift 2.9)\n",
       "\tATT1 > 7\n",
       "\tATT4 <= 2\n",
       "\tATT5 <= 4\n",
       "\tATT9 <= 1\n",
       "\t->  class 2  [0.714]\n",
       "\n",
       "Rule 203: (15/4, lift 2.8)\n",
       "\tATT1 > 2\n",
       "\tATT2 > 5\n",
       "\tATT3 <= 7\n",
       "\tATT4 <= 6\n",
       "\tATT5 > 4\n",
       "\tATT6 > 3\n",
       "\tATT8 > 3\n",
       "\tATT8 <= 6\n",
       "\tATT9 > 6\n",
       "\tATT10 <= 7\n",
       "\t->  class 2  [0.706]\n",
       "\n",
       "Rule 204: (8/2, lift 2.8)\n",
       "\tATT1 > 9\n",
       "\tATT3 <= 6\n",
       "\tATT6 > 5\n",
       "\tATT7 > 4\n",
       "\tATT9 <= 2\n",
       "\t->  class 2  [0.700]\n",
       "\n",
       "Rule 205: (11/3, lift 2.8)\n",
       "\tATT3 > 9\n",
       "\tATT7 > 8\n",
       "\tATT9 <= 2\n",
       "\t->  class 2  [0.692]\n",
       "\n",
       "Rule 206: (24/7, lift 2.8)\n",
       "\tATT1 > 2\n",
       "\tATT2 > 3\n",
       "\tATT2 <= 6\n",
       "\tATT4 <= 5\n",
       "\tATT6 > 1\n",
       "\tATT6 <= 7\n",
       "\tATT7 <= 7\n",
       "\tATT9 > 2\n",
       "\tATT9 <= 3\n",
       "\t->  class 2  [0.692]\n",
       "\n",
       "Rule 207: (28/9, lift 2.7)\n",
       "\tATT1 > 6\n",
       "\tATT3 > 8\n",
       "\tATT8 > 2\n",
       "\tATT8 <= 5\n",
       "\tATT9 <= 2\n",
       "\t->  class 2  [0.667]\n",
       "\n",
       "Rule 208: (15/5, lift 2.6)\n",
       "\tATT3 <= 7\n",
       "\tATT5 > 6\n",
       "\tATT6 > 1\n",
       "\tATT6 <= 3\n",
       "\tATT7 <= 1\n",
       "\tATT9 > 3\n",
       "\tATT10 <= 7\n",
       "\t->  class 2  [0.647]\n",
       "\n",
       "Rule 209: (24/9, lift 2.5)\n",
       "\tATT1 <= 7\n",
       "\tATT2 > 1\n",
       "\tATT2 <= 5\n",
       "\tATT3 > 7\n",
       "\tATT3 <= 9\n",
       "\tATT4 <= 6\n",
       "\tATT5 > 2\n",
       "\tATT6 > 1\n",
       "\tATT6 <= 7\n",
       "\tATT8 <= 6\n",
       "\tATT9 > 2\n",
       "\tATT10 <= 9\n",
       "\t->  class 2  [0.615]\n",
       "\n",
       "Rule 210: (13/5, lift 2.4)\n",
       "\tATT3 <= 6\n",
       "\tATT4 > 8\n",
       "\tATT6 <= 1\n",
       "\tATT7 <= 8\n",
       "\tATT9 <= 2\n",
       "\t->  class 2  [0.600]\n",
       "\n",
       "Rule 211: (30/14, lift 2.1)\n",
       "\tATT3 <= 6\n",
       "\tATT5 > 9\n",
       "\tATT7 > 4\n",
       "\tATT7 <= 8\n",
       "\tATT8 > 5\n",
       "\t->  class 2  [0.531]\n",
       "\n",
       "Rule 212: (39/20, lift 2.0)\n",
       "\tATT2 <= 5\n",
       "\tATT3 <= 7\n",
       "\tATT6 > 3\n",
       "\tATT7 > 4\n",
       "\tATT7 <= 5\n",
       "\tATT9 > 3\n",
       "\t->  class 2  [0.488]\n",
       "\n",
       "Rule 213: (37/19, lift 1.9)\n",
       "\tATT3 <= 4\n",
       "\tATT4 <= 8\n",
       "\tATT5 > 6\n",
       "\tATT7 <= 4\n",
       "\tATT8 <= 9\n",
       "\tATT9 <= 2\n",
       "\t->  class 2  [0.487]\n",
       "\n",
       "Rule 214: (71/41, lift 1.7)\n",
       "\tATT1 <= 9\n",
       "\tATT3 > 7\n",
       "\tATT4 > 4\n",
       "\tATT5 <= 2\n",
       "\tATT10 <= 9\n",
       "\t->  class 2  [0.425]\n",
       "\n",
       "Rule 215: (151/100, lift 1.4)\n",
       "\tATT3 <= 7\n",
       "\tATT5 > 6\n",
       "\tATT5 <= 8\n",
       "\tATT6 <= 3\n",
       "\t->  class 2  [0.340]\n",
       "\n",
       "Rule 216: (232/157, lift 1.3)\n",
       "\tATT7 <= 4\n",
       "\tATT10 > 7\n",
       "\t->  class 2  [0.325]\n",
       "\n",
       "Rule 217: (30, lift 3.9)\n",
       "\tATT3 > 7\n",
       "\tATT4 <= 7\n",
       "\tATT5 > 5\n",
       "\tATT7 > 8\n",
       "\tATT9 > 3\n",
       "\tATT10 > 6\n",
       "\t->  class 3  [0.969]\n",
       "\n",
       "Rule 218: (23, lift 3.8)\n",
       "\tATT2 <= 5\n",
       "\tATT3 <= 7\n",
       "\tATT6 > 3\n",
       "\tATT7 <= 2\n",
       "\tATT8 > 3\n",
       "\tATT8 <= 5\n",
       "\tATT9 > 3\n",
       "\tATT9 <= 8\n",
       "\tATT10 <= 2\n",
       "\t->  class 3  [0.960]\n",
       "\n",
       "Rule 219: (22, lift 3.8)\n",
       "\tATT3 <= 6\n",
       "\tATT4 <= 6\n",
       "\tATT5 > 4\n",
       "\tATT5 <= 6\n",
       "\tATT7 > 4\n",
       "\tATT7 <= 8\n",
       "\tATT8 <= 5\n",
       "\tATT9 > 1\n",
       "\tATT9 <= 2\n",
       "\t->  class 3  [0.958]\n",
       "\n",
       "Rule 220: (19, lift 3.8)\n",
       "\tATT3 <= 4\n",
       "\tATT4 <= 8\n",
       "\tATT5 <= 2\n",
       "\tATT6 <= 1\n",
       "\tATT7 <= 8\n",
       "\tATT8 > 1\n",
       "\tATT9 > 2\n",
       "\tATT9 <= 5\n",
       "\t->  class 3  [0.952]\n",
       "\n",
       "Rule 221: (19, lift 3.8)\n",
       "\tATT1 <= 9\n",
       "\tATT2 > 7\n",
       "\tATT3 <= 6\n",
       "\tATT7 > 4\n",
       "\tATT7 <= 8\n",
       "\tATT8 <= 5\n",
       "\tATT9 <= 2\n",
       "\tATT10 > 4\n",
       "\t->  class 3  [0.952]\n",
       "\n",
       "Rule 222: (18, lift 3.8)\n",
       "\tATT1 > 2\n",
       "\tATT2 <= 4\n",
       "\tATT3 <= 7\n",
       "\tATT5 <= 9\n",
       "\tATT6 > 3\n",
       "\tATT7 <= 4\n",
       "\tATT8 > 6\n",
       "\tATT8 <= 8\n",
       "\tATT9 > 4\n",
       "\t->  class 3  [0.950]\n",
       "\n",
       "Rule 223: (16, lift 3.8)\n",
       "\tATT2 <= 4\n",
       "\tATT3 <= 7\n",
       "\tATT5 > 3\n",
       "\tATT5 <= 9\n",
       "\tATT6 > 3\n",
       "\tATT7 > 2\n",
       "\tATT7 <= 4\n",
       "\tATT8 > 3\n",
       "\tATT8 <= 5\n",
       "\tATT9 > 3\n",
       "\tATT9 <= 8\n",
       "\tATT10 > 1\n",
       "\tATT10 <= 6\n",
       "\t->  class 3  [0.944]\n",
       "\n",
       "Rule 224: (16, lift 3.8)\n",
       "\tATT1 > 9\n",
       "\tATT3 > 7\n",
       "\tATT4 <= 7\n",
       "\tATT5 <= 6\n",
       "\tATT6 > 1\n",
       "\tATT6 <= 7\n",
       "\tATT8 > 6\n",
       "\tATT9 > 2\n",
       "\t->  class 3  [0.944]\n",
       "\n",
       "Rule 225: (15, lift 3.8)\n",
       "\tATT2 <= 5\n",
       "\tATT3 > 6\n",
       "\tATT3 <= 7\n",
       "\tATT5 > 2\n",
       "\tATT6 > 3\n",
       "\tATT7 <= 2\n",
       "\tATT8 > 3\n",
       "\tATT9 > 3\n",
       "\tATT9 <= 8\n",
       "\t->  class 3  [0.941]\n",
       "\n",
       "Rule 226: (14, lift 3.8)\n",
       "\tATT1 <= 3\n",
       "\tATT2 > 6\n",
       "\tATT6 > 1\n",
       "\tATT6 <= 8\n",
       "\tATT7 > 4\n",
       "\tATT9 > 2\n",
       "\tATT9 <= 3\n",
       "\t->  class 3  [0.938]\n",
       "\n",
       "Rule 227: (14, lift 3.8)\n",
       "\tATT1 <= 2\n",
       "\tATT2 > 7\n",
       "\tATT3 <= 7\n",
       "\tATT4 > 4\n",
       "\tATT6 > 4\n",
       "\tATT6 <= 6\n",
       "\tATT9 > 2\n",
       "\t->  class 3  [0.938]\n",
       "\n",
       "Rule 228: (29/1, lift 3.7)\n",
       "\tATT1 > 3\n",
       "\tATT2 > 5\n",
       "\tATT3 > 9\n",
       "\tATT4 <= 5\n",
       "\tATT5 > 2\n",
       "\tATT6 > 1\n",
       "\tATT6 <= 7\n",
       "\tATT8 > 2\n",
       "\tATT9 > 3\n",
       "\tATT10 <= 8\n",
       "\t->  class 3  [0.935]\n",
       "\n",
       "Rule 229: (13, lift 3.7)\n",
       "\tATT5 <= 6\n",
       "\tATT6 > 1\n",
       "\tATT6 <= 3\n",
       "\tATT7 > 7\n",
       "\tATT8 > 8\n",
       "\tATT9 > 2\n",
       "\tATT10 <= 5\n",
       "\t->  class 3  [0.933]\n",
       "\n",
       "Rule 230: (40/2, lift 3.7)\n",
       "\tATT1 > 5\n",
       "\tATT2 > 4\n",
       "\tATT2 <= 5\n",
       "\tATT3 <= 7\n",
       "\tATT5 > 2\n",
       "\tATT5 <= 9\n",
       "\tATT6 > 3\n",
       "\tATT7 <= 4\n",
       "\tATT9 > 3\n",
       "\tATT9 <= 8\n",
       "\t->  class 3  [0.929]\n",
       "\n",
       "Rule 231: (12, lift 3.7)\n",
       "\tATT3 > 7\n",
       "\tATT4 <= 5\n",
       "\tATT5 <= 4\n",
       "\tATT9 > 2\n",
       "\tATT10 > 9\n",
       "\t->  class 3  [0.929]\n",
       "\n",
       "Rule 232: (12, lift 3.7)\n",
       "\tATT2 <= 3\n",
       "\tATT3 > 7\n",
       "\tATT4 > 6\n",
       "\tATT4 <= 7\n",
       "\tATT6 > 7\n",
       "\tATT9 > 2\n",
       "\t->  class 3  [0.929]\n",
       "\n",
       "Rule 233: (25/1, lift 3.7)\n",
       "\tATT1 <= 5\n",
       "\tATT2 <= 5\n",
       "\tATT3 <= 7\n",
       "\tATT4 <= 6\n",
       "\tATT6 > 4\n",
       "\tATT7 > 5\n",
       "\tATT9 > 5\n",
       "\tATT10 > 1\n",
       "\tATT10 <= 3\n",
       "\t->  class 3  [0.926]\n",
       "\n",
       "Rule 234: (22/1, lift 3.7)\n",
       "\tATT3 <= 7\n",
       "\tATT5 <= 3\n",
       "\tATT6 <= 3\n",
       "\tATT7 <= 1\n",
       "\tATT8 <= 5\n",
       "\tATT9 > 2\n",
       "\tATT9 <= 6\n",
       "\tATT10 <= 5\n",
       "\t->  class 3  [0.917]\n",
       "\n",
       "Rule 235: (22/1, lift 3.7)\n",
       "\tATT1 <= 3\n",
       "\tATT3 <= 6\n",
       "\tATT4 <= 6\n",
       "\tATT5 > 3\n",
       "\tATT5 <= 6\n",
       "\tATT7 > 4\n",
       "\tATT8 <= 5\n",
       "\tATT9 <= 2\n",
       "\t->  class 3  [0.917]\n",
       "\n",
       "Rule 236: (20/1, lift 3.6)\n",
       "\tATT1 > 3\n",
       "\tATT2 > 1\n",
       "\tATT2 <= 3\n",
       "\tATT3 <= 9\n",
       "\tATT5 <= 8\n",
       "\tATT6 > 1\n",
       "\tATT6 <= 7\n",
       "\tATT9 > 2\n",
       "\tATT9 <= 3\n",
       "\tATT10 > 4\n",
       "\t->  class 3  [0.909]\n",
       "\n",
       "Rule 237: (40/3, lift 3.6)\n",
       "\tATT2 <= 3\n",
       "\tATT5 <= 8\n",
       "\tATT6 > 1\n",
       "\tATT6 <= 8\n",
       "\tATT7 > 1\n",
       "\tATT8 > 3\n",
       "\tATT9 > 2\n",
       "\tATT9 <= 3\n",
       "\tATT10 <= 2\n",
       "\t->  class 3  [0.905]\n",
       "\n",
       "Rule 238: (8, lift 3.6)\n",
       "\tATT1 <= 3\n",
       "\tATT4 > 3\n",
       "\tATT4 <= 8\n",
       "\tATT5 <= 2\n",
       "\tATT6 <= 1\n",
       "\tATT9 > 2\n",
       "\tATT9 <= 5\n",
       "\t->  class 3  [0.900]\n",
       "\n",
       "Rule 239: (17/1, lift 3.6)\n",
       "\tATT1 <= 2\n",
       "\tATT3 > 4\n",
       "\tATT3 <= 7\n",
       "\tATT4 > 4\n",
       "\tATT6 > 4\n",
       "\tATT6 <= 6\n",
       "\tATT9 > 3\n",
       "\t->  class 3  [0.895]\n",
       "\n",
       "Rule 240: (16/1, lift 3.6)\n",
       "\tATT1 > 9\n",
       "\tATT2 <= 3\n",
       "\tATT5 <= 8\n",
       "\tATT6 <= 8\n",
       "\tATT9 > 2\n",
       "\tATT9 <= 3\n",
       "\tATT10 > 4\n",
       "\t->  class 3  [0.889]\n",
       "\n",
       "Rule 241: (7, lift 3.6)\n",
       "\tATT2 > 9\n",
       "\tATT4 > 7\n",
       "\tATT9 > 2\n",
       "\tATT9 <= 3\n",
       "\t->  class 3  [0.889]\n",
       "\n",
       "Rule 242: (7, lift 3.6)\n",
       "\tATT2 > 1\n",
       "\tATT2 <= 5\n",
       "\tATT3 <= 7\n",
       "\tATT5 > 4\n",
       "\tATT5 <= 6\n",
       "\tATT6 > 3\n",
       "\tATT6 <= 8\n",
       "\tATT8 <= 1\n",
       "\tATT9 > 2\n",
       "\t->  class 3  [0.889]\n",
       "\n",
       "Rule 243: (7, lift 3.6)\n",
       "\tATT3 > 7\n",
       "\tATT4 > 7\n",
       "\tATT5 <= 3\n",
       "\tATT6 <= 7\n",
       "\tATT8 <= 1\n",
       "\tATT9 > 5\n",
       "\tATT9 <= 9\n",
       "\t->  class 3  [0.889]\n",
       "\n",
       "Rule 244: (30/3, lift 3.5)\n",
       "\tATT1 <= 9\n",
       "\tATT3 > 9\n",
       "\tATT4 <= 6\n",
       "\tATT5 > 2\n",
       "\tATT5 <= 6\n",
       "\tATT6 > 1\n",
       "\tATT6 <= 7\n",
       "\tATT8 > 2\n",
       "\tATT8 <= 6\n",
       "\tATT9 > 3\n",
       "\tATT9 <= 9\n",
       "\tATT10 > 2\n",
       "\t->  class 3  [0.875]\n",
       "\n",
       "Rule 245: (14/1, lift 3.5)\n",
       "\tATT1 <= 9\n",
       "\tATT2 > 1\n",
       "\tATT2 <= 5\n",
       "\tATT3 > 7\n",
       "\tATT4 > 6\n",
       "\tATT4 <= 7\n",
       "\tATT6 > 1\n",
       "\tATT6 <= 7\n",
       "\tATT7 > 1\n",
       "\tATT8 <= 3\n",
       "\tATT9 > 2\n",
       "\t->  class 3  [0.875]\n",
       "\n",
       "Rule 246: (20/2, lift 3.5)\n",
       "\tATT2 <= 1\n",
       "\tATT3 <= 6\n",
       "\tATT4 > 8\n",
       "\tATT6 > 1\n",
       "\tATT7 <= 4\n",
       "\tATT9 <= 2\n",
       "\t->  class 3  [0.864]\n",
       "\n",
       "Rule 247: (12/1, lift 3.4)\n",
       "\tATT1 <= 9\n",
       "\tATT3 <= 6\n",
       "\tATT4 <= 6\n",
       "\tATT5 > 6\n",
       "\tATT7 > 6\n",
       "\tATT7 <= 8\n",
       "\tATT8 <= 5\n",
       "\tATT9 <= 2\n",
       "\t->  class 3  [0.857]\n",
       "\n",
       "Rule 248: (5, lift 3.4)\n",
       "\tATT1 > 2\n",
       "\tATT2 > 5\n",
       "\tATT3 > 5\n",
       "\tATT3 <= 7\n",
       "\tATT4 > 4\n",
       "\tATT6 > 3\n",
       "\tATT6 <= 6\n",
       "\tATT8 <= 2\n",
       "\tATT9 > 3\n",
       "\t->  class 3  [0.857]\n",
       "\n",
       "Rule 249: (5, lift 3.4)\n",
       "\tATT2 > 5\n",
       "\tATT6 > 9\n",
       "\tATT7 <= 2\n",
       "\tATT8 <= 2\n",
       "\tATT9 > 3\n",
       "\t->  class 3  [0.857]\n",
       "\n",
       "Rule 250: (11/1, lift 3.4)\n",
       "\tATT2 > 2\n",
       "\tATT4 > 5\n",
       "\tATT6 <= 1\n",
       "\tATT7 > 5\n",
       "\tATT7 <= 8\n",
       "\tATT8 <= 5\n",
       "\tATT9 > 2\n",
       "\tATT9 <= 5\n",
       "\tATT10 <= 4\n",
       "\t->  class 3  [0.846]\n",
       "\n",
       "Rule 251: (11/1, lift 3.4)\n",
       "\tATT2 > 3\n",
       "\tATT2 <= 6\n",
       "\tATT5 > 8\n",
       "\tATT7 > 7\n",
       "\tATT9 > 2\n",
       "\tATT9 <= 3\n",
       "\t->  class 3  [0.846]\n",
       "\n",
       "Rule 252: (11/1, lift 3.4)\n",
       "\tATT1 <= 4\n",
       "\tATT3 > 7\n",
       "\tATT4 > 7\n",
       "\tATT6 > 1\n",
       "\tATT6 <= 7\n",
       "\tATT8 <= 2\n",
       "\tATT9 > 5\n",
       "\t->  class 3  [0.846]\n",
       "\n",
       "Rule 253: (30/4, lift 3.4)\n",
       "\tATT1 <= 8\n",
       "\tATT2 > 5\n",
       "\tATT3 > 7\n",
       "\tATT4 > 5\n",
       "\tATT4 <= 7\n",
       "\tATT5 > 2\n",
       "\tATT6 > 1\n",
       "\tATT6 <= 4\n",
       "\tATT7 <= 8\n",
       "\tATT9 > 3\n",
       "\tATT10 <= 9\n",
       "\t->  class 3  [0.844]\n",
       "\n",
       "Rule 254: (10/1, lift 3.3)\n",
       "\tATT5 <= 4\n",
       "\tATT6 <= 1\n",
       "\tATT7 <= 1\n",
       "\tATT9 > 2\n",
       "\tATT9 <= 5\n",
       "\tATT10 <= 4\n",
       "\t->  class 3  [0.833]\n",
       "\n",
       "Rule 255: (4, lift 3.3)\n",
       "\tATT3 <= 6\n",
       "\tATT4 > 5\n",
       "\tATT5 > 3\n",
       "\tATT7 > 4\n",
       "\tATT7 <= 8\n",
       "\tATT8 > 5\n",
       "\tATT9 <= 2\n",
       "\tATT10 <= 1\n",
       "\t->  class 3  [0.833]\n",
       "\n",
       "Rule 256: (4, lift 3.3)\n",
       "\tATT1 > 3\n",
       "\tATT1 <= 4\n",
       "\tATT3 > 5\n",
       "\tATT5 <= 5\n",
       "\tATT6 <= 1\n",
       "\tATT9 > 5\n",
       "\tATT9 <= 9\n",
       "\t->  class 3  [0.833]\n",
       "\n",
       "Rule 257: (4, lift 3.3)\n",
       "\tATT2 > 8\n",
       "\tATT2 <= 9\n",
       "\tATT3 > 6\n",
       "\tATT3 <= 8\n",
       "\tATT6 > 3\n",
       "\tATT9 <= 2\n",
       "\t->  class 3  [0.833]\n",
       "\n",
       "Rule 258: (4, lift 3.3)\n",
       "\tATT1 <= 7\n",
       "\tATT2 > 5\n",
       "\tATT3 <= 7\n",
       "\tATT5 > 8\n",
       "\tATT6 > 3\n",
       "\tATT9 > 2\n",
       "\tATT10 > 7\n",
       "\tATT10 <= 8\n",
       "\t->  class 3  [0.833]\n",
       "\n",
       "Rule 259: (27/4, lift 3.3)\n",
       "\tATT1 > 3\n",
       "\tATT1 <= 5\n",
       "\tATT2 <= 5\n",
       "\tATT3 <= 7\n",
       "\tATT6 > 3\n",
       "\tATT7 > 5\n",
       "\tATT9 > 5\n",
       "\tATT10 > 1\n",
       "\tATT10 <= 3\n",
       "\t->  class 3  [0.828]\n",
       "\n",
       "Rule 260: (9/1, lift 3.3)\n",
       "\tATT4 <= 9\n",
       "\tATT5 > 6\n",
       "\tATT6 <= 1\n",
       "\tATT8 > 5\n",
       "\tATT9 > 2\n",
       "\tATT9 <= 5\n",
       "\tATT10 > 2\n",
       "\tATT10 <= 4\n",
       "\t->  class 3  [0.818]\n",
       "\n",
       "Rule 261: (9/1, lift 3.3)\n",
       "\tATT3 > 6\n",
       "\tATT4 <= 5\n",
       "\tATT7 > 4\n",
       "\tATT8 > 9\n",
       "\tATT9 <= 2\n",
       "\t->  class 3  [0.818]\n",
       "\n",
       "Rule 262: (9/1, lift 3.3)\n",
       "\tATT1 > 9\n",
       "\tATT2 <= 1\n",
       "\tATT3 > 7\n",
       "\tATT6 <= 7\n",
       "\tATT9 > 3\n",
       "\tATT9 <= 9\n",
       "\tATT10 <= 9\n",
       "\t->  class 3  [0.818]\n",
       "\n",
       "Rule 263: (14/2, lift 3.3)\n",
       "\tATT2 > 2\n",
       "\tATT3 <= 6\n",
       "\tATT4 > 8\n",
       "\tATT5 <= 6\n",
       "\tATT6 > 1\n",
       "\tATT7 <= 4\n",
       "\tATT8 <= 9\n",
       "\tATT9 <= 1\n",
       "\t->  class 3  [0.813]\n",
       "\n",
       "Rule 264: (14/2, lift 3.3)\n",
       "\tATT2 > 4\n",
       "\tATT2 <= 5\n",
       "\tATT3 > 6\n",
       "\tATT3 <= 7\n",
       "\tATT6 > 3\n",
       "\tATT10 <= 3\n",
       "\t->  class 3  [0.813]\n",
       "\n",
       "Rule 265: (3, lift 3.2)\n",
       "\tATT2 > 7\n",
       "\tATT4 > 8\n",
       "\tATT6 > 1\n",
       "\tATT8 <= 1\n",
       "\tATT9 > 2\n",
       "\tATT9 <= 3\n",
       "\t->  class 3  [0.800]\n",
       "\n",
       "Rule 266: (8/1, lift 3.2)\n",
       "\tATT1 <= 8\n",
       "\tATT2 > 2\n",
       "\tATT2 <= 8\n",
       "\tATT3 <= 6\n",
       "\tATT4 > 2\n",
       "\tATT4 <= 8\n",
       "\tATT5 <= 6\n",
       "\tATT7 > 1\n",
       "\tATT7 <= 4\n",
       "\tATT8 <= 9\n",
       "\tATT9 <= 2\n",
       "\tATT10 > 5\n",
       "\tATT10 <= 7\n",
       "\t->  class 3  [0.800]\n",
       "\n",
       "Rule 267: (8/1, lift 3.2)\n",
       "\tATT1 > 5\n",
       "\tATT3 > 6\n",
       "\tATT5 > 6\n",
       "\tATT6 <= 4\n",
       "\tATT9 <= 2\n",
       "\tATT10 > 8\n",
       "\t->  class 3  [0.800]\n",
       "\n",
       "Rule 268: (3, lift 3.2)\n",
       "\tATT3 > 9\n",
       "\tATT7 > 9\n",
       "\tATT9 <= 2\n",
       "\t->  class 3  [0.800]\n",
       "\n",
       "Rule 269: (16/3, lift 3.1)\n",
       "\tATT2 <= 2\n",
       "\tATT3 > 7\n",
       "\tATT3 <= 8\n",
       "\tATT5 <= 8\n",
       "\tATT10 > 7\n",
       "\t->  class 3  [0.778]\n",
       "\n",
       "Rule 270: (7/1, lift 3.1)\n",
       "\tATT4 <= 6\n",
       "\tATT5 > 8\n",
       "\tATT6 > 1\n",
       "\tATT8 <= 1\n",
       "\tATT9 > 2\n",
       "\tATT9 <= 3\n",
       "\t->  class 3  [0.778]\n",
       "\n",
       "Rule 271: (11/2, lift 3.1)\n",
       "\tATT2 > 6\n",
       "\tATT2 <= 8\n",
       "\tATT3 <= 6\n",
       "\tATT4 > 2\n",
       "\tATT5 <= 4\n",
       "\tATT7 <= 4\n",
       "\tATT9 <= 2\n",
       "\t->  class 3  [0.769]\n",
       "\n",
       "Rule 272: (14/3, lift 3.0)\n",
       "\tATT1 <= 6\n",
       "\tATT2 > 3\n",
       "\tATT2 <= 5\n",
       "\tATT4 > 5\n",
       "\tATT6 > 1\n",
       "\tATT6 <= 8\n",
       "\tATT9 > 2\n",
       "\tATT9 <= 3\n",
       "\tATT10 > 5\n",
       "\t->  class 3  [0.750]\n",
       "\n",
       "Rule 273: (15/4, lift 2.8)\n",
       "\tATT1 > 2\n",
       "\tATT3 <= 7\n",
       "\tATT4 <= 3\n",
       "\tATT6 > 6\n",
       "\tATT6 <= 9\n",
       "\tATT8 <= 2\n",
       "\tATT9 > 3\n",
       "\t->  class 3  [0.706]\n",
       "\n",
       "Rule 274: (30/13, lift 2.3)\n",
       "\tATT1 <= 6\n",
       "\tATT2 <= 2\n",
       "\tATT3 <= 6\n",
       "\tATT4 > 2\n",
       "\tATT4 <= 8\n",
       "\tATT5 <= 6\n",
       "\tATT7 <= 2\n",
       "\tATT8 <= 9\n",
       "\tATT9 <= 2\n",
       "\tATT10 <= 7\n",
       "\t->  class 3  [0.563]\n",
       "\n",
       "Rule 275: (13/6, lift 2.1)\n",
       "\tATT1 <= 3\n",
       "\tATT2 > 8\n",
       "\tATT6 <= 1\n",
       "\t->  class 3  [0.533]\n",
       "\n",
       "Default class: 0\n",
       "\n",
       "\n",
       "Evaluation on training data (2804 cases):\n",
       "\n",
       "\t        Rules     \n",
       "\t  ----------------\n",
       "\t    No      Errors\n",
       "\n",
       "\t   275  440(15.7%)   <<\n",
       "\n",
       "\n",
       "\t   (a)   (b)   (c)   (d)    <-classified as\n",
       "\t  ----  ----  ----  ----\n",
       "\t   538   107    41    15    (a): class 0\n",
       "\t    67   576    45    13    (b): class 1\n",
       "\t    44    70   577    10    (c): class 2\n",
       "\t    12    16         673    (d): class 3\n",
       "\n",
       "\n",
       "\tAttribute usage:\n",
       "\n",
       "\t 90.55%\tATT10\n",
       "\t 87.55%\tATT1\n",
       "\t 78.89%\tATT9\n",
       "\t 77.57%\tATT3\n",
       "\t 60.59%\tATT6\n",
       "\t 56.85%\tATT7\n",
       "\t 55.67%\tATT5\n",
       "\t 52.89%\tATT2\n",
       "\t 45.22%\tATT8\n",
       "\t 43.30%\tATT4\n",
       "\n",
       "\n",
       "Time: 0.2 secs\n"
      ]
     },
     "metadata": {},
     "output_type": "display_data"
    },
    {
     "data": {
      "text/plain": [
       "\n",
       "Call:\n",
       "C5.0.formula(formula = Result ~ ., data = training, rules = TRUE)\n",
       "\n",
       "Rule-Based Model\n",
       "Number of samples: 2804 \n",
       "Number of predictors: 10 \n",
       "\n",
       "Number of Rules: 275 \n",
       "\n",
       "Non-standard options: attempt to group attributes\n"
      ]
     },
     "metadata": {},
     "output_type": "display_data"
    }
   ],
   "source": [
    "summary(rulesFit);\n",
    "rulesFit;"
   ]
  },
  {
   "cell_type": "code",
   "execution_count": 106,
   "metadata": {
    "collapsed": true
   },
   "outputs": [],
   "source": [
    "# Predict.\n",
    "pred_rules <- predict(rulesFit, prostateDatasetTest_modified);"
   ]
  },
  {
   "cell_type": "code",
   "execution_count": 107,
   "metadata": {
    "collapsed": false
   },
   "outputs": [
    {
     "data": {
      "text/plain": [
       "       truth\n",
       "predict  0  1  2  3\n",
       "      0 68 53 47  9\n",
       "      1 77 84 57 17\n",
       "      2 39 44 24  3\n",
       "      3 30 23 19  6"
      ]
     },
     "metadata": {},
     "output_type": "display_data"
    }
   ],
   "source": [
    "table(predict = pred_rules, truth = prostateDatasetTest_modified[['Result']]);\n",
    "\n",
    "#        truth\n",
    "# predict  0  1  2  3\n",
    "#       0 67 75 46 16\n",
    "#       1 68 65 51  8\n",
    "#       2 52 46 33  5\n",
    "#       3 27 18 17  6"
   ]
  },
  {
   "cell_type": "code",
   "execution_count": 108,
   "metadata": {
    "collapsed": false
   },
   "outputs": [
    {
     "data": {
      "text/plain": [
       "Confusion Matrix and Statistics\n",
       "\n",
       "          Reference\n",
       "Prediction  0  1  2  3\n",
       "         0 68 77 39 30\n",
       "         1 53 84 44 23\n",
       "         2 47 57 24 19\n",
       "         3  9 17  3  6\n",
       "\n",
       "Overall Statistics\n",
       "                                        \n",
       "               Accuracy : 0.303         \n",
       "                 95% CI : (0.267, 0.342)\n",
       "    No Information Rate : 0.392         \n",
       "    P-Value [Acc > NIR] : 1             \n",
       "                                        \n",
       "                  Kappa : 0.018         \n",
       " Mcnemar's Test P-Value : 0.000029      \n",
       "\n",
       "Statistics by Class:\n",
       "\n",
       "                     Class: 0 Class: 1 Class: 2 Class: 3\n",
       "Sensitivity             0.384    0.357    0.218   0.0769\n",
       "Specificity             0.655    0.671    0.749   0.9444\n",
       "Pos Pred Value          0.318    0.412    0.163   0.1714\n",
       "Neg Pred Value          0.718    0.619    0.810   0.8726\n",
       "Prevalence              0.295    0.392    0.183   0.1300\n",
       "Detection Rate          0.113    0.140    0.040   0.0100\n",
       "Detection Prevalence    0.357    0.340    0.245   0.0583\n",
       "Balanced Accuracy       0.520    0.514    0.484   0.5107"
      ]
     },
     "metadata": {},
     "output_type": "display_data"
    }
   ],
   "source": [
    "confusionMatrix(actual, pred_rules)"
   ]
  },
  {
   "cell_type": "code",
   "execution_count": 83,
   "metadata": {
    "collapsed": true
   },
   "outputs": [],
   "source": [
    "#classError(table(predict = rulesPredict, truth = prostateDatasetTest_modified[['Result']]));\n",
    "\n",
    "# Correctly  classified observations:  171 \n",
    "# Total observations:  600 \n",
    "# Accuracy:  0.285 \n",
    "# Classification error:  0.715 "
   ]
  },
  {
   "cell_type": "markdown",
   "metadata": {},
   "source": [
    "---\n",
    "# 11. Flexible Discriminant Analysis\n",
    "(Peter Tadich)"
   ]
  },
  {
   "cell_type": "code",
   "execution_count": 80,
   "metadata": {
    "collapsed": true
   },
   "outputs": [],
   "source": [
    "levels(training$Result)[levels(training$Result)==\"0\"] <- \"curable\"\n",
    "levels(training$Result)[levels(training$Result)==\"1\"] <- \"tumour\"\n",
    "levels(training$Result)[levels(training$Result)==\"2\"] <- \"node\"\n",
    "levels(training$Result)[levels(training$Result)==\"3\"] <- \"incurable\""
   ]
  },
  {
   "cell_type": "code",
   "execution_count": 81,
   "metadata": {
    "collapsed": false
   },
   "outputs": [
    {
     "ename": "ERROR",
     "evalue": "Error in is.data.frame(data): object 'prostateDatasetTrain_modified' not found\n",
     "output_type": "error",
     "traceback": [
      "Error in is.data.frame(data): object 'prostateDatasetTrain_modified' not found\nTraceback:\n",
      "1. fda(Result ~ ., data = prostateDatasetTrain_modified, method = earth, \n .     pmethod = \"none\")   # at line 5 of file <text>",
      "2. eval(m, parent.frame())",
      "3. eval(expr, envir, enclos)",
      "4. model.frame(formula = Result ~ ., data = prostateDatasetTrain_modified)",
      "5. model.frame.default(formula = Result ~ ., data = prostateDatasetTrain_modified)",
      "6. is.data.frame(data)"
     ]
    }
   ],
   "source": [
    "# Test 'fda' via 'mda' package with method = earth.\n",
    "# Create a flexible discriminant model ('caret' uses 'earth' package hence method = earth).\n",
    "if(TRUE){\n",
    "    \n",
    "    fdaFit <- fda(Result ~., data = prostateDatasetTrain_modified, method = earth, pmethod = 'none'); # From 'mda' package.\n",
    "    \n",
    "}"
   ]
  },
  {
   "cell_type": "code",
   "execution_count": 82,
   "metadata": {
    "collapsed": false
   },
   "outputs": [
    {
     "ename": "ERROR",
     "evalue": "Error in trainControl(method = \"LGOCV\", summaryFunction = multiClassSummary, : object 'index' not found\n",
     "output_type": "error",
     "traceback": [
      "Error in trainControl(method = \"LGOCV\", summaryFunction = multiClassSummary, : object 'index' not found\nTraceback:\n",
      "1. trainControl(method = \"LGOCV\", summaryFunction = multiClassSummary, \n .     classProbs = TRUE, index = index, allowParallel = TRUE, savePredictions = TRUE)"
     ]
    }
   ],
   "source": [
    "# LGOCV 'leave-group-out cross- validation' or 'Monte Carlo cross-validation.'\n",
    "ctrl <- trainControl(method = \"LGOCV\",\n",
    "    summaryFunction = multiClassSummary,\n",
    "    classProbs = TRUE,\n",
    "    index = index,\n",
    "    allowParallel = TRUE,\n",
    "    savePredictions = TRUE);"
   ]
  },
  {
   "cell_type": "code",
   "execution_count": 115,
   "metadata": {
    "collapsed": false
   },
   "outputs": [
    {
     "name": "stderr",
     "output_type": "stream",
     "text": [
      "Warning message in nominalTrainWorkflow(x = x, y = y, wts = weights, info = trainInfo, :\n",
      "\"There were missing values in resampled performance measures.\""
     ]
    }
   ],
   "source": [
    "# Train Flexible Discriminant Model.\n",
    "\n",
    "# Note: get the following warning if nprune = 2\n",
    "#       Warning message in nominalTrainWorkflow(x = x, y = y, wts = weights, info = trainInfo, :\n",
    "#       \"There were missing values in resampled performance measures.\"\n",
    "\n",
    "if(TRUE){\n",
    "\n",
    "    # Do parallel computation.\n",
    "    cores <- 4;\n",
    "    registerDoParallel(cores=cores); # Parallel computation.\n",
    "\n",
    "    set.seed(476);\n",
    "    fdaFit <- train(\n",
    "        #x = x, # predictor variables\n",
    "        #y = y, # response variable,\n",
    "        x = training[, predVars], # predictor variables\n",
    "        y = training$Result, # response variable,\n",
    "        method = 'fda',\n",
    "        pmethod = 'none',\n",
    "        metric = 'Accuracy',\n",
    "        tuneGrid = expand.grid(degree = c(1,2,3), nprune = 3:11),\n",
    "        preProc = c('center', 'scale'),\n",
    "        trControl = ctrl);\n",
    "\n",
    "    # Shut down parallel computation.\n",
    "    stopImplicitCluster();\n",
    "\n",
    "}"
   ]
  },
  {
   "cell_type": "code",
   "execution_count": 116,
   "metadata": {
    "collapsed": false
   },
   "outputs": [
    {
     "data": {
      "text/plain": [
       "Flexible Discriminant Analysis \n",
       "\n",
       "2804 samples\n",
       "  10 predictor\n",
       "   4 classes: 'curable', 'tumour', 'node', 'incurable' \n",
       "\n",
       "Pre-processing: centered (10), scaled (10) \n",
       "Resampling: Repeated Train/Test Splits Estimated (50 reps, 75%) \n",
       "Summary of sample sizes: 2523, 2523, 2523, 2524, 2524, 2524, ... \n",
       "Resampling results across tuning parameters:\n",
       "\n",
       "  degree  nprune  logLoss  Mean_ROC  Accuracy  Kappa    Mean_Sensitivity\n",
       "  1        3      1.384    0.5178    0.2665    0.02200  0.2665          \n",
       "  1        4      1.384    0.5245    0.2650    0.02008  0.2651          \n",
       "  1        5      1.381    0.5347    0.2752    0.03358  0.2752          \n",
       "  1        6      1.383    0.5293    0.2757    0.03425  0.2757          \n",
       "  1        7      1.386    0.5264    0.2759    0.03452  0.2759          \n",
       "  1        8      1.387    0.5242    0.2725    0.02998  0.2725          \n",
       "  1        9      1.389    0.5233    0.2735    0.03140  0.2735          \n",
       "  1       10      1.390    0.5231    0.2728    0.03044  0.2728          \n",
       "  1       11      1.390    0.5254    0.2747    0.03301  0.2747          \n",
       "  2        3      1.384    0.5178    0.2665    0.02200  0.2665          \n",
       "  2        4      1.384    0.5179    0.2728    0.03037  0.2728          \n",
       "  2        5      1.381    0.5219    0.2746    0.03283  0.2746          \n",
       "  2        6      1.382    0.5239    0.2742    0.03238  0.2743          \n",
       "  2        7      1.383    0.5244    0.2745    0.03275  0.2745          \n",
       "  2        8      1.384    0.5262    0.2725    0.03008  0.2725          \n",
       "  2        9      1.385    0.5277    0.2728    0.03035  0.2727          \n",
       "  2       10      1.385    0.5313    0.2721    0.02950  0.2721          \n",
       "  2       11      1.385    0.5332    0.2725    0.02996  0.2725          \n",
       "  3        3      1.384    0.5178    0.2665    0.02200  0.2665          \n",
       "  3        4      1.384    0.5179    0.2728    0.03037  0.2728          \n",
       "  3        5      1.381    0.5219    0.2746    0.03283  0.2746          \n",
       "  3        6      1.382    0.5261    0.2751    0.03353  0.2751          \n",
       "  3        7      1.385    0.5243    0.2726    0.03016  0.2726          \n",
       "  3        8      1.384    0.5273    0.2758    0.03437  0.2758          \n",
       "  3        9      1.383    0.5308    0.2805    0.04064  0.2805          \n",
       "  3       10      1.382    0.5344    0.2827    0.04368  0.2827          \n",
       "  3       11      1.380    0.5378    0.2883    0.05108  0.2883          \n",
       "  Mean_Specificity  Mean_Pos_Pred_Value  Mean_Neg_Pred_Value\n",
       "  0.7555            0.2404               0.7580             \n",
       "  0.7550            0.2521               0.7570             \n",
       "  0.7584            0.2681               0.7601             \n",
       "  0.7586            0.2689               0.7603             \n",
       "  0.7586            0.2715               0.7601             \n",
       "  0.7575            0.2671               0.7590             \n",
       "  0.7579            0.2625               0.7594             \n",
       "  0.7576            0.2618               0.7591             \n",
       "  0.7583            0.2661               0.7596             \n",
       "  0.7555            0.2404               0.7580             \n",
       "  0.7576            0.2403               0.7608             \n",
       "  0.7582            0.2419               0.7615             \n",
       "  0.7581            0.2501               0.7609             \n",
       "  0.7582            0.2593               0.7606             \n",
       "  0.7575            0.2572               0.7599             \n",
       "  0.7576            0.2574               0.7600             \n",
       "  0.7574            0.2595               0.7594             \n",
       "  0.7575            0.2611               0.7594             \n",
       "  0.7555            0.2404               0.7580             \n",
       "  0.7576            0.2403               0.7608             \n",
       "  0.7582            0.2419               0.7615             \n",
       "  0.7584            0.2597               0.7613             \n",
       "  0.7575            0.2536               0.7602             \n",
       "  0.7586            0.2549               0.7614             \n",
       "  0.7602            0.2591               0.7634             \n",
       "  0.7609            0.2646               0.7642             \n",
       "  0.7628            0.2701               0.7664             \n",
       "  Mean_Detection_Rate  Mean_Balanced_Accuracy\n",
       "  0.06662              0.5110                \n",
       "  0.06626              0.5100                \n",
       "  0.06879              0.5168                \n",
       "  0.06892              0.5171                \n",
       "  0.06897              0.5173                \n",
       "  0.06812              0.5150                \n",
       "  0.06839              0.5157                \n",
       "  0.06821              0.5152                \n",
       "  0.06869              0.5165                \n",
       "  0.06662              0.5110                \n",
       "  0.06819              0.5152                \n",
       "  0.06865              0.5164                \n",
       "  0.06856              0.5162                \n",
       "  0.06863              0.5164                \n",
       "  0.06814              0.5150                \n",
       "  0.06819              0.5152                \n",
       "  0.06803              0.5147                \n",
       "  0.06812              0.5150                \n",
       "  0.06662              0.5110                \n",
       "  0.06819              0.5152                \n",
       "  0.06865              0.5164                \n",
       "  0.06878              0.5168                \n",
       "  0.06815              0.5151                \n",
       "  0.06894              0.5172                \n",
       "  0.07011              0.5203                \n",
       "  0.07069              0.5218                \n",
       "  0.07207              0.5255                \n",
       "\n",
       "Accuracy was used to select the optimal model using  the largest value.\n",
       "The final values used for the model were degree = 3 and nprune = 11. "
      ]
     },
     "metadata": {},
     "output_type": "display_data"
    }
   ],
   "source": [
    "fdaFit;"
   ]
  },
  {
   "cell_type": "code",
   "execution_count": 119,
   "metadata": {
    "collapsed": true
   },
   "outputs": [],
   "source": [
    "# Predict.\n",
    "pred_fda <- predict(fdaFit, prostateDatasetTest_modified);"
   ]
  },
  {
   "cell_type": "code",
   "execution_count": 120,
   "metadata": {
    "collapsed": false
   },
   "outputs": [
    {
     "data": {
      "text/plain": [
       "           truth\n",
       "predict       0   1   2   3\n",
       "  curable    16  10   5   1\n",
       "  tumour     40  45  34   9\n",
       "  node       55  57  36   8\n",
       "  incurable 103  92  72  17"
      ]
     },
     "metadata": {},
     "output_type": "display_data"
    }
   ],
   "source": [
    "table(predict = pred_fda, truth = prostateDatasetTest_modified[['Result']]);\n",
    "\n",
    "#            truth\n",
    "# predict      0  1  2  3\n",
    "#   curable   62 71 42  8\n",
    "#   tumour    34 12 19  2\n",
    "#   node      44 69 36  9\n",
    "#   incurable 74 52 50 16"
   ]
  },
  {
   "cell_type": "code",
   "execution_count": 79,
   "metadata": {
    "collapsed": false
   },
   "outputs": [
    {
     "ename": "ERROR",
     "evalue": "Error in is.factor(reference): object 'pred_fda' not found\n",
     "output_type": "error",
     "traceback": [
      "Error in is.factor(reference): object 'pred_fda' not found\nTraceback:\n",
      "1. confusionMatrix(actual_factor, pred_fda)",
      "2. confusionMatrix.default(actual_factor, pred_fda)",
      "3. is.factor(reference)"
     ]
    }
   ],
   "source": [
    "confusionMatrix(actual_factor, pred_fda)"
   ]
  },
  {
   "cell_type": "code",
   "execution_count": 123,
   "metadata": {
    "collapsed": true
   },
   "outputs": [],
   "source": [
    "#classError(table(predict = fdaPredict, truth = prostateDatasetTest_modified[['Result']]));\n",
    "\n",
    "# Correctly  classified observations:  126 \n",
    "# Total observations:  600 \n",
    "# Accuracy:  0.21 \n",
    "# Classification error:  0.79 "
   ]
  },
  {
   "cell_type": "code",
   "execution_count": null,
   "metadata": {
    "collapsed": true
   },
   "outputs": [],
   "source": []
  },
  {
   "cell_type": "markdown",
   "metadata": {},
   "source": [
    "# 12. Deep Learning\n",
    "(Aruna Tillekeratne)\n",
    "\n",
    "This notebook is the documentation which covers the implementation of a feedforward deep architecture nerual network to classify prostate cancer. \n",
    "\n",
    "## Neural Networks & Deep Learning\n",
    "Neural Networks are machine learning models which have become increasingly popular in recent days for modelling complex systems. The idea behind neural nets can be somewhat traced back to the architecture of the brain, however arguably there are a large number of dissimilarities. Essentially neural networks are a number of models (nodes) layed out on computation graph form and each of the inputs are fed successively to each of these nodes (also called neurons). Indepth explanation of networks is beyond the scope of this document. If you are not familiar with neural networks, see https://en.wikipedia.org/wiki/Artificial_neural_network. Note this is a feed forward implemntation only. <br />\n",
    "Deep learning is a recent (popularised recently) architectural scheme for neural networks. The computation nodes discussed above are generally arranged in layers. As apposed to shallow architecture, deep architecture involves having multiple layers before reaching the output of the network. You can learn more about deep learning at https://en.wikipedia.org/wiki/Deep_learning.\n",
    "\n",
    "## Prostate Cancer Data \n",
    "The prostate cancer dataset is a 3000 observation dataset containing 4 level classification of prostate cancers. The entire dataset is numeric (with the response variable being a 4 level factor). The features are all measurements rounded to the nearest integer. See the exploratory data analysis for more information on this.\n",
    "\n",
    "## How this notebook works.\n",
    "Given that this is a deep learning notebook, it is unlikely that you want to go through the trainng phase. The training phase takes some time to run (depending on hardware ofcourse). None the less all the training code is available in the notebook. In the cell below, the variable named **isRetrainAllowed** is set to FALSE. If you would like to retrain, please set this variable to TRUE. Since networks are sensitive to initialisation, you may return different results to what has been trainied before.\n",
    "\n",
    "### Deep Learning Model Architecture\n",
    "We will be using the **h2o** library for the development of our deep learning models. This is a special environment which allows multi threaded learning for neural networks. This means that all models are of class h2o. When you want to test it on your validation set, you will not be able to simply call the **base::predict** function. \n",
    "We have defined a **predict.deep(dataset)** method for your use with the dataset. You may ask, why ? There are three reasons.\n",
    "\n",
    "1. First the h2o library calls a special h2o.predict function which can talk to objects of type h2o. Our model will inherit from this class. <br />\n",
    "2. The featureset needs to inherit from class h2o as well, so that some parallel processing may occur. <br />\n",
    "3. This model takes engineered features, that is, the orignal features get transformed prior to being fed into the predictive model. <br />\n",
    "\n",
    "### Libraries You Need To Run (Among other things)\n",
    "This deep learning model has been trained in h2o Version 3.10.0.10. All models are saved from this version. For some reason, h2o has no backward compatibility. I'm serious, NO means absolutely nothing. So you need to install h2o version 3.10.0.10 even just to load the saved models. <br />\n",
    "You also need the **deepModel.h2o** file to be in the folder of the notebook. This actually contains our neural network model. When you run the predict.deep(dataset) method, it'll make a call to load this file into memory and it'll pass your dataset into the model to make predictions. We will discuss in further detail inside the predict.deep method how it all works. <b4 />\n",
    "The r script file **utilities.r** and **fe.r** are both required. These contain some utility and feature engineering functions which help transform or develop some new features using simple rules. "
   ]
  },
  {
   "cell_type": "code",
   "execution_count": 45,
   "metadata": {
    "collapsed": false
   },
   "outputs": [
    {
     "name": "stdout",
     "output_type": "stream",
     "text": [
      "[1] \"Skipping model training and loading existing model.\"\n"
     ]
    }
   ],
   "source": [
    "## Set this to true if you want to retrain the deep learning model.\n",
    "isRetrainAllowed <- FALSE\n",
    "if(isRetrainAllowed){\n",
    "    print(\"Warning: Model will retrain.\")\n",
    "} else{\n",
    "    print(\"Skipping model training and loading existing model.\")\n",
    "}"
   ]
  },
  {
   "cell_type": "code",
   "execution_count": 46,
   "metadata": {
    "collapsed": false
   },
   "outputs": [],
   "source": [
    "source(\"utilities.r\") # Utility functions and helpers.\n",
    "source(\"FE.r\") # Feature engineering functions."
   ]
  },
  {
   "cell_type": "markdown",
   "metadata": {},
   "source": [
    "## Feature Engineering\n",
    "\n",
    "Bulk of the work for the deep learning model has happend in the feature engineering section. As discussed in the exploratory data analysis, the dataset is extremely non linear. The priniciple component analysis showed that that random scattering of variables with no distinct groups. This is probably a good sign that there will need to be some transformations done on the data and added as features. In order to keep simplicity, all the feature engineering happens in a pipeline. This is done for 2 reasons. Our predict.deep function can mimic our feature engineering and take the users dataset and do the trasnformation in function and also it makes the trasnformations much easier to follow. "
   ]
  },
  {
   "cell_type": "code",
   "execution_count": 69,
   "metadata": {
    "collapsed": true
   },
   "outputs": [],
   "source": [
    "training <- train\n",
    "testing <- test"
   ]
  },
  {
   "cell_type": "markdown",
   "metadata": {},
   "source": [
    "### Step 1 :: Centering & Scaling \n",
    "Generally speaking, most algorithms, especially neural networks like 0 centered and scaled data. Why ? I don't know.\n",
    "To do this we are going to use a method called preProcess from the caret package. This is actually a robust method to apply center and scaling using the training set and apply the same scaling matrix to any unseen data. We will also input a YeoJohnson transformation as well."
   ]
  },
  {
   "cell_type": "code",
   "execution_count": 48,
   "metadata": {
    "collapsed": false
   },
   "outputs": [
    {
     "data": {},
     "metadata": {},
     "output_type": "display_data"
    },
    {
     "data": {
      "image/png": "[encoded data removed]",
      "text/plain": [
       "plot without title"
      ]
     },
     "metadata": {},
     "output_type": "display_data"
    }
   ],
   "source": [
    "# Get the pre processor.\n",
    "fe.PreProcessor <- caret::preProcess(training,method = c(\"center\",\"scale\",\"YeoJohnson\"))\n",
    "\n",
    "# We don't actually use this preprocessor in our predict.deep method but this show's you how the code works.\n",
    "# Use the preprocessor to transform the training and the test dataset. This preprocessor model will be used to transform all unseen data as well.\n",
    "tr.csyj <- predict(fe.PreProcessor,training) # training set.\n",
    "ts.csyj <- predict(fe.PreProcessor,testing) # testing set.\n",
    "\n",
    "# Let's visualise the dataset using smoe principle component analysis to get the two major axis. We will again call on a wrapper from the utilities script to do the principle component analysis for us. Inside the Udf.Utilities.Prcomp method is a simple call to stats::prcomp method. \n",
    "ggplot(Udf.Utilities.Prcomp(tr.csyj[,-ncol(tr.csyj)],nComps = 2)$components,aes(PC1,PC2,color = tr.csyj$Result)) + geom_point() + scale_color_discrete(\"Result\") + ggtitle(\"Prostate Cancer (Centered Scaled) on Principle Components.\")"
   ]
  },
  {
   "cell_type": "markdown",
   "metadata": {},
   "source": [
    "We can see that there are no really distinct cluster groups. This is probably not a good indicator of predictability, there is absolutetly no visibility of class separation at all. There is also somewhat scattering to the outside as well, let's try using a spatial sign transform to project it radially outwards to see if we can improve the performance of the PCA."
   ]
  },
  {
   "cell_type": "markdown",
   "metadata": {},
   "source": [
    "### Step 2 :: Spatial Sign Transform\n",
    "Spatial sign transforms are usually used to target outliers. But in this case, I just tried it randomly while I was frustrated about model performance, so voila. "
   ]
  },
  {
   "cell_type": "code",
   "execution_count": 49,
   "metadata": {
    "collapsed": false
   },
   "outputs": [
    {
     "data": {},
     "metadata": {},
     "output_type": "display_data"
    },
    {
     "data": {
      "image/png": "[encoded data removed]",
      "text/plain": [
       "plot without title"
      ]
     },
     "metadata": {},
     "output_type": "display_data"
    }
   ],
   "source": [
    "tr.csyj.ss <- as.data.frame(caret::spatialSign(tr.csyj[,-ncol(tr.csyj)]))\n",
    "ts.csyj.ss <- as.data.frame(caret::spatialSign(ts.csyj[,-ncol(ts.csyj)]))\n",
    "\n",
    "# Let's revisualise to see if the PCA has improved.\n",
    "ggplot(Udf.Utilities.Prcomp(tr.csyj.ss,nComps = 2)$components,aes(PC1,PC2,color = tr.csyj$Result)) + geom_point() + scale_color_discrete(\"Result\") + ggtitle(\"Prostate Cancer (Centered, Scaled & SS Transformed) on Principle Components\")\n"
   ]
  },
  {
   "cell_type": "markdown",
   "metadata": {},
   "source": [
    "Well, there isn't much improvement, but the data is less spread out, which is exactly what spatial sign does. \n",
    "We are going to use regularisation in our neural network, so it should automatically scale the parameters which are insiginificant down or to zero. Therefore we will bind any additonal transformations to the centered and scaled data. Let's call these binding objects as feed(s). So feed.training and feed.testing. We will hold out the label until we are at the final stage.\n",
    "And yes, this is not the same as subsetting features (especially in these nonlinear models) but with the time constraint and the relatively poor computational power i have to make this model, my search grid couldn't be too big."
   ]
  },
  {
   "cell_type": "code",
   "execution_count": 50,
   "metadata": {
    "collapsed": true
   },
   "outputs": [],
   "source": [
    "# Original data centered and scaled with a YeaJohnson transform.\n",
    "feed.training <- tr.csyj[,-ncol(tr.csyj)]\n",
    "feed.testing <- ts.csyj[,-ncol(tr.csyj)]  \n",
    "\n",
    "# Bind the new data and redo column names\n",
    "feed.training <- cbind(feed.training,tr.csyj.ss)\n",
    "colnames(feed.training) <- paste(\"FT\",1:ncol(feed.training),sep=\"\")\n",
    "\n",
    "feed.testing <- cbind(feed.testing,ts.csyj.ss)\n",
    "colnames(feed.testing) <- paste(\"FT\",1:ncol(feed.testing),sep=\"\")"
   ]
  },
  {
   "cell_type": "markdown",
   "metadata": {},
   "source": [
    "### Step 3 :: Adding the PCA Results\n",
    "So far we have just been using PCA to visualise the data set. But let's include the soem of the results from the PCA as extra features. This may give it some more of the description of featurespace from the linear model of PCA."
   ]
  },
  {
   "cell_type": "code",
   "execution_count": 51,
   "metadata": {
    "collapsed": false
   },
   "outputs": [
    {
     "data": {
      "image/png": "[encoded data removed]",
      "text/plain": [
       "Plot with title \"Components Vs Variance Explained\""
      ]
     },
     "metadata": {},
     "output_type": "display_data"
    }
   ],
   "source": [
    "pcaModel_ <- Udf.Utilities.Prcomp(feed.training,nComp = ncol(feed.training))\n",
    "# Look at the components and their explanation of the overall variance in the dataset.\n",
    "plot(pcaModel_$prcompObj,\"Components Vs Variance Explained\",type = \"l\")"
   ]
  },
  {
   "cell_type": "markdown",
   "metadata": {},
   "source": [
    "Looks like there is no 1 component which explains most of the variance. Remember our model is going to have l1 regularisation therefore it'll just simply scale the weights down to zero where variables don't actually help. So lets add the entire thing. <br />\n",
    "It is important that we keep the same rotation that we learned from our training set over to the validation sets. So let's extract the rotation matrix and then multiply our validation set to get the rotated values. <br />\n",
    "\n",
    "multiply the rotation by the matrix which is spatial sign transformed to get the next step.\n"
   ]
  },
  {
   "cell_type": "code",
   "execution_count": 52,
   "metadata": {
    "collapsed": true
   },
   "outputs": [],
   "source": [
    "tr.csyj.ss.pca <- pcaModel_$prcompObj$rotation * feed.training # matrix multiply the weights into the features.\n",
    "feed.training <- cbind(feed.training,tr.csyj.ss.pca) # Bind the existing data.\n",
    "colnames(feed.training) <- paste(\"FT\",1:ncol(feed.training),sep=\"\") # Generalise feature names.\n",
    "\n",
    "ts.csyj.ss.pca <- pcaModel_$prcompObj$rotation * feed.testing\n",
    "feed.testing <- cbind(feed.testing,ts.csyj.ss.pca)\n",
    "colnames(feed.testing) <- paste(\"FT\",1:ncol(feed.testing),sep=\"\")"
   ]
  },
  {
   "cell_type": "markdown",
   "metadata": {},
   "source": [
    "### Step 4 :: Row Sum of Top 2 PCA\n",
    "Another useful feature may be able to be captured by the top principle components. We will use the top 2 here. This was also added because I did some random testing and found this actually helped the mean accuracy go up. "
   ]
  },
  {
   "cell_type": "code",
   "execution_count": 53,
   "metadata": {
    "collapsed": true
   },
   "outputs": [],
   "source": [
    "tr.csyj.ss.pca.sum <- rowSums((pcaModel_$prcompObj$rotation * tr.csyj.ss.pca)[,1:2])\n",
    "feed.training <- cbind(feed.training,tr.csyj.ss.pca.sum)\n",
    "colnames(feed.training) <- paste(\"FT\",1:ncol(feed.training),sep=\"\")\n",
    "\n",
    "ts.csyj.ss.pca.sum <- rowSums((pcaModel_$prcompObj$rotation * ts.csyj.ss.pca)[,1:2])\n",
    "feed.testing <- cbind(feed.testing,ts.csyj.ss.pca.sum)\n",
    "colnames(feed.testing) <- paste(\"FT\",1:ncol(feed.testing),sep=\"\")"
   ]
  },
  {
   "cell_type": "markdown",
   "metadata": {},
   "source": [
    "### Step 5 :: Frequency Values of Features\n",
    "Another useful feature is the number of counts of some of the variables and how the occur on the dataset. Given that everything is rounded to an integer, we can assume they are nearly categorical. Lets see how we do with this. We are calling on one of our utility functions, which essentiall does a count and joins it using the sqldf library."
   ]
  },
  {
   "cell_type": "code",
   "execution_count": 54,
   "metadata": {
    "collapsed": false
   },
   "outputs": [
    {
     "name": "stderr",
     "output_type": "stream",
     "text": [
      "Warning message:\n",
      "\"Quoted identifiers should have class SQL, use DBI::SQL() if the caller performs the quoting.\""
     ]
    }
   ],
   "source": [
    "tr.colsum <- my.f2cnt(training,\"ATT1\",\"ATT2\")\n",
    "feed.training <- cbind(feed.training,tr.colsum)\n",
    "colnames(feed.training) <- paste(\"FT\",1:ncol(feed.training),sep=\"\")\n",
    "\n",
    "ts.colsum <- my.f2cnt(testing,\"ATT1\",\"ATT2\")\n",
    "feed.testing <- cbind(feed.testing,ts.colsum)\n",
    "colnames(feed.testing) <- paste(\"FT\",1:ncol(feed.testing),sep=\"\")"
   ]
  },
  {
   "cell_type": "markdown",
   "metadata": {
    "collapsed": true
   },
   "source": [
    "### Step 6 :: Scale and Center Everything\n",
    "Once again, scale and center everything so that the NN gets nice values between 1 and -1."
   ]
  },
  {
   "cell_type": "code",
   "execution_count": 55,
   "metadata": {
    "collapsed": true
   },
   "outputs": [],
   "source": [
    "feed.training <- scale(feed.training)\n",
    "feed.testing <- scale(feed.testing)\n",
    "# Rebind the labels.\n",
    "feed.training <- as.data.frame(cbind(feed.training,training[,\"Result\"]))\n",
    "colnames(feed.training)[ncol(feed.training)] <- \"Result\"\n",
    "feed.training[,\"Result\"] <- as.factor(feed.training[,\"Result\"])\n",
    "feed.testing <- as.data.frame(cbind(feed.testing,testing[,\"Result\"]))\n",
    "colnames(feed.testing)[ncol(feed.testing)] <- \"Result\"\n",
    "feed.testing[,\"Result\"] <- as.factor(feed.testing[,\"Result\"])"
   ]
  },
  {
   "cell_type": "markdown",
   "metadata": {
    "collapsed": true
   },
   "source": [
    "### Autoencoder.\n",
    "Autoencoders are a non supervised learning implementation of neural networks. We are going to be using it as a non linear implementation of PCA. That is, reducing dimensionality of the dataset non linearly. We will use the reduced set of outputs as features to our NN supervised model."
   ]
  },
  {
   "cell_type": "code",
   "execution_count": 56,
   "metadata": {
    "collapsed": false
   },
   "outputs": [
    {
     "name": "stdout",
     "output_type": "stream",
     "text": [
      "\n",
      "H2O is not running yet, starting it now...\n",
      "\n",
      "Note:  In case of errors look at the following log files:\n",
      "    C:\\Users\\jmills\\AppData\\Local\\Temp\\Rtmp2j84Ls/h2o_jmills_started_from_r.out\n",
      "    C:\\Users\\jmills\\AppData\\Local\\Temp\\Rtmp2j84Ls/h2o_jmills_started_from_r.err\n",
      "\n",
      "\n",
      "Starting H2O JVM and connecting: . Connection successful!\n",
      "\n",
      "R is connected to the H2O cluster: \n",
      "    H2O cluster uptime:         3 seconds 922 milliseconds \n",
      "    H2O cluster version:        3.10.0.8 \n",
      "    H2O cluster version age:    1 month and 23 days  \n",
      "    H2O cluster name:           H2O_started_from_R_jmills_uem511 \n",
      "    H2O cluster total nodes:    1 \n",
      "    H2O cluster total memory:   1.75 GB \n",
      "    H2O cluster total cores:    4 \n",
      "    H2O cluster allowed cores:  4 \n",
      "    H2O cluster healthy:        TRUE \n",
      "    H2O Connection ip:          localhost \n",
      "    H2O Connection port:        54321 \n",
      "    H2O Connection proxy:       NA \n",
      "    R Version:                  R version 3.3.1 (2016-06-21) \n",
      "\n",
      "  |======================================================================| 100%\n",
      "  |======================================================================| 100%\n",
      "  |======================================================================| 100%\n",
      "  |======================================================================| 100%\n"
     ]
    },
    {
     "data": {},
     "metadata": {},
     "output_type": "display_data"
    },
    {
     "data": {
      "image/png": "[encoded data removed]",
      "text/plain": [
       "plot without title"
      ]
     },
     "metadata": {},
     "output_type": "display_data"
    }
   ],
   "source": [
    "# Initialse h2o.\n",
    "h2o.init(nthreads = -1)\n",
    "\n",
    "# Cast the trainig and test sets as h2o objects.\n",
    "h2_tr <- as.h2o(feed.training,\"h2_tr\")\n",
    "h2_ts <- as.h2o(feed.testing,\"h2_ts\")\n",
    "\n",
    "\n",
    "# Visualise using autoencoder.\n",
    "AE <- h2o.deeplearning(\n",
    "    x = 1:(ncol(feed.training) - 1),\n",
    "    training_frame = h2_tr,\n",
    "    hidden = c(33, 23, 13, 3, 2, 3, 13, 23, 33),\n",
    "    epochs = 600,\n",
    "    activation = \"Tanh\",\n",
    "    autoencoder = TRUE,\n",
    "    export_weights_and_biases = TRUE\n",
    ")\n",
    "\n",
    "# Visualise autoencoder output\n",
    "tr_sup_ft <- h2o.deepfeatures(AE, h2_tr, layer = 5)\n",
    "pltData <- as.data.frame(tr_sup_ft)\n",
    "\n",
    "\n",
    "ggplot(pltData, aes(pltData$DF.L5.C1, pltData$DF.L5.C2, color = feed.training$Result)) + geom_point()"
   ]
  },
  {
   "cell_type": "code",
   "execution_count": 58,
   "metadata": {
    "collapsed": true
   },
   "outputs": [],
   "source": [
    "# Helper to bind features.\n",
    "BindDeepFeatures <- function(features,weights){\n",
    "\n",
    "    # Attach the autoencoder features.\n",
    "    dFtMtx <- matrix(nrow = nrow(features),ncol = 13) # Genereate a container for the new features.\n",
    "\n",
    "    ftMtx_ <- as.matrix(features) # Cast input as matrix.\n",
    "    pb_ <- txtProgressBar(style = 3) # Progress bar.\n",
    "    for(i in 1:nrow(ftMtx_)){\n",
    "\n",
    "        # Drop down through teh layers.\n",
    "        tmp__ <- weights[[1]] %*% ftMtx_[i,]\n",
    "        tmp__ <- weights[[2]] %*% tmp__\n",
    "        tmp__ <- weights[[3]] %*% tmp__\n",
    "\n",
    "        tmp__ <- t(tmp__) # Transpose\n",
    "\n",
    "\n",
    "        dFtMtx[i,] <- tmp__ # Concatenate\n",
    "        setTxtProgressBar(pb_,i/nrow(ftMtx_))\n",
    "        close(pb_)\n",
    "    }\n",
    "\n",
    "    boundMatrix_ <- cbind(ftMtx_,dFtMtx)\n",
    "\n",
    "    return(as.data.frame(boundMatrix_))\n",
    "}"
   ]
  },
  {
   "cell_type": "markdown",
   "metadata": {},
   "source": [
    "### Step 7 :: Bind Autoencoder Output\n",
    "We will simply read in the weights from a previous run, and wont't use the output from this autoencoder since it's very sensitive to the starting position. For every different autoencoder output we need to retrain our NN model downstream. "
   ]
  },
  {
   "cell_type": "code",
   "execution_count": 59,
   "metadata": {
    "collapsed": false
   },
   "outputs": [
    {
     "name": "stdout",
     "output_type": "stream",
     "text": [
      "  |                                                                      |   0%\n",
      "  |                                                                      |   0%\n",
      "  |======================================================================| 100%"
     ]
    }
   ],
   "source": [
    "# Read in the weights\n",
    "ae.weights <- readRDS(\"AutoEncoderWeights.rds\")\n",
    "\n",
    "# Use the method we defined above to bind the features.\n",
    "feed.training.deep <- BindDeepFeatures(feed.training[,-ncol(feed.training)],ae.weights)\n",
    "feed.testing.deep <- BindDeepFeatures(feed.testing[,-ncol(feed.testing)],ae.weights)"
   ]
  },
  {
   "cell_type": "code",
   "execution_count": 60,
   "metadata": {
    "collapsed": false
   },
   "outputs": [
    {
     "name": "stdout",
     "output_type": "stream",
     "text": [
      "  |======================================================================| 100%\n",
      "  |======================================================================| 100%\n"
     ]
    }
   ],
   "source": [
    "# rebind the labels.\n",
    "feed.training.deep <- as.data.frame(cbind(feed.training.deep,training[,\"Result\"]))\n",
    "colnames(feed.training.deep)[ncol(feed.training.deep)] <- \"Result\"\n",
    "feed.training.deep[,\"Result\"] <- as.factor(feed.training.deep[,\"Result\"])\n",
    "feed.testing.deep <- as.data.frame(cbind(feed.testing.deep,testing[,\"Result\"]))\n",
    "colnames(feed.testing.deep)[ncol(feed.testing.deep)] <- \"Result\"\n",
    "feed.testing.deep[,\"Result\"] <- as.factor(feed.testing.deep[,\"Result\"])\n",
    "\n",
    "## Cast as h2o object.\n",
    "h2_tr <- as.h2o(feed.training.deep,\"h2_tr\")\n",
    "h2_ts <- as.h2o(feed.testing.deep,\"h2_ts\")"
   ]
  },
  {
   "cell_type": "markdown",
   "metadata": {},
   "source": [
    "## Training the Neural Network.\n",
    "Neural networks are inherently difficult to train. They are prone to fast overfitting and the loss function is non convex with many local minima. So it's somewhat of a black art in getting it right. In this assignment alone i have built over 100 neural networks on a very very slow core i5."
   ]
  },
  {
   "cell_type": "code",
   "execution_count": 61,
   "metadata": {
    "collapsed": true
   },
   "outputs": [],
   "source": [
    "if(isRetrainAllowed){\n",
    "    dl_8 <- h2o.deeplearning(# 37.5%\n",
    "    x = 1:(ncol(h2_tr) - 1),\n",
    "    y = ncol(h2_tr),\n",
    "    training_frame = h2_tr,\n",
    "    validation_frame = h2_ts,\n",
    "    distribution = \"multinomial\",\n",
    "    activation = \"MaxoutWithDropout\",\n",
    "    hidden = c(400, 600, 400),\n",
    "    l2 = 5e-5,\n",
    "    epochs = 10,\n",
    "    nfolds = 10,\n",
    "    balance_classes = TRUE,\n",
    "    input_dropout_ratio = 0.1,\n",
    "    loss = \"CrossEntropy\",\n",
    "    classification_stop = 0.45\n",
    ")\n",
    "\n",
    "\n",
    "prd_8 <- h2o.predict(dl_8, h2_ts)\n",
    "prd_8 <- as.data.frame(prd_8)\n",
    "sum(as.numeric(prd_8$predict) == as.numeric(feed.testing.deep$Result)) / 599\n",
    "}"
   ]
  },
  {
   "cell_type": "markdown",
   "metadata": {},
   "source": [
    "## The predict.deep method\n",
    "Below is the implementation of the predict.deep method. the code comments will explain everything that happens."
   ]
  },
  {
   "cell_type": "code",
   "execution_count": 62,
   "metadata": {
    "collapsed": true
   },
   "outputs": [],
   "source": [
    "predict.deep <- function(data,h2oModel = NULL) {\n",
    "    \n",
    "    # Input parameters.\n",
    "    # data :: A dataframe of the input features. Does not take ID or Response variable.\n",
    "\n",
    "    # Assert that input featurespace must be 10 wide.\n",
    "    if (ncol(data) != 10) {\n",
    "        stop(\"Input features do not match the prostate.csv feature length. Have you forgotton to remove ID and Result columns ?\")\n",
    "    }\n",
    "\n",
    "    # Assert that h2o is available \n",
    "    require(h2o)\n",
    "    require(caret)\n",
    "    h2o.init(nthreads = -1)\n",
    "    # Assert that h2o version is correct\n",
    "    if (h2o.getVersion() != \"3.10.0.8\") {\n",
    "        stop(\"You have a different version of H2O, get the version 3.10.0.8\")\n",
    "    }\n",
    "\n",
    "\n",
    "    ## Start feature engineering.\n",
    "\n",
    "    # Step 1 feature scaling and centering with preprocessor.\n",
    "    fe.preProcessor <- readRDS(\"fePreProcessor.rds\")\n",
    "\n",
    "    tr.csyj <- predict(fe.preProcessor, data) # make prediction on new data.\n",
    "\n",
    "\n",
    "    ## Step 2 :: Spatial Sign transform\n",
    "    tr.csyj.ss <- as.data.frame(caret::spatialSign(tr.csyj))\n",
    "\n",
    "    # Bind the new data and redo column names\n",
    "    feed.training <- cbind(tr.csyj, tr.csyj.ss)\n",
    "    colnames(feed.training) <- paste(\"FT\", 1:ncol(feed.training), sep = \"\")\n",
    "\n",
    "    ## Step 3 :: Add PCA results\n",
    "    # Read in the model\n",
    "    pcaModel_ <- readRDS(\"pcaModel.rds\")\n",
    "\n",
    "    tr.csyj.ss.pca <- pcaModel_$prcompObj$rotation * feed.training # matrix multiply the weights into the features.\n",
    "    feed.training <- cbind(feed.training, tr.csyj.ss.pca) # Bind the existing data.\n",
    "    colnames(feed.training) <- paste(\"FT\", 1:ncol(feed.training), sep = \"\") # Generalise feature names.\n",
    "\n",
    "    ## Step 4 :: Row sums of 2 PCA components.\n",
    "    tr.csyj.ss.pca.sum <- rowSums((pcaModel_$prcompObj$rotation * tr.csyj.ss.pca)[, 1:2])\n",
    "    feed.training <- cbind(feed.training, tr.csyj.ss.pca.sum)\n",
    "    colnames(feed.training) <- paste(\"FT\", 1:ncol(feed.training), sep = \"\")\n",
    "\n",
    "    ## Step 5 :: Frequency values of features\n",
    "    source(\"FE.r\")\n",
    "    tr.colsum <- my.f2cnt(data, \"ATT1\", \"ATT2\")\n",
    "    feed.training <- cbind(feed.training, tr.colsum)\n",
    "    colnames(feed.training) <- paste(\"FT\", 1:ncol(feed.training), sep = \"\")\n",
    "\n",
    "    # Step 6 :: Scale and center everything\n",
    "\n",
    "    feed.training <- scale(feed.training)\n",
    "\n",
    "    # Step 7 :: Bind autoencoder output\n",
    "\n",
    "    # Read in the autoencoder weights\n",
    "    ae.weights <- readRDS(\"AutoEncoderWeights.rds\")\n",
    "\n",
    "    # Helper to bind features.\n",
    "    BindDeepFeatures <- function(features, weights) {\n",
    "\n",
    "        # Attach the autoencoder features.\n",
    "        dFtMtx <- matrix(nrow = nrow(features), ncol = 13) # Genereate a container for the new features.\n",
    "\n",
    "        ftMtx_ <- as.matrix(features) # Cast input as matrix.\n",
    "        for (i in 1:nrow(ftMtx_)) {\n",
    "\n",
    "            # Drop down through teh layers.\n",
    "            tmp__ <- weights[[1]] %*% ftMtx_[i,]\n",
    "            tmp__ <- weights[[2]] %*% tmp__\n",
    "            tmp__ <- weights[[3]] %*% tmp__\n",
    "\n",
    "            tmp__ <- t(tmp__) # Transpose\n",
    "\n",
    "\n",
    "            dFtMtx[i,] <- tmp__ # Concatenate\n",
    "        }\n",
    "\n",
    "        boundMatrix_ <- cbind(ftMtx_, dFtMtx)\n",
    "\n",
    "        return(as.data.frame(boundMatrix_))\n",
    "    }\n",
    "\n",
    "    # bind features\n",
    "    feed.training.deep <- BindDeepFeatures(feed.training, ae.weights)\n",
    "\n",
    "    # Cast h2o object.\n",
    "    h2_tr <- as.h2o(feed.training.deep, \"h2_tr\")\n",
    "\n",
    "    # Get the neural network model or use passed model.\n",
    "    if (is.null(h2oModel)) {\n",
    "        mdl_ <- h2o.loadModel(\"DeepLearning_model_R_1480681170824_1\")\n",
    "    } else {\n",
    "        mdl_ <- h2oModel;\n",
    "    }\n",
    "\n",
    "    pred <- as.data.frame(h2o.predict(mdl_, h2_tr)) # return predictions as dataframe.\n",
    "\n",
    "    return(pred[,\"predict\"])\n",
    "}"
   ]
  },
  {
   "cell_type": "code",
   "execution_count": 77,
   "metadata": {
    "collapsed": false
   },
   "outputs": [
    {
     "name": "stdout",
     "output_type": "stream",
     "text": [
      " Connection successful!\n",
      "\n",
      "R is connected to the H2O cluster: \n",
      "    H2O cluster uptime:         8 minutes 26 seconds \n",
      "    H2O cluster version:        3.10.0.8 \n",
      "    H2O cluster version age:    1 month and 23 days  \n",
      "    H2O cluster name:           H2O_started_from_R_jmills_uem511 \n",
      "    H2O cluster total nodes:    1 \n",
      "    H2O cluster total memory:   1.72 GB \n",
      "    H2O cluster total cores:    4 \n",
      "    H2O cluster allowed cores:  4 \n",
      "    H2O cluster healthy:        TRUE \n",
      "    H2O Connection ip:          localhost \n",
      "    H2O Connection port:        54321 \n",
      "    H2O Connection proxy:       NA \n",
      "    R Version:                  R version 3.3.1 (2016-06-21) \n",
      "\n",
      "\r",
      "  |                                                                            \r",
      "  |                                                                      |   0%\r",
      "  |                                                                            \r",
      "  |======================================================================| 100%\n",
      "\r",
      "  |                                                                            \r",
      "  |                                                                      |   0%\r",
      "  |                                                                            \r",
      "  |======================================================================| 100%\n"
     ]
    }
   ],
   "source": [
    "pred_dl <- predict.deep(test[,c(-ncol(test))])"
   ]
  },
  {
   "cell_type": "code",
   "execution_count": 78,
   "metadata": {
    "collapsed": false
   },
   "outputs": [
    {
     "data": {
      "text/plain": [
       "Confusion Matrix and Statistics\n",
       "\n",
       "          Reference\n",
       "Prediction   0   1   2   3\n",
       "         0 103  58  48   5\n",
       "         1 101  71  31   1\n",
       "         2  65  45  36   1\n",
       "         3  17   6   9   3\n",
       "\n",
       "Overall Statistics\n",
       "                                        \n",
       "               Accuracy : 0.355         \n",
       "                 95% CI : (0.317, 0.395)\n",
       "    No Information Rate : 0.477         \n",
       "    P-Value [Acc > NIR] : 1             \n",
       "                                        \n",
       "                  Kappa : 0.046         \n",
       " Mcnemar's Test P-Value : 0.00000925    \n",
       "\n",
       "Statistics by Class:\n",
       "\n",
       "                     Class: 0 Class: 1 Class: 2 Class: 3\n",
       "Sensitivity             0.360    0.394    0.290   0.3000\n",
       "Specificity             0.646    0.683    0.767   0.9458\n",
       "Pos Pred Value          0.481    0.348    0.245   0.0857\n",
       "Neg Pred Value          0.526    0.725    0.806   0.9876\n",
       "Prevalence              0.477    0.300    0.207   0.0167\n",
       "Detection Rate          0.172    0.118    0.060   0.0050\n",
       "Detection Prevalence    0.357    0.340    0.245   0.0583\n",
       "Balanced Accuracy       0.503    0.539    0.529   0.6229"
      ]
     },
     "metadata": {},
     "output_type": "display_data"
    }
   ],
   "source": [
    "confusionMatrix(actual, pred_dl)"
   ]
  },
  {
   "cell_type": "markdown",
   "metadata": {
    "collapsed": true
   },
   "source": [
    "---\n",
    "# X. Ensemble the Predictions"
   ]
  },
  {
   "cell_type": "code",
   "execution_count": 402,
   "metadata": {
    "collapsed": false
   },
   "outputs": [],
   "source": [
    "# create a dataframe to store each of the predictions from each of the models we want to ensemble\n",
    "preds_df <- data.frame(matrix(ncol = 0, nrow =600))"
   ]
  },
  {
   "cell_type": "code",
   "execution_count": 403,
   "metadata": {
    "collapsed": false
   },
   "outputs": [],
   "source": [
    "preds_df$pred_knn <- pred_knn\n",
    "preds_df$pred_xgb <- pred_xgb\n",
    "preds_df$pred_rf <- pred_rforest\n",
    "preds_df$pred_xgb_prcomp <- pred_xgb_prcomp\n",
    "preds_df$pred_dl <- pred_dl"
   ]
  },
  {
   "cell_type": "code",
   "execution_count": 404,
   "metadata": {
    "collapsed": false
   },
   "outputs": [
    {
     "data": {
      "text/html": [
       "<table>\n",
       "<thead><tr><th></th><th scope=col>pred_knn</th><th scope=col>pred_xgb</th><th scope=col>pred_rf</th><th scope=col>pred_xgb_prcomp</th></tr></thead>\n",
       "<tbody>\n",
       "\t<tr><th scope=row>1</th><td>1</td><td>1</td><td>3</td><td>1</td></tr>\n",
       "\t<tr><th scope=row>2</th><td>1</td><td>1</td><td>1</td><td>1</td></tr>\n",
       "\t<tr><th scope=row>3</th><td>1</td><td>0</td><td>0</td><td>0</td></tr>\n",
       "\t<tr><th scope=row>4</th><td>1</td><td>0</td><td>1</td><td>0</td></tr>\n",
       "\t<tr><th scope=row>5</th><td>1</td><td>1</td><td>2</td><td>1</td></tr>\n",
       "\t<tr><th scope=row>6</th><td>0</td><td>0</td><td>3</td><td>0</td></tr>\n",
       "</tbody>\n",
       "</table>\n"
      ],
      "text/latex": [
       "\\begin{tabular}{r|llll}\n",
       "  & pred\\_knn & pred\\_xgb & pred\\_rf & pred\\_xgb\\_prcomp\\\\\n",
       "\\hline\n",
       "\t1 & 1 & 1 & 3 & 1\\\\\n",
       "\t2 & 1 & 1 & 1 & 1\\\\\n",
       "\t3 & 1 & 0 & 0 & 0\\\\\n",
       "\t4 & 1 & 0 & 1 & 0\\\\\n",
       "\t5 & 1 & 1 & 2 & 1\\\\\n",
       "\t6 & 0 & 0 & 3 & 0\\\\\n",
       "\\end{tabular}\n"
      ],
      "text/plain": [
       "  pred_knn pred_xgb pred_rf pred_xgb_prcomp\n",
       "1        1        1       3               1\n",
       "2        1        1       1               1\n",
       "3        1        0       0               0\n",
       "4        1        0       1               0\n",
       "5        1        1       2               1\n",
       "6        0        0       3               0"
      ]
     },
     "metadata": {},
     "output_type": "display_data"
    }
   ],
   "source": [
    "head(preds_df)"
   ]
  },
  {
   "cell_type": "code",
   "execution_count": 405,
   "metadata": {
    "collapsed": false
   },
   "outputs": [
    {
     "data": {
      "text/plain": [
       "\n",
       "  0   1   2   3 \n",
       "216 236 113  35 "
      ]
     },
     "metadata": {},
     "output_type": "display_data"
    }
   ],
   "source": [
    "table(preds_df$pred_xgb)"
   ]
  },
  {
   "cell_type": "code",
   "execution_count": 406,
   "metadata": {
    "collapsed": false
   },
   "outputs": [],
   "source": [
    "preds_df <- Udf.Utilities.MajorityVotePredictions(preds_df)"
   ]
  },
  {
   "cell_type": "code",
   "execution_count": 407,
   "metadata": {
    "collapsed": false
   },
   "outputs": [
    {
     "data": {
      "text/html": [
       "<table>\n",
       "<thead><tr><th></th><th scope=col>pred_knn</th><th scope=col>pred_xgb</th><th scope=col>pred_rf</th><th scope=col>pred_xgb_prcomp</th><th scope=col>majority_pred</th></tr></thead>\n",
       "<tbody>\n",
       "\t<tr><th scope=row>1</th><td>1</td><td>1</td><td>3</td><td>1</td><td>1</td></tr>\n",
       "\t<tr><th scope=row>2</th><td>1</td><td>1</td><td>1</td><td>1</td><td>1</td></tr>\n",
       "\t<tr><th scope=row>3</th><td>1</td><td>0</td><td>0</td><td>0</td><td>0</td></tr>\n",
       "\t<tr><th scope=row>4</th><td>1</td><td>0</td><td>1</td><td>0</td><td>1</td></tr>\n",
       "\t<tr><th scope=row>5</th><td>1</td><td>1</td><td>2</td><td>1</td><td>1</td></tr>\n",
       "\t<tr><th scope=row>6</th><td>0</td><td>0</td><td>3</td><td>0</td><td>0</td></tr>\n",
       "</tbody>\n",
       "</table>\n"
      ],
      "text/latex": [
       "\\begin{tabular}{r|lllll}\n",
       "  & pred\\_knn & pred\\_xgb & pred\\_rf & pred\\_xgb\\_prcomp & majority\\_pred\\\\\n",
       "\\hline\n",
       "\t1 & 1 & 1 & 3 & 1 & 1\\\\\n",
       "\t2 & 1 & 1 & 1 & 1 & 1\\\\\n",
       "\t3 & 1 & 0 & 0 & 0 & 0\\\\\n",
       "\t4 & 1 & 0 & 1 & 0 & 1\\\\\n",
       "\t5 & 1 & 1 & 2 & 1 & 1\\\\\n",
       "\t6 & 0 & 0 & 3 & 0 & 0\\\\\n",
       "\\end{tabular}\n"
      ],
      "text/plain": [
       "  pred_knn pred_xgb pred_rf pred_xgb_prcomp majority_pred\n",
       "1        1        1       3               1             1\n",
       "2        1        1       1               1             1\n",
       "3        1        0       0               0             0\n",
       "4        1        0       1               0             1\n",
       "5        1        1       2               1             1\n",
       "6        0        0       3               0             0"
      ]
     },
     "metadata": {},
     "output_type": "display_data"
    }
   ],
   "source": [
    "head(preds_df)"
   ]
  },
  {
   "cell_type": "code",
   "execution_count": 408,
   "metadata": {
    "collapsed": false
   },
   "outputs": [
    {
     "data": {
      "text/plain": [
       "Confusion Matrix and Statistics\n",
       "\n",
       "          Reference\n",
       "Prediction  0  1  2  3\n",
       "         0 82 89 32 11\n",
       "         1 80 96 22  6\n",
       "         2 63 60 18  6\n",
       "         3 18 10  6  1\n",
       "\n",
       "Overall Statistics\n",
       "                                        \n",
       "               Accuracy : 0.328         \n",
       "                 95% CI : (0.291, 0.368)\n",
       "    No Information Rate : 0.425         \n",
       "    P-Value [Acc > NIR] : 1             \n",
       "                                        \n",
       "                  Kappa : 0.008         \n",
       " Mcnemar's Test P-Value : 0.0000266     \n",
       "\n",
       "Statistics by Class:\n",
       "\n",
       "                     Class: 0 Class: 1 Class: 2 Class: 3\n",
       "Sensitivity             0.337    0.376    0.231  0.04167\n",
       "Specificity             0.630    0.687    0.753  0.94097\n",
       "Pos Pred Value          0.383    0.471    0.122  0.02857\n",
       "Neg Pred Value          0.583    0.598    0.868  0.95929\n",
       "Prevalence              0.405    0.425    0.130  0.04000\n",
       "Detection Rate          0.137    0.160    0.030  0.00167\n",
       "Detection Prevalence    0.357    0.340    0.245  0.05833\n",
       "Balanced Accuracy       0.484    0.532    0.492  0.49132"
      ]
     },
     "metadata": {},
     "output_type": "display_data"
    }
   ],
   "source": [
    "confusionMatrix(actual, preds_df$majority_pred)"
   ]
  },
  {
   "cell_type": "markdown",
   "metadata": {},
   "source": [
    "---\n",
    "# X. Summary Report"
   ]
  },
  {
   "cell_type": "markdown",
   "metadata": {
    "collapsed": true
   },
   "source": [
    "# References <a class=\"anchor\" id=\"References\"></a>"
   ]
  },
  {
   "cell_type": "markdown",
   "metadata": {},
   "source": [
    "James, G., Witten, D., Hastie, T., Tibshirani, R. (2015). \"Introduction to Statistical Learning with Applications in R\". New York: Springer.  \n",
    "\n",
    "Kuhn, M., Johnson, K. (2013). \"Applied Predictive Modeling\", New York: Springer."
   ]
  },
  {
   "cell_type": "code",
   "execution_count": null,
   "metadata": {
    "collapsed": true
   },
   "outputs": [],
   "source": []
  }
 ],
 "metadata": {
  "anaconda-cloud": {},
  "kernelspec": {
   "display_name": "R",
   "language": "R",
   "name": "ir"
  },
  "language_info": {
   "codemirror_mode": "r",
   "file_extension": ".r",
   "mimetype": "text/x-r-source",
   "name": "R",
   "pygments_lexer": "r",
   "version": "3.3.1"
  }
 },
 "nbformat": 4,
 "nbformat_minor": 0
}
